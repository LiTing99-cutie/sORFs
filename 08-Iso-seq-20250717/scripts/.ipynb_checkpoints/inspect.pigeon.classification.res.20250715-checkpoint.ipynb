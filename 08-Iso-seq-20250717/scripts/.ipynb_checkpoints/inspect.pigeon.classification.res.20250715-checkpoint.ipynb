{
 "cells": [
  {
   "cell_type": "code",
   "execution_count": 1,
   "id": "03dfeb21-24d5-41b8-9b9a-7abd8fd1c9d6",
   "metadata": {
    "ExecuteTime": {
     "end_time": "2025-08-01T12:30:18.382481Z",
     "start_time": "2025-08-01T12:30:15.778977Z"
    }
   },
   "outputs": [
    {
     "name": "stderr",
     "output_type": "stream",
     "text": [
      "/home/user/data3/lit/anaconda3/lib/python3.9/site-packages/pandas/core/computation/expressions.py:21: UserWarning: Pandas requires version '2.8.4' or newer of 'numexpr' (version '2.7.3' currently installed).\n",
      "  from pandas.core.computation.check import NUMEXPR_INSTALLED\n"
     ]
    }
   ],
   "source": [
    "import pandas as pd\n",
    "pd.set_option('display.width', 1000)  # 设置最大行宽度\n",
    "pd.set_option('display.max_columns', None)  # 显示所有列"
   ]
  },
  {
   "cell_type": "code",
   "execution_count": 2,
   "id": "7a01c109-503e-4030-9357-77026f1b03c7",
   "metadata": {
    "ExecuteTime": {
     "end_time": "2025-08-01T12:30:21.754976Z",
     "start_time": "2025-08-01T12:30:19.480561Z"
    }
   },
   "outputs": [],
   "source": [
    "collapsed_filtered=pd.read_csv(\"../processed/classify/collapsed_classification.filtered_lite_classification.txt\",sep='\\t')"
   ]
  },
  {
   "cell_type": "code",
   "execution_count": 3,
   "id": "c57a1c99-2147-4bcf-93d9-6c46e8e14afb",
   "metadata": {
    "ExecuteTime": {
     "end_time": "2025-08-01T12:30:22.820913Z",
     "start_time": "2025-08-01T12:30:22.814937Z"
    }
   },
   "outputs": [
    {
     "data": {
      "text/plain": [
       "Index(['isoform', 'chrom', 'strand', 'length', 'exons', 'structural_category', 'associated_gene', 'associated_transcript', 'ref_length', 'ref_exons', 'diff_to_TSS', 'diff_to_TTS', 'diff_to_gene_TSS', 'diff_to_gene_TTS', 'subcategory', 'RTS_stage', 'all_canonical', 'min_sample_cov', 'min_cov', 'min_cov_pos', 'sd_cov', 'FL.BioSample_6', 'FL_TPM.BioSample_6', 'FL_TPM.BioSample_6_log10', 'n_indels', 'n_indels_junc', 'bite', 'iso_exp', 'gene_exp', 'ratio_exp', 'FSM_class', 'coding', 'ORF_length', 'CDS_length', 'CDS_start', 'CDS_end', 'CDS_genomic_start', 'CDS_genomic_end', 'predicted_NMD', 'perc_A_downstream_TTS', 'seq_A_downstream_TTS', 'dist_to_CAGE_peak', 'within_CAGE_peak', 'dist_to_polyA_site', 'within_polyA_site', 'polyA_motif', 'polyA_dist', 'polyA_motif_found', 'ORF_seq', 'ratio_TSS', 'fl_assoc', 'cell_barcodes'], dtype='object')"
      ]
     },
     "execution_count": 3,
     "metadata": {},
     "output_type": "execute_result"
    }
   ],
   "source": [
    "collapsed_filtered.columns"
   ]
  },
  {
   "cell_type": "code",
   "execution_count": 4,
   "id": "84d55bfc",
   "metadata": {
    "ExecuteTime": {
     "end_time": "2025-08-01T12:32:35.819491Z",
     "start_time": "2025-08-01T12:32:35.813864Z"
    }
   },
   "outputs": [
    {
     "data": {
      "text/plain": [
       "48"
      ]
     },
     "execution_count": 4,
     "metadata": {},
     "output_type": "execute_result"
    }
   ],
   "source": [
    "collapsed_filtered.columns.get_loc(\"ORF_seq\")"
   ]
  },
  {
   "cell_type": "code",
   "execution_count": 5,
   "id": "7d92d4f1-89aa-4a69-99ad-a5614afb4edc",
   "metadata": {},
   "outputs": [
    {
     "data": {
      "text/html": [
       "<div>\n",
       "<style scoped>\n",
       "    .dataframe tbody tr th:only-of-type {\n",
       "        vertical-align: middle;\n",
       "    }\n",
       "\n",
       "    .dataframe tbody tr th {\n",
       "        vertical-align: top;\n",
       "    }\n",
       "\n",
       "    .dataframe thead th {\n",
       "        text-align: right;\n",
       "    }\n",
       "</style>\n",
       "<table border=\"1\" class=\"dataframe\">\n",
       "  <thead>\n",
       "    <tr style=\"text-align: right;\">\n",
       "      <th></th>\n",
       "      <th>isoform</th>\n",
       "      <th>chrom</th>\n",
       "      <th>strand</th>\n",
       "      <th>length</th>\n",
       "      <th>exons</th>\n",
       "      <th>structural_category</th>\n",
       "      <th>associated_gene</th>\n",
       "      <th>associated_transcript</th>\n",
       "      <th>ref_length</th>\n",
       "      <th>ref_exons</th>\n",
       "      <th>diff_to_TSS</th>\n",
       "      <th>diff_to_TTS</th>\n",
       "      <th>diff_to_gene_TSS</th>\n",
       "      <th>diff_to_gene_TTS</th>\n",
       "      <th>subcategory</th>\n",
       "      <th>RTS_stage</th>\n",
       "      <th>all_canonical</th>\n",
       "      <th>min_sample_cov</th>\n",
       "      <th>min_cov</th>\n",
       "      <th>min_cov_pos</th>\n",
       "      <th>sd_cov</th>\n",
       "      <th>FL.BioSample_6</th>\n",
       "      <th>FL_TPM.BioSample_6</th>\n",
       "      <th>FL_TPM.BioSample_6_log10</th>\n",
       "      <th>n_indels</th>\n",
       "      <th>n_indels_junc</th>\n",
       "      <th>bite</th>\n",
       "      <th>iso_exp</th>\n",
       "      <th>gene_exp</th>\n",
       "      <th>ratio_exp</th>\n",
       "      <th>FSM_class</th>\n",
       "      <th>coding</th>\n",
       "      <th>ORF_length</th>\n",
       "      <th>CDS_length</th>\n",
       "      <th>CDS_start</th>\n",
       "      <th>CDS_end</th>\n",
       "      <th>CDS_genomic_start</th>\n",
       "      <th>CDS_genomic_end</th>\n",
       "      <th>predicted_NMD</th>\n",
       "      <th>perc_A_downstream_TTS</th>\n",
       "      <th>seq_A_downstream_TTS</th>\n",
       "      <th>dist_to_CAGE_peak</th>\n",
       "      <th>within_CAGE_peak</th>\n",
       "      <th>dist_to_polyA_site</th>\n",
       "      <th>within_polyA_site</th>\n",
       "      <th>polyA_motif</th>\n",
       "      <th>polyA_dist</th>\n",
       "      <th>polyA_motif_found</th>\n",
       "      <th>ORF_seq</th>\n",
       "      <th>ratio_TSS</th>\n",
       "      <th>fl_assoc</th>\n",
       "      <th>cell_barcodes</th>\n",
       "    </tr>\n",
       "  </thead>\n",
       "  <tbody>\n",
       "    <tr>\n",
       "      <th>0</th>\n",
       "      <td>PB.1.2</td>\n",
       "      <td>chr1</td>\n",
       "      <td>-</td>\n",
       "      <td>3057</td>\n",
       "      <td>4</td>\n",
       "      <td>novel_not_in_catalog</td>\n",
       "      <td>WASH7P</td>\n",
       "      <td>novel</td>\n",
       "      <td>1351.0</td>\n",
       "      <td>11.0</td>\n",
       "      <td>NaN</td>\n",
       "      <td>NaN</td>\n",
       "      <td>211.0</td>\n",
       "      <td>2.0</td>\n",
       "      <td>intron_retention</td>\n",
       "      <td>FALSE</td>\n",
       "      <td>canonical</td>\n",
       "      <td>NaN</td>\n",
       "      <td>NaN</td>\n",
       "      <td>NaN</td>\n",
       "      <td>NaN</td>\n",
       "      <td>3</td>\n",
       "      <td>0.410029</td>\n",
       "      <td>-0.387186</td>\n",
       "      <td>NaN</td>\n",
       "      <td>NaN</td>\n",
       "      <td>False</td>\n",
       "      <td>NaN</td>\n",
       "      <td>NaN</td>\n",
       "      <td>NaN</td>\n",
       "      <td>B</td>\n",
       "      <td>non_coding</td>\n",
       "      <td>NaN</td>\n",
       "      <td>NaN</td>\n",
       "      <td>NaN</td>\n",
       "      <td>NaN</td>\n",
       "      <td>NaN</td>\n",
       "      <td>NaN</td>\n",
       "      <td>NaN</td>\n",
       "      <td>40.0</td>\n",
       "      <td>AACAGTGTGCTTTTAATAAA</td>\n",
       "      <td>NaN</td>\n",
       "      <td>NaN</td>\n",
       "      <td>NaN</td>\n",
       "      <td>NaN</td>\n",
       "      <td>NaN</td>\n",
       "      <td>NaN</td>\n",
       "      <td>NaN</td>\n",
       "      <td>NaN</td>\n",
       "      <td>NaN</td>\n",
       "      <td>3</td>\n",
       "      <td>NaN</td>\n",
       "    </tr>\n",
       "    <tr>\n",
       "      <th>1</th>\n",
       "      <td>PB.1.4</td>\n",
       "      <td>chr1</td>\n",
       "      <td>-</td>\n",
       "      <td>2744</td>\n",
       "      <td>7</td>\n",
       "      <td>novel_not_in_catalog</td>\n",
       "      <td>WASH7P</td>\n",
       "      <td>novel</td>\n",
       "      <td>1351.0</td>\n",
       "      <td>11.0</td>\n",
       "      <td>NaN</td>\n",
       "      <td>NaN</td>\n",
       "      <td>220.0</td>\n",
       "      <td>2.0</td>\n",
       "      <td>intron_retention</td>\n",
       "      <td>FALSE</td>\n",
       "      <td>canonical</td>\n",
       "      <td>NaN</td>\n",
       "      <td>NaN</td>\n",
       "      <td>NaN</td>\n",
       "      <td>NaN</td>\n",
       "      <td>5</td>\n",
       "      <td>0.683381</td>\n",
       "      <td>-0.165337</td>\n",
       "      <td>NaN</td>\n",
       "      <td>NaN</td>\n",
       "      <td>False</td>\n",
       "      <td>NaN</td>\n",
       "      <td>NaN</td>\n",
       "      <td>NaN</td>\n",
       "      <td>B</td>\n",
       "      <td>non_coding</td>\n",
       "      <td>NaN</td>\n",
       "      <td>NaN</td>\n",
       "      <td>NaN</td>\n",
       "      <td>NaN</td>\n",
       "      <td>NaN</td>\n",
       "      <td>NaN</td>\n",
       "      <td>NaN</td>\n",
       "      <td>40.0</td>\n",
       "      <td>AACAGTGTGCTTTTAATAAA</td>\n",
       "      <td>NaN</td>\n",
       "      <td>NaN</td>\n",
       "      <td>NaN</td>\n",
       "      <td>NaN</td>\n",
       "      <td>NaN</td>\n",
       "      <td>NaN</td>\n",
       "      <td>NaN</td>\n",
       "      <td>NaN</td>\n",
       "      <td>NaN</td>\n",
       "      <td>5</td>\n",
       "      <td>NaN</td>\n",
       "    </tr>\n",
       "    <tr>\n",
       "      <th>2</th>\n",
       "      <td>PB.1.5</td>\n",
       "      <td>chr1</td>\n",
       "      <td>-</td>\n",
       "      <td>2301</td>\n",
       "      <td>9</td>\n",
       "      <td>novel_not_in_catalog</td>\n",
       "      <td>WASH7P</td>\n",
       "      <td>novel</td>\n",
       "      <td>1351.0</td>\n",
       "      <td>11.0</td>\n",
       "      <td>NaN</td>\n",
       "      <td>NaN</td>\n",
       "      <td>10897.0</td>\n",
       "      <td>2.0</td>\n",
       "      <td>intron_retention</td>\n",
       "      <td>FALSE</td>\n",
       "      <td>canonical</td>\n",
       "      <td>NaN</td>\n",
       "      <td>NaN</td>\n",
       "      <td>NaN</td>\n",
       "      <td>NaN</td>\n",
       "      <td>2</td>\n",
       "      <td>0.273352</td>\n",
       "      <td>-0.563277</td>\n",
       "      <td>NaN</td>\n",
       "      <td>NaN</td>\n",
       "      <td>True</td>\n",
       "      <td>NaN</td>\n",
       "      <td>NaN</td>\n",
       "      <td>NaN</td>\n",
       "      <td>B</td>\n",
       "      <td>non_coding</td>\n",
       "      <td>NaN</td>\n",
       "      <td>NaN</td>\n",
       "      <td>NaN</td>\n",
       "      <td>NaN</td>\n",
       "      <td>NaN</td>\n",
       "      <td>NaN</td>\n",
       "      <td>NaN</td>\n",
       "      <td>40.0</td>\n",
       "      <td>AACAGTGTGCTTTTAATAAA</td>\n",
       "      <td>NaN</td>\n",
       "      <td>NaN</td>\n",
       "      <td>NaN</td>\n",
       "      <td>NaN</td>\n",
       "      <td>NaN</td>\n",
       "      <td>NaN</td>\n",
       "      <td>NaN</td>\n",
       "      <td>NaN</td>\n",
       "      <td>NaN</td>\n",
       "      <td>2</td>\n",
       "      <td>NaN</td>\n",
       "    </tr>\n",
       "    <tr>\n",
       "      <th>3</th>\n",
       "      <td>PB.1.6</td>\n",
       "      <td>chr1</td>\n",
       "      <td>-</td>\n",
       "      <td>2227</td>\n",
       "      <td>10</td>\n",
       "      <td>novel_not_in_catalog</td>\n",
       "      <td>WASH7P</td>\n",
       "      <td>novel</td>\n",
       "      <td>1351.0</td>\n",
       "      <td>11.0</td>\n",
       "      <td>NaN</td>\n",
       "      <td>NaN</td>\n",
       "      <td>9960.0</td>\n",
       "      <td>2.0</td>\n",
       "      <td>at_least_one_novel_splicesite</td>\n",
       "      <td>FALSE</td>\n",
       "      <td>canonical</td>\n",
       "      <td>NaN</td>\n",
       "      <td>NaN</td>\n",
       "      <td>NaN</td>\n",
       "      <td>NaN</td>\n",
       "      <td>2</td>\n",
       "      <td>0.273352</td>\n",
       "      <td>-0.563277</td>\n",
       "      <td>NaN</td>\n",
       "      <td>NaN</td>\n",
       "      <td>True</td>\n",
       "      <td>NaN</td>\n",
       "      <td>NaN</td>\n",
       "      <td>NaN</td>\n",
       "      <td>B</td>\n",
       "      <td>non_coding</td>\n",
       "      <td>NaN</td>\n",
       "      <td>NaN</td>\n",
       "      <td>NaN</td>\n",
       "      <td>NaN</td>\n",
       "      <td>NaN</td>\n",
       "      <td>NaN</td>\n",
       "      <td>NaN</td>\n",
       "      <td>40.0</td>\n",
       "      <td>AACAGTGTGCTTTTAATAAA</td>\n",
       "      <td>NaN</td>\n",
       "      <td>NaN</td>\n",
       "      <td>NaN</td>\n",
       "      <td>NaN</td>\n",
       "      <td>NaN</td>\n",
       "      <td>NaN</td>\n",
       "      <td>NaN</td>\n",
       "      <td>NaN</td>\n",
       "      <td>NaN</td>\n",
       "      <td>2</td>\n",
       "      <td>NaN</td>\n",
       "    </tr>\n",
       "    <tr>\n",
       "      <th>4</th>\n",
       "      <td>PB.1.7</td>\n",
       "      <td>chr1</td>\n",
       "      <td>-</td>\n",
       "      <td>1924</td>\n",
       "      <td>9</td>\n",
       "      <td>novel_not_in_catalog</td>\n",
       "      <td>WASH7P</td>\n",
       "      <td>novel</td>\n",
       "      <td>1351.0</td>\n",
       "      <td>11.0</td>\n",
       "      <td>NaN</td>\n",
       "      <td>NaN</td>\n",
       "      <td>223.0</td>\n",
       "      <td>2.0</td>\n",
       "      <td>intron_retention</td>\n",
       "      <td>FALSE</td>\n",
       "      <td>canonical</td>\n",
       "      <td>NaN</td>\n",
       "      <td>NaN</td>\n",
       "      <td>NaN</td>\n",
       "      <td>NaN</td>\n",
       "      <td>2</td>\n",
       "      <td>0.273352</td>\n",
       "      <td>-0.563277</td>\n",
       "      <td>NaN</td>\n",
       "      <td>NaN</td>\n",
       "      <td>True</td>\n",
       "      <td>NaN</td>\n",
       "      <td>NaN</td>\n",
       "      <td>NaN</td>\n",
       "      <td>B</td>\n",
       "      <td>non_coding</td>\n",
       "      <td>NaN</td>\n",
       "      <td>NaN</td>\n",
       "      <td>NaN</td>\n",
       "      <td>NaN</td>\n",
       "      <td>NaN</td>\n",
       "      <td>NaN</td>\n",
       "      <td>NaN</td>\n",
       "      <td>40.0</td>\n",
       "      <td>AACAGTGTGCTTTTAATAAA</td>\n",
       "      <td>NaN</td>\n",
       "      <td>NaN</td>\n",
       "      <td>NaN</td>\n",
       "      <td>NaN</td>\n",
       "      <td>NaN</td>\n",
       "      <td>NaN</td>\n",
       "      <td>NaN</td>\n",
       "      <td>NaN</td>\n",
       "      <td>NaN</td>\n",
       "      <td>2</td>\n",
       "      <td>NaN</td>\n",
       "    </tr>\n",
       "  </tbody>\n",
       "</table>\n",
       "</div>"
      ],
      "text/plain": [
       "  isoform chrom strand  length  exons   structural_category associated_gene associated_transcript  ref_length  ref_exons  diff_to_TSS  diff_to_TTS  diff_to_gene_TSS  diff_to_gene_TTS                    subcategory RTS_stage all_canonical  min_sample_cov  min_cov  min_cov_pos  sd_cov  FL.BioSample_6  FL_TPM.BioSample_6  FL_TPM.BioSample_6_log10  n_indels  n_indels_junc   bite  iso_exp  gene_exp  ratio_exp FSM_class      coding  ORF_length  CDS_length  CDS_start  CDS_end  CDS_genomic_start  CDS_genomic_end  predicted_NMD  perc_A_downstream_TTS  seq_A_downstream_TTS  dist_to_CAGE_peak  within_CAGE_peak  dist_to_polyA_site  within_polyA_site  polyA_motif  polyA_dist  polyA_motif_found  ORF_seq  ratio_TSS  fl_assoc  cell_barcodes\n",
       "0  PB.1.2  chr1      -    3057      4  novel_not_in_catalog          WASH7P                 novel      1351.0       11.0          NaN          NaN             211.0               2.0               intron_retention     FALSE     canonical             NaN      NaN          NaN     NaN               3            0.410029                 -0.387186       NaN            NaN  False      NaN       NaN        NaN         B  non_coding         NaN         NaN        NaN      NaN                NaN              NaN            NaN                   40.0  AACAGTGTGCTTTTAATAAA                NaN               NaN                 NaN                NaN          NaN         NaN                NaN      NaN        NaN         3            NaN\n",
       "1  PB.1.4  chr1      -    2744      7  novel_not_in_catalog          WASH7P                 novel      1351.0       11.0          NaN          NaN             220.0               2.0               intron_retention     FALSE     canonical             NaN      NaN          NaN     NaN               5            0.683381                 -0.165337       NaN            NaN  False      NaN       NaN        NaN         B  non_coding         NaN         NaN        NaN      NaN                NaN              NaN            NaN                   40.0  AACAGTGTGCTTTTAATAAA                NaN               NaN                 NaN                NaN          NaN         NaN                NaN      NaN        NaN         5            NaN\n",
       "2  PB.1.5  chr1      -    2301      9  novel_not_in_catalog          WASH7P                 novel      1351.0       11.0          NaN          NaN           10897.0               2.0               intron_retention     FALSE     canonical             NaN      NaN          NaN     NaN               2            0.273352                 -0.563277       NaN            NaN   True      NaN       NaN        NaN         B  non_coding         NaN         NaN        NaN      NaN                NaN              NaN            NaN                   40.0  AACAGTGTGCTTTTAATAAA                NaN               NaN                 NaN                NaN          NaN         NaN                NaN      NaN        NaN         2            NaN\n",
       "3  PB.1.6  chr1      -    2227     10  novel_not_in_catalog          WASH7P                 novel      1351.0       11.0          NaN          NaN            9960.0               2.0  at_least_one_novel_splicesite     FALSE     canonical             NaN      NaN          NaN     NaN               2            0.273352                 -0.563277       NaN            NaN   True      NaN       NaN        NaN         B  non_coding         NaN         NaN        NaN      NaN                NaN              NaN            NaN                   40.0  AACAGTGTGCTTTTAATAAA                NaN               NaN                 NaN                NaN          NaN         NaN                NaN      NaN        NaN         2            NaN\n",
       "4  PB.1.7  chr1      -    1924      9  novel_not_in_catalog          WASH7P                 novel      1351.0       11.0          NaN          NaN             223.0               2.0               intron_retention     FALSE     canonical             NaN      NaN          NaN     NaN               2            0.273352                 -0.563277       NaN            NaN   True      NaN       NaN        NaN         B  non_coding         NaN         NaN        NaN      NaN                NaN              NaN            NaN                   40.0  AACAGTGTGCTTTTAATAAA                NaN               NaN                 NaN                NaN          NaN         NaN                NaN      NaN        NaN         2            NaN"
      ]
     },
     "execution_count": 5,
     "metadata": {},
     "output_type": "execute_result"
    }
   ],
   "source": [
    "collapsed_filtered.head()\n",
    "# FL开头的列是计数，例如FL.BioSample_6, FL.BioSample_6以及FL_TPM.BioSample_6_log10"
   ]
  },
  {
   "cell_type": "code",
   "execution_count": 6,
   "id": "3cd4196b-f719-44ee-84f7-1eb8bfdc268e",
   "metadata": {},
   "outputs": [
    {
     "data": {
      "text/plain": [
       "7316561"
      ]
     },
     "execution_count": 6,
     "metadata": {},
     "output_type": "execute_result"
    }
   ],
   "source": [
    "collapsed_filtered[\"FL.BioSample_6\"].sum()"
   ]
  },
  {
   "cell_type": "code",
   "execution_count": 7,
   "id": "b120d00e-bfd8-4402-95d3-02dca9c0dc43",
   "metadata": {},
   "outputs": [
    {
     "data": {
      "text/plain": [
       "19133"
      ]
     },
     "execution_count": 7,
     "metadata": {},
     "output_type": "execute_result"
    }
   ],
   "source": [
    "collapsed_filtered['associated_gene'].nunique()\n",
    "# collapsed_filtered['associated_transcript'].nunique()"
   ]
  },
  {
   "cell_type": "code",
   "execution_count": 8,
   "id": "5dfc5df6-18ed-426a-b2d7-46a7848a9ce7",
   "metadata": {
    "scrolled": true
   },
   "outputs": [
    {
     "data": {
      "text/plain": [
       "structural_category\n",
       "incomplete-splice_match    132594\n",
       "full-splice_match          101074\n",
       "novel_in_catalog            52959\n",
       "novel_not_in_catalog        32682\n",
       "fusion                       1417\n",
       "intergenic                    815\n",
       "genic                         589\n",
       "antisense                     352\n",
       "moreJunctions                  54\n",
       "Name: count, dtype: int64"
      ]
     },
     "execution_count": 8,
     "metadata": {},
     "output_type": "execute_result"
    }
   ],
   "source": [
    "collapsed_filtered.structural_category.value_counts()"
   ]
  },
  {
   "cell_type": "code",
   "execution_count": 11,
   "id": "7952ac23",
   "metadata": {},
   "outputs": [
    {
     "data": {
      "text/plain": [
       "subcategory\n",
       "alternative_3end        24492\n",
       "alternative_3end5end    23293\n",
       "alternative_5end        20307\n",
       "mono-exon               18017\n",
       "reference_match         14965\n",
       "Name: count, dtype: int64"
      ]
     },
     "execution_count": 11,
     "metadata": {},
     "output_type": "execute_result"
    }
   ],
   "source": [
    "collapsed_filtered.loc[\n",
    "    collapsed_filtered[\"structural_category\"] == \"full-splice_match\", \n",
    "    \"subcategory\"\n",
    "].value_counts()"
   ]
  },
  {
   "cell_type": "code",
   "execution_count": 12,
   "id": "5a39d979",
   "metadata": {},
   "outputs": [
    {
     "data": {
      "text/plain": [
       "subcategory\n",
       "3prime_fragment      104390\n",
       "5prime_fragment       13789\n",
       "internal_fragment      8903\n",
       "intron_retention       5512\n",
       "Name: count, dtype: int64"
      ]
     },
     "execution_count": 12,
     "metadata": {},
     "output_type": "execute_result"
    }
   ],
   "source": [
    "collapsed_filtered.loc[\n",
    "    collapsed_filtered[\"structural_category\"] == \"incomplete-splice_match\", \n",
    "    \"subcategory\"\n",
    "].value_counts()"
   ]
  },
  {
   "cell_type": "code",
   "execution_count": 9,
   "id": "95654c43-d715-4e87-8ff9-fdeb7fcaade7",
   "metadata": {},
   "outputs": [
    {
     "data": {
      "text/plain": [
       "subcategory\n",
       "3prime_fragment                     104390\n",
       "intron_retention                     31800\n",
       "at_least_one_novel_splicesite        27506\n",
       "alternative_3end                     24492\n",
       "alternative_3end5end                 23293\n",
       "combination_of_known_junctions       20683\n",
       "alternative_5end                     20307\n",
       "mono-exon                            18017\n",
       "reference_match                      14965\n",
       "5prime_fragment                      13789\n",
       "combination_of_known_splicesites     11548\n",
       "internal_fragment                     8903\n",
       "multi-exon                            2806\n",
       "no_subcategory                          37\n",
       "Name: count, dtype: int64"
      ]
     },
     "execution_count": 9,
     "metadata": {},
     "output_type": "execute_result"
    }
   ],
   "source": [
    "collapsed_filtered.subcategory.value_counts()"
   ]
  },
  {
   "cell_type": "markdown",
   "id": "1c2502be-fdbe-4477-9501-0fe4a26a233b",
   "metadata": {},
   "source": [
    "# 查看isoform去掉后缀之后的gene id和实际上的gene id之间的对应关系"
   ]
  },
  {
   "cell_type": "code",
   "execution_count": 9,
   "id": "8dd4b596-487c-47bc-8062-796fdcbd6a2b",
   "metadata": {},
   "outputs": [
    {
     "name": "stdout",
     "output_type": "stream",
     "text": [
      "One-to-many relationships:\n",
      "PB.10027 -> ['LDHB', 'ENSG00000285854']\n",
      "PB.1004 -> ['NSUN4', 'FAAH_NSUN4', 'FAAH']\n",
      "PB.10089 -> ['SOX5', 'novelGene_124540']\n",
      "PB.10100 -> ['ETFRF1', 'ENSG00000274987']\n",
      "PB.10143 -> ['MED21', 'ENSG00000275764', 'ENSG00000275764_MED21']\n",
      "\n",
      "Many-to-one relationships:\n",
      "['PB.19882', 'PB.19884'] -> ABCA5\n",
      "['PB.31732', 'PB.31726'] -> ABI3BP\n",
      "['PB.18491', 'PB.18492'] -> ACSF3\n",
      "['PB.31157', 'PB.31152'] -> ADAMTS9\n",
      "['PB.49264', 'PB.49272'] -> ADAMTSL1\n",
      "\n",
      "Summary: 2071 one-to-many, 309 many-to-one\n"
     ]
    }
   ],
   "source": [
    "df=collapsed_filtered\n",
    "# 去掉第一列的数字后缀\n",
    "df['isoform_base'] = df.iloc[:, 0].str.replace(r'\\.\\d+$', '', regex=True)\n",
    "df['gene'] = df.iloc[:, 6]  # 第7列\n",
    "\n",
    "# 找一对多关系\n",
    "isoform_to_gene = df.groupby('isoform_base')['gene'].agg(set)\n",
    "one_to_many = isoform_to_gene[isoform_to_gene.apply(len) > 1]\n",
    "\n",
    "print(\"One-to-many relationships:\")\n",
    "for i, (isoform, genes) in enumerate(one_to_many.items()):\n",
    "    if i >= 5:  # 只显示前5个\n",
    "        break\n",
    "    print(f\"{isoform} -> {list(genes)}\")\n",
    "\n",
    "# 找多对一关系\n",
    "gene_to_isoform = df.groupby('gene')['isoform_base'].agg(set)\n",
    "many_to_one = gene_to_isoform[gene_to_isoform.apply(len) > 1]\n",
    "\n",
    "print(\"\\nMany-to-one relationships:\")\n",
    "for i, (gene, isoforms) in enumerate(many_to_one.items()):\n",
    "    if i >= 5:  # 只显示前5个\n",
    "        break\n",
    "    print(f\"{list(isoforms)} -> {gene}\")\n",
    "\n",
    "print(f\"\\nSummary: {len(one_to_many)} one-to-many, {len(many_to_one)} many-to-one\")"
   ]
  },
  {
   "cell_type": "code",
   "execution_count": 10,
   "id": "1e47a27d-f434-4e26-a5dd-d2832261fda4",
   "metadata": {},
   "outputs": [
    {
     "data": {
      "text/plain": [
       "322536"
      ]
     },
     "execution_count": 10,
     "metadata": {},
     "output_type": "execute_result"
    }
   ],
   "source": [
    "df['isoform_base'].nunique()\n",
    "df['isoform'].nunique()"
   ]
  }
 ],
 "metadata": {
  "kernelspec": {
   "display_name": "Python 3 (ipykernel)",
   "language": "python",
   "name": "python3"
  },
  "language_info": {
   "codemirror_mode": {
    "name": "ipython",
    "version": 3
   },
   "file_extension": ".py",
   "mimetype": "text/x-python",
   "name": "python",
   "nbconvert_exporter": "python",
   "pygments_lexer": "ipython3",
   "version": "3.9.12"
  },
  "toc": {
   "base_numbering": 1,
   "nav_menu": {},
   "number_sections": true,
   "sideBar": true,
   "skip_h1_title": false,
   "title_cell": "Table of Contents",
   "title_sidebar": "Contents",
   "toc_cell": false,
   "toc_position": {},
   "toc_section_display": true,
   "toc_window_display": false
  }
 },
 "nbformat": 4,
 "nbformat_minor": 5
}
