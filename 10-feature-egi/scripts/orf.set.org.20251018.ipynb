{
 "cells": [
  {
   "cell_type": "code",
   "execution_count": 4,
   "id": "28746e81",
   "metadata": {
    "ExecuteTime": {
     "end_time": "2025-10-18T03:02:42.553353Z",
     "start_time": "2025-10-18T03:02:41.027Z"
    }
   },
   "outputs": [],
   "source": [
    "source(\"/home/user/data2/lit/bin/lit_utils.R\")\n",
    "source(\"/home/user/data3/lit/project/sORFs/sORFs.utils.R\")\n",
    "lib_text()\n",
    "lib_plot()"
   ]
  },
  {
   "cell_type": "code",
   "execution_count": 5,
   "id": "f749db96",
   "metadata": {
    "ExecuteTime": {
     "end_time": "2025-10-18T03:02:45.074600Z",
     "start_time": "2025-10-18T03:02:44.674Z"
    }
   },
   "outputs": [],
   "source": [
    "full_set_p=\"/home/user/data3/lit/project/sORFs/09-CustomDb/formal_20250821/processed/annotation/RibORF_annot/candidate_ORFs/id_convert/augmented.add.custom.id.tsv\"\n",
    "rpkm_N_C_A_p=\"/home/user/data3/lit/project/sORFs/06-RNA-seq/02-output-isoseq-gtf-20250909/expr/rpkm_N_C_A.txt\"\n",
    "trans_gene_map_p=\"/home/user/data3/lit/project/sORFs/10-feature-egi/processed/feature_preprare/isoform.expr.info.txt\"\n",
    "orfs.ribo.3_ways.p=\"/home/user/data3/lit/project/sORFs/01-ribo-seq/analysis/20250813_demo_data_analysis/processed/orfs/merged/orfs.3_ways.txt\"\n",
    "orfs_ms_p=\"/home/user/data3/lit/project/sORFs/02-Mass-spec-20250723/analysis/20250910_c8_protein_map/results/1/add_info/orfs_ms_pb.txt\""
   ]
  },
  {
   "cell_type": "code",
   "execution_count": 6,
   "id": "f6ca724a",
   "metadata": {
    "ExecuteTime": {
     "end_time": "2025-10-18T03:04:44.009550Z",
     "start_time": "2025-10-18T03:03:47.023Z"
    }
   },
   "outputs": [
    {
     "ename": "ERROR",
     "evalue": "Error in scan(file = file, what = what, sep = sep, quote = quote, dec = dec, : line 2 did not have 63 elements\n",
     "output_type": "error",
     "traceback": [
      "Error in scan(file = file, what = what, sep = sep, quote = quote, dec = dec, : line 2 did not have 63 elements\nTraceback:\n",
      "1. read.table(orfs_ms_p)",
      "2. scan(file = file, what = what, sep = sep, quote = quote, dec = dec, \n .     nmax = nrows, skip = 0, na.strings = na.strings, quiet = TRUE, \n .     fill = fill, strip.white = strip.white, blank.lines.skip = blank.lines.skip, \n .     multi.line = FALSE, comment.char = comment.char, allowEscapes = allowEscapes, \n .     flush = flush, encoding = encoding, skipNul = skipNul)"
     ]
    }
   ],
   "source": [
    "fread_c(full_set_p) -> full_set\n",
    "fread_c(rpkm_N_C_A_p) -> rpkm_N_C_A\n",
    "fread_c(trans_gene_map_p) -> trans_gene_map\n",
    "read.table(orfs.ribo.3_ways.p) -> orfs.3_ways\n",
    "fread_c(orfs_ms_p) -> orfs_ms"
   ]
  },
  {
   "cell_type": "code",
   "execution_count": 9,
   "id": "8638f865",
   "metadata": {
    "ExecuteTime": {
     "end_time": "2025-10-18T03:05:32.550184Z",
     "start_time": "2025-10-18T03:05:32.083Z"
    }
   },
   "outputs": [
    {
     "data": {
      "text/html": [
       "<table class=\"dataframe\">\n",
       "<caption>A data.frame: 1 × 12</caption>\n",
       "<thead>\n",
       "\t<tr><th></th><th scope=col>ID</th><th scope=col>Seq</th><th scope=col>Length</th><th scope=col>Chr</th><th scope=col>Strand</th><th scope=col>Transcript_id</th><th scope=col>Type</th><th scope=col>Scodon</th><th scope=col>ORF_start</th><th scope=col>ORF_end</th><th scope=col>CDS_seq</th><th scope=col>ORF_id_custom</th></tr>\n",
       "\t<tr><th></th><th scope=col>&lt;chr&gt;</th><th scope=col>&lt;chr&gt;</th><th scope=col>&lt;int&gt;</th><th scope=col>&lt;chr&gt;</th><th scope=col>&lt;chr&gt;</th><th scope=col>&lt;chr&gt;</th><th scope=col>&lt;chr&gt;</th><th scope=col>&lt;chr&gt;</th><th scope=col>&lt;int&gt;</th><th scope=col>&lt;int&gt;</th><th scope=col>&lt;chr&gt;</th><th scope=col>&lt;chr&gt;</th></tr>\n",
       "</thead>\n",
       "<tbody>\n",
       "\t<tr><th scope=row>1</th><td>PB.41013.1:chr6:+|1|330:5:44|noncoding|GTG</td><td>MRAIWLRHLSPH</td><td>12</td><td>chr6</td><td>+</td><td>PB.41013.1</td><td>noncoding</td><td>GTG</td><td>52995623</td><td>52995662</td><td>gtgagggcgatctggctgcgacatctgtcaccccat</td><td>+chr6:52995623-52995662:MRAIWLRHLSPH</td></tr>\n",
       "</tbody>\n",
       "</table>\n"
      ],
      "text/latex": [
       "A data.frame: 1 × 12\n",
       "\\begin{tabular}{r|llllllllllll}\n",
       "  & ID & Seq & Length & Chr & Strand & Transcript\\_id & Type & Scodon & ORF\\_start & ORF\\_end & CDS\\_seq & ORF\\_id\\_custom\\\\\n",
       "  & <chr> & <chr> & <int> & <chr> & <chr> & <chr> & <chr> & <chr> & <int> & <int> & <chr> & <chr>\\\\\n",
       "\\hline\n",
       "\t1 & PB.41013.1:chr6:+\\textbar{}1\\textbar{}330:5:44\\textbar{}noncoding\\textbar{}GTG & MRAIWLRHLSPH & 12 & chr6 & + & PB.41013.1 & noncoding & GTG & 52995623 & 52995662 & gtgagggcgatctggctgcgacatctgtcaccccat & +chr6:52995623-52995662:MRAIWLRHLSPH\\\\\n",
       "\\end{tabular}\n"
      ],
      "text/markdown": [
       "\n",
       "A data.frame: 1 × 12\n",
       "\n",
       "| <!--/--> | ID &lt;chr&gt; | Seq &lt;chr&gt; | Length &lt;int&gt; | Chr &lt;chr&gt; | Strand &lt;chr&gt; | Transcript_id &lt;chr&gt; | Type &lt;chr&gt; | Scodon &lt;chr&gt; | ORF_start &lt;int&gt; | ORF_end &lt;int&gt; | CDS_seq &lt;chr&gt; | ORF_id_custom &lt;chr&gt; |\n",
       "|---|---|---|---|---|---|---|---|---|---|---|---|---|\n",
       "| 1 | PB.41013.1:chr6:+|1|330:5:44|noncoding|GTG | MRAIWLRHLSPH | 12 | chr6 | + | PB.41013.1 | noncoding | GTG | 52995623 | 52995662 | gtgagggcgatctggctgcgacatctgtcaccccat | +chr6:52995623-52995662:MRAIWLRHLSPH |\n",
       "\n"
      ],
      "text/plain": [
       "  ID                                         Seq          Length Chr  Strand\n",
       "1 PB.41013.1:chr6:+|1|330:5:44|noncoding|GTG MRAIWLRHLSPH 12     chr6 +     \n",
       "  Transcript_id Type      Scodon ORF_start ORF_end \n",
       "1 PB.41013.1    noncoding GTG    52995623  52995662\n",
       "  CDS_seq                              ORF_id_custom                       \n",
       "1 gtgagggcgatctggctgcgacatctgtcaccccat +chr6:52995623-52995662:MRAIWLRHLSPH"
      ]
     },
     "metadata": {},
     "output_type": "display_data"
    },
    {
     "data": {
      "text/html": [
       "<table class=\"dataframe\">\n",
       "<caption>A data.frame: 1 × 4</caption>\n",
       "<thead>\n",
       "\t<tr><th></th><th scope=col>Geneid</th><th scope=col>N</th><th scope=col>C</th><th scope=col>A</th></tr>\n",
       "\t<tr><th></th><th scope=col>&lt;chr&gt;</th><th scope=col>&lt;dbl&gt;</th><th scope=col>&lt;dbl&gt;</th><th scope=col>&lt;dbl&gt;</th></tr>\n",
       "</thead>\n",
       "<tbody>\n",
       "\t<tr><th scope=row>1</th><td>7SK</td><td>10558.8</td><td>222987.8</td><td>116773.3</td></tr>\n",
       "</tbody>\n",
       "</table>\n"
      ],
      "text/latex": [
       "A data.frame: 1 × 4\n",
       "\\begin{tabular}{r|llll}\n",
       "  & Geneid & N & C & A\\\\\n",
       "  & <chr> & <dbl> & <dbl> & <dbl>\\\\\n",
       "\\hline\n",
       "\t1 & 7SK & 10558.8 & 222987.8 & 116773.3\\\\\n",
       "\\end{tabular}\n"
      ],
      "text/markdown": [
       "\n",
       "A data.frame: 1 × 4\n",
       "\n",
       "| <!--/--> | Geneid &lt;chr&gt; | N &lt;dbl&gt; | C &lt;dbl&gt; | A &lt;dbl&gt; |\n",
       "|---|---|---|---|---|\n",
       "| 1 | 7SK | 10558.8 | 222987.8 | 116773.3 |\n",
       "\n"
      ],
      "text/plain": [
       "  Geneid N       C        A       \n",
       "1 7SK    10558.8 222987.8 116773.3"
      ]
     },
     "metadata": {},
     "output_type": "display_data"
    },
    {
     "data": {
      "text/html": [
       "<table class=\"dataframe\">\n",
       "<caption>A data.frame: 1 × 6</caption>\n",
       "<thead>\n",
       "\t<tr><th></th><th scope=col>isoform</th><th scope=col>structural_category</th><th scope=col>associated_gene</th><th scope=col>subcategory</th><th scope=col>FL.BioSample_6</th><th scope=col>FL_TPM.BioSample_6</th></tr>\n",
       "\t<tr><th></th><th scope=col>&lt;chr&gt;</th><th scope=col>&lt;chr&gt;</th><th scope=col>&lt;chr&gt;</th><th scope=col>&lt;chr&gt;</th><th scope=col>&lt;int&gt;</th><th scope=col>&lt;dbl&gt;</th></tr>\n",
       "</thead>\n",
       "<tbody>\n",
       "\t<tr><th scope=row>1</th><td>PB.1.2</td><td>novel_not_in_catalog</td><td>WASH7P</td><td>intron_retention</td><td>3</td><td>0.410029</td></tr>\n",
       "</tbody>\n",
       "</table>\n"
      ],
      "text/latex": [
       "A data.frame: 1 × 6\n",
       "\\begin{tabular}{r|llllll}\n",
       "  & isoform & structural\\_category & associated\\_gene & subcategory & FL.BioSample\\_6 & FL\\_TPM.BioSample\\_6\\\\\n",
       "  & <chr> & <chr> & <chr> & <chr> & <int> & <dbl>\\\\\n",
       "\\hline\n",
       "\t1 & PB.1.2 & novel\\_not\\_in\\_catalog & WASH7P & intron\\_retention & 3 & 0.410029\\\\\n",
       "\\end{tabular}\n"
      ],
      "text/markdown": [
       "\n",
       "A data.frame: 1 × 6\n",
       "\n",
       "| <!--/--> | isoform &lt;chr&gt; | structural_category &lt;chr&gt; | associated_gene &lt;chr&gt; | subcategory &lt;chr&gt; | FL.BioSample_6 &lt;int&gt; | FL_TPM.BioSample_6 &lt;dbl&gt; |\n",
       "|---|---|---|---|---|---|---|\n",
       "| 1 | PB.1.2 | novel_not_in_catalog | WASH7P | intron_retention | 3 | 0.410029 |\n",
       "\n"
      ],
      "text/plain": [
       "  isoform structural_category  associated_gene subcategory      FL.BioSample_6\n",
       "1 PB.1.2  novel_not_in_catalog WASH7P          intron_retention 3             \n",
       "  FL_TPM.BioSample_6\n",
       "1 0.410029          "
      ]
     },
     "metadata": {},
     "output_type": "display_data"
    },
    {
     "data": {
      "text/html": [
       "<table class=\"dataframe\">\n",
       "<caption>A data.frame: 1 × 4</caption>\n",
       "<thead>\n",
       "\t<tr><th></th><th scope=col>V1</th><th scope=col>V2</th><th scope=col>V3</th><th scope=col>V4</th></tr>\n",
       "\t<tr><th></th><th scope=col>&lt;chr&gt;</th><th scope=col>&lt;chr&gt;</th><th scope=col>&lt;chr&gt;</th><th scope=col>&lt;chr&gt;</th></tr>\n",
       "</thead>\n",
       "<tbody>\n",
       "\t<tr><th scope=row>1</th><td>PB.3535.3+chr1:192579235-192579322</td><td>MEKDSYPRFLKSDIYLNLLNDLQANSLK</td><td>PRICE</td><td>+chr1:192579235-192579322:MEKDSYPRFLKSDIYLNLLNDLQANSLK</td></tr>\n",
       "</tbody>\n",
       "</table>\n"
      ],
      "text/latex": [
       "A data.frame: 1 × 4\n",
       "\\begin{tabular}{r|llll}\n",
       "  & V1 & V2 & V3 & V4\\\\\n",
       "  & <chr> & <chr> & <chr> & <chr>\\\\\n",
       "\\hline\n",
       "\t1 & PB.3535.3+chr1:192579235-192579322 & MEKDSYPRFLKSDIYLNLLNDLQANSLK & PRICE & +chr1:192579235-192579322:MEKDSYPRFLKSDIYLNLLNDLQANSLK\\\\\n",
       "\\end{tabular}\n"
      ],
      "text/markdown": [
       "\n",
       "A data.frame: 1 × 4\n",
       "\n",
       "| <!--/--> | V1 &lt;chr&gt; | V2 &lt;chr&gt; | V3 &lt;chr&gt; | V4 &lt;chr&gt; |\n",
       "|---|---|---|---|---|\n",
       "| 1 | PB.3535.3+chr1:192579235-192579322 | MEKDSYPRFLKSDIYLNLLNDLQANSLK | PRICE | +chr1:192579235-192579322:MEKDSYPRFLKSDIYLNLLNDLQANSLK |\n",
       "\n"
      ],
      "text/plain": [
       "  V1                                 V2                           V3   \n",
       "1 PB.3535.3+chr1:192579235-192579322 MEKDSYPRFLKSDIYLNLLNDLQANSLK PRICE\n",
       "  V4                                                    \n",
       "1 +chr1:192579235-192579322:MEKDSYPRFLKSDIYLNLLNDLQANSLK"
      ]
     },
     "metadata": {},
     "output_type": "display_data"
    },
    {
     "data": {
      "text/html": [
       "<table class=\"dataframe\">\n",
       "<caption>A data.frame: 1 × 60</caption>\n",
       "<thead>\n",
       "\t<tr><th></th><th scope=col>ORF_id</th><th scope=col>ORF_type</th><th scope=col>Start_codon</th><th scope=col>Isoform_id</th><th scope=col>Chr</th><th scope=col>Strand</th><th scope=col>ORF_seq</th><th scope=col>ORF_length</th><th scope=col>Geneid</th><th scope=col>Isoform_structural_category</th><th scope=col>⋯</th><th scope=col>syn_age</th><th scope=col>denovo</th><th scope=col>lineage</th><th scope=col>loc_times_blat</th><th scope=col>gene_times_blastn</th><th scope=col>gene_times_blastn_pc</th><th scope=col>Outgroup Homolog</th><th scope=col>lineage_n</th><th scope=col>Outgroup Homolog n</th><th scope=col>Ribo_seq_evidence</th></tr>\n",
       "\t<tr><th></th><th scope=col>&lt;chr&gt;</th><th scope=col>&lt;chr&gt;</th><th scope=col>&lt;chr&gt;</th><th scope=col>&lt;chr&gt;</th><th scope=col>&lt;chr&gt;</th><th scope=col>&lt;chr&gt;</th><th scope=col>&lt;chr&gt;</th><th scope=col>&lt;int&gt;</th><th scope=col>&lt;chr&gt;</th><th scope=col>&lt;chr&gt;</th><th scope=col>⋯</th><th scope=col>&lt;chr&gt;</th><th scope=col>&lt;int&gt;</th><th scope=col>&lt;chr&gt;</th><th scope=col>&lt;int&gt;</th><th scope=col>&lt;int&gt;</th><th scope=col>&lt;int&gt;</th><th scope=col>&lt;chr&gt;</th><th scope=col>&lt;int&gt;</th><th scope=col>&lt;int&gt;</th><th scope=col>&lt;lgl&gt;</th></tr>\n",
       "</thead>\n",
       "<tbody>\n",
       "\t<tr><th scope=row>1</th><td>PB.1.16:chr1:-|66|1611:871:1024|noncoding|GTG</td><td>noncoding</td><td>GTG</td><td>PB.1.16</td><td>chr1</td><td>-</td><td>MLASAPPLPPSTAAPVGQGARQDDSSSSASPSVQGAPREVVDPSGGWPLC</td><td>50</td><td>WASH7P</td><td>novel_not_in_catalog</td><td>⋯</td><td></td><td>NA</td><td></td><td>NA</td><td>NA</td><td>NA</td><td></td><td>NA</td><td>NA</td><td>FALSE</td></tr>\n",
       "</tbody>\n",
       "</table>\n"
      ],
      "text/latex": [
       "A data.frame: 1 × 60\n",
       "\\begin{tabular}{r|lllllllllllllllllllll}\n",
       "  & ORF\\_id & ORF\\_type & Start\\_codon & Isoform\\_id & Chr & Strand & ORF\\_seq & ORF\\_length & Geneid & Isoform\\_structural\\_category & ⋯ & syn\\_age & denovo & lineage & loc\\_times\\_blat & gene\\_times\\_blastn & gene\\_times\\_blastn\\_pc & Outgroup Homolog & lineage\\_n & Outgroup Homolog n & Ribo\\_seq\\_evidence\\\\\n",
       "  & <chr> & <chr> & <chr> & <chr> & <chr> & <chr> & <chr> & <int> & <chr> & <chr> & ⋯ & <chr> & <int> & <chr> & <int> & <int> & <int> & <chr> & <int> & <int> & <lgl>\\\\\n",
       "\\hline\n",
       "\t1 & PB.1.16:chr1:-\\textbar{}66\\textbar{}1611:871:1024\\textbar{}noncoding\\textbar{}GTG & noncoding & GTG & PB.1.16 & chr1 & - & MLASAPPLPPSTAAPVGQGARQDDSSSSASPSVQGAPREVVDPSGGWPLC & 50 & WASH7P & novel\\_not\\_in\\_catalog & ⋯ &  & NA &  & NA & NA & NA &  & NA & NA & FALSE\\\\\n",
       "\\end{tabular}\n"
      ],
      "text/markdown": [
       "\n",
       "A data.frame: 1 × 60\n",
       "\n",
       "| <!--/--> | ORF_id &lt;chr&gt; | ORF_type &lt;chr&gt; | Start_codon &lt;chr&gt; | Isoform_id &lt;chr&gt; | Chr &lt;chr&gt; | Strand &lt;chr&gt; | ORF_seq &lt;chr&gt; | ORF_length &lt;int&gt; | Geneid &lt;chr&gt; | Isoform_structural_category &lt;chr&gt; | ⋯ ⋯ | syn_age &lt;chr&gt; | denovo &lt;int&gt; | lineage &lt;chr&gt; | loc_times_blat &lt;int&gt; | gene_times_blastn &lt;int&gt; | gene_times_blastn_pc &lt;int&gt; | Outgroup Homolog &lt;chr&gt; | lineage_n &lt;int&gt; | Outgroup Homolog n &lt;int&gt; | Ribo_seq_evidence &lt;lgl&gt; |\n",
       "|---|---|---|---|---|---|---|---|---|---|---|---|---|---|---|---|---|---|---|---|---|---|\n",
       "| 1 | PB.1.16:chr1:-|66|1611:871:1024|noncoding|GTG | noncoding | GTG | PB.1.16 | chr1 | - | MLASAPPLPPSTAAPVGQGARQDDSSSSASPSVQGAPREVVDPSGGWPLC | 50 | WASH7P | novel_not_in_catalog | ⋯ | <!----> | NA | <!----> | NA | NA | NA | <!----> | NA | NA | FALSE |\n",
       "\n"
      ],
      "text/plain": [
       "  ORF_id                                        ORF_type  Start_codon\n",
       "1 PB.1.16:chr1:-|66|1611:871:1024|noncoding|GTG noncoding GTG        \n",
       "  Isoform_id Chr  Strand ORF_seq                                           \n",
       "1 PB.1.16    chr1 -      MLASAPPLPPSTAAPVGQGARQDDSSSSASPSVQGAPREVVDPSGGWPLC\n",
       "  ORF_length Geneid Isoform_structural_category ⋯ syn_age denovo lineage\n",
       "1 50         WASH7P novel_not_in_catalog        ⋯         NA            \n",
       "  loc_times_blat gene_times_blastn gene_times_blastn_pc Outgroup Homolog\n",
       "1 NA             NA                NA                                   \n",
       "  lineage_n Outgroup Homolog n Ribo_seq_evidence\n",
       "1 NA        NA                 FALSE            "
      ]
     },
     "metadata": {},
     "output_type": "display_data"
    }
   ],
   "source": [
    "head(full_set,1)\n",
    "head(rpkm_N_C_A,1)\n",
    "head(trans_gene_map,1)\n",
    "head(orfs.3_ways,1)\n",
    "head(orfs_ms,1)"
   ]
  },
  {
   "cell_type": "code",
   "execution_count": 11,
   "id": "0edbdf86",
   "metadata": {
    "ExecuteTime": {
     "end_time": "2025-10-18T03:12:06.826940Z",
     "start_time": "2025-10-18T03:11:54.576Z"
    }
   },
   "outputs": [
    {
     "data": {
      "text/html": [
       "1944992"
      ],
      "text/latex": [
       "1944992"
      ],
      "text/markdown": [
       "1944992"
      ],
      "text/plain": [
       "[1] 1944992"
      ]
     },
     "metadata": {},
     "output_type": "display_data"
    },
    {
     "data": {
      "text/html": [
       "19133"
      ],
      "text/latex": [
       "19133"
      ],
      "text/markdown": [
       "19133"
      ],
      "text/plain": [
       "[1] 19133"
      ]
     },
     "metadata": {},
     "output_type": "display_data"
    },
    {
     "data": {
      "text/html": [
       "322536"
      ],
      "text/latex": [
       "322536"
      ],
      "text/markdown": [
       "322536"
      ],
      "text/plain": [
       "[1] 322536"
      ]
     },
     "metadata": {},
     "output_type": "display_data"
    },
    {
     "data": {
      "text/html": [
       "1088287"
      ],
      "text/latex": [
       "1088287"
      ],
      "text/markdown": [
       "1088287"
      ],
      "text/plain": [
       "[1] 1088287"
      ]
     },
     "metadata": {},
     "output_type": "display_data"
    },
    {
     "data": {
      "text/html": [
       "39078"
      ],
      "text/latex": [
       "39078"
      ],
      "text/markdown": [
       "39078"
      ],
      "text/plain": [
       "[1] 39078"
      ]
     },
     "metadata": {},
     "output_type": "display_data"
    }
   ],
   "source": [
    "nrow(full_set)\n",
    "nrow(rpkm_N_C_A)\n",
    "nrow(trans_gene_map)\n",
    "nrow(orfs.3_ways)\n",
    "nrow(orfs_ms)"
   ]
  },
  {
   "cell_type": "code",
   "execution_count": 13,
   "id": "8f292b7e",
   "metadata": {
    "ExecuteTime": {
     "end_time": "2025-10-18T03:13:38.978668Z",
     "start_time": "2025-10-18T03:12:40.082Z"
    }
   },
   "outputs": [],
   "source": [
    "merge(full_set,trans_gene_map,by.x=\"Transcript_id\",by.y=\"isoform\") %>% merge(rpkm_N_C_A,by.x=\"associated_gene\",by.y=\"Geneid\") -> tmp"
   ]
  },
  {
   "cell_type": "code",
   "execution_count": 16,
   "id": "b53295a0",
   "metadata": {
    "ExecuteTime": {
     "end_time": "2025-10-18T03:15:15.502490Z",
     "start_time": "2025-10-18T03:15:14.023Z"
    }
   },
   "outputs": [
    {
     "data": {
      "text/html": [
       "1291313"
      ],
      "text/latex": [
       "1291313"
      ],
      "text/markdown": [
       "1291313"
      ],
      "text/plain": [
       "[1] 1291313"
      ]
     },
     "metadata": {},
     "output_type": "display_data"
    }
   ],
   "source": [
    "tmp %>% filter(C>=1) -> full_set_out\n",
    "nrow(full_set_out)"
   ]
  },
  {
   "cell_type": "code",
   "execution_count": 20,
   "id": "ca250ebb",
   "metadata": {
    "ExecuteTime": {
     "end_time": "2025-10-18T03:17:06.426714Z",
     "start_time": "2025-10-18T03:17:00.320Z"
    }
   },
   "outputs": [
    {
     "data": {
      "text/html": [
       "216463"
      ],
      "text/latex": [
       "216463"
      ],
      "text/markdown": [
       "216463"
      ],
      "text/plain": [
       "[1] 216463"
      ]
     },
     "metadata": {},
     "output_type": "display_data"
    }
   ],
   "source": [
    "orfs.3_ways %>% distinct(V4) -> orfs.3_ways_unique\n",
    "nrow(orfs.3_ways_unique)\n",
    "merge(full_set,orfs.3_ways_unique,by.x=\"ORF_id_custom\",by.y=\"V4\") -> full_set_ribo"
   ]
  },
  {
   "cell_type": "code",
   "execution_count": 19,
   "id": "2e38a0f9",
   "metadata": {
    "ExecuteTime": {
     "end_time": "2025-10-18T03:16:52.491264Z",
     "start_time": "2025-10-18T03:16:52.086Z"
    }
   },
   "outputs": [
    {
     "data": {
      "text/html": [
       "146477"
      ],
      "text/latex": [
       "146477"
      ],
      "text/markdown": [
       "146477"
      ],
      "text/plain": [
       "[1] 146477"
      ]
     },
     "metadata": {},
     "output_type": "display_data"
    }
   ],
   "source": [
    "nrow(full_set_ribo)"
   ]
  },
  {
   "cell_type": "code",
   "execution_count": 21,
   "id": "e1de9a7b",
   "metadata": {
    "ExecuteTime": {
     "end_time": "2025-10-18T03:18:39.859368Z",
     "start_time": "2025-10-18T03:18:38.620Z"
    }
   },
   "outputs": [],
   "source": [
    "merge(full_set,orfs_ms,by=\"ORF_id_custom\") -> full_set_MS"
   ]
  },
  {
   "cell_type": "code",
   "execution_count": 22,
   "id": "2168a4ad",
   "metadata": {
    "ExecuteTime": {
     "end_time": "2025-10-18T03:18:47.901455Z",
     "start_time": "2025-10-18T03:18:47.500Z"
    }
   },
   "outputs": [
    {
     "data": {
      "text/html": [
       "39078"
      ],
      "text/latex": [
       "39078"
      ],
      "text/markdown": [
       "39078"
      ],
      "text/plain": [
       "[1] 39078"
      ]
     },
     "metadata": {},
     "output_type": "display_data"
    }
   ],
   "source": [
    "nrow(full_set_MS)"
   ]
  },
  {
   "cell_type": "code",
   "execution_count": 39,
   "id": "02e2ed65",
   "metadata": {
    "ExecuteTime": {
     "end_time": "2025-10-18T03:39:53.451412Z",
     "start_time": "2025-10-18T03:39:43.464Z"
    }
   },
   "outputs": [
    {
     "data": {
      "image/png": "[encoded data removed]",
      "text/plain": [
       "plot without title"
      ]
     },
     "metadata": {
      "image/png": {
       "height": 420,
       "width": 420
      }
     },
     "output_type": "display_data"
    }
   ],
   "source": [
    "venn_plot_n(list = list(Cyto=full_set_out$ORF_id_custom,Ribo=full_set_ribo$ORF_id_custom,MS=full_set_MS$ORF_id_custom),auto_scale = T,set_name_size=5)"
   ]
  }
 ],
 "metadata": {
  "kernelspec": {
   "display_name": "R_default_4.2",
   "language": "R",
   "name": "r_default_4.2"
  },
  "language_info": {
   "codemirror_mode": "r",
   "file_extension": ".r",
   "mimetype": "text/x-r-source",
   "name": "R",
   "pygments_lexer": "r",
   "version": "4.2.1"
  },
  "toc": {
   "base_numbering": 1,
   "nav_menu": {},
   "number_sections": true,
   "sideBar": true,
   "skip_h1_title": false,
   "title_cell": "Table of Contents",
   "title_sidebar": "Contents",
   "toc_cell": false,
   "toc_position": {},
   "toc_section_display": true,
   "toc_window_display": false
  }
 },
 "nbformat": 4,
 "nbformat_minor": 5
}
