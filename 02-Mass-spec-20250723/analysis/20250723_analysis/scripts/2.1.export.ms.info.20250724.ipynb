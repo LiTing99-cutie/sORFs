{
 "cells": [
  {
   "cell_type": "code",
   "execution_count": 1,
   "id": "f19e2758-fcda-47f5-8214-d06f8c984187",
   "metadata": {
    "ExecuteTime": {
     "end_time": "2025-07-30T07:17:32.428869Z",
     "start_time": "2025-07-30T07:17:30.505Z"
    }
   },
   "outputs": [],
   "source": [
    "source(\"/home/user/data2/lit/bin/lit_utils.R\")\n",
    "source(\"/home/user/data3/lit/project/sORFs/sORFs.utils.R\")\n",
    "lib_text()\n",
    "lib_plot()"
   ]
  },
  {
   "cell_type": "code",
   "execution_count": 2,
   "id": "c73caab2",
   "metadata": {
    "ExecuteTime": {
     "end_time": "2025-07-30T07:17:40.130655Z",
     "start_time": "2025-07-30T07:17:30.506Z"
    }
   },
   "outputs": [],
   "source": [
    "fread_c(\"../MS_res_from_Galaxy/psm_sep_all.txt\") -> psm_sep_all"
   ]
  },
  {
   "cell_type": "code",
   "execution_count": 3,
   "id": "3709ce8d-2a68-407c-a884-0f91f02689d3",
   "metadata": {
    "ExecuteTime": {
     "end_time": "2025-07-30T07:17:43.824198Z",
     "start_time": "2025-07-30T07:17:30.507Z"
    }
   },
   "outputs": [
    {
     "data": {
      "text/html": [
       "<table class=\"dataframe\">\n",
       "<caption>A data.frame: 6 × 5</caption>\n",
       "<thead>\n",
       "\t<tr><th></th><th scope=col>ORF_id_trans</th><th scope=col>All_psm_n</th><th scope=col>All_peptide_n</th><th scope=col>Unique_psm_n</th><th scope=col>Unique_peptide_n</th></tr>\n",
       "\t<tr><th></th><th scope=col>&lt;chr&gt;</th><th scope=col>&lt;int&gt;</th><th scope=col>&lt;int&gt;</th><th scope=col>&lt;dbl&gt;</th><th scope=col>&lt;dbl&gt;</th></tr>\n",
       "</thead>\n",
       "<tbody>\n",
       "\t<tr><th scope=row>1</th><td>ENST00000000233.10+chr7:127589150-127591299</td><td>2</td><td>1</td><td>0</td><td>0</td></tr>\n",
       "\t<tr><th scope=row>2</th><td>ENST00000000233.10+chr7:127589159-127591299</td><td>9</td><td>1</td><td>0</td><td>0</td></tr>\n",
       "\t<tr><th scope=row>3</th><td>ENST00000003912.7+chr1:24472874-24472910   </td><td>3</td><td>1</td><td>0</td><td>0</td></tr>\n",
       "\t<tr><th scope=row>4</th><td>ENST00000005257.7+chr7:39706646-39706769   </td><td>1</td><td>1</td><td>0</td><td>0</td></tr>\n",
       "\t<tr><th scope=row>5</th><td>ENST00000005257.7+chr7:39706652-39706769   </td><td>1</td><td>1</td><td>0</td><td>0</td></tr>\n",
       "\t<tr><th scope=row>6</th><td>ENST00000005257.7+chr7:39706655-39706769   </td><td>1</td><td>1</td><td>0</td><td>0</td></tr>\n",
       "</tbody>\n",
       "</table>\n"
      ],
      "text/latex": [
       "A data.frame: 6 × 5\n",
       "\\begin{tabular}{r|lllll}\n",
       "  & ORF\\_id\\_trans & All\\_psm\\_n & All\\_peptide\\_n & Unique\\_psm\\_n & Unique\\_peptide\\_n\\\\\n",
       "  & <chr> & <int> & <int> & <dbl> & <dbl>\\\\\n",
       "\\hline\n",
       "\t1 & ENST00000000233.10+chr7:127589150-127591299 & 2 & 1 & 0 & 0\\\\\n",
       "\t2 & ENST00000000233.10+chr7:127589159-127591299 & 9 & 1 & 0 & 0\\\\\n",
       "\t3 & ENST00000003912.7+chr1:24472874-24472910    & 3 & 1 & 0 & 0\\\\\n",
       "\t4 & ENST00000005257.7+chr7:39706646-39706769    & 1 & 1 & 0 & 0\\\\\n",
       "\t5 & ENST00000005257.7+chr7:39706652-39706769    & 1 & 1 & 0 & 0\\\\\n",
       "\t6 & ENST00000005257.7+chr7:39706655-39706769    & 1 & 1 & 0 & 0\\\\\n",
       "\\end{tabular}\n"
      ],
      "text/markdown": [
       "\n",
       "A data.frame: 6 × 5\n",
       "\n",
       "| <!--/--> | ORF_id_trans &lt;chr&gt; | All_psm_n &lt;int&gt; | All_peptide_n &lt;int&gt; | Unique_psm_n &lt;dbl&gt; | Unique_peptide_n &lt;dbl&gt; |\n",
       "|---|---|---|---|---|---|\n",
       "| 1 | ENST00000000233.10+chr7:127589150-127591299 | 2 | 1 | 0 | 0 |\n",
       "| 2 | ENST00000000233.10+chr7:127589159-127591299 | 9 | 1 | 0 | 0 |\n",
       "| 3 | ENST00000003912.7+chr1:24472874-24472910    | 3 | 1 | 0 | 0 |\n",
       "| 4 | ENST00000005257.7+chr7:39706646-39706769    | 1 | 1 | 0 | 0 |\n",
       "| 5 | ENST00000005257.7+chr7:39706652-39706769    | 1 | 1 | 0 | 0 |\n",
       "| 6 | ENST00000005257.7+chr7:39706655-39706769    | 1 | 1 | 0 | 0 |\n",
       "\n"
      ],
      "text/plain": [
       "  ORF_id_trans                                All_psm_n All_peptide_n\n",
       "1 ENST00000000233.10+chr7:127589150-127591299 2         1            \n",
       "2 ENST00000000233.10+chr7:127589159-127591299 9         1            \n",
       "3 ENST00000003912.7+chr1:24472874-24472910    3         1            \n",
       "4 ENST00000005257.7+chr7:39706646-39706769    1         1            \n",
       "5 ENST00000005257.7+chr7:39706652-39706769    1         1            \n",
       "6 ENST00000005257.7+chr7:39706655-39706769    1         1            \n",
       "  Unique_psm_n Unique_peptide_n\n",
       "1 0            0               \n",
       "2 0            0               \n",
       "3 0            0               \n",
       "4 0            0               \n",
       "5 0            0               \n",
       "6 0            0               "
      ]
     },
     "metadata": {},
     "output_type": "display_data"
    }
   ],
   "source": [
    "df=psm_sep_all\n",
    "# 计算psm_n以及peptide_n\n",
    "cus <- function(df){\n",
    "  count(df,Protein) -> pro_psm_n\n",
    "  count(df,Protein,Peptide) %>% count(Protein) -> pro_peptide_n\n",
    "  merge(pro_psm_n,pro_peptide_n,by=\"Protein\") -> m\n",
    "  return(m)\n",
    "}\n",
    "cus(psm_sep_all) %>% rename(ORF_id_trans=Protein,All_psm_n=n.x,All_peptide_n=n.y) -> df_1\n",
    "cus(psm_sep_all %>% filter(PSM_type==\"Unique\")) %>% rename(ORF_id_trans=Protein,Unique_psm_n=n.x,Unique_peptide_n=n.y) -> df_2\n",
    "merge(df_1,df_2,by='ORF_id_trans',all.x = T) -> ms_info\n",
    "ms_info[is.na(ms_info)] <- 0\n",
    "head(ms_info)"
   ]
  },
  {
   "cell_type": "code",
   "execution_count": 4,
   "id": "9585f92f-276f-4e92-af24-750b0852d626",
   "metadata": {
    "ExecuteTime": {
     "end_time": "2025-07-30T07:17:43.924864Z",
     "start_time": "2025-07-30T07:17:30.507Z"
    }
   },
   "outputs": [],
   "source": [
    "create_path(\"../processed/ms_res/\")\n",
    "fwrite_c(ms_info,\"../processed/ms_res/ms_info.txt\")"
   ]
  }
 ],
 "metadata": {
  "kernelspec": {
   "display_name": "R_default_4.2",
   "language": "R",
   "name": "r_default_4.2"
  },
  "language_info": {
   "codemirror_mode": "r",
   "file_extension": ".r",
   "mimetype": "text/x-r-source",
   "name": "R",
   "pygments_lexer": "r",
   "version": "4.2.1"
  },
  "toc": {
   "base_numbering": 1,
   "nav_menu": {},
   "number_sections": true,
   "sideBar": true,
   "skip_h1_title": false,
   "title_cell": "Table of Contents",
   "title_sidebar": "Contents",
   "toc_cell": false,
   "toc_position": {},
   "toc_section_display": true,
   "toc_window_display": false
  }
 },
 "nbformat": 4,
 "nbformat_minor": 5
}
