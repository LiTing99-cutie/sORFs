{
 "cells": [
  {
   "cell_type": "markdown",
   "id": "6ad27994-b98a-420e-b7a7-584ed1a97a68",
   "metadata": {},
   "source": [
    "需要给已经注释的uniprot蛋白添加以下的信息\n",
    "[1] \"ENS_id\"          \"ORF_id_trans\"    \"ORF_id_seq\"      \"Seq\"             \"Scodon\"          \"Type\"            \"Strand\"         \n",
    "[8] \"Chr\"             \"Start\"           \"End\"             \"Length\"          \"Gene_name\"       \"Transcript_type\" \"Gene_type\"      \n",
    "[15] \"CDS_start\"       \"CDS_end\"  \"Unique_psm_n\"\t\"Unique_peptide_n\" \"Ribo_evidence\" \"ENS_p_id\""
   ]
  },
  {
   "cell_type": "code",
   "execution_count": 1,
   "id": "ca2db0a6-730a-4232-881d-75cbcfaaeb1f",
   "metadata": {
    "ExecuteTime": {
     "end_time": "2025-07-30T07:16:39.318228Z",
     "start_time": "2025-07-30T07:16:37.756Z"
    }
   },
   "outputs": [],
   "source": [
    "source(\"/home/user/data2/lit/bin/lit_utils.R\")\n",
    "source(\"/home/user/data3/lit/project/sORFs/sORFs.utils.R\")\n",
    "lib_text()"
   ]
  },
  {
   "cell_type": "code",
   "execution_count": 2,
   "id": "e12e4caa-2d6d-423f-84dc-a64fee552502",
   "metadata": {
    "ExecuteTime": {
     "end_time": "2025-07-30T07:16:39.365593Z",
     "start_time": "2025-07-30T07:16:37.759Z"
    }
   },
   "outputs": [],
   "source": [
    "trans_mul_feature_path <- \"/home/user/data2/lit/project/ZNF271/data/annotation/Ensembl_106_Gencode_v41_Human_Transcript_stable_ID_version_Gene_stable_ID_version_Gene_name_Transcript_type_gene_type.txt\"\n",
    "anno_sep_gpe=\"../processed/uniprot_id_ens_id_PE_type/uniprot.human.sep.15.gpe\"\n",
    "anno_sep_tab=\"../processed/uniprot_id_ens_id_PE_type/tmp/uniprot.human.sep.rmdup.tab\"\n",
    "anno_sep_type_path=\"../processed/uniprot_id_ens_id_PE_type/uniprot.human.sep.id.type.txt\"\n",
    "uniprot_id_ensId=\"../processed/uniprot_id_ens_id_PE_type/perfect_match_to_ensId.uniq.txt\""
   ]
  },
  {
   "cell_type": "code",
   "execution_count": 3,
   "id": "2bc6248c-4969-4ea0-ae1a-635f88c5d249",
   "metadata": {
    "ExecuteTime": {
     "end_time": "2025-07-30T07:16:39.621206Z",
     "start_time": "2025-07-30T07:16:37.763Z"
    }
   },
   "outputs": [
    {
     "data": {
      "text/html": [
       "<table class=\"dataframe\">\n",
       "<caption>A data.frame: 1 × 15</caption>\n",
       "<thead>\n",
       "\t<tr><th></th><th scope=col>V1</th><th scope=col>V2</th><th scope=col>V3</th><th scope=col>V4</th><th scope=col>V5</th><th scope=col>V6</th><th scope=col>V7</th><th scope=col>V8</th><th scope=col>V9</th><th scope=col>V10</th><th scope=col>V11</th><th scope=col>V12</th><th scope=col>V13</th><th scope=col>V14</th><th scope=col>V15</th></tr>\n",
       "\t<tr><th></th><th scope=col>&lt;chr&gt;</th><th scope=col>&lt;chr&gt;</th><th scope=col>&lt;chr&gt;</th><th scope=col>&lt;int&gt;</th><th scope=col>&lt;int&gt;</th><th scope=col>&lt;int&gt;</th><th scope=col>&lt;int&gt;</th><th scope=col>&lt;int&gt;</th><th scope=col>&lt;chr&gt;</th><th scope=col>&lt;chr&gt;</th><th scope=col>&lt;int&gt;</th><th scope=col>&lt;chr&gt;</th><th scope=col>&lt;chr&gt;</th><th scope=col>&lt;chr&gt;</th><th scope=col>&lt;chr&gt;</th></tr>\n",
       "</thead>\n",
       "<tbody>\n",
       "\t<tr><th scope=row>1</th><td>ENST00000344843.12</td><td>chr1</td><td>-</td><td>1401908</td><td>1407293</td><td>1402082</td><td>1407217</td><td>4</td><td>1401908,1405808,1406908,1407130,</td><td>1402256,1405886,1407019,1407293,</td><td>0</td><td>MRPL20</td><td>cmpl</td><td>cmpl</td><td>0,0,0,0,</td></tr>\n",
       "</tbody>\n",
       "</table>\n"
      ],
      "text/latex": [
       "A data.frame: 1 × 15\n",
       "\\begin{tabular}{r|lllllllllllllll}\n",
       "  & V1 & V2 & V3 & V4 & V5 & V6 & V7 & V8 & V9 & V10 & V11 & V12 & V13 & V14 & V15\\\\\n",
       "  & <chr> & <chr> & <chr> & <int> & <int> & <int> & <int> & <int> & <chr> & <chr> & <int> & <chr> & <chr> & <chr> & <chr>\\\\\n",
       "\\hline\n",
       "\t1 & ENST00000344843.12 & chr1 & - & 1401908 & 1407293 & 1402082 & 1407217 & 4 & 1401908,1405808,1406908,1407130, & 1402256,1405886,1407019,1407293, & 0 & MRPL20 & cmpl & cmpl & 0,0,0,0,\\\\\n",
       "\\end{tabular}\n"
      ],
      "text/markdown": [
       "\n",
       "A data.frame: 1 × 15\n",
       "\n",
       "| <!--/--> | V1 &lt;chr&gt; | V2 &lt;chr&gt; | V3 &lt;chr&gt; | V4 &lt;int&gt; | V5 &lt;int&gt; | V6 &lt;int&gt; | V7 &lt;int&gt; | V8 &lt;int&gt; | V9 &lt;chr&gt; | V10 &lt;chr&gt; | V11 &lt;int&gt; | V12 &lt;chr&gt; | V13 &lt;chr&gt; | V14 &lt;chr&gt; | V15 &lt;chr&gt; |\n",
       "|---|---|---|---|---|---|---|---|---|---|---|---|---|---|---|---|\n",
       "| 1 | ENST00000344843.12 | chr1 | - | 1401908 | 1407293 | 1402082 | 1407217 | 4 | 1401908,1405808,1406908,1407130, | 1402256,1405886,1407019,1407293, | 0 | MRPL20 | cmpl | cmpl | 0,0,0,0, |\n",
       "\n"
      ],
      "text/plain": [
       "  V1                 V2   V3 V4      V5      V6      V7      V8\n",
       "1 ENST00000344843.12 chr1 -  1401908 1407293 1402082 1407217 4 \n",
       "  V9                               V10                              V11 V12   \n",
       "1 1401908,1405808,1406908,1407130, 1402256,1405886,1407019,1407293, 0   MRPL20\n",
       "  V13  V14  V15     \n",
       "1 cmpl cmpl 0,0,0,0,"
      ]
     },
     "metadata": {},
     "output_type": "display_data"
    },
    {
     "data": {
      "text/html": [
       "<table class=\"dataframe\">\n",
       "<caption>A data.frame: 1 × 2</caption>\n",
       "<thead>\n",
       "\t<tr><th></th><th scope=col>Uniprot_id</th><th scope=col>Seq</th></tr>\n",
       "\t<tr><th></th><th scope=col>&lt;chr&gt;</th><th scope=col>&lt;chr&gt;</th></tr>\n",
       "</thead>\n",
       "<tbody>\n",
       "\t<tr><th scope=row>1</th><td>sp|A0A0B4J2F0|PIOS1_HUMAN</td><td>MFRRLTFAQLLFATVLGIAGGVYIFQPVFEQYAKDQKELKEKMQLVQESEEKKS</td></tr>\n",
       "</tbody>\n",
       "</table>\n"
      ],
      "text/latex": [
       "A data.frame: 1 × 2\n",
       "\\begin{tabular}{r|ll}\n",
       "  & Uniprot\\_id & Seq\\\\\n",
       "  & <chr> & <chr>\\\\\n",
       "\\hline\n",
       "\t1 & sp\\textbar{}A0A0B4J2F0\\textbar{}PIOS1\\_HUMAN & MFRRLTFAQLLFATVLGIAGGVYIFQPVFEQYAKDQKELKEKMQLVQESEEKKS\\\\\n",
       "\\end{tabular}\n"
      ],
      "text/markdown": [
       "\n",
       "A data.frame: 1 × 2\n",
       "\n",
       "| <!--/--> | Uniprot_id &lt;chr&gt; | Seq &lt;chr&gt; |\n",
       "|---|---|---|\n",
       "| 1 | sp|A0A0B4J2F0|PIOS1_HUMAN | MFRRLTFAQLLFATVLGIAGGVYIFQPVFEQYAKDQKELKEKMQLVQESEEKKS |\n",
       "\n"
      ],
      "text/plain": [
       "  Uniprot_id               \n",
       "1 sp|A0A0B4J2F0|PIOS1_HUMAN\n",
       "  Seq                                                   \n",
       "1 MFRRLTFAQLLFATVLGIAGGVYIFQPVFEQYAKDQKELKEKMQLVQESEEKKS"
      ]
     },
     "metadata": {},
     "output_type": "display_data"
    },
    {
     "data": {
      "text/html": [
       "<table class=\"dataframe\">\n",
       "<caption>A data.frame: 1 × 6</caption>\n",
       "<thead>\n",
       "\t<tr><th></th><th scope=col>Uniprot_id</th><th scope=col>ENS_id</th><th scope=col>Length</th><th scope=col>.</th><th scope=col>.</th><th scope=col>NA</th></tr>\n",
       "\t<tr><th></th><th scope=col>&lt;chr&gt;</th><th scope=col>&lt;chr&gt;</th><th scope=col>&lt;int&gt;</th><th scope=col>&lt;int&gt;</th><th scope=col>&lt;int&gt;</th><th scope=col>&lt;lgl&gt;</th></tr>\n",
       "</thead>\n",
       "<tbody>\n",
       "\t<tr><th scope=row>1</th><td>sp|A0A024R1R8|TMA7B_HUMAN</td><td>ENST00000424496.3</td><td>64</td><td>1</td><td>64</td><td>NA</td></tr>\n",
       "</tbody>\n",
       "</table>\n"
      ],
      "text/latex": [
       "A data.frame: 1 × 6\n",
       "\\begin{tabular}{r|llllll}\n",
       "  & Uniprot\\_id & ENS\\_id & Length & . & . & NA\\\\\n",
       "  & <chr> & <chr> & <int> & <int> & <int> & <lgl>\\\\\n",
       "\\hline\n",
       "\t1 & sp\\textbar{}A0A024R1R8\\textbar{}TMA7B\\_HUMAN & ENST00000424496.3 & 64 & 1 & 64 & NA\\\\\n",
       "\\end{tabular}\n"
      ],
      "text/markdown": [
       "\n",
       "A data.frame: 1 × 6\n",
       "\n",
       "| <!--/--> | Uniprot_id &lt;chr&gt; | ENS_id &lt;chr&gt; | Length &lt;int&gt; | . &lt;int&gt; | . &lt;int&gt; | NA &lt;lgl&gt; |\n",
       "|---|---|---|---|---|---|---|\n",
       "| 1 | sp|A0A024R1R8|TMA7B_HUMAN | ENST00000424496.3 | 64 | 1 | 64 | NA |\n",
       "\n"
      ],
      "text/plain": [
       "  Uniprot_id                ENS_id            Length . .  <NA>\n",
       "1 sp|A0A024R1R8|TMA7B_HUMAN ENST00000424496.3 64     1 64 NA  "
      ]
     },
     "metadata": {},
     "output_type": "display_data"
    },
    {
     "data": {
      "text/html": [
       "<table class=\"dataframe\">\n",
       "<caption>A data.frame: 1 × 2</caption>\n",
       "<thead>\n",
       "\t<tr><th></th><th scope=col>Uniprot_id</th><th scope=col>PE_type</th></tr>\n",
       "\t<tr><th></th><th scope=col>&lt;chr&gt;</th><th scope=col>&lt;chr&gt;</th></tr>\n",
       "</thead>\n",
       "<tbody>\n",
       "\t<tr><th scope=row>1</th><td>sp|A0A0B4J2F0|PIOS1_HUMAN</td><td>PE_1</td></tr>\n",
       "</tbody>\n",
       "</table>\n"
      ],
      "text/latex": [
       "A data.frame: 1 × 2\n",
       "\\begin{tabular}{r|ll}\n",
       "  & Uniprot\\_id & PE\\_type\\\\\n",
       "  & <chr> & <chr>\\\\\n",
       "\\hline\n",
       "\t1 & sp\\textbar{}A0A0B4J2F0\\textbar{}PIOS1\\_HUMAN & PE\\_1\\\\\n",
       "\\end{tabular}\n"
      ],
      "text/markdown": [
       "\n",
       "A data.frame: 1 × 2\n",
       "\n",
       "| <!--/--> | Uniprot_id &lt;chr&gt; | PE_type &lt;chr&gt; |\n",
       "|---|---|---|\n",
       "| 1 | sp|A0A0B4J2F0|PIOS1_HUMAN | PE_1 |\n",
       "\n"
      ],
      "text/plain": [
       "  Uniprot_id                PE_type\n",
       "1 sp|A0A0B4J2F0|PIOS1_HUMAN PE_1   "
      ]
     },
     "metadata": {},
     "output_type": "display_data"
    }
   ],
   "source": [
    "fread_c(anno_sep_gpe) -> uniprot.human.sep.15.gpe\n",
    "head(uniprot.human.sep.15.gpe,1)\n",
    "# uniprot id和seq\n",
    "fread(anno_sep_tab,sep='\\t',header = F,data.table = F) -> uniprot_id_seq\n",
    "colnames(uniprot_id_seq) <- c(\"Uniprot_id\",\"Seq\")\n",
    "head(uniprot_id_seq,1)\n",
    "# uniprot id和转录本id\n",
    "fread(uniprot_id_ensId,sep='\\t',header = F,data.table = F) -> uniprot_id_ensembl_t_id_l\n",
    "colnames(uniprot_id_ensembl_t_id_l) <- c(\"Uniprot_id\",\"ENS_id\",\"Length\",\".\",\".\")\n",
    "head(uniprot_id_ensembl_t_id_l,1)\n",
    "fread(anno_sep_type_path,header = F,data.table = F,sep='\\t')->anno_sep_type\n",
    "colnames(anno_sep_type)=c(\"Uniprot_id\",\"PE_type\")\n",
    "head(anno_sep_type,1)"
   ]
  },
  {
   "cell_type": "code",
   "execution_count": 7,
   "id": "0874cc2c-1795-4c5c-a27e-ad4b294a257e",
   "metadata": {
    "ExecuteTime": {
     "end_time": "2025-07-30T07:16:56.854300Z",
     "start_time": "2025-07-30T07:16:55.244Z"
    }
   },
   "outputs": [],
   "source": [
    "merge(uniprot_id_seq,uniprot_id_ensembl_t_id_l[,c(\"Uniprot_id\",\"ENS_id\",\"Length\")],by=\"Uniprot_id\") %>% \n",
    "  merge(uniprot.human.sep.15.gpe,by.x=\"ENS_id\",by.y=\"V1\") -> m_1\n",
    "m_1 %>% dplyr::rename(Chr=V2,Strand=V3,Start=V6,End=V7) -> m_2\n",
    "m_2[,!grepl(\"^V\",colnames(m_2))] -> m_2\n",
    "mutate(m_2,\n",
    "       ORF_id_trans=paste0(ENS_id,Strand,Chr,\":\",Start,\"-\",End),\n",
    "       ORF_id_seq=paste0(Strand,Chr,\":\",Start,\"-\",End,\":\",Seq),\n",
    "       Scodon=\"ATG\",\n",
    "       Type=\"Canonical\",\n",
    "       ORF_type_1=\"Canonical\",\n",
    "       ORF_type_2=\"Canonical\",\n",
    "       ORF_type_3=\"Canonical\") -> m_2\n",
    "# 加载基因名、转录本类型等信息并整合\n",
    "trans_mul_feature <- fread(trans_mul_feature_path)\n",
    "colnames(trans_mul_feature) <- c(\"Gene_ID\", \"Transcript_ID\", \"Transcript_type\", \"Gene_type\", \"Gene_name\")\n",
    "add_info_1 <- function(df){\n",
    "  merge(df, trans_mul_feature,\n",
    "        by.x = \"ENS_id\", by.y = \"Transcript_ID\") -> df\n",
    "  df %>% as.data.frame() -> df\n",
    "  return(df)\n",
    "}\n",
    "add_info_1(m_2) -> m_3\n",
    "# 添加CDS_start以及CDS_end信息\n",
    "uniprot.human.sep.15.gpe -> gpe\n",
    "gpe[, c(\"V1\", \"V6\", \"V7\")] -> gpe_selected\n",
    "colnames(gpe_selected) <- c(\"ENS_id\", \"CDS_start\", \"CDS_end\")\n",
    "merge(m_3, gpe_selected) -> m_4"
   ]
  },
  {
   "cell_type": "code",
   "execution_count": 8,
   "id": "158ae1f8-9a6e-48cf-8e67-910d8b3a338e",
   "metadata": {
    "ExecuteTime": {
     "end_time": "2025-07-30T07:16:59.749859Z",
     "start_time": "2025-07-30T07:16:58.786Z"
    }
   },
   "outputs": [
    {
     "data": {
      "text/html": [
       "<table class=\"dataframe\">\n",
       "<caption>A data.frame: 1 × 22</caption>\n",
       "<thead>\n",
       "\t<tr><th></th><th scope=col>Uniprot_id</th><th scope=col>ENS_id</th><th scope=col>Seq</th><th scope=col>Length</th><th scope=col>Chr</th><th scope=col>Strand</th><th scope=col>Start</th><th scope=col>End</th><th scope=col>ORF_id_trans</th><th scope=col>ORF_id_seq</th><th scope=col>⋯</th><th scope=col>ORF_type_1</th><th scope=col>ORF_type_2</th><th scope=col>ORF_type_3</th><th scope=col>Gene_ID</th><th scope=col>Transcript_type</th><th scope=col>Gene_type</th><th scope=col>Gene_name</th><th scope=col>CDS_start</th><th scope=col>CDS_end</th><th scope=col>PE_type</th></tr>\n",
       "\t<tr><th></th><th scope=col>&lt;chr&gt;</th><th scope=col>&lt;chr&gt;</th><th scope=col>&lt;chr&gt;</th><th scope=col>&lt;int&gt;</th><th scope=col>&lt;chr&gt;</th><th scope=col>&lt;chr&gt;</th><th scope=col>&lt;int&gt;</th><th scope=col>&lt;int&gt;</th><th scope=col>&lt;chr&gt;</th><th scope=col>&lt;chr&gt;</th><th scope=col>⋯</th><th scope=col>&lt;chr&gt;</th><th scope=col>&lt;chr&gt;</th><th scope=col>&lt;chr&gt;</th><th scope=col>&lt;chr&gt;</th><th scope=col>&lt;chr&gt;</th><th scope=col>&lt;chr&gt;</th><th scope=col>&lt;chr&gt;</th><th scope=col>&lt;int&gt;</th><th scope=col>&lt;int&gt;</th><th scope=col>&lt;chr&gt;</th></tr>\n",
       "</thead>\n",
       "<tbody>\n",
       "\t<tr><th scope=row>1</th><td>sp|A0A024R1R8|TMA7B_HUMAN</td><td>ENST00000424496.3</td><td>MSSHEGGKKKALKQPKKQAKEMDEEEKAFKQKQKEEQKKLEVLKAKVVGKGPLATGGIKKSGKK</td><td>64</td><td>chr22</td><td>+</td><td>39964374</td><td>39964569</td><td>ENST00000424496.3+chr22:39964374-39964569</td><td>+chr22:39964374-39964569:MSSHEGGKKKALKQPKKQAKEMDEEEKAFKQKQKEEQKKLEVLKAKVVGKGPLATGGIKKSGKK</td><td>⋯</td><td>Canonical</td><td>Canonical</td><td>Canonical</td><td>ENSG00000225528.4</td><td>protein_coding</td><td>protein_coding</td><td>ENSG00000225528</td><td>39964374</td><td>39964569</td><td>PE_3</td></tr>\n",
       "</tbody>\n",
       "</table>\n"
      ],
      "text/latex": [
       "A data.frame: 1 × 22\n",
       "\\begin{tabular}{r|lllllllllllllllllllll}\n",
       "  & Uniprot\\_id & ENS\\_id & Seq & Length & Chr & Strand & Start & End & ORF\\_id\\_trans & ORF\\_id\\_seq & ⋯ & ORF\\_type\\_1 & ORF\\_type\\_2 & ORF\\_type\\_3 & Gene\\_ID & Transcript\\_type & Gene\\_type & Gene\\_name & CDS\\_start & CDS\\_end & PE\\_type\\\\\n",
       "  & <chr> & <chr> & <chr> & <int> & <chr> & <chr> & <int> & <int> & <chr> & <chr> & ⋯ & <chr> & <chr> & <chr> & <chr> & <chr> & <chr> & <chr> & <int> & <int> & <chr>\\\\\n",
       "\\hline\n",
       "\t1 & sp\\textbar{}A0A024R1R8\\textbar{}TMA7B\\_HUMAN & ENST00000424496.3 & MSSHEGGKKKALKQPKKQAKEMDEEEKAFKQKQKEEQKKLEVLKAKVVGKGPLATGGIKKSGKK & 64 & chr22 & + & 39964374 & 39964569 & ENST00000424496.3+chr22:39964374-39964569 & +chr22:39964374-39964569:MSSHEGGKKKALKQPKKQAKEMDEEEKAFKQKQKEEQKKLEVLKAKVVGKGPLATGGIKKSGKK & ⋯ & Canonical & Canonical & Canonical & ENSG00000225528.4 & protein\\_coding & protein\\_coding & ENSG00000225528 & 39964374 & 39964569 & PE\\_3\\\\\n",
       "\\end{tabular}\n"
      ],
      "text/markdown": [
       "\n",
       "A data.frame: 1 × 22\n",
       "\n",
       "| <!--/--> | Uniprot_id &lt;chr&gt; | ENS_id &lt;chr&gt; | Seq &lt;chr&gt; | Length &lt;int&gt; | Chr &lt;chr&gt; | Strand &lt;chr&gt; | Start &lt;int&gt; | End &lt;int&gt; | ORF_id_trans &lt;chr&gt; | ORF_id_seq &lt;chr&gt; | ⋯ ⋯ | ORF_type_1 &lt;chr&gt; | ORF_type_2 &lt;chr&gt; | ORF_type_3 &lt;chr&gt; | Gene_ID &lt;chr&gt; | Transcript_type &lt;chr&gt; | Gene_type &lt;chr&gt; | Gene_name &lt;chr&gt; | CDS_start &lt;int&gt; | CDS_end &lt;int&gt; | PE_type &lt;chr&gt; |\n",
       "|---|---|---|---|---|---|---|---|---|---|---|---|---|---|---|---|---|---|---|---|---|---|\n",
       "| 1 | sp|A0A024R1R8|TMA7B_HUMAN | ENST00000424496.3 | MSSHEGGKKKALKQPKKQAKEMDEEEKAFKQKQKEEQKKLEVLKAKVVGKGPLATGGIKKSGKK | 64 | chr22 | + | 39964374 | 39964569 | ENST00000424496.3+chr22:39964374-39964569 | +chr22:39964374-39964569:MSSHEGGKKKALKQPKKQAKEMDEEEKAFKQKQKEEQKKLEVLKAKVVGKGPLATGGIKKSGKK | ⋯ | Canonical | Canonical | Canonical | ENSG00000225528.4 | protein_coding | protein_coding | ENSG00000225528 | 39964374 | 39964569 | PE_3 |\n",
       "\n"
      ],
      "text/plain": [
       "  Uniprot_id                ENS_id           \n",
       "1 sp|A0A024R1R8|TMA7B_HUMAN ENST00000424496.3\n",
       "  Seq                                                              Length Chr  \n",
       "1 MSSHEGGKKKALKQPKKQAKEMDEEEKAFKQKQKEEQKKLEVLKAKVVGKGPLATGGIKKSGKK 64     chr22\n",
       "  Strand Start    End      ORF_id_trans                             \n",
       "1 +      39964374 39964569 ENST00000424496.3+chr22:39964374-39964569\n",
       "  ORF_id_seq                                                                               \n",
       "1 +chr22:39964374-39964569:MSSHEGGKKKALKQPKKQAKEMDEEEKAFKQKQKEEQKKLEVLKAKVVGKGPLATGGIKKSGKK\n",
       "  ⋯ ORF_type_1 ORF_type_2 ORF_type_3 Gene_ID           Transcript_type\n",
       "1 ⋯ Canonical  Canonical  Canonical  ENSG00000225528.4 protein_coding \n",
       "  Gene_type      Gene_name       CDS_start CDS_end  PE_type\n",
       "1 protein_coding ENSG00000225528 39964374  39964569 PE_3   "
      ]
     },
     "metadata": {},
     "output_type": "display_data"
    },
    {
     "data": {
      "text/html": [
       "<style>\n",
       ".list-inline {list-style: none; margin:0; padding: 0}\n",
       ".list-inline>li {display: inline-block}\n",
       ".list-inline>li:not(:last-child)::after {content: \"\\00b7\"; padding: 0 .5ex}\n",
       "</style>\n",
       "<ol class=list-inline><li>'Uniprot_id'</li><li>'ENS_id'</li><li>'Seq'</li><li>'Length'</li><li>'Chr'</li><li>'Strand'</li><li>'Start'</li><li>'End'</li><li>'ORF_id_trans'</li><li>'ORF_id_seq'</li><li>'Scodon'</li><li>'Type'</li><li>'ORF_type_1'</li><li>'ORF_type_2'</li><li>'ORF_type_3'</li><li>'Gene_ID'</li><li>'Transcript_type'</li><li>'Gene_type'</li><li>'Gene_name'</li><li>'CDS_start'</li><li>'CDS_end'</li><li>'PE_type'</li></ol>\n"
      ],
      "text/latex": [
       "\\begin{enumerate*}\n",
       "\\item 'Uniprot\\_id'\n",
       "\\item 'ENS\\_id'\n",
       "\\item 'Seq'\n",
       "\\item 'Length'\n",
       "\\item 'Chr'\n",
       "\\item 'Strand'\n",
       "\\item 'Start'\n",
       "\\item 'End'\n",
       "\\item 'ORF\\_id\\_trans'\n",
       "\\item 'ORF\\_id\\_seq'\n",
       "\\item 'Scodon'\n",
       "\\item 'Type'\n",
       "\\item 'ORF\\_type\\_1'\n",
       "\\item 'ORF\\_type\\_2'\n",
       "\\item 'ORF\\_type\\_3'\n",
       "\\item 'Gene\\_ID'\n",
       "\\item 'Transcript\\_type'\n",
       "\\item 'Gene\\_type'\n",
       "\\item 'Gene\\_name'\n",
       "\\item 'CDS\\_start'\n",
       "\\item 'CDS\\_end'\n",
       "\\item 'PE\\_type'\n",
       "\\end{enumerate*}\n"
      ],
      "text/markdown": [
       "1. 'Uniprot_id'\n",
       "2. 'ENS_id'\n",
       "3. 'Seq'\n",
       "4. 'Length'\n",
       "5. 'Chr'\n",
       "6. 'Strand'\n",
       "7. 'Start'\n",
       "8. 'End'\n",
       "9. 'ORF_id_trans'\n",
       "10. 'ORF_id_seq'\n",
       "11. 'Scodon'\n",
       "12. 'Type'\n",
       "13. 'ORF_type_1'\n",
       "14. 'ORF_type_2'\n",
       "15. 'ORF_type_3'\n",
       "16. 'Gene_ID'\n",
       "17. 'Transcript_type'\n",
       "18. 'Gene_type'\n",
       "19. 'Gene_name'\n",
       "20. 'CDS_start'\n",
       "21. 'CDS_end'\n",
       "22. 'PE_type'\n",
       "\n",
       "\n"
      ],
      "text/plain": [
       " [1] \"Uniprot_id\"      \"ENS_id\"          \"Seq\"             \"Length\"         \n",
       " [5] \"Chr\"             \"Strand\"          \"Start\"           \"End\"            \n",
       " [9] \"ORF_id_trans\"    \"ORF_id_seq\"      \"Scodon\"          \"Type\"           \n",
       "[13] \"ORF_type_1\"      \"ORF_type_2\"      \"ORF_type_3\"      \"Gene_ID\"        \n",
       "[17] \"Transcript_type\" \"Gene_type\"       \"Gene_name\"       \"CDS_start\"      \n",
       "[21] \"CDS_end\"         \"PE_type\"        "
      ]
     },
     "metadata": {},
     "output_type": "display_data"
    },
    {
     "data": {
      "text/html": [
       "3243"
      ],
      "text/latex": [
       "3243"
      ],
      "text/markdown": [
       "3243"
      ],
      "text/plain": [
       "[1] 3243"
      ]
     },
     "metadata": {},
     "output_type": "display_data"
    }
   ],
   "source": [
    "merge(m_4,anno_sep_type,by=\"Uniprot_id\") -> m_5\n",
    "head(m_5,1)\n",
    "colnames(m_5)\n",
    "nrow(m_5)"
   ]
  },
  {
   "cell_type": "code",
   "execution_count": 9,
   "id": "cc6ed7ac-cf21-45bf-8e61-d740e1f706a5",
   "metadata": {
    "ExecuteTime": {
     "end_time": "2025-07-30T07:17:04.465575Z",
     "start_time": "2025-07-30T07:17:03.533Z"
    }
   },
   "outputs": [],
   "source": [
    "fwrite_c(m_5,\"../processed/tab_info/cano.sep.tab.info.txt\")"
   ]
  }
 ],
 "metadata": {
  "kernelspec": {
   "display_name": "R_default_4.2",
   "language": "R",
   "name": "r_default_4.2"
  },
  "language_info": {
   "codemirror_mode": "r",
   "file_extension": ".r",
   "mimetype": "text/x-r-source",
   "name": "R",
   "pygments_lexer": "r",
   "version": "4.2.1"
  },
  "toc": {
   "base_numbering": 1,
   "nav_menu": {},
   "number_sections": true,
   "sideBar": true,
   "skip_h1_title": false,
   "title_cell": "Table of Contents",
   "title_sidebar": "Contents",
   "toc_cell": false,
   "toc_position": {},
   "toc_section_display": true,
   "toc_window_display": false
  }
 },
 "nbformat": 4,
 "nbformat_minor": 5
}
