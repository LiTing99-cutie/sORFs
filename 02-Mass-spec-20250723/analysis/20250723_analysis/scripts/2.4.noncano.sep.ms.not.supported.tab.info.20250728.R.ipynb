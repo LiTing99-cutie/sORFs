{
 "cells": [
  {
   "cell_type": "code",
   "execution_count": 1,
   "id": "e1c2fc71",
   "metadata": {
    "ExecuteTime": {
     "end_time": "2025-07-30T07:29:52.637147Z",
     "start_time": "2025-07-30T07:29:51.225Z"
    }
   },
   "outputs": [],
   "source": [
    "# 设置工作目录\n",
    "source(\"/home/user/data2/lit/bin/lit_utils.R\")\n",
    "source(\"/home/user/data3/lit/project/sORFs/sORFs.utils.R\")\n",
    "lib_text()"
   ]
  },
  {
   "cell_type": "code",
   "execution_count": 2,
   "id": "9de1edff",
   "metadata": {
    "ExecuteTime": {
     "end_time": "2025-07-30T07:29:52.673757Z",
     "start_time": "2025-07-30T07:29:51.226Z"
    }
   },
   "outputs": [],
   "source": [
    "sep_add_info <- function(all_orfs,trans_mul_feature_path,gpe_path){\n",
    "    # 提取染色体、起始位置、终止位置、链方向等信息\n",
    "    matches <- str_match(all_orfs$ORF_id_trans, \"([A-Z]+\\\\d+\\\\.\\\\d+[a-zA-Z_]*)([+-])(chr\\\\w+):(\\\\d+)-(\\\\d+)\")\n",
    "    all_orfs$ENS_id <-  matches[, 2]\n",
    "    all_orfs$Strand <- matches[, 3]\n",
    "    all_orfs$Chr <- matches[, 4]\n",
    "    all_orfs$Start <- matches[, 5] %>% as.numeric()\n",
    "    all_orfs$End <- matches[, 6] %>% as.numeric()\n",
    "\n",
    "    # 加载基因名、转录本类型等信息并整合\n",
    "    trans_mul_feature <- fread(trans_mul_feature_path)\n",
    "    colnames(trans_mul_feature) <- c(\"Gene_ID\", \"Transcript_ID\", \"Transcript_type\", \"Gene_type\", \"Gene_name\")\n",
    "    merge(all_orfs, trans_mul_feature,\n",
    "          by.x = \"ENS_id\", by.y = \"Transcript_ID\") -> all_orfs_1\n",
    "    all_orfs_1 %>% as.data.frame() -> all_orfs_1\n",
    "\n",
    "    # 注释小肽类型\n",
    "    gpe <- fread(gpe_path, header = FALSE, data.table = FALSE)\n",
    "    gpe[, c(\"V1\", \"V6\", \"V7\")] -> gpe_selected\n",
    "    colnames(gpe_selected) <- c(\"ENS_id\", \"CDS_start\", \"CDS_end\")\n",
    "    merge(all_orfs_1, gpe_selected) -> all_orfs_2\n",
    "    get_orf_type_2(all_orfs_2) -> all_orfs_3\n",
    "    return(all_orfs_3)\n",
    "}"
   ]
  },
  {
   "cell_type": "code",
   "execution_count": 3,
   "id": "a45b2f71",
   "metadata": {
    "ExecuteTime": {
     "end_time": "2025-07-30T07:29:52.689696Z",
     "start_time": "2025-07-30T07:29:51.226Z"
    }
   },
   "outputs": [],
   "source": [
    "noncaono_sep_ms_supported_path <- \"../processed/ms_res/noncano.sep.ms.supported.tab.info.txt\"\n",
    "noncano_sep_putative_path <- \"/home/user/data3/lit/project/sORFs/01-ribo-seq/analysis/Run_for_human_20250227/human_trans_database_20250324/output/trans_based_sorfs.txt\"\n",
    "trans_mul_feature_path <- \"/home/user/data2/lit/project/ZNF271/data/annotation/Ensembl_106_Gencode_v41_Human_Transcript_stable_ID_version_Gene_stable_ID_version_Gene_name_Transcript_type_gene_type.txt\"\n",
    "gpe_path <- \"/home/user/data2/lit/project/ZNF271/data/annotation/gencode.v41.annotation.10.gpe\""
   ]
  },
  {
   "cell_type": "code",
   "execution_count": 4,
   "id": "7981f5dd",
   "metadata": {
    "ExecuteTime": {
     "end_time": "2025-07-30T07:33:12.542292Z",
     "start_time": "2025-07-30T07:29:51.227Z"
    }
   },
   "outputs": [],
   "source": [
    "fread_c(noncaono_sep_ms_supported_path) -> noncaono_sep_ms_supported\n",
    "fread(noncano_sep_putative_path) -> noncano_sep_putative"
   ]
  },
  {
   "cell_type": "code",
   "execution_count": 5,
   "id": "f4aa3dc5",
   "metadata": {
    "ExecuteTime": {
     "end_time": "2025-07-30T07:33:59.880033Z",
     "start_time": "2025-07-30T07:29:51.227Z"
    }
   },
   "outputs": [],
   "source": [
    "# 随机抽取数量相同的负对照\n",
    "noncano_sep_putative %>% filter(!Seq %in% noncaono_sep_ms_supported$Seq) -> noncano_sep_ms_not_supported\n",
    "set.seed(123)\n",
    "sample(1:nrow(noncano_sep_ms_not_supported),nrow(noncaono_sep_ms_supported)) ->  sample_rows\n",
    "noncano_sep_ms_not_supported[sample_rows,] -> noncano_sep_ms_not_supported_sampled"
   ]
  },
  {
   "cell_type": "code",
   "execution_count": 6,
   "id": "9d53b182",
   "metadata": {
    "ExecuteTime": {
     "end_time": "2025-07-30T07:33:59.899159Z",
     "start_time": "2025-07-30T07:29:51.227Z"
    }
   },
   "outputs": [
    {
     "data": {
      "text/html": [
       "29163"
      ],
      "text/latex": [
       "29163"
      ],
      "text/markdown": [
       "29163"
      ],
      "text/plain": [
       "[1] 29163"
      ]
     },
     "metadata": {},
     "output_type": "display_data"
    }
   ],
   "source": [
    "nrow(noncano_sep_ms_not_supported_sampled)"
   ]
  },
  {
   "cell_type": "code",
   "execution_count": 7,
   "id": "8478ff47",
   "metadata": {
    "ExecuteTime": {
     "end_time": "2025-07-30T07:34:04.012405Z",
     "start_time": "2025-07-30T07:29:51.228Z"
    }
   },
   "outputs": [],
   "source": [
    "sep_add_info(noncano_sep_ms_not_supported_sampled,trans_mul_feature_path,gpe_path)->noncano_sep_ms_not_supported_sampled_add_info"
   ]
  },
  {
   "cell_type": "code",
   "execution_count": 8,
   "id": "4149df87",
   "metadata": {
    "ExecuteTime": {
     "end_time": "2025-07-30T07:34:04.079937Z",
     "start_time": "2025-07-30T07:29:51.228Z"
    }
   },
   "outputs": [],
   "source": [
    "fwrite_c(noncano_sep_ms_not_supported_sampled_add_info,\"../processed/tab_info/noncano.sep.ms.not.supported.tab.info.txt\")"
   ]
  }
 ],
 "metadata": {
  "kernelspec": {
   "display_name": "R_default_4.2",
   "language": "R",
   "name": "r_default_4.2"
  },
  "language_info": {
   "codemirror_mode": "r",
   "file_extension": ".r",
   "mimetype": "text/x-r-source",
   "name": "R",
   "pygments_lexer": "r",
   "version": "4.2.1"
  },
  "toc": {
   "base_numbering": 1,
   "nav_menu": {},
   "number_sections": true,
   "sideBar": true,
   "skip_h1_title": false,
   "title_cell": "Table of Contents",
   "title_sidebar": "Contents",
   "toc_cell": false,
   "toc_position": {},
   "toc_section_display": true,
   "toc_window_display": false
  }
 },
 "nbformat": 4,
 "nbformat_minor": 5
}
