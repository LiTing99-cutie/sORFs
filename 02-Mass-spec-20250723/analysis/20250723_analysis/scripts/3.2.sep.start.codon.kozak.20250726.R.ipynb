{
 "cells": [
  {
   "cell_type": "code",
   "execution_count": 1,
   "id": "8790ed1c",
   "metadata": {
    "ExecuteTime": {
     "end_time": "2025-09-20T03:45:51.677873Z",
     "start_time": "2025-09-20T03:45:50.414Z"
    }
   },
   "outputs": [],
   "source": [
    "source(\"/home/user/data2/lit/bin/lit_utils.R\")\n",
    "source(\"/home/user/data3/lit/project/sORFs/sORFs.utils.R\")\n",
    "lib_text()\n",
    "lib_plot()\n",
    "\n",
    "##### 起始密码子附近的kozak序列 ##### \n",
    "get_window_15_start_codon <- function(df){\n",
    "  df %>% filter(Strand==\"+\") ->  all_sep_forward\n",
    "  data.frame(all_sep_forward$Chr,all_sep_forward$Start-15,all_sep_forward$Start+18,all_sep_forward$ORF_id_trans,\".\",\n",
    "             all_sep_forward$Strand) -> window_15_start_codon_f\n",
    "  df %>% filter(Strand==\"-\") ->  all_sep_reverse\n",
    "  data.frame(all_sep_reverse$Chr,all_sep_reverse$End-18,all_sep_reverse$End+15,all_sep_reverse$ORF_id_trans,\".\",\n",
    "             all_sep_reverse$Strand) -> window_15_start_codon_r\n",
    "  colnames(window_15_start_codon_r) <- colnames(window_15_start_codon_f)\n",
    "  rbind(window_15_start_codon_f,window_15_start_codon_r) -> window_15_start_codon\n",
    "  return(window_15_start_codon)\n",
    "}\n",
    "## 方法一\n",
    "# 输入fasta所在的路径\n",
    "seqlogo_cus <- function(fasta_path,output_path,keep_start_codon_or_not){\n",
    "  library(seqLogo)\n",
    "  library(Biostrings)\n",
    "  # 读取 FASTA 文件\n",
    "  seqs <- readDNAStringSet(fasta_path)\n",
    "  # 直接计算碱基频率矩阵（PFM）\n",
    "  pfm <- consensusMatrix(seqs)[1:4, ]  # 只保留A/C/G/T\n",
    "  rownames(pfm) <- c(\"A\", \"C\", \"G\", \"T\")\n",
    "  # 检查PFM（确保无NA/Inf值）\n",
    "  print(pfm[, 1:5])  # 查看前5列\n",
    "  if(!keep_start_codon_or_not){\n",
    "    pfm[,c(1:15,19:33)] -> pfm\n",
    "  }\n",
    "  # 转换为PWM（需确保所有列和为1）\n",
    "  pwm <- makePWM((pfm) / colSums(pfm))  # 加伪计数避免除零错误\n",
    "  # 绘制Sequence Logo\n",
    "  pdf(output_path, width = 7, height = 4)  # 可自定义尺寸\n",
    "  seqLogo(pwm)\n",
    "  dev.off()\n",
    "}\n",
    "## 方法二\n",
    "# 读取 FASTA 文件\n",
    "ggseqlogo_cus <- function(fasta_path,output_path,keep_start_codon_or_not){\n",
    "  library(ggseqlogo)\n",
    "  library(Biostrings)\n",
    "  seqs <- readDNAStringSet(fasta_path)\n",
    "  ggseqlogo(as.character(seqs)) -> p\n",
    "  if(!keep_start_codon_or_not){\n",
    "    sub <- sapply(as.character(seqs), function(s) paste0(substr(s, 1, 15), substr(s, 19, 33)))\n",
    "    ggseqlogo(sub) -> p\n",
    "  }\n",
    "  ggsave(p,filename = output_path, width = 7, height = 4)\n",
    "}\n",
    "inte_func <- function(sep,output_path,name,only_cano){\n",
    "  # 参数一：整理好的蛋白质元信息数据框，需要包括起始密码子的位置以及起始密码子的类型（如果需要用到only_cano）\n",
    "  # 参数二：输出路径\n",
    "  # 参数三：文件名前缀\n",
    "  # 参数四：是否只统计起始密码子，需要包括这一列（输入的值为0，1，2）\n",
    "  if(only_cano==1){\n",
    "    get_window_15_start_codon(sep %>% filter(Scodon==\"ATG\")) -> window_15_start_codon_sep\n",
    "  }else if(only_cano==0){\n",
    "    get_window_15_start_codon(sep %>% filter(Scodon!=\"ATG\")) -> window_15_start_codon_sep\n",
    "  }else{\n",
    "    get_window_15_start_codon(sep) -> window_15_start_codon_sep\n",
    "  }\n",
    "  create_path(output_path)\n",
    "  output_bed <- paste0(output_path,name,\".bed\")\n",
    "  output_fa <- paste0(output_path,name,\".fa\")\n",
    "  output_pdf <- paste0(output_path,name,\".pdf\")\n",
    "  fwrite(window_15_start_codon_sep,output_bed,col.names = F,sep = '\\t')\n",
    "  command <- paste0(\"bedtools getfasta -s -fi /home/user/data/lit/database/public/genome/hg38/hg38.fa -bed \",\n",
    "                    output_bed,\" > \",output_fa)\n",
    "  system(command)\n",
    "  ggseqlogo_cus(output_fa,output_pdf,TRUE)\n",
    "  ggseqlogo_cus(output_fa,paste0(output_path,name,\".nosc.pdf\"),FALSE)\n",
    "  seqlogo_cus(output_fa, paste0(output_path,name,\".seqlogo.pdf\"),TRUE)\n",
    "}\n"
   ]
  },
  {
   "cell_type": "code",
   "execution_count": 2,
   "id": "9f17d7c3",
   "metadata": {
    "ExecuteTime": {
     "end_time": "2025-09-20T03:45:55.117326Z",
     "start_time": "2025-09-20T03:45:54.572Z"
    }
   },
   "outputs": [],
   "source": [
    "# 非经典的极少部分小肽也被注释为经典小肽\n",
    "sep_combined_path <- \"../processed/sep_combined/sep_combined_unique.txt\"\n",
    "fread_c(sep_combined_path) -> sep_combined\n",
    "# table(sep_combined$Type)"
   ]
  },
  {
   "cell_type": "code",
   "execution_count": 3,
   "id": "1b6b122d",
   "metadata": {
    "ExecuteTime": {
     "end_time": "2025-09-20T03:45:56.970476Z",
     "start_time": "2025-09-20T03:45:56.587Z"
    }
   },
   "outputs": [
    {
     "data": {
      "text/html": [
       "3243"
      ],
      "text/latex": [
       "3243"
      ],
      "text/markdown": [
       "3243"
      ],
      "text/plain": [
       "[1] 3243"
      ]
     },
     "metadata": {},
     "output_type": "display_data"
    },
    {
     "data": {
      "text/html": [
       "2141"
      ],
      "text/latex": [
       "2141"
      ],
      "text/markdown": [
       "2141"
      ],
      "text/plain": [
       "[1] 2141"
      ]
     },
     "metadata": {},
     "output_type": "display_data"
    },
    {
     "data": {
      "text/html": [
       "2141"
      ],
      "text/latex": [
       "2141"
      ],
      "text/markdown": [
       "2141"
      ],
      "text/plain": [
       "[1] 2141"
      ]
     },
     "metadata": {},
     "output_type": "display_data"
    }
   ],
   "source": [
    "sep_combined %>% filter(Type==\"Canonical\") -> cano_sep\n",
    "sep_combined %>% filter(Type!=\"Canonical\") %>% filter(Unique_psm_n>0) -> noncano_sep_ms_suppo\n",
    "sep_combined %>% filter(Type!=\"Canonical\") %>% filter(Unique_psm_n==0) -> noncano_sep_ms_not_suppo\n",
    "nrow(cano_sep)\n",
    "nrow(noncano_sep_ms_suppo)\n",
    "nrow(noncano_sep_ms_not_suppo)"
   ]
  },
  {
   "cell_type": "code",
   "execution_count": 4,
   "id": "e63047fc",
   "metadata": {
    "ExecuteTime": {
     "end_time": "2025-09-20T03:46:01.432509Z",
     "start_time": "2025-09-20T03:45:59.956Z"
    }
   },
   "outputs": [
    {
     "data": {
      "text/plain": [
       "\n",
       "    Canonical Non-canonical \n",
       "         3243          2141 "
      ]
     },
     "metadata": {},
     "output_type": "display_data"
    },
    {
     "name": "stderr",
     "output_type": "stream",
     "text": [
      "Warning message in brewer.pal(n = 2, name = \"Set3\"):\n",
      "“minimal value for n is 3, returning requested palette with 3 different levels\n",
      "”\n"
     ]
    },
    {
     "data": {
      "image/png": "[encoded data removed]",
      "text/plain": [
       "plot without title"
      ]
     },
     "metadata": {
      "image/png": {
       "height": 420,
       "width": 420
      }
     },
     "output_type": "display_data"
    }
   ],
   "source": [
    "# 这里的长度比较应该也是比较所有的经典小蛋白和在这个研究中鉴定出来的小蛋白\n",
    "output_path <- \"/home/user/data3/lit/project/sORFs/02-Mass-spec-20250723/analysis/20250723_analysis/figures\"\n",
    "rbind(cano_sep,noncano_sep_ms_suppo) -> df\n",
    "df %>% mutate(Cano_type=\n",
    "                case_when(Type == \"Canonical\" ~ \"Canonical\",\n",
    "                          TRUE ~ \"Non-canonical\")) -> df\n",
    "table(df$Cano_type)\n",
    "colors <- colorspace::darken(brewer.pal(n=2,name=\"Set3\"),0.3)\n",
    "## 3) 密度图：展示不同 Cano_type 的 Length 分布\n",
    "p_dens <- ggplot(df, aes(x = Length, colour = Cano_type, fill = Cano_type)) +\n",
    "  geom_density(alpha = 0.3, adjust = 1) +\n",
    "  labs(x = \"SEP length\", y = \"Density\", colour = \"Type\", fill = \"Type\") +\n",
    "  theme_3()+\n",
    "scale_fill_manual(values = colors)+\n",
    "scale_color_manual(values = colors)+\n",
    "  scale_x_continuous(breaks = c(6,seq(0, max(df$Length), by = 25)),expand = c(0,0)) +\n",
    "  scale_y_continuous(,expand = c(0,0)) \n",
    "p_dens\n",
    "ggsave(p_dens,filename = o(\"cano_non_cano_length_density.pdf\"),height = 5,width = 5)"
   ]
  },
  {
   "cell_type": "code",
   "execution_count": 5,
   "id": "915793a5",
   "metadata": {
    "ExecuteTime": {
     "end_time": "2025-09-20T03:46:03.826091Z",
     "start_time": "2025-09-20T03:46:03.458Z"
    }
   },
   "outputs": [
    {
     "data": {
      "text/html": [
       "<style>\n",
       ".list-inline {list-style: none; margin:0; padding: 0}\n",
       ".list-inline>li {display: inline-block}\n",
       ".list-inline>li:not(:last-child)::after {content: \"\\00b7\"; padding: 0 .5ex}\n",
       "</style>\n",
       "<ol class=list-inline><li>'Uniprot_id'</li><li>'ENS_id'</li><li>'Seq'</li><li>'Length'</li><li>'Chr'</li><li>'Strand'</li><li>'Start'</li><li>'End'</li><li>'ORF_id_trans'</li><li>'ORF_id_seq'</li><li>'Scodon'</li><li>'Type'</li><li>'ORF_type_1'</li><li>'ORF_type_2'</li><li>'ORF_type_3'</li><li>'Gene_ID'</li><li>'Transcript_type'</li><li>'Gene_type'</li><li>'Gene_name'</li><li>'CDS_start'</li><li>'CDS_end'</li><li>'PE_type'</li><li>'All_psm_n'</li><li>'All_peptide_n'</li><li>'Unique_psm_n'</li><li>'Unique_peptide_n'</li><li>'Cano_type'</li></ol>\n"
      ],
      "text/latex": [
       "\\begin{enumerate*}\n",
       "\\item 'Uniprot\\_id'\n",
       "\\item 'ENS\\_id'\n",
       "\\item 'Seq'\n",
       "\\item 'Length'\n",
       "\\item 'Chr'\n",
       "\\item 'Strand'\n",
       "\\item 'Start'\n",
       "\\item 'End'\n",
       "\\item 'ORF\\_id\\_trans'\n",
       "\\item 'ORF\\_id\\_seq'\n",
       "\\item 'Scodon'\n",
       "\\item 'Type'\n",
       "\\item 'ORF\\_type\\_1'\n",
       "\\item 'ORF\\_type\\_2'\n",
       "\\item 'ORF\\_type\\_3'\n",
       "\\item 'Gene\\_ID'\n",
       "\\item 'Transcript\\_type'\n",
       "\\item 'Gene\\_type'\n",
       "\\item 'Gene\\_name'\n",
       "\\item 'CDS\\_start'\n",
       "\\item 'CDS\\_end'\n",
       "\\item 'PE\\_type'\n",
       "\\item 'All\\_psm\\_n'\n",
       "\\item 'All\\_peptide\\_n'\n",
       "\\item 'Unique\\_psm\\_n'\n",
       "\\item 'Unique\\_peptide\\_n'\n",
       "\\item 'Cano\\_type'\n",
       "\\end{enumerate*}\n"
      ],
      "text/markdown": [
       "1. 'Uniprot_id'\n",
       "2. 'ENS_id'\n",
       "3. 'Seq'\n",
       "4. 'Length'\n",
       "5. 'Chr'\n",
       "6. 'Strand'\n",
       "7. 'Start'\n",
       "8. 'End'\n",
       "9. 'ORF_id_trans'\n",
       "10. 'ORF_id_seq'\n",
       "11. 'Scodon'\n",
       "12. 'Type'\n",
       "13. 'ORF_type_1'\n",
       "14. 'ORF_type_2'\n",
       "15. 'ORF_type_3'\n",
       "16. 'Gene_ID'\n",
       "17. 'Transcript_type'\n",
       "18. 'Gene_type'\n",
       "19. 'Gene_name'\n",
       "20. 'CDS_start'\n",
       "21. 'CDS_end'\n",
       "22. 'PE_type'\n",
       "23. 'All_psm_n'\n",
       "24. 'All_peptide_n'\n",
       "25. 'Unique_psm_n'\n",
       "26. 'Unique_peptide_n'\n",
       "27. 'Cano_type'\n",
       "\n",
       "\n"
      ],
      "text/plain": [
       " [1] \"Uniprot_id\"       \"ENS_id\"           \"Seq\"              \"Length\"          \n",
       " [5] \"Chr\"              \"Strand\"           \"Start\"            \"End\"             \n",
       " [9] \"ORF_id_trans\"     \"ORF_id_seq\"       \"Scodon\"           \"Type\"            \n",
       "[13] \"ORF_type_1\"       \"ORF_type_2\"       \"ORF_type_3\"       \"Gene_ID\"         \n",
       "[17] \"Transcript_type\"  \"Gene_type\"        \"Gene_name\"        \"CDS_start\"       \n",
       "[21] \"CDS_end\"          \"PE_type\"          \"All_psm_n\"        \"All_peptide_n\"   \n",
       "[25] \"Unique_psm_n\"     \"Unique_peptide_n\" \"Cano_type\"       "
      ]
     },
     "metadata": {},
     "output_type": "display_data"
    },
    {
     "data": {
      "text/plain": [
       "\n",
       "       Canonical            doORF             dORF        Extension \n",
       "            3246               13              110                1 \n",
       "        Internal     ncORF_lncRNA      ncORF_other ncORF_pseudogene \n",
       "              47              504                2              310 \n",
       "      Truncation            uoORF             uORF \n",
       "            1114                7               30 "
      ]
     },
     "metadata": {},
     "output_type": "display_data"
    }
   ],
   "source": [
    "colnames(df)\n",
    "table(df$ORF_type_2)"
   ]
  },
  {
   "cell_type": "code",
   "execution_count": 6,
   "id": "a3bd12f1",
   "metadata": {
    "ExecuteTime": {
     "end_time": "2025-09-20T03:46:05.836625Z",
     "start_time": "2025-09-20T03:46:05.237Z"
    }
   },
   "outputs": [
    {
     "data": {
      "image/png": "[encoded data removed]",
      "text/plain": [
       "plot without title"
      ]
     },
     "metadata": {
      "image/png": {
       "height": 420,
       "width": 420
      }
     },
     "output_type": "display_data"
    }
   ],
   "source": [
    "# head(df)\n",
    "df %>% filter(ORF_type_2!=\"Truncation\") -> df_1\n",
    "p_dens <- ggplot(df_1, aes(x = Length, colour = Cano_type, fill = Cano_type)) +\n",
    "  geom_density(alpha = 0.3, adjust = 1) +\n",
    "  labs(x = \"SEP length\", y = \"Density\", colour = \"Type\", fill = \"Type\") +\n",
    "  theme_3()+\n",
    "scale_fill_manual(values = colors)+\n",
    "scale_color_manual(values = colors)+\n",
    "  scale_x_continuous(breaks = c(6,seq(0, max(df$Length), by = 25)),expand = c(0,0)) +\n",
    "  scale_y_continuous(,expand = c(0,0)) \n",
    "p_dens"
   ]
  },
  {
   "cell_type": "code",
   "execution_count": 4,
   "id": "592a8c6f",
   "metadata": {
    "ExecuteTime": {
     "end_time": "2025-07-30T07:35:05.072380Z",
     "start_time": "2025-07-30T07:34:22.111Z"
    },
    "collapsed": true
   },
   "outputs": [
    {
     "name": "stderr",
     "output_type": "stream",
     "text": [
      "Loading required package: BiocGenerics\n",
      "\n",
      "\n",
      "Attaching package: ‘BiocGenerics’\n",
      "\n",
      "\n",
      "The following object is masked from ‘package:gridExtra’:\n",
      "\n",
      "    combine\n",
      "\n",
      "\n",
      "The following objects are masked from ‘package:dplyr’:\n",
      "\n",
      "    combine, intersect, setdiff, union\n",
      "\n",
      "\n",
      "The following objects are masked from ‘package:stats’:\n",
      "\n",
      "    IQR, mad, sd, var, xtabs\n",
      "\n",
      "\n",
      "The following objects are masked from ‘package:base’:\n",
      "\n",
      "    anyDuplicated, aperm, append, as.data.frame, basename, cbind,\n",
      "    colnames, dirname, do.call, duplicated, eval, evalq, Filter, Find,\n",
      "    get, grep, grepl, intersect, is.unsorted, lapply, Map, mapply,\n",
      "    match, mget, order, paste, pmax, pmax.int, pmin, pmin.int,\n",
      "    Position, rank, rbind, Reduce, rownames, sapply, setdiff, sort,\n",
      "    table, tapply, union, unique, unsplit, which.max, which.min\n",
      "\n",
      "\n",
      "Loading required package: S4Vectors\n",
      "\n",
      "Loading required package: stats4\n",
      "\n",
      "\n",
      "Attaching package: ‘S4Vectors’\n",
      "\n",
      "\n",
      "The following object is masked from ‘package:tidyr’:\n",
      "\n",
      "    expand\n",
      "\n",
      "\n",
      "The following objects are masked from ‘package:data.table’:\n",
      "\n",
      "    first, second\n",
      "\n",
      "\n",
      "The following objects are masked from ‘package:dplyr’:\n",
      "\n",
      "    first, rename\n",
      "\n",
      "\n",
      "The following objects are masked from ‘package:base’:\n",
      "\n",
      "    expand.grid, I, unname\n",
      "\n",
      "\n",
      "Loading required package: IRanges\n",
      "\n",
      "\n",
      "Attaching package: ‘IRanges’\n",
      "\n",
      "\n",
      "The following object is masked from ‘package:data.table’:\n",
      "\n",
      "    shift\n",
      "\n",
      "\n",
      "The following objects are masked from ‘package:dplyr’:\n",
      "\n",
      "    collapse, desc, slice\n",
      "\n",
      "\n",
      "Loading required package: XVector\n",
      "\n",
      "Loading required package: GenomeInfoDb\n",
      "\n",
      "\n",
      "Attaching package: ‘Biostrings’\n",
      "\n",
      "\n",
      "The following object is masked from ‘package:base’:\n",
      "\n",
      "    strsplit\n",
      "\n",
      "\n",
      "Warning message:\n",
      "“\u001b[1m\u001b[22mThe `<scale>` argument of `guides()` cannot be `FALSE`. Use \"none\" instead as\n",
      "of ggplot2 3.3.4.\n",
      "\u001b[36mℹ\u001b[39m The deprecated feature was likely used in the \u001b[34mggseqlogo\u001b[39m package.\n",
      "  Please report the issue at \u001b[3m\u001b[34m<https://github.com/omarwagih/ggseqlogo/issues>\u001b[39m\u001b[23m.”\n",
      "Loading required package: grid\n",
      "\n",
      "\n",
      "Attaching package: ‘grid’\n",
      "\n",
      "\n",
      "The following object is masked from ‘package:Biostrings’:\n",
      "\n",
      "    pattern\n",
      "\n",
      "\n"
     ]
    },
    {
     "name": "stdout",
     "output_type": "stream",
     "text": [
      "  [,1] [,2] [,3] [,4] [,5]\n",
      "A  560  630  616  682  662\n",
      "C 1008 1015 1028  992 1125\n",
      "G  909  871  882  912  807\n",
      "T  766  727  717  657  649\n",
      "  [,1] [,2] [,3] [,4] [,5]\n",
      "A  588  580  570  603  585\n",
      "C  497  488  462  449  478\n",
      "G  483  513  551  521  487\n",
      "T  573  560  558  568  591\n"
     ]
    }
   ],
   "source": [
    "for (i in 2){\n",
    "if(i==0){\n",
    "    prefix=\"noncano\"\n",
    "}else if(i==1){\n",
    "    prefix=\"cano\"\n",
    "}else{\n",
    "    prefix=\"all\"\n",
    "}\n",
    "inte_func(cano_sep,\n",
    "        paste0(\"../figures/cano_sep_scodon_kozak/\",prefix,\"/\"),\n",
    "        \"prefix\",\n",
    "        i\n",
    ")\n",
    "}\n",
    "for (i in 2){\n",
    "if(i==0){\n",
    "    prefix=\"noncano\"\n",
    "}else if(i==1){\n",
    "    prefix=\"cano\"\n",
    "}else{\n",
    "    prefix=\"all\"\n",
    "}\n",
    "inte_func(noncano_sep_ms_not_suppo,\n",
    "        paste0(\"../figures/noncano_sep_ms_not_suppo_scodon_kozak/\",prefix,\"/\"),\n",
    "        \"prefix\",\n",
    "        i\n",
    ")\n",
    "}"
   ]
  },
  {
   "cell_type": "code",
   "execution_count": 5,
   "id": "ba9f2614",
   "metadata": {
    "ExecuteTime": {
     "end_time": "2025-07-30T07:35:27.760690Z",
     "start_time": "2025-07-30T07:34:22.111Z"
    }
   },
   "outputs": [
    {
     "name": "stdout",
     "output_type": "stream",
     "text": [
      "  [,1] [,2] [,3] [,4] [,5]\n",
      "A  350  447  274  369  415\n",
      "C  355  342  424  359  351\n",
      "G  446  296  431  422  277\n",
      "T  286  352  308  287  394\n",
      "  [,1] [,2] [,3] [,4] [,5]\n",
      "A  178  224  134  192  212\n",
      "C  180  185  197  196  167\n",
      "G  225  117  199  196  137\n",
      "T  121  178  174  120  188\n",
      "  [,1] [,2] [,3] [,4] [,5]\n",
      "A  528  671  408  561  627\n",
      "C  535  527  621  555  518\n",
      "G  671  413  630  618  414\n",
      "T  407  530  482  407  582\n",
      "  [,1] [,2] [,3] [,4] [,5]\n",
      "A  164  247  106  189  229\n",
      "C  183  191  233  179  173\n",
      "G  261  123  239  237  116\n",
      "T  125  172  155  128  215\n",
      "  [,1] [,2] [,3] [,4] [,5]\n",
      "A  100  120   64  106  110\n",
      "C   88   90  109   98   96\n",
      "G  133   66  117  119   74\n",
      "T   60  105   91   58  101\n",
      "  [,1] [,2] [,3] [,4] [,5]\n",
      "A  264  367  170  295  339\n",
      "C  271  281  342  277  269\n",
      "G  394  189  356  356  190\n",
      "T  185  277  246  186  316\n"
     ]
    }
   ],
   "source": [
    "for (i in 0:2){\n",
    "if(i==0){\n",
    "    prefix=\"noncano\"\n",
    "}else if(i==1){\n",
    "    prefix=\"cano\"\n",
    "}else{\n",
    "    prefix=\"all\"\n",
    "}\n",
    "inte_func(noncano_sep_ms_suppo,\n",
    "        paste0(\"../figures/noncano_sep_ms_suppo_scodon_kozak/\",prefix,\"/\"),\n",
    "        \"prefix\",\n",
    "        i\n",
    ")\n",
    "}\n",
    "noncano_sep_ms_suppo %>% filter(ORF_type_3==\"Truncation\") -> df\n",
    "for (i in 0:2){\n",
    "if(i==0){\n",
    "    prefix=\"noncano\"\n",
    "}else if(i==1){\n",
    "    prefix=\"cano\"\n",
    "}else{\n",
    "    prefix=\"all\"\n",
    "}\n",
    "inte_func(df,\n",
    "        paste0(\"../figures/noncano_sep_ms_suppo_truncation_scodon_kozak/\",prefix,\"/\"),\n",
    "        \"prefix\",\n",
    "        i\n",
    ")\n",
    "}"
   ]
  },
  {
   "cell_type": "code",
   "execution_count": 7,
   "id": "f876d3b2",
   "metadata": {
    "ExecuteTime": {
     "end_time": "2025-09-20T03:47:19.509041Z",
     "start_time": "2025-09-20T03:46:52.821Z"
    },
    "scrolled": false
   },
   "outputs": [
    {
     "name": "stderr",
     "output_type": "stream",
     "text": [
      "Loading required package: BiocGenerics\n",
      "\n",
      "\n",
      "Attaching package: ‘BiocGenerics’\n",
      "\n",
      "\n",
      "The following object is masked from ‘package:gridExtra’:\n",
      "\n",
      "    combine\n",
      "\n",
      "\n",
      "The following objects are masked from ‘package:dplyr’:\n",
      "\n",
      "    combine, intersect, setdiff, union\n",
      "\n",
      "\n",
      "The following objects are masked from ‘package:stats’:\n",
      "\n",
      "    IQR, mad, sd, var, xtabs\n",
      "\n",
      "\n",
      "The following objects are masked from ‘package:base’:\n",
      "\n",
      "    anyDuplicated, aperm, append, as.data.frame, basename, cbind,\n",
      "    colnames, dirname, do.call, duplicated, eval, evalq, Filter, Find,\n",
      "    get, grep, grepl, intersect, is.unsorted, lapply, Map, mapply,\n",
      "    match, mget, order, paste, pmax, pmax.int, pmin, pmin.int,\n",
      "    Position, rank, rbind, Reduce, rownames, sapply, setdiff, sort,\n",
      "    table, tapply, union, unique, unsplit, which.max, which.min\n",
      "\n",
      "\n",
      "Loading required package: S4Vectors\n",
      "\n",
      "Loading required package: stats4\n",
      "\n",
      "\n",
      "Attaching package: ‘S4Vectors’\n",
      "\n",
      "\n",
      "The following object is masked from ‘package:tidyr’:\n",
      "\n",
      "    expand\n",
      "\n",
      "\n",
      "The following objects are masked from ‘package:data.table’:\n",
      "\n",
      "    first, second\n",
      "\n",
      "\n",
      "The following objects are masked from ‘package:dplyr’:\n",
      "\n",
      "    first, rename\n",
      "\n",
      "\n",
      "The following objects are masked from ‘package:base’:\n",
      "\n",
      "    expand.grid, I, unname\n",
      "\n",
      "\n",
      "Loading required package: IRanges\n",
      "\n",
      "\n",
      "Attaching package: ‘IRanges’\n",
      "\n",
      "\n",
      "The following object is masked from ‘package:data.table’:\n",
      "\n",
      "    shift\n",
      "\n",
      "\n",
      "The following objects are masked from ‘package:dplyr’:\n",
      "\n",
      "    collapse, desc, slice\n",
      "\n",
      "\n",
      "Loading required package: XVector\n",
      "\n",
      "Loading required package: GenomeInfoDb\n",
      "\n",
      "\n",
      "Attaching package: ‘Biostrings’\n",
      "\n",
      "\n",
      "The following object is masked from ‘package:base’:\n",
      "\n",
      "    strsplit\n",
      "\n",
      "\n",
      "Warning message:\n",
      "“\u001b[1m\u001b[22mThe `<scale>` argument of `guides()` cannot be `FALSE`. Use \"none\" instead as\n",
      "of ggplot2 3.3.4.\n",
      "\u001b[36mℹ\u001b[39m The deprecated feature was likely used in the \u001b[34mggseqlogo\u001b[39m package.\n",
      "  Please report the issue at \u001b[3m\u001b[34m<https://github.com/omarwagih/ggseqlogo/issues>\u001b[39m\u001b[23m.”\n",
      "Loading required package: grid\n",
      "\n",
      "\n",
      "Attaching package: ‘grid’\n",
      "\n",
      "\n",
      "The following object is masked from ‘package:Biostrings’:\n",
      "\n",
      "    pattern\n",
      "\n",
      "\n"
     ]
    },
    {
     "name": "stdout",
     "output_type": "stream",
     "text": [
      "  [,1] [,2] [,3] [,4] [,5]\n",
      "A  186  200  168  180  186\n",
      "C  172  151  191  180  178\n",
      "G  185  173  192  185  161\n",
      "T  161  180  153  159  179\n",
      "  [,1] [,2] [,3] [,4] [,5]\n",
      "A   78  104   70   86  102\n",
      "C   92   95   88   98   71\n",
      "G   92   51   82   77   63\n",
      "T   61   73   83   62   87\n",
      "  [,1] [,2] [,3] [,4] [,5]\n",
      "A  264  304  238  266  288\n",
      "C  264  246  279  278  249\n",
      "G  277  224  274  262  224\n",
      "T  222  253  236  221  266\n"
     ]
    }
   ],
   "source": [
    "noncano_sep_ms_suppo %>% filter(ORF_type_3!=\"Truncation\") -> df\n",
    "for (i in 0:2){\n",
    "if(i==0){\n",
    "    prefix=\"noncano\"\n",
    "}else if(i==1){\n",
    "    prefix=\"cano\"\n",
    "}else{\n",
    "    prefix=\"all\"\n",
    "}\n",
    "inte_func(df,\n",
    "        paste0(\"../figures/noncano_sep_ms_suppo_not_truncation_scodon_kozak/\",prefix,\"/\"),\n",
    "        \"prefix\",\n",
    "        i\n",
    ")\n",
    "}"
   ]
  },
  {
   "cell_type": "code",
   "execution_count": 13,
   "id": "9633acdf",
   "metadata": {
    "ExecuteTime": {
     "end_time": "2025-08-09T10:07:38.258541Z",
     "start_time": "2025-08-09T10:07:36.849Z"
    }
   },
   "outputs": [
    {
     "data": {
      "text/html": [
       "<table class=\"dataframe\">\n",
       "<caption>A data.frame: 6 × 26</caption>\n",
       "<thead>\n",
       "\t<tr><th></th><th scope=col>Uniprot_id</th><th scope=col>ENS_id</th><th scope=col>Seq</th><th scope=col>Length</th><th scope=col>Chr</th><th scope=col>Strand</th><th scope=col>Start</th><th scope=col>End</th><th scope=col>ORF_id_trans</th><th scope=col>ORF_id_seq</th><th scope=col>⋯</th><th scope=col>Transcript_type</th><th scope=col>Gene_type</th><th scope=col>Gene_name</th><th scope=col>CDS_start</th><th scope=col>CDS_end</th><th scope=col>PE_type</th><th scope=col>All_psm_n</th><th scope=col>All_peptide_n</th><th scope=col>Unique_psm_n</th><th scope=col>Unique_peptide_n</th></tr>\n",
       "\t<tr><th></th><th scope=col>&lt;chr&gt;</th><th scope=col>&lt;chr&gt;</th><th scope=col>&lt;chr&gt;</th><th scope=col>&lt;int&gt;</th><th scope=col>&lt;chr&gt;</th><th scope=col>&lt;chr&gt;</th><th scope=col>&lt;int&gt;</th><th scope=col>&lt;int&gt;</th><th scope=col>&lt;chr&gt;</th><th scope=col>&lt;chr&gt;</th><th scope=col>⋯</th><th scope=col>&lt;chr&gt;</th><th scope=col>&lt;chr&gt;</th><th scope=col>&lt;chr&gt;</th><th scope=col>&lt;int&gt;</th><th scope=col>&lt;int&gt;</th><th scope=col>&lt;chr&gt;</th><th scope=col>&lt;int&gt;</th><th scope=col>&lt;int&gt;</th><th scope=col>&lt;int&gt;</th><th scope=col>&lt;int&gt;</th></tr>\n",
       "</thead>\n",
       "<tbody>\n",
       "\t<tr><th scope=row>1</th><td>ENST00000000233.10+chr7:127590977-127591299</td><td>ENST00000000233.10</td><td>LRDAVLLVFANKQDMPNAMPVSELTDKLGLQHLRSRTWYVQATCATQGTGLYDGLDWLSHELSKR</td><td>65</td><td>chr7 </td><td>+</td><td>127590977</td><td>127591299</td><td>ENST00000000233.10+chr7:127590977-127591299</td><td>+chr7:127590977-127591299:LRDAVLLVFANKQDMPNAMPVSELTDKLGLQHLRSRTWYVQATCATQGTGLYDGLDWLSHELSKR</td><td>⋯</td><td>protein_coding</td><td>protein_coding</td><td>ARF5   </td><td>127588498</td><td>127591299</td><td></td><td>1</td><td>1</td><td>1</td><td>1</td></tr>\n",
       "\t<tr><th scope=row>2</th><td>ENST00000000233.10+chr7:127590989-127591299</td><td>ENST00000000233.10</td><td>VLLVFANKQDMPNAMPVSELTDKLGLQHLRSRTWYVQATCATQGTGLYDGLDWLSHELSKR    </td><td>61</td><td>chr7 </td><td>+</td><td>127590989</td><td>127591299</td><td>ENST00000000233.10+chr7:127590989-127591299</td><td>+chr7:127590989-127591299:VLLVFANKQDMPNAMPVSELTDKLGLQHLRSRTWYVQATCATQGTGLYDGLDWLSHELSKR    </td><td>⋯</td><td>protein_coding</td><td>protein_coding</td><td>ARF5   </td><td>127588498</td><td>127591299</td><td></td><td>2</td><td>1</td><td>2</td><td>1</td></tr>\n",
       "\t<tr><th scope=row>3</th><td>ENST00000000233.10+chr7:127591031-127591299</td><td>ENST00000000233.10</td><td>MPVSELTDKLGLQHLRSRTWYVQATCATQGTGLYDGLDWLSHELSKR                  </td><td>47</td><td>chr7 </td><td>+</td><td>127591031</td><td>127591299</td><td>ENST00000000233.10+chr7:127591031-127591299</td><td>+chr7:127591031-127591299:MPVSELTDKLGLQHLRSRTWYVQATCATQGTGLYDGLDWLSHELSKR                  </td><td>⋯</td><td>protein_coding</td><td>protein_coding</td><td>ARF5   </td><td>127588498</td><td>127591299</td><td></td><td>6</td><td>1</td><td>6</td><td>1</td></tr>\n",
       "\t<tr><th scope=row>4</th><td>ENST00000007516.8-chr16:23582283-23582340  </td><td>ENST00000007516.8 </td><td>MCPQEIVDYIADKKDVYE                                               </td><td>18</td><td>chr16</td><td>-</td><td> 23582283</td><td> 23582340</td><td>ENST00000007516.8-chr16:23582283-23582340  </td><td>-chr16:23582283-23582340:MCPQEIVDYIADKKDVYE                                                </td><td>⋯</td><td>protein_coding</td><td>protein_coding</td><td>NDUFAB1</td><td> 23582283</td><td> 23596290</td><td></td><td>6</td><td>2</td><td>6</td><td>2</td></tr>\n",
       "\t<tr><th scope=row>5</th><td>ENST00000007516.8-chr16:23582283-23585351  </td><td>ENST00000007516.8 </td><td>MEDEFGFEIPDIDAEKLMCPQEIVDYIADKKDVYE                              </td><td>35</td><td>chr16</td><td>-</td><td> 23582283</td><td> 23585351</td><td>ENST00000007516.8-chr16:23582283-23585351  </td><td>-chr16:23582283-23585351:MEDEFGFEIPDIDAEKLMCPQEIVDYIADKKDVYE                               </td><td>⋯</td><td>protein_coding</td><td>protein_coding</td><td>NDUFAB1</td><td> 23582283</td><td> 23596290</td><td></td><td>1</td><td>1</td><td>1</td><td>1</td></tr>\n",
       "\t<tr><th scope=row>6</th><td>ENST00000007516.8-chr16:23582283-23585357  </td><td>ENST00000007516.8 </td><td>MAMEDEFGFEIPDIDAEKLMCPQEIVDYIADKKDVYE                            </td><td>37</td><td>chr16</td><td>-</td><td> 23582283</td><td> 23585357</td><td>ENST00000007516.8-chr16:23582283-23585357  </td><td>-chr16:23582283-23585357:MAMEDEFGFEIPDIDAEKLMCPQEIVDYIADKKDVYE                             </td><td>⋯</td><td>protein_coding</td><td>protein_coding</td><td>NDUFAB1</td><td> 23582283</td><td> 23596290</td><td></td><td>5</td><td>1</td><td>5</td><td>1</td></tr>\n",
       "</tbody>\n",
       "</table>\n"
      ],
      "text/latex": [
       "A data.frame: 6 × 26\n",
       "\\begin{tabular}{r|lllllllllllllllllllll}\n",
       "  & Uniprot\\_id & ENS\\_id & Seq & Length & Chr & Strand & Start & End & ORF\\_id\\_trans & ORF\\_id\\_seq & ⋯ & Transcript\\_type & Gene\\_type & Gene\\_name & CDS\\_start & CDS\\_end & PE\\_type & All\\_psm\\_n & All\\_peptide\\_n & Unique\\_psm\\_n & Unique\\_peptide\\_n\\\\\n",
       "  & <chr> & <chr> & <chr> & <int> & <chr> & <chr> & <int> & <int> & <chr> & <chr> & ⋯ & <chr> & <chr> & <chr> & <int> & <int> & <chr> & <int> & <int> & <int> & <int>\\\\\n",
       "\\hline\n",
       "\t1 & ENST00000000233.10+chr7:127590977-127591299 & ENST00000000233.10 & LRDAVLLVFANKQDMPNAMPVSELTDKLGLQHLRSRTWYVQATCATQGTGLYDGLDWLSHELSKR & 65 & chr7  & + & 127590977 & 127591299 & ENST00000000233.10+chr7:127590977-127591299 & +chr7:127590977-127591299:LRDAVLLVFANKQDMPNAMPVSELTDKLGLQHLRSRTWYVQATCATQGTGLYDGLDWLSHELSKR & ⋯ & protein\\_coding & protein\\_coding & ARF5    & 127588498 & 127591299 &  & 1 & 1 & 1 & 1\\\\\n",
       "\t2 & ENST00000000233.10+chr7:127590989-127591299 & ENST00000000233.10 & VLLVFANKQDMPNAMPVSELTDKLGLQHLRSRTWYVQATCATQGTGLYDGLDWLSHELSKR     & 61 & chr7  & + & 127590989 & 127591299 & ENST00000000233.10+chr7:127590989-127591299 & +chr7:127590989-127591299:VLLVFANKQDMPNAMPVSELTDKLGLQHLRSRTWYVQATCATQGTGLYDGLDWLSHELSKR     & ⋯ & protein\\_coding & protein\\_coding & ARF5    & 127588498 & 127591299 &  & 2 & 1 & 2 & 1\\\\\n",
       "\t3 & ENST00000000233.10+chr7:127591031-127591299 & ENST00000000233.10 & MPVSELTDKLGLQHLRSRTWYVQATCATQGTGLYDGLDWLSHELSKR                   & 47 & chr7  & + & 127591031 & 127591299 & ENST00000000233.10+chr7:127591031-127591299 & +chr7:127591031-127591299:MPVSELTDKLGLQHLRSRTWYVQATCATQGTGLYDGLDWLSHELSKR                   & ⋯ & protein\\_coding & protein\\_coding & ARF5    & 127588498 & 127591299 &  & 6 & 1 & 6 & 1\\\\\n",
       "\t4 & ENST00000007516.8-chr16:23582283-23582340   & ENST00000007516.8  & MCPQEIVDYIADKKDVYE                                                & 18 & chr16 & - &  23582283 &  23582340 & ENST00000007516.8-chr16:23582283-23582340   & -chr16:23582283-23582340:MCPQEIVDYIADKKDVYE                                                 & ⋯ & protein\\_coding & protein\\_coding & NDUFAB1 &  23582283 &  23596290 &  & 6 & 2 & 6 & 2\\\\\n",
       "\t5 & ENST00000007516.8-chr16:23582283-23585351   & ENST00000007516.8  & MEDEFGFEIPDIDAEKLMCPQEIVDYIADKKDVYE                               & 35 & chr16 & - &  23582283 &  23585351 & ENST00000007516.8-chr16:23582283-23585351   & -chr16:23582283-23585351:MEDEFGFEIPDIDAEKLMCPQEIVDYIADKKDVYE                                & ⋯ & protein\\_coding & protein\\_coding & NDUFAB1 &  23582283 &  23596290 &  & 1 & 1 & 1 & 1\\\\\n",
       "\t6 & ENST00000007516.8-chr16:23582283-23585357   & ENST00000007516.8  & MAMEDEFGFEIPDIDAEKLMCPQEIVDYIADKKDVYE                             & 37 & chr16 & - &  23582283 &  23585357 & ENST00000007516.8-chr16:23582283-23585357   & -chr16:23582283-23585357:MAMEDEFGFEIPDIDAEKLMCPQEIVDYIADKKDVYE                              & ⋯ & protein\\_coding & protein\\_coding & NDUFAB1 &  23582283 &  23596290 &  & 5 & 1 & 5 & 1\\\\\n",
       "\\end{tabular}\n"
      ],
      "text/markdown": [
       "\n",
       "A data.frame: 6 × 26\n",
       "\n",
       "| <!--/--> | Uniprot_id &lt;chr&gt; | ENS_id &lt;chr&gt; | Seq &lt;chr&gt; | Length &lt;int&gt; | Chr &lt;chr&gt; | Strand &lt;chr&gt; | Start &lt;int&gt; | End &lt;int&gt; | ORF_id_trans &lt;chr&gt; | ORF_id_seq &lt;chr&gt; | ⋯ ⋯ | Transcript_type &lt;chr&gt; | Gene_type &lt;chr&gt; | Gene_name &lt;chr&gt; | CDS_start &lt;int&gt; | CDS_end &lt;int&gt; | PE_type &lt;chr&gt; | All_psm_n &lt;int&gt; | All_peptide_n &lt;int&gt; | Unique_psm_n &lt;int&gt; | Unique_peptide_n &lt;int&gt; |\n",
       "|---|---|---|---|---|---|---|---|---|---|---|---|---|---|---|---|---|---|---|---|---|---|\n",
       "| 1 | ENST00000000233.10+chr7:127590977-127591299 | ENST00000000233.10 | LRDAVLLVFANKQDMPNAMPVSELTDKLGLQHLRSRTWYVQATCATQGTGLYDGLDWLSHELSKR | 65 | chr7  | + | 127590977 | 127591299 | ENST00000000233.10+chr7:127590977-127591299 | +chr7:127590977-127591299:LRDAVLLVFANKQDMPNAMPVSELTDKLGLQHLRSRTWYVQATCATQGTGLYDGLDWLSHELSKR | ⋯ | protein_coding | protein_coding | ARF5    | 127588498 | 127591299 | <!----> | 1 | 1 | 1 | 1 |\n",
       "| 2 | ENST00000000233.10+chr7:127590989-127591299 | ENST00000000233.10 | VLLVFANKQDMPNAMPVSELTDKLGLQHLRSRTWYVQATCATQGTGLYDGLDWLSHELSKR     | 61 | chr7  | + | 127590989 | 127591299 | ENST00000000233.10+chr7:127590989-127591299 | +chr7:127590989-127591299:VLLVFANKQDMPNAMPVSELTDKLGLQHLRSRTWYVQATCATQGTGLYDGLDWLSHELSKR     | ⋯ | protein_coding | protein_coding | ARF5    | 127588498 | 127591299 | <!----> | 2 | 1 | 2 | 1 |\n",
       "| 3 | ENST00000000233.10+chr7:127591031-127591299 | ENST00000000233.10 | MPVSELTDKLGLQHLRSRTWYVQATCATQGTGLYDGLDWLSHELSKR                   | 47 | chr7  | + | 127591031 | 127591299 | ENST00000000233.10+chr7:127591031-127591299 | +chr7:127591031-127591299:MPVSELTDKLGLQHLRSRTWYVQATCATQGTGLYDGLDWLSHELSKR                   | ⋯ | protein_coding | protein_coding | ARF5    | 127588498 | 127591299 | <!----> | 6 | 1 | 6 | 1 |\n",
       "| 4 | ENST00000007516.8-chr16:23582283-23582340   | ENST00000007516.8  | MCPQEIVDYIADKKDVYE                                                | 18 | chr16 | - |  23582283 |  23582340 | ENST00000007516.8-chr16:23582283-23582340   | -chr16:23582283-23582340:MCPQEIVDYIADKKDVYE                                                 | ⋯ | protein_coding | protein_coding | NDUFAB1 |  23582283 |  23596290 | <!----> | 6 | 2 | 6 | 2 |\n",
       "| 5 | ENST00000007516.8-chr16:23582283-23585351   | ENST00000007516.8  | MEDEFGFEIPDIDAEKLMCPQEIVDYIADKKDVYE                               | 35 | chr16 | - |  23582283 |  23585351 | ENST00000007516.8-chr16:23582283-23585351   | -chr16:23582283-23585351:MEDEFGFEIPDIDAEKLMCPQEIVDYIADKKDVYE                                | ⋯ | protein_coding | protein_coding | NDUFAB1 |  23582283 |  23596290 | <!----> | 1 | 1 | 1 | 1 |\n",
       "| 6 | ENST00000007516.8-chr16:23582283-23585357   | ENST00000007516.8  | MAMEDEFGFEIPDIDAEKLMCPQEIVDYIADKKDVYE                             | 37 | chr16 | - |  23582283 |  23585357 | ENST00000007516.8-chr16:23582283-23585357   | -chr16:23582283-23585357:MAMEDEFGFEIPDIDAEKLMCPQEIVDYIADKKDVYE                              | ⋯ | protein_coding | protein_coding | NDUFAB1 |  23582283 |  23596290 | <!----> | 5 | 1 | 5 | 1 |\n",
       "\n"
      ],
      "text/plain": [
       "  Uniprot_id                                  ENS_id            \n",
       "1 ENST00000000233.10+chr7:127590977-127591299 ENST00000000233.10\n",
       "2 ENST00000000233.10+chr7:127590989-127591299 ENST00000000233.10\n",
       "3 ENST00000000233.10+chr7:127591031-127591299 ENST00000000233.10\n",
       "4 ENST00000007516.8-chr16:23582283-23582340   ENST00000007516.8 \n",
       "5 ENST00000007516.8-chr16:23582283-23585351   ENST00000007516.8 \n",
       "6 ENST00000007516.8-chr16:23582283-23585357   ENST00000007516.8 \n",
       "  Seq                                                               Length\n",
       "1 LRDAVLLVFANKQDMPNAMPVSELTDKLGLQHLRSRTWYVQATCATQGTGLYDGLDWLSHELSKR 65    \n",
       "2 VLLVFANKQDMPNAMPVSELTDKLGLQHLRSRTWYVQATCATQGTGLYDGLDWLSHELSKR     61    \n",
       "3 MPVSELTDKLGLQHLRSRTWYVQATCATQGTGLYDGLDWLSHELSKR                   47    \n",
       "4 MCPQEIVDYIADKKDVYE                                                18    \n",
       "5 MEDEFGFEIPDIDAEKLMCPQEIVDYIADKKDVYE                               35    \n",
       "6 MAMEDEFGFEIPDIDAEKLMCPQEIVDYIADKKDVYE                             37    \n",
       "  Chr   Strand Start     End       ORF_id_trans                               \n",
       "1 chr7  +      127590977 127591299 ENST00000000233.10+chr7:127590977-127591299\n",
       "2 chr7  +      127590989 127591299 ENST00000000233.10+chr7:127590989-127591299\n",
       "3 chr7  +      127591031 127591299 ENST00000000233.10+chr7:127591031-127591299\n",
       "4 chr16 -       23582283  23582340 ENST00000007516.8-chr16:23582283-23582340  \n",
       "5 chr16 -       23582283  23585351 ENST00000007516.8-chr16:23582283-23585351  \n",
       "6 chr16 -       23582283  23585357 ENST00000007516.8-chr16:23582283-23585357  \n",
       "  ORF_id_seq                                                                                 \n",
       "1 +chr7:127590977-127591299:LRDAVLLVFANKQDMPNAMPVSELTDKLGLQHLRSRTWYVQATCATQGTGLYDGLDWLSHELSKR\n",
       "2 +chr7:127590989-127591299:VLLVFANKQDMPNAMPVSELTDKLGLQHLRSRTWYVQATCATQGTGLYDGLDWLSHELSKR    \n",
       "3 +chr7:127591031-127591299:MPVSELTDKLGLQHLRSRTWYVQATCATQGTGLYDGLDWLSHELSKR                  \n",
       "4 -chr16:23582283-23582340:MCPQEIVDYIADKKDVYE                                                \n",
       "5 -chr16:23582283-23585351:MEDEFGFEIPDIDAEKLMCPQEIVDYIADKKDVYE                               \n",
       "6 -chr16:23582283-23585357:MAMEDEFGFEIPDIDAEKLMCPQEIVDYIADKKDVYE                             \n",
       "  ⋯ Transcript_type Gene_type      Gene_name CDS_start CDS_end   PE_type\n",
       "1 ⋯ protein_coding  protein_coding ARF5      127588498 127591299        \n",
       "2 ⋯ protein_coding  protein_coding ARF5      127588498 127591299        \n",
       "3 ⋯ protein_coding  protein_coding ARF5      127588498 127591299        \n",
       "4 ⋯ protein_coding  protein_coding NDUFAB1    23582283  23596290        \n",
       "5 ⋯ protein_coding  protein_coding NDUFAB1    23582283  23596290        \n",
       "6 ⋯ protein_coding  protein_coding NDUFAB1    23582283  23596290        \n",
       "  All_psm_n All_peptide_n Unique_psm_n Unique_peptide_n\n",
       "1 1         1             1            1               \n",
       "2 2         1             2            1               \n",
       "3 6         1             6            1               \n",
       "4 6         2             6            2               \n",
       "5 1         1             1            1               \n",
       "6 5         1             5            1               "
      ]
     },
     "metadata": {},
     "output_type": "display_data"
    },
    {
     "data": {
      "text/plain": [
       "\n",
       "AAG ACG AGG ATA ATC ATG ATT CTG GTG TTG \n",
       "101  50  31  33  99 381  89 151 149  30 "
      ]
     },
     "metadata": {},
     "output_type": "display_data"
    },
    {
     "data": {
      "text/html": [
       "1114"
      ],
      "text/latex": [
       "1114"
      ],
      "text/markdown": [
       "1114"
      ],
      "text/plain": [
       "[1] 1114"
      ]
     },
     "metadata": {},
     "output_type": "display_data"
    }
   ],
   "source": [
    "head(df)\n",
    "table(df$Scodon)\n",
    "nrow(df)"
   ]
  }
 ],
 "metadata": {
  "kernelspec": {
   "display_name": "R_default_4.2",
   "language": "R",
   "name": "r_default_4.2"
  },
  "language_info": {
   "codemirror_mode": "r",
   "file_extension": ".r",
   "mimetype": "text/x-r-source",
   "name": "R",
   "pygments_lexer": "r",
   "version": "4.2.1"
  },
  "toc": {
   "base_numbering": 1,
   "nav_menu": {},
   "number_sections": true,
   "sideBar": true,
   "skip_h1_title": false,
   "title_cell": "Table of Contents",
   "title_sidebar": "Contents",
   "toc_cell": false,
   "toc_position": {},
   "toc_section_display": true,
   "toc_window_display": false
  }
 },
 "nbformat": 4,
 "nbformat_minor": 5
}
