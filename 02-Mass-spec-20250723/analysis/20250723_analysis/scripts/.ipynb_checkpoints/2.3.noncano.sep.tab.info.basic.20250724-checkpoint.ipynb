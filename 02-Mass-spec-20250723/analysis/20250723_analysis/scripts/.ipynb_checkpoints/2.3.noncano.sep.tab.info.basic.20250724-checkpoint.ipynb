{
 "cells": [
  {
   "cell_type": "code",
   "execution_count": 1,
   "id": "494bf056-7a38-476d-bca5-cf810ddc1d10",
   "metadata": {
    "ExecuteTime": {
     "end_time": "2025-07-30T07:20:02.592221Z",
     "start_time": "2025-07-30T07:20:01.157Z"
    }
   },
   "outputs": [],
   "source": [
    "source(\"/home/user/data2/lit/bin/lit_utils.R\")\n",
    "source(\"/home/user/data3/lit/project/sORFs/sORFs.utils.R\")\n",
    "lib_text()"
   ]
  },
  {
   "cell_type": "code",
   "execution_count": 2,
   "id": "2192f4eb-9984-499f-87e9-7134e6126635",
   "metadata": {
    "ExecuteTime": {
     "end_time": "2025-07-30T07:20:02.639275Z",
     "start_time": "2025-07-30T07:20:01.158Z"
    }
   },
   "outputs": [],
   "source": [
    "args <- commandArgs(T)\n",
    "# 过滤掉Jupyter相关的参数\n",
    "args <- args[!grepl(\"kernel-.*\\\\.json$\", args)]\n",
    "\n",
    "if(length(args) == 0){\n",
    "  # 默认参数\n",
    "  ms_info_path = \"../processed/ms_res/ms_info.txt\"\n",
    "  orf_id_trans_map <- T\n",
    "  ORF_id_seq_from_trans_based_sorfs <- T\n",
    "  output_path <- \"../processed/ms_res\"\n",
    "  output_file <- \"noncano.sep.ms.supported.tab.info.txt\"\n",
    "}else{\n",
    "  sep_path <- args[1]\n",
    "  orf_id_trans_map <- args[2]\n",
    "  ORF_id_seq_from_trans_based_sorfs <- args[3]\n",
    "  output_path <- args[4]\n",
    "  output_file <- args[5]\n",
    "}"
   ]
  },
  {
   "cell_type": "code",
   "execution_count": 3,
   "id": "b4b94ed1-1415-448d-a5f2-3c4e7df26dc4",
   "metadata": {
    "ExecuteTime": {
     "end_time": "2025-07-30T07:20:02.710021Z",
     "start_time": "2025-07-30T07:20:01.159Z"
    }
   },
   "outputs": [
    {
     "data": {
      "text/html": [
       "<table class=\"dataframe\">\n",
       "<caption>A data.table: 6 × 5</caption>\n",
       "<thead>\n",
       "\t<tr><th scope=col>ORF_id_trans</th><th scope=col>All_psm_n</th><th scope=col>All_peptide_n</th><th scope=col>Unique_psm_n</th><th scope=col>Unique_peptide_n</th></tr>\n",
       "\t<tr><th scope=col>&lt;chr&gt;</th><th scope=col>&lt;int&gt;</th><th scope=col>&lt;int&gt;</th><th scope=col>&lt;int&gt;</th><th scope=col>&lt;int&gt;</th></tr>\n",
       "</thead>\n",
       "<tbody>\n",
       "\t<tr><td>ENST00000000233.10+chr7:127589150-127591299</td><td>2</td><td>1</td><td>0</td><td>0</td></tr>\n",
       "\t<tr><td>ENST00000000233.10+chr7:127589159-127591299</td><td>9</td><td>1</td><td>0</td><td>0</td></tr>\n",
       "\t<tr><td>ENST00000003912.7+chr1:24472874-24472910   </td><td>3</td><td>1</td><td>0</td><td>0</td></tr>\n",
       "\t<tr><td>ENST00000005257.7+chr7:39706646-39706769   </td><td>1</td><td>1</td><td>0</td><td>0</td></tr>\n",
       "\t<tr><td>ENST00000005257.7+chr7:39706652-39706769   </td><td>1</td><td>1</td><td>0</td><td>0</td></tr>\n",
       "\t<tr><td>ENST00000005257.7+chr7:39706655-39706769   </td><td>1</td><td>1</td><td>0</td><td>0</td></tr>\n",
       "</tbody>\n",
       "</table>\n"
      ],
      "text/latex": [
       "A data.table: 6 × 5\n",
       "\\begin{tabular}{lllll}\n",
       " ORF\\_id\\_trans & All\\_psm\\_n & All\\_peptide\\_n & Unique\\_psm\\_n & Unique\\_peptide\\_n\\\\\n",
       " <chr> & <int> & <int> & <int> & <int>\\\\\n",
       "\\hline\n",
       "\t ENST00000000233.10+chr7:127589150-127591299 & 2 & 1 & 0 & 0\\\\\n",
       "\t ENST00000000233.10+chr7:127589159-127591299 & 9 & 1 & 0 & 0\\\\\n",
       "\t ENST00000003912.7+chr1:24472874-24472910    & 3 & 1 & 0 & 0\\\\\n",
       "\t ENST00000005257.7+chr7:39706646-39706769    & 1 & 1 & 0 & 0\\\\\n",
       "\t ENST00000005257.7+chr7:39706652-39706769    & 1 & 1 & 0 & 0\\\\\n",
       "\t ENST00000005257.7+chr7:39706655-39706769    & 1 & 1 & 0 & 0\\\\\n",
       "\\end{tabular}\n"
      ],
      "text/markdown": [
       "\n",
       "A data.table: 6 × 5\n",
       "\n",
       "| ORF_id_trans &lt;chr&gt; | All_psm_n &lt;int&gt; | All_peptide_n &lt;int&gt; | Unique_psm_n &lt;int&gt; | Unique_peptide_n &lt;int&gt; |\n",
       "|---|---|---|---|---|\n",
       "| ENST00000000233.10+chr7:127589150-127591299 | 2 | 1 | 0 | 0 |\n",
       "| ENST00000000233.10+chr7:127589159-127591299 | 9 | 1 | 0 | 0 |\n",
       "| ENST00000003912.7+chr1:24472874-24472910    | 3 | 1 | 0 | 0 |\n",
       "| ENST00000005257.7+chr7:39706646-39706769    | 1 | 1 | 0 | 0 |\n",
       "| ENST00000005257.7+chr7:39706652-39706769    | 1 | 1 | 0 | 0 |\n",
       "| ENST00000005257.7+chr7:39706655-39706769    | 1 | 1 | 0 | 0 |\n",
       "\n"
      ],
      "text/plain": [
       "  ORF_id_trans                                All_psm_n All_peptide_n\n",
       "1 ENST00000000233.10+chr7:127589150-127591299 2         1            \n",
       "2 ENST00000000233.10+chr7:127589159-127591299 9         1            \n",
       "3 ENST00000003912.7+chr1:24472874-24472910    3         1            \n",
       "4 ENST00000005257.7+chr7:39706646-39706769    1         1            \n",
       "5 ENST00000005257.7+chr7:39706652-39706769    1         1            \n",
       "6 ENST00000005257.7+chr7:39706655-39706769    1         1            \n",
       "  Unique_psm_n Unique_peptide_n\n",
       "1 0            0               \n",
       "2 0            0               \n",
       "3 0            0               \n",
       "4 0            0               \n",
       "5 0            0               \n",
       "6 0            0               "
      ]
     },
     "metadata": {},
     "output_type": "display_data"
    }
   ],
   "source": [
    "trans_mul_feature_path <- \"/home/user/data2/lit/project/ZNF271/data/annotation/Ensembl_106_Gencode_v41_Human_Transcript_stable_ID_version_Gene_stable_ID_version_Gene_name_Transcript_type_gene_type.txt\"\n",
    "gpe_path <- \"/home/user/data2/lit/project/ZNF271/data/annotation/gencode.v41.annotation.10.gpe\"\n",
    "trans_based_sorfs_path <- \"/home/user/data3/lit/project/sORFs/01-ribo-seq/analysis/Run_for_human_20250227/human_trans_database_20250324/output/trans_based_sorfs.txt\"\n",
    "fread(ms_info_path) -> ms_info\n",
    "head(ms_info)"
   ]
  },
  {
   "cell_type": "code",
   "execution_count": null,
   "id": "a20e03e5-a073-4d8b-b07e-e86ecc9866db",
   "metadata": {
    "ExecuteTime": {
     "start_time": "2025-07-30T07:20:01.160Z"
    }
   },
   "outputs": [
    {
     "data": {
      "text/html": [
       "<table class=\"dataframe\">\n",
       "<caption>A data.table: 6 × 1</caption>\n",
       "<thead>\n",
       "\t<tr><th scope=col>ORF_id_trans</th></tr>\n",
       "\t<tr><th scope=col>&lt;chr&gt;</th></tr>\n",
       "</thead>\n",
       "<tbody>\n",
       "\t<tr><td>ENST00000000233.10+chr7:127589150-127591299</td></tr>\n",
       "\t<tr><td>ENST00000000233.10+chr7:127589159-127591299</td></tr>\n",
       "\t<tr><td>ENST00000003912.7+chr1:24472874-24472910   </td></tr>\n",
       "\t<tr><td>ENST00000005257.7+chr7:39706646-39706769   </td></tr>\n",
       "\t<tr><td>ENST00000005257.7+chr7:39706652-39706769   </td></tr>\n",
       "\t<tr><td>ENST00000005257.7+chr7:39706655-39706769   </td></tr>\n",
       "</tbody>\n",
       "</table>\n"
      ],
      "text/latex": [
       "A data.table: 6 × 1\n",
       "\\begin{tabular}{l}\n",
       " ORF\\_id\\_trans\\\\\n",
       " <chr>\\\\\n",
       "\\hline\n",
       "\t ENST00000000233.10+chr7:127589150-127591299\\\\\n",
       "\t ENST00000000233.10+chr7:127589159-127591299\\\\\n",
       "\t ENST00000003912.7+chr1:24472874-24472910   \\\\\n",
       "\t ENST00000005257.7+chr7:39706646-39706769   \\\\\n",
       "\t ENST00000005257.7+chr7:39706652-39706769   \\\\\n",
       "\t ENST00000005257.7+chr7:39706655-39706769   \\\\\n",
       "\\end{tabular}\n"
      ],
      "text/markdown": [
       "\n",
       "A data.table: 6 × 1\n",
       "\n",
       "| ORF_id_trans &lt;chr&gt; |\n",
       "|---|\n",
       "| ENST00000000233.10+chr7:127589150-127591299 |\n",
       "| ENST00000000233.10+chr7:127589159-127591299 |\n",
       "| ENST00000003912.7+chr1:24472874-24472910    |\n",
       "| ENST00000005257.7+chr7:39706646-39706769    |\n",
       "| ENST00000005257.7+chr7:39706652-39706769    |\n",
       "| ENST00000005257.7+chr7:39706655-39706769    |\n",
       "\n"
      ],
      "text/plain": [
       "  ORF_id_trans                               \n",
       "1 ENST00000000233.10+chr7:127589150-127591299\n",
       "2 ENST00000000233.10+chr7:127589159-127591299\n",
       "3 ENST00000003912.7+chr1:24472874-24472910   \n",
       "4 ENST00000005257.7+chr7:39706646-39706769   \n",
       "5 ENST00000005257.7+chr7:39706652-39706769   \n",
       "6 ENST00000005257.7+chr7:39706655-39706769   "
      ]
     },
     "metadata": {},
     "output_type": "display_data"
    },
    {
     "name": "stderr",
     "output_type": "stream",
     "text": [
      "\n",
      "Attaching package: ‘tictoc’\n",
      "\n",
      "\n",
      "The following object is masked from ‘package:data.table’:\n",
      "\n",
      "    shift\n",
      "\n",
      "\n"
     ]
    }
   ],
   "source": [
    "ms_info %>% filter(grepl(\"ENST\",ORF_id_trans)) %>% select(ORF_id_trans) -> all_orfs_0\n",
    "head(all_orfs_0)\n",
    "merge(all_orfs_0, ms_info) -> all_orfs\n",
    "\n",
    "library(tictoc)\n",
    "# 3.4min\n",
    "if(orf_id_trans_map){\n",
    "  # 由于之前选择主要转录本的脚本存在错误，因此需要转换一下ORF_trans_id\n",
    "  # 【比较耗时】\n",
    "  tic(\"更新ORF ID映射\")\n",
    "  update_orf_id_trans_dt(all_orfs) -> all_orfs\n",
    "  toc()\n",
    "}\n",
    "# 提取染色体、起始位置、终止位置、链方向等信息\n",
    "matches <- str_match(all_orfs$ORF_id_trans, \"([A-Z]+\\\\d+\\\\.\\\\d+[a-zA-Z_]*)([+-])(chr\\\\w+):(\\\\d+)-(\\\\d+)\")\n",
    "all_orfs$ENS_id <-  matches[, 2]\n",
    "all_orfs$Strand <- matches[, 3]\n",
    "all_orfs$Chr <- matches[, 4]\n",
    "all_orfs$Start <- matches[, 5] %>% as.numeric()\n",
    "all_orfs$End <- matches[, 6] %>% as.numeric()\n",
    "\n",
    "# 合并ORF_id_seq等列【相对比较耗时】\n",
    "# 311.263s 5.2min\n",
    "if(ORF_id_seq_from_trans_based_sorfs){\n",
    "  tic(\"合并信息\")\n",
    "  trans_based_sorfs <- fread_c(trans_based_sorfs_path)\n",
    "  setDT(all_orfs)\n",
    "  setDT(trans_based_sorfs)\n",
    "  setkey(all_orfs, ORF_id_trans)\n",
    "  setkey(trans_based_sorfs, ORF_id_trans)\n",
    "  all_orfs_1 <- trans_based_sorfs[, .(ORF_id_trans, ORF_id_seq, Seq, Scodon, Type)][all_orfs]\n",
    "  all_orfs_1$Length <- nchar(all_orfs_1$Seq)\n",
    "  toc()\n",
    "}"
   ]
  },
  {
   "cell_type": "code",
   "execution_count": null,
   "id": "92e78101-ceb1-4ec8-9237-d93ff707384a",
   "metadata": {
    "ExecuteTime": {
     "start_time": "2025-07-30T07:20:01.161Z"
    }
   },
   "outputs": [],
   "source": [
    "# 加载基因名、转录本类型等信息并整合\n",
    "trans_mul_feature <- fread(trans_mul_feature_path)\n",
    "colnames(trans_mul_feature) <- c(\"Gene_ID\", \"Transcript_ID\", \"Transcript_type\", \"Gene_type\", \"Gene_name\")\n",
    "merge(all_orfs_1, trans_mul_feature,\n",
    "      by.x = \"ENS_id\", by.y = \"Transcript_ID\") -> all_orfs_2\n",
    "all_orfs_2 %>% as.data.frame() -> all_orfs_2\n",
    "\n",
    "# 注释小肽类型\n",
    "gpe <- fread(gpe_path, header = FALSE, data.table = FALSE)\n",
    "gpe[, c(\"V1\", \"V6\", \"V7\")] -> gpe_selected\n",
    "colnames(gpe_selected) <- c(\"ENS_id\", \"CDS_start\", \"CDS_end\")\n",
    "merge(all_orfs_2, gpe_selected) -> all_orfs_3\n",
    "get_orf_type_2(all_orfs_3) -> all_orfs_4"
   ]
  },
  {
   "cell_type": "code",
   "execution_count": null,
   "id": "6a24a096-4ae1-40ce-be7b-baa985556bc2",
   "metadata": {
    "ExecuteTime": {
     "start_time": "2025-07-30T07:20:01.162Z"
    }
   },
   "outputs": [],
   "source": [
    "merge(all_orfs_4, ms_info,all.x = T) -> all_orfs_5\n",
    "head(all_orfs_5,1)\n",
    "colnames(all_orfs_5)\n",
    "fwrite_c(all_orfs_5, o(output_file))"
   ]
  },
  {
   "cell_type": "code",
   "execution_count": null,
   "id": "b4d9134b",
   "metadata": {
    "ExecuteTime": {
     "start_time": "2025-07-30T07:20:01.162Z"
    }
   },
   "outputs": [],
   "source": [
    "nrow(all_orfs)\n",
    "nrow(all_orfs_1)\n",
    "nrow(all_orfs_2)\n",
    "nrow(all_orfs_3)\n",
    "nrow(all_orfs_4)\n",
    "nrow(all_orfs_5)"
   ]
  }
 ],
 "metadata": {
  "kernelspec": {
   "display_name": "R_default_4.2",
   "language": "R",
   "name": "r_default_4.2"
  },
  "language_info": {
   "codemirror_mode": "r",
   "file_extension": ".r",
   "mimetype": "text/x-r-source",
   "name": "R",
   "pygments_lexer": "r",
   "version": "4.2.1"
  },
  "toc": {
   "base_numbering": 1,
   "nav_menu": {},
   "number_sections": true,
   "sideBar": true,
   "skip_h1_title": false,
   "title_cell": "Table of Contents",
   "title_sidebar": "Contents",
   "toc_cell": false,
   "toc_position": {},
   "toc_section_display": true,
   "toc_window_display": false
  }
 },
 "nbformat": 4,
 "nbformat_minor": 5
}
