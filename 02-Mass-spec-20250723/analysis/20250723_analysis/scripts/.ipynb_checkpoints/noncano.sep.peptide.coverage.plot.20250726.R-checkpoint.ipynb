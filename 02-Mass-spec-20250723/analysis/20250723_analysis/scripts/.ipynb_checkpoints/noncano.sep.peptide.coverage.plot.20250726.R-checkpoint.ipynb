{
 "cells": [
  {
   "cell_type": "code",
   "execution_count": null,
   "id": "d26e2311",
   "metadata": {},
   "outputs": [],
   "source": [
    "source(\"/home/user/data2/lit/bin/lit_utils.R\")\n",
    "source(\"/home/user/data3/lit/project/sORFs/sORFs.utils.R\")\n",
    "lib_text()\n"
   ]
  },
  {
   "cell_type": "code",
   "execution_count": null,
   "id": "5f8e82be",
   "metadata": {},
   "outputs": [],
   "source": [
    "setwd(\"/home/user/data3/lit/project/sORFs/02-Mass-spec/human/\")\n",
    "novel_sep_add_info_path <- \"/home/user/data3/lit/project/sORFs/03-Cross-anna/analysis/annotate_ms_orfs_20250401/output/sep_add_basic_ms_ribo_info_group_retained.txt\"\n",
    "##### 肽段在SEP上相对位置的分布【统计】 ##### \n",
    "fread_c(\"./psm_retained_group_based_on_transcript.txt\") -> psm\n",
    "fread_c(\"./sep_unique_psm.txt\") -> psm_1\n",
    "cols <- c(\"Protein\",\"Peptide\")\n",
    "rbind(psm[,cols],psm_1[,cols]) %>% distinct(Protein,Peptide) -> pro_pep\n",
    "fread(novel_sep_add_info_path) -> novel_sep\n",
    "# 需要更新ID\n",
    "pro_pep %>% dplyr::rename(ORF_id_trans=Protein) -> tmp\n",
    "update_orf_id_trans(tmp) -> pro_pep_1\n",
    "# 获取起始密码子等信息\n",
    "merge(pro_pep_1,novel_sep,by=\"ORF_id_trans\") -> all_sep_ms_pep\n",
    "# 创建输出路径\n",
    "create_path(\"./S4\")\n",
    "# 写出ID转换后的novel SEP的肽段支持文件\n",
    "fwrite_c(all_sep_ms_pep,\"./S4/novel_sep_ms_pep.txt\")"
   ]
  }
 ],
 "metadata": {
  "kernelspec": {
   "display_name": "R_default_4.2",
   "language": "R",
   "name": "r_default_4.2"
  },
  "language_info": {
   "codemirror_mode": "r",
   "file_extension": ".r",
   "mimetype": "text/x-r-source",
   "name": "R",
   "pygments_lexer": "r",
   "version": "4.2.1"
  },
  "toc": {
   "base_numbering": 1,
   "nav_menu": {},
   "number_sections": true,
   "sideBar": true,
   "skip_h1_title": false,
   "title_cell": "Table of Contents",
   "title_sidebar": "Contents",
   "toc_cell": false,
   "toc_position": {},
   "toc_section_display": true,
   "toc_window_display": false
  }
 },
 "nbformat": 4,
 "nbformat_minor": 5
}
