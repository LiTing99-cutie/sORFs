{
 "cells": [
  {
   "cell_type": "markdown",
   "id": "22320b85",
   "metadata": {},
   "source": [
    "合并经典被注释的小肽，非经典的小肽\n",
    "\n",
    "预期的输出是\n",
    "\n",
    "- 注释的小肽+非经典被所有肽段支持的小肽+非经典相同数量的负对照小肽\n",
    "- 预期的输出是注释的小肽+非经典被特异性肽段支持的小肽+非经典相同数量的负对照小肽"
   ]
  },
  {
   "cell_type": "code",
   "execution_count": 1,
   "id": "b2f5dd4f",
   "metadata": {
    "ExecuteTime": {
     "end_time": "2025-07-30T07:34:11.480520Z",
     "start_time": "2025-07-30T07:34:10.066Z"
    }
   },
   "outputs": [],
   "source": [
    "source(\"/home/user/data2/lit/bin/lit_utils.R\")\n",
    "source(\"/home/user/data3/lit/project/sORFs/sORFs.utils.R\")\n",
    "lib_text()"
   ]
  },
  {
   "cell_type": "code",
   "execution_count": 2,
   "id": "d3074aab",
   "metadata": {
    "ExecuteTime": {
     "end_time": "2025-07-30T07:34:11.519046Z",
     "start_time": "2025-07-30T07:34:10.067Z"
    }
   },
   "outputs": [],
   "source": [
    "cano.sep.path <- \"../processed/ms_res/cano.sep.tab.info.add.ms.txt\"\n",
    "noncano.sep.ms.suppo.path <- \"../processed/ms_res/noncano.sep.ms.supported.tab.info.txt\"\n",
    "noncano.sep.ms.not.suppo.path <- \"../processed/tab_info/noncano.sep.ms.not.supported.tab.info.txt\""
   ]
  },
  {
   "cell_type": "code",
   "execution_count": 3,
   "id": "94a63f1b",
   "metadata": {
    "ExecuteTime": {
     "end_time": "2025-07-30T07:34:12.019330Z",
     "start_time": "2025-07-30T07:34:10.068Z"
    }
   },
   "outputs": [],
   "source": [
    "fread_c(cano.sep.path) -> cano.sep\n",
    "fread_c(noncano.sep.ms.suppo.path) -> noncano.sep.ms.suppo\n",
    "fread_c(noncano.sep.ms.not.suppo.path) -> noncano.sep.ms.not.suppo"
   ]
  },
  {
   "cell_type": "code",
   "execution_count": 4,
   "id": "cdbf165a",
   "metadata": {
    "ExecuteTime": {
     "end_time": "2025-07-30T07:34:12.058330Z",
     "start_time": "2025-07-30T07:34:10.069Z"
    }
   },
   "outputs": [
    {
     "data": {
      "text/html": [
       "<style>\n",
       ".list-inline {list-style: none; margin:0; padding: 0}\n",
       ".list-inline>li {display: inline-block}\n",
       ".list-inline>li:not(:last-child)::after {content: \"\\00b7\"; padding: 0 .5ex}\n",
       "</style>\n",
       "<ol class=list-inline><li>'Uniprot_id'</li><li>'ENS_id'</li><li>'Seq'</li><li>'Length'</li><li>'Chr'</li><li>'Strand'</li><li>'Start'</li><li>'End'</li><li>'ORF_id_trans'</li><li>'ORF_id_seq'</li><li>'Scodon'</li><li>'Type'</li><li>'ORF_type_1'</li><li>'ORF_type_2'</li><li>'ORF_type_3'</li><li>'Gene_ID'</li><li>'Transcript_type'</li><li>'Gene_type'</li><li>'Gene_name'</li><li>'CDS_start'</li><li>'CDS_end'</li><li>'PE_type'</li><li>'All_psm_n'</li><li>'All_peptide_n'</li><li>'Unique_psm_n'</li><li>'Unique_peptide_n'</li></ol>\n"
      ],
      "text/latex": [
       "\\begin{enumerate*}\n",
       "\\item 'Uniprot\\_id'\n",
       "\\item 'ENS\\_id'\n",
       "\\item 'Seq'\n",
       "\\item 'Length'\n",
       "\\item 'Chr'\n",
       "\\item 'Strand'\n",
       "\\item 'Start'\n",
       "\\item 'End'\n",
       "\\item 'ORF\\_id\\_trans'\n",
       "\\item 'ORF\\_id\\_seq'\n",
       "\\item 'Scodon'\n",
       "\\item 'Type'\n",
       "\\item 'ORF\\_type\\_1'\n",
       "\\item 'ORF\\_type\\_2'\n",
       "\\item 'ORF\\_type\\_3'\n",
       "\\item 'Gene\\_ID'\n",
       "\\item 'Transcript\\_type'\n",
       "\\item 'Gene\\_type'\n",
       "\\item 'Gene\\_name'\n",
       "\\item 'CDS\\_start'\n",
       "\\item 'CDS\\_end'\n",
       "\\item 'PE\\_type'\n",
       "\\item 'All\\_psm\\_n'\n",
       "\\item 'All\\_peptide\\_n'\n",
       "\\item 'Unique\\_psm\\_n'\n",
       "\\item 'Unique\\_peptide\\_n'\n",
       "\\end{enumerate*}\n"
      ],
      "text/markdown": [
       "1. 'Uniprot_id'\n",
       "2. 'ENS_id'\n",
       "3. 'Seq'\n",
       "4. 'Length'\n",
       "5. 'Chr'\n",
       "6. 'Strand'\n",
       "7. 'Start'\n",
       "8. 'End'\n",
       "9. 'ORF_id_trans'\n",
       "10. 'ORF_id_seq'\n",
       "11. 'Scodon'\n",
       "12. 'Type'\n",
       "13. 'ORF_type_1'\n",
       "14. 'ORF_type_2'\n",
       "15. 'ORF_type_3'\n",
       "16. 'Gene_ID'\n",
       "17. 'Transcript_type'\n",
       "18. 'Gene_type'\n",
       "19. 'Gene_name'\n",
       "20. 'CDS_start'\n",
       "21. 'CDS_end'\n",
       "22. 'PE_type'\n",
       "23. 'All_psm_n'\n",
       "24. 'All_peptide_n'\n",
       "25. 'Unique_psm_n'\n",
       "26. 'Unique_peptide_n'\n",
       "\n",
       "\n"
      ],
      "text/plain": [
       " [1] \"Uniprot_id\"       \"ENS_id\"           \"Seq\"              \"Length\"          \n",
       " [5] \"Chr\"              \"Strand\"           \"Start\"            \"End\"             \n",
       " [9] \"ORF_id_trans\"     \"ORF_id_seq\"       \"Scodon\"           \"Type\"            \n",
       "[13] \"ORF_type_1\"       \"ORF_type_2\"       \"ORF_type_3\"       \"Gene_ID\"         \n",
       "[17] \"Transcript_type\"  \"Gene_type\"        \"Gene_name\"        \"CDS_start\"       \n",
       "[21] \"CDS_end\"          \"PE_type\"          \"All_psm_n\"        \"All_peptide_n\"   \n",
       "[25] \"Unique_psm_n\"     \"Unique_peptide_n\""
      ]
     },
     "metadata": {},
     "output_type": "display_data"
    },
    {
     "name": "stdout",
     "output_type": "stream",
     "text": [
      "                 Uniprot_id            ENS_id\n",
      "1 sp|A0A024R1R8|TMA7B_HUMAN ENST00000424496.3\n",
      "                                                               Seq Length   Chr\n",
      "1 MSSHEGGKKKALKQPKKQAKEMDEEEKAFKQKQKEEQKKLEVLKAKVVGKGPLATGGIKKSGKK     64 chr22\n",
      "  Strand    Start      End                              ORF_id_trans\n",
      "1      + 39964374 39964569 ENST00000424496.3+chr22:39964374-39964569\n",
      "                                                                                 ORF_id_seq\n",
      "1 +chr22:39964374-39964569:MSSHEGGKKKALKQPKKQAKEMDEEEKAFKQKQKEEQKKLEVLKAKVVGKGPLATGGIKKSGKK\n",
      "  Scodon      Type ORF_type_1 ORF_type_2 ORF_type_3           Gene_ID\n",
      "1    ATG Canonical  Canonical  Canonical  Canonical ENSG00000225528.4\n",
      "  Transcript_type      Gene_type       Gene_name CDS_start  CDS_end PE_type\n",
      "1  protein_coding protein_coding ENSG00000225528  39964374 39964569    PE_3\n",
      "  All_psm_n All_peptide_n Unique_psm_n Unique_peptide_n\n",
      "1       178             4            0                0\n"
     ]
    },
    {
     "data": {
      "text/html": [
       "<style>\n",
       ".list-inline {list-style: none; margin:0; padding: 0}\n",
       ".list-inline>li {display: inline-block}\n",
       ".list-inline>li:not(:last-child)::after {content: \"\\00b7\"; padding: 0 .5ex}\n",
       "</style>\n",
       "<ol class=list-inline><li>'Uniprot_id'</li><li>'PE_type'</li></ol>\n"
      ],
      "text/latex": [
       "\\begin{enumerate*}\n",
       "\\item 'Uniprot\\_id'\n",
       "\\item 'PE\\_type'\n",
       "\\end{enumerate*}\n"
      ],
      "text/markdown": [
       "1. 'Uniprot_id'\n",
       "2. 'PE_type'\n",
       "\n",
       "\n"
      ],
      "text/plain": [
       "[1] \"Uniprot_id\" \"PE_type\"   "
      ]
     },
     "metadata": {},
     "output_type": "display_data"
    },
    {
     "data": {
      "text/html": [
       "'i.ORF_id_seq'"
      ],
      "text/latex": [
       "'i.ORF\\_id\\_seq'"
      ],
      "text/markdown": [
       "'i.ORF_id_seq'"
      ],
      "text/plain": [
       "[1] \"i.ORF_id_seq\""
      ]
     },
     "metadata": {},
     "output_type": "display_data"
    },
    {
     "data": {
      "text/html": [
       "<style>\n",
       ".list-inline {list-style: none; margin:0; padding: 0}\n",
       ".list-inline>li {display: inline-block}\n",
       ".list-inline>li:not(:last-child)::after {content: \"\\00b7\"; padding: 0 .5ex}\n",
       "</style>\n",
       "<ol class=list-inline><li>'All_psm_n'</li><li>'All_peptide_n'</li><li>'Unique_psm_n'</li><li>'Unique_peptide_n'</li><li>'i.ORF_id_seq'</li></ol>\n"
      ],
      "text/latex": [
       "\\begin{enumerate*}\n",
       "\\item 'All\\_psm\\_n'\n",
       "\\item 'All\\_peptide\\_n'\n",
       "\\item 'Unique\\_psm\\_n'\n",
       "\\item 'Unique\\_peptide\\_n'\n",
       "\\item 'i.ORF\\_id\\_seq'\n",
       "\\end{enumerate*}\n"
      ],
      "text/markdown": [
       "1. 'All_psm_n'\n",
       "2. 'All_peptide_n'\n",
       "3. 'Unique_psm_n'\n",
       "4. 'Unique_peptide_n'\n",
       "5. 'i.ORF_id_seq'\n",
       "\n",
       "\n"
      ],
      "text/plain": [
       "[1] \"All_psm_n\"        \"All_peptide_n\"    \"Unique_psm_n\"     \"Unique_peptide_n\"\n",
       "[5] \"i.ORF_id_seq\"    "
      ]
     },
     "metadata": {},
     "output_type": "display_data"
    }
   ],
   "source": [
    "colnames(cano.sep) -> cols\n",
    "cols\n",
    "head(cano.sep,1) %>% print()\n",
    "setdiff(colnames(cano.sep),colnames(noncano.sep.ms.suppo))\n",
    "setdiff(colnames(noncano.sep.ms.suppo),colnames(cano.sep))\n",
    "setdiff(colnames(noncano.sep.ms.suppo),colnames(noncano.sep.ms.not.suppo))"
   ]
  },
  {
   "cell_type": "code",
   "execution_count": 5,
   "id": "d4395c9e",
   "metadata": {
    "ExecuteTime": {
     "end_time": "2025-07-30T07:34:12.120683Z",
     "start_time": "2025-07-30T07:34:10.070Z"
    }
   },
   "outputs": [],
   "source": [
    "noncano.sep.ms.suppo %>% mutate(Uniprot_id=ORF_id_trans,PE_type=NA,i.ORF_id_seq=NULL) -> noncano.sep.ms.suppo\n",
    "noncano.sep.ms.not.suppo %>% mutate(Uniprot_id=ORF_id_trans,PE_type=NA) %>% mutate(All_psm_n=0,\n",
    "                                                                         All_peptide_n=0,\n",
    "                                                                         Unique_psm_n=0,\n",
    "                                                                        Unique_peptide_n=0) -> noncano.sep.ms.not.suppo"
   ]
  },
  {
   "cell_type": "code",
   "execution_count": 6,
   "id": "f92c1d49",
   "metadata": {
    "ExecuteTime": {
     "end_time": "2025-07-30T07:34:12.297197Z",
     "start_time": "2025-07-30T07:34:10.070Z"
    }
   },
   "outputs": [],
   "source": [
    "rbind(cano.sep,\n",
    "     noncano.sep.ms.not.suppo[,cols],\n",
    "     noncano.sep.ms.suppo[,cols]) -> sep_combined\n",
    "create_path(\"../processed/sep_combined/\")\n",
    "fwrite_c(sep_combined,\"../processed/sep_combined/sep_combined.txt\")"
   ]
  },
  {
   "cell_type": "code",
   "execution_count": 7,
   "id": "2b235f32",
   "metadata": {
    "ExecuteTime": {
     "end_time": "2025-07-30T07:34:12.501883Z",
     "start_time": "2025-07-30T07:34:10.071Z"
    }
   },
   "outputs": [
    {
     "data": {
      "text/html": [
       "2141"
      ],
      "text/latex": [
       "2141"
      ],
      "text/markdown": [
       "2141"
      ],
      "text/plain": [
       "[1] 2141"
      ]
     },
     "metadata": {},
     "output_type": "display_data"
    },
    {
     "data": {
      "text/html": [
       "3243"
      ],
      "text/latex": [
       "3243"
      ],
      "text/markdown": [
       "3243"
      ],
      "text/plain": [
       "[1] 3243"
      ]
     },
     "metadata": {},
     "output_type": "display_data"
    }
   ],
   "source": [
    "noncano.sep.ms.suppo[,cols] %>% filter(Unique_psm_n>0) -> noncano.sep.ms.suppo.unique\n",
    "nrow(noncano.sep.ms.suppo.unique)\n",
    "nrow(cano.sep)\n",
    "set.seed(123)\n",
    "sample(1:nrow(noncano.sep.ms.not.suppo),nrow(noncano.sep.ms.suppo.unique)) ->  sample_rows\n",
    "noncano.sep.ms.not.suppo[sample_rows,] -> noncano.sep.ms.not.suppo.sampled\n",
    "rbind(cano.sep,\n",
    "     noncano.sep.ms.not.suppo.sampled[,cols],\n",
    "     noncano.sep.ms.suppo.unique) -> sep_combined\n",
    "create_path(\"../processed/sep_combined/\")\n",
    "fwrite_c(sep_combined,\"../processed/sep_combined/sep_combined_unique.txt\")"
   ]
  },
  {
   "cell_type": "code",
   "execution_count": 14,
   "id": "08b68b3f",
   "metadata": {
    "ExecuteTime": {
     "end_time": "2025-08-04T12:34:36.534060Z",
     "start_time": "2025-08-04T12:34:36.489Z"
    }
   },
   "outputs": [
    {
     "data": {
      "text/plain": [
       "   Min. 1st Qu.  Median    Mean 3rd Qu.    Max. \n",
       "    4.0    92.0   114.0   109.6   131.0   150.0 "
      ]
     },
     "metadata": {},
     "output_type": "display_data"
    }
   ],
   "source": [
    "filter(sep_combined,Type==\"Canonical\")  %>% .$Length %>% summary()"
   ]
  },
  {
   "cell_type": "code",
   "execution_count": 19,
   "id": "0c13a47b",
   "metadata": {
    "ExecuteTime": {
     "end_time": "2025-08-04T12:36:34.959305Z",
     "start_time": "2025-08-04T12:36:34.777Z"
    }
   },
   "outputs": [
    {
     "data": {
      "image/png": "[encoded data removed]",
      "text/plain": [
       "Plot with title “Histogram of .”"
      ]
     },
     "metadata": {
      "image/png": {
       "height": 420,
       "width": 420
      }
     },
     "output_type": "display_data"
    }
   ],
   "source": [
    "filter(sep_combined,Type==\"Canonical\")  %>% .$Length %>% hist()"
   ]
  },
  {
   "cell_type": "code",
   "execution_count": 22,
   "id": "71372503",
   "metadata": {
    "ExecuteTime": {
     "end_time": "2025-08-04T12:40:21.779237Z",
     "start_time": "2025-08-04T12:40:21.733Z"
    }
   },
   "outputs": [
    {
     "data": {
      "text/html": [
       "<table class=\"dataframe\">\n",
       "<caption>A data.frame: 1 × 26</caption>\n",
       "<thead>\n",
       "\t<tr><th></th><th scope=col>Uniprot_id</th><th scope=col>ENS_id</th><th scope=col>Seq</th><th scope=col>Length</th><th scope=col>Chr</th><th scope=col>Strand</th><th scope=col>Start</th><th scope=col>End</th><th scope=col>ORF_id_trans</th><th scope=col>ORF_id_seq</th><th scope=col>⋯</th><th scope=col>Transcript_type</th><th scope=col>Gene_type</th><th scope=col>Gene_name</th><th scope=col>CDS_start</th><th scope=col>CDS_end</th><th scope=col>PE_type</th><th scope=col>All_psm_n</th><th scope=col>All_peptide_n</th><th scope=col>Unique_psm_n</th><th scope=col>Unique_peptide_n</th></tr>\n",
       "\t<tr><th></th><th scope=col>&lt;chr&gt;</th><th scope=col>&lt;chr&gt;</th><th scope=col>&lt;chr&gt;</th><th scope=col>&lt;int&gt;</th><th scope=col>&lt;chr&gt;</th><th scope=col>&lt;chr&gt;</th><th scope=col>&lt;int&gt;</th><th scope=col>&lt;dbl&gt;</th><th scope=col>&lt;chr&gt;</th><th scope=col>&lt;chr&gt;</th><th scope=col>⋯</th><th scope=col>&lt;chr&gt;</th><th scope=col>&lt;chr&gt;</th><th scope=col>&lt;chr&gt;</th><th scope=col>&lt;int&gt;</th><th scope=col>&lt;int&gt;</th><th scope=col>&lt;chr&gt;</th><th scope=col>&lt;dbl&gt;</th><th scope=col>&lt;dbl&gt;</th><th scope=col>&lt;dbl&gt;</th><th scope=col>&lt;dbl&gt;</th></tr>\n",
       "</thead>\n",
       "<tbody>\n",
       "\t<tr><th scope=row>95</th><td>sp|A0A0B4J200|TJB23_HUMAN</td><td>ENST00000390415.1</td><td>STDTQYFGPGTRLTVL</td><td>16</td><td>chr7</td><td>+</td><td>142796846</td><td>142796895</td><td>ENST00000390415.1+chr7:142796846-142796895</td><td>+chr7:142796846-142796895:STDTQYFGPGTRLTVL</td><td>⋯</td><td>TR_J_gene</td><td>TR_J_gene</td><td>TRBJ2-3</td><td>142796846</td><td>142796895</td><td>PE_1</td><td>0</td><td>0</td><td>0</td><td>0</td></tr>\n",
       "</tbody>\n",
       "</table>\n"
      ],
      "text/latex": [
       "A data.frame: 1 × 26\n",
       "\\begin{tabular}{r|lllllllllllllllllllll}\n",
       "  & Uniprot\\_id & ENS\\_id & Seq & Length & Chr & Strand & Start & End & ORF\\_id\\_trans & ORF\\_id\\_seq & ⋯ & Transcript\\_type & Gene\\_type & Gene\\_name & CDS\\_start & CDS\\_end & PE\\_type & All\\_psm\\_n & All\\_peptide\\_n & Unique\\_psm\\_n & Unique\\_peptide\\_n\\\\\n",
       "  & <chr> & <chr> & <chr> & <int> & <chr> & <chr> & <int> & <dbl> & <chr> & <chr> & ⋯ & <chr> & <chr> & <chr> & <int> & <int> & <chr> & <dbl> & <dbl> & <dbl> & <dbl>\\\\\n",
       "\\hline\n",
       "\t95 & sp\\textbar{}A0A0B4J200\\textbar{}TJB23\\_HUMAN & ENST00000390415.1 & STDTQYFGPGTRLTVL & 16 & chr7 & + & 142796846 & 142796895 & ENST00000390415.1+chr7:142796846-142796895 & +chr7:142796846-142796895:STDTQYFGPGTRLTVL & ⋯ & TR\\_J\\_gene & TR\\_J\\_gene & TRBJ2-3 & 142796846 & 142796895 & PE\\_1 & 0 & 0 & 0 & 0\\\\\n",
       "\\end{tabular}\n"
      ],
      "text/markdown": [
       "\n",
       "A data.frame: 1 × 26\n",
       "\n",
       "| <!--/--> | Uniprot_id &lt;chr&gt; | ENS_id &lt;chr&gt; | Seq &lt;chr&gt; | Length &lt;int&gt; | Chr &lt;chr&gt; | Strand &lt;chr&gt; | Start &lt;int&gt; | End &lt;dbl&gt; | ORF_id_trans &lt;chr&gt; | ORF_id_seq &lt;chr&gt; | ⋯ ⋯ | Transcript_type &lt;chr&gt; | Gene_type &lt;chr&gt; | Gene_name &lt;chr&gt; | CDS_start &lt;int&gt; | CDS_end &lt;int&gt; | PE_type &lt;chr&gt; | All_psm_n &lt;dbl&gt; | All_peptide_n &lt;dbl&gt; | Unique_psm_n &lt;dbl&gt; | Unique_peptide_n &lt;dbl&gt; |\n",
       "|---|---|---|---|---|---|---|---|---|---|---|---|---|---|---|---|---|---|---|---|---|---|\n",
       "| 95 | sp|A0A0B4J200|TJB23_HUMAN | ENST00000390415.1 | STDTQYFGPGTRLTVL | 16 | chr7 | + | 142796846 | 142796895 | ENST00000390415.1+chr7:142796846-142796895 | +chr7:142796846-142796895:STDTQYFGPGTRLTVL | ⋯ | TR_J_gene | TR_J_gene | TRBJ2-3 | 142796846 | 142796895 | PE_1 | 0 | 0 | 0 | 0 |\n",
       "\n"
      ],
      "text/plain": [
       "   Uniprot_id                ENS_id            Seq              Length Chr \n",
       "95 sp|A0A0B4J200|TJB23_HUMAN ENST00000390415.1 STDTQYFGPGTRLTVL 16     chr7\n",
       "   Strand Start     End       ORF_id_trans                              \n",
       "95 +      142796846 142796895 ENST00000390415.1+chr7:142796846-142796895\n",
       "   ORF_id_seq                                 ⋯ Transcript_type Gene_type\n",
       "95 +chr7:142796846-142796895:STDTQYFGPGTRLTVL ⋯ TR_J_gene       TR_J_gene\n",
       "   Gene_name CDS_start CDS_end   PE_type All_psm_n All_peptide_n Unique_psm_n\n",
       "95 TRBJ2-3   142796846 142796895 PE_1    0         0             0           \n",
       "   Unique_peptide_n\n",
       "95 0               "
      ]
     },
     "metadata": {},
     "output_type": "display_data"
    }
   ],
   "source": [
    "filter(sep_combined,Length<20 & PE_type==\"PE_1\")"
   ]
  },
  {
   "cell_type": "code",
   "execution_count": 8,
   "id": "85c7901a",
   "metadata": {
    "ExecuteTime": {
     "end_time": "2025-07-30T07:34:12.522734Z",
     "start_time": "2025-07-30T07:34:10.071Z"
    }
   },
   "outputs": [
    {
     "data": {
      "text/html": [
       "2141"
      ],
      "text/latex": [
       "2141"
      ],
      "text/markdown": [
       "2141"
      ],
      "text/plain": [
       "[1] 2141"
      ]
     },
     "metadata": {},
     "output_type": "display_data"
    }
   ],
   "source": [
    "noncano.sep.ms.suppo %>% filter(Unique_psm_n>0) %>% nrow()"
   ]
  },
  {
   "cell_type": "code",
   "execution_count": 9,
   "id": "c8111431",
   "metadata": {
    "ExecuteTime": {
     "end_time": "2025-07-30T07:34:12.762249Z",
     "start_time": "2025-07-30T07:34:10.072Z"
    }
   },
   "outputs": [
    {
     "data": {
      "text/plain": [
       "\n",
       "           Canonical                doORF                 dORF \n",
       "                   3                   13                  110 \n",
       "           Extension             Internal               lncRNA \n",
       "                   1                   47                   97 \n",
       "         ncORF_other     ncORF_pseudogene processed_transcript \n",
       "                   2                  310                  128 \n",
       "     retained_intron           Truncation                uoORF \n",
       "                 279                 1114                    7 \n",
       "                uORF \n",
       "                  30 "
      ]
     },
     "metadata": {},
     "output_type": "display_data"
    }
   ],
   "source": [
    "table(noncano.sep.ms.suppo.unique$ORF_type_3)"
   ]
  }
 ],
 "metadata": {
  "kernelspec": {
   "display_name": "R_default_4.2",
   "language": "R",
   "name": "r_default_4.2"
  },
  "language_info": {
   "codemirror_mode": "r",
   "file_extension": ".r",
   "mimetype": "text/x-r-source",
   "name": "R",
   "pygments_lexer": "r",
   "version": "4.2.1"
  },
  "toc": {
   "base_numbering": 1,
   "nav_menu": {},
   "number_sections": true,
   "sideBar": true,
   "skip_h1_title": false,
   "title_cell": "Table of Contents",
   "title_sidebar": "Contents",
   "toc_cell": false,
   "toc_position": {},
   "toc_section_display": true,
   "toc_window_display": false
  }
 },
 "nbformat": 4,
 "nbformat_minor": 5
}
