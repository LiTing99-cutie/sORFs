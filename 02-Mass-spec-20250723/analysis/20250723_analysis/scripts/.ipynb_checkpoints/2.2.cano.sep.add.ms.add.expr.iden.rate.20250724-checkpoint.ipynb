{
 "cells": [
  {
   "cell_type": "code",
   "execution_count": 2,
   "id": "1f956bf7-30b0-47ef-9a0e-e7855f247d6f",
   "metadata": {
    "ExecuteTime": {
     "end_time": "2025-07-26T03:30:56.879238Z",
     "start_time": "2025-07-26T03:30:55.232Z"
    }
   },
   "outputs": [],
   "source": [
    "source(\"/home/user/data2/lit/bin/lit_utils.R\")\n",
    "source(\"/home/user/data3/lit/project/sORFs/sORFs.utils.R\")\n",
    "lib_text()\n",
    "lib_plot()"
   ]
  },
  {
   "cell_type": "code",
   "execution_count": 3,
   "id": "a0b7907b-8cc1-4a84-a188-67039736361a",
   "metadata": {
    "ExecuteTime": {
     "end_time": "2025-07-26T03:30:59.723750Z",
     "start_time": "2025-07-26T03:30:58.885Z"
    }
   },
   "outputs": [],
   "source": [
    "assign_ms_type<-function(df){\n",
    "    mutate(df,MS_detection=case_when(\n",
    "      Unique_psm_n!=0  ~ \"MS_unique_peptide\",\n",
    "      Unique_psm_n==0 & All_psm_n!=0 ~ \"MS_nonUnique_peptide\",\n",
    "      TRUE ~ \"MS_no_detection\"\n",
    "    )) -> df\n",
    "    return(df)\n",
    "}\n",
    "assgn_sep_type<-function(df){\n",
    "    mutate(df,Cano_type=case_when(\n",
    "      ORF_type_1==\"Canonical\"  ~ \"Cano\",\n",
    "      TRUE ~ \"Uncano\"\n",
    "    )) -> df\n",
    "    return(df)\n",
    "}\n",
    "\n",
    "calcu_iden_rate_cutoff <- function(df,cutoff,PE_level){\n",
    "    df %>% filter(PE_type %in% PE_level) -> df_1\n",
    "    if(cutoff==\"None\"){\n",
    "    df_1 -> tmp_1\n",
    "    }else{\n",
    "    df_1 %>% filter(A>cutoff) -> tmp_1\n",
    "    }\n",
    "    nrow(tmp_1) -> N\n",
    "    tmp_1 %>% count(MS_detection) -> tmp_2\n",
    "    tmp_2 %>% filter(MS_detection==\"MS_unique_peptide\") %>% .[,2] -> MS_unique_peptide_n\n",
    "    tmp_2 %>% filter(MS_detection==\"MS_nonUnique_peptide\") %>% .[,2] -> MS_nonUnique_peptide_n\n",
    "    MS_unique_peptide_n+MS_nonUnique_peptide_n -> MS_all_peptide_n\n",
    "    return(list(N,MS_unique_peptide_n/N,MS_all_peptide_n/N))\n",
    "}"
   ]
  },
  {
   "cell_type": "code",
   "execution_count": 4,
   "id": "e6dc0d66-bafa-4510-93d2-f1b7034e641d",
   "metadata": {
    "ExecuteTime": {
     "end_time": "2025-07-26T03:31:03.121788Z",
     "start_time": "2025-07-26T03:31:02.245Z"
    }
   },
   "outputs": [],
   "source": [
    "gene_expr_path=\"/home/user/data3/lit/project/sORFs/06-RNA-seq/02-output-20250621/expr/rpkm_N_C_A.txt\"\n",
    "cano_sep_tab_info_path=\"../processed/tab_info/cano.sep.tab.info.txt\"\n",
    "ms_info_path=\"../processed/ms_res/ms_info.txt\""
   ]
  },
  {
   "cell_type": "code",
   "execution_count": 5,
   "id": "bebcdbd2-3d5a-418d-aa78-b80dd70450d5",
   "metadata": {
    "ExecuteTime": {
     "end_time": "2025-07-26T03:31:04.802173Z",
     "start_time": "2025-07-26T03:31:03.466Z"
    }
   },
   "outputs": [
    {
     "data": {
      "text/html": [
       "<table class=\"dataframe\">\n",
       "<caption>A data.frame: 1 × 4</caption>\n",
       "<thead>\n",
       "\t<tr><th></th><th scope=col>C</th><th scope=col>N</th><th scope=col>Geneid</th><th scope=col>A</th></tr>\n",
       "\t<tr><th></th><th scope=col>&lt;dbl&gt;</th><th scope=col>&lt;dbl&gt;</th><th scope=col>&lt;chr&gt;</th><th scope=col>&lt;dbl&gt;</th></tr>\n",
       "</thead>\n",
       "<tbody>\n",
       "\t<tr><th scope=row>1</th><td>0</td><td>0.0004423908</td><td>ENSG00000223972.5</td><td>0.0002211954</td></tr>\n",
       "</tbody>\n",
       "</table>\n"
      ],
      "text/latex": [
       "A data.frame: 1 × 4\n",
       "\\begin{tabular}{r|llll}\n",
       "  & C & N & Geneid & A\\\\\n",
       "  & <dbl> & <dbl> & <chr> & <dbl>\\\\\n",
       "\\hline\n",
       "\t1 & 0 & 0.0004423908 & ENSG00000223972.5 & 0.0002211954\\\\\n",
       "\\end{tabular}\n"
      ],
      "text/markdown": [
       "\n",
       "A data.frame: 1 × 4\n",
       "\n",
       "| <!--/--> | C &lt;dbl&gt; | N &lt;dbl&gt; | Geneid &lt;chr&gt; | A &lt;dbl&gt; |\n",
       "|---|---|---|---|---|\n",
       "| 1 | 0 | 0.0004423908 | ENSG00000223972.5 | 0.0002211954 |\n",
       "\n"
      ],
      "text/plain": [
       "  C N            Geneid            A           \n",
       "1 0 0.0004423908 ENSG00000223972.5 0.0002211954"
      ]
     },
     "metadata": {},
     "output_type": "display_data"
    }
   ],
   "source": [
    "fread_c(cano_sep_tab_info_path) -> cano_sep_tab_info\n",
    "fread_c(ms_info_path) -> ms_info\n",
    "fread_c(gene_expr_path) -> gene_expr\n",
    "head(gene_expr,1)"
   ]
  },
  {
   "cell_type": "code",
   "execution_count": 18,
   "id": "394199d6",
   "metadata": {
    "ExecuteTime": {
     "end_time": "2025-07-28T08:27:07.359980Z",
     "start_time": "2025-07-28T08:27:06.489Z"
    }
   },
   "outputs": [
    {
     "data": {
      "text/html": [
       "2141"
      ],
      "text/latex": [
       "2141"
      ],
      "text/markdown": [
       "2141"
      ],
      "text/plain": [
       "[1] 2141"
      ]
     },
     "metadata": {},
     "output_type": "display_data"
    }
   ],
   "source": [
    "ms_info %>% filter(Unique_psm_n>0) %>% filter(grepl(\"ENST\",ORF_id_trans)) %>% nrow()"
   ]
  },
  {
   "cell_type": "markdown",
   "id": "055e7a88-a817-4b51-82f1-f5ac34835db9",
   "metadata": {},
   "source": [
    "# 合并ms_info"
   ]
  },
  {
   "cell_type": "code",
   "execution_count": 6,
   "id": "1dcef689-3f61-436a-807a-ab73fff09f58",
   "metadata": {
    "ExecuteTime": {
     "end_time": "2025-07-26T03:31:07.784677Z",
     "start_time": "2025-07-26T03:31:06.809Z"
    }
   },
   "outputs": [
    {
     "data": {
      "text/html": [
       "<table class=\"dataframe\">\n",
       "<caption>A data.frame: 1 × 26</caption>\n",
       "<thead>\n",
       "\t<tr><th></th><th scope=col>Uniprot_id</th><th scope=col>ENS_id</th><th scope=col>Seq</th><th scope=col>Length</th><th scope=col>Chr</th><th scope=col>Strand</th><th scope=col>Start</th><th scope=col>End</th><th scope=col>ORF_id_trans</th><th scope=col>ORF_id_seq</th><th scope=col>⋯</th><th scope=col>Transcript_type</th><th scope=col>Gene_type</th><th scope=col>Gene_name</th><th scope=col>CDS_start</th><th scope=col>CDS_end</th><th scope=col>PE_type</th><th scope=col>All_psm_n</th><th scope=col>All_peptide_n</th><th scope=col>Unique_psm_n</th><th scope=col>Unique_peptide_n</th></tr>\n",
       "\t<tr><th></th><th scope=col>&lt;chr&gt;</th><th scope=col>&lt;chr&gt;</th><th scope=col>&lt;chr&gt;</th><th scope=col>&lt;int&gt;</th><th scope=col>&lt;chr&gt;</th><th scope=col>&lt;chr&gt;</th><th scope=col>&lt;int&gt;</th><th scope=col>&lt;int&gt;</th><th scope=col>&lt;chr&gt;</th><th scope=col>&lt;chr&gt;</th><th scope=col>⋯</th><th scope=col>&lt;chr&gt;</th><th scope=col>&lt;chr&gt;</th><th scope=col>&lt;chr&gt;</th><th scope=col>&lt;int&gt;</th><th scope=col>&lt;int&gt;</th><th scope=col>&lt;chr&gt;</th><th scope=col>&lt;dbl&gt;</th><th scope=col>&lt;dbl&gt;</th><th scope=col>&lt;dbl&gt;</th><th scope=col>&lt;dbl&gt;</th></tr>\n",
       "</thead>\n",
       "<tbody>\n",
       "\t<tr><th scope=row>1</th><td>sp|A0A024R1R8|TMA7B_HUMAN</td><td>ENST00000424496.3</td><td>MSSHEGGKKKALKQPKKQAKEMDEEEKAFKQKQKEEQKKLEVLKAKVVGKGPLATGGIKKSGKK</td><td>64</td><td>chr22</td><td>+</td><td>39964374</td><td>39964569</td><td>ENST00000424496.3+chr22:39964374-39964569</td><td>+chr22:39964374-39964569:MSSHEGGKKKALKQPKKQAKEMDEEEKAFKQKQKEEQKKLEVLKAKVVGKGPLATGGIKKSGKK</td><td>⋯</td><td>protein_coding</td><td>protein_coding</td><td>ENSG00000225528</td><td>39964374</td><td>39964569</td><td>PE_3</td><td>178</td><td>4</td><td>0</td><td>0</td></tr>\n",
       "</tbody>\n",
       "</table>\n"
      ],
      "text/latex": [
       "A data.frame: 1 × 26\n",
       "\\begin{tabular}{r|lllllllllllllllllllll}\n",
       "  & Uniprot\\_id & ENS\\_id & Seq & Length & Chr & Strand & Start & End & ORF\\_id\\_trans & ORF\\_id\\_seq & ⋯ & Transcript\\_type & Gene\\_type & Gene\\_name & CDS\\_start & CDS\\_end & PE\\_type & All\\_psm\\_n & All\\_peptide\\_n & Unique\\_psm\\_n & Unique\\_peptide\\_n\\\\\n",
       "  & <chr> & <chr> & <chr> & <int> & <chr> & <chr> & <int> & <int> & <chr> & <chr> & ⋯ & <chr> & <chr> & <chr> & <int> & <int> & <chr> & <dbl> & <dbl> & <dbl> & <dbl>\\\\\n",
       "\\hline\n",
       "\t1 & sp\\textbar{}A0A024R1R8\\textbar{}TMA7B\\_HUMAN & ENST00000424496.3 & MSSHEGGKKKALKQPKKQAKEMDEEEKAFKQKQKEEQKKLEVLKAKVVGKGPLATGGIKKSGKK & 64 & chr22 & + & 39964374 & 39964569 & ENST00000424496.3+chr22:39964374-39964569 & +chr22:39964374-39964569:MSSHEGGKKKALKQPKKQAKEMDEEEKAFKQKQKEEQKKLEVLKAKVVGKGPLATGGIKKSGKK & ⋯ & protein\\_coding & protein\\_coding & ENSG00000225528 & 39964374 & 39964569 & PE\\_3 & 178 & 4 & 0 & 0\\\\\n",
       "\\end{tabular}\n"
      ],
      "text/markdown": [
       "\n",
       "A data.frame: 1 × 26\n",
       "\n",
       "| <!--/--> | Uniprot_id &lt;chr&gt; | ENS_id &lt;chr&gt; | Seq &lt;chr&gt; | Length &lt;int&gt; | Chr &lt;chr&gt; | Strand &lt;chr&gt; | Start &lt;int&gt; | End &lt;int&gt; | ORF_id_trans &lt;chr&gt; | ORF_id_seq &lt;chr&gt; | ⋯ ⋯ | Transcript_type &lt;chr&gt; | Gene_type &lt;chr&gt; | Gene_name &lt;chr&gt; | CDS_start &lt;int&gt; | CDS_end &lt;int&gt; | PE_type &lt;chr&gt; | All_psm_n &lt;dbl&gt; | All_peptide_n &lt;dbl&gt; | Unique_psm_n &lt;dbl&gt; | Unique_peptide_n &lt;dbl&gt; |\n",
       "|---|---|---|---|---|---|---|---|---|---|---|---|---|---|---|---|---|---|---|---|---|---|\n",
       "| 1 | sp|A0A024R1R8|TMA7B_HUMAN | ENST00000424496.3 | MSSHEGGKKKALKQPKKQAKEMDEEEKAFKQKQKEEQKKLEVLKAKVVGKGPLATGGIKKSGKK | 64 | chr22 | + | 39964374 | 39964569 | ENST00000424496.3+chr22:39964374-39964569 | +chr22:39964374-39964569:MSSHEGGKKKALKQPKKQAKEMDEEEKAFKQKQKEEQKKLEVLKAKVVGKGPLATGGIKKSGKK | ⋯ | protein_coding | protein_coding | ENSG00000225528 | 39964374 | 39964569 | PE_3 | 178 | 4 | 0 | 0 |\n",
       "\n"
      ],
      "text/plain": [
       "  Uniprot_id                ENS_id           \n",
       "1 sp|A0A024R1R8|TMA7B_HUMAN ENST00000424496.3\n",
       "  Seq                                                              Length Chr  \n",
       "1 MSSHEGGKKKALKQPKKQAKEMDEEEKAFKQKQKEEQKKLEVLKAKVVGKGPLATGGIKKSGKK 64     chr22\n",
       "  Strand Start    End      ORF_id_trans                             \n",
       "1 +      39964374 39964569 ENST00000424496.3+chr22:39964374-39964569\n",
       "  ORF_id_seq                                                                               \n",
       "1 +chr22:39964374-39964569:MSSHEGGKKKALKQPKKQAKEMDEEEKAFKQKQKEEQKKLEVLKAKVVGKGPLATGGIKKSGKK\n",
       "  ⋯ Transcript_type Gene_type      Gene_name       CDS_start CDS_end  PE_type\n",
       "1 ⋯ protein_coding  protein_coding ENSG00000225528 39964374  39964569 PE_3   \n",
       "  All_psm_n All_peptide_n Unique_psm_n Unique_peptide_n\n",
       "1 178       4             0            0               "
      ]
     },
     "metadata": {},
     "output_type": "display_data"
    },
    {
     "data": {
      "text/html": [
       "<table class=\"dataframe\">\n",
       "<caption>A data.frame: 1 × 2</caption>\n",
       "<thead>\n",
       "\t<tr><th scope=col>ORF_type_1</th><th scope=col>n</th></tr>\n",
       "\t<tr><th scope=col>&lt;chr&gt;</th><th scope=col>&lt;int&gt;</th></tr>\n",
       "</thead>\n",
       "<tbody>\n",
       "\t<tr><td>Canonical</td><td>3243</td></tr>\n",
       "</tbody>\n",
       "</table>\n"
      ],
      "text/latex": [
       "A data.frame: 1 × 2\n",
       "\\begin{tabular}{ll}\n",
       " ORF\\_type\\_1 & n\\\\\n",
       " <chr> & <int>\\\\\n",
       "\\hline\n",
       "\t Canonical & 3243\\\\\n",
       "\\end{tabular}\n"
      ],
      "text/markdown": [
       "\n",
       "A data.frame: 1 × 2\n",
       "\n",
       "| ORF_type_1 &lt;chr&gt; | n &lt;int&gt; |\n",
       "|---|---|\n",
       "| Canonical | 3243 |\n",
       "\n"
      ],
      "text/plain": [
       "  ORF_type_1 n   \n",
       "1 Canonical  3243"
      ]
     },
     "metadata": {},
     "output_type": "display_data"
    },
    {
     "data": {
      "text/html": [
       "<table class=\"dataframe\">\n",
       "<caption>A data.frame: 1 × 2</caption>\n",
       "<thead>\n",
       "\t<tr><th scope=col>ORF_type_1</th><th scope=col>n</th></tr>\n",
       "\t<tr><th scope=col>&lt;chr&gt;</th><th scope=col>&lt;int&gt;</th></tr>\n",
       "</thead>\n",
       "<tbody>\n",
       "\t<tr><td>Canonical</td><td>744</td></tr>\n",
       "</tbody>\n",
       "</table>\n"
      ],
      "text/latex": [
       "A data.frame: 1 × 2\n",
       "\\begin{tabular}{ll}\n",
       " ORF\\_type\\_1 & n\\\\\n",
       " <chr> & <int>\\\\\n",
       "\\hline\n",
       "\t Canonical & 744\\\\\n",
       "\\end{tabular}\n"
      ],
      "text/markdown": [
       "\n",
       "A data.frame: 1 × 2\n",
       "\n",
       "| ORF_type_1 &lt;chr&gt; | n &lt;int&gt; |\n",
       "|---|---|\n",
       "| Canonical | 744 |\n",
       "\n"
      ],
      "text/plain": [
       "  ORF_type_1 n  \n",
       "1 Canonical  744"
      ]
     },
     "metadata": {},
     "output_type": "display_data"
    },
    {
     "data": {
      "text/html": [
       "<table class=\"dataframe\">\n",
       "<caption>A data.frame: 1 × 2</caption>\n",
       "<thead>\n",
       "\t<tr><th scope=col>ORF_type_1</th><th scope=col>n</th></tr>\n",
       "\t<tr><th scope=col>&lt;chr&gt;</th><th scope=col>&lt;int&gt;</th></tr>\n",
       "</thead>\n",
       "<tbody>\n",
       "\t<tr><td>Canonical</td><td>1642</td></tr>\n",
       "</tbody>\n",
       "</table>\n"
      ],
      "text/latex": [
       "A data.frame: 1 × 2\n",
       "\\begin{tabular}{ll}\n",
       " ORF\\_type\\_1 & n\\\\\n",
       " <chr> & <int>\\\\\n",
       "\\hline\n",
       "\t Canonical & 1642\\\\\n",
       "\\end{tabular}\n"
      ],
      "text/markdown": [
       "\n",
       "A data.frame: 1 × 2\n",
       "\n",
       "| ORF_type_1 &lt;chr&gt; | n &lt;int&gt; |\n",
       "|---|---|\n",
       "| Canonical | 1642 |\n",
       "\n"
      ],
      "text/plain": [
       "  ORF_type_1 n   \n",
       "1 Canonical  1642"
      ]
     },
     "metadata": {},
     "output_type": "display_data"
    }
   ],
   "source": [
    "merge(cano_sep_tab_info,ms_info,by.x='Uniprot_id',by.y='ORF_id_trans',all.x=T) -> cano_sep_tab_info_add_ms\n",
    "cano_sep_tab_info_add_ms[is.na(cano_sep_tab_info_add_ms)] <- 0\n",
    "head(cano_sep_tab_info_add_ms,1)\n",
    "\n",
    "cano_sep_tab_info_add_ms %>% count(ORF_type_1)\n",
    "cano_sep_tab_info_add_ms %>% filter(Unique_psm_n>0) %>% count(ORF_type_1)\n",
    "cano_sep_tab_info_add_ms %>% filter(All_psm_n>0) %>% count(ORF_type_1)\n",
    "\n",
    "# 导出\n",
    "fwrite_c(cano_sep_tab_info_add_ms,\"../processed/ms_res/cano.sep.tab.info.add.ms.txt\")"
   ]
  },
  {
   "cell_type": "markdown",
   "id": "2b147ff5-a459-41f9-8a07-9a7affe9c214",
   "metadata": {},
   "source": [
    "# 查看鉴定比例"
   ]
  },
  {
   "cell_type": "code",
   "execution_count": 7,
   "id": "68289857-4d19-491b-a0dc-0aaa98eabf96",
   "metadata": {
    "ExecuteTime": {
     "end_time": "2025-07-26T03:31:12.502082Z",
     "start_time": "2025-07-26T03:31:11.621Z"
    }
   },
   "outputs": [
    {
     "data": {
      "text/html": [
       "3243"
      ],
      "text/latex": [
       "3243"
      ],
      "text/markdown": [
       "3243"
      ],
      "text/plain": [
       "[1] 3243"
      ]
     },
     "metadata": {},
     "output_type": "display_data"
    }
   ],
   "source": [
    "assign_ms_type(cano_sep_tab_info_add_ms) -> cano_sep_tab_info_add_ms\n",
    "nrow(cano_sep_tab_info_add_ms)"
   ]
  },
  {
   "cell_type": "code",
   "execution_count": 8,
   "id": "d56c9e3f-b3b9-4dfd-aa67-818fe69eba1c",
   "metadata": {
    "ExecuteTime": {
     "end_time": "2025-07-26T03:31:13.600004Z",
     "start_time": "2025-07-26T03:31:12.720Z"
    }
   },
   "outputs": [],
   "source": [
    "merge(cano_sep_tab_info_add_ms,gene_expr,by.x=\"Gene_ID\",by.y=\"Geneid\") -> cano_sep_tab_info_add_ms_expr"
   ]
  },
  {
   "cell_type": "code",
   "execution_count": 11,
   "id": "64728231-d5eb-419f-9577-1236a2a991f7",
   "metadata": {
    "ExecuteTime": {
     "end_time": "2025-07-26T03:31:25.927105Z",
     "start_time": "2025-07-26T03:31:25.083Z"
    }
   },
   "outputs": [
    {
     "data": {
      "text/html": [
       "3243"
      ],
      "text/latex": [
       "3243"
      ],
      "text/markdown": [
       "3243"
      ],
      "text/plain": [
       "[1] 3243"
      ]
     },
     "metadata": {},
     "output_type": "display_data"
    },
    {
     "data": {
      "text/plain": [
       "\n",
       "     MS_no_detection MS_nonUnique_peptide    MS_unique_peptide \n",
       "                1601                  898                  744 "
      ]
     },
     "metadata": {},
     "output_type": "display_data"
    }
   ],
   "source": [
    "nrow(cano_sep_tab_info_add_ms_expr)\n",
    "table(cano_sep_tab_info_add_ms_expr$MS_detection)"
   ]
  },
  {
   "cell_type": "code",
   "execution_count": 12,
   "id": "bfb7af05-0c82-4e61-933f-5bedc4bd8313",
   "metadata": {
    "ExecuteTime": {
     "end_time": "2025-07-26T03:31:37.354541Z",
     "start_time": "2025-07-26T03:31:36.463Z"
    }
   },
   "outputs": [
    {
     "data": {
      "text/html": [
       "<ol>\n",
       "\t<li>1572</li>\n",
       "\t<li>0.413486005089059</li>\n",
       "\t<li>0.560432569974555</li>\n",
       "</ol>\n"
      ],
      "text/latex": [
       "\\begin{enumerate}\n",
       "\\item 1572\n",
       "\\item 0.413486005089059\n",
       "\\item 0.560432569974555\n",
       "\\end{enumerate}\n"
      ],
      "text/markdown": [
       "1. 1572\n",
       "2. 0.413486005089059\n",
       "3. 0.560432569974555\n",
       "\n",
       "\n"
      ],
      "text/plain": [
       "[[1]]\n",
       "[1] 1572\n",
       "\n",
       "[[2]]\n",
       "[1] 0.413486\n",
       "\n",
       "[[3]]\n",
       "[1] 0.5604326\n"
      ]
     },
     "metadata": {},
     "output_type": "display_data"
    },
    {
     "data": {
      "text/html": [
       "<ol>\n",
       "\t<li>662</li>\n",
       "\t<li>0.678247734138973</li>\n",
       "\t<li>0.865558912386707</li>\n",
       "</ol>\n"
      ],
      "text/latex": [
       "\\begin{enumerate}\n",
       "\\item 662\n",
       "\\item 0.678247734138973\n",
       "\\item 0.865558912386707\n",
       "\\end{enumerate}\n"
      ],
      "text/markdown": [
       "1. 662\n",
       "2. 0.678247734138973\n",
       "3. 0.865558912386707\n",
       "\n",
       "\n"
      ],
      "text/plain": [
       "[[1]]\n",
       "[1] 662\n",
       "\n",
       "[[2]]\n",
       "[1] 0.6782477\n",
       "\n",
       "[[3]]\n",
       "[1] 0.8655589\n"
      ]
     },
     "metadata": {},
     "output_type": "display_data"
    }
   ],
   "source": [
    "##### 经典小肽卡不同的基因表达阈值，被质谱鉴定出来的比例 #####\n",
    "calcu_iden_rate_cutoff(cano_sep_tab_info_add_ms_expr,\"None\",\"PE_1\")\n",
    "calcu_iden_rate_cutoff(cano_sep_tab_info_add_ms_expr,1,\"PE_1\")"
   ]
  }
 ],
 "metadata": {
  "kernelspec": {
   "display_name": "R_default_4.2",
   "language": "R",
   "name": "r_default_4.2"
  },
  "language_info": {
   "codemirror_mode": "r",
   "file_extension": ".r",
   "mimetype": "text/x-r-source",
   "name": "R",
   "pygments_lexer": "r",
   "version": "4.2.1"
  },
  "toc": {
   "base_numbering": 1,
   "nav_menu": {},
   "number_sections": true,
   "sideBar": true,
   "skip_h1_title": false,
   "title_cell": "Table of Contents",
   "title_sidebar": "Contents",
   "toc_cell": false,
   "toc_position": {
    "height": "calc(100% - 180px)",
    "left": "10px",
    "top": "150px",
    "width": "165px"
   },
   "toc_section_display": true,
   "toc_window_display": true
  }
 },
 "nbformat": 4,
 "nbformat_minor": 5
}
