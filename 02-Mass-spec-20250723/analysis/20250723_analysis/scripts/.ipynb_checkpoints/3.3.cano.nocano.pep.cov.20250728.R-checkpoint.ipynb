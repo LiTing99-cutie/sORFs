{
 "cells": [
  {
   "cell_type": "markdown",
   "id": "42d5c4ad",
   "metadata": {},
   "source": [
    "想知道经典蛋白和非经典蛋白的特异性肽段在蛋白质上的分布"
   ]
  },
  {
   "cell_type": "code",
   "execution_count": 63,
   "id": "06ea1a02",
   "metadata": {
    "ExecuteTime": {
     "end_time": "2025-07-28T11:43:46.593622Z",
     "start_time": "2025-07-28T11:43:45.504Z"
    }
   },
   "outputs": [],
   "source": [
    "source(\"/home/user/data2/lit/bin/lit_utils.R\")\n",
    "source(\"/home/user/data3/lit/project/sORFs/sORFs.utils.R\")\n",
    "lib_text()\n",
    "lib_plot()"
   ]
  },
  {
   "cell_type": "code",
   "execution_count": 146,
   "id": "5c8c3035",
   "metadata": {
    "ExecuteTime": {
     "end_time": "2025-07-28T12:24:52.636742Z",
     "start_time": "2025-07-28T12:24:51.674Z"
    },
    "code_folding": []
   },
   "outputs": [],
   "source": [
    "library(data.table)\n",
    "library(dplyr)\n",
    "library(ggplot2)\n",
    "library(patchwork)\n",
    "\n",
    "# 计算起点和终点距离\n",
    "calc_N_C_distances <- function(protein, peptide) {\n",
    "  protein_len <- nchar(protein)\n",
    "  peptide_len <- nchar(peptide)\n",
    "  for (i in 1:(protein_len - peptide_len + 1)) {\n",
    "    subseq <- substr(protein, i, i + peptide_len - 1)\n",
    "    if (subseq == peptide) {\n",
    "      dist_N <- i - 1\n",
    "      dist_C <- -(protein_len - (i + peptide_len - 1))\n",
    "      return(data.frame(Dist_N = dist_N, Dist_C = dist_C))\n",
    "    }\n",
    "  }\n",
    "  return(NULL)  # 如果找不到匹配\n",
    "}\n",
    "\n",
    "# 批量应用函数，输入是数据框 df，包含 Seq 和 Peptide 列\n",
    "get_all_distances <- function(df) {\n",
    "  result_list <- purrr::map2(df$Seq, df$Peptide, calc_N_C_distances)\n",
    "  bind_rows(result_list)\n",
    "}\n",
    "\n",
    "# 可视化：画直方图\n",
    "plot_N_C_distance_histogram <- function(dist_df,ymax) {\n",
    "    count(dist_df,Dist_N)  %>% head(26) -> df_Dist_N\n",
    "    count(dist_df,Dist_C) %>% tail(26) -> df_Dist_C\n",
    "    ymax <- max(df_Dist_N$n,df_Dist_C$n)\n",
    "  p1 <- ggplot(df_Dist_N, aes(x = Dist_N,y=n)) +\n",
    "    geom_bar(fill = \"#2f5688\",stat = \"identity\") +\n",
    "    labs(x = \"Distance from start codon (N-term)\", y = \"Count\") +\n",
    "    theme_3() +\n",
    "        scale_y_continuous(expand = expansion(mult = c(0, \n",
    "        0.09)))+\n",
    "    scale_x_continuous(expand = expansion(mult = c(0, \n",
    "        0)))+\n",
    "    coord_cartesian(ylim = c(0, ymax))\n",
    "  p2 <- ggplot(df_Dist_C, aes(x = Dist_C,y=n)) +\n",
    "    geom_bar(stat = \"identity\", fill = \"#CC0000\") +\n",
    "    labs(x = \"Distance to protein end (C-term)\", y = \"Count\") +\n",
    "    theme_3() +\n",
    "    scale_y_continuous(expand = expansion(mult = c(0, \n",
    "        0.09)))+\n",
    "    scale_x_continuous(expand = expansion(mult = c(0, \n",
    "        0)))+\n",
    "        coord_cartesian(ylim = c(0, ymax))\n",
    "\n",
    "  return(list(p1,p2))\n",
    "}\n"
   ]
  },
  {
   "cell_type": "code",
   "execution_count": 2,
   "id": "ec79cd47",
   "metadata": {
    "ExecuteTime": {
     "end_time": "2025-07-28T09:49:59.968868Z",
     "start_time": "2025-07-28T09:49:58.603Z"
    }
   },
   "outputs": [],
   "source": [
    "psm_path <- \"../MS_res_from_Galaxy/psm_sep_all.txt\"\n",
    "sep_combined_path <- \"../processed/sep_combined/sep_combined_unique.txt\""
   ]
  },
  {
   "cell_type": "code",
   "execution_count": 3,
   "id": "3fe2eb52",
   "metadata": {
    "ExecuteTime": {
     "end_time": "2025-07-28T09:54:11.983865Z",
     "start_time": "2025-07-28T09:49:58.604Z"
    },
    "collapsed": true
   },
   "outputs": [
    {
     "data": {
      "text/html": [
       "<table class=\"dataframe\">\n",
       "<caption>A data.table: 6 × 3</caption>\n",
       "<thead>\n",
       "\t<tr><th scope=col>ORF_id_seq</th><th scope=col>ORF_id_trans</th><th scope=col>Peptide</th></tr>\n",
       "\t<tr><th scope=col>&lt;chr&gt;</th><th scope=col>&lt;chr&gt;</th><th scope=col>&lt;chr&gt;</th></tr>\n",
       "</thead>\n",
       "<tbody>\n",
       "\t<tr><td>+chr7:127589150-127591299:IPTIGFNVETVEYKNICFTVWDVGGQDKIRPLWRHYFQNTQGLIFVVDSNDRERVQESADELQKMLQEDELRDAVLLVFANKQDMPNAMPVSELTDKLGLQHLRSRTWYVQATCATQGTGLYDGLDWLSHELSKR</td><td>ENST00000000233.10+chr7:127589150-127591299</td><td>IPTIGFNVETVEYK</td></tr>\n",
       "\t<tr><td>+chr7:127589159-127591299:IGFNVETVEYKNICFTVWDVGGQDKIRPLWRHYFQNTQGLIFVVDSNDRERVQESADELQKMLQEDELRDAVLLVFANKQDMPNAMPVSELTDKLGLQHLRSRTWYVQATCATQGTGLYDGLDWLSHELSKR   </td><td>ENST00000000233.10+chr7:127589159-127591299</td><td>IGFNVETVEYK   </td></tr>\n",
       "\t<tr><td>+chr1:24472874-24472910:LLTSRLMACLI                                                                                                                              </td><td>ENST00000374399.9+chr1:24472874-24472910   </td><td>LLTSRL        </td></tr>\n",
       "\t<tr><td>+chr7:39706646-39706769:MTIVNMIVKLPLFLTIIMQNLEEKLLAWLLHIVKLRVIHL                                                                                                 </td><td>ENST00000005257.7+chr7:39706646-39706769   </td><td>LHIVKL        </td></tr>\n",
       "\t<tr><td>+chr7:39706652-39706769:IVNMIVKLPLFLTIIMQNLEEKLLAWLLHIVKLRVIHL                                                                                                   </td><td>ENST00000005257.7+chr7:39706652-39706769   </td><td>LHIVKL        </td></tr>\n",
       "\t<tr><td>+chr7:39706655-39706769:VNMIVKLPLFLTIIMQNLEEKLLAWLLHIVKLRVIHL                                                                                                    </td><td>ENST00000005257.7+chr7:39706655-39706769   </td><td>LHIVKL        </td></tr>\n",
       "</tbody>\n",
       "</table>\n"
      ],
      "text/latex": [
       "A data.table: 6 × 3\n",
       "\\begin{tabular}{lll}\n",
       " ORF\\_id\\_seq & ORF\\_id\\_trans & Peptide\\\\\n",
       " <chr> & <chr> & <chr>\\\\\n",
       "\\hline\n",
       "\t +chr7:127589150-127591299:IPTIGFNVETVEYKNICFTVWDVGGQDKIRPLWRHYFQNTQGLIFVVDSNDRERVQESADELQKMLQEDELRDAVLLVFANKQDMPNAMPVSELTDKLGLQHLRSRTWYVQATCATQGTGLYDGLDWLSHELSKR & ENST00000000233.10+chr7:127589150-127591299 & IPTIGFNVETVEYK\\\\\n",
       "\t +chr7:127589159-127591299:IGFNVETVEYKNICFTVWDVGGQDKIRPLWRHYFQNTQGLIFVVDSNDRERVQESADELQKMLQEDELRDAVLLVFANKQDMPNAMPVSELTDKLGLQHLRSRTWYVQATCATQGTGLYDGLDWLSHELSKR    & ENST00000000233.10+chr7:127589159-127591299 & IGFNVETVEYK   \\\\\n",
       "\t +chr1:24472874-24472910:LLTSRLMACLI                                                                                                                               & ENST00000374399.9+chr1:24472874-24472910    & LLTSRL        \\\\\n",
       "\t +chr7:39706646-39706769:MTIVNMIVKLPLFLTIIMQNLEEKLLAWLLHIVKLRVIHL                                                                                                  & ENST00000005257.7+chr7:39706646-39706769    & LHIVKL        \\\\\n",
       "\t +chr7:39706652-39706769:IVNMIVKLPLFLTIIMQNLEEKLLAWLLHIVKLRVIHL                                                                                                    & ENST00000005257.7+chr7:39706652-39706769    & LHIVKL        \\\\\n",
       "\t +chr7:39706655-39706769:VNMIVKLPLFLTIIMQNLEEKLLAWLLHIVKLRVIHL                                                                                                     & ENST00000005257.7+chr7:39706655-39706769    & LHIVKL        \\\\\n",
       "\\end{tabular}\n"
      ],
      "text/markdown": [
       "\n",
       "A data.table: 6 × 3\n",
       "\n",
       "| ORF_id_seq &lt;chr&gt; | ORF_id_trans &lt;chr&gt; | Peptide &lt;chr&gt; |\n",
       "|---|---|---|\n",
       "| +chr7:127589150-127591299:IPTIGFNVETVEYKNICFTVWDVGGQDKIRPLWRHYFQNTQGLIFVVDSNDRERVQESADELQKMLQEDELRDAVLLVFANKQDMPNAMPVSELTDKLGLQHLRSRTWYVQATCATQGTGLYDGLDWLSHELSKR | ENST00000000233.10+chr7:127589150-127591299 | IPTIGFNVETVEYK |\n",
       "| +chr7:127589159-127591299:IGFNVETVEYKNICFTVWDVGGQDKIRPLWRHYFQNTQGLIFVVDSNDRERVQESADELQKMLQEDELRDAVLLVFANKQDMPNAMPVSELTDKLGLQHLRSRTWYVQATCATQGTGLYDGLDWLSHELSKR    | ENST00000000233.10+chr7:127589159-127591299 | IGFNVETVEYK    |\n",
       "| +chr1:24472874-24472910:LLTSRLMACLI                                                                                                                               | ENST00000374399.9+chr1:24472874-24472910    | LLTSRL         |\n",
       "| +chr7:39706646-39706769:MTIVNMIVKLPLFLTIIMQNLEEKLLAWLLHIVKLRVIHL                                                                                                  | ENST00000005257.7+chr7:39706646-39706769    | LHIVKL         |\n",
       "| +chr7:39706652-39706769:IVNMIVKLPLFLTIIMQNLEEKLLAWLLHIVKLRVIHL                                                                                                    | ENST00000005257.7+chr7:39706652-39706769    | LHIVKL         |\n",
       "| +chr7:39706655-39706769:VNMIVKLPLFLTIIMQNLEEKLLAWLLHIVKLRVIHL                                                                                                     | ENST00000005257.7+chr7:39706655-39706769    | LHIVKL         |\n",
       "\n"
      ],
      "text/plain": [
       "  ORF_id_seq                                                                                                                                                       \n",
       "1 +chr7:127589150-127591299:IPTIGFNVETVEYKNICFTVWDVGGQDKIRPLWRHYFQNTQGLIFVVDSNDRERVQESADELQKMLQEDELRDAVLLVFANKQDMPNAMPVSELTDKLGLQHLRSRTWYVQATCATQGTGLYDGLDWLSHELSKR\n",
       "2 +chr7:127589159-127591299:IGFNVETVEYKNICFTVWDVGGQDKIRPLWRHYFQNTQGLIFVVDSNDRERVQESADELQKMLQEDELRDAVLLVFANKQDMPNAMPVSELTDKLGLQHLRSRTWYVQATCATQGTGLYDGLDWLSHELSKR   \n",
       "3 +chr1:24472874-24472910:LLTSRLMACLI                                                                                                                              \n",
       "4 +chr7:39706646-39706769:MTIVNMIVKLPLFLTIIMQNLEEKLLAWLLHIVKLRVIHL                                                                                                 \n",
       "5 +chr7:39706652-39706769:IVNMIVKLPLFLTIIMQNLEEKLLAWLLHIVKLRVIHL                                                                                                   \n",
       "6 +chr7:39706655-39706769:VNMIVKLPLFLTIIMQNLEEKLLAWLLHIVKLRVIHL                                                                                                    \n",
       "  ORF_id_trans                                Peptide       \n",
       "1 ENST00000000233.10+chr7:127589150-127591299 IPTIGFNVETVEYK\n",
       "2 ENST00000000233.10+chr7:127589159-127591299 IGFNVETVEYK   \n",
       "3 ENST00000374399.9+chr1:24472874-24472910    LLTSRL        \n",
       "4 ENST00000005257.7+chr7:39706646-39706769    LHIVKL        \n",
       "5 ENST00000005257.7+chr7:39706652-39706769    LHIVKL        \n",
       "6 ENST00000005257.7+chr7:39706655-39706769    LHIVKL        "
      ]
     },
     "metadata": {},
     "output_type": "display_data"
    }
   ],
   "source": [
    "fread_c(psm_path) -> psm\n",
    "psm %>% distinct(Protein,Peptide) -> pro_pep_0\n",
    "pro_pep_0 %>% dplyr::rename(ORF_id_trans=Protein) -> pro_pep_0_0\n",
    "update_orf_id_trans(pro_pep_0_0) -> pro_pep\n",
    "head(pro_pep)\n",
    "\n",
    "fread_c(sep_combined_path) -> sep_combined\n",
    "head(sep_combined)"
   ]
  },
  {
   "cell_type": "code",
   "execution_count": 49,
   "id": "cc99ce92",
   "metadata": {
    "ExecuteTime": {
     "end_time": "2025-07-28T11:37:48.725177Z",
     "start_time": "2025-07-28T11:37:47.764Z"
    }
   },
   "outputs": [
    {
     "data": {
      "text/html": [
       "2866"
      ],
      "text/latex": [
       "2866"
      ],
      "text/markdown": [
       "2866"
      ],
      "text/plain": [
       "[1] 2866"
      ]
     },
     "metadata": {},
     "output_type": "display_data"
    },
    {
     "data": {
      "text/html": [
       "2141"
      ],
      "text/latex": [
       "2141"
      ],
      "text/markdown": [
       "2141"
      ],
      "text/plain": [
       "[1] 2141"
      ]
     },
     "metadata": {},
     "output_type": "display_data"
    }
   ],
   "source": [
    "merge(sep_combined,pro_pep,by=\"ORF_id_trans\") -> noncano_sep_combined_add_pep\n",
    "nrow(noncano_sep_combined_add_pep)\n",
    "n_distinct(noncano_sep_combined_add_pep$ORF_id_trans)"
   ]
  },
  {
   "cell_type": "code",
   "execution_count": 36,
   "id": "63aac59b",
   "metadata": {
    "ExecuteTime": {
     "end_time": "2025-07-28T11:31:51.824007Z",
     "start_time": "2025-07-28T11:31:50.760Z"
    }
   },
   "outputs": [
    {
     "data": {
      "text/html": [
       "<table class=\"dataframe\">\n",
       "<caption>A data.frame: 1 × 27</caption>\n",
       "<thead>\n",
       "\t<tr><th></th><th scope=col>Uniprot_id</th><th scope=col>ENS_id</th><th scope=col>Seq</th><th scope=col>Length</th><th scope=col>Chr</th><th scope=col>Strand</th><th scope=col>Start</th><th scope=col>End</th><th scope=col>ORF_id_trans</th><th scope=col>ORF_id_seq</th><th scope=col>⋯</th><th scope=col>Gene_type</th><th scope=col>Gene_name</th><th scope=col>CDS_start</th><th scope=col>CDS_end</th><th scope=col>PE_type</th><th scope=col>All_psm_n</th><th scope=col>All_peptide_n</th><th scope=col>Unique_psm_n</th><th scope=col>Unique_peptide_n</th><th scope=col>Peptide</th></tr>\n",
       "\t<tr><th></th><th scope=col>&lt;chr&gt;</th><th scope=col>&lt;chr&gt;</th><th scope=col>&lt;chr&gt;</th><th scope=col>&lt;int&gt;</th><th scope=col>&lt;chr&gt;</th><th scope=col>&lt;chr&gt;</th><th scope=col>&lt;int&gt;</th><th scope=col>&lt;int&gt;</th><th scope=col>&lt;chr&gt;</th><th scope=col>&lt;chr&gt;</th><th scope=col>⋯</th><th scope=col>&lt;chr&gt;</th><th scope=col>&lt;chr&gt;</th><th scope=col>&lt;int&gt;</th><th scope=col>&lt;int&gt;</th><th scope=col>&lt;chr&gt;</th><th scope=col>&lt;int&gt;</th><th scope=col>&lt;int&gt;</th><th scope=col>&lt;int&gt;</th><th scope=col>&lt;int&gt;</th><th scope=col>&lt;chr&gt;</th></tr>\n",
       "</thead>\n",
       "<tbody>\n",
       "\t<tr><th scope=row>1</th><td>sp|A0A075B6K0|LV316_HUMAN</td><td>ENST00000390311.3</td><td>MAWIPLLLPLLTLCTGSEASYELTQPPSVSVSLGQMARITCSGEALPKKYAYWYQQKPGQFPVLVIYKDSERPSGIPERFSGSSSGTIVTLTISGVQAEDEADYYCLSADSSGTY</td><td>115</td><td>chr22</td><td>+</td><td>22747420</td><td>22747921</td><td>ENST00000390311.3+chr22:22747420-22747921</td><td>+chr22:22747420-22747921:MAWIPLLLPLLTLCTGSEASYELTQPPSVSVSLGQMARITCSGEALPKKYAYWYQQKPGQFPVLVIYKDSERPSGIPERFSGSSSGTIVTLTISGVQAEDEADYYCLSADSSGTY</td><td>⋯</td><td>IG_V_gene</td><td>IGLV3-16</td><td>22747420</td><td>22747921</td><td>PE_1</td><td>1</td><td>1</td><td>1</td><td>1</td><td>RFSGSSSGTIVTLTISGVQAED</td></tr>\n",
       "</tbody>\n",
       "</table>\n"
      ],
      "text/latex": [
       "A data.frame: 1 × 27\n",
       "\\begin{tabular}{r|lllllllllllllllllllll}\n",
       "  & Uniprot\\_id & ENS\\_id & Seq & Length & Chr & Strand & Start & End & ORF\\_id\\_trans & ORF\\_id\\_seq & ⋯ & Gene\\_type & Gene\\_name & CDS\\_start & CDS\\_end & PE\\_type & All\\_psm\\_n & All\\_peptide\\_n & Unique\\_psm\\_n & Unique\\_peptide\\_n & Peptide\\\\\n",
       "  & <chr> & <chr> & <chr> & <int> & <chr> & <chr> & <int> & <int> & <chr> & <chr> & ⋯ & <chr> & <chr> & <int> & <int> & <chr> & <int> & <int> & <int> & <int> & <chr>\\\\\n",
       "\\hline\n",
       "\t1 & sp\\textbar{}A0A075B6K0\\textbar{}LV316\\_HUMAN & ENST00000390311.3 & MAWIPLLLPLLTLCTGSEASYELTQPPSVSVSLGQMARITCSGEALPKKYAYWYQQKPGQFPVLVIYKDSERPSGIPERFSGSSSGTIVTLTISGVQAEDEADYYCLSADSSGTY & 115 & chr22 & + & 22747420 & 22747921 & ENST00000390311.3+chr22:22747420-22747921 & +chr22:22747420-22747921:MAWIPLLLPLLTLCTGSEASYELTQPPSVSVSLGQMARITCSGEALPKKYAYWYQQKPGQFPVLVIYKDSERPSGIPERFSGSSSGTIVTLTISGVQAEDEADYYCLSADSSGTY & ⋯ & IG\\_V\\_gene & IGLV3-16 & 22747420 & 22747921 & PE\\_1 & 1 & 1 & 1 & 1 & RFSGSSSGTIVTLTISGVQAED\\\\\n",
       "\\end{tabular}\n"
      ],
      "text/markdown": [
       "\n",
       "A data.frame: 1 × 27\n",
       "\n",
       "| <!--/--> | Uniprot_id &lt;chr&gt; | ENS_id &lt;chr&gt; | Seq &lt;chr&gt; | Length &lt;int&gt; | Chr &lt;chr&gt; | Strand &lt;chr&gt; | Start &lt;int&gt; | End &lt;int&gt; | ORF_id_trans &lt;chr&gt; | ORF_id_seq &lt;chr&gt; | ⋯ ⋯ | Gene_type &lt;chr&gt; | Gene_name &lt;chr&gt; | CDS_start &lt;int&gt; | CDS_end &lt;int&gt; | PE_type &lt;chr&gt; | All_psm_n &lt;int&gt; | All_peptide_n &lt;int&gt; | Unique_psm_n &lt;int&gt; | Unique_peptide_n &lt;int&gt; | Peptide &lt;chr&gt; |\n",
       "|---|---|---|---|---|---|---|---|---|---|---|---|---|---|---|---|---|---|---|---|---|---|\n",
       "| 1 | sp|A0A075B6K0|LV316_HUMAN | ENST00000390311.3 | MAWIPLLLPLLTLCTGSEASYELTQPPSVSVSLGQMARITCSGEALPKKYAYWYQQKPGQFPVLVIYKDSERPSGIPERFSGSSSGTIVTLTISGVQAEDEADYYCLSADSSGTY | 115 | chr22 | + | 22747420 | 22747921 | ENST00000390311.3+chr22:22747420-22747921 | +chr22:22747420-22747921:MAWIPLLLPLLTLCTGSEASYELTQPPSVSVSLGQMARITCSGEALPKKYAYWYQQKPGQFPVLVIYKDSERPSGIPERFSGSSSGTIVTLTISGVQAEDEADYYCLSADSSGTY | ⋯ | IG_V_gene | IGLV3-16 | 22747420 | 22747921 | PE_1 | 1 | 1 | 1 | 1 | RFSGSSSGTIVTLTISGVQAED |\n",
       "\n"
      ],
      "text/plain": [
       "  Uniprot_id                ENS_id           \n",
       "1 sp|A0A075B6K0|LV316_HUMAN ENST00000390311.3\n",
       "  Seq                                                                                                                \n",
       "1 MAWIPLLLPLLTLCTGSEASYELTQPPSVSVSLGQMARITCSGEALPKKYAYWYQQKPGQFPVLVIYKDSERPSGIPERFSGSSSGTIVTLTISGVQAEDEADYYCLSADSSGTY\n",
       "  Length Chr   Strand Start    End     \n",
       "1 115    chr22 +      22747420 22747921\n",
       "  ORF_id_trans                             \n",
       "1 ENST00000390311.3+chr22:22747420-22747921\n",
       "  ORF_id_seq                                                                                                                                  \n",
       "1 +chr22:22747420-22747921:MAWIPLLLPLLTLCTGSEASYELTQPPSVSVSLGQMARITCSGEALPKKYAYWYQQKPGQFPVLVIYKDSERPSGIPERFSGSSSGTIVTLTISGVQAEDEADYYCLSADSSGTY\n",
       "  ⋯ Gene_type Gene_name CDS_start CDS_end  PE_type All_psm_n All_peptide_n\n",
       "1 ⋯ IG_V_gene IGLV3-16  22747420  22747921 PE_1    1         1            \n",
       "  Unique_psm_n Unique_peptide_n Peptide               \n",
       "1 1            1                RFSGSSSGTIVTLTISGVQAED"
      ]
     },
     "metadata": {},
     "output_type": "display_data"
    },
    {
     "data": {
      "text/html": [
       "744"
      ],
      "text/latex": [
       "744"
      ],
      "text/markdown": [
       "744"
      ],
      "text/plain": [
       "[1] 744"
      ]
     },
     "metadata": {},
     "output_type": "display_data"
    }
   ],
   "source": [
    "merge(sep_combined,pro_pep_0,by.x=\"Uniprot_id\",by.y=\"Protein\") %>% filter(grepl(\"^sp\",Uniprot_id)) %>% \n",
    "filter(Unique_psm_n>0)-> cano_sep_combined_add_pep\n",
    "head(cano_sep_combined_add_pep,1)\n",
    "n_distinct(cano_sep_combined_add_pep$Uniprot_id)"
   ]
  },
  {
   "cell_type": "code",
   "execution_count": 147,
   "id": "8d293143",
   "metadata": {
    "ExecuteTime": {
     "end_time": "2025-07-28T12:24:54.202960Z",
     "start_time": "2025-07-28T12:24:52.552Z"
    }
   },
   "outputs": [
    {
     "data": {
      "text/plain": [
       "[[1]]\n",
       "\n",
       "[[2]]\n"
      ]
     },
     "metadata": {},
     "output_type": "display_data"
    },
    {
     "data": {
      "image/png": "[encoded data removed]",
      "text/plain": [
       "plot without title"
      ]
     },
     "metadata": {
      "image/png": {
       "height": 420,
       "width": 420
      }
     },
     "output_type": "display_data"
    },
    {
     "data": {
      "image/png": "[encoded data removed]",
      "text/plain": [
       "plot without title"
      ]
     },
     "metadata": {
      "image/png": {
       "height": 420,
       "width": 420
      }
     },
     "output_type": "display_data"
    }
   ],
   "source": [
    "get_all_distances(noncano_sep_combined_add_pep) %>% \n",
    "plot_N_C_distance_histogram(.,) -> list_1\n",
    "list_1"
   ]
  },
  {
   "cell_type": "code",
   "execution_count": 149,
   "id": "919c4311",
   "metadata": {
    "ExecuteTime": {
     "end_time": "2025-07-28T12:25:11.290258Z",
     "start_time": "2025-07-28T12:25:07.703Z"
    }
   },
   "outputs": [
    {
     "data": {
      "text/plain": [
       "[[1]]\n",
       "\n",
       "[[2]]\n"
      ]
     },
     "metadata": {},
     "output_type": "display_data"
    },
    {
     "data": {
      "image/png": "[encoded data removed]",
      "text/plain": [
       "plot without title"
      ]
     },
     "metadata": {
      "image/png": {
       "height": 420,
       "width": 420
      }
     },
     "output_type": "display_data"
    },
    {
     "data": {
      "image/png": "[encoded data removed]",
      "text/plain": [
       "plot without title"
      ]
     },
     "metadata": {
      "image/png": {
       "height": 420,
       "width": 420
      }
     },
     "output_type": "display_data"
    }
   ],
   "source": [
    "get_all_distances(cano_sep_combined_add_pep) %>% \n",
    "plot_N_C_distance_histogram(.) -> list_2\n",
    "list_2"
   ]
  },
  {
   "cell_type": "code",
   "execution_count": 150,
   "id": "8dd4dad4",
   "metadata": {
    "ExecuteTime": {
     "end_time": "2025-07-28T12:25:18.353602Z",
     "start_time": "2025-07-28T12:25:17.062Z"
    }
   },
   "outputs": [
    {
     "data": {
      "text/html": [
       "'list'"
      ],
      "text/latex": [
       "'list'"
      ],
      "text/markdown": [
       "'list'"
      ],
      "text/plain": [
       "[1] \"list\""
      ]
     },
     "metadata": {},
     "output_type": "display_data"
    },
    {
     "name": "stderr",
     "output_type": "stream",
     "text": [
      "\u001b[1m\u001b[22mSaving 6.67 x 6.67 in image\n"
     ]
    }
   ],
   "source": [
    "plot_grid(list_1[[1]],list_1[[2]],\n",
    "         list_2[[1]],list_2[[2]],ncol=2)-> p\n",
    "ggsave(p,filename = \"../figures/sep.pep.cov.pdf\")"
   ]
  }
 ],
 "metadata": {
  "kernelspec": {
   "display_name": "R_default_4.2",
   "language": "R",
   "name": "r_default_4.2"
  },
  "language_info": {
   "codemirror_mode": "r",
   "file_extension": ".r",
   "mimetype": "text/x-r-source",
   "name": "R",
   "pygments_lexer": "r",
   "version": "4.2.1"
  },
  "toc": {
   "base_numbering": 1,
   "nav_menu": {},
   "number_sections": true,
   "sideBar": true,
   "skip_h1_title": false,
   "title_cell": "Table of Contents",
   "title_sidebar": "Contents",
   "toc_cell": false,
   "toc_position": {},
   "toc_section_display": true,
   "toc_window_display": false
  }
 },
 "nbformat": 4,
 "nbformat_minor": 5
}
