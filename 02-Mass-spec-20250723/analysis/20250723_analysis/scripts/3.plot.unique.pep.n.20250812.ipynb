{
 "cells": [
  {
   "cell_type": "code",
   "execution_count": 1,
   "id": "85f8c51c",
   "metadata": {
    "ExecuteTime": {
     "end_time": "2025-08-18T08:36:50.798076Z",
     "start_time": "2025-08-18T08:36:47.936Z"
    }
   },
   "outputs": [],
   "source": [
    "source(\"/home/user/data2/lit/bin/lit_utils.R\")\n",
    "source(\"/home/user/data3/lit/project/sORFs/sORFs.utils.R\")\n",
    "lib_text()\n",
    "lib_plot()"
   ]
  },
  {
   "cell_type": "code",
   "execution_count": 2,
   "id": "c573c3b8",
   "metadata": {
    "ExecuteTime": {
     "end_time": "2025-08-18T08:36:51.056102Z",
     "start_time": "2025-08-18T08:36:47.938Z"
    }
   },
   "outputs": [],
   "source": [
    "sep_combined_path <- \"../processed/sep_combined/sep_combined_unique.txt\"\n",
    "fread_c(sep_combined_path) -> sep_combined"
   ]
  },
  {
   "cell_type": "code",
   "execution_count": 3,
   "id": "fbff1d70",
   "metadata": {
    "ExecuteTime": {
     "end_time": "2025-08-18T08:36:51.096098Z",
     "start_time": "2025-08-18T08:36:47.938Z"
    }
   },
   "outputs": [
    {
     "data": {
      "text/html": [
       "7525"
      ],
      "text/latex": [
       "7525"
      ],
      "text/markdown": [
       "7525"
      ],
      "text/plain": [
       "[1] 7525"
      ]
     },
     "metadata": {},
     "output_type": "display_data"
    },
    {
     "data": {
      "text/html": [
       "<style>\n",
       ".list-inline {list-style: none; margin:0; padding: 0}\n",
       ".list-inline>li {display: inline-block}\n",
       ".list-inline>li:not(:last-child)::after {content: \"\\00b7\"; padding: 0 .5ex}\n",
       "</style>\n",
       "<ol class=list-inline><li>'Uniprot_id'</li><li>'ENS_id'</li><li>'Seq'</li><li>'Length'</li><li>'Chr'</li><li>'Strand'</li><li>'Start'</li><li>'End'</li><li>'ORF_id_trans'</li><li>'ORF_id_seq'</li><li>'Scodon'</li><li>'Type'</li><li>'ORF_type_1'</li><li>'ORF_type_2'</li><li>'ORF_type_3'</li><li>'Gene_ID'</li><li>'Transcript_type'</li><li>'Gene_type'</li><li>'Gene_name'</li><li>'CDS_start'</li><li>'CDS_end'</li><li>'PE_type'</li><li>'All_psm_n'</li><li>'All_peptide_n'</li><li>'Unique_psm_n'</li><li>'Unique_peptide_n'</li></ol>\n"
      ],
      "text/latex": [
       "\\begin{enumerate*}\n",
       "\\item 'Uniprot\\_id'\n",
       "\\item 'ENS\\_id'\n",
       "\\item 'Seq'\n",
       "\\item 'Length'\n",
       "\\item 'Chr'\n",
       "\\item 'Strand'\n",
       "\\item 'Start'\n",
       "\\item 'End'\n",
       "\\item 'ORF\\_id\\_trans'\n",
       "\\item 'ORF\\_id\\_seq'\n",
       "\\item 'Scodon'\n",
       "\\item 'Type'\n",
       "\\item 'ORF\\_type\\_1'\n",
       "\\item 'ORF\\_type\\_2'\n",
       "\\item 'ORF\\_type\\_3'\n",
       "\\item 'Gene\\_ID'\n",
       "\\item 'Transcript\\_type'\n",
       "\\item 'Gene\\_type'\n",
       "\\item 'Gene\\_name'\n",
       "\\item 'CDS\\_start'\n",
       "\\item 'CDS\\_end'\n",
       "\\item 'PE\\_type'\n",
       "\\item 'All\\_psm\\_n'\n",
       "\\item 'All\\_peptide\\_n'\n",
       "\\item 'Unique\\_psm\\_n'\n",
       "\\item 'Unique\\_peptide\\_n'\n",
       "\\end{enumerate*}\n"
      ],
      "text/markdown": [
       "1. 'Uniprot_id'\n",
       "2. 'ENS_id'\n",
       "3. 'Seq'\n",
       "4. 'Length'\n",
       "5. 'Chr'\n",
       "6. 'Strand'\n",
       "7. 'Start'\n",
       "8. 'End'\n",
       "9. 'ORF_id_trans'\n",
       "10. 'ORF_id_seq'\n",
       "11. 'Scodon'\n",
       "12. 'Type'\n",
       "13. 'ORF_type_1'\n",
       "14. 'ORF_type_2'\n",
       "15. 'ORF_type_3'\n",
       "16. 'Gene_ID'\n",
       "17. 'Transcript_type'\n",
       "18. 'Gene_type'\n",
       "19. 'Gene_name'\n",
       "20. 'CDS_start'\n",
       "21. 'CDS_end'\n",
       "22. 'PE_type'\n",
       "23. 'All_psm_n'\n",
       "24. 'All_peptide_n'\n",
       "25. 'Unique_psm_n'\n",
       "26. 'Unique_peptide_n'\n",
       "\n",
       "\n"
      ],
      "text/plain": [
       " [1] \"Uniprot_id\"       \"ENS_id\"           \"Seq\"              \"Length\"          \n",
       " [5] \"Chr\"              \"Strand\"           \"Start\"            \"End\"             \n",
       " [9] \"ORF_id_trans\"     \"ORF_id_seq\"       \"Scodon\"           \"Type\"            \n",
       "[13] \"ORF_type_1\"       \"ORF_type_2\"       \"ORF_type_3\"       \"Gene_ID\"         \n",
       "[17] \"Transcript_type\"  \"Gene_type\"        \"Gene_name\"        \"CDS_start\"       \n",
       "[21] \"CDS_end\"          \"PE_type\"          \"All_psm_n\"        \"All_peptide_n\"   \n",
       "[25] \"Unique_psm_n\"     \"Unique_peptide_n\""
      ]
     },
     "metadata": {},
     "output_type": "display_data"
    },
    {
     "data": {
      "text/plain": [
       "\n",
       " canonical  Canonical       dORF  extension       iORF  noncoding      odORF \n",
       "         6       3243        671          3        339       1859         40 \n",
       "     ouORF truncation       uORF \n",
       "        30       1226        108 "
      ]
     },
     "metadata": {},
     "output_type": "display_data"
    }
   ],
   "source": [
    "nrow(sep_combined)\n",
    "colnames(sep_combined)\n",
    "table(sep_combined$Type)"
   ]
  },
  {
   "cell_type": "code",
   "execution_count": 4,
   "id": "5803e571",
   "metadata": {
    "ExecuteTime": {
     "end_time": "2025-08-18T08:36:51.121411Z",
     "start_time": "2025-08-18T08:36:47.939Z"
    }
   },
   "outputs": [],
   "source": [
    "sep_combined %>% filter(Unique_peptide_n>0) -> df\n",
    "df %>% mutate(Cano_type=\n",
    "                case_when(Type == \"Canonical\" ~ \"Canonical\",\n",
    "                          TRUE ~ \"Non-canonical\")) -> df"
   ]
  },
  {
   "cell_type": "code",
   "execution_count": 5,
   "id": "6037bf76",
   "metadata": {
    "ExecuteTime": {
     "end_time": "2025-08-18T08:36:51.144202Z",
     "start_time": "2025-08-18T08:36:47.939Z"
    }
   },
   "outputs": [
    {
     "data": {
      "text/plain": [
       "\n",
       "    Canonical Non-canonical \n",
       "          744          2141 "
      ]
     },
     "metadata": {},
     "output_type": "display_data"
    }
   ],
   "source": [
    "table(df$Cano_type)\n",
    "df %>% mutate(Unique_peptide_n_1=\n",
    "                case_when(Unique_peptide_n > 2 ~ \">2\",\n",
    "                          TRUE ~ as.character(Unique_peptide_n))) -> df"
   ]
  },
  {
   "cell_type": "code",
   "execution_count": 6,
   "id": "9cb5069a",
   "metadata": {
    "ExecuteTime": {
     "end_time": "2025-08-18T08:36:51.557891Z",
     "start_time": "2025-08-18T08:36:47.939Z"
    }
   },
   "outputs": [
    {
     "name": "stderr",
     "output_type": "stream",
     "text": [
      "Warning message:\n",
      "“\u001b[1m\u001b[22m`aes_string()` was deprecated in ggplot2 3.0.0.\n",
      "\u001b[36mℹ\u001b[39m Please use tidy evaluation idioms with `aes()`.\n",
      "\u001b[36mℹ\u001b[39m See also `vignette(\"ggplot2-in-packages\")` for more information.”\n",
      "\u001b[1m\u001b[22mScale for \u001b[32mfill\u001b[39m is already present.\n",
      "Adding another scale for \u001b[32mfill\u001b[39m, which will replace the existing scale.\n"
     ]
    }
   ],
   "source": [
    "output_path <- \"/home/user/data3/lit/project/sORFs/02-Mass-spec-20250723/analysis/20250723_analysis/figures\"\n",
    "count(df,Cano_type,Unique_peptide_n_1) -> df_1\n",
    "# df_1$Unique_peptide_n_1 <- factor(df_1$Unique_peptide_n_1,levels = c(\"1\",\"2\",\">2\"))\n",
    "df_1$Unique_peptide_n_1 <- factor(df_1$Unique_peptide_n_1,levels = c(\">2\",\"2\",\"1\"))\n",
    "bar_plot_basic_stack(df = df_1,x = \"Cano_type\",y =\"n\" ,fil_col = \"Unique_peptide_n_1\")+\n",
    "scale_fill_manual(values = brewer.pal(n=3,name=\"Set3\"))+\n",
    "coord_flip()+\n",
    "guides(fill = guide_legend(reverse = TRUE)) -> p"
   ]
  },
  {
   "cell_type": "code",
   "execution_count": 7,
   "id": "84fe311b",
   "metadata": {
    "ExecuteTime": {
     "end_time": "2025-08-18T08:36:51.992125Z",
     "start_time": "2025-08-18T08:36:47.940Z"
    }
   },
   "outputs": [],
   "source": [
    "ggsave(p,filename = o(\"unique_peptide_n_cano_non_cano_stack_bar.pdf\"),height = 5,width = 5)"
   ]
  },
  {
   "cell_type": "code",
   "execution_count": 9,
   "id": "9885b088",
   "metadata": {
    "ExecuteTime": {
     "end_time": "2025-08-18T08:37:15.859225Z",
     "start_time": "2025-08-18T08:37:14.172Z"
    }
   },
   "outputs": [
    {
     "name": "stderr",
     "output_type": "stream",
     "text": [
      "Warning message in brewer.pal(n = 2, name = \"Set3\"):\n",
      "“minimal value for n is 3, returning requested palette with 3 different levels\n",
      "”\n"
     ]
    },
    {
     "data": {
      "image/png": "[encoded data removed]",
      "text/plain": [
       "plot without title"
      ]
     },
     "metadata": {
      "image/png": {
       "height": 420,
       "width": 420
      }
     },
     "output_type": "display_data"
    }
   ],
   "source": [
    "# library(dplyr)\n",
    "# library(ggplot2)\n",
    "\n",
    "# colors <- darken(brewer.pal(n=2,name=\"Set3\"),0.3)\n",
    "# ## 3) 密度图：展示不同 Cano_type 的 Length 分布\n",
    "# colors <- \n",
    "# p_dens <- ggplot(df, aes(x = Length, colour = Cano_type, fill = Cano_type)) +\n",
    "#   geom_density(alpha = 0.3, adjust = 1) +\n",
    "#   labs(x = \"SEP length\", y = \"Density\", colour = \"Type\", fill = \"Type\") +\n",
    "#   theme_3()+\n",
    "# scale_fill_manual(values = colors)+\n",
    "# scale_color_manual(values = colors)+\n",
    "#   scale_x_continuous(breaks = c(6,seq(0, max(df$Length), by = 25)),expand = c(0,0)) +\n",
    "#   scale_y_continuous(,expand = c(0,0)) \n",
    "# p_dens"
   ]
  },
  {
   "cell_type": "code",
   "execution_count": 10,
   "id": "f3879408",
   "metadata": {
    "ExecuteTime": {
     "end_time": "2025-08-18T08:37:25.492604Z",
     "start_time": "2025-08-18T08:37:24.337Z"
    }
   },
   "outputs": [],
   "source": [
    "# ggsave(p_dens,filename = o(\"unique_peptide_n_cano_non_cano_length_density.pdf\"),height = 5,width = 5)"
   ]
  }
 ],
 "metadata": {
  "kernelspec": {
   "display_name": "R_default_4.2",
   "language": "R",
   "name": "r_default_4.2"
  },
  "language_info": {
   "codemirror_mode": "r",
   "file_extension": ".r",
   "mimetype": "text/x-r-source",
   "name": "R",
   "pygments_lexer": "r",
   "version": "4.2.1"
  },
  "toc": {
   "base_numbering": 1,
   "nav_menu": {},
   "number_sections": true,
   "sideBar": true,
   "skip_h1_title": false,
   "title_cell": "Table of Contents",
   "title_sidebar": "Contents",
   "toc_cell": false,
   "toc_position": {},
   "toc_section_display": true,
   "toc_window_display": false
  }
 },
 "nbformat": 4,
 "nbformat_minor": 5
}
