{
 "cells": [
  {
   "cell_type": "code",
   "execution_count": 1,
   "id": "b9b827f0",
   "metadata": {
    "ExecuteTime": {
     "end_time": "2025-10-17T11:13:40.243150Z",
     "start_time": "2025-10-17T11:13:39.010Z"
    }
   },
   "outputs": [],
   "source": [
    "source(\"/home/user/data2/lit/bin/lit_utils.R\")\n",
    "source(\"/home/user/data3/lit/project/sORFs/sORFs.utils.R\")\n",
    "lib_text()\n",
    "lib_plot()"
   ]
  },
  {
   "cell_type": "code",
   "execution_count": 6,
   "id": "86c43f77",
   "metadata": {
    "ExecuteTime": {
     "end_time": "2025-10-17T11:17:18.627748Z",
     "start_time": "2025-10-17T11:17:17.586Z"
    }
   },
   "outputs": [],
   "source": [
    "all_sample_sep_m_meta_path=\"../../results/1/S4/all_sample_sep_m_meta.txt\"\n",
    "output_path <- \"../../results/1/S5\"\n",
    "create_path(output_path)\n",
    "orfs_path <- \"../../results/1/orfs_merged_final.tsv\"\n",
    "fread_c(orfs_path) -> orfs"
   ]
  },
  {
   "cell_type": "code",
   "execution_count": 7,
   "id": "2d6234d3",
   "metadata": {
    "ExecuteTime": {
     "end_time": "2025-10-17T11:17:46.332042Z",
     "start_time": "2025-10-17T11:17:41.147Z"
    }
   },
   "outputs": [
    {
     "data": {
      "text/plain": [
       "\n",
       "                 C8 C8, MWCO, PAGE, PCP                MWCO                PAGE \n",
       "              10387                1186                4916                2999 \n",
       "                PCP \n",
       "              17249 "
      ]
     },
     "metadata": {},
     "output_type": "display_data"
    }
   ],
   "source": [
    "merge_replicate <- function(df){\n",
    "    # 合并重复\n",
    "    df$Sample_merge_replicate <- gsub(\"21pcw(_1|_2|_3)\", \"21pcw\", df$Sample)\n",
    "    df %>% mutate(Sample=NULL) %>% rename(Sample=Sample_merge_replicate) -> df_1\n",
    "    return(df_1)\n",
    "}\n",
    "\n",
    "fread_c(all_sample_sep_m_meta_path) -> all_sample_sep_m_meta\n",
    "\n",
    "df <- merge_replicate(all_sample_sep_m_meta)\n",
    "protein_stats_v1 <- df %>%\n",
    "  group_by(Protein) %>%\n",
    "  summarise(\n",
    "    Unique_Methods = n_distinct(Enrichment),  # 被多少种不同富集方法鉴定到\n",
    "    Unique_Enzymes = n_distinct(Eyzyme),  # 被多少种不同酶切方法鉴定到\n",
    "    Total_Observations = n(),                 # 被鉴定到的总次数\n",
    "    Supported_Enrichments = paste(sort(unique(Enrichment)), collapse = \", \"),  # 支持的富集方法（去重后逗号分隔）\n",
    "    Supported_Enzymes = paste(sort(unique(Eyzyme)), collapse = \", \")  # 支持的酶切方法（去重后逗号分隔）\n",
    "  )\n",
    "  \n",
    "fwrite_c(protein_stats_v1[,\"Protein\"],o(\"protein.id.txt\"))\n",
    "  \n",
    "  # 得到蛋白质对应的序列\n",
    "# system(\"bash S5.bio.sh\")\n",
    "# read.table(o(\"protein.id.tab\")) -> protein_id_seq\n",
    "orfs[,c(\"ORF_id\",\"ORF_seq\")]  -> protein_id_seq\n",
    "colnames(protein_id_seq) <- c(\"Protein\",\"Seq\")\n",
    "merge(protein_stats_v1,protein_id_seq,by=\"Protein\") -> protein_stats_v1_a_seq\n",
    "\n",
    "protein_stats_v1_a_seq %>% filter(Unique_Methods==1|Unique_Methods==4) -> unique_methods_protein\n",
    "unique_methods_protein[,c(\"Protein\",\"Seq\",\"Supported_Enrichments\")] -> unique_methods_protein_df\n",
    "table(unique_methods_protein_df$Supported_Enrichments)\n",
    "fwrite_c(unique_methods_protein_df,o(\"unique_methods_protein.txt\"))\n",
    "\n",
    "protein_stats_v1_a_seq %>% filter(Unique_Enzymes==1) -> unique_enzymes_protein\n",
    "unique_enzymes_protein[,c(\"Protein\",\"Seq\",\"Supported_Enzymes\")] -> unique_enzymes_protein_df\n",
    "fwrite_c(unique_enzymes_protein_df,o(\"unique_enzymes_protein.txt\"))"
   ]
  }
 ],
 "metadata": {
  "kernelspec": {
   "display_name": "R_default_4.2",
   "language": "R",
   "name": "r_default_4.2"
  },
  "language_info": {
   "codemirror_mode": "r",
   "file_extension": ".r",
   "mimetype": "text/x-r-source",
   "name": "R",
   "pygments_lexer": "r",
   "version": "4.2.1"
  },
  "toc": {
   "base_numbering": 1,
   "nav_menu": {},
   "number_sections": true,
   "sideBar": true,
   "skip_h1_title": false,
   "title_cell": "Table of Contents",
   "title_sidebar": "Contents",
   "toc_cell": false,
   "toc_position": {},
   "toc_section_display": true,
   "toc_window_display": false
  }
 },
 "nbformat": 4,
 "nbformat_minor": 5
}
