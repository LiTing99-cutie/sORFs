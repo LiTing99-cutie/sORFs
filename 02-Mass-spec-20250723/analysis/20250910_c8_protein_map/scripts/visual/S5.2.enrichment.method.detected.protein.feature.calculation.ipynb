{
 "cells": [
  {
   "cell_type": "code",
   "execution_count": 1,
   "id": "ca4c8a87",
   "metadata": {
    "ExecuteTime": {
     "end_time": "2025-10-17T11:21:32.653772Z",
     "start_time": "2025-10-17T11:21:32.649098Z"
    }
   },
   "outputs": [],
   "source": [
    "file_path = \"../../results/1/S5/unique_methods_protein.txt\"\n",
    "output_path = \"../../results/1/S5/unique_methods_protein_features_added.txt\""
   ]
  },
  {
   "cell_type": "code",
   "execution_count": 2,
   "id": "a33d3cd8",
   "metadata": {
    "ExecuteTime": {
     "end_time": "2025-10-17T11:26:54.052457Z",
     "start_time": "2025-10-17T11:21:33.598953Z"
    }
   },
   "outputs": [
    {
     "name": "stdout",
     "output_type": "stream",
     "text": [
      "3.9.12 | packaged by conda-forge | (main, Mar 24 2022, 23:22:55) \n",
      "[GCC 10.3.0]\n",
      "sys.version_info(major=3, minor=9, micro=12, releaselevel='final', serial=0)\n"
     ]
    },
    {
     "name": "stderr",
     "output_type": "stream",
     "text": [
      "/home/user/data3/lit/anaconda3/lib/python3.9/site-packages/pandas/core/computation/expressions.py:21: UserWarning: Pandas requires version '2.8.4' or newer of 'numexpr' (version '2.7.3' currently installed).\n",
      "  from pandas.core.computation.check import NUMEXPR_INSTALLED\n"
     ]
    },
    {
     "name": "stdout",
     "output_type": "stream",
     "text": [
      "特征工程完成! 结果已保存至: ../../results/1/S5/unique_methods_protein_features_added.txt\n",
      "生成的特征维度: (36737, 8499)\n"
     ]
    }
   ],
   "source": [
    "import sys\n",
    "print(sys.version)  # 输出详细版本信息（包括构建日期、编译器版本等）\n",
    "# 或\n",
    "print(sys.version_info)  # 输出结构化版本信息（如 major, minor, micro）\n",
    "\n",
    "import pandas as pd\n",
    "from Bio.SeqUtils.ProtParam import ProteinAnalysis\n",
    "from Bio.SeqUtils import molecular_weight\n",
    "import numpy as np\n",
    "\n",
    "# 1. 导入数据\n",
    "df = pd.read_csv(file_path, sep='\\t')\n",
    "\n",
    "# 2. 基于序列长度的特征\n",
    "df['seq_length'] = df['Seq'].apply(len)\n",
    "\n",
    "# 3. 分子量计算\n",
    "def calc_mw(seq):\n",
    "    \"\"\"计算蛋白质分子量（Da）\"\"\"\n",
    "    try:\n",
    "        return molecular_weight(seq, seq_type='protein', monoisotopic=False)\n",
    "    except:\n",
    "        return np.nan\n",
    "\n",
    "df['molecular_weight'] = df['Seq'].apply(calc_mw)\n",
    "\n",
    "# 4. 氨基酸组成（AAC）\n",
    "def get_aa_composition(seq):\n",
    "    \"\"\"计算20种标准氨基酸频率\"\"\"\n",
    "    aa_list = 'ACDEFGHIKLMNPQRSTVWY'\n",
    "    total = len(seq)\n",
    "    return {aa: seq.count(aa)/total for aa in aa_list}\n",
    "\n",
    "aa_df = df['Seq'].apply(get_aa_composition).apply(pd.Series)\n",
    "df = pd.concat([df, aa_df.add_prefix('AA_')], axis=1)\n",
    "\n",
    "# 5. 二肽频率计算\n",
    "def get_dipeptide_freq(seq):\n",
    "    dipeptides = [seq[i:i+2] for i in range(len(seq)-1)]\n",
    "    total = len(dipeptides)\n",
    "    unique_di = set(dipeptides)\n",
    "    return {di: dipeptides.count(di)/total for di in unique_di}\n",
    "\n",
    "di_df = df['Seq'].apply(get_dipeptide_freq).apply(pd.Series).fillna(0)\n",
    "df = pd.concat([df, di_df.add_prefix('Di_')], axis=1)\n",
    "\n",
    "# 6. 三肽频率计算\n",
    "def get_tripeptide_freq(seq):\n",
    "    tripeptides = [seq[i:i+3] for i in range(len(seq)-2)]\n",
    "    total = len(tripeptides) if tripeptides else 1\n",
    "    unique_tri = set(tripeptides)\n",
    "    return {tri: tripeptides.count(tri)/total for tri in unique_tri}\n",
    "\n",
    "tri_df = df['Seq'].apply(get_tripeptide_freq).apply(pd.Series).fillna(0)\n",
    "df = pd.concat([df, tri_df.add_prefix('Tri_')], axis=1)\n",
    "\n",
    "# 7. 理化属性计算\n",
    "def calc_physicochemical(seq):\n",
    "    try:\n",
    "        pa = ProteinAnalysis(seq)\n",
    "        return pd.Series({\n",
    "            'isoelectric_point': pa.isoelectric_point(),\n",
    "            'gravy': pa.gravy(),  # 疏水性（GRAVY指数）\n",
    "            'charge_pH7': pa.charge_at_pH(7.0)  # pH7时的净电荷\n",
    "        })\n",
    "    except:\n",
    "        return pd.Series({\n",
    "            'isoelectric_point': np.nan,\n",
    "            'gravy': np.nan,\n",
    "            'charge_pH7': np.nan\n",
    "        })\n",
    "\n",
    "physicochemical = df['Seq'].apply(calc_physicochemical)\n",
    "df = pd.concat([df, physicochemical], axis=1)\n",
    "\n",
    "# 8. 保存结果\n",
    "df.to_csv(output_path, sep='\\t', index=False)\n",
    "\n",
    "print(\"特征工程完成! 结果已保存至:\", output_path)\n",
    "print(\"生成的特征维度:\", df.shape)"
   ]
  }
 ],
 "metadata": {
  "kernelspec": {
   "display_name": "Python 3 (ipykernel)",
   "language": "python",
   "name": "python3"
  },
  "language_info": {
   "codemirror_mode": {
    "name": "ipython",
    "version": 3
   },
   "file_extension": ".py",
   "mimetype": "text/x-python",
   "name": "python",
   "nbconvert_exporter": "python",
   "pygments_lexer": "ipython3",
   "version": "3.9.12"
  },
  "toc": {
   "base_numbering": 1,
   "nav_menu": {},
   "number_sections": true,
   "sideBar": true,
   "skip_h1_title": false,
   "title_cell": "Table of Contents",
   "title_sidebar": "Contents",
   "toc_cell": false,
   "toc_position": {},
   "toc_section_display": true,
   "toc_window_display": false
  }
 },
 "nbformat": 4,
 "nbformat_minor": 5
}
