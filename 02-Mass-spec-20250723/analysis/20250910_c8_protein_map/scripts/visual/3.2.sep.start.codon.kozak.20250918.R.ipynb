{
 "cells": [
  {
   "cell_type": "code",
   "execution_count": 53,
   "id": "8790ed1c",
   "metadata": {
    "ExecuteTime": {
     "end_time": "2025-09-19T06:47:32.834793Z",
     "start_time": "2025-09-19T06:47:31.376Z"
    }
   },
   "outputs": [],
   "source": [
    "source(\"/home/user/data2/lit/bin/lit_utils.R\")\n",
    "source(\"/home/user/data3/lit/project/sORFs/sORFs.utils.R\")\n",
    "lib_text()\n",
    "lib_plot()\n",
    "\n",
    "##### 起始密码子附近的kozak序列 ##### \n",
    "get_window_15_start_codon <- function(df){\n",
    "  df %>% filter(Strand==\"+\") ->  all_sep_forward\n",
    "  data.frame(all_sep_forward$Chr,all_sep_forward$ORF_start-15,all_sep_forward$ORF_start+18,all_sep_forward$ORF_id,\".\",\n",
    "             all_sep_forward$Strand) -> window_15_start_codon_f\n",
    "  df %>% filter(Strand==\"-\") ->  all_sep_reverse\n",
    "  data.frame(all_sep_reverse$Chr,all_sep_reverse$ORF_end-18,all_sep_reverse$ORF_end+15,all_sep_reverse$ORF_id,\".\",\n",
    "             all_sep_reverse$Strand) -> window_15_start_codon_r\n",
    "  colnames(window_15_start_codon_r) <- colnames(window_15_start_codon_f)\n",
    "  rbind(window_15_start_codon_f,window_15_start_codon_r) -> window_15_start_codon\n",
    "  return(window_15_start_codon)\n",
    "}\n",
    "## 方法一\n",
    "# 输入fasta所在的路径\n",
    "seqlogo_cus <- function(fasta_path,output_path,keep_start_codon_or_not){\n",
    "  library(seqLogo)\n",
    "  library(Biostrings)\n",
    "  # 读取 FASTA 文件\n",
    "  seqs <- readDNAStringSet(fasta_path)\n",
    "  # 直接计算碱基频率矩阵（PFM）\n",
    "  pfm <- consensusMatrix(seqs)[1:4, ]  # 只保留A/C/G/T\n",
    "  rownames(pfm) <- c(\"A\", \"C\", \"G\", \"T\")\n",
    "  # 检查PFM（确保无NA/Inf值）\n",
    "  print(pfm[, 1:5])  # 查看前5列\n",
    "  if(!keep_start_codon_or_not){\n",
    "    pfm[,c(1:15,19:33)] -> pfm\n",
    "  }\n",
    "  # 转换为PWM（需确保所有列和为1）\n",
    "  pwm <- makePWM((pfm) / colSums(pfm))  # 加伪计数避免除零错误\n",
    "  # 绘制Sequence Logo\n",
    "  pdf(output_path, width = 7, height = 4)  # 可自定义尺寸\n",
    "  seqLogo(pwm)\n",
    "  dev.off()\n",
    "}\n",
    "## 方法二\n",
    "# 读取 FASTA 文件\n",
    "ggseqlogo_cus <- function(fasta_path,output_path,keep_start_codon_or_not){\n",
    "  library(ggseqlogo)\n",
    "  library(Biostrings)\n",
    "  seqs <- readDNAStringSet(fasta_path)\n",
    "  ggseqlogo(as.character(seqs)) -> p\n",
    "  if(!keep_start_codon_or_not){\n",
    "    sub <- sapply(as.character(seqs), function(s) paste0(substr(s, 1, 15), substr(s, 19, 33)))\n",
    "    ggseqlogo(sub) -> p\n",
    "  }\n",
    "  ggsave(p,filename = output_path, width = 7, height = 4)\n",
    "}\n",
    "inte_func <- function(sep,output_path,name,only_cano){\n",
    "  # 参数一：整理好的蛋白质元信息数据框，需要包括起始密码子的位置以及起始密码子的类型（如果需要用到only_cano）\n",
    "  # 参数二：输出路径\n",
    "  # 参数三：文件名前缀\n",
    "  # 参数四：是否只统计起始密码子，需要包括这一列（输入的值为0，1，2）\n",
    "  if(only_cano==1){\n",
    "    get_window_15_start_codon(sep %>% filter(Start_codon==\"ATG\")) -> window_15_start_codon_sep\n",
    "  }else if(only_cano==0){\n",
    "    get_window_15_start_codon(sep %>% filter(Start_codon!=\"ATG\")) -> window_15_start_codon_sep\n",
    "  }else{\n",
    "    get_window_15_start_codon(sep) -> window_15_start_codon_sep\n",
    "  }\n",
    "  create_path(output_path)\n",
    "  output_bed <- paste0(output_path,name,\".bed\")\n",
    "  output_fa <- paste0(output_path,name,\".fa\")\n",
    "  output_pdf <- paste0(output_path,name,\".pdf\")\n",
    "  fwrite(window_15_start_codon_sep,output_bed,col.names = F,sep = '\\t')\n",
    "  command <- paste0(\"bedtools getfasta -s -fi /home/user/data3/lit/project/sORFs/07-Genome/results/custom_fa/custom_ref.fa -bed \",\n",
    "                    output_bed,\" > \",output_fa)\n",
    "  system(command)\n",
    "  ggseqlogo_cus(output_fa,output_pdf,TRUE)\n",
    "  ggseqlogo_cus(output_fa,paste0(output_path,name,\".nosc.pdf\"),FALSE)\n",
    "  seqlogo_cus(output_fa, paste0(output_path,name,\".seqlogo.pdf\"),TRUE)\n",
    "}\n"
   ]
  },
  {
   "cell_type": "code",
   "execution_count": 47,
   "id": "9f17d7c3",
   "metadata": {
    "ExecuteTime": {
     "end_time": "2025-09-19T03:39:30.388476Z",
     "start_time": "2025-09-19T03:39:28.863Z"
    }
   },
   "outputs": [],
   "source": [
    "orfs_path <- \"../../processed/augment_orf_table/augmented.tsv\"\n",
    "fread_c(orfs_path) -> orfs"
   ]
  },
  {
   "cell_type": "code",
   "execution_count": 48,
   "id": "1b6b122d",
   "metadata": {
    "ExecuteTime": {
     "end_time": "2025-09-19T03:39:31.174031Z",
     "start_time": "2025-09-19T03:39:29.814Z"
    }
   },
   "outputs": [
    {
     "data": {
      "text/html": [
       "573"
      ],
      "text/latex": [
       "573"
      ],
      "text/markdown": [
       "573"
      ],
      "text/plain": [
       "[1] 573"
      ]
     },
     "metadata": {},
     "output_type": "display_data"
    },
    {
     "data": {
      "text/html": [
       "16396"
      ],
      "text/latex": [
       "16396"
      ],
      "text/markdown": [
       "16396"
      ],
      "text/plain": [
       "[1] 16396"
      ]
     },
     "metadata": {},
     "output_type": "display_data"
    }
   ],
   "source": [
    "orfs %>% filter(ORF_length<=150) -> df\n",
    "df %>% filter(ORF_type==\"canonical\")  %>% filter(!is.na(ORF_start))-> cano_sep\n",
    "df %>% filter(ORF_type!=\"canonical\") -> noncano_sep\n",
    "nrow(cano_sep)\n",
    "nrow(noncano_sep)"
   ]
  },
  {
   "cell_type": "code",
   "execution_count": 45,
   "id": "29ab9f02",
   "metadata": {
    "ExecuteTime": {
     "end_time": "2025-09-19T03:38:19.407875Z",
     "start_time": "2025-09-19T03:38:18.043Z"
    }
   },
   "outputs": [
    {
     "data": {
      "text/html": [
       "<table class=\"dataframe\">\n",
       "<caption>A data.frame: 6 × 31</caption>\n",
       "<thead>\n",
       "\t<tr><th></th><th scope=col>ORF_id</th><th scope=col>ORF_type</th><th scope=col>Start_codon</th><th scope=col>Isoform_id</th><th scope=col>Chr</th><th scope=col>Strand</th><th scope=col>ORF_seq</th><th scope=col>ORF_length</th><th scope=col>Geneid</th><th scope=col>Isoform_structural_category</th><th scope=col>⋯</th><th scope=col>FL_TPM</th><th scope=col>N</th><th scope=col>C</th><th scope=col>A</th><th scope=col>Gene_type</th><th scope=col>Unique_peptide_n</th><th scope=col>mean_relative_iBAQ</th><th scope=col>ORF_start</th><th scope=col>ORF_end</th><th scope=col>CDS_seq</th></tr>\n",
       "\t<tr><th></th><th scope=col>&lt;chr&gt;</th><th scope=col>&lt;chr&gt;</th><th scope=col>&lt;chr&gt;</th><th scope=col>&lt;chr&gt;</th><th scope=col>&lt;chr&gt;</th><th scope=col>&lt;chr&gt;</th><th scope=col>&lt;chr&gt;</th><th scope=col>&lt;int&gt;</th><th scope=col>&lt;chr&gt;</th><th scope=col>&lt;chr&gt;</th><th scope=col>⋯</th><th scope=col>&lt;dbl&gt;</th><th scope=col>&lt;dbl&gt;</th><th scope=col>&lt;dbl&gt;</th><th scope=col>&lt;dbl&gt;</th><th scope=col>&lt;chr&gt;</th><th scope=col>&lt;int&gt;</th><th scope=col>&lt;dbl&gt;</th><th scope=col>&lt;int&gt;</th><th scope=col>&lt;int&gt;</th><th scope=col>&lt;chr&gt;</th></tr>\n",
       "</thead>\n",
       "<tbody>\n",
       "\t<tr><th scope=row>1</th><td>PB.1003.3:chr1:+|10|581:117:393|canonical|ATG   </td><td>canonical</td><td>ATG</td><td>PB.1003.3  </td><td>chr1 </td><td>+</td><td>MGLEDEQKMLTESGDPEEEEEEEEELVDPLTTVREQCEQLEKCVKARERLELCDERVSSRSHTEEDCTEELFDFLHARDHCVAHKLFNNLK                                                         </td><td> 91</td><td>UQCRH   </td><td>full-splice_match      </td><td>⋯</td><td>38.816051</td><td>1.676097409</td><td>78.7148080</td><td>40.1954527</td><td>protein_coding</td><td>10</td><td>6.760138e-04</td><td> 46303766</td><td> 46316584</td><td>ATGGGACTGGAGGACGAGCAAAAGATGCTTACCGAATCCGGAGATCCTGAGGAGgaggaagaggaagaggaggaATTAGTGGATCCCCTAACAACAGTGAGAGAGCAATGCGAGCAGTTGGAGAAATGTGTAAAGGCCCGGGAGCGGCTAGAGCTCTGTGATGAGCGTGTATCCTCTCGATCACATACAGAAGAGGATTGCACGGAGGAGCTCTTTGACTTCTTGCATGCGAGGGACCATTGCGTGGCCCACAAACTCTTTAACAACTTGAAA                                                                                                                                                                           </td></tr>\n",
       "\t<tr><th scope=row>2</th><td>PB.10614.3:chr12:+|11|664:250:598|canonical|ATG </td><td>canonical</td><td>ATG</td><td>PB.10614.3 </td><td>chr12</td><td>+</td><td>MTKKRRNNGRAKKGRGHVQPIRCTNCARCVPKDKAIKKFVIRNIVEAAAVRDISEASVFDAYVLPKLYVKLHYCVSCAIHSKVVRNRSREARKDRTPPPRFRPAGAAPRPPPKPM                                 </td><td>115</td><td>RPS26   </td><td>full-splice_match      </td><td>⋯</td><td> 1.913467</td><td>0.876541091</td><td>13.8328328</td><td> 7.3546870</td><td>protein_coding</td><td> 6</td><td>2.373685e-04</td><td> 56042166</td><td> 56044154</td><td>ATGACAAAGAAAAGAAGGAACAATGGTCGTGCCAAAAAGGGCCGCGGCCACGTGCAGCCTATTCGCTGCACTAACTGTGCCCGATGCGTGCCCAAGGACAAGGCCATTAAGAAATTCGTCATTCGAAACATAGTGGAGGCCGCAGCAGTCAGGGACATTTCTGAAGCGAGCGTCTTCGATGCCTATGTGCTTCCCAAGCTGTATGTGAAGCTACATTACTGTGTGAGTTGTGCAATTCACAGCAAAGTAGTCAGGAATCGATCTCGTGAAGCCCGCAAGGACCGAACACCCCCACCCCGATTTAGACCTGCGGGTGCTGCCCCACGTCCCCCACCAAAGCCCATG                                                                                                   </td></tr>\n",
       "\t<tr><th scope=row>3</th><td>PB.10717.10:chr12:-|1|2544:7:403|canonical|ATG  </td><td>canonical</td><td>ATG</td><td>PB.10717.10</td><td>chr12</td><td>-</td><td>MSKRYLQKATKGKLLIIIFIVTLWGKVVSSANHHKAHHVKTGTCEVVALHRCCNKNKIEERSQTVKCSCFPGQVAGTTRAAPSCVDASIVEQKWWCHMQPCLEGEECKVLPDRKGWSCSSGNKVKTTRVTH                 </td><td>131</td><td>TAFA2   </td><td>incomplete-splice_match</td><td>⋯</td><td> 1.640115</td><td>0.688898858</td><td> 3.4066624</td><td> 2.0477806</td><td>protein_coding</td><td> 5</td><td>7.975134e-05</td><td> 61710405</td><td> 61867425</td><td>ATGAGTAAGAGATACTTACAGAAAGCAACAAAAGGAAAACTGCTAATAATAATATTTATTGTAACCTTGTGGGGGAAAGTTGTATCCAGTGCAAACCATCATAAAGCTCACCATGTTAAAACGGGAACTTGTGAGGTGGTGGCACTCCACAGATGCTGTAATAAGAACAAGATAGAAGAACGGTCACAAACAGTCAAGTGCTCCTGCTTCCCTGGGCAGGTGGCAGGCACCACGCGAGCTGCTCCATCATGTGTGGATGCTTCAATAGTGGAACAGAAATGGTGGTGCCATATGCAGCCATGTCTAGAGGGAGAAGAATGTAAAGTTCTTCCGGATCGGAAAGGATGGAGCTGTTCCTCTGGGAATAAAGTCAAAACAACTAGGGTAACCCAT                                                   </td></tr>\n",
       "\t<tr><th scope=row>4</th><td>PB.10898.1:chr12:+|2|1498:38:485|canonical|ATG  </td><td>canonical</td><td>ATG</td><td>PB.10898.1 </td><td>chr12</td><td>+</td><td>MKALIVLGLVLLSVTVQGKVFERCELARTLKRLGMDGYRGISLANWMCLAKWESGYNTRATNYNAGDRSTDYGIFQINSRYWCNDGKTPGAVNACHLSCSALLQDNIADAVACAKRVVRDPQGIRAWVAWRNRCQNRDVRQYVQGCGV</td><td>148</td><td>LYZ     </td><td>full-splice_match      </td><td>⋯</td><td> 0.410029</td><td>0.009222873</td><td> 0.3070568</td><td> 0.1581398</td><td>protein_coding</td><td> 5</td><td>2.435309e-05</td><td> 69348408</td><td> 69353219</td><td>ATGAAGGCTCTCATTGTTCTGGGGCTTGTCCTCCTTTCTGTTACGGTCCAGGGCAAGGTCTTTGAAAGGTGTGAGTTGGCCAGAACTCTGAAAAGATTGGGAATGGATGGCTACAGGGGAATCAGCCTAGCAAACTGGATGTGTTTGGCCAAATGGGAGAGTGGTTACAACACACGAGCTACAAACTACAATGCTGGAGACAGAAGCACTGATTATGGGATATTTCAGATCAATAGCCGCTACTGGTGTAATGATGGCAAAACCCCAGGAGCAGTTAATGCCTGTCATTTATCCTGCAGTGCTTTGCTGCAAGATAACATCGCTGATGCTGTAGCTTGTGCAAAGAGGGTTGTCCGTGATCCACAAGGCATTAGAGCATGGGTGGCATGGAGAAATCGTTGTCAAAACAGAGATGTCCGTCAGTATGTTCAAGGTTGTGGAGTG</td></tr>\n",
       "\t<tr><th scope=row>5</th><td>PB.11287.6:chr12:+|6|795:93:354|canonical|ATG   </td><td>canonical</td><td>ATG</td><td>PB.11287.6 </td><td>chr12</td><td>+</td><td>MSLPLNPKPFLNGLTGKPVMVKLKWGMEYKGYLVSVDGYMNMQLANTEEYIDGALSGHLGEVLIRCNNVLYIRGVEEEEEDGEMRE                                                              </td><td> 86</td><td>SNRPF   </td><td>full-splice_match      </td><td>⋯</td><td> 6.560459</td><td>1.379478018</td><td> 6.5970894</td><td> 3.9882837</td><td>protein_coding</td><td>20</td><td>6.614509e-04</td><td> 95859073</td><td> 95866071</td><td>ATGAGTTTACCCCTCAATCCCAAACCTTTCCTCAATGGACTAACAGGAAAGCCAGTGATGGTGAAACTTAAGTGGGGAATGGAGTACAAGGGCTATCTGGTATCTGTAGATGGCTACATGAACATGCAGCTTGCAAATACAGAAGAATACATAGATGGAGCTTTGTCTGGACATCTGGGTGAAGTTTTAATAAGGTGTAATAATGTCCTTTATATCAGAGGTGTGGAAGAAGAGGAAGAAGATGGGGAAATGAGAGAA                                                                                                                                                                                          </td></tr>\n",
       "\t<tr><th scope=row>6</th><td>PB.11412.30:chr12:-|8|1144:151:367|canonical|ATG</td><td>canonical</td><td>ATG</td><td>PB.11412.30</td><td>chr12</td><td>-</td><td>MPAGVPMSTYLKMFAASLLAMCAGAEVVHRYYRPDLTIPEIPPKRGELKTELLGLKERKHKPQVSQQEELK                                                                             </td><td> 71</td><td>C12orf73</td><td>full-splice_match      </td><td>⋯</td><td> 3.963611</td><td>1.481402907</td><td> 5.1283157</td><td> 3.3048593</td><td>protein_coding</td><td> 2</td><td>5.064325e-05</td><td>103951522</td><td>103956738</td><td>ATGCCCGCGGGCGTGCCCATGTCCACCTACCTGAAAATGTTCGCAGCCAGTCTCCTGGCCATGTGCGCAGGGGCAGAAGTGGTGCACAGGTACTACCGACCGGACCTGACAATACCTGAAATTCCACCAAAGCGTGGAGAACTCAAAACGGAGCTTTTGGGACTGAAAGAAAGAAAACACAAACCTCAAGTTTCTCAACAGGAGGAACTTAAA                                                                                                                                                                                                                                       </td></tr>\n",
       "</tbody>\n",
       "</table>\n"
      ],
      "text/latex": [
       "A data.frame: 6 × 31\n",
       "\\begin{tabular}{r|lllllllllllllllllllll}\n",
       "  & ORF\\_id & ORF\\_type & Start\\_codon & Isoform\\_id & Chr & Strand & ORF\\_seq & ORF\\_length & Geneid & Isoform\\_structural\\_category & ⋯ & FL\\_TPM & N & C & A & Gene\\_type & Unique\\_peptide\\_n & mean\\_relative\\_iBAQ & ORF\\_start & ORF\\_end & CDS\\_seq\\\\\n",
       "  & <chr> & <chr> & <chr> & <chr> & <chr> & <chr> & <chr> & <int> & <chr> & <chr> & ⋯ & <dbl> & <dbl> & <dbl> & <dbl> & <chr> & <int> & <dbl> & <int> & <int> & <chr>\\\\\n",
       "\\hline\n",
       "\t1 & PB.1003.3:chr1:+\\textbar{}10\\textbar{}581:117:393\\textbar{}canonical\\textbar{}ATG    & canonical & ATG & PB.1003.3   & chr1  & + & MGLEDEQKMLTESGDPEEEEEEEEELVDPLTTVREQCEQLEKCVKARERLELCDERVSSRSHTEEDCTEELFDFLHARDHCVAHKLFNNLK                                                          &  91 & UQCRH    & full-splice\\_match       & ⋯ & 38.816051 & 1.676097409 & 78.7148080 & 40.1954527 & protein\\_coding & 10 & 6.760138e-04 &  46303766 &  46316584 & ATGGGACTGGAGGACGAGCAAAAGATGCTTACCGAATCCGGAGATCCTGAGGAGgaggaagaggaagaggaggaATTAGTGGATCCCCTAACAACAGTGAGAGAGCAATGCGAGCAGTTGGAGAAATGTGTAAAGGCCCGGGAGCGGCTAGAGCTCTGTGATGAGCGTGTATCCTCTCGATCACATACAGAAGAGGATTGCACGGAGGAGCTCTTTGACTTCTTGCATGCGAGGGACCATTGCGTGGCCCACAAACTCTTTAACAACTTGAAA                                                                                                                                                                           \\\\\n",
       "\t2 & PB.10614.3:chr12:+\\textbar{}11\\textbar{}664:250:598\\textbar{}canonical\\textbar{}ATG  & canonical & ATG & PB.10614.3  & chr12 & + & MTKKRRNNGRAKKGRGHVQPIRCTNCARCVPKDKAIKKFVIRNIVEAAAVRDISEASVFDAYVLPKLYVKLHYCVSCAIHSKVVRNRSREARKDRTPPPRFRPAGAAPRPPPKPM                                  & 115 & RPS26    & full-splice\\_match       & ⋯ &  1.913467 & 0.876541091 & 13.8328328 &  7.3546870 & protein\\_coding &  6 & 2.373685e-04 &  56042166 &  56044154 & ATGACAAAGAAAAGAAGGAACAATGGTCGTGCCAAAAAGGGCCGCGGCCACGTGCAGCCTATTCGCTGCACTAACTGTGCCCGATGCGTGCCCAAGGACAAGGCCATTAAGAAATTCGTCATTCGAAACATAGTGGAGGCCGCAGCAGTCAGGGACATTTCTGAAGCGAGCGTCTTCGATGCCTATGTGCTTCCCAAGCTGTATGTGAAGCTACATTACTGTGTGAGTTGTGCAATTCACAGCAAAGTAGTCAGGAATCGATCTCGTGAAGCCCGCAAGGACCGAACACCCCCACCCCGATTTAGACCTGCGGGTGCTGCCCCACGTCCCCCACCAAAGCCCATG                                                                                                   \\\\\n",
       "\t3 & PB.10717.10:chr12:-\\textbar{}1\\textbar{}2544:7:403\\textbar{}canonical\\textbar{}ATG   & canonical & ATG & PB.10717.10 & chr12 & - & MSKRYLQKATKGKLLIIIFIVTLWGKVVSSANHHKAHHVKTGTCEVVALHRCCNKNKIEERSQTVKCSCFPGQVAGTTRAAPSCVDASIVEQKWWCHMQPCLEGEECKVLPDRKGWSCSSGNKVKTTRVTH                  & 131 & TAFA2    & incomplete-splice\\_match & ⋯ &  1.640115 & 0.688898858 &  3.4066624 &  2.0477806 & protein\\_coding &  5 & 7.975134e-05 &  61710405 &  61867425 & ATGAGTAAGAGATACTTACAGAAAGCAACAAAAGGAAAACTGCTAATAATAATATTTATTGTAACCTTGTGGGGGAAAGTTGTATCCAGTGCAAACCATCATAAAGCTCACCATGTTAAAACGGGAACTTGTGAGGTGGTGGCACTCCACAGATGCTGTAATAAGAACAAGATAGAAGAACGGTCACAAACAGTCAAGTGCTCCTGCTTCCCTGGGCAGGTGGCAGGCACCACGCGAGCTGCTCCATCATGTGTGGATGCTTCAATAGTGGAACAGAAATGGTGGTGCCATATGCAGCCATGTCTAGAGGGAGAAGAATGTAAAGTTCTTCCGGATCGGAAAGGATGGAGCTGTTCCTCTGGGAATAAAGTCAAAACAACTAGGGTAACCCAT                                                   \\\\\n",
       "\t4 & PB.10898.1:chr12:+\\textbar{}2\\textbar{}1498:38:485\\textbar{}canonical\\textbar{}ATG   & canonical & ATG & PB.10898.1  & chr12 & + & MKALIVLGLVLLSVTVQGKVFERCELARTLKRLGMDGYRGISLANWMCLAKWESGYNTRATNYNAGDRSTDYGIFQINSRYWCNDGKTPGAVNACHLSCSALLQDNIADAVACAKRVVRDPQGIRAWVAWRNRCQNRDVRQYVQGCGV & 148 & LYZ      & full-splice\\_match       & ⋯ &  0.410029 & 0.009222873 &  0.3070568 &  0.1581398 & protein\\_coding &  5 & 2.435309e-05 &  69348408 &  69353219 & ATGAAGGCTCTCATTGTTCTGGGGCTTGTCCTCCTTTCTGTTACGGTCCAGGGCAAGGTCTTTGAAAGGTGTGAGTTGGCCAGAACTCTGAAAAGATTGGGAATGGATGGCTACAGGGGAATCAGCCTAGCAAACTGGATGTGTTTGGCCAAATGGGAGAGTGGTTACAACACACGAGCTACAAACTACAATGCTGGAGACAGAAGCACTGATTATGGGATATTTCAGATCAATAGCCGCTACTGGTGTAATGATGGCAAAACCCCAGGAGCAGTTAATGCCTGTCATTTATCCTGCAGTGCTTTGCTGCAAGATAACATCGCTGATGCTGTAGCTTGTGCAAAGAGGGTTGTCCGTGATCCACAAGGCATTAGAGCATGGGTGGCATGGAGAAATCGTTGTCAAAACAGAGATGTCCGTCAGTATGTTCAAGGTTGTGGAGTG\\\\\n",
       "\t5 & PB.11287.6:chr12:+\\textbar{}6\\textbar{}795:93:354\\textbar{}canonical\\textbar{}ATG    & canonical & ATG & PB.11287.6  & chr12 & + & MSLPLNPKPFLNGLTGKPVMVKLKWGMEYKGYLVSVDGYMNMQLANTEEYIDGALSGHLGEVLIRCNNVLYIRGVEEEEEDGEMRE                                                               &  86 & SNRPF    & full-splice\\_match       & ⋯ &  6.560459 & 1.379478018 &  6.5970894 &  3.9882837 & protein\\_coding & 20 & 6.614509e-04 &  95859073 &  95866071 & ATGAGTTTACCCCTCAATCCCAAACCTTTCCTCAATGGACTAACAGGAAAGCCAGTGATGGTGAAACTTAAGTGGGGAATGGAGTACAAGGGCTATCTGGTATCTGTAGATGGCTACATGAACATGCAGCTTGCAAATACAGAAGAATACATAGATGGAGCTTTGTCTGGACATCTGGGTGAAGTTTTAATAAGGTGTAATAATGTCCTTTATATCAGAGGTGTGGAAGAAGAGGAAGAAGATGGGGAAATGAGAGAA                                                                                                                                                                                          \\\\\n",
       "\t6 & PB.11412.30:chr12:-\\textbar{}8\\textbar{}1144:151:367\\textbar{}canonical\\textbar{}ATG & canonical & ATG & PB.11412.30 & chr12 & - & MPAGVPMSTYLKMFAASLLAMCAGAEVVHRYYRPDLTIPEIPPKRGELKTELLGLKERKHKPQVSQQEELK                                                                              &  71 & C12orf73 & full-splice\\_match       & ⋯ &  3.963611 & 1.481402907 &  5.1283157 &  3.3048593 & protein\\_coding &  2 & 5.064325e-05 & 103951522 & 103956738 & ATGCCCGCGGGCGTGCCCATGTCCACCTACCTGAAAATGTTCGCAGCCAGTCTCCTGGCCATGTGCGCAGGGGCAGAAGTGGTGCACAGGTACTACCGACCGGACCTGACAATACCTGAAATTCCACCAAAGCGTGGAGAACTCAAAACGGAGCTTTTGGGACTGAAAGAAAGAAAACACAAACCTCAAGTTTCTCAACAGGAGGAACTTAAA                                                                                                                                                                                                                                       \\\\\n",
       "\\end{tabular}\n"
      ],
      "text/markdown": [
       "\n",
       "A data.frame: 6 × 31\n",
       "\n",
       "| <!--/--> | ORF_id &lt;chr&gt; | ORF_type &lt;chr&gt; | Start_codon &lt;chr&gt; | Isoform_id &lt;chr&gt; | Chr &lt;chr&gt; | Strand &lt;chr&gt; | ORF_seq &lt;chr&gt; | ORF_length &lt;int&gt; | Geneid &lt;chr&gt; | Isoform_structural_category &lt;chr&gt; | ⋯ ⋯ | FL_TPM &lt;dbl&gt; | N &lt;dbl&gt; | C &lt;dbl&gt; | A &lt;dbl&gt; | Gene_type &lt;chr&gt; | Unique_peptide_n &lt;int&gt; | mean_relative_iBAQ &lt;dbl&gt; | ORF_start &lt;int&gt; | ORF_end &lt;int&gt; | CDS_seq &lt;chr&gt; |\n",
       "|---|---|---|---|---|---|---|---|---|---|---|---|---|---|---|---|---|---|---|---|---|---|\n",
       "| 1 | PB.1003.3:chr1:+|10|581:117:393|canonical|ATG    | canonical | ATG | PB.1003.3   | chr1  | + | MGLEDEQKMLTESGDPEEEEEEEEELVDPLTTVREQCEQLEKCVKARERLELCDERVSSRSHTEEDCTEELFDFLHARDHCVAHKLFNNLK                                                          |  91 | UQCRH    | full-splice_match       | ⋯ | 38.816051 | 1.676097409 | 78.7148080 | 40.1954527 | protein_coding | 10 | 6.760138e-04 |  46303766 |  46316584 | ATGGGACTGGAGGACGAGCAAAAGATGCTTACCGAATCCGGAGATCCTGAGGAGgaggaagaggaagaggaggaATTAGTGGATCCCCTAACAACAGTGAGAGAGCAATGCGAGCAGTTGGAGAAATGTGTAAAGGCCCGGGAGCGGCTAGAGCTCTGTGATGAGCGTGTATCCTCTCGATCACATACAGAAGAGGATTGCACGGAGGAGCTCTTTGACTTCTTGCATGCGAGGGACCATTGCGTGGCCCACAAACTCTTTAACAACTTGAAA                                                                                                                                                                            |\n",
       "| 2 | PB.10614.3:chr12:+|11|664:250:598|canonical|ATG  | canonical | ATG | PB.10614.3  | chr12 | + | MTKKRRNNGRAKKGRGHVQPIRCTNCARCVPKDKAIKKFVIRNIVEAAAVRDISEASVFDAYVLPKLYVKLHYCVSCAIHSKVVRNRSREARKDRTPPPRFRPAGAAPRPPPKPM                                  | 115 | RPS26    | full-splice_match       | ⋯ |  1.913467 | 0.876541091 | 13.8328328 |  7.3546870 | protein_coding |  6 | 2.373685e-04 |  56042166 |  56044154 | ATGACAAAGAAAAGAAGGAACAATGGTCGTGCCAAAAAGGGCCGCGGCCACGTGCAGCCTATTCGCTGCACTAACTGTGCCCGATGCGTGCCCAAGGACAAGGCCATTAAGAAATTCGTCATTCGAAACATAGTGGAGGCCGCAGCAGTCAGGGACATTTCTGAAGCGAGCGTCTTCGATGCCTATGTGCTTCCCAAGCTGTATGTGAAGCTACATTACTGTGTGAGTTGTGCAATTCACAGCAAAGTAGTCAGGAATCGATCTCGTGAAGCCCGCAAGGACCGAACACCCCCACCCCGATTTAGACCTGCGGGTGCTGCCCCACGTCCCCCACCAAAGCCCATG                                                                                                    |\n",
       "| 3 | PB.10717.10:chr12:-|1|2544:7:403|canonical|ATG   | canonical | ATG | PB.10717.10 | chr12 | - | MSKRYLQKATKGKLLIIIFIVTLWGKVVSSANHHKAHHVKTGTCEVVALHRCCNKNKIEERSQTVKCSCFPGQVAGTTRAAPSCVDASIVEQKWWCHMQPCLEGEECKVLPDRKGWSCSSGNKVKTTRVTH                  | 131 | TAFA2    | incomplete-splice_match | ⋯ |  1.640115 | 0.688898858 |  3.4066624 |  2.0477806 | protein_coding |  5 | 7.975134e-05 |  61710405 |  61867425 | ATGAGTAAGAGATACTTACAGAAAGCAACAAAAGGAAAACTGCTAATAATAATATTTATTGTAACCTTGTGGGGGAAAGTTGTATCCAGTGCAAACCATCATAAAGCTCACCATGTTAAAACGGGAACTTGTGAGGTGGTGGCACTCCACAGATGCTGTAATAAGAACAAGATAGAAGAACGGTCACAAACAGTCAAGTGCTCCTGCTTCCCTGGGCAGGTGGCAGGCACCACGCGAGCTGCTCCATCATGTGTGGATGCTTCAATAGTGGAACAGAAATGGTGGTGCCATATGCAGCCATGTCTAGAGGGAGAAGAATGTAAAGTTCTTCCGGATCGGAAAGGATGGAGCTGTTCCTCTGGGAATAAAGTCAAAACAACTAGGGTAACCCAT                                                    |\n",
       "| 4 | PB.10898.1:chr12:+|2|1498:38:485|canonical|ATG   | canonical | ATG | PB.10898.1  | chr12 | + | MKALIVLGLVLLSVTVQGKVFERCELARTLKRLGMDGYRGISLANWMCLAKWESGYNTRATNYNAGDRSTDYGIFQINSRYWCNDGKTPGAVNACHLSCSALLQDNIADAVACAKRVVRDPQGIRAWVAWRNRCQNRDVRQYVQGCGV | 148 | LYZ      | full-splice_match       | ⋯ |  0.410029 | 0.009222873 |  0.3070568 |  0.1581398 | protein_coding |  5 | 2.435309e-05 |  69348408 |  69353219 | ATGAAGGCTCTCATTGTTCTGGGGCTTGTCCTCCTTTCTGTTACGGTCCAGGGCAAGGTCTTTGAAAGGTGTGAGTTGGCCAGAACTCTGAAAAGATTGGGAATGGATGGCTACAGGGGAATCAGCCTAGCAAACTGGATGTGTTTGGCCAAATGGGAGAGTGGTTACAACACACGAGCTACAAACTACAATGCTGGAGACAGAAGCACTGATTATGGGATATTTCAGATCAATAGCCGCTACTGGTGTAATGATGGCAAAACCCCAGGAGCAGTTAATGCCTGTCATTTATCCTGCAGTGCTTTGCTGCAAGATAACATCGCTGATGCTGTAGCTTGTGCAAAGAGGGTTGTCCGTGATCCACAAGGCATTAGAGCATGGGTGGCATGGAGAAATCGTTGTCAAAACAGAGATGTCCGTCAGTATGTTCAAGGTTGTGGAGTG |\n",
       "| 5 | PB.11287.6:chr12:+|6|795:93:354|canonical|ATG    | canonical | ATG | PB.11287.6  | chr12 | + | MSLPLNPKPFLNGLTGKPVMVKLKWGMEYKGYLVSVDGYMNMQLANTEEYIDGALSGHLGEVLIRCNNVLYIRGVEEEEEDGEMRE                                                               |  86 | SNRPF    | full-splice_match       | ⋯ |  6.560459 | 1.379478018 |  6.5970894 |  3.9882837 | protein_coding | 20 | 6.614509e-04 |  95859073 |  95866071 | ATGAGTTTACCCCTCAATCCCAAACCTTTCCTCAATGGACTAACAGGAAAGCCAGTGATGGTGAAACTTAAGTGGGGAATGGAGTACAAGGGCTATCTGGTATCTGTAGATGGCTACATGAACATGCAGCTTGCAAATACAGAAGAATACATAGATGGAGCTTTGTCTGGACATCTGGGTGAAGTTTTAATAAGGTGTAATAATGTCCTTTATATCAGAGGTGTGGAAGAAGAGGAAGAAGATGGGGAAATGAGAGAA                                                                                                                                                                                           |\n",
       "| 6 | PB.11412.30:chr12:-|8|1144:151:367|canonical|ATG | canonical | ATG | PB.11412.30 | chr12 | - | MPAGVPMSTYLKMFAASLLAMCAGAEVVHRYYRPDLTIPEIPPKRGELKTELLGLKERKHKPQVSQQEELK                                                                              |  71 | C12orf73 | full-splice_match       | ⋯ |  3.963611 | 1.481402907 |  5.1283157 |  3.3048593 | protein_coding |  2 | 5.064325e-05 | 103951522 | 103956738 | ATGCCCGCGGGCGTGCCCATGTCCACCTACCTGAAAATGTTCGCAGCCAGTCTCCTGGCCATGTGCGCAGGGGCAGAAGTGGTGCACAGGTACTACCGACCGGACCTGACAATACCTGAAATTCCACCAAAGCGTGGAGAACTCAAAACGGAGCTTTTGGGACTGAAAGAAAGAAAACACAAACCTCAAGTTTCTCAACAGGAGGAACTTAAA                                                                                                                                                                                                                                        |\n",
       "\n"
      ],
      "text/plain": [
       "  ORF_id                                           ORF_type  Start_codon\n",
       "1 PB.1003.3:chr1:+|10|581:117:393|canonical|ATG    canonical ATG        \n",
       "2 PB.10614.3:chr12:+|11|664:250:598|canonical|ATG  canonical ATG        \n",
       "3 PB.10717.10:chr12:-|1|2544:7:403|canonical|ATG   canonical ATG        \n",
       "4 PB.10898.1:chr12:+|2|1498:38:485|canonical|ATG   canonical ATG        \n",
       "5 PB.11287.6:chr12:+|6|795:93:354|canonical|ATG    canonical ATG        \n",
       "6 PB.11412.30:chr12:-|8|1144:151:367|canonical|ATG canonical ATG        \n",
       "  Isoform_id  Chr   Strand\n",
       "1 PB.1003.3   chr1  +     \n",
       "2 PB.10614.3  chr12 +     \n",
       "3 PB.10717.10 chr12 -     \n",
       "4 PB.10898.1  chr12 +     \n",
       "5 PB.11287.6  chr12 +     \n",
       "6 PB.11412.30 chr12 -     \n",
       "  ORF_seq                                                                                                                                             \n",
       "1 MGLEDEQKMLTESGDPEEEEEEEEELVDPLTTVREQCEQLEKCVKARERLELCDERVSSRSHTEEDCTEELFDFLHARDHCVAHKLFNNLK                                                         \n",
       "2 MTKKRRNNGRAKKGRGHVQPIRCTNCARCVPKDKAIKKFVIRNIVEAAAVRDISEASVFDAYVLPKLYVKLHYCVSCAIHSKVVRNRSREARKDRTPPPRFRPAGAAPRPPPKPM                                 \n",
       "3 MSKRYLQKATKGKLLIIIFIVTLWGKVVSSANHHKAHHVKTGTCEVVALHRCCNKNKIEERSQTVKCSCFPGQVAGTTRAAPSCVDASIVEQKWWCHMQPCLEGEECKVLPDRKGWSCSSGNKVKTTRVTH                 \n",
       "4 MKALIVLGLVLLSVTVQGKVFERCELARTLKRLGMDGYRGISLANWMCLAKWESGYNTRATNYNAGDRSTDYGIFQINSRYWCNDGKTPGAVNACHLSCSALLQDNIADAVACAKRVVRDPQGIRAWVAWRNRCQNRDVRQYVQGCGV\n",
       "5 MSLPLNPKPFLNGLTGKPVMVKLKWGMEYKGYLVSVDGYMNMQLANTEEYIDGALSGHLGEVLIRCNNVLYIRGVEEEEEDGEMRE                                                              \n",
       "6 MPAGVPMSTYLKMFAASLLAMCAGAEVVHRYYRPDLTIPEIPPKRGELKTELLGLKERKHKPQVSQQEELK                                                                             \n",
       "  ORF_length Geneid   Isoform_structural_category ⋯ FL_TPM    N          \n",
       "1  91        UQCRH    full-splice_match           ⋯ 38.816051 1.676097409\n",
       "2 115        RPS26    full-splice_match           ⋯  1.913467 0.876541091\n",
       "3 131        TAFA2    incomplete-splice_match     ⋯  1.640115 0.688898858\n",
       "4 148        LYZ      full-splice_match           ⋯  0.410029 0.009222873\n",
       "5  86        SNRPF    full-splice_match           ⋯  6.560459 1.379478018\n",
       "6  71        C12orf73 full-splice_match           ⋯  3.963611 1.481402907\n",
       "  C          A          Gene_type      Unique_peptide_n mean_relative_iBAQ\n",
       "1 78.7148080 40.1954527 protein_coding 10               6.760138e-04      \n",
       "2 13.8328328  7.3546870 protein_coding  6               2.373685e-04      \n",
       "3  3.4066624  2.0477806 protein_coding  5               7.975134e-05      \n",
       "4  0.3070568  0.1581398 protein_coding  5               2.435309e-05      \n",
       "5  6.5970894  3.9882837 protein_coding 20               6.614509e-04      \n",
       "6  5.1283157  3.3048593 protein_coding  2               5.064325e-05      \n",
       "  ORF_start ORF_end  \n",
       "1  46303766  46316584\n",
       "2  56042166  56044154\n",
       "3  61710405  61867425\n",
       "4  69348408  69353219\n",
       "5  95859073  95866071\n",
       "6 103951522 103956738\n",
       "  CDS_seq                                                                                                                                                                                                                                                                                                                                                                                                                                                     \n",
       "1 ATGGGACTGGAGGACGAGCAAAAGATGCTTACCGAATCCGGAGATCCTGAGGAGgaggaagaggaagaggaggaATTAGTGGATCCCCTAACAACAGTGAGAGAGCAATGCGAGCAGTTGGAGAAATGTGTAAAGGCCCGGGAGCGGCTAGAGCTCTGTGATGAGCGTGTATCCTCTCGATCACATACAGAAGAGGATTGCACGGAGGAGCTCTTTGACTTCTTGCATGCGAGGGACCATTGCGTGGCCCACAAACTCTTTAACAACTTGAAA                                                                                                                                                                           \n",
       "2 ATGACAAAGAAAAGAAGGAACAATGGTCGTGCCAAAAAGGGCCGCGGCCACGTGCAGCCTATTCGCTGCACTAACTGTGCCCGATGCGTGCCCAAGGACAAGGCCATTAAGAAATTCGTCATTCGAAACATAGTGGAGGCCGCAGCAGTCAGGGACATTTCTGAAGCGAGCGTCTTCGATGCCTATGTGCTTCCCAAGCTGTATGTGAAGCTACATTACTGTGTGAGTTGTGCAATTCACAGCAAAGTAGTCAGGAATCGATCTCGTGAAGCCCGCAAGGACCGAACACCCCCACCCCGATTTAGACCTGCGGGTGCTGCCCCACGTCCCCCACCAAAGCCCATG                                                                                                   \n",
       "3 ATGAGTAAGAGATACTTACAGAAAGCAACAAAAGGAAAACTGCTAATAATAATATTTATTGTAACCTTGTGGGGGAAAGTTGTATCCAGTGCAAACCATCATAAAGCTCACCATGTTAAAACGGGAACTTGTGAGGTGGTGGCACTCCACAGATGCTGTAATAAGAACAAGATAGAAGAACGGTCACAAACAGTCAAGTGCTCCTGCTTCCCTGGGCAGGTGGCAGGCACCACGCGAGCTGCTCCATCATGTGTGGATGCTTCAATAGTGGAACAGAAATGGTGGTGCCATATGCAGCCATGTCTAGAGGGAGAAGAATGTAAAGTTCTTCCGGATCGGAAAGGATGGAGCTGTTCCTCTGGGAATAAAGTCAAAACAACTAGGGTAACCCAT                                                   \n",
       "4 ATGAAGGCTCTCATTGTTCTGGGGCTTGTCCTCCTTTCTGTTACGGTCCAGGGCAAGGTCTTTGAAAGGTGTGAGTTGGCCAGAACTCTGAAAAGATTGGGAATGGATGGCTACAGGGGAATCAGCCTAGCAAACTGGATGTGTTTGGCCAAATGGGAGAGTGGTTACAACACACGAGCTACAAACTACAATGCTGGAGACAGAAGCACTGATTATGGGATATTTCAGATCAATAGCCGCTACTGGTGTAATGATGGCAAAACCCCAGGAGCAGTTAATGCCTGTCATTTATCCTGCAGTGCTTTGCTGCAAGATAACATCGCTGATGCTGTAGCTTGTGCAAAGAGGGTTGTCCGTGATCCACAAGGCATTAGAGCATGGGTGGCATGGAGAAATCGTTGTCAAAACAGAGATGTCCGTCAGTATGTTCAAGGTTGTGGAGTG\n",
       "5 ATGAGTTTACCCCTCAATCCCAAACCTTTCCTCAATGGACTAACAGGAAAGCCAGTGATGGTGAAACTTAAGTGGGGAATGGAGTACAAGGGCTATCTGGTATCTGTAGATGGCTACATGAACATGCAGCTTGCAAATACAGAAGAATACATAGATGGAGCTTTGTCTGGACATCTGGGTGAAGTTTTAATAAGGTGTAATAATGTCCTTTATATCAGAGGTGTGGAAGAAGAGGAAGAAGATGGGGAAATGAGAGAA                                                                                                                                                                                          \n",
       "6 ATGCCCGCGGGCGTGCCCATGTCCACCTACCTGAAAATGTTCGCAGCCAGTCTCCTGGCCATGTGCGCAGGGGCAGAAGTGGTGCACAGGTACTACCGACCGGACCTGACAATACCTGAAATTCCACCAAAGCGTGGAGAACTCAAAACGGAGCTTTTGGGACTGAAAGAAAGAAAACACAAACCTCAAGTTTCTCAACAGGAGGAACTTAAA                                                                                                                                                                                                                                       "
      ]
     },
     "metadata": {},
     "output_type": "display_data"
    }
   ],
   "source": [
    "head(cano_sep)"
   ]
  },
  {
   "cell_type": "code",
   "execution_count": 54,
   "id": "592a8c6f",
   "metadata": {
    "ExecuteTime": {
     "end_time": "2025-09-19T06:47:47.801595Z",
     "start_time": "2025-09-19T06:47:45.172Z"
    }
   },
   "outputs": [
    {
     "data": {
      "text/html": [
       "573"
      ],
      "text/latex": [
       "573"
      ],
      "text/markdown": [
       "573"
      ],
      "text/plain": [
       "[1] 573"
      ]
     },
     "metadata": {},
     "output_type": "display_data"
    },
    {
     "name": "stdout",
     "output_type": "stream",
     "text": [
      "  [,1] [,2] [,3] [,4] [,5]\n",
      "A   86   84  109   86  115\n",
      "C  162  211  186  185  207\n",
      "G  182  156  149  175  143\n",
      "T  143  122  129  127  108\n"
     ]
    }
   ],
   "source": [
    "nrow(cano_sep)\n",
    "for (i in 2){\n",
    "if(i==0){\n",
    "    prefix=\"noncano\"\n",
    "}else if(i==1){\n",
    "    prefix=\"cano\"\n",
    "}else{\n",
    "    prefix=\"all\"\n",
    "}\n",
    "inte_func(cano_sep,\n",
    "        paste0(\"../../figures/cano_sep_scodon_kozak/\",prefix,\"/\"),\n",
    "        \"prefix\",\n",
    "        i\n",
    ")\n",
    "}"
   ]
  },
  {
   "cell_type": "code",
   "execution_count": 55,
   "id": "97cc8c55",
   "metadata": {
    "ExecuteTime": {
     "end_time": "2025-09-19T06:48:02.560068Z",
     "start_time": "2025-09-19T06:47:53.765Z"
    },
    "scrolled": true
   },
   "outputs": [
    {
     "data": {
      "text/html": [
       "16396"
      ],
      "text/latex": [
       "16396"
      ],
      "text/markdown": [
       "16396"
      ],
      "text/plain": [
       "[1] 16396"
      ]
     },
     "metadata": {},
     "output_type": "display_data"
    },
    {
     "name": "stdout",
     "output_type": "stream",
     "text": [
      "  [,1] [,2] [,3] [,4] [,5]\n",
      "A 2033 2283 2492 2052 2240\n",
      "C 2282 2430 2414 2389 2472\n",
      "G 2630 2900 2273 2505 2927\n",
      "T 2487 1819 2253 2486 1793\n",
      "  [,1] [,2] [,3] [,4] [,5]\n",
      "A 1768 1733 1863 1752 1705\n",
      "C 1569 1653 1618 1546 1648\n",
      "G 1554 1772 1795 1619 1844\n",
      "T 2073 1806 1688 2047 1767\n",
      "  [,1] [,2] [,3] [,4] [,5]\n",
      "A 3801 4016 4355 3804 3945\n",
      "C 3851 4083 4032 3935 4120\n",
      "G 4184 4672 4068 4124 4771\n",
      "T 4560 3625 3941 4533 3560\n"
     ]
    }
   ],
   "source": [
    "nrow(noncano_sep)\n",
    "for (i in 0:2){\n",
    "if(i==0){\n",
    "    prefix=\"noncano\"\n",
    "}else if(i==1){\n",
    "    prefix=\"cano\"\n",
    "}else{\n",
    "    prefix=\"all\"\n",
    "}\n",
    "inte_func(noncano_sep,\n",
    "        paste0(\"../../figures/noncano_sep_ms_suppo_scodon_kozak/\",prefix,\"/\"),\n",
    "        \"prefix\",\n",
    "        i\n",
    ")\n",
    "}"
   ]
  },
  {
   "cell_type": "code",
   "execution_count": 56,
   "id": "57baea33",
   "metadata": {
    "ExecuteTime": {
     "end_time": "2025-09-19T06:48:09.067394Z",
     "start_time": "2025-09-19T06:48:04.935Z"
    }
   },
   "outputs": [
    {
     "data": {
      "text/html": [
       "611"
      ],
      "text/latex": [
       "611"
      ],
      "text/markdown": [
       "611"
      ],
      "text/plain": [
       "[1] 611"
      ]
     },
     "metadata": {},
     "output_type": "display_data"
    },
    {
     "name": "stdout",
     "output_type": "stream",
     "text": [
      "  [,1] [,2] [,3] [,4] [,5]\n",
      "A   57   79   77   70   78\n",
      "C   75   89   98   90   90\n",
      "G  102  105   83   92  108\n",
      "T   83   44   59   65   41\n",
      "  [,1] [,2] [,3] [,4] [,5]\n",
      "A   69   73   82   53   71\n",
      "C   67   81   73   73   77\n",
      "G   85   83   75   77   79\n",
      "T   73   57   64   91   67\n",
      "  [,1] [,2] [,3] [,4] [,5]\n",
      "A  126  152  159  123  149\n",
      "C  142  170  171  163  167\n",
      "G  187  188  158  169  187\n",
      "T  156  101  123  156  108\n"
     ]
    }
   ],
   "source": [
    "# noncano_sep %>% %>% filter(Run_occurrence>=2|Unique_peptide_n>=2)  -> noncano_filtered_sep\n",
    "noncano_sep %>% filter(Unique_peptide_n>=2)  -> noncano_filtered_sep\n",
    "nrow(noncano_filtered_sep)\n",
    "for (i in 0:2){\n",
    "if(i==0){\n",
    "    prefix=\"noncano\"\n",
    "}else if(i==1){\n",
    "    prefix=\"cano\"\n",
    "}else{\n",
    "    prefix=\"all\"\n",
    "}\n",
    "inte_func(noncano_filtered_sep,\n",
    "        paste0(\"../../figures/noncano_sep_ms_suppo_filtered_scodon_kozak/\",prefix,\"/\"),\n",
    "        \"prefix\",\n",
    "        i\n",
    ")\n",
    "}"
   ]
  },
  {
   "cell_type": "code",
   "execution_count": 57,
   "id": "a6fa470b",
   "metadata": {
    "ExecuteTime": {
     "end_time": "2025-09-19T06:48:17.321753Z",
     "start_time": "2025-09-19T06:48:11.799Z"
    }
   },
   "outputs": [
    {
     "data": {
      "text/html": [
       "7051"
      ],
      "text/latex": [
       "7051"
      ],
      "text/markdown": [
       "7051"
      ],
      "text/plain": [
       "[1] 7051"
      ]
     },
     "metadata": {},
     "output_type": "display_data"
    },
    {
     "name": "stdout",
     "output_type": "stream",
     "text": [
      "  [,1] [,2] [,3] [,4] [,5]\n",
      "A  908  987 1079  882 1004\n",
      "C  993 1059 1023 1037 1068\n",
      "G 1102 1231  983 1050 1252\n",
      "T 1082  808 1000 1116  761\n",
      "  [,1] [,2] [,3] [,4] [,5]\n",
      "A  736  727  788  740  730\n",
      "C  640  708  691  675  701\n",
      "G  690  759  775  688  789\n",
      "T  900  772  712  863  746\n",
      "  [,1] [,2] [,3] [,4] [,5]\n",
      "A 1644 1714 1867 1622 1734\n",
      "C 1633 1767 1714 1712 1769\n",
      "G 1792 1990 1758 1738 2041\n",
      "T 1982 1580 1712 1979 1507\n"
     ]
    }
   ],
   "source": [
    "noncano_sep %>% filter(Unique_peptide_n_msfragger_closed!=0)-> noncano_filtered_sep_based_on_source\n",
    "nrow(noncano_filtered_sep_based_on_source)\n",
    "for (i in 0:2){\n",
    "if(i==0){\n",
    "    prefix=\"noncano\"\n",
    "}else if(i==1){\n",
    "    prefix=\"cano\"\n",
    "}else{\n",
    "    prefix=\"all\"\n",
    "}\n",
    "inte_func(noncano_filtered_sep_based_on_source,\n",
    "        paste0(\"../../figures/noncano_filtered_sep_based_on_source_scodon_kozak/\",prefix,\"/\"),\n",
    "        \"prefix\",\n",
    "        i\n",
    ")\n",
    "}"
   ]
  },
  {
   "cell_type": "code",
   "execution_count": 62,
   "id": "b1535f90",
   "metadata": {
    "ExecuteTime": {
     "end_time": "2025-09-20T06:40:27.605038Z",
     "start_time": "2025-09-20T06:40:21.712Z"
    }
   },
   "outputs": [
    {
     "data": {
      "text/html": [
       "9274"
      ],
      "text/latex": [
       "9274"
      ],
      "text/markdown": [
       "9274"
      ],
      "text/plain": [
       "[1] 9274"
      ]
     },
     "metadata": {},
     "output_type": "display_data"
    },
    {
     "name": "stdout",
     "output_type": "stream",
     "text": [
      "  [,1] [,2] [,3] [,4] [,5]\n",
      "A 1181 1279 1431 1188 1285\n",
      "C 1347 1453 1429 1421 1462\n",
      "G 1569 1714 1349 1468 1758\n",
      "T 1392 1043 1280 1412  984\n",
      "  [,1] [,2] [,3] [,4] [,5]\n",
      "A  983  951 1017  942  894\n",
      "C  825  864  857  839  907\n",
      "G  862 1003  995  900 1023\n",
      "T 1115  967  916 1104  961\n",
      "  [,1] [,2] [,3] [,4] [,5]\n",
      "A 2164 2230 2448 2130 2179\n",
      "C 2172 2317 2286 2260 2369\n",
      "G 2431 2717 2344 2368 2781\n",
      "T 2507 2010 2196 2516 1945\n"
     ]
    }
   ],
   "source": [
    "noncano_sep %>% filter(ORF_type!=\"noncoding\")-> noncano_filtered_sep_based_on_orf_type\n",
    "nrow(noncano_filtered_sep_based_on_orf_type)\n",
    "for (i in 0:2){\n",
    "if(i==0){\n",
    "    prefix=\"noncano\"\n",
    "}else if(i==1){\n",
    "    prefix=\"cano\"\n",
    "}else{\n",
    "    prefix=\"all\"\n",
    "}\n",
    "inte_func(noncano_filtered_sep_based_on_orf_type,\n",
    "        paste0(\"../../figures/noncano_filtered_sep_based_on_orf_type_scodon_kozak/\",prefix,\"/\"),\n",
    "        \"prefix\",\n",
    "        i\n",
    ")\n",
    "}"
   ]
  },
  {
   "cell_type": "code",
   "execution_count": 61,
   "id": "de966586",
   "metadata": {
    "ExecuteTime": {
     "end_time": "2025-09-20T06:39:29.363785Z",
     "start_time": "2025-09-20T06:39:25.444Z"
    }
   },
   "outputs": [
    {
     "data": {
      "text/html": [
       "2959"
      ],
      "text/latex": [
       "2959"
      ],
      "text/markdown": [
       "2959"
      ],
      "text/plain": [
       "[1] 2959"
      ]
     },
     "metadata": {},
     "output_type": "display_data"
    },
    {
     "name": "stdout",
     "output_type": "stream",
     "text": [
      "  [,1] [,2] [,3] [,4] [,5]\n",
      "A  349  420  435  384  413\n",
      "C  414  420  430  408  432\n",
      "G  478  506  423  445  497\n",
      "T  412  307  365  416  311\n",
      "  [,1] [,2] [,3] [,4] [,5]\n",
      "A  319  323  339  320  316\n",
      "C  317  334  310  284  328\n",
      "G  288  337  351  314  332\n",
      "T  382  312  306  388  330\n",
      "  [,1] [,2] [,3] [,4] [,5]\n",
      "A  668  743  774  704  729\n",
      "C  731  754  740  692  760\n",
      "G  766  843  774  759  829\n",
      "T  794  619  671  804  641\n"
     ]
    }
   ],
   "source": [
    "noncano_sep %>% filter(Run_occurrence>1)-> noncano_filtered_sep_based_on_run_occ\n",
    "nrow(noncano_filtered_sep_based_on_run_occ)\n",
    "for (i in 0:2){\n",
    "if(i==0){\n",
    "    prefix=\"noncano\"\n",
    "}else if(i==1){\n",
    "    prefix=\"cano\"\n",
    "}else{\n",
    "    prefix=\"all\"\n",
    "}\n",
    "inte_func(noncano_filtered_sep_based_on_run_occ,\n",
    "        paste0(\"../../figures/noncano_filtered_sep_based_on_run_occ_scodon_kozak/\",prefix,\"/\"),\n",
    "        \"prefix\",\n",
    "        i\n",
    ")\n",
    "}"
   ]
  },
  {
   "cell_type": "code",
   "execution_count": 59,
   "id": "2206a727",
   "metadata": {
    "ExecuteTime": {
     "end_time": "2025-09-20T06:38:27.949563Z",
     "start_time": "2025-09-20T06:38:27.531Z"
    }
   },
   "outputs": [
    {
     "data": {
      "text/html": [
       "<style>\n",
       ".list-inline {list-style: none; margin:0; padding: 0}\n",
       ".list-inline>li {display: inline-block}\n",
       ".list-inline>li:not(:last-child)::after {content: \"\\00b7\"; padding: 0 .5ex}\n",
       "</style>\n",
       "<ol class=list-inline><li>'ORF_id'</li><li>'ORF_type'</li><li>'Start_codon'</li><li>'Isoform_id'</li><li>'Chr'</li><li>'Strand'</li><li>'ORF_seq'</li><li>'ORF_length'</li><li>'Geneid'</li><li>'Isoform_structural_category'</li><li>'Isoform_subcategory'</li><li>'Is_uniprot'</li><li>'Is_canonical'</li><li>'Run_occurrence'</li><li>'RPF_reads'</li><li>'Psites_number'</li><li>'RPF_RPKM'</li><li>'Psites_RPKM'</li><li>'RPF_codon_coverage'</li><li>'Psites_codon_coverage'</li><li>'FL'</li><li>'FL_TPM'</li><li>'N'</li><li>'C'</li><li>'A'</li><li>'Gene_type'</li><li>'Unique_peptide_n'</li><li>'Unique_peptide_n_msfragger_closed'</li><li>'mean_relative_iBAQ'</li><li>'ORF_start'</li><li>'ORF_end'</li><li>'CDS_seq'</li></ol>\n"
      ],
      "text/latex": [
       "\\begin{enumerate*}\n",
       "\\item 'ORF\\_id'\n",
       "\\item 'ORF\\_type'\n",
       "\\item 'Start\\_codon'\n",
       "\\item 'Isoform\\_id'\n",
       "\\item 'Chr'\n",
       "\\item 'Strand'\n",
       "\\item 'ORF\\_seq'\n",
       "\\item 'ORF\\_length'\n",
       "\\item 'Geneid'\n",
       "\\item 'Isoform\\_structural\\_category'\n",
       "\\item 'Isoform\\_subcategory'\n",
       "\\item 'Is\\_uniprot'\n",
       "\\item 'Is\\_canonical'\n",
       "\\item 'Run\\_occurrence'\n",
       "\\item 'RPF\\_reads'\n",
       "\\item 'Psites\\_number'\n",
       "\\item 'RPF\\_RPKM'\n",
       "\\item 'Psites\\_RPKM'\n",
       "\\item 'RPF\\_codon\\_coverage'\n",
       "\\item 'Psites\\_codon\\_coverage'\n",
       "\\item 'FL'\n",
       "\\item 'FL\\_TPM'\n",
       "\\item 'N'\n",
       "\\item 'C'\n",
       "\\item 'A'\n",
       "\\item 'Gene\\_type'\n",
       "\\item 'Unique\\_peptide\\_n'\n",
       "\\item 'Unique\\_peptide\\_n\\_msfragger\\_closed'\n",
       "\\item 'mean\\_relative\\_iBAQ'\n",
       "\\item 'ORF\\_start'\n",
       "\\item 'ORF\\_end'\n",
       "\\item 'CDS\\_seq'\n",
       "\\end{enumerate*}\n"
      ],
      "text/markdown": [
       "1. 'ORF_id'\n",
       "2. 'ORF_type'\n",
       "3. 'Start_codon'\n",
       "4. 'Isoform_id'\n",
       "5. 'Chr'\n",
       "6. 'Strand'\n",
       "7. 'ORF_seq'\n",
       "8. 'ORF_length'\n",
       "9. 'Geneid'\n",
       "10. 'Isoform_structural_category'\n",
       "11. 'Isoform_subcategory'\n",
       "12. 'Is_uniprot'\n",
       "13. 'Is_canonical'\n",
       "14. 'Run_occurrence'\n",
       "15. 'RPF_reads'\n",
       "16. 'Psites_number'\n",
       "17. 'RPF_RPKM'\n",
       "18. 'Psites_RPKM'\n",
       "19. 'RPF_codon_coverage'\n",
       "20. 'Psites_codon_coverage'\n",
       "21. 'FL'\n",
       "22. 'FL_TPM'\n",
       "23. 'N'\n",
       "24. 'C'\n",
       "25. 'A'\n",
       "26. 'Gene_type'\n",
       "27. 'Unique_peptide_n'\n",
       "28. 'Unique_peptide_n_msfragger_closed'\n",
       "29. 'mean_relative_iBAQ'\n",
       "30. 'ORF_start'\n",
       "31. 'ORF_end'\n",
       "32. 'CDS_seq'\n",
       "\n",
       "\n"
      ],
      "text/plain": [
       " [1] \"ORF_id\"                            \"ORF_type\"                         \n",
       " [3] \"Start_codon\"                       \"Isoform_id\"                       \n",
       " [5] \"Chr\"                               \"Strand\"                           \n",
       " [7] \"ORF_seq\"                           \"ORF_length\"                       \n",
       " [9] \"Geneid\"                            \"Isoform_structural_category\"      \n",
       "[11] \"Isoform_subcategory\"               \"Is_uniprot\"                       \n",
       "[13] \"Is_canonical\"                      \"Run_occurrence\"                   \n",
       "[15] \"RPF_reads\"                         \"Psites_number\"                    \n",
       "[17] \"RPF_RPKM\"                          \"Psites_RPKM\"                      \n",
       "[19] \"RPF_codon_coverage\"                \"Psites_codon_coverage\"            \n",
       "[21] \"FL\"                                \"FL_TPM\"                           \n",
       "[23] \"N\"                                 \"C\"                                \n",
       "[25] \"A\"                                 \"Gene_type\"                        \n",
       "[27] \"Unique_peptide_n\"                  \"Unique_peptide_n_msfragger_closed\"\n",
       "[29] \"mean_relative_iBAQ\"                \"ORF_start\"                        \n",
       "[31] \"ORF_end\"                           \"CDS_seq\"                          "
      ]
     },
     "metadata": {},
     "output_type": "display_data"
    }
   ],
   "source": [
    "colnames(noncano_sep)"
   ]
  }
 ],
 "metadata": {
  "kernelspec": {
   "display_name": "R_default_4.2",
   "language": "R",
   "name": "r_default_4.2"
  },
  "language_info": {
   "codemirror_mode": "r",
   "file_extension": ".r",
   "mimetype": "text/x-r-source",
   "name": "R",
   "pygments_lexer": "r",
   "version": "4.2.1"
  },
  "toc": {
   "base_numbering": 1,
   "nav_menu": {},
   "number_sections": true,
   "sideBar": true,
   "skip_h1_title": false,
   "title_cell": "Table of Contents",
   "title_sidebar": "Contents",
   "toc_cell": false,
   "toc_position": {},
   "toc_section_display": true,
   "toc_window_display": false
  }
 },
 "nbformat": 4,
 "nbformat_minor": 5
}
