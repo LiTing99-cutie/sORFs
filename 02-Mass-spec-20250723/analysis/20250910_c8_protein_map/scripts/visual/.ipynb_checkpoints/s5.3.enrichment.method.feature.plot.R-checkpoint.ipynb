{
 "cells": [
  {
   "cell_type": "code",
   "execution_count": null,
   "id": "1ca4a6c5",
   "metadata": {},
   "outputs": [],
   "source": [
    "file_path <- \"../results/S5/unique_methods_protein_features_added.txt\"\n",
    "out_plot_1 <- \"../../figures/1/GRAVY_by_enrich.pdf\"\n",
    "out_plot_2 <- \"../../figures/1/pI_by_enrich.pdf\""
   ]
  },
  {
   "cell_type": "code",
   "execution_count": null,
   "id": "dfbf0985",
   "metadata": {},
   "outputs": [],
   "source": [
    "source(\"/rd1/user/lit/project/sORFs/sORFs.utils.R\")\n",
    "source(\"~/bin/lit_utils.R\")\n",
    "lib_text()\n",
    "lib_plot()\n",
    "\n",
    "fread_c(file_path) -> df\n",
    "head(df)\n",
    "colnames(df)\n",
    "\n",
    "df  %>% filter(Supported_Enrichments!='C8, MWCO, PAGE, PCP') -> df\n",
    "\n",
    "ggplot(df, aes(x = Supported_Enrichments, y = gravy, fill = Supported_Enrichments)) +\n",
    "  # 小提琴图（分布）\n",
    "  geom_violin(trim = FALSE, alpha = 0.5) +\n",
    "  \n",
    "  # 叠加盒形图（透明填充，仅中间显示）\n",
    "  geom_boxplot(width = 0.15, fill = \"white\", outlier.shape = NA, color = \"black\") +\n",
    "\n",
    "  # 美化主题与标签\n",
    "  labs(\n",
    "       x = \"Enrichment Method\",\n",
    "       y = \"Hydrophobicity (GRAVY)\") +\n",
    "  theme_3() +\n",
    "  theme(axis.text.x = element_text(angle = 45, hjust = 1),\n",
    "        legend.position = \"none\") +\n",
    "stat_compare_means(comparisons = combn(unique(df$Supported_Enrichments),2,simplify = FALSE),\n",
    "                  method=\"wilcox.test\",\n",
    "                  label=\"p.signif\")+\n",
    "  scale_fill_manual(values = brewer.pal(length(unique(df$Supported_Enrichments)), \"Set2\")) ->p1\n",
    "ggplot(df, aes(x = Supported_Enrichments, y = isoelectric_point, fill = Supported_Enrichments)) +\n",
    "  # 小提琴图（分布）\n",
    "  geom_violin(trim = FALSE, alpha = 0.5) +\n",
    "  \n",
    "  # 叠加盒形图（透明填充，仅中间显示）\n",
    "  geom_boxplot(width = 0.15, fill = \"white\", outlier.shape = NA, color = \"black\") +\n",
    "\n",
    "  # 美化主题与标签\n",
    "  labs(\n",
    "       x = \"Enrichment Method\",\n",
    "       y = \"Isoelectric Point (pI)\") +\n",
    "  theme_3() +\n",
    "  theme(axis.text.x = element_text(angle = 45, hjust = 1),\n",
    "        legend.position = \"none\") +\n",
    "stat_compare_means(comparisons = combn(unique(df$Supported_Enrichments),2,simplify = FALSE),\n",
    "                  method=\"wilcox.test\",\n",
    "                  label=\"p.signif\")+\n",
    "  scale_fill_manual(values = brewer.pal(length(unique(df$Supported_Enrichments)), \"Set2\")) ->p2\n",
    "p1\n",
    "p2\n",
    "\n",
    "ggsave(p1,filename = out_plot_1,height = 5,width = 5)\n",
    "ggsave(p2,filename = out_plot_2,height = 5,width = 5)"
   ]
  }
 ],
 "metadata": {
  "kernelspec": {
   "display_name": "R_default_4.2",
   "language": "R",
   "name": "r_default_4.2"
  },
  "language_info": {
   "codemirror_mode": "r",
   "file_extension": ".r",
   "mimetype": "text/x-r-source",
   "name": "R",
   "pygments_lexer": "r",
   "version": "4.2.1"
  },
  "toc": {
   "base_numbering": 1,
   "nav_menu": {},
   "number_sections": true,
   "sideBar": true,
   "skip_h1_title": false,
   "title_cell": "Table of Contents",
   "title_sidebar": "Contents",
   "toc_cell": false,
   "toc_position": {},
   "toc_section_display": true,
   "toc_window_display": false
  }
 },
 "nbformat": 4,
 "nbformat_minor": 5
}
