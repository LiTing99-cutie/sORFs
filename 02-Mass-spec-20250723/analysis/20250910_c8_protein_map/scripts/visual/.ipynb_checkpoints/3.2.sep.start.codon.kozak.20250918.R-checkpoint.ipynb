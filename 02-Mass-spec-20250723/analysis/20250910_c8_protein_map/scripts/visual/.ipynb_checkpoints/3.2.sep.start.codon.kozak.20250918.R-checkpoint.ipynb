{
 "cells": [
  {
   "cell_type": "code",
   "execution_count": 29,
   "id": "8790ed1c",
   "metadata": {
    "ExecuteTime": {
     "end_time": "2025-09-18T09:38:45.939446Z",
     "start_time": "2025-09-18T09:38:45.004Z"
    }
   },
   "outputs": [],
   "source": [
    "source(\"/home/user/data2/lit/bin/lit_utils.R\")\n",
    "source(\"/home/user/data3/lit/project/sORFs/sORFs.utils.R\")\n",
    "lib_text()\n",
    "lib_plot()\n",
    "\n",
    "##### 起始密码子附近的kozak序列 ##### \n",
    "get_window_15_start_codon <- function(df){\n",
    "  df %>% filter(Strand==\"+\") ->  all_sep_forward\n",
    "  data.frame(all_sep_forward$Chr,all_sep_forward$ORF_start-15,all_sep_forward$ORF_start+18,all_sep_forward$ORF_id,\".\",\n",
    "             all_sep_forward$Strand) -> window_15_start_codon_f\n",
    "  df %>% filter(Strand==\"-\") ->  all_sep_reverse\n",
    "  data.frame(all_sep_reverse$Chr,all_sep_reverse$ORF_end-18,all_sep_reverse$ORF_end+15,all_sep_reverse$ORF_id,\".\",\n",
    "             all_sep_reverse$Strand) -> window_15_start_codon_r\n",
    "  colnames(window_15_start_codon_r) <- colnames(window_15_start_codon_f)\n",
    "  rbind(window_15_start_codon_f,window_15_start_codon_r) -> window_15_start_codon\n",
    "  return(window_15_start_codon)\n",
    "}\n",
    "## 方法一\n",
    "# 输入fasta所在的路径\n",
    "seqlogo_cus <- function(fasta_path,output_path,keep_start_codon_or_not){\n",
    "  library(seqLogo)\n",
    "  library(Biostrings)\n",
    "  # 读取 FASTA 文件\n",
    "  seqs <- readDNAStringSet(fasta_path)\n",
    "  # 直接计算碱基频率矩阵（PFM）\n",
    "  pfm <- consensusMatrix(seqs)[1:4, ]  # 只保留A/C/G/T\n",
    "  rownames(pfm) <- c(\"A\", \"C\", \"G\", \"T\")\n",
    "  # 检查PFM（确保无NA/Inf值）\n",
    "  print(pfm[, 1:5])  # 查看前5列\n",
    "  if(!keep_start_codon_or_not){\n",
    "    pfm[,c(1:15,19:33)] -> pfm\n",
    "  }\n",
    "  # 转换为PWM（需确保所有列和为1）\n",
    "  pwm <- makePWM((pfm) / colSums(pfm))  # 加伪计数避免除零错误\n",
    "  # 绘制Sequence Logo\n",
    "  pdf(output_path, width = 7, height = 4)  # 可自定义尺寸\n",
    "  seqLogo(pwm)\n",
    "  dev.off()\n",
    "}\n",
    "## 方法二\n",
    "# 读取 FASTA 文件\n",
    "ggseqlogo_cus <- function(fasta_path,output_path,keep_start_codon_or_not){\n",
    "  library(ggseqlogo)\n",
    "  library(Biostrings)\n",
    "  seqs <- readDNAStringSet(fasta_path)\n",
    "  ggseqlogo(as.character(seqs)) -> p\n",
    "  if(!keep_start_codon_or_not){\n",
    "    sub <- sapply(as.character(seqs), function(s) paste0(substr(s, 1, 15), substr(s, 19, 33)))\n",
    "    ggseqlogo(sub) -> p\n",
    "  }\n",
    "  ggsave(p,filename = output_path, width = 7, height = 4)\n",
    "}\n",
    "inte_func <- function(sep,output_path,name,only_cano){\n",
    "  # 参数一：整理好的蛋白质元信息数据框，需要包括起始密码子的位置以及起始密码子的类型（如果需要用到only_cano）\n",
    "  # 参数二：输出路径\n",
    "  # 参数三：文件名前缀\n",
    "  # 参数四：是否只统计起始密码子，需要包括这一列（输入的值为0，1，2）\n",
    "  if(only_cano==1){\n",
    "    get_window_15_start_codon(sep %>% filter(Start_codon==\"ATG\")) -> window_15_start_codon_sep\n",
    "  }else if(only_cano==0){\n",
    "    get_window_15_start_codon(sep %>% filter(Start_codon!=\"ATG\")) -> window_15_start_codon_sep\n",
    "  }else{\n",
    "    get_window_15_start_codon(sep) -> window_15_start_codon_sep\n",
    "  }\n",
    "  create_path(output_path)\n",
    "  output_bed <- paste0(output_path,name,\".bed\")\n",
    "  output_fa <- paste0(output_path,name,\".fa\")\n",
    "  output_pdf <- paste0(output_path,name,\".pdf\")\n",
    "  fwrite(window_15_start_codon_sep,output_bed,col.names = F,sep = '\\t')\n",
    "  command <- paste0(\"bedtools getfasta -s -fi /home/user/data3/lit/project/sORFs/07-Genome/results/custom_fa/custom_ref.fa -bed \",\n",
    "                    output_bed,\" > \",output_fa)\n",
    "  system(command)\n",
    "  ggseqlogo_cus(output_fa,output_pdf,TRUE)\n",
    "  ggseqlogo_cus(output_fa,paste0(output_path,name,\".nosc.pdf\"),FALSE)\n",
    "  seqlogo_cus(output_fa, paste0(output_path,name,\".seqlogo.pdf\"),TRUE)\n",
    "}\n"
   ]
  },
  {
   "cell_type": "code",
   "execution_count": 47,
   "id": "9f17d7c3",
   "metadata": {
    "ExecuteTime": {
     "end_time": "2025-09-19T03:39:30.388476Z",
     "start_time": "2025-09-19T03:39:28.863Z"
    }
   },
   "outputs": [],
   "source": [
    "orfs_path <- \"../../processed/augment_orf_table/augmented.tsv\"\n",
    "fread_c(orfs_path) -> orfs"
   ]
  },
  {
   "cell_type": "code",
   "execution_count": 48,
   "id": "1b6b122d",
   "metadata": {
    "ExecuteTime": {
     "end_time": "2025-09-19T03:39:31.174031Z",
     "start_time": "2025-09-19T03:39:29.814Z"
    }
   },
   "outputs": [
    {
     "data": {
      "text/html": [
       "573"
      ],
      "text/latex": [
       "573"
      ],
      "text/markdown": [
       "573"
      ],
      "text/plain": [
       "[1] 573"
      ]
     },
     "metadata": {},
     "output_type": "display_data"
    },
    {
     "data": {
      "text/html": [
       "16396"
      ],
      "text/latex": [
       "16396"
      ],
      "text/markdown": [
       "16396"
      ],
      "text/plain": [
       "[1] 16396"
      ]
     },
     "metadata": {},
     "output_type": "display_data"
    }
   ],
   "source": [
    "orfs %>% filter(ORF_length<=150) -> df\n",
    "df %>% filter(ORF_type==\"canonical\")  %>% filter(!is.na(ORF_start))-> cano_sep\n",
    "df %>% filter(ORF_type!=\"canonical\") -> noncano_sep\n",
    "nrow(cano_sep)\n",
    "nrow(noncano_sep)"
   ]
  },
  {
   "cell_type": "code",
   "execution_count": 45,
   "id": "9da5826e",
   "metadata": {
    "ExecuteTime": {
     "end_time": "2025-09-19T03:38:19.407875Z",
     "start_time": "2025-09-19T03:38:18.043Z"
    }
   },
   "outputs": [
    {
     "data": {
      "text/html": [
       "<table class=\"dataframe\">\n",
       "<caption>A data.frame: 6 × 31</caption>\n",
       "<thead>\n",
       "\t<tr><th></th><th scope=col>ORF_id</th><th scope=col>ORF_type</th><th scope=col>Start_codon</th><th scope=col>Isoform_id</th><th scope=col>Chr</th><th scope=col>Strand</th><th scope=col>ORF_seq</th><th scope=col>ORF_length</th><th scope=col>Geneid</th><th scope=col>Isoform_structural_category</th><th scope=col>⋯</th><th scope=col>FL_TPM</th><th scope=col>N</th><th scope=col>C</th><th scope=col>A</th><th scope=col>Gene_type</th><th scope=col>Unique_peptide_n</th><th scope=col>mean_relative_iBAQ</th><th scope=col>ORF_start</th><th scope=col>ORF_end</th><th scope=col>CDS_seq</th></tr>\n",
       "\t<tr><th></th><th scope=col>&lt;chr&gt;</th><th scope=col>&lt;chr&gt;</th><th scope=col>&lt;chr&gt;</th><th scope=col>&lt;chr&gt;</th><th scope=col>&lt;chr&gt;</th><th scope=col>&lt;chr&gt;</th><th scope=col>&lt;chr&gt;</th><th scope=col>&lt;int&gt;</th><th scope=col>&lt;chr&gt;</th><th scope=col>&lt;chr&gt;</th><th scope=col>⋯</th><th scope=col>&lt;dbl&gt;</th><th scope=col>&lt;dbl&gt;</th><th scope=col>&lt;dbl&gt;</th><th scope=col>&lt;dbl&gt;</th><th scope=col>&lt;chr&gt;</th><th scope=col>&lt;int&gt;</th><th scope=col>&lt;dbl&gt;</th><th scope=col>&lt;int&gt;</th><th scope=col>&lt;int&gt;</th><th scope=col>&lt;chr&gt;</th></tr>\n",
       "</thead>\n",
       "<tbody>\n",
       "\t<tr><th scope=row>1</th><td>PB.1003.3:chr1:+|10|581:117:393|canonical|ATG   </td><td>canonical</td><td>ATG</td><td>PB.1003.3  </td><td>chr1 </td><td>+</td><td>MGLEDEQKMLTESGDPEEEEEEEEELVDPLTTVREQCEQLEKCVKARERLELCDERVSSRSHTEEDCTEELFDFLHARDHCVAHKLFNNLK                                                         </td><td> 91</td><td>UQCRH   </td><td>full-splice_match      </td><td>⋯</td><td>38.816051</td><td>1.676097409</td><td>78.7148080</td><td>40.1954527</td><td>protein_coding</td><td>10</td><td>6.760138e-04</td><td> 46303766</td><td> 46316584</td><td>ATGGGACTGGAGGACGAGCAAAAGATGCTTACCGAATCCGGAGATCCTGAGGAGgaggaagaggaagaggaggaATTAGTGGATCCCCTAACAACAGTGAGAGAGCAATGCGAGCAGTTGGAGAAATGTGTAAAGGCCCGGGAGCGGCTAGAGCTCTGTGATGAGCGTGTATCCTCTCGATCACATACAGAAGAGGATTGCACGGAGGAGCTCTTTGACTTCTTGCATGCGAGGGACCATTGCGTGGCCCACAAACTCTTTAACAACTTGAAA                                                                                                                                                                           </td></tr>\n",
       "\t<tr><th scope=row>2</th><td>PB.10614.3:chr12:+|11|664:250:598|canonical|ATG </td><td>canonical</td><td>ATG</td><td>PB.10614.3 </td><td>chr12</td><td>+</td><td>MTKKRRNNGRAKKGRGHVQPIRCTNCARCVPKDKAIKKFVIRNIVEAAAVRDISEASVFDAYVLPKLYVKLHYCVSCAIHSKVVRNRSREARKDRTPPPRFRPAGAAPRPPPKPM                                 </td><td>115</td><td>RPS26   </td><td>full-splice_match      </td><td>⋯</td><td> 1.913467</td><td>0.876541091</td><td>13.8328328</td><td> 7.3546870</td><td>protein_coding</td><td> 6</td><td>2.373685e-04</td><td> 56042166</td><td> 56044154</td><td>ATGACAAAGAAAAGAAGGAACAATGGTCGTGCCAAAAAGGGCCGCGGCCACGTGCAGCCTATTCGCTGCACTAACTGTGCCCGATGCGTGCCCAAGGACAAGGCCATTAAGAAATTCGTCATTCGAAACATAGTGGAGGCCGCAGCAGTCAGGGACATTTCTGAAGCGAGCGTCTTCGATGCCTATGTGCTTCCCAAGCTGTATGTGAAGCTACATTACTGTGTGAGTTGTGCAATTCACAGCAAAGTAGTCAGGAATCGATCTCGTGAAGCCCGCAAGGACCGAACACCCCCACCCCGATTTAGACCTGCGGGTGCTGCCCCACGTCCCCCACCAAAGCCCATG                                                                                                   </td></tr>\n",
       "\t<tr><th scope=row>3</th><td>PB.10717.10:chr12:-|1|2544:7:403|canonical|ATG  </td><td>canonical</td><td>ATG</td><td>PB.10717.10</td><td>chr12</td><td>-</td><td>MSKRYLQKATKGKLLIIIFIVTLWGKVVSSANHHKAHHVKTGTCEVVALHRCCNKNKIEERSQTVKCSCFPGQVAGTTRAAPSCVDASIVEQKWWCHMQPCLEGEECKVLPDRKGWSCSSGNKVKTTRVTH                 </td><td>131</td><td>TAFA2   </td><td>incomplete-splice_match</td><td>⋯</td><td> 1.640115</td><td>0.688898858</td><td> 3.4066624</td><td> 2.0477806</td><td>protein_coding</td><td> 5</td><td>7.975134e-05</td><td> 61710405</td><td> 61867425</td><td>ATGAGTAAGAGATACTTACAGAAAGCAACAAAAGGAAAACTGCTAATAATAATATTTATTGTAACCTTGTGGGGGAAAGTTGTATCCAGTGCAAACCATCATAAAGCTCACCATGTTAAAACGGGAACTTGTGAGGTGGTGGCACTCCACAGATGCTGTAATAAGAACAAGATAGAAGAACGGTCACAAACAGTCAAGTGCTCCTGCTTCCCTGGGCAGGTGGCAGGCACCACGCGAGCTGCTCCATCATGTGTGGATGCTTCAATAGTGGAACAGAAATGGTGGTGCCATATGCAGCCATGTCTAGAGGGAGAAGAATGTAAAGTTCTTCCGGATCGGAAAGGATGGAGCTGTTCCTCTGGGAATAAAGTCAAAACAACTAGGGTAACCCAT                                                   </td></tr>\n",
       "\t<tr><th scope=row>4</th><td>PB.10898.1:chr12:+|2|1498:38:485|canonical|ATG  </td><td>canonical</td><td>ATG</td><td>PB.10898.1 </td><td>chr12</td><td>+</td><td>MKALIVLGLVLLSVTVQGKVFERCELARTLKRLGMDGYRGISLANWMCLAKWESGYNTRATNYNAGDRSTDYGIFQINSRYWCNDGKTPGAVNACHLSCSALLQDNIADAVACAKRVVRDPQGIRAWVAWRNRCQNRDVRQYVQGCGV</td><td>148</td><td>LYZ     </td><td>full-splice_match      </td><td>⋯</td><td> 0.410029</td><td>0.009222873</td><td> 0.3070568</td><td> 0.1581398</td><td>protein_coding</td><td> 5</td><td>2.435309e-05</td><td> 69348408</td><td> 69353219</td><td>ATGAAGGCTCTCATTGTTCTGGGGCTTGTCCTCCTTTCTGTTACGGTCCAGGGCAAGGTCTTTGAAAGGTGTGAGTTGGCCAGAACTCTGAAAAGATTGGGAATGGATGGCTACAGGGGAATCAGCCTAGCAAACTGGATGTGTTTGGCCAAATGGGAGAGTGGTTACAACACACGAGCTACAAACTACAATGCTGGAGACAGAAGCACTGATTATGGGATATTTCAGATCAATAGCCGCTACTGGTGTAATGATGGCAAAACCCCAGGAGCAGTTAATGCCTGTCATTTATCCTGCAGTGCTTTGCTGCAAGATAACATCGCTGATGCTGTAGCTTGTGCAAAGAGGGTTGTCCGTGATCCACAAGGCATTAGAGCATGGGTGGCATGGAGAAATCGTTGTCAAAACAGAGATGTCCGTCAGTATGTTCAAGGTTGTGGAGTG</td></tr>\n",
       "\t<tr><th scope=row>5</th><td>PB.11287.6:chr12:+|6|795:93:354|canonical|ATG   </td><td>canonical</td><td>ATG</td><td>PB.11287.6 </td><td>chr12</td><td>+</td><td>MSLPLNPKPFLNGLTGKPVMVKLKWGMEYKGYLVSVDGYMNMQLANTEEYIDGALSGHLGEVLIRCNNVLYIRGVEEEEEDGEMRE                                                              </td><td> 86</td><td>SNRPF   </td><td>full-splice_match      </td><td>⋯</td><td> 6.560459</td><td>1.379478018</td><td> 6.5970894</td><td> 3.9882837</td><td>protein_coding</td><td>20</td><td>6.614509e-04</td><td> 95859073</td><td> 95866071</td><td>ATGAGTTTACCCCTCAATCCCAAACCTTTCCTCAATGGACTAACAGGAAAGCCAGTGATGGTGAAACTTAAGTGGGGAATGGAGTACAAGGGCTATCTGGTATCTGTAGATGGCTACATGAACATGCAGCTTGCAAATACAGAAGAATACATAGATGGAGCTTTGTCTGGACATCTGGGTGAAGTTTTAATAAGGTGTAATAATGTCCTTTATATCAGAGGTGTGGAAGAAGAGGAAGAAGATGGGGAAATGAGAGAA                                                                                                                                                                                          </td></tr>\n",
       "\t<tr><th scope=row>6</th><td>PB.11412.30:chr12:-|8|1144:151:367|canonical|ATG</td><td>canonical</td><td>ATG</td><td>PB.11412.30</td><td>chr12</td><td>-</td><td>MPAGVPMSTYLKMFAASLLAMCAGAEVVHRYYRPDLTIPEIPPKRGELKTELLGLKERKHKPQVSQQEELK                                                                             </td><td> 71</td><td>C12orf73</td><td>full-splice_match      </td><td>⋯</td><td> 3.963611</td><td>1.481402907</td><td> 5.1283157</td><td> 3.3048593</td><td>protein_coding</td><td> 2</td><td>5.064325e-05</td><td>103951522</td><td>103956738</td><td>ATGCCCGCGGGCGTGCCCATGTCCACCTACCTGAAAATGTTCGCAGCCAGTCTCCTGGCCATGTGCGCAGGGGCAGAAGTGGTGCACAGGTACTACCGACCGGACCTGACAATACCTGAAATTCCACCAAAGCGTGGAGAACTCAAAACGGAGCTTTTGGGACTGAAAGAAAGAAAACACAAACCTCAAGTTTCTCAACAGGAGGAACTTAAA                                                                                                                                                                                                                                       </td></tr>\n",
       "</tbody>\n",
       "</table>\n"
      ],
      "text/latex": [
       "A data.frame: 6 × 31\n",
       "\\begin{tabular}{r|lllllllllllllllllllll}\n",
       "  & ORF\\_id & ORF\\_type & Start\\_codon & Isoform\\_id & Chr & Strand & ORF\\_seq & ORF\\_length & Geneid & Isoform\\_structural\\_category & ⋯ & FL\\_TPM & N & C & A & Gene\\_type & Unique\\_peptide\\_n & mean\\_relative\\_iBAQ & ORF\\_start & ORF\\_end & CDS\\_seq\\\\\n",
       "  & <chr> & <chr> & <chr> & <chr> & <chr> & <chr> & <chr> & <int> & <chr> & <chr> & ⋯ & <dbl> & <dbl> & <dbl> & <dbl> & <chr> & <int> & <dbl> & <int> & <int> & <chr>\\\\\n",
       "\\hline\n",
       "\t1 & PB.1003.3:chr1:+\\textbar{}10\\textbar{}581:117:393\\textbar{}canonical\\textbar{}ATG    & canonical & ATG & PB.1003.3   & chr1  & + & MGLEDEQKMLTESGDPEEEEEEEEELVDPLTTVREQCEQLEKCVKARERLELCDERVSSRSHTEEDCTEELFDFLHARDHCVAHKLFNNLK                                                          &  91 & UQCRH    & full-splice\\_match       & ⋯ & 38.816051 & 1.676097409 & 78.7148080 & 40.1954527 & protein\\_coding & 10 & 6.760138e-04 &  46303766 &  46316584 & ATGGGACTGGAGGACGAGCAAAAGATGCTTACCGAATCCGGAGATCCTGAGGAGgaggaagaggaagaggaggaATTAGTGGATCCCCTAACAACAGTGAGAGAGCAATGCGAGCAGTTGGAGAAATGTGTAAAGGCCCGGGAGCGGCTAGAGCTCTGTGATGAGCGTGTATCCTCTCGATCACATACAGAAGAGGATTGCACGGAGGAGCTCTTTGACTTCTTGCATGCGAGGGACCATTGCGTGGCCCACAAACTCTTTAACAACTTGAAA                                                                                                                                                                           \\\\\n",
       "\t2 & PB.10614.3:chr12:+\\textbar{}11\\textbar{}664:250:598\\textbar{}canonical\\textbar{}ATG  & canonical & ATG & PB.10614.3  & chr12 & + & MTKKRRNNGRAKKGRGHVQPIRCTNCARCVPKDKAIKKFVIRNIVEAAAVRDISEASVFDAYVLPKLYVKLHYCVSCAIHSKVVRNRSREARKDRTPPPRFRPAGAAPRPPPKPM                                  & 115 & RPS26    & full-splice\\_match       & ⋯ &  1.913467 & 0.876541091 & 13.8328328 &  7.3546870 & protein\\_coding &  6 & 2.373685e-04 &  56042166 &  56044154 & ATGACAAAGAAAAGAAGGAACAATGGTCGTGCCAAAAAGGGCCGCGGCCACGTGCAGCCTATTCGCTGCACTAACTGTGCCCGATGCGTGCCCAAGGACAAGGCCATTAAGAAATTCGTCATTCGAAACATAGTGGAGGCCGCAGCAGTCAGGGACATTTCTGAAGCGAGCGTCTTCGATGCCTATGTGCTTCCCAAGCTGTATGTGAAGCTACATTACTGTGTGAGTTGTGCAATTCACAGCAAAGTAGTCAGGAATCGATCTCGTGAAGCCCGCAAGGACCGAACACCCCCACCCCGATTTAGACCTGCGGGTGCTGCCCCACGTCCCCCACCAAAGCCCATG                                                                                                   \\\\\n",
       "\t3 & PB.10717.10:chr12:-\\textbar{}1\\textbar{}2544:7:403\\textbar{}canonical\\textbar{}ATG   & canonical & ATG & PB.10717.10 & chr12 & - & MSKRYLQKATKGKLLIIIFIVTLWGKVVSSANHHKAHHVKTGTCEVVALHRCCNKNKIEERSQTVKCSCFPGQVAGTTRAAPSCVDASIVEQKWWCHMQPCLEGEECKVLPDRKGWSCSSGNKVKTTRVTH                  & 131 & TAFA2    & incomplete-splice\\_match & ⋯ &  1.640115 & 0.688898858 &  3.4066624 &  2.0477806 & protein\\_coding &  5 & 7.975134e-05 &  61710405 &  61867425 & ATGAGTAAGAGATACTTACAGAAAGCAACAAAAGGAAAACTGCTAATAATAATATTTATTGTAACCTTGTGGGGGAAAGTTGTATCCAGTGCAAACCATCATAAAGCTCACCATGTTAAAACGGGAACTTGTGAGGTGGTGGCACTCCACAGATGCTGTAATAAGAACAAGATAGAAGAACGGTCACAAACAGTCAAGTGCTCCTGCTTCCCTGGGCAGGTGGCAGGCACCACGCGAGCTGCTCCATCATGTGTGGATGCTTCAATAGTGGAACAGAAATGGTGGTGCCATATGCAGCCATGTCTAGAGGGAGAAGAATGTAAAGTTCTTCCGGATCGGAAAGGATGGAGCTGTTCCTCTGGGAATAAAGTCAAAACAACTAGGGTAACCCAT                                                   \\\\\n",
       "\t4 & PB.10898.1:chr12:+\\textbar{}2\\textbar{}1498:38:485\\textbar{}canonical\\textbar{}ATG   & canonical & ATG & PB.10898.1  & chr12 & + & MKALIVLGLVLLSVTVQGKVFERCELARTLKRLGMDGYRGISLANWMCLAKWESGYNTRATNYNAGDRSTDYGIFQINSRYWCNDGKTPGAVNACHLSCSALLQDNIADAVACAKRVVRDPQGIRAWVAWRNRCQNRDVRQYVQGCGV & 148 & LYZ      & full-splice\\_match       & ⋯ &  0.410029 & 0.009222873 &  0.3070568 &  0.1581398 & protein\\_coding &  5 & 2.435309e-05 &  69348408 &  69353219 & ATGAAGGCTCTCATTGTTCTGGGGCTTGTCCTCCTTTCTGTTACGGTCCAGGGCAAGGTCTTTGAAAGGTGTGAGTTGGCCAGAACTCTGAAAAGATTGGGAATGGATGGCTACAGGGGAATCAGCCTAGCAAACTGGATGTGTTTGGCCAAATGGGAGAGTGGTTACAACACACGAGCTACAAACTACAATGCTGGAGACAGAAGCACTGATTATGGGATATTTCAGATCAATAGCCGCTACTGGTGTAATGATGGCAAAACCCCAGGAGCAGTTAATGCCTGTCATTTATCCTGCAGTGCTTTGCTGCAAGATAACATCGCTGATGCTGTAGCTTGTGCAAAGAGGGTTGTCCGTGATCCACAAGGCATTAGAGCATGGGTGGCATGGAGAAATCGTTGTCAAAACAGAGATGTCCGTCAGTATGTTCAAGGTTGTGGAGTG\\\\\n",
       "\t5 & PB.11287.6:chr12:+\\textbar{}6\\textbar{}795:93:354\\textbar{}canonical\\textbar{}ATG    & canonical & ATG & PB.11287.6  & chr12 & + & MSLPLNPKPFLNGLTGKPVMVKLKWGMEYKGYLVSVDGYMNMQLANTEEYIDGALSGHLGEVLIRCNNVLYIRGVEEEEEDGEMRE                                                               &  86 & SNRPF    & full-splice\\_match       & ⋯ &  6.560459 & 1.379478018 &  6.5970894 &  3.9882837 & protein\\_coding & 20 & 6.614509e-04 &  95859073 &  95866071 & ATGAGTTTACCCCTCAATCCCAAACCTTTCCTCAATGGACTAACAGGAAAGCCAGTGATGGTGAAACTTAAGTGGGGAATGGAGTACAAGGGCTATCTGGTATCTGTAGATGGCTACATGAACATGCAGCTTGCAAATACAGAAGAATACATAGATGGAGCTTTGTCTGGACATCTGGGTGAAGTTTTAATAAGGTGTAATAATGTCCTTTATATCAGAGGTGTGGAAGAAGAGGAAGAAGATGGGGAAATGAGAGAA                                                                                                                                                                                          \\\\\n",
       "\t6 & PB.11412.30:chr12:-\\textbar{}8\\textbar{}1144:151:367\\textbar{}canonical\\textbar{}ATG & canonical & ATG & PB.11412.30 & chr12 & - & MPAGVPMSTYLKMFAASLLAMCAGAEVVHRYYRPDLTIPEIPPKRGELKTELLGLKERKHKPQVSQQEELK                                                                              &  71 & C12orf73 & full-splice\\_match       & ⋯ &  3.963611 & 1.481402907 &  5.1283157 &  3.3048593 & protein\\_coding &  2 & 5.064325e-05 & 103951522 & 103956738 & ATGCCCGCGGGCGTGCCCATGTCCACCTACCTGAAAATGTTCGCAGCCAGTCTCCTGGCCATGTGCGCAGGGGCAGAAGTGGTGCACAGGTACTACCGACCGGACCTGACAATACCTGAAATTCCACCAAAGCGTGGAGAACTCAAAACGGAGCTTTTGGGACTGAAAGAAAGAAAACACAAACCTCAAGTTTCTCAACAGGAGGAACTTAAA                                                                                                                                                                                                                                       \\\\\n",
       "\\end{tabular}\n"
      ],
      "text/markdown": [
       "\n",
       "A data.frame: 6 × 31\n",
       "\n",
       "| <!--/--> | ORF_id &lt;chr&gt; | ORF_type &lt;chr&gt; | Start_codon &lt;chr&gt; | Isoform_id &lt;chr&gt; | Chr &lt;chr&gt; | Strand &lt;chr&gt; | ORF_seq &lt;chr&gt; | ORF_length &lt;int&gt; | Geneid &lt;chr&gt; | Isoform_structural_category &lt;chr&gt; | ⋯ ⋯ | FL_TPM &lt;dbl&gt; | N &lt;dbl&gt; | C &lt;dbl&gt; | A &lt;dbl&gt; | Gene_type &lt;chr&gt; | Unique_peptide_n &lt;int&gt; | mean_relative_iBAQ &lt;dbl&gt; | ORF_start &lt;int&gt; | ORF_end &lt;int&gt; | CDS_seq &lt;chr&gt; |\n",
       "|---|---|---|---|---|---|---|---|---|---|---|---|---|---|---|---|---|---|---|---|---|---|\n",
       "| 1 | PB.1003.3:chr1:+|10|581:117:393|canonical|ATG    | canonical | ATG | PB.1003.3   | chr1  | + | MGLEDEQKMLTESGDPEEEEEEEEELVDPLTTVREQCEQLEKCVKARERLELCDERVSSRSHTEEDCTEELFDFLHARDHCVAHKLFNNLK                                                          |  91 | UQCRH    | full-splice_match       | ⋯ | 38.816051 | 1.676097409 | 78.7148080 | 40.1954527 | protein_coding | 10 | 6.760138e-04 |  46303766 |  46316584 | ATGGGACTGGAGGACGAGCAAAAGATGCTTACCGAATCCGGAGATCCTGAGGAGgaggaagaggaagaggaggaATTAGTGGATCCCCTAACAACAGTGAGAGAGCAATGCGAGCAGTTGGAGAAATGTGTAAAGGCCCGGGAGCGGCTAGAGCTCTGTGATGAGCGTGTATCCTCTCGATCACATACAGAAGAGGATTGCACGGAGGAGCTCTTTGACTTCTTGCATGCGAGGGACCATTGCGTGGCCCACAAACTCTTTAACAACTTGAAA                                                                                                                                                                            |\n",
       "| 2 | PB.10614.3:chr12:+|11|664:250:598|canonical|ATG  | canonical | ATG | PB.10614.3  | chr12 | + | MTKKRRNNGRAKKGRGHVQPIRCTNCARCVPKDKAIKKFVIRNIVEAAAVRDISEASVFDAYVLPKLYVKLHYCVSCAIHSKVVRNRSREARKDRTPPPRFRPAGAAPRPPPKPM                                  | 115 | RPS26    | full-splice_match       | ⋯ |  1.913467 | 0.876541091 | 13.8328328 |  7.3546870 | protein_coding |  6 | 2.373685e-04 |  56042166 |  56044154 | ATGACAAAGAAAAGAAGGAACAATGGTCGTGCCAAAAAGGGCCGCGGCCACGTGCAGCCTATTCGCTGCACTAACTGTGCCCGATGCGTGCCCAAGGACAAGGCCATTAAGAAATTCGTCATTCGAAACATAGTGGAGGCCGCAGCAGTCAGGGACATTTCTGAAGCGAGCGTCTTCGATGCCTATGTGCTTCCCAAGCTGTATGTGAAGCTACATTACTGTGTGAGTTGTGCAATTCACAGCAAAGTAGTCAGGAATCGATCTCGTGAAGCCCGCAAGGACCGAACACCCCCACCCCGATTTAGACCTGCGGGTGCTGCCCCACGTCCCCCACCAAAGCCCATG                                                                                                    |\n",
       "| 3 | PB.10717.10:chr12:-|1|2544:7:403|canonical|ATG   | canonical | ATG | PB.10717.10 | chr12 | - | MSKRYLQKATKGKLLIIIFIVTLWGKVVSSANHHKAHHVKTGTCEVVALHRCCNKNKIEERSQTVKCSCFPGQVAGTTRAAPSCVDASIVEQKWWCHMQPCLEGEECKVLPDRKGWSCSSGNKVKTTRVTH                  | 131 | TAFA2    | incomplete-splice_match | ⋯ |  1.640115 | 0.688898858 |  3.4066624 |  2.0477806 | protein_coding |  5 | 7.975134e-05 |  61710405 |  61867425 | ATGAGTAAGAGATACTTACAGAAAGCAACAAAAGGAAAACTGCTAATAATAATATTTATTGTAACCTTGTGGGGGAAAGTTGTATCCAGTGCAAACCATCATAAAGCTCACCATGTTAAAACGGGAACTTGTGAGGTGGTGGCACTCCACAGATGCTGTAATAAGAACAAGATAGAAGAACGGTCACAAACAGTCAAGTGCTCCTGCTTCCCTGGGCAGGTGGCAGGCACCACGCGAGCTGCTCCATCATGTGTGGATGCTTCAATAGTGGAACAGAAATGGTGGTGCCATATGCAGCCATGTCTAGAGGGAGAAGAATGTAAAGTTCTTCCGGATCGGAAAGGATGGAGCTGTTCCTCTGGGAATAAAGTCAAAACAACTAGGGTAACCCAT                                                    |\n",
       "| 4 | PB.10898.1:chr12:+|2|1498:38:485|canonical|ATG   | canonical | ATG | PB.10898.1  | chr12 | + | MKALIVLGLVLLSVTVQGKVFERCELARTLKRLGMDGYRGISLANWMCLAKWESGYNTRATNYNAGDRSTDYGIFQINSRYWCNDGKTPGAVNACHLSCSALLQDNIADAVACAKRVVRDPQGIRAWVAWRNRCQNRDVRQYVQGCGV | 148 | LYZ      | full-splice_match       | ⋯ |  0.410029 | 0.009222873 |  0.3070568 |  0.1581398 | protein_coding |  5 | 2.435309e-05 |  69348408 |  69353219 | ATGAAGGCTCTCATTGTTCTGGGGCTTGTCCTCCTTTCTGTTACGGTCCAGGGCAAGGTCTTTGAAAGGTGTGAGTTGGCCAGAACTCTGAAAAGATTGGGAATGGATGGCTACAGGGGAATCAGCCTAGCAAACTGGATGTGTTTGGCCAAATGGGAGAGTGGTTACAACACACGAGCTACAAACTACAATGCTGGAGACAGAAGCACTGATTATGGGATATTTCAGATCAATAGCCGCTACTGGTGTAATGATGGCAAAACCCCAGGAGCAGTTAATGCCTGTCATTTATCCTGCAGTGCTTTGCTGCAAGATAACATCGCTGATGCTGTAGCTTGTGCAAAGAGGGTTGTCCGTGATCCACAAGGCATTAGAGCATGGGTGGCATGGAGAAATCGTTGTCAAAACAGAGATGTCCGTCAGTATGTTCAAGGTTGTGGAGTG |\n",
       "| 5 | PB.11287.6:chr12:+|6|795:93:354|canonical|ATG    | canonical | ATG | PB.11287.6  | chr12 | + | MSLPLNPKPFLNGLTGKPVMVKLKWGMEYKGYLVSVDGYMNMQLANTEEYIDGALSGHLGEVLIRCNNVLYIRGVEEEEEDGEMRE                                                               |  86 | SNRPF    | full-splice_match       | ⋯ |  6.560459 | 1.379478018 |  6.5970894 |  3.9882837 | protein_coding | 20 | 6.614509e-04 |  95859073 |  95866071 | ATGAGTTTACCCCTCAATCCCAAACCTTTCCTCAATGGACTAACAGGAAAGCCAGTGATGGTGAAACTTAAGTGGGGAATGGAGTACAAGGGCTATCTGGTATCTGTAGATGGCTACATGAACATGCAGCTTGCAAATACAGAAGAATACATAGATGGAGCTTTGTCTGGACATCTGGGTGAAGTTTTAATAAGGTGTAATAATGTCCTTTATATCAGAGGTGTGGAAGAAGAGGAAGAAGATGGGGAAATGAGAGAA                                                                                                                                                                                           |\n",
       "| 6 | PB.11412.30:chr12:-|8|1144:151:367|canonical|ATG | canonical | ATG | PB.11412.30 | chr12 | - | MPAGVPMSTYLKMFAASLLAMCAGAEVVHRYYRPDLTIPEIPPKRGELKTELLGLKERKHKPQVSQQEELK                                                                              |  71 | C12orf73 | full-splice_match       | ⋯ |  3.963611 | 1.481402907 |  5.1283157 |  3.3048593 | protein_coding |  2 | 5.064325e-05 | 103951522 | 103956738 | ATGCCCGCGGGCGTGCCCATGTCCACCTACCTGAAAATGTTCGCAGCCAGTCTCCTGGCCATGTGCGCAGGGGCAGAAGTGGTGCACAGGTACTACCGACCGGACCTGACAATACCTGAAATTCCACCAAAGCGTGGAGAACTCAAAACGGAGCTTTTGGGACTGAAAGAAAGAAAACACAAACCTCAAGTTTCTCAACAGGAGGAACTTAAA                                                                                                                                                                                                                                        |\n",
       "\n"
      ],
      "text/plain": [
       "  ORF_id                                           ORF_type  Start_codon\n",
       "1 PB.1003.3:chr1:+|10|581:117:393|canonical|ATG    canonical ATG        \n",
       "2 PB.10614.3:chr12:+|11|664:250:598|canonical|ATG  canonical ATG        \n",
       "3 PB.10717.10:chr12:-|1|2544:7:403|canonical|ATG   canonical ATG        \n",
       "4 PB.10898.1:chr12:+|2|1498:38:485|canonical|ATG   canonical ATG        \n",
       "5 PB.11287.6:chr12:+|6|795:93:354|canonical|ATG    canonical ATG        \n",
       "6 PB.11412.30:chr12:-|8|1144:151:367|canonical|ATG canonical ATG        \n",
       "  Isoform_id  Chr   Strand\n",
       "1 PB.1003.3   chr1  +     \n",
       "2 PB.10614.3  chr12 +     \n",
       "3 PB.10717.10 chr12 -     \n",
       "4 PB.10898.1  chr12 +     \n",
       "5 PB.11287.6  chr12 +     \n",
       "6 PB.11412.30 chr12 -     \n",
       "  ORF_seq                                                                                                                                             \n",
       "1 MGLEDEQKMLTESGDPEEEEEEEEELVDPLTTVREQCEQLEKCVKARERLELCDERVSSRSHTEEDCTEELFDFLHARDHCVAHKLFNNLK                                                         \n",
       "2 MTKKRRNNGRAKKGRGHVQPIRCTNCARCVPKDKAIKKFVIRNIVEAAAVRDISEASVFDAYVLPKLYVKLHYCVSCAIHSKVVRNRSREARKDRTPPPRFRPAGAAPRPPPKPM                                 \n",
       "3 MSKRYLQKATKGKLLIIIFIVTLWGKVVSSANHHKAHHVKTGTCEVVALHRCCNKNKIEERSQTVKCSCFPGQVAGTTRAAPSCVDASIVEQKWWCHMQPCLEGEECKVLPDRKGWSCSSGNKVKTTRVTH                 \n",
       "4 MKALIVLGLVLLSVTVQGKVFERCELARTLKRLGMDGYRGISLANWMCLAKWESGYNTRATNYNAGDRSTDYGIFQINSRYWCNDGKTPGAVNACHLSCSALLQDNIADAVACAKRVVRDPQGIRAWVAWRNRCQNRDVRQYVQGCGV\n",
       "5 MSLPLNPKPFLNGLTGKPVMVKLKWGMEYKGYLVSVDGYMNMQLANTEEYIDGALSGHLGEVLIRCNNVLYIRGVEEEEEDGEMRE                                                              \n",
       "6 MPAGVPMSTYLKMFAASLLAMCAGAEVVHRYYRPDLTIPEIPPKRGELKTELLGLKERKHKPQVSQQEELK                                                                             \n",
       "  ORF_length Geneid   Isoform_structural_category ⋯ FL_TPM    N          \n",
       "1  91        UQCRH    full-splice_match           ⋯ 38.816051 1.676097409\n",
       "2 115        RPS26    full-splice_match           ⋯  1.913467 0.876541091\n",
       "3 131        TAFA2    incomplete-splice_match     ⋯  1.640115 0.688898858\n",
       "4 148        LYZ      full-splice_match           ⋯  0.410029 0.009222873\n",
       "5  86        SNRPF    full-splice_match           ⋯  6.560459 1.379478018\n",
       "6  71        C12orf73 full-splice_match           ⋯  3.963611 1.481402907\n",
       "  C          A          Gene_type      Unique_peptide_n mean_relative_iBAQ\n",
       "1 78.7148080 40.1954527 protein_coding 10               6.760138e-04      \n",
       "2 13.8328328  7.3546870 protein_coding  6               2.373685e-04      \n",
       "3  3.4066624  2.0477806 protein_coding  5               7.975134e-05      \n",
       "4  0.3070568  0.1581398 protein_coding  5               2.435309e-05      \n",
       "5  6.5970894  3.9882837 protein_coding 20               6.614509e-04      \n",
       "6  5.1283157  3.3048593 protein_coding  2               5.064325e-05      \n",
       "  ORF_start ORF_end  \n",
       "1  46303766  46316584\n",
       "2  56042166  56044154\n",
       "3  61710405  61867425\n",
       "4  69348408  69353219\n",
       "5  95859073  95866071\n",
       "6 103951522 103956738\n",
       "  CDS_seq                                                                                                                                                                                                                                                                                                                                                                                                                                                     \n",
       "1 ATGGGACTGGAGGACGAGCAAAAGATGCTTACCGAATCCGGAGATCCTGAGGAGgaggaagaggaagaggaggaATTAGTGGATCCCCTAACAACAGTGAGAGAGCAATGCGAGCAGTTGGAGAAATGTGTAAAGGCCCGGGAGCGGCTAGAGCTCTGTGATGAGCGTGTATCCTCTCGATCACATACAGAAGAGGATTGCACGGAGGAGCTCTTTGACTTCTTGCATGCGAGGGACCATTGCGTGGCCCACAAACTCTTTAACAACTTGAAA                                                                                                                                                                           \n",
       "2 ATGACAAAGAAAAGAAGGAACAATGGTCGTGCCAAAAAGGGCCGCGGCCACGTGCAGCCTATTCGCTGCACTAACTGTGCCCGATGCGTGCCCAAGGACAAGGCCATTAAGAAATTCGTCATTCGAAACATAGTGGAGGCCGCAGCAGTCAGGGACATTTCTGAAGCGAGCGTCTTCGATGCCTATGTGCTTCCCAAGCTGTATGTGAAGCTACATTACTGTGTGAGTTGTGCAATTCACAGCAAAGTAGTCAGGAATCGATCTCGTGAAGCCCGCAAGGACCGAACACCCCCACCCCGATTTAGACCTGCGGGTGCTGCCCCACGTCCCCCACCAAAGCCCATG                                                                                                   \n",
       "3 ATGAGTAAGAGATACTTACAGAAAGCAACAAAAGGAAAACTGCTAATAATAATATTTATTGTAACCTTGTGGGGGAAAGTTGTATCCAGTGCAAACCATCATAAAGCTCACCATGTTAAAACGGGAACTTGTGAGGTGGTGGCACTCCACAGATGCTGTAATAAGAACAAGATAGAAGAACGGTCACAAACAGTCAAGTGCTCCTGCTTCCCTGGGCAGGTGGCAGGCACCACGCGAGCTGCTCCATCATGTGTGGATGCTTCAATAGTGGAACAGAAATGGTGGTGCCATATGCAGCCATGTCTAGAGGGAGAAGAATGTAAAGTTCTTCCGGATCGGAAAGGATGGAGCTGTTCCTCTGGGAATAAAGTCAAAACAACTAGGGTAACCCAT                                                   \n",
       "4 ATGAAGGCTCTCATTGTTCTGGGGCTTGTCCTCCTTTCTGTTACGGTCCAGGGCAAGGTCTTTGAAAGGTGTGAGTTGGCCAGAACTCTGAAAAGATTGGGAATGGATGGCTACAGGGGAATCAGCCTAGCAAACTGGATGTGTTTGGCCAAATGGGAGAGTGGTTACAACACACGAGCTACAAACTACAATGCTGGAGACAGAAGCACTGATTATGGGATATTTCAGATCAATAGCCGCTACTGGTGTAATGATGGCAAAACCCCAGGAGCAGTTAATGCCTGTCATTTATCCTGCAGTGCTTTGCTGCAAGATAACATCGCTGATGCTGTAGCTTGTGCAAAGAGGGTTGTCCGTGATCCACAAGGCATTAGAGCATGGGTGGCATGGAGAAATCGTTGTCAAAACAGAGATGTCCGTCAGTATGTTCAAGGTTGTGGAGTG\n",
       "5 ATGAGTTTACCCCTCAATCCCAAACCTTTCCTCAATGGACTAACAGGAAAGCCAGTGATGGTGAAACTTAAGTGGGGAATGGAGTACAAGGGCTATCTGGTATCTGTAGATGGCTACATGAACATGCAGCTTGCAAATACAGAAGAATACATAGATGGAGCTTTGTCTGGACATCTGGGTGAAGTTTTAATAAGGTGTAATAATGTCCTTTATATCAGAGGTGTGGAAGAAGAGGAAGAAGATGGGGAAATGAGAGAA                                                                                                                                                                                          \n",
       "6 ATGCCCGCGGGCGTGCCCATGTCCACCTACCTGAAAATGTTCGCAGCCAGTCTCCTGGCCATGTGCGCAGGGGCAGAAGTGGTGCACAGGTACTACCGACCGGACCTGACAATACCTGAAATTCCACCAAAGCGTGGAGAACTCAAAACGGAGCTTTTGGGACTGAAAGAAAGAAAACACAAACCTCAAGTTTCTCAACAGGAGGAACTTAAA                                                                                                                                                                                                                                       "
      ]
     },
     "metadata": {},
     "output_type": "display_data"
    }
   ],
   "source": [
    "head(cano_sep)"
   ]
  },
  {
   "cell_type": "code",
   "execution_count": 34,
   "id": "592a8c6f",
   "metadata": {
    "ExecuteTime": {
     "end_time": "2025-09-18T09:48:10.561526Z",
     "start_time": "2025-09-18T09:48:07.247Z"
    }
   },
   "outputs": [
    {
     "name": "stdout",
     "output_type": "stream",
     "text": [
      "  [,1] [,2] [,3] [,4] [,5]\n",
      "A   86   84  109   86  115\n",
      "C  163  211  186  185  207\n",
      "G  181  156  149  175  143\n",
      "T  143  122  129  127  108\n"
     ]
    }
   ],
   "source": [
    "for (i in 2){\n",
    "if(i==0){\n",
    "    prefix=\"noncano\"\n",
    "}else if(i==1){\n",
    "    prefix=\"cano\"\n",
    "}else{\n",
    "    prefix=\"all\"\n",
    "}\n",
    "inte_func(cano_sep,\n",
    "        paste0(\"../../figures/cano_sep_scodon_kozak/\",prefix,\"/\"),\n",
    "        \"prefix\",\n",
    "        i\n",
    ")\n",
    "}"
   ]
  },
  {
   "cell_type": "code",
   "execution_count": 33,
   "id": "b33d29d0",
   "metadata": {
    "ExecuteTime": {
     "end_time": "2025-09-18T09:47:04.899970Z",
     "start_time": "2025-09-18T09:46:37.162Z"
    },
    "scrolled": true
   },
   "outputs": [
    {
     "name": "stdout",
     "output_type": "stream",
     "text": [
      "  [,1] [,2] [,3] [,4] [,5]\n",
      "A 2034 2281 2494 2052 2239\n",
      "C 2282 2431 2414 2390 2473\n",
      "G 2628 2902 2271 2505 2928\n",
      "T 2488 1818 2253 2485 1792\n",
      "  [,1] [,2] [,3] [,4] [,5]\n",
      "A 1768 1731 1863 1751 1706\n",
      "C 1569 1651 1619 1545 1649\n",
      "G 1554 1775 1795 1621 1843\n",
      "T 2073 1807 1687 2047 1766\n",
      "  [,1] [,2] [,3] [,4] [,5]\n",
      "A 3802 4012 4357 3803 3945\n",
      "C 3851 4082 4033 3935 4122\n",
      "G 4182 4677 4066 4126 4771\n",
      "T 4561 3625 3940 4532 3558\n"
     ]
    }
   ],
   "source": [
    "for (i in 0:2){\n",
    "if(i==0){\n",
    "    prefix=\"noncano\"\n",
    "}else if(i==1){\n",
    "    prefix=\"cano\"\n",
    "}else{\n",
    "    prefix=\"all\"\n",
    "}\n",
    "inte_func(noncano_sep,\n",
    "        paste0(\"../../figures/noncano_sep_ms_suppo_scodon_kozak/\",prefix,\"/\"),\n",
    "        \"prefix\",\n",
    "        i\n",
    ")\n",
    "}"
   ]
  },
  {
   "cell_type": "code",
   "execution_count": 43,
   "id": "99ea7621",
   "metadata": {
    "ExecuteTime": {
     "end_time": "2025-09-18T10:00:59.809243Z",
     "start_time": "2025-09-18T10:00:52.419Z"
    }
   },
   "outputs": [
    {
     "data": {
      "text/html": [
       "611"
      ],
      "text/latex": [
       "611"
      ],
      "text/markdown": [
       "611"
      ],
      "text/plain": [
       "[1] 611"
      ]
     },
     "metadata": {},
     "output_type": "display_data"
    },
    {
     "name": "stdout",
     "output_type": "stream",
     "text": [
      "  [,1] [,2] [,3] [,4] [,5]\n",
      "A   58   79   77   70   77\n",
      "C   75   89   98   90   91\n",
      "G  101  105   83   92  108\n",
      "T   83   44   59   65   41\n",
      "  [,1] [,2] [,3] [,4] [,5]\n",
      "A   69   72   82   53   72\n",
      "C   67   81   73   73   77\n",
      "G   85   84   75   77   78\n",
      "T   73   57   64   91   67\n",
      "  [,1] [,2] [,3] [,4] [,5]\n",
      "A  127  151  159  123  149\n",
      "C  142  170  171  163  168\n",
      "G  186  189  158  169  186\n",
      "T  156  101  123  156  108\n"
     ]
    }
   ],
   "source": [
    "# noncano_sep %>% %>% filter(Run_occurrence>=2|Unique_peptide_n>=2)  -> noncano_filtered_sep\n",
    "noncano_sep %>% filter(Unique_peptide_n>=2)  -> noncano_filtered_sep\n",
    "nrow(noncano_filtered_sep)\n",
    "for (i in 0:2){\n",
    "if(i==0){\n",
    "    prefix=\"noncano\"\n",
    "}else if(i==1){\n",
    "    prefix=\"cano\"\n",
    "}else{\n",
    "    prefix=\"all\"\n",
    "}\n",
    "inte_func(noncano_filtered_sep,\n",
    "        paste0(\"../../figures/noncano_sep_ms_suppo_filtered_scodon_kozak/\",prefix,\"/\"),\n",
    "        \"prefix\",\n",
    "        i\n",
    ")\n",
    "}"
   ]
  },
  {
   "cell_type": "code",
   "execution_count": 50,
   "id": "c7ede5c7",
   "metadata": {
    "ExecuteTime": {
     "end_time": "2025-09-19T03:47:57.759811Z",
     "start_time": "2025-09-19T03:47:41.360Z"
    }
   },
   "outputs": [
    {
     "data": {
      "text/html": [
       "7051"
      ],
      "text/latex": [
       "7051"
      ],
      "text/markdown": [
       "7051"
      ],
      "text/plain": [
       "[1] 7051"
      ]
     },
     "metadata": {},
     "output_type": "display_data"
    },
    {
     "name": "stdout",
     "output_type": "stream",
     "text": [
      "  [,1] [,2] [,3] [,4] [,5]\n",
      "A  907  986 1080  882 1003\n",
      "C  993 1060 1023 1038 1069\n",
      "G 1103 1232  982 1050 1252\n",
      "T 1082  807 1000 1115  761\n",
      "  [,1] [,2] [,3] [,4] [,5]\n",
      "A  736  727  788  739  731\n",
      "C  640  708  692  674  702\n",
      "G  690  759  775  690  788\n",
      "T  900  772  711  863  745\n",
      "  [,1] [,2] [,3] [,4] [,5]\n",
      "A 1643 1713 1868 1621 1734\n",
      "C 1633 1768 1715 1712 1771\n",
      "G 1793 1991 1757 1740 2040\n",
      "T 1982 1579 1711 1978 1506\n"
     ]
    }
   ],
   "source": [
    "noncano_sep %>% filter(Unique_peptide_n_msfragger_closed!=0)-> noncano_filtered_sep_based_on_source\n",
    "nrow(noncano_filtered_sep_based_on_source)\n",
    "for (i in 0:2){\n",
    "if(i==0){\n",
    "    prefix=\"noncano\"\n",
    "}else if(i==1){\n",
    "    prefix=\"cano\"\n",
    "}else{\n",
    "    prefix=\"all\"\n",
    "}\n",
    "inte_func(noncano_filtered_sep_based_on_source,\n",
    "        paste0(\"../../figures/noncano_filtered_sep_based_on_source_scodon_kozak/\",prefix,\"/\"),\n",
    "        \"prefix\",\n",
    "        i\n",
    ")\n",
    "}"
   ]
  },
  {
   "cell_type": "code",
   "execution_count": 52,
   "id": "0f0df2bb",
   "metadata": {
    "ExecuteTime": {
     "end_time": "2025-09-19T04:28:14.204846Z",
     "start_time": "2025-09-19T04:27:59.026Z"
    }
   },
   "outputs": [
    {
     "data": {
      "text/html": [
       "9274"
      ],
      "text/latex": [
       "9274"
      ],
      "text/markdown": [
       "9274"
      ],
      "text/plain": [
       "[1] 9274"
      ]
     },
     "metadata": {},
     "output_type": "display_data"
    },
    {
     "name": "stdout",
     "output_type": "stream",
     "text": [
      "  [,1] [,2] [,3] [,4] [,5]\n",
      "A 1184 1277 1432 1188 1285\n",
      "C 1347 1454 1429 1422 1462\n",
      "G 1565 1716 1348 1468 1759\n",
      "T 1393 1042 1280 1411  983\n",
      "  [,1] [,2] [,3] [,4] [,5]\n",
      "A  983  951 1016  941  895\n",
      "C  825  863  858  839  907\n",
      "G  862 1003  996  901 1022\n",
      "T 1115  968  915 1104  961\n",
      "  [,1] [,2] [,3] [,4] [,5]\n",
      "A 2167 2228 2448 2129 2180\n",
      "C 2172 2317 2287 2261 2369\n",
      "G 2427 2719 2344 2369 2781\n",
      "T 2508 2010 2195 2515 1944\n"
     ]
    }
   ],
   "source": [
    "noncano_sep %>% filter(ORF_type!=\"noncoding\")-> noncano_filtered_sep_based_on_orf_type\n",
    "nrow(noncano_filtered_sep_based_on_orf_type)\n",
    "for (i in 0:2){\n",
    "if(i==0){\n",
    "    prefix=\"noncano\"\n",
    "}else if(i==1){\n",
    "    prefix=\"cano\"\n",
    "}else{\n",
    "    prefix=\"all\"\n",
    "}\n",
    "inte_func(noncano_filtered_sep_based_on_orf_type,\n",
    "        paste0(\"../../figures/noncano_filtered_sep_based_on_orf_type_scodon_kozak/\",prefix,\"/\"),\n",
    "        \"prefix\",\n",
    "        i\n",
    ")\n",
    "}"
   ]
  }
 ],
 "metadata": {
  "kernelspec": {
   "display_name": "R_default_4.2",
   "language": "R",
   "name": "r_default_4.2"
  },
  "language_info": {
   "codemirror_mode": "r",
   "file_extension": ".r",
   "mimetype": "text/x-r-source",
   "name": "R",
   "pygments_lexer": "r",
   "version": "4.2.1"
  },
  "toc": {
   "base_numbering": 1,
   "nav_menu": {},
   "number_sections": true,
   "sideBar": true,
   "skip_h1_title": false,
   "title_cell": "Table of Contents",
   "title_sidebar": "Contents",
   "toc_cell": false,
   "toc_position": {},
   "toc_section_display": true,
   "toc_window_display": false
  }
 },
 "nbformat": 4,
 "nbformat_minor": 5
}
