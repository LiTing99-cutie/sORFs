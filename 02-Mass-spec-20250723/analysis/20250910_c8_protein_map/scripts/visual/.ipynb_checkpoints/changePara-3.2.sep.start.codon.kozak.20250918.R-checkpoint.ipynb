{
 "cells": [
  {
   "cell_type": "code",
   "execution_count": 1,
   "id": "8790ed1c",
   "metadata": {
    "ExecuteTime": {
     "end_time": "2025-10-10T13:53:37.672379Z",
     "start_time": "2025-10-10T13:53:36.428Z"
    }
   },
   "outputs": [],
   "source": [
    "source(\"/home/user/data2/lit/bin/lit_utils.R\")\n",
    "source(\"/home/user/data3/lit/project/sORFs/sORFs.utils.R\")\n",
    "lib_text()\n",
    "lib_plot()\n",
    "\n",
    "##### 起始密码子附近的kozak序列 ##### \n",
    "get_window_15_start_codon <- function(df){\n",
    "  df %>% filter(Strand==\"+\") ->  all_sep_forward\n",
    "  data.frame(all_sep_forward$Chr,all_sep_forward$ORF_start-15,all_sep_forward$ORF_start+18,all_sep_forward$ORF_id,\".\",\n",
    "             all_sep_forward$Strand) -> window_15_start_codon_f\n",
    "  df %>% filter(Strand==\"-\") ->  all_sep_reverse\n",
    "  data.frame(all_sep_reverse$Chr,all_sep_reverse$ORF_end-18,all_sep_reverse$ORF_end+15,all_sep_reverse$ORF_id,\".\",\n",
    "             all_sep_reverse$Strand) -> window_15_start_codon_r\n",
    "  colnames(window_15_start_codon_r) <- colnames(window_15_start_codon_f)\n",
    "  rbind(window_15_start_codon_f,window_15_start_codon_r) -> window_15_start_codon\n",
    "  return(window_15_start_codon)\n",
    "}\n",
    "## 方法一\n",
    "# 输入fasta所在的路径\n",
    "seqlogo_cus <- function(fasta_path,output_path,keep_start_codon_or_not){\n",
    "  library(seqLogo)\n",
    "  library(Biostrings)\n",
    "  # 读取 FASTA 文件\n",
    "  seqs <- readDNAStringSet(fasta_path)\n",
    "  # 直接计算碱基频率矩阵（PFM）\n",
    "  pfm <- consensusMatrix(seqs)[1:4, ]  # 只保留A/C/G/T\n",
    "  rownames(pfm) <- c(\"A\", \"C\", \"G\", \"T\")\n",
    "  # 检查PFM（确保无NA/Inf值）\n",
    "  print(pfm[, 1:5])  # 查看前5列\n",
    "  if(!keep_start_codon_or_not){\n",
    "    pfm[,c(1:15,19:33)] -> pfm\n",
    "  }\n",
    "  # 转换为PWM（需确保所有列和为1）\n",
    "  pwm <- makePWM((pfm) / colSums(pfm))  # 加伪计数避免除零错误\n",
    "  # 绘制Sequence Logo\n",
    "  pdf(output_path, width = 7, height = 4)  # 可自定义尺寸\n",
    "  seqLogo(pwm)\n",
    "  dev.off()\n",
    "}\n",
    "## 方法二\n",
    "# 读取 FASTA 文件\n",
    "ggseqlogo_cus <- function(fasta_path,output_path,keep_start_codon_or_not){\n",
    "  library(ggseqlogo)\n",
    "  library(Biostrings)\n",
    "  seqs <- readDNAStringSet(fasta_path)\n",
    "  ggseqlogo(as.character(seqs)) -> p\n",
    "  if(!keep_start_codon_or_not){\n",
    "    sub <- sapply(as.character(seqs), function(s) paste0(substr(s, 1, 15), substr(s, 19, 33)))\n",
    "    ggseqlogo(sub) -> p\n",
    "  }\n",
    "  ggsave(p,filename = output_path, width = 7, height = 4)\n",
    "}\n",
    "inte_func <- function(sep,output_path,name,only_cano){\n",
    "  # 参数一：整理好的蛋白质元信息数据框，需要包括起始密码子的位置以及起始密码子的类型（如果需要用到only_cano）\n",
    "  # 参数二：输出路径\n",
    "  # 参数三：文件名前缀\n",
    "  # 参数四：是否只统计起始密码子，需要包括这一列（输入的值为0，1，2）\n",
    "  if(only_cano==1){\n",
    "    get_window_15_start_codon(sep %>% filter(Start_codon==\"ATG\")) -> window_15_start_codon_sep\n",
    "  }else if(only_cano==0){\n",
    "    get_window_15_start_codon(sep %>% filter(Start_codon!=\"ATG\")) -> window_15_start_codon_sep\n",
    "  }else{\n",
    "    get_window_15_start_codon(sep) -> window_15_start_codon_sep\n",
    "  }\n",
    "  create_path(output_path)\n",
    "  output_bed <- paste0(output_path,name,\".bed\")\n",
    "  output_fa <- paste0(output_path,name,\".fa\")\n",
    "  output_pdf <- paste0(output_path,name,\".pdf\")\n",
    "  fwrite(window_15_start_codon_sep,output_bed,col.names = F,sep = '\\t')\n",
    "  command <- paste0(\"bedtools getfasta -s -fi /home/user/data3/lit/project/sORFs/07-Genome/results/custom_fa/custom_ref.fa -bed \",\n",
    "                    output_bed,\" > \",output_fa)\n",
    "  system(command)\n",
    "  ggseqlogo_cus(output_fa,output_pdf,TRUE)\n",
    "  ggseqlogo_cus(output_fa,paste0(output_path,name,\".nosc.pdf\"),FALSE)\n",
    "  seqlogo_cus(output_fa, paste0(output_path,name,\".seqlogo.pdf\"),TRUE)\n",
    "}\n"
   ]
  },
  {
   "cell_type": "code",
   "execution_count": 2,
   "id": "9f17d7c3",
   "metadata": {
    "ExecuteTime": {
     "end_time": "2025-10-10T13:53:38.125506Z",
     "start_time": "2025-10-10T13:53:36.429Z"
    }
   },
   "outputs": [
    {
     "data": {
      "text/html": [
       "<style>\n",
       ".list-inline {list-style: none; margin:0; padding: 0}\n",
       ".list-inline>li {display: inline-block}\n",
       ".list-inline>li:not(:last-child)::after {content: \"\\00b7\"; padding: 0 .5ex}\n",
       "</style>\n",
       "<ol class=list-inline><li>'ORF_id'</li><li>'ORF_type'</li><li>'Start_codon'</li><li>'Isoform_id'</li><li>'Chr'</li><li>'Strand'</li><li>'ORF_seq'</li><li>'ORF_length'</li><li>'Geneid'</li><li>'Isoform_structural_category'</li><li>'Isoform_subcategory'</li><li>'Is_uniprot'</li><li>'Is_canonical'</li><li>'Run_occurrence'</li><li>'RPF_reads'</li><li>'Psites_number'</li><li>'RPF_RPKM'</li><li>'Psites_RPKM'</li><li>'RPF_codon_coverage'</li><li>'Psites_codon_coverage'</li><li>'FL'</li><li>'FL_TPM'</li><li>'N'</li><li>'C'</li><li>'A'</li><li>'Gene_type'</li><li>'Unique_peptide_n'</li><li>'Unique_peptide_n_msfragger_closed'</li><li>'mean_relative_iBAQ'</li><li>'ORF_start'</li><li>'ORF_end'</li><li>'CDS_seq'</li></ol>\n"
      ],
      "text/latex": [
       "\\begin{enumerate*}\n",
       "\\item 'ORF\\_id'\n",
       "\\item 'ORF\\_type'\n",
       "\\item 'Start\\_codon'\n",
       "\\item 'Isoform\\_id'\n",
       "\\item 'Chr'\n",
       "\\item 'Strand'\n",
       "\\item 'ORF\\_seq'\n",
       "\\item 'ORF\\_length'\n",
       "\\item 'Geneid'\n",
       "\\item 'Isoform\\_structural\\_category'\n",
       "\\item 'Isoform\\_subcategory'\n",
       "\\item 'Is\\_uniprot'\n",
       "\\item 'Is\\_canonical'\n",
       "\\item 'Run\\_occurrence'\n",
       "\\item 'RPF\\_reads'\n",
       "\\item 'Psites\\_number'\n",
       "\\item 'RPF\\_RPKM'\n",
       "\\item 'Psites\\_RPKM'\n",
       "\\item 'RPF\\_codon\\_coverage'\n",
       "\\item 'Psites\\_codon\\_coverage'\n",
       "\\item 'FL'\n",
       "\\item 'FL\\_TPM'\n",
       "\\item 'N'\n",
       "\\item 'C'\n",
       "\\item 'A'\n",
       "\\item 'Gene\\_type'\n",
       "\\item 'Unique\\_peptide\\_n'\n",
       "\\item 'Unique\\_peptide\\_n\\_msfragger\\_closed'\n",
       "\\item 'mean\\_relative\\_iBAQ'\n",
       "\\item 'ORF\\_start'\n",
       "\\item 'ORF\\_end'\n",
       "\\item 'CDS\\_seq'\n",
       "\\end{enumerate*}\n"
      ],
      "text/markdown": [
       "1. 'ORF_id'\n",
       "2. 'ORF_type'\n",
       "3. 'Start_codon'\n",
       "4. 'Isoform_id'\n",
       "5. 'Chr'\n",
       "6. 'Strand'\n",
       "7. 'ORF_seq'\n",
       "8. 'ORF_length'\n",
       "9. 'Geneid'\n",
       "10. 'Isoform_structural_category'\n",
       "11. 'Isoform_subcategory'\n",
       "12. 'Is_uniprot'\n",
       "13. 'Is_canonical'\n",
       "14. 'Run_occurrence'\n",
       "15. 'RPF_reads'\n",
       "16. 'Psites_number'\n",
       "17. 'RPF_RPKM'\n",
       "18. 'Psites_RPKM'\n",
       "19. 'RPF_codon_coverage'\n",
       "20. 'Psites_codon_coverage'\n",
       "21. 'FL'\n",
       "22. 'FL_TPM'\n",
       "23. 'N'\n",
       "24. 'C'\n",
       "25. 'A'\n",
       "26. 'Gene_type'\n",
       "27. 'Unique_peptide_n'\n",
       "28. 'Unique_peptide_n_msfragger_closed'\n",
       "29. 'mean_relative_iBAQ'\n",
       "30. 'ORF_start'\n",
       "31. 'ORF_end'\n",
       "32. 'CDS_seq'\n",
       "\n",
       "\n"
      ],
      "text/plain": [
       " [1] \"ORF_id\"                            \"ORF_type\"                         \n",
       " [3] \"Start_codon\"                       \"Isoform_id\"                       \n",
       " [5] \"Chr\"                               \"Strand\"                           \n",
       " [7] \"ORF_seq\"                           \"ORF_length\"                       \n",
       " [9] \"Geneid\"                            \"Isoform_structural_category\"      \n",
       "[11] \"Isoform_subcategory\"               \"Is_uniprot\"                       \n",
       "[13] \"Is_canonical\"                      \"Run_occurrence\"                   \n",
       "[15] \"RPF_reads\"                         \"Psites_number\"                    \n",
       "[17] \"RPF_RPKM\"                          \"Psites_RPKM\"                      \n",
       "[19] \"RPF_codon_coverage\"                \"Psites_codon_coverage\"            \n",
       "[21] \"FL\"                                \"FL_TPM\"                           \n",
       "[23] \"N\"                                 \"C\"                                \n",
       "[25] \"A\"                                 \"Gene_type\"                        \n",
       "[27] \"Unique_peptide_n\"                  \"Unique_peptide_n_msfragger_closed\"\n",
       "[29] \"mean_relative_iBAQ\"                \"ORF_start\"                        \n",
       "[31] \"ORF_end\"                           \"CDS_seq\"                          "
      ]
     },
     "metadata": {},
     "output_type": "display_data"
    }
   ],
   "source": [
    "orfs_path <- \"../../results//1//augment_orf_table//augmented.tsv\"\n",
    "fread_c(orfs_path) -> orfs\n",
    "colnames(orfs)"
   ]
  },
  {
   "cell_type": "code",
   "execution_count": 3,
   "id": "1b6b122d",
   "metadata": {
    "ExecuteTime": {
     "end_time": "2025-10-10T13:53:38.496743Z",
     "start_time": "2025-10-10T13:53:36.430Z"
    }
   },
   "outputs": [
    {
     "data": {
      "text/html": [
       "612"
      ],
      "text/latex": [
       "612"
      ],
      "text/markdown": [
       "612"
      ],
      "text/plain": [
       "[1] 612"
      ]
     },
     "metadata": {},
     "output_type": "display_data"
    },
    {
     "data": {
      "text/html": [
       "32909"
      ],
      "text/latex": [
       "32909"
      ],
      "text/markdown": [
       "32909"
      ],
      "text/plain": [
       "[1] 32909"
      ]
     },
     "metadata": {},
     "output_type": "display_data"
    }
   ],
   "source": [
    "orfs %>% filter(ORF_length<=150) -> df\n",
    "df %>% filter(ORF_type==\"canonical\")  %>% filter(!is.na(ORF_start))-> cano_sep\n",
    "df %>% filter(ORF_type!=\"canonical\") -> noncano_sep\n",
    "nrow(cano_sep)\n",
    "nrow(noncano_sep)"
   ]
  },
  {
   "cell_type": "code",
   "execution_count": 4,
   "id": "7167966a",
   "metadata": {
    "ExecuteTime": {
     "end_time": "2025-10-10T13:53:38.542511Z",
     "start_time": "2025-10-10T13:53:36.430Z"
    }
   },
   "outputs": [
    {
     "data": {
      "text/html": [
       "<table class=\"dataframe\">\n",
       "<caption>A data.frame: 6 × 32</caption>\n",
       "<thead>\n",
       "\t<tr><th></th><th scope=col>ORF_id</th><th scope=col>ORF_type</th><th scope=col>Start_codon</th><th scope=col>Isoform_id</th><th scope=col>Chr</th><th scope=col>Strand</th><th scope=col>ORF_seq</th><th scope=col>ORF_length</th><th scope=col>Geneid</th><th scope=col>Isoform_structural_category</th><th scope=col>⋯</th><th scope=col>N</th><th scope=col>C</th><th scope=col>A</th><th scope=col>Gene_type</th><th scope=col>Unique_peptide_n</th><th scope=col>Unique_peptide_n_msfragger_closed</th><th scope=col>mean_relative_iBAQ</th><th scope=col>ORF_start</th><th scope=col>ORF_end</th><th scope=col>CDS_seq</th></tr>\n",
       "\t<tr><th></th><th scope=col>&lt;chr&gt;</th><th scope=col>&lt;chr&gt;</th><th scope=col>&lt;chr&gt;</th><th scope=col>&lt;chr&gt;</th><th scope=col>&lt;chr&gt;</th><th scope=col>&lt;chr&gt;</th><th scope=col>&lt;chr&gt;</th><th scope=col>&lt;int&gt;</th><th scope=col>&lt;chr&gt;</th><th scope=col>&lt;chr&gt;</th><th scope=col>⋯</th><th scope=col>&lt;dbl&gt;</th><th scope=col>&lt;dbl&gt;</th><th scope=col>&lt;dbl&gt;</th><th scope=col>&lt;chr&gt;</th><th scope=col>&lt;int&gt;</th><th scope=col>&lt;int&gt;</th><th scope=col>&lt;dbl&gt;</th><th scope=col>&lt;int&gt;</th><th scope=col>&lt;int&gt;</th><th scope=col>&lt;chr&gt;</th></tr>\n",
       "</thead>\n",
       "<tbody>\n",
       "\t<tr><th scope=row>1</th><td>PB.1003.3:chr1:+|10|581:117:393|canonical|ATG   </td><td>canonical</td><td>ATG</td><td>PB.1003.3  </td><td>chr1 </td><td>+</td><td>MGLEDEQKMLTESGDPEEEEEEEEELVDPLTTVREQCEQLEKCVKARERLELCDERVSSRSHTEEDCTEELFDFLHARDHCVAHKLFNNLK                                                         </td><td> 91</td><td>UQCRH   </td><td>full-splice_match      </td><td>⋯</td><td>1.676097409</td><td>78.7148080</td><td>40.1954527</td><td>protein_coding</td><td>10</td><td> 8</td><td>5.215264e-04</td><td> 46303766</td><td> 46316584</td><td>ATGGGACTGGAGGACGAGCAAAAGATGCTTACCGAATCCGGAGATCCTGAGGAGgaggaagaggaagaggaggaATTAGTGGATCCCCTAACAACAGTGAGAGAGCAATGCGAGCAGTTGGAGAAATGTGTAAAGGCCCGGGAGCGGCTAGAGCTCTGTGATGAGCGTGTATCCTCTCGATCACATACAGAAGAGGATTGCACGGAGGAGCTCTTTGACTTCTTGCATGCGAGGGACCATTGCGTGGCCCACAAACTCTTTAACAACTTGAAA                                                                                                                                                                           </td></tr>\n",
       "\t<tr><th scope=row>2</th><td>PB.10614.3:chr12:+|11|664:250:598|canonical|ATG </td><td>canonical</td><td>ATG</td><td>PB.10614.3 </td><td>chr12</td><td>+</td><td>MTKKRRNNGRAKKGRGHVQPIRCTNCARCVPKDKAIKKFVIRNIVEAAAVRDISEASVFDAYVLPKLYVKLHYCVSCAIHSKVVRNRSREARKDRTPPPRFRPAGAAPRPPPKPM                                 </td><td>115</td><td>RPS26   </td><td>full-splice_match      </td><td>⋯</td><td>0.876541091</td><td>13.8328328</td><td> 7.3546870</td><td>protein_coding</td><td> 6</td><td> 6</td><td>1.812512e-04</td><td> 56042166</td><td> 56044154</td><td>ATGACAAAGAAAAGAAGGAACAATGGTCGTGCCAAAAAGGGCCGCGGCCACGTGCAGCCTATTCGCTGCACTAACTGTGCCCGATGCGTGCCCAAGGACAAGGCCATTAAGAAATTCGTCATTCGAAACATAGTGGAGGCCGCAGCAGTCAGGGACATTTCTGAAGCGAGCGTCTTCGATGCCTATGTGCTTCCCAAGCTGTATGTGAAGCTACATTACTGTGTGAGTTGTGCAATTCACAGCAAAGTAGTCAGGAATCGATCTCGTGAAGCCCGCAAGGACCGAACACCCCCACCCCGATTTAGACCTGCGGGTGCTGCCCCACGTCCCCCACCAAAGCCCATG                                                                                                   </td></tr>\n",
       "\t<tr><th scope=row>3</th><td>PB.10717.10:chr12:-|1|2544:7:403|canonical|ATG  </td><td>canonical</td><td>ATG</td><td>PB.10717.10</td><td>chr12</td><td>-</td><td>MSKRYLQKATKGKLLIIIFIVTLWGKVVSSANHHKAHHVKTGTCEVVALHRCCNKNKIEERSQTVKCSCFPGQVAGTTRAAPSCVDASIVEQKWWCHMQPCLEGEECKVLPDRKGWSCSSGNKVKTTRVTH                 </td><td>131</td><td>TAFA2   </td><td>incomplete-splice_match</td><td>⋯</td><td>0.688898858</td><td> 3.4066624</td><td> 2.0477806</td><td>protein_coding</td><td> 5</td><td> 5</td><td>6.686425e-05</td><td> 61710405</td><td> 61867425</td><td>ATGAGTAAGAGATACTTACAGAAAGCAACAAAAGGAAAACTGCTAATAATAATATTTATTGTAACCTTGTGGGGGAAAGTTGTATCCAGTGCAAACCATCATAAAGCTCACCATGTTAAAACGGGAACTTGTGAGGTGGTGGCACTCCACAGATGCTGTAATAAGAACAAGATAGAAGAACGGTCACAAACAGTCAAGTGCTCCTGCTTCCCTGGGCAGGTGGCAGGCACCACGCGAGCTGCTCCATCATGTGTGGATGCTTCAATAGTGGAACAGAAATGGTGGTGCCATATGCAGCCATGTCTAGAGGGAGAAGAATGTAAAGTTCTTCCGGATCGGAAAGGATGGAGCTGTTCCTCTGGGAATAAAGTCAAAACAACTAGGGTAACCCAT                                                   </td></tr>\n",
       "\t<tr><th scope=row>4</th><td>PB.10898.1:chr12:+|2|1498:38:485|canonical|ATG  </td><td>canonical</td><td>ATG</td><td>PB.10898.1 </td><td>chr12</td><td>+</td><td>MKALIVLGLVLLSVTVQGKVFERCELARTLKRLGMDGYRGISLANWMCLAKWESGYNTRATNYNAGDRSTDYGIFQINSRYWCNDGKTPGAVNACHLSCSALLQDNIADAVACAKRVVRDPQGIRAWVAWRNRCQNRDVRQYVQGCGV</td><td>148</td><td>LYZ     </td><td>full-splice_match      </td><td>⋯</td><td>0.009222873</td><td> 0.3070568</td><td> 0.1581398</td><td>protein_coding</td><td> 5</td><td> 5</td><td>1.842887e-05</td><td> 69348408</td><td> 69353219</td><td>ATGAAGGCTCTCATTGTTCTGGGGCTTGTCCTCCTTTCTGTTACGGTCCAGGGCAAGGTCTTTGAAAGGTGTGAGTTGGCCAGAACTCTGAAAAGATTGGGAATGGATGGCTACAGGGGAATCAGCCTAGCAAACTGGATGTGTTTGGCCAAATGGGAGAGTGGTTACAACACACGAGCTACAAACTACAATGCTGGAGACAGAAGCACTGATTATGGGATATTTCAGATCAATAGCCGCTACTGGTGTAATGATGGCAAAACCCCAGGAGCAGTTAATGCCTGTCATTTATCCTGCAGTGCTTTGCTGCAAGATAACATCGCTGATGCTGTAGCTTGTGCAAAGAGGGTTGTCCGTGATCCACAAGGCATTAGAGCATGGGTGGCATGGAGAAATCGTTGTCAAAACAGAGATGTCCGTCAGTATGTTCAAGGTTGTGGAGTG</td></tr>\n",
       "\t<tr><th scope=row>5</th><td>PB.11287.6:chr12:+|6|795:93:354|canonical|ATG   </td><td>canonical</td><td>ATG</td><td>PB.11287.6 </td><td>chr12</td><td>+</td><td>MSLPLNPKPFLNGLTGKPVMVKLKWGMEYKGYLVSVDGYMNMQLANTEEYIDGALSGHLGEVLIRCNNVLYIRGVEEEEEDGEMRE                                                              </td><td> 86</td><td>SNRPF   </td><td>full-splice_match      </td><td>⋯</td><td>1.379478018</td><td> 6.5970894</td><td> 3.9882837</td><td>protein_coding</td><td>20</td><td>11</td><td>4.511194e-04</td><td> 95859073</td><td> 95866071</td><td>ATGAGTTTACCCCTCAATCCCAAACCTTTCCTCAATGGACTAACAGGAAAGCCAGTGATGGTGAAACTTAAGTGGGGAATGGAGTACAAGGGCTATCTGGTATCTGTAGATGGCTACATGAACATGCAGCTTGCAAATACAGAAGAATACATAGATGGAGCTTTGTCTGGACATCTGGGTGAAGTTTTAATAAGGTGTAATAATGTCCTTTATATCAGAGGTGTGGAAGAAGAGGAAGAAGATGGGGAAATGAGAGAA                                                                                                                                                                                          </td></tr>\n",
       "\t<tr><th scope=row>6</th><td>PB.11412.30:chr12:-|8|1144:151:367|canonical|ATG</td><td>canonical</td><td>ATG</td><td>PB.11412.30</td><td>chr12</td><td>-</td><td>MPAGVPMSTYLKMFAASLLAMCAGAEVVHRYYRPDLTIPEIPPKRGELKTELLGLKERKHKPQVSQQEELK                                                                             </td><td> 71</td><td>C12orf73</td><td>full-splice_match      </td><td>⋯</td><td>1.481402907</td><td> 5.1283157</td><td> 3.3048593</td><td>protein_coding</td><td> 2</td><td> 2</td><td>4.001835e-05</td><td>103951522</td><td>103956738</td><td>ATGCCCGCGGGCGTGCCCATGTCCACCTACCTGAAAATGTTCGCAGCCAGTCTCCTGGCCATGTGCGCAGGGGCAGAAGTGGTGCACAGGTACTACCGACCGGACCTGACAATACCTGAAATTCCACCAAAGCGTGGAGAACTCAAAACGGAGCTTTTGGGACTGAAAGAAAGAAAACACAAACCTCAAGTTTCTCAACAGGAGGAACTTAAA                                                                                                                                                                                                                                       </td></tr>\n",
       "</tbody>\n",
       "</table>\n"
      ],
      "text/latex": [
       "A data.frame: 6 × 32\n",
       "\\begin{tabular}{r|lllllllllllllllllllll}\n",
       "  & ORF\\_id & ORF\\_type & Start\\_codon & Isoform\\_id & Chr & Strand & ORF\\_seq & ORF\\_length & Geneid & Isoform\\_structural\\_category & ⋯ & N & C & A & Gene\\_type & Unique\\_peptide\\_n & Unique\\_peptide\\_n\\_msfragger\\_closed & mean\\_relative\\_iBAQ & ORF\\_start & ORF\\_end & CDS\\_seq\\\\\n",
       "  & <chr> & <chr> & <chr> & <chr> & <chr> & <chr> & <chr> & <int> & <chr> & <chr> & ⋯ & <dbl> & <dbl> & <dbl> & <chr> & <int> & <int> & <dbl> & <int> & <int> & <chr>\\\\\n",
       "\\hline\n",
       "\t1 & PB.1003.3:chr1:+\\textbar{}10\\textbar{}581:117:393\\textbar{}canonical\\textbar{}ATG    & canonical & ATG & PB.1003.3   & chr1  & + & MGLEDEQKMLTESGDPEEEEEEEEELVDPLTTVREQCEQLEKCVKARERLELCDERVSSRSHTEEDCTEELFDFLHARDHCVAHKLFNNLK                                                          &  91 & UQCRH    & full-splice\\_match       & ⋯ & 1.676097409 & 78.7148080 & 40.1954527 & protein\\_coding & 10 &  8 & 5.215264e-04 &  46303766 &  46316584 & ATGGGACTGGAGGACGAGCAAAAGATGCTTACCGAATCCGGAGATCCTGAGGAGgaggaagaggaagaggaggaATTAGTGGATCCCCTAACAACAGTGAGAGAGCAATGCGAGCAGTTGGAGAAATGTGTAAAGGCCCGGGAGCGGCTAGAGCTCTGTGATGAGCGTGTATCCTCTCGATCACATACAGAAGAGGATTGCACGGAGGAGCTCTTTGACTTCTTGCATGCGAGGGACCATTGCGTGGCCCACAAACTCTTTAACAACTTGAAA                                                                                                                                                                           \\\\\n",
       "\t2 & PB.10614.3:chr12:+\\textbar{}11\\textbar{}664:250:598\\textbar{}canonical\\textbar{}ATG  & canonical & ATG & PB.10614.3  & chr12 & + & MTKKRRNNGRAKKGRGHVQPIRCTNCARCVPKDKAIKKFVIRNIVEAAAVRDISEASVFDAYVLPKLYVKLHYCVSCAIHSKVVRNRSREARKDRTPPPRFRPAGAAPRPPPKPM                                  & 115 & RPS26    & full-splice\\_match       & ⋯ & 0.876541091 & 13.8328328 &  7.3546870 & protein\\_coding &  6 &  6 & 1.812512e-04 &  56042166 &  56044154 & ATGACAAAGAAAAGAAGGAACAATGGTCGTGCCAAAAAGGGCCGCGGCCACGTGCAGCCTATTCGCTGCACTAACTGTGCCCGATGCGTGCCCAAGGACAAGGCCATTAAGAAATTCGTCATTCGAAACATAGTGGAGGCCGCAGCAGTCAGGGACATTTCTGAAGCGAGCGTCTTCGATGCCTATGTGCTTCCCAAGCTGTATGTGAAGCTACATTACTGTGTGAGTTGTGCAATTCACAGCAAAGTAGTCAGGAATCGATCTCGTGAAGCCCGCAAGGACCGAACACCCCCACCCCGATTTAGACCTGCGGGTGCTGCCCCACGTCCCCCACCAAAGCCCATG                                                                                                   \\\\\n",
       "\t3 & PB.10717.10:chr12:-\\textbar{}1\\textbar{}2544:7:403\\textbar{}canonical\\textbar{}ATG   & canonical & ATG & PB.10717.10 & chr12 & - & MSKRYLQKATKGKLLIIIFIVTLWGKVVSSANHHKAHHVKTGTCEVVALHRCCNKNKIEERSQTVKCSCFPGQVAGTTRAAPSCVDASIVEQKWWCHMQPCLEGEECKVLPDRKGWSCSSGNKVKTTRVTH                  & 131 & TAFA2    & incomplete-splice\\_match & ⋯ & 0.688898858 &  3.4066624 &  2.0477806 & protein\\_coding &  5 &  5 & 6.686425e-05 &  61710405 &  61867425 & ATGAGTAAGAGATACTTACAGAAAGCAACAAAAGGAAAACTGCTAATAATAATATTTATTGTAACCTTGTGGGGGAAAGTTGTATCCAGTGCAAACCATCATAAAGCTCACCATGTTAAAACGGGAACTTGTGAGGTGGTGGCACTCCACAGATGCTGTAATAAGAACAAGATAGAAGAACGGTCACAAACAGTCAAGTGCTCCTGCTTCCCTGGGCAGGTGGCAGGCACCACGCGAGCTGCTCCATCATGTGTGGATGCTTCAATAGTGGAACAGAAATGGTGGTGCCATATGCAGCCATGTCTAGAGGGAGAAGAATGTAAAGTTCTTCCGGATCGGAAAGGATGGAGCTGTTCCTCTGGGAATAAAGTCAAAACAACTAGGGTAACCCAT                                                   \\\\\n",
       "\t4 & PB.10898.1:chr12:+\\textbar{}2\\textbar{}1498:38:485\\textbar{}canonical\\textbar{}ATG   & canonical & ATG & PB.10898.1  & chr12 & + & MKALIVLGLVLLSVTVQGKVFERCELARTLKRLGMDGYRGISLANWMCLAKWESGYNTRATNYNAGDRSTDYGIFQINSRYWCNDGKTPGAVNACHLSCSALLQDNIADAVACAKRVVRDPQGIRAWVAWRNRCQNRDVRQYVQGCGV & 148 & LYZ      & full-splice\\_match       & ⋯ & 0.009222873 &  0.3070568 &  0.1581398 & protein\\_coding &  5 &  5 & 1.842887e-05 &  69348408 &  69353219 & ATGAAGGCTCTCATTGTTCTGGGGCTTGTCCTCCTTTCTGTTACGGTCCAGGGCAAGGTCTTTGAAAGGTGTGAGTTGGCCAGAACTCTGAAAAGATTGGGAATGGATGGCTACAGGGGAATCAGCCTAGCAAACTGGATGTGTTTGGCCAAATGGGAGAGTGGTTACAACACACGAGCTACAAACTACAATGCTGGAGACAGAAGCACTGATTATGGGATATTTCAGATCAATAGCCGCTACTGGTGTAATGATGGCAAAACCCCAGGAGCAGTTAATGCCTGTCATTTATCCTGCAGTGCTTTGCTGCAAGATAACATCGCTGATGCTGTAGCTTGTGCAAAGAGGGTTGTCCGTGATCCACAAGGCATTAGAGCATGGGTGGCATGGAGAAATCGTTGTCAAAACAGAGATGTCCGTCAGTATGTTCAAGGTTGTGGAGTG\\\\\n",
       "\t5 & PB.11287.6:chr12:+\\textbar{}6\\textbar{}795:93:354\\textbar{}canonical\\textbar{}ATG    & canonical & ATG & PB.11287.6  & chr12 & + & MSLPLNPKPFLNGLTGKPVMVKLKWGMEYKGYLVSVDGYMNMQLANTEEYIDGALSGHLGEVLIRCNNVLYIRGVEEEEEDGEMRE                                                               &  86 & SNRPF    & full-splice\\_match       & ⋯ & 1.379478018 &  6.5970894 &  3.9882837 & protein\\_coding & 20 & 11 & 4.511194e-04 &  95859073 &  95866071 & ATGAGTTTACCCCTCAATCCCAAACCTTTCCTCAATGGACTAACAGGAAAGCCAGTGATGGTGAAACTTAAGTGGGGAATGGAGTACAAGGGCTATCTGGTATCTGTAGATGGCTACATGAACATGCAGCTTGCAAATACAGAAGAATACATAGATGGAGCTTTGTCTGGACATCTGGGTGAAGTTTTAATAAGGTGTAATAATGTCCTTTATATCAGAGGTGTGGAAGAAGAGGAAGAAGATGGGGAAATGAGAGAA                                                                                                                                                                                          \\\\\n",
       "\t6 & PB.11412.30:chr12:-\\textbar{}8\\textbar{}1144:151:367\\textbar{}canonical\\textbar{}ATG & canonical & ATG & PB.11412.30 & chr12 & - & MPAGVPMSTYLKMFAASLLAMCAGAEVVHRYYRPDLTIPEIPPKRGELKTELLGLKERKHKPQVSQQEELK                                                                              &  71 & C12orf73 & full-splice\\_match       & ⋯ & 1.481402907 &  5.1283157 &  3.3048593 & protein\\_coding &  2 &  2 & 4.001835e-05 & 103951522 & 103956738 & ATGCCCGCGGGCGTGCCCATGTCCACCTACCTGAAAATGTTCGCAGCCAGTCTCCTGGCCATGTGCGCAGGGGCAGAAGTGGTGCACAGGTACTACCGACCGGACCTGACAATACCTGAAATTCCACCAAAGCGTGGAGAACTCAAAACGGAGCTTTTGGGACTGAAAGAAAGAAAACACAAACCTCAAGTTTCTCAACAGGAGGAACTTAAA                                                                                                                                                                                                                                       \\\\\n",
       "\\end{tabular}\n"
      ],
      "text/markdown": [
       "\n",
       "A data.frame: 6 × 32\n",
       "\n",
       "| <!--/--> | ORF_id &lt;chr&gt; | ORF_type &lt;chr&gt; | Start_codon &lt;chr&gt; | Isoform_id &lt;chr&gt; | Chr &lt;chr&gt; | Strand &lt;chr&gt; | ORF_seq &lt;chr&gt; | ORF_length &lt;int&gt; | Geneid &lt;chr&gt; | Isoform_structural_category &lt;chr&gt; | ⋯ ⋯ | N &lt;dbl&gt; | C &lt;dbl&gt; | A &lt;dbl&gt; | Gene_type &lt;chr&gt; | Unique_peptide_n &lt;int&gt; | Unique_peptide_n_msfragger_closed &lt;int&gt; | mean_relative_iBAQ &lt;dbl&gt; | ORF_start &lt;int&gt; | ORF_end &lt;int&gt; | CDS_seq &lt;chr&gt; |\n",
       "|---|---|---|---|---|---|---|---|---|---|---|---|---|---|---|---|---|---|---|---|---|---|\n",
       "| 1 | PB.1003.3:chr1:+|10|581:117:393|canonical|ATG    | canonical | ATG | PB.1003.3   | chr1  | + | MGLEDEQKMLTESGDPEEEEEEEEELVDPLTTVREQCEQLEKCVKARERLELCDERVSSRSHTEEDCTEELFDFLHARDHCVAHKLFNNLK                                                          |  91 | UQCRH    | full-splice_match       | ⋯ | 1.676097409 | 78.7148080 | 40.1954527 | protein_coding | 10 |  8 | 5.215264e-04 |  46303766 |  46316584 | ATGGGACTGGAGGACGAGCAAAAGATGCTTACCGAATCCGGAGATCCTGAGGAGgaggaagaggaagaggaggaATTAGTGGATCCCCTAACAACAGTGAGAGAGCAATGCGAGCAGTTGGAGAAATGTGTAAAGGCCCGGGAGCGGCTAGAGCTCTGTGATGAGCGTGTATCCTCTCGATCACATACAGAAGAGGATTGCACGGAGGAGCTCTTTGACTTCTTGCATGCGAGGGACCATTGCGTGGCCCACAAACTCTTTAACAACTTGAAA                                                                                                                                                                            |\n",
       "| 2 | PB.10614.3:chr12:+|11|664:250:598|canonical|ATG  | canonical | ATG | PB.10614.3  | chr12 | + | MTKKRRNNGRAKKGRGHVQPIRCTNCARCVPKDKAIKKFVIRNIVEAAAVRDISEASVFDAYVLPKLYVKLHYCVSCAIHSKVVRNRSREARKDRTPPPRFRPAGAAPRPPPKPM                                  | 115 | RPS26    | full-splice_match       | ⋯ | 0.876541091 | 13.8328328 |  7.3546870 | protein_coding |  6 |  6 | 1.812512e-04 |  56042166 |  56044154 | ATGACAAAGAAAAGAAGGAACAATGGTCGTGCCAAAAAGGGCCGCGGCCACGTGCAGCCTATTCGCTGCACTAACTGTGCCCGATGCGTGCCCAAGGACAAGGCCATTAAGAAATTCGTCATTCGAAACATAGTGGAGGCCGCAGCAGTCAGGGACATTTCTGAAGCGAGCGTCTTCGATGCCTATGTGCTTCCCAAGCTGTATGTGAAGCTACATTACTGTGTGAGTTGTGCAATTCACAGCAAAGTAGTCAGGAATCGATCTCGTGAAGCCCGCAAGGACCGAACACCCCCACCCCGATTTAGACCTGCGGGTGCTGCCCCACGTCCCCCACCAAAGCCCATG                                                                                                    |\n",
       "| 3 | PB.10717.10:chr12:-|1|2544:7:403|canonical|ATG   | canonical | ATG | PB.10717.10 | chr12 | - | MSKRYLQKATKGKLLIIIFIVTLWGKVVSSANHHKAHHVKTGTCEVVALHRCCNKNKIEERSQTVKCSCFPGQVAGTTRAAPSCVDASIVEQKWWCHMQPCLEGEECKVLPDRKGWSCSSGNKVKTTRVTH                  | 131 | TAFA2    | incomplete-splice_match | ⋯ | 0.688898858 |  3.4066624 |  2.0477806 | protein_coding |  5 |  5 | 6.686425e-05 |  61710405 |  61867425 | ATGAGTAAGAGATACTTACAGAAAGCAACAAAAGGAAAACTGCTAATAATAATATTTATTGTAACCTTGTGGGGGAAAGTTGTATCCAGTGCAAACCATCATAAAGCTCACCATGTTAAAACGGGAACTTGTGAGGTGGTGGCACTCCACAGATGCTGTAATAAGAACAAGATAGAAGAACGGTCACAAACAGTCAAGTGCTCCTGCTTCCCTGGGCAGGTGGCAGGCACCACGCGAGCTGCTCCATCATGTGTGGATGCTTCAATAGTGGAACAGAAATGGTGGTGCCATATGCAGCCATGTCTAGAGGGAGAAGAATGTAAAGTTCTTCCGGATCGGAAAGGATGGAGCTGTTCCTCTGGGAATAAAGTCAAAACAACTAGGGTAACCCAT                                                    |\n",
       "| 4 | PB.10898.1:chr12:+|2|1498:38:485|canonical|ATG   | canonical | ATG | PB.10898.1  | chr12 | + | MKALIVLGLVLLSVTVQGKVFERCELARTLKRLGMDGYRGISLANWMCLAKWESGYNTRATNYNAGDRSTDYGIFQINSRYWCNDGKTPGAVNACHLSCSALLQDNIADAVACAKRVVRDPQGIRAWVAWRNRCQNRDVRQYVQGCGV | 148 | LYZ      | full-splice_match       | ⋯ | 0.009222873 |  0.3070568 |  0.1581398 | protein_coding |  5 |  5 | 1.842887e-05 |  69348408 |  69353219 | ATGAAGGCTCTCATTGTTCTGGGGCTTGTCCTCCTTTCTGTTACGGTCCAGGGCAAGGTCTTTGAAAGGTGTGAGTTGGCCAGAACTCTGAAAAGATTGGGAATGGATGGCTACAGGGGAATCAGCCTAGCAAACTGGATGTGTTTGGCCAAATGGGAGAGTGGTTACAACACACGAGCTACAAACTACAATGCTGGAGACAGAAGCACTGATTATGGGATATTTCAGATCAATAGCCGCTACTGGTGTAATGATGGCAAAACCCCAGGAGCAGTTAATGCCTGTCATTTATCCTGCAGTGCTTTGCTGCAAGATAACATCGCTGATGCTGTAGCTTGTGCAAAGAGGGTTGTCCGTGATCCACAAGGCATTAGAGCATGGGTGGCATGGAGAAATCGTTGTCAAAACAGAGATGTCCGTCAGTATGTTCAAGGTTGTGGAGTG |\n",
       "| 5 | PB.11287.6:chr12:+|6|795:93:354|canonical|ATG    | canonical | ATG | PB.11287.6  | chr12 | + | MSLPLNPKPFLNGLTGKPVMVKLKWGMEYKGYLVSVDGYMNMQLANTEEYIDGALSGHLGEVLIRCNNVLYIRGVEEEEEDGEMRE                                                               |  86 | SNRPF    | full-splice_match       | ⋯ | 1.379478018 |  6.5970894 |  3.9882837 | protein_coding | 20 | 11 | 4.511194e-04 |  95859073 |  95866071 | ATGAGTTTACCCCTCAATCCCAAACCTTTCCTCAATGGACTAACAGGAAAGCCAGTGATGGTGAAACTTAAGTGGGGAATGGAGTACAAGGGCTATCTGGTATCTGTAGATGGCTACATGAACATGCAGCTTGCAAATACAGAAGAATACATAGATGGAGCTTTGTCTGGACATCTGGGTGAAGTTTTAATAAGGTGTAATAATGTCCTTTATATCAGAGGTGTGGAAGAAGAGGAAGAAGATGGGGAAATGAGAGAA                                                                                                                                                                                           |\n",
       "| 6 | PB.11412.30:chr12:-|8|1144:151:367|canonical|ATG | canonical | ATG | PB.11412.30 | chr12 | - | MPAGVPMSTYLKMFAASLLAMCAGAEVVHRYYRPDLTIPEIPPKRGELKTELLGLKERKHKPQVSQQEELK                                                                              |  71 | C12orf73 | full-splice_match       | ⋯ | 1.481402907 |  5.1283157 |  3.3048593 | protein_coding |  2 |  2 | 4.001835e-05 | 103951522 | 103956738 | ATGCCCGCGGGCGTGCCCATGTCCACCTACCTGAAAATGTTCGCAGCCAGTCTCCTGGCCATGTGCGCAGGGGCAGAAGTGGTGCACAGGTACTACCGACCGGACCTGACAATACCTGAAATTCCACCAAAGCGTGGAGAACTCAAAACGGAGCTTTTGGGACTGAAAGAAAGAAAACACAAACCTCAAGTTTCTCAACAGGAGGAACTTAAA                                                                                                                                                                                                                                        |\n",
       "\n"
      ],
      "text/plain": [
       "  ORF_id                                           ORF_type  Start_codon\n",
       "1 PB.1003.3:chr1:+|10|581:117:393|canonical|ATG    canonical ATG        \n",
       "2 PB.10614.3:chr12:+|11|664:250:598|canonical|ATG  canonical ATG        \n",
       "3 PB.10717.10:chr12:-|1|2544:7:403|canonical|ATG   canonical ATG        \n",
       "4 PB.10898.1:chr12:+|2|1498:38:485|canonical|ATG   canonical ATG        \n",
       "5 PB.11287.6:chr12:+|6|795:93:354|canonical|ATG    canonical ATG        \n",
       "6 PB.11412.30:chr12:-|8|1144:151:367|canonical|ATG canonical ATG        \n",
       "  Isoform_id  Chr   Strand\n",
       "1 PB.1003.3   chr1  +     \n",
       "2 PB.10614.3  chr12 +     \n",
       "3 PB.10717.10 chr12 -     \n",
       "4 PB.10898.1  chr12 +     \n",
       "5 PB.11287.6  chr12 +     \n",
       "6 PB.11412.30 chr12 -     \n",
       "  ORF_seq                                                                                                                                             \n",
       "1 MGLEDEQKMLTESGDPEEEEEEEEELVDPLTTVREQCEQLEKCVKARERLELCDERVSSRSHTEEDCTEELFDFLHARDHCVAHKLFNNLK                                                         \n",
       "2 MTKKRRNNGRAKKGRGHVQPIRCTNCARCVPKDKAIKKFVIRNIVEAAAVRDISEASVFDAYVLPKLYVKLHYCVSCAIHSKVVRNRSREARKDRTPPPRFRPAGAAPRPPPKPM                                 \n",
       "3 MSKRYLQKATKGKLLIIIFIVTLWGKVVSSANHHKAHHVKTGTCEVVALHRCCNKNKIEERSQTVKCSCFPGQVAGTTRAAPSCVDASIVEQKWWCHMQPCLEGEECKVLPDRKGWSCSSGNKVKTTRVTH                 \n",
       "4 MKALIVLGLVLLSVTVQGKVFERCELARTLKRLGMDGYRGISLANWMCLAKWESGYNTRATNYNAGDRSTDYGIFQINSRYWCNDGKTPGAVNACHLSCSALLQDNIADAVACAKRVVRDPQGIRAWVAWRNRCQNRDVRQYVQGCGV\n",
       "5 MSLPLNPKPFLNGLTGKPVMVKLKWGMEYKGYLVSVDGYMNMQLANTEEYIDGALSGHLGEVLIRCNNVLYIRGVEEEEEDGEMRE                                                              \n",
       "6 MPAGVPMSTYLKMFAASLLAMCAGAEVVHRYYRPDLTIPEIPPKRGELKTELLGLKERKHKPQVSQQEELK                                                                             \n",
       "  ORF_length Geneid   Isoform_structural_category ⋯ N           C         \n",
       "1  91        UQCRH    full-splice_match           ⋯ 1.676097409 78.7148080\n",
       "2 115        RPS26    full-splice_match           ⋯ 0.876541091 13.8328328\n",
       "3 131        TAFA2    incomplete-splice_match     ⋯ 0.688898858  3.4066624\n",
       "4 148        LYZ      full-splice_match           ⋯ 0.009222873  0.3070568\n",
       "5  86        SNRPF    full-splice_match           ⋯ 1.379478018  6.5970894\n",
       "6  71        C12orf73 full-splice_match           ⋯ 1.481402907  5.1283157\n",
       "  A          Gene_type      Unique_peptide_n Unique_peptide_n_msfragger_closed\n",
       "1 40.1954527 protein_coding 10                8                               \n",
       "2  7.3546870 protein_coding  6                6                               \n",
       "3  2.0477806 protein_coding  5                5                               \n",
       "4  0.1581398 protein_coding  5                5                               \n",
       "5  3.9882837 protein_coding 20               11                               \n",
       "6  3.3048593 protein_coding  2                2                               \n",
       "  mean_relative_iBAQ ORF_start ORF_end  \n",
       "1 5.215264e-04        46303766  46316584\n",
       "2 1.812512e-04        56042166  56044154\n",
       "3 6.686425e-05        61710405  61867425\n",
       "4 1.842887e-05        69348408  69353219\n",
       "5 4.511194e-04        95859073  95866071\n",
       "6 4.001835e-05       103951522 103956738\n",
       "  CDS_seq                                                                                                                                                                                                                                                                                                                                                                                                                                                     \n",
       "1 ATGGGACTGGAGGACGAGCAAAAGATGCTTACCGAATCCGGAGATCCTGAGGAGgaggaagaggaagaggaggaATTAGTGGATCCCCTAACAACAGTGAGAGAGCAATGCGAGCAGTTGGAGAAATGTGTAAAGGCCCGGGAGCGGCTAGAGCTCTGTGATGAGCGTGTATCCTCTCGATCACATACAGAAGAGGATTGCACGGAGGAGCTCTTTGACTTCTTGCATGCGAGGGACCATTGCGTGGCCCACAAACTCTTTAACAACTTGAAA                                                                                                                                                                           \n",
       "2 ATGACAAAGAAAAGAAGGAACAATGGTCGTGCCAAAAAGGGCCGCGGCCACGTGCAGCCTATTCGCTGCACTAACTGTGCCCGATGCGTGCCCAAGGACAAGGCCATTAAGAAATTCGTCATTCGAAACATAGTGGAGGCCGCAGCAGTCAGGGACATTTCTGAAGCGAGCGTCTTCGATGCCTATGTGCTTCCCAAGCTGTATGTGAAGCTACATTACTGTGTGAGTTGTGCAATTCACAGCAAAGTAGTCAGGAATCGATCTCGTGAAGCCCGCAAGGACCGAACACCCCCACCCCGATTTAGACCTGCGGGTGCTGCCCCACGTCCCCCACCAAAGCCCATG                                                                                                   \n",
       "3 ATGAGTAAGAGATACTTACAGAAAGCAACAAAAGGAAAACTGCTAATAATAATATTTATTGTAACCTTGTGGGGGAAAGTTGTATCCAGTGCAAACCATCATAAAGCTCACCATGTTAAAACGGGAACTTGTGAGGTGGTGGCACTCCACAGATGCTGTAATAAGAACAAGATAGAAGAACGGTCACAAACAGTCAAGTGCTCCTGCTTCCCTGGGCAGGTGGCAGGCACCACGCGAGCTGCTCCATCATGTGTGGATGCTTCAATAGTGGAACAGAAATGGTGGTGCCATATGCAGCCATGTCTAGAGGGAGAAGAATGTAAAGTTCTTCCGGATCGGAAAGGATGGAGCTGTTCCTCTGGGAATAAAGTCAAAACAACTAGGGTAACCCAT                                                   \n",
       "4 ATGAAGGCTCTCATTGTTCTGGGGCTTGTCCTCCTTTCTGTTACGGTCCAGGGCAAGGTCTTTGAAAGGTGTGAGTTGGCCAGAACTCTGAAAAGATTGGGAATGGATGGCTACAGGGGAATCAGCCTAGCAAACTGGATGTGTTTGGCCAAATGGGAGAGTGGTTACAACACACGAGCTACAAACTACAATGCTGGAGACAGAAGCACTGATTATGGGATATTTCAGATCAATAGCCGCTACTGGTGTAATGATGGCAAAACCCCAGGAGCAGTTAATGCCTGTCATTTATCCTGCAGTGCTTTGCTGCAAGATAACATCGCTGATGCTGTAGCTTGTGCAAAGAGGGTTGTCCGTGATCCACAAGGCATTAGAGCATGGGTGGCATGGAGAAATCGTTGTCAAAACAGAGATGTCCGTCAGTATGTTCAAGGTTGTGGAGTG\n",
       "5 ATGAGTTTACCCCTCAATCCCAAACCTTTCCTCAATGGACTAACAGGAAAGCCAGTGATGGTGAAACTTAAGTGGGGAATGGAGTACAAGGGCTATCTGGTATCTGTAGATGGCTACATGAACATGCAGCTTGCAAATACAGAAGAATACATAGATGGAGCTTTGTCTGGACATCTGGGTGAAGTTTTAATAAGGTGTAATAATGTCCTTTATATCAGAGGTGTGGAAGAAGAGGAAGAAGATGGGGAAATGAGAGAA                                                                                                                                                                                          \n",
       "6 ATGCCCGCGGGCGTGCCCATGTCCACCTACCTGAAAATGTTCGCAGCCAGTCTCCTGGCCATGTGCGCAGGGGCAGAAGTGGTGCACAGGTACTACCGACCGGACCTGACAATACCTGAAATTCCACCAAAGCGTGGAGAACTCAAAACGGAGCTTTTGGGACTGAAAGAAAGAAAACACAAACCTCAAGTTTCTCAACAGGAGGAACTTAAA                                                                                                                                                                                                                                       "
      ]
     },
     "metadata": {},
     "output_type": "display_data"
    }
   ],
   "source": [
    "head(cano_sep)"
   ]
  },
  {
   "cell_type": "code",
   "execution_count": 5,
   "id": "2c2ec7c7",
   "metadata": {
    "ExecuteTime": {
     "end_time": "2025-10-10T13:53:38.554089Z",
     "start_time": "2025-10-10T13:53:36.431Z"
    }
   },
   "outputs": [],
   "source": [
    "output_dir=\"../../figures/1/\""
   ]
  },
  {
   "cell_type": "code",
   "execution_count": 6,
   "id": "592a8c6f",
   "metadata": {
    "ExecuteTime": {
     "end_time": "2025-10-10T13:53:43.131307Z",
     "start_time": "2025-10-10T13:53:36.431Z"
    }
   },
   "outputs": [
    {
     "data": {
      "text/html": [
       "612"
      ],
      "text/latex": [
       "612"
      ],
      "text/markdown": [
       "612"
      ],
      "text/plain": [
       "[1] 612"
      ]
     },
     "metadata": {},
     "output_type": "display_data"
    },
    {
     "name": "stderr",
     "output_type": "stream",
     "text": [
      "Loading required package: BiocGenerics\n",
      "\n",
      "\n",
      "Attaching package: ‘BiocGenerics’\n",
      "\n",
      "\n",
      "The following object is masked from ‘package:gridExtra’:\n",
      "\n",
      "    combine\n",
      "\n",
      "\n",
      "The following objects are masked from ‘package:dplyr’:\n",
      "\n",
      "    combine, intersect, setdiff, union\n",
      "\n",
      "\n",
      "The following objects are masked from ‘package:stats’:\n",
      "\n",
      "    IQR, mad, sd, var, xtabs\n",
      "\n",
      "\n",
      "The following objects are masked from ‘package:base’:\n",
      "\n",
      "    anyDuplicated, aperm, append, as.data.frame, basename, cbind,\n",
      "    colnames, dirname, do.call, duplicated, eval, evalq, Filter, Find,\n",
      "    get, grep, grepl, intersect, is.unsorted, lapply, Map, mapply,\n",
      "    match, mget, order, paste, pmax, pmax.int, pmin, pmin.int,\n",
      "    Position, rank, rbind, Reduce, rownames, sapply, setdiff, sort,\n",
      "    table, tapply, union, unique, unsplit, which.max, which.min\n",
      "\n",
      "\n",
      "Loading required package: S4Vectors\n",
      "\n",
      "Loading required package: stats4\n",
      "\n",
      "\n",
      "Attaching package: ‘S4Vectors’\n",
      "\n",
      "\n",
      "The following object is masked from ‘package:tidyr’:\n",
      "\n",
      "    expand\n",
      "\n",
      "\n",
      "The following objects are masked from ‘package:data.table’:\n",
      "\n",
      "    first, second\n",
      "\n",
      "\n",
      "The following objects are masked from ‘package:dplyr’:\n",
      "\n",
      "    first, rename\n",
      "\n",
      "\n",
      "The following objects are masked from ‘package:base’:\n",
      "\n",
      "    expand.grid, I, unname\n",
      "\n",
      "\n",
      "Loading required package: IRanges\n",
      "\n",
      "\n",
      "Attaching package: ‘IRanges’\n",
      "\n",
      "\n",
      "The following object is masked from ‘package:data.table’:\n",
      "\n",
      "    shift\n",
      "\n",
      "\n",
      "The following objects are masked from ‘package:dplyr’:\n",
      "\n",
      "    collapse, desc, slice\n",
      "\n",
      "\n",
      "Loading required package: XVector\n",
      "\n",
      "Loading required package: GenomeInfoDb\n",
      "\n",
      "\n",
      "Attaching package: ‘Biostrings’\n",
      "\n",
      "\n",
      "The following object is masked from ‘package:base’:\n",
      "\n",
      "    strsplit\n",
      "\n",
      "\n",
      "Warning message:\n",
      "“\u001b[1m\u001b[22mThe `<scale>` argument of `guides()` cannot be `FALSE`. Use \"none\" instead as\n",
      "of ggplot2 3.3.4.\n",
      "\u001b[36mℹ\u001b[39m The deprecated feature was likely used in the \u001b[34mggseqlogo\u001b[39m package.\n",
      "  Please report the issue at \u001b[3m\u001b[34m<https://github.com/omarwagih/ggseqlogo/issues>\u001b[39m\u001b[23m.”\n",
      "Loading required package: grid\n",
      "\n",
      "\n",
      "Attaching package: ‘grid’\n",
      "\n",
      "\n",
      "The following object is masked from ‘package:Biostrings’:\n",
      "\n",
      "    pattern\n",
      "\n",
      "\n"
     ]
    },
    {
     "name": "stdout",
     "output_type": "stream",
     "text": [
      "  [,1] [,2] [,3] [,4] [,5]\n",
      "A   95   92  112   91  115\n",
      "C  175  223  198  197  220\n",
      "G  191  165  161  188  159\n",
      "T  151  132  141  136  118\n"
     ]
    }
   ],
   "source": [
    "nrow(cano_sep)\n",
    "for (i in 2){\n",
    "if(i==0){\n",
    "    prefix=\"noncano\"\n",
    "}else if(i==1){\n",
    "    prefix=\"cano\"\n",
    "}else{\n",
    "    prefix=\"all\"\n",
    "}\n",
    "inte_func(cano_sep,\n",
    "        paste0(output_dir,\"cano_sep_scodon_kozak/\",prefix,\"/\"),\n",
    "        \"prefix\",\n",
    "        i\n",
    ")\n",
    "}"
   ]
  },
  {
   "cell_type": "code",
   "execution_count": 7,
   "id": "b9014f09",
   "metadata": {
    "ExecuteTime": {
     "end_time": "2025-10-10T13:53:59.171734Z",
     "start_time": "2025-10-10T13:53:36.432Z"
    },
    "scrolled": true
   },
   "outputs": [
    {
     "data": {
      "text/html": [
       "32909"
      ],
      "text/latex": [
       "32909"
      ],
      "text/markdown": [
       "32909"
      ],
      "text/plain": [
       "[1] 32909"
      ]
     },
     "metadata": {},
     "output_type": "display_data"
    },
    {
     "name": "stdout",
     "output_type": "stream",
     "text": [
      "  [,1] [,2] [,3] [,4] [,5]\n",
      "A 4192 4886 5109 4168 4723\n",
      "C 4387 4510 4450 4270 4502\n",
      "G 4707 5170 4161 4676 5325\n",
      "T 5089 3809 4655 5261 3825\n",
      "  [,1] [,2] [,3] [,4] [,5]\n",
      "A 3705 3801 3981 3749 3791\n",
      "C 3155 3269 3265 3201 3268\n",
      "G 3301 3571 3540 3307 3666\n",
      "T 4373 3893 3748 4277 3809\n",
      "  [,1] [,2] [,3] [,4] [,5]\n",
      "A 7897 8687 9090 7917 8514\n",
      "C 7542 7779 7715 7471 7770\n",
      "G 8008 8741 7701 7983 8991\n",
      "T 9462 7702 8403 9538 7634\n"
     ]
    }
   ],
   "source": [
    "nrow(noncano_sep)\n",
    "for (i in 0:2){\n",
    "if(i==0){\n",
    "    prefix=\"noncano\"\n",
    "}else if(i==1){\n",
    "    prefix=\"cano\"\n",
    "}else{\n",
    "    prefix=\"all\"\n",
    "}\n",
    "inte_func(noncano_sep,\n",
    "        paste0(output_dir,\"noncano_sep_ms_suppo_scodon_kozak/\",prefix,\"/\"),\n",
    "        \"prefix\",\n",
    "        i\n",
    ")\n",
    "}"
   ]
  },
  {
   "cell_type": "code",
   "execution_count": 8,
   "id": "42dc0846",
   "metadata": {
    "ExecuteTime": {
     "end_time": "2025-10-10T13:54:02.059641Z",
     "start_time": "2025-10-10T13:53:36.432Z"
    }
   },
   "outputs": [
    {
     "data": {
      "text/html": [
       "1036"
      ],
      "text/latex": [
       "1036"
      ],
      "text/markdown": [
       "1036"
      ],
      "text/plain": [
       "[1] 1036"
      ]
     },
     "metadata": {},
     "output_type": "display_data"
    },
    {
     "name": "stdout",
     "output_type": "stream",
     "text": [
      "  [,1] [,2] [,3] [,4] [,5]\n",
      "A   98  140  127  117  138\n",
      "C  119  133  142  118  131\n",
      "G  156  150  127  148  159\n",
      "T  138   88  115  128   83\n",
      "  [,1] [,2] [,3] [,4] [,5]\n",
      "A  127  143  143  121  124\n",
      "C  127  132  139  126  125\n",
      "G  145  132  126  126  142\n",
      "T  126  118  117  152  134\n",
      "  [,1] [,2] [,3] [,4] [,5]\n",
      "A  225  283  270  238  262\n",
      "C  246  265  281  244  256\n",
      "G  301  282  253  274  301\n",
      "T  264  206  232  280  217\n"
     ]
    }
   ],
   "source": [
    "# noncano_sep %>% %>% filter(Run_occurrence>=2|Unique_peptide_n>=2)  -> noncano_filtered_sep\n",
    "noncano_sep %>% filter(Unique_peptide_n>=2)  -> noncano_filtered_sep\n",
    "nrow(noncano_filtered_sep)\n",
    "for (i in 0:2){\n",
    "if(i==0){\n",
    "    prefix=\"noncano\"\n",
    "}else if(i==1){\n",
    "    prefix=\"cano\"\n",
    "}else{\n",
    "    prefix=\"all\"\n",
    "}\n",
    "inte_func(noncano_filtered_sep,\n",
    "        paste0(output_dir,\"noncano_sep_ms_suppo_filtered_scodon_kozak/\",prefix,\"/\"),\n",
    "        \"prefix\",\n",
    "        i\n",
    ")\n",
    "}"
   ]
  },
  {
   "cell_type": "code",
   "execution_count": 9,
   "id": "d863772d",
   "metadata": {
    "ExecuteTime": {
     "end_time": "2025-10-10T13:54:09.020745Z",
     "start_time": "2025-10-10T13:53:36.433Z"
    }
   },
   "outputs": [
    {
     "data": {
      "text/html": [
       "14258"
      ],
      "text/latex": [
       "14258"
      ],
      "text/markdown": [
       "14258"
      ],
      "text/plain": [
       "[1] 14258"
      ]
     },
     "metadata": {},
     "output_type": "display_data"
    },
    {
     "name": "stdout",
     "output_type": "stream",
     "text": [
      "  [,1] [,2] [,3] [,4] [,5]\n",
      "A 1870 2135 2244 1815 2064\n",
      "C 1921 1973 1950 1856 1951\n",
      "G 1993 2229 1765 1972 2313\n",
      "T 2211 1658 2036 2352 1667\n",
      "  [,1] [,2] [,3] [,4] [,5]\n",
      "A 1576 1615 1698 1625 1606\n",
      "C 1328 1404 1427 1389 1413\n",
      "G 1444 1526 1534 1437 1582\n",
      "T 1915 1718 1604 1812 1662\n",
      "  [,1] [,2] [,3] [,4] [,5]\n",
      "A 3446 3750 3942 3440 3670\n",
      "C 3249 3377 3377 3245 3364\n",
      "G 3437 3755 3299 3409 3895\n",
      "T 4126 3376 3640 4164 3329\n"
     ]
    }
   ],
   "source": [
    "noncano_sep %>% filter(Unique_peptide_n_msfragger_closed!=0)-> noncano_filtered_sep_based_on_source\n",
    "nrow(noncano_filtered_sep_based_on_source)\n",
    "for (i in 0:2){\n",
    "if(i==0){\n",
    "    prefix=\"noncano\"\n",
    "}else if(i==1){\n",
    "    prefix=\"cano\"\n",
    "}else{\n",
    "    prefix=\"all\"\n",
    "}\n",
    "inte_func(noncano_filtered_sep_based_on_source,\n",
    "        paste0(output_dir,\"noncano_filtered_sep_based_on_source_scodon_kozak/\",prefix,\"/\"),\n",
    "        \"prefix\",\n",
    "        i\n",
    ")\n",
    "}"
   ]
  },
  {
   "cell_type": "code",
   "execution_count": 10,
   "id": "552befae",
   "metadata": {
    "ExecuteTime": {
     "end_time": "2025-10-10T13:54:15.325562Z",
     "start_time": "2025-10-10T13:53:36.433Z"
    }
   },
   "outputs": [
    {
     "data": {
      "text/html": [
       "13984"
      ],
      "text/latex": [
       "13984"
      ],
      "text/markdown": [
       "13984"
      ],
      "text/plain": [
       "[1] 13984"
      ]
     },
     "metadata": {},
     "output_type": "display_data"
    },
    {
     "name": "stdout",
     "output_type": "stream",
     "text": [
      "  [,1] [,2] [,3] [,4] [,5]\n",
      "A 1798 2005 2226 1768 1975\n",
      "C 2041 2126 2097 2024 2141\n",
      "G 2188 2443 1911 2148 2480\n",
      "T 2137 1590 1930 2224 1568\n",
      "  [,1] [,2] [,3] [,4] [,5]\n",
      "A 1464 1490 1552 1419 1428\n",
      "C 1275 1303 1370 1316 1365\n",
      "G 1362 1497 1461 1355 1532\n",
      "T 1719 1530 1437 1730 1495\n",
      "  [,1] [,2] [,3] [,4] [,5]\n",
      "A 3262 3495 3778 3187 3403\n",
      "C 3316 3429 3467 3340 3506\n",
      "G 3550 3940 3372 3503 4012\n",
      "T 3856 3120 3367 3954 3063\n"
     ]
    }
   ],
   "source": [
    "noncano_sep %>% filter(ORF_type!=\"noncoding\")-> noncano_filtered_sep_based_on_orf_type\n",
    "nrow(noncano_filtered_sep_based_on_orf_type)\n",
    "for (i in 0:2){\n",
    "if(i==0){\n",
    "    prefix=\"noncano\"\n",
    "}else if(i==1){\n",
    "    prefix=\"cano\"\n",
    "}else{\n",
    "    prefix=\"all\"\n",
    "}\n",
    "inte_func(noncano_filtered_sep_based_on_orf_type,\n",
    "        paste0(output_dir,\"noncano_filtered_sep_based_on_orf_type_scodon_kozak/\",prefix,\"/\"),\n",
    "        \"prefix\",\n",
    "        i\n",
    ")\n",
    "}"
   ]
  },
  {
   "cell_type": "code",
   "execution_count": 11,
   "id": "595c61cd",
   "metadata": {
    "ExecuteTime": {
     "end_time": "2025-10-10T13:54:18.886130Z",
     "start_time": "2025-10-10T13:53:36.434Z"
    }
   },
   "outputs": [
    {
     "data": {
      "text/html": [
       "5524"
      ],
      "text/latex": [
       "5524"
      ],
      "text/markdown": [
       "5524"
      ],
      "text/plain": [
       "[1] 5524"
      ]
     },
     "metadata": {},
     "output_type": "display_data"
    },
    {
     "name": "stdout",
     "output_type": "stream",
     "text": [
      "  [,1] [,2] [,3] [,4] [,5]\n",
      "A  698  807  820  704  801\n",
      "C  728  744  755  698  738\n",
      "G  774  853  707  763  868\n",
      "T  833  629  751  868  626\n",
      "  [,1] [,2] [,3] [,4] [,5]\n",
      "A  630  658  653  628  616\n",
      "C  581  596  593  539  575\n",
      "G  532  595  630  562  626\n",
      "T  748  642  615  762  674\n",
      "  [,1] [,2] [,3] [,4] [,5]\n",
      "A 1328 1465 1473 1332 1417\n",
      "C 1309 1340 1348 1237 1313\n",
      "G 1306 1448 1337 1325 1494\n",
      "T 1581 1271 1366 1630 1300\n"
     ]
    }
   ],
   "source": [
    "noncano_sep %>% filter(Run_occurrence>1)-> noncano_filtered_sep_based_on_run_occ\n",
    "nrow(noncano_filtered_sep_based_on_run_occ)\n",
    "for (i in 0:2){\n",
    "if(i==0){\n",
    "    prefix=\"noncano\"\n",
    "}else if(i==1){\n",
    "    prefix=\"cano\"\n",
    "}else{\n",
    "    prefix=\"all\"\n",
    "}\n",
    "inte_func(noncano_filtered_sep_based_on_run_occ,\n",
    "        paste0(output_dir,\"noncano_filtered_sep_based_on_run_occ_scodon_kozak/\",prefix,\"/\"),\n",
    "        \"prefix\",\n",
    "        i\n",
    ")\n",
    "}"
   ]
  },
  {
   "cell_type": "code",
   "execution_count": 12,
   "id": "7f3c2666",
   "metadata": {
    "ExecuteTime": {
     "end_time": "2025-10-10T13:54:18.905241Z",
     "start_time": "2025-10-10T13:53:36.434Z"
    }
   },
   "outputs": [
    {
     "data": {
      "text/html": [
       "<style>\n",
       ".list-inline {list-style: none; margin:0; padding: 0}\n",
       ".list-inline>li {display: inline-block}\n",
       ".list-inline>li:not(:last-child)::after {content: \"\\00b7\"; padding: 0 .5ex}\n",
       "</style>\n",
       "<ol class=list-inline><li>'ORF_id'</li><li>'ORF_type'</li><li>'Start_codon'</li><li>'Isoform_id'</li><li>'Chr'</li><li>'Strand'</li><li>'ORF_seq'</li><li>'ORF_length'</li><li>'Geneid'</li><li>'Isoform_structural_category'</li><li>'Isoform_subcategory'</li><li>'Is_uniprot'</li><li>'Is_canonical'</li><li>'Run_occurrence'</li><li>'RPF_reads'</li><li>'Psites_number'</li><li>'RPF_RPKM'</li><li>'Psites_RPKM'</li><li>'RPF_codon_coverage'</li><li>'Psites_codon_coverage'</li><li>'FL'</li><li>'FL_TPM'</li><li>'N'</li><li>'C'</li><li>'A'</li><li>'Gene_type'</li><li>'Unique_peptide_n'</li><li>'Unique_peptide_n_msfragger_closed'</li><li>'mean_relative_iBAQ'</li><li>'ORF_start'</li><li>'ORF_end'</li><li>'CDS_seq'</li></ol>\n"
      ],
      "text/latex": [
       "\\begin{enumerate*}\n",
       "\\item 'ORF\\_id'\n",
       "\\item 'ORF\\_type'\n",
       "\\item 'Start\\_codon'\n",
       "\\item 'Isoform\\_id'\n",
       "\\item 'Chr'\n",
       "\\item 'Strand'\n",
       "\\item 'ORF\\_seq'\n",
       "\\item 'ORF\\_length'\n",
       "\\item 'Geneid'\n",
       "\\item 'Isoform\\_structural\\_category'\n",
       "\\item 'Isoform\\_subcategory'\n",
       "\\item 'Is\\_uniprot'\n",
       "\\item 'Is\\_canonical'\n",
       "\\item 'Run\\_occurrence'\n",
       "\\item 'RPF\\_reads'\n",
       "\\item 'Psites\\_number'\n",
       "\\item 'RPF\\_RPKM'\n",
       "\\item 'Psites\\_RPKM'\n",
       "\\item 'RPF\\_codon\\_coverage'\n",
       "\\item 'Psites\\_codon\\_coverage'\n",
       "\\item 'FL'\n",
       "\\item 'FL\\_TPM'\n",
       "\\item 'N'\n",
       "\\item 'C'\n",
       "\\item 'A'\n",
       "\\item 'Gene\\_type'\n",
       "\\item 'Unique\\_peptide\\_n'\n",
       "\\item 'Unique\\_peptide\\_n\\_msfragger\\_closed'\n",
       "\\item 'mean\\_relative\\_iBAQ'\n",
       "\\item 'ORF\\_start'\n",
       "\\item 'ORF\\_end'\n",
       "\\item 'CDS\\_seq'\n",
       "\\end{enumerate*}\n"
      ],
      "text/markdown": [
       "1. 'ORF_id'\n",
       "2. 'ORF_type'\n",
       "3. 'Start_codon'\n",
       "4. 'Isoform_id'\n",
       "5. 'Chr'\n",
       "6. 'Strand'\n",
       "7. 'ORF_seq'\n",
       "8. 'ORF_length'\n",
       "9. 'Geneid'\n",
       "10. 'Isoform_structural_category'\n",
       "11. 'Isoform_subcategory'\n",
       "12. 'Is_uniprot'\n",
       "13. 'Is_canonical'\n",
       "14. 'Run_occurrence'\n",
       "15. 'RPF_reads'\n",
       "16. 'Psites_number'\n",
       "17. 'RPF_RPKM'\n",
       "18. 'Psites_RPKM'\n",
       "19. 'RPF_codon_coverage'\n",
       "20. 'Psites_codon_coverage'\n",
       "21. 'FL'\n",
       "22. 'FL_TPM'\n",
       "23. 'N'\n",
       "24. 'C'\n",
       "25. 'A'\n",
       "26. 'Gene_type'\n",
       "27. 'Unique_peptide_n'\n",
       "28. 'Unique_peptide_n_msfragger_closed'\n",
       "29. 'mean_relative_iBAQ'\n",
       "30. 'ORF_start'\n",
       "31. 'ORF_end'\n",
       "32. 'CDS_seq'\n",
       "\n",
       "\n"
      ],
      "text/plain": [
       " [1] \"ORF_id\"                            \"ORF_type\"                         \n",
       " [3] \"Start_codon\"                       \"Isoform_id\"                       \n",
       " [5] \"Chr\"                               \"Strand\"                           \n",
       " [7] \"ORF_seq\"                           \"ORF_length\"                       \n",
       " [9] \"Geneid\"                            \"Isoform_structural_category\"      \n",
       "[11] \"Isoform_subcategory\"               \"Is_uniprot\"                       \n",
       "[13] \"Is_canonical\"                      \"Run_occurrence\"                   \n",
       "[15] \"RPF_reads\"                         \"Psites_number\"                    \n",
       "[17] \"RPF_RPKM\"                          \"Psites_RPKM\"                      \n",
       "[19] \"RPF_codon_coverage\"                \"Psites_codon_coverage\"            \n",
       "[21] \"FL\"                                \"FL_TPM\"                           \n",
       "[23] \"N\"                                 \"C\"                                \n",
       "[25] \"A\"                                 \"Gene_type\"                        \n",
       "[27] \"Unique_peptide_n\"                  \"Unique_peptide_n_msfragger_closed\"\n",
       "[29] \"mean_relative_iBAQ\"                \"ORF_start\"                        \n",
       "[31] \"ORF_end\"                           \"CDS_seq\"                          "
      ]
     },
     "metadata": {},
     "output_type": "display_data"
    }
   ],
   "source": [
    "colnames(noncano_sep)"
   ]
  },
  {
   "cell_type": "markdown",
   "id": "19a276c6",
   "metadata": {},
   "source": [
    "# 过滤后的ORFs是否kozak特征更好"
   ]
  },
  {
   "cell_type": "code",
   "execution_count": null,
   "id": "093b7176",
   "metadata": {},
   "outputs": [],
   "source": [
    "orfs %>% filter(ORF_length<=150) -> df\n",
    "df %>% filter(ORF_type==\"canonical\")  %>% filter(!is.na(ORF_start))-> cano_sep\n",
    "df %>% filter(ORF_type!=\"canonical\") -> noncano_sep\n",
    "nrow(cano_sep)\n",
    "nrow(noncano_sep)"
   ]
  },
  {
   "cell_type": "code",
   "execution_count": null,
   "id": "10e45c86",
   "metadata": {},
   "outputs": [],
   "source": [
    "fread_c(\"../../results/1/peri/psite_frame_stats.v1.tsv\") -> orfs_peri\n",
    "head(orfs_peri,1)\n",
    "fread_c(\"../../results/1/orf_overlap_inframe.txt\") -> orfs_overlap\n",
    "head(orfs_overlap,1)\n",
    "merge(df,orfs_peri) %>% merge(orfs_overlap) -> orfs_1\n",
    "orfs_1 %>% head(1)\n",
    "orfs_1 %>% nrow()\n",
    "filter(orfs_1,inframe_fraction==0 & overlap_fraction==0 & RPF_reads>0) -> orfs_2\n",
    "filter(orfs_1,inframe_fraction==0 & overlap_fraction==0 & total_psites>0 & frame0_fraction>=0.5) -> orfs_3"
   ]
  }
 ],
 "metadata": {
  "kernelspec": {
   "display_name": "R_default_4.2",
   "language": "R",
   "name": "r_default_4.2"
  },
  "language_info": {
   "codemirror_mode": "r",
   "file_extension": ".r",
   "mimetype": "text/x-r-source",
   "name": "R",
   "pygments_lexer": "r",
   "version": "4.2.1"
  },
  "toc": {
   "base_numbering": 1,
   "nav_menu": {},
   "number_sections": true,
   "sideBar": true,
   "skip_h1_title": false,
   "title_cell": "Table of Contents",
   "title_sidebar": "Contents",
   "toc_cell": false,
   "toc_position": {},
   "toc_section_display": true,
   "toc_window_display": false
  }
 },
 "nbformat": 4,
 "nbformat_minor": 5
}
