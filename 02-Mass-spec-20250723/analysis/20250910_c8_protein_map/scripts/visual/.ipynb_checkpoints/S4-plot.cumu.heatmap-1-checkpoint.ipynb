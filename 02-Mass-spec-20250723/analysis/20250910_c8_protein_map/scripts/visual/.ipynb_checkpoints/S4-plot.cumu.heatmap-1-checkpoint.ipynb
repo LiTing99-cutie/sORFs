{
 "cells": [
  {
   "cell_type": "code",
   "execution_count": 1,
   "id": "c12f3bc6",
   "metadata": {
    "ExecuteTime": {
     "end_time": "2025-10-17T09:34:43.036735Z",
     "start_time": "2025-10-17T09:34:41.176Z"
    }
   },
   "outputs": [],
   "source": [
    "source(\"/home/user/data2/lit/bin/lit_utils.R\")\n",
    "source(\"/home/user/data3/lit/project/sORFs/sORFs.utils.R\")\n",
    "lib_text()\n",
    "lib_plot()\n",
    "library(ComplexHeatmap)\n",
    "library(circlize)"
   ]
  },
  {
   "cell_type": "code",
   "execution_count": 13,
   "id": "8a5a9398",
   "metadata": {
    "ExecuteTime": {
     "end_time": "2025-10-17T09:40:33.789829Z",
     "start_time": "2025-10-17T09:40:31.663Z"
    }
   },
   "outputs": [
    {
     "data": {
      "text/html": [
       "<style>\n",
       ".list-inline {list-style: none; margin:0; padding: 0}\n",
       ".list-inline>li {display: inline-block}\n",
       ".list-inline>li:not(:last-child)::after {content: \"\\00b7\"; padding: 0 .5ex}\n",
       "</style>\n",
       "<ol class=list-inline><li>'ORF_id'</li><li>'iBAQ_B'</li><li>'iBAQ_A'</li><li>'Available'</li><li>'TotalIntensity'</li><li>'ORF_type'</li><li>'Start_codon'</li><li>'Isoform_id'</li><li>'Chr'</li><li>'Strand'</li><li>'ORF_seq'</li><li>'ORF_length'</li><li>'Geneid'</li><li>'Isoform_structural_category'</li><li>'Isoform_subcategory'</li><li>'is_uniprot'</li><li>'is_canonical'</li><li>'All_peptide_n'</li><li>'Unique_peptide_n'</li><li>'Theo_peptide_n'</li><li>'Sample'</li></ol>\n"
      ],
      "text/latex": [
       "\\begin{enumerate*}\n",
       "\\item 'ORF\\_id'\n",
       "\\item 'iBAQ\\_B'\n",
       "\\item 'iBAQ\\_A'\n",
       "\\item 'Available'\n",
       "\\item 'TotalIntensity'\n",
       "\\item 'ORF\\_type'\n",
       "\\item 'Start\\_codon'\n",
       "\\item 'Isoform\\_id'\n",
       "\\item 'Chr'\n",
       "\\item 'Strand'\n",
       "\\item 'ORF\\_seq'\n",
       "\\item 'ORF\\_length'\n",
       "\\item 'Geneid'\n",
       "\\item 'Isoform\\_structural\\_category'\n",
       "\\item 'Isoform\\_subcategory'\n",
       "\\item 'is\\_uniprot'\n",
       "\\item 'is\\_canonical'\n",
       "\\item 'All\\_peptide\\_n'\n",
       "\\item 'Unique\\_peptide\\_n'\n",
       "\\item 'Theo\\_peptide\\_n'\n",
       "\\item 'Sample'\n",
       "\\end{enumerate*}\n"
      ],
      "text/markdown": [
       "1. 'ORF_id'\n",
       "2. 'iBAQ_B'\n",
       "3. 'iBAQ_A'\n",
       "4. 'Available'\n",
       "5. 'TotalIntensity'\n",
       "6. 'ORF_type'\n",
       "7. 'Start_codon'\n",
       "8. 'Isoform_id'\n",
       "9. 'Chr'\n",
       "10. 'Strand'\n",
       "11. 'ORF_seq'\n",
       "12. 'ORF_length'\n",
       "13. 'Geneid'\n",
       "14. 'Isoform_structural_category'\n",
       "15. 'Isoform_subcategory'\n",
       "16. 'is_uniprot'\n",
       "17. 'is_canonical'\n",
       "18. 'All_peptide_n'\n",
       "19. 'Unique_peptide_n'\n",
       "20. 'Theo_peptide_n'\n",
       "21. 'Sample'\n",
       "\n",
       "\n"
      ],
      "text/plain": [
       " [1] \"ORF_id\"                      \"iBAQ_B\"                     \n",
       " [3] \"iBAQ_A\"                      \"Available\"                  \n",
       " [5] \"TotalIntensity\"              \"ORF_type\"                   \n",
       " [7] \"Start_codon\"                 \"Isoform_id\"                 \n",
       " [9] \"Chr\"                         \"Strand\"                     \n",
       "[11] \"ORF_seq\"                     \"ORF_length\"                 \n",
       "[13] \"Geneid\"                      \"Isoform_structural_category\"\n",
       "[15] \"Isoform_subcategory\"         \"is_uniprot\"                 \n",
       "[17] \"is_canonical\"                \"All_peptide_n\"              \n",
       "[19] \"Unique_peptide_n\"            \"Theo_peptide_n\"             \n",
       "[21] \"Sample\"                     "
      ]
     },
     "metadata": {},
     "output_type": "display_data"
    },
    {
     "data": {
      "text/html": [
       "<table class=\"dataframe\">\n",
       "<caption>A data.frame: 1 × 21</caption>\n",
       "<thead>\n",
       "\t<tr><th></th><th scope=col>ORF_id</th><th scope=col>iBAQ_B</th><th scope=col>iBAQ_A</th><th scope=col>Available</th><th scope=col>TotalIntensity</th><th scope=col>ORF_type</th><th scope=col>Start_codon</th><th scope=col>Isoform_id</th><th scope=col>Chr</th><th scope=col>Strand</th><th scope=col>⋯</th><th scope=col>ORF_length</th><th scope=col>Geneid</th><th scope=col>Isoform_structural_category</th><th scope=col>Isoform_subcategory</th><th scope=col>is_uniprot</th><th scope=col>is_canonical</th><th scope=col>All_peptide_n</th><th scope=col>Unique_peptide_n</th><th scope=col>Theo_peptide_n</th><th scope=col>Sample</th></tr>\n",
       "\t<tr><th></th><th scope=col>&lt;chr&gt;</th><th scope=col>&lt;dbl&gt;</th><th scope=col>&lt;dbl&gt;</th><th scope=col>&lt;lgl&gt;</th><th scope=col>&lt;dbl&gt;</th><th scope=col>&lt;chr&gt;</th><th scope=col>&lt;chr&gt;</th><th scope=col>&lt;chr&gt;</th><th scope=col>&lt;chr&gt;</th><th scope=col>&lt;chr&gt;</th><th scope=col>⋯</th><th scope=col>&lt;int&gt;</th><th scope=col>&lt;chr&gt;</th><th scope=col>&lt;chr&gt;</th><th scope=col>&lt;chr&gt;</th><th scope=col>&lt;lgl&gt;</th><th scope=col>&lt;lgl&gt;</th><th scope=col>&lt;int&gt;</th><th scope=col>&lt;int&gt;</th><th scope=col>&lt;int&gt;</th><th scope=col>&lt;chr&gt;</th></tr>\n",
       "</thead>\n",
       "<tbody>\n",
       "\t<tr><th scope=row>1</th><td>PB.10027.4:chr12:-|10|1315:112:1117|canonical|ATG</td><td>9794.914</td><td>40388.91</td><td>TRUE</td><td>3271501</td><td>canonical</td><td>ATG</td><td>PB.10027.4</td><td>chr12</td><td>-</td><td>⋯</td><td>334</td><td>LDHB</td><td>full-splice_match</td><td>reference_match</td><td>FALSE</td><td>TRUE</td><td>20</td><td>7</td><td>81</td><td>21pcw_1_3_30K_LC_T</td></tr>\n",
       "</tbody>\n",
       "</table>\n"
      ],
      "text/latex": [
       "A data.frame: 1 × 21\n",
       "\\begin{tabular}{r|lllllllllllllllllllll}\n",
       "  & ORF\\_id & iBAQ\\_B & iBAQ\\_A & Available & TotalIntensity & ORF\\_type & Start\\_codon & Isoform\\_id & Chr & Strand & ⋯ & ORF\\_length & Geneid & Isoform\\_structural\\_category & Isoform\\_subcategory & is\\_uniprot & is\\_canonical & All\\_peptide\\_n & Unique\\_peptide\\_n & Theo\\_peptide\\_n & Sample\\\\\n",
       "  & <chr> & <dbl> & <dbl> & <lgl> & <dbl> & <chr> & <chr> & <chr> & <chr> & <chr> & ⋯ & <int> & <chr> & <chr> & <chr> & <lgl> & <lgl> & <int> & <int> & <int> & <chr>\\\\\n",
       "\\hline\n",
       "\t1 & PB.10027.4:chr12:-\\textbar{}10\\textbar{}1315:112:1117\\textbar{}canonical\\textbar{}ATG & 9794.914 & 40388.91 & TRUE & 3271501 & canonical & ATG & PB.10027.4 & chr12 & - & ⋯ & 334 & LDHB & full-splice\\_match & reference\\_match & FALSE & TRUE & 20 & 7 & 81 & 21pcw\\_1\\_3\\_30K\\_LC\\_T\\\\\n",
       "\\end{tabular}\n"
      ],
      "text/markdown": [
       "\n",
       "A data.frame: 1 × 21\n",
       "\n",
       "| <!--/--> | ORF_id &lt;chr&gt; | iBAQ_B &lt;dbl&gt; | iBAQ_A &lt;dbl&gt; | Available &lt;lgl&gt; | TotalIntensity &lt;dbl&gt; | ORF_type &lt;chr&gt; | Start_codon &lt;chr&gt; | Isoform_id &lt;chr&gt; | Chr &lt;chr&gt; | Strand &lt;chr&gt; | ⋯ ⋯ | ORF_length &lt;int&gt; | Geneid &lt;chr&gt; | Isoform_structural_category &lt;chr&gt; | Isoform_subcategory &lt;chr&gt; | is_uniprot &lt;lgl&gt; | is_canonical &lt;lgl&gt; | All_peptide_n &lt;int&gt; | Unique_peptide_n &lt;int&gt; | Theo_peptide_n &lt;int&gt; | Sample &lt;chr&gt; |\n",
       "|---|---|---|---|---|---|---|---|---|---|---|---|---|---|---|---|---|---|---|---|---|---|\n",
       "| 1 | PB.10027.4:chr12:-|10|1315:112:1117|canonical|ATG | 9794.914 | 40388.91 | TRUE | 3271501 | canonical | ATG | PB.10027.4 | chr12 | - | ⋯ | 334 | LDHB | full-splice_match | reference_match | FALSE | TRUE | 20 | 7 | 81 | 21pcw_1_3_30K_LC_T |\n",
       "\n"
      ],
      "text/plain": [
       "  ORF_id                                            iBAQ_B   iBAQ_A   Available\n",
       "1 PB.10027.4:chr12:-|10|1315:112:1117|canonical|ATG 9794.914 40388.91 TRUE     \n",
       "  TotalIntensity ORF_type  Start_codon Isoform_id Chr   Strand ⋯ ORF_length\n",
       "1 3271501        canonical ATG         PB.10027.4 chr12 -      ⋯ 334       \n",
       "  Geneid Isoform_structural_category Isoform_subcategory is_uniprot\n",
       "1 LDHB   full-splice_match           reference_match     FALSE     \n",
       "  is_canonical All_peptide_n Unique_peptide_n Theo_peptide_n Sample            \n",
       "1 TRUE         20            7                81             21pcw_1_3_30K_LC_T"
      ]
     },
     "metadata": {},
     "output_type": "display_data"
    },
    {
     "data": {
      "text/html": [
       "<table class=\"dataframe\">\n",
       "<caption>A data.frame: 1 × 6</caption>\n",
       "<thead>\n",
       "\t<tr><th></th><th scope=col>Sample</th><th scope=col>Eyzyme</th><th scope=col>Period</th><th scope=col>Enrichment</th><th scope=col>Replicate</th><th scope=col>ms2_count</th></tr>\n",
       "\t<tr><th></th><th scope=col>&lt;chr&gt;</th><th scope=col>&lt;chr&gt;</th><th scope=col>&lt;chr&gt;</th><th scope=col>&lt;chr&gt;</th><th scope=col>&lt;int&gt;</th><th scope=col>&lt;int&gt;</th></tr>\n",
       "</thead>\n",
       "<tbody>\n",
       "\t<tr><th scope=row>1</th><td>21pcw_1_C8_LC_T</td><td>Trypsin_LysC</td><td>21pcw</td><td>C8</td><td>1</td><td>120313</td></tr>\n",
       "</tbody>\n",
       "</table>\n"
      ],
      "text/latex": [
       "A data.frame: 1 × 6\n",
       "\\begin{tabular}{r|llllll}\n",
       "  & Sample & Eyzyme & Period & Enrichment & Replicate & ms2\\_count\\\\\n",
       "  & <chr> & <chr> & <chr> & <chr> & <int> & <int>\\\\\n",
       "\\hline\n",
       "\t1 & 21pcw\\_1\\_C8\\_LC\\_T & Trypsin\\_LysC & 21pcw & C8 & 1 & 120313\\\\\n",
       "\\end{tabular}\n"
      ],
      "text/markdown": [
       "\n",
       "A data.frame: 1 × 6\n",
       "\n",
       "| <!--/--> | Sample &lt;chr&gt; | Eyzyme &lt;chr&gt; | Period &lt;chr&gt; | Enrichment &lt;chr&gt; | Replicate &lt;int&gt; | ms2_count &lt;int&gt; |\n",
       "|---|---|---|---|---|---|---|\n",
       "| 1 | 21pcw_1_C8_LC_T | Trypsin_LysC | 21pcw | C8 | 1 | 120313 |\n",
       "\n"
      ],
      "text/plain": [
       "  Sample          Eyzyme       Period Enrichment Replicate ms2_count\n",
       "1 21pcw_1_C8_LC_T Trypsin_LysC 21pcw  C8         1         120313   "
      ]
     },
     "metadata": {},
     "output_type": "display_data"
    }
   ],
   "source": [
    "orfs_path <- \"../../results/1/all_samples.ibaq_b_with_total.tsv\"\n",
    "sample_metadata_path=\"../../MS_res_from_Galaxy/sample_metadata_ordered.txt\"\n",
    "\n",
    "fread_c(orfs_path) -> orfs\n",
    "colnames(orfs)\n",
    "head(orfs,1)\n",
    "fread_c(sample_metadata_path) -> sample_metadata\n",
    "head(sample_metadata,1)"
   ]
  },
  {
   "cell_type": "code",
   "execution_count": 2,
   "id": "5e0611c0",
   "metadata": {
    "ExecuteTime": {
     "end_time": "2025-10-17T09:34:44.058724Z",
     "start_time": "2025-10-17T09:34:43.620Z"
    }
   },
   "outputs": [],
   "source": [
    "# 函数\n",
    "merge_replicate <- function(df){\n",
    "    # 合并重复\n",
    "    df$Sample_merge_replicate <- gsub(\"21pcw(_1|_2|_3)\", \"21pcw\", df$Sample)\n",
    "    df %>% mutate(Sample=NULL) %>% rename(Sample=Sample_merge_replicate) -> df_1\n",
    "    return(df_1)\n",
    "}"
   ]
  },
  {
   "cell_type": "code",
   "execution_count": 7,
   "id": "d7f5ce7a",
   "metadata": {
    "ExecuteTime": {
     "end_time": "2025-10-17T09:38:37.985038Z",
     "start_time": "2025-10-17T09:38:35.488Z"
    }
   },
   "outputs": [
    {
     "data": {
      "text/html": [
       "<style>\n",
       ".list-inline {list-style: none; margin:0; padding: 0}\n",
       ".list-inline>li {display: inline-block}\n",
       ".list-inline>li:not(:last-child)::after {content: \"\\00b7\"; padding: 0 .5ex}\n",
       "</style>\n",
       "<ol class=list-inline><li>'ORF_id'</li><li>'iBAQ_B'</li><li>'iBAQ_A'</li><li>'Available'</li><li>'TotalIntensity'</li><li>'ORF_type'</li><li>'Start_codon'</li><li>'Isoform_id'</li><li>'Chr'</li><li>'Strand'</li><li>'ORF_seq'</li><li>'ORF_length'</li><li>'Geneid'</li><li>'Isoform_structural_category'</li><li>'Isoform_subcategory'</li><li>'is_uniprot'</li><li>'is_canonical'</li><li>'All_peptide_n'</li><li>'Unique_peptide_n'</li><li>'Theo_peptide_n'</li><li>'Sample'</li></ol>\n"
      ],
      "text/latex": [
       "\\begin{enumerate*}\n",
       "\\item 'ORF\\_id'\n",
       "\\item 'iBAQ\\_B'\n",
       "\\item 'iBAQ\\_A'\n",
       "\\item 'Available'\n",
       "\\item 'TotalIntensity'\n",
       "\\item 'ORF\\_type'\n",
       "\\item 'Start\\_codon'\n",
       "\\item 'Isoform\\_id'\n",
       "\\item 'Chr'\n",
       "\\item 'Strand'\n",
       "\\item 'ORF\\_seq'\n",
       "\\item 'ORF\\_length'\n",
       "\\item 'Geneid'\n",
       "\\item 'Isoform\\_structural\\_category'\n",
       "\\item 'Isoform\\_subcategory'\n",
       "\\item 'is\\_uniprot'\n",
       "\\item 'is\\_canonical'\n",
       "\\item 'All\\_peptide\\_n'\n",
       "\\item 'Unique\\_peptide\\_n'\n",
       "\\item 'Theo\\_peptide\\_n'\n",
       "\\item 'Sample'\n",
       "\\end{enumerate*}\n"
      ],
      "text/markdown": [
       "1. 'ORF_id'\n",
       "2. 'iBAQ_B'\n",
       "3. 'iBAQ_A'\n",
       "4. 'Available'\n",
       "5. 'TotalIntensity'\n",
       "6. 'ORF_type'\n",
       "7. 'Start_codon'\n",
       "8. 'Isoform_id'\n",
       "9. 'Chr'\n",
       "10. 'Strand'\n",
       "11. 'ORF_seq'\n",
       "12. 'ORF_length'\n",
       "13. 'Geneid'\n",
       "14. 'Isoform_structural_category'\n",
       "15. 'Isoform_subcategory'\n",
       "16. 'is_uniprot'\n",
       "17. 'is_canonical'\n",
       "18. 'All_peptide_n'\n",
       "19. 'Unique_peptide_n'\n",
       "20. 'Theo_peptide_n'\n",
       "21. 'Sample'\n",
       "\n",
       "\n"
      ],
      "text/plain": [
       " [1] \"ORF_id\"                      \"iBAQ_B\"                     \n",
       " [3] \"iBAQ_A\"                      \"Available\"                  \n",
       " [5] \"TotalIntensity\"              \"ORF_type\"                   \n",
       " [7] \"Start_codon\"                 \"Isoform_id\"                 \n",
       " [9] \"Chr\"                         \"Strand\"                     \n",
       "[11] \"ORF_seq\"                     \"ORF_length\"                 \n",
       "[13] \"Geneid\"                      \"Isoform_structural_category\"\n",
       "[15] \"Isoform_subcategory\"         \"is_uniprot\"                 \n",
       "[17] \"is_canonical\"                \"All_peptide_n\"              \n",
       "[19] \"Unique_peptide_n\"            \"Theo_peptide_n\"             \n",
       "[21] \"Sample\"                     "
      ]
     },
     "metadata": {},
     "output_type": "display_data"
    },
    {
     "data": {
      "text/html": [
       "<table class=\"dataframe\">\n",
       "<caption>A data.frame: 1 × 21</caption>\n",
       "<thead>\n",
       "\t<tr><th></th><th scope=col>ORF_id</th><th scope=col>iBAQ_B</th><th scope=col>iBAQ_A</th><th scope=col>Available</th><th scope=col>TotalIntensity</th><th scope=col>ORF_type</th><th scope=col>Start_codon</th><th scope=col>Isoform_id</th><th scope=col>Chr</th><th scope=col>Strand</th><th scope=col>⋯</th><th scope=col>ORF_length</th><th scope=col>Geneid</th><th scope=col>Isoform_structural_category</th><th scope=col>Isoform_subcategory</th><th scope=col>is_uniprot</th><th scope=col>is_canonical</th><th scope=col>All_peptide_n</th><th scope=col>Unique_peptide_n</th><th scope=col>Theo_peptide_n</th><th scope=col>Sample</th></tr>\n",
       "\t<tr><th></th><th scope=col>&lt;chr&gt;</th><th scope=col>&lt;dbl&gt;</th><th scope=col>&lt;dbl&gt;</th><th scope=col>&lt;lgl&gt;</th><th scope=col>&lt;dbl&gt;</th><th scope=col>&lt;chr&gt;</th><th scope=col>&lt;chr&gt;</th><th scope=col>&lt;chr&gt;</th><th scope=col>&lt;chr&gt;</th><th scope=col>&lt;chr&gt;</th><th scope=col>⋯</th><th scope=col>&lt;int&gt;</th><th scope=col>&lt;chr&gt;</th><th scope=col>&lt;chr&gt;</th><th scope=col>&lt;chr&gt;</th><th scope=col>&lt;lgl&gt;</th><th scope=col>&lt;lgl&gt;</th><th scope=col>&lt;int&gt;</th><th scope=col>&lt;int&gt;</th><th scope=col>&lt;int&gt;</th><th scope=col>&lt;chr&gt;</th></tr>\n",
       "</thead>\n",
       "<tbody>\n",
       "\t<tr><th scope=row>1</th><td>PB.10027.4:chr12:-|10|1315:112:1117|canonical|ATG</td><td>9794.914</td><td>40388.91</td><td>TRUE</td><td>3271501</td><td>canonical</td><td>ATG</td><td>PB.10027.4</td><td>chr12</td><td>-</td><td>⋯</td><td>334</td><td>LDHB</td><td>full-splice_match</td><td>reference_match</td><td>FALSE</td><td>TRUE</td><td>20</td><td>7</td><td>81</td><td>21pcw_1_3_30K_LC_T</td></tr>\n",
       "</tbody>\n",
       "</table>\n"
      ],
      "text/latex": [
       "A data.frame: 1 × 21\n",
       "\\begin{tabular}{r|lllllllllllllllllllll}\n",
       "  & ORF\\_id & iBAQ\\_B & iBAQ\\_A & Available & TotalIntensity & ORF\\_type & Start\\_codon & Isoform\\_id & Chr & Strand & ⋯ & ORF\\_length & Geneid & Isoform\\_structural\\_category & Isoform\\_subcategory & is\\_uniprot & is\\_canonical & All\\_peptide\\_n & Unique\\_peptide\\_n & Theo\\_peptide\\_n & Sample\\\\\n",
       "  & <chr> & <dbl> & <dbl> & <lgl> & <dbl> & <chr> & <chr> & <chr> & <chr> & <chr> & ⋯ & <int> & <chr> & <chr> & <chr> & <lgl> & <lgl> & <int> & <int> & <int> & <chr>\\\\\n",
       "\\hline\n",
       "\t1 & PB.10027.4:chr12:-\\textbar{}10\\textbar{}1315:112:1117\\textbar{}canonical\\textbar{}ATG & 9794.914 & 40388.91 & TRUE & 3271501 & canonical & ATG & PB.10027.4 & chr12 & - & ⋯ & 334 & LDHB & full-splice\\_match & reference\\_match & FALSE & TRUE & 20 & 7 & 81 & 21pcw\\_1\\_3\\_30K\\_LC\\_T\\\\\n",
       "\\end{tabular}\n"
      ],
      "text/markdown": [
       "\n",
       "A data.frame: 1 × 21\n",
       "\n",
       "| <!--/--> | ORF_id &lt;chr&gt; | iBAQ_B &lt;dbl&gt; | iBAQ_A &lt;dbl&gt; | Available &lt;lgl&gt; | TotalIntensity &lt;dbl&gt; | ORF_type &lt;chr&gt; | Start_codon &lt;chr&gt; | Isoform_id &lt;chr&gt; | Chr &lt;chr&gt; | Strand &lt;chr&gt; | ⋯ ⋯ | ORF_length &lt;int&gt; | Geneid &lt;chr&gt; | Isoform_structural_category &lt;chr&gt; | Isoform_subcategory &lt;chr&gt; | is_uniprot &lt;lgl&gt; | is_canonical &lt;lgl&gt; | All_peptide_n &lt;int&gt; | Unique_peptide_n &lt;int&gt; | Theo_peptide_n &lt;int&gt; | Sample &lt;chr&gt; |\n",
       "|---|---|---|---|---|---|---|---|---|---|---|---|---|---|---|---|---|---|---|---|---|---|\n",
       "| 1 | PB.10027.4:chr12:-|10|1315:112:1117|canonical|ATG | 9794.914 | 40388.91 | TRUE | 3271501 | canonical | ATG | PB.10027.4 | chr12 | - | ⋯ | 334 | LDHB | full-splice_match | reference_match | FALSE | TRUE | 20 | 7 | 81 | 21pcw_1_3_30K_LC_T |\n",
       "\n"
      ],
      "text/plain": [
       "  ORF_id                                            iBAQ_B   iBAQ_A   Available\n",
       "1 PB.10027.4:chr12:-|10|1315:112:1117|canonical|ATG 9794.914 40388.91 TRUE     \n",
       "  TotalIntensity ORF_type  Start_codon Isoform_id Chr   Strand ⋯ ORF_length\n",
       "1 3271501        canonical ATG         PB.10027.4 chr12 -      ⋯ 334       \n",
       "  Geneid Isoform_structural_category Isoform_subcategory is_uniprot\n",
       "1 LDHB   full-splice_match           reference_match     FALSE     \n",
       "  is_canonical All_peptide_n Unique_peptide_n Theo_peptide_n Sample            \n",
       "1 TRUE         20            7                81             21pcw_1_3_30K_LC_T"
      ]
     },
     "metadata": {},
     "output_type": "display_data"
    },
    {
     "data": {
      "text/html": [
       "<table class=\"dataframe\">\n",
       "<caption>A data.frame: 1 × 6</caption>\n",
       "<thead>\n",
       "\t<tr><th></th><th scope=col>Sample</th><th scope=col>Eyzyme</th><th scope=col>Period</th><th scope=col>Enrichment</th><th scope=col>Replicate</th><th scope=col>ms2_count</th></tr>\n",
       "\t<tr><th></th><th scope=col>&lt;chr&gt;</th><th scope=col>&lt;chr&gt;</th><th scope=col>&lt;chr&gt;</th><th scope=col>&lt;chr&gt;</th><th scope=col>&lt;int&gt;</th><th scope=col>&lt;int&gt;</th></tr>\n",
       "</thead>\n",
       "<tbody>\n",
       "\t<tr><th scope=row>1</th><td>21pcw_1_C8_LC_T</td><td>Trypsin_LysC</td><td>21pcw</td><td>C8</td><td>1</td><td>120313</td></tr>\n",
       "</tbody>\n",
       "</table>\n"
      ],
      "text/latex": [
       "A data.frame: 1 × 6\n",
       "\\begin{tabular}{r|llllll}\n",
       "  & Sample & Eyzyme & Period & Enrichment & Replicate & ms2\\_count\\\\\n",
       "  & <chr> & <chr> & <chr> & <chr> & <int> & <int>\\\\\n",
       "\\hline\n",
       "\t1 & 21pcw\\_1\\_C8\\_LC\\_T & Trypsin\\_LysC & 21pcw & C8 & 1 & 120313\\\\\n",
       "\\end{tabular}\n"
      ],
      "text/markdown": [
       "\n",
       "A data.frame: 1 × 6\n",
       "\n",
       "| <!--/--> | Sample &lt;chr&gt; | Eyzyme &lt;chr&gt; | Period &lt;chr&gt; | Enrichment &lt;chr&gt; | Replicate &lt;int&gt; | ms2_count &lt;int&gt; |\n",
       "|---|---|---|---|---|---|---|\n",
       "| 1 | 21pcw_1_C8_LC_T | Trypsin_LysC | 21pcw | C8 | 1 | 120313 |\n",
       "\n"
      ],
      "text/plain": [
       "  Sample          Eyzyme       Period Enrichment Replicate ms2_count\n",
       "1 21pcw_1_C8_LC_T Trypsin_LysC 21pcw  C8         1         120313   "
      ]
     },
     "metadata": {},
     "output_type": "display_data"
    }
   ],
   "source": [
    "# 过滤掉污染\n",
    "orfs %>% filter(!grepl(\"Cont\",ORF_id)) -> orfs\n",
    "orfs %>% rename(Protein=ORF_id) -> orfs\n",
    "# 对ORFs进行过滤，只保留小于等于150aa\n",
    "# orfs %>% filter(ORF_length<=150) -> orfs\n",
    "# 对样本进行过滤\n",
    "sample_metadata %>% filter(Replicate!=4)  %>% filter(Eyzyme!='Null') -> sample_metadata"
   ]
  },
  {
   "cell_type": "code",
   "execution_count": 8,
   "id": "d8bc3d51",
   "metadata": {
    "ExecuteTime": {
     "end_time": "2025-10-17T09:38:44.355002Z",
     "start_time": "2025-10-17T09:38:43.974Z"
    }
   },
   "outputs": [
    {
     "data": {
      "text/html": [
       "41948"
      ],
      "text/latex": [
       "41948"
      ],
      "text/markdown": [
       "41948"
      ],
      "text/plain": [
       "[1] 41948"
      ]
     },
     "metadata": {},
     "output_type": "display_data"
    }
   ],
   "source": [
    "n_distinct(orfs$Protein)"
   ]
  },
  {
   "cell_type": "code",
   "execution_count": 10,
   "id": "eed797ba",
   "metadata": {
    "ExecuteTime": {
     "end_time": "2025-10-17T09:39:16.254612Z",
     "start_time": "2025-10-17T09:39:14.664Z"
    }
   },
   "outputs": [
    {
     "data": {
      "text/html": [
       "169906"
      ],
      "text/latex": [
       "169906"
      ],
      "text/markdown": [
       "169906"
      ],
      "text/plain": [
       "[1] 169906"
      ]
     },
     "metadata": {},
     "output_type": "display_data"
    },
    {
     "data": {
      "text/html": [
       "41948"
      ],
      "text/latex": [
       "41948"
      ],
      "text/markdown": [
       "41948"
      ],
      "text/plain": [
       "[1] 41948"
      ]
     },
     "metadata": {},
     "output_type": "display_data"
    },
    {
     "data": {
      "text/html": [
       "<table class=\"dataframe\">\n",
       "<caption>A data.frame: 1 × 7</caption>\n",
       "<thead>\n",
       "\t<tr><th></th><th scope=col>Sample</th><th scope=col>Protein</th><th scope=col>Eyzyme</th><th scope=col>Period</th><th scope=col>Enrichment</th><th scope=col>Replicate</th><th scope=col>ms2_count</th></tr>\n",
       "\t<tr><th></th><th scope=col>&lt;chr&gt;</th><th scope=col>&lt;chr&gt;</th><th scope=col>&lt;chr&gt;</th><th scope=col>&lt;chr&gt;</th><th scope=col>&lt;chr&gt;</th><th scope=col>&lt;int&gt;</th><th scope=col>&lt;int&gt;</th></tr>\n",
       "</thead>\n",
       "<tbody>\n",
       "\t<tr><th scope=row>1</th><td>21pcw_1_C8_T_T</td><td>PB.10027.4:chr12:-|10|1315:112:1117|canonical|ATG</td><td>Trypsin</td><td>21pcw</td><td>C8</td><td>1</td><td>117437</td></tr>\n",
       "</tbody>\n",
       "</table>\n"
      ],
      "text/latex": [
       "A data.frame: 1 × 7\n",
       "\\begin{tabular}{r|lllllll}\n",
       "  & Sample & Protein & Eyzyme & Period & Enrichment & Replicate & ms2\\_count\\\\\n",
       "  & <chr> & <chr> & <chr> & <chr> & <chr> & <int> & <int>\\\\\n",
       "\\hline\n",
       "\t1 & 21pcw\\_1\\_C8\\_T\\_T & PB.10027.4:chr12:-\\textbar{}10\\textbar{}1315:112:1117\\textbar{}canonical\\textbar{}ATG & Trypsin & 21pcw & C8 & 1 & 117437\\\\\n",
       "\\end{tabular}\n"
      ],
      "text/markdown": [
       "\n",
       "A data.frame: 1 × 7\n",
       "\n",
       "| <!--/--> | Sample &lt;chr&gt; | Protein &lt;chr&gt; | Eyzyme &lt;chr&gt; | Period &lt;chr&gt; | Enrichment &lt;chr&gt; | Replicate &lt;int&gt; | ms2_count &lt;int&gt; |\n",
       "|---|---|---|---|---|---|---|---|\n",
       "| 1 | 21pcw_1_C8_T_T | PB.10027.4:chr12:-|10|1315:112:1117|canonical|ATG | Trypsin | 21pcw | C8 | 1 | 117437 |\n",
       "\n"
      ],
      "text/plain": [
       "  Sample         Protein                                           Eyzyme \n",
       "1 21pcw_1_C8_T_T PB.10027.4:chr12:-|10|1315:112:1117|canonical|ATG Trypsin\n",
       "  Period Enrichment Replicate ms2_count\n",
       "1 21pcw  C8         1         117437   "
      ]
     },
     "metadata": {},
     "output_type": "display_data"
    }
   ],
   "source": [
    "orfs %>% distinct(Protein,Sample) -> all_sample_sep\n",
    "nrow(all_sample_sep)\n",
    "n_distinct(all_sample_sep$Protein)\n",
    "all_sample_sep %>% merge(sample_metadata,by = \"Sample\") -> all_sample_sep_m_meta\n",
    "all_sample_sep_m_meta %>% arrange(Enrichment,Eyzyme,Replicate) -> all_sample_sep_m_meta\n",
    "head(all_sample_sep_m_meta,1)"
   ]
  },
  {
   "cell_type": "code",
   "execution_count": 11,
   "id": "b7e107c0",
   "metadata": {
    "ExecuteTime": {
     "end_time": "2025-10-17T09:39:28.230447Z",
     "start_time": "2025-10-17T09:39:27.575Z"
    }
   },
   "outputs": [
    {
     "data": {
      "text/html": [
       "<table class=\"dataframe\">\n",
       "<caption>A data.frame: 1 × 21</caption>\n",
       "<thead>\n",
       "\t<tr><th></th><th scope=col>Protein</th><th scope=col>iBAQ_B</th><th scope=col>iBAQ_A</th><th scope=col>Available</th><th scope=col>TotalIntensity</th><th scope=col>ORF_type</th><th scope=col>Start_codon</th><th scope=col>Isoform_id</th><th scope=col>Chr</th><th scope=col>Strand</th><th scope=col>⋯</th><th scope=col>ORF_length</th><th scope=col>Geneid</th><th scope=col>Isoform_structural_category</th><th scope=col>Isoform_subcategory</th><th scope=col>is_uniprot</th><th scope=col>is_canonical</th><th scope=col>All_peptide_n</th><th scope=col>Unique_peptide_n</th><th scope=col>Theo_peptide_n</th><th scope=col>Sample</th></tr>\n",
       "\t<tr><th></th><th scope=col>&lt;chr&gt;</th><th scope=col>&lt;dbl&gt;</th><th scope=col>&lt;dbl&gt;</th><th scope=col>&lt;lgl&gt;</th><th scope=col>&lt;dbl&gt;</th><th scope=col>&lt;chr&gt;</th><th scope=col>&lt;chr&gt;</th><th scope=col>&lt;chr&gt;</th><th scope=col>&lt;chr&gt;</th><th scope=col>&lt;chr&gt;</th><th scope=col>⋯</th><th scope=col>&lt;int&gt;</th><th scope=col>&lt;chr&gt;</th><th scope=col>&lt;chr&gt;</th><th scope=col>&lt;chr&gt;</th><th scope=col>&lt;lgl&gt;</th><th scope=col>&lt;lgl&gt;</th><th scope=col>&lt;int&gt;</th><th scope=col>&lt;int&gt;</th><th scope=col>&lt;int&gt;</th><th scope=col>&lt;chr&gt;</th></tr>\n",
       "</thead>\n",
       "<tbody>\n",
       "\t<tr><th scope=row>1</th><td>PB.10027.4:chr12:-|10|1315:112:1117|canonical|ATG</td><td>9794.914</td><td>40388.91</td><td>TRUE</td><td>3271501</td><td>canonical</td><td>ATG</td><td>PB.10027.4</td><td>chr12</td><td>-</td><td>⋯</td><td>334</td><td>LDHB</td><td>full-splice_match</td><td>reference_match</td><td>FALSE</td><td>TRUE</td><td>20</td><td>7</td><td>81</td><td>21pcw_3_30K_LC_T</td></tr>\n",
       "</tbody>\n",
       "</table>\n"
      ],
      "text/latex": [
       "A data.frame: 1 × 21\n",
       "\\begin{tabular}{r|lllllllllllllllllllll}\n",
       "  & Protein & iBAQ\\_B & iBAQ\\_A & Available & TotalIntensity & ORF\\_type & Start\\_codon & Isoform\\_id & Chr & Strand & ⋯ & ORF\\_length & Geneid & Isoform\\_structural\\_category & Isoform\\_subcategory & is\\_uniprot & is\\_canonical & All\\_peptide\\_n & Unique\\_peptide\\_n & Theo\\_peptide\\_n & Sample\\\\\n",
       "  & <chr> & <dbl> & <dbl> & <lgl> & <dbl> & <chr> & <chr> & <chr> & <chr> & <chr> & ⋯ & <int> & <chr> & <chr> & <chr> & <lgl> & <lgl> & <int> & <int> & <int> & <chr>\\\\\n",
       "\\hline\n",
       "\t1 & PB.10027.4:chr12:-\\textbar{}10\\textbar{}1315:112:1117\\textbar{}canonical\\textbar{}ATG & 9794.914 & 40388.91 & TRUE & 3271501 & canonical & ATG & PB.10027.4 & chr12 & - & ⋯ & 334 & LDHB & full-splice\\_match & reference\\_match & FALSE & TRUE & 20 & 7 & 81 & 21pcw\\_3\\_30K\\_LC\\_T\\\\\n",
       "\\end{tabular}\n"
      ],
      "text/markdown": [
       "\n",
       "A data.frame: 1 × 21\n",
       "\n",
       "| <!--/--> | Protein &lt;chr&gt; | iBAQ_B &lt;dbl&gt; | iBAQ_A &lt;dbl&gt; | Available &lt;lgl&gt; | TotalIntensity &lt;dbl&gt; | ORF_type &lt;chr&gt; | Start_codon &lt;chr&gt; | Isoform_id &lt;chr&gt; | Chr &lt;chr&gt; | Strand &lt;chr&gt; | ⋯ ⋯ | ORF_length &lt;int&gt; | Geneid &lt;chr&gt; | Isoform_structural_category &lt;chr&gt; | Isoform_subcategory &lt;chr&gt; | is_uniprot &lt;lgl&gt; | is_canonical &lt;lgl&gt; | All_peptide_n &lt;int&gt; | Unique_peptide_n &lt;int&gt; | Theo_peptide_n &lt;int&gt; | Sample &lt;chr&gt; |\n",
       "|---|---|---|---|---|---|---|---|---|---|---|---|---|---|---|---|---|---|---|---|---|---|\n",
       "| 1 | PB.10027.4:chr12:-|10|1315:112:1117|canonical|ATG | 9794.914 | 40388.91 | TRUE | 3271501 | canonical | ATG | PB.10027.4 | chr12 | - | ⋯ | 334 | LDHB | full-splice_match | reference_match | FALSE | TRUE | 20 | 7 | 81 | 21pcw_3_30K_LC_T |\n",
       "\n"
      ],
      "text/plain": [
       "  Protein                                           iBAQ_B   iBAQ_A   Available\n",
       "1 PB.10027.4:chr12:-|10|1315:112:1117|canonical|ATG 9794.914 40388.91 TRUE     \n",
       "  TotalIntensity ORF_type  Start_codon Isoform_id Chr   Strand ⋯ ORF_length\n",
       "1 3271501        canonical ATG         PB.10027.4 chr12 -      ⋯ 334       \n",
       "  Geneid Isoform_structural_category Isoform_subcategory is_uniprot\n",
       "1 LDHB   full-splice_match           reference_match     FALSE     \n",
       "  is_canonical All_peptide_n Unique_peptide_n Theo_peptide_n Sample          \n",
       "1 TRUE         20            7                81             21pcw_3_30K_LC_T"
      ]
     },
     "metadata": {},
     "output_type": "display_data"
    }
   ],
   "source": [
    "merge_replicate(orfs) -> df\n",
    "head(df,1)"
   ]
  },
  {
   "cell_type": "markdown",
   "id": "aa3991ec",
   "metadata": {},
   "source": [
    "# 饱和曲线图"
   ]
  },
  {
   "cell_type": "code",
   "execution_count": 18,
   "id": "f283c74f",
   "metadata": {
    "ExecuteTime": {
     "end_time": "2025-10-17T09:43:05.669904Z",
     "start_time": "2025-10-17T09:43:04.412Z"
    }
   },
   "outputs": [],
   "source": [
    "output_path <- \"../../figures/1\"\n",
    "##### Saturation Plot #####\n",
    "set.seed(1234)\n",
    "# sample_order <- sample(sample_metadata$Sample)\n",
    "# sample_order <- sample_metadata %>% arrange(Enrichment,Eyzyme,Replicate) %>% .$Sample\n",
    "sample_order <- merge_replicate(all_sample_sep_m_meta) %>% .$Sample %>% unique() %>% sample()\n",
    "# 1. 蛋白累积分析（带柱状图）\n",
    "res_protein <- cumu_combo_plot(\n",
    "  df = df,\n",
    "  sample_order = sample_order,\n",
    "  target_col = \"Protein\",\n",
    "  show_bar = TRUE\n",
    ")\n",
    "ggsave(res_protein$version_sampleNum,filename=o(\"cumu_pro_sample_n.pdf\"),height = 5,width = 18)\n",
    "ggsave(res_protein$version_sampleName,filename=o(\"cumu_pro_sample_name.pdf\"),height = 5,width = 18)"
   ]
  },
  {
   "cell_type": "markdown",
   "id": "45eaa078",
   "metadata": {},
   "source": [
    "# 被不同技术重复支持的次数"
   ]
  },
  {
   "cell_type": "code",
   "execution_count": 19,
   "id": "bc7c0d59",
   "metadata": {
    "ExecuteTime": {
     "end_time": "2025-10-17T09:43:48.613398Z",
     "start_time": "2025-10-17T09:43:45.281Z"
    }
   },
   "outputs": [
    {
     "data": {
      "text/html": [
       "7736"
      ],
      "text/latex": [
       "7736"
      ],
      "text/markdown": [
       "7736"
      ],
      "text/plain": [
       "[1] 7736"
      ]
     },
     "metadata": {},
     "output_type": "display_data"
    },
    {
     "data": {
      "text/html": [
       "34212"
      ],
      "text/latex": [
       "34212"
      ],
      "text/markdown": [
       "34212"
      ],
      "text/plain": [
       "[1] 34212"
      ]
     },
     "metadata": {},
     "output_type": "display_data"
    },
    {
     "name": "stderr",
     "output_type": "stream",
     "text": [
      "\u001b[1m\u001b[22mStoring counts in `nn`, as `n` already present in input\n",
      "\u001b[36mℹ\u001b[39m Use `name = \"new_name\"` to pick a new name.\n",
      "\u001b[1m\u001b[22mStoring counts in `nn`, as `n` already present in input\n",
      "\u001b[36mℹ\u001b[39m Use `name = \"new_name\"` to pick a new name.\n"
     ]
    }
   ],
   "source": [
    "cus_plot <- function(df){\n",
    "    # 查看蛋白在一种富集方法一种酶切方法中重复被检测到的次数\n",
    "    count(df,Protein,Eyzyme,Enrichment) %>% \n",
    "    group_by(Eyzyme,Enrichment) %>% \n",
    "    count(n) -> df_1\n",
    "    library(ggplot2)\n",
    "    ggplot(df_1, aes(x=factor(n), y=nn, fill=Eyzyme)) +\n",
    "    geom_bar(stat='identity', position='dodge') +\n",
    "      scale_fill_brewer(palette = \"Set3\") +\n",
    "    facet_wrap(~Enrichment) +\n",
    "    labs(x='Number of technical replicates (same enrichment & digestion condition)\\nsupporting protein existence', y='Frequency')+\n",
    "    theme_3() -> p\n",
    "    return(p)\n",
    "}\n",
    "all_sample_sep_m_meta %>% filter(grepl(\"^sp\",Protein) |grepl(\"canonical\",Protein)) -> all_sample_sep_m_meta_cano\n",
    "n_distinct(all_sample_sep_m_meta_cano$Protein)\n",
    "all_sample_sep_m_meta %>% filter(grepl(\"^PB\",Protein) & !grepl(\"canonical\",Protein))  -> all_sample_sep_m_meta_uncano\n",
    "n_distinct(all_sample_sep_m_meta_uncano$Protein)\n",
    "cus_plot(all_sample_sep_m_meta_cano) -> p\n",
    "ggsave(p,filename=o(\"enrichmen_enzyme_tech_replicate_n_cano_protein.pdf\"),height = 5,width = 8)\n",
    "cus_plot(all_sample_sep_m_meta_uncano) -> p\n",
    "ggsave(p,filename=o(\"enrichmen_enzyme_tech_replicate_n_uncano_protein.pdf\"),height = 5,width = 8)"
   ]
  },
  {
   "cell_type": "markdown",
   "id": "5525daf4",
   "metadata": {},
   "source": [
    "# 热图"
   ]
  },
  {
   "cell_type": "code",
   "execution_count": 20,
   "id": "5d59a46d",
   "metadata": {
    "ExecuteTime": {
     "end_time": "2025-10-17T09:44:52.944315Z",
     "start_time": "2025-10-17T09:44:49.566Z"
    }
   },
   "outputs": [],
   "source": [
    "merge_replicate <- function(df){\n",
    "    # 合并重复\n",
    "    df$Sample_merge_replicate <- gsub(\"21pcw(_1|_2|_3)\", \"21pcw\", df$Sample)\n",
    "    distinct(df,Protein,Sample_merge_replicate,Eyzyme,Enrichment) -> df_1\n",
    "    df_1 %>% rename(Sample=Sample_merge_replicate) -> df_2\n",
    "    return(df_2)\n",
    "}\n",
    "define_type <- function(x){\n",
    "    return(if_else(grepl(\"^sp\",x) |grepl(\"canonical\",x),\"Cano\",\"Uncano\"))\n",
    "}\n",
    "\n",
    "df <- merge_replicate(all_sample_sep_m_meta)\n",
    "protein_stats <- df %>%\n",
    "  group_by(Protein) %>%\n",
    "  summarise(\n",
    "    Unique_Methods = n_distinct(Enrichment),  # 被多少种不同富集方法鉴定到\n",
    "    Total_Observations = n(),                 # 被鉴定到的总次数\n",
    "    Supported_Enrichments = paste(sort(unique(Enrichment)), collapse = \", \")  # 支持的富集方法（去重后逗号分隔）\n",
    "  )\n",
    "protein_stats$Unique_Methods <- as.character(protein_stats$Unique_Methods)\n",
    "protein_stats$Unique_Methods <- factor(protein_stats$Unique_Methods,levels=c('4','3','2','1'))\n",
    "protein_stats$Type <- factor(define_type(protein_stats$Protein),levels = c(\"Cano\",\"Uncano\"))\n",
    "protein_stats %>% arrange(Type,Unique_Methods, Supported_Enrichments,desc(Total_Observations)) -> protein_stats"
   ]
  },
  {
   "cell_type": "code",
   "execution_count": null,
   "id": "2ef77b67",
   "metadata": {
    "ExecuteTime": {
     "start_time": "2025-10-17T09:45:17.307Z"
    },
    "scrolled": false
   },
   "outputs": [
    {
     "name": "stderr",
     "output_type": "stream",
     "text": [
      "Loading required package: grid\n",
      "\n",
      "========================================\n",
      "ComplexHeatmap version 2.14.0\n",
      "Bioconductor page: http://bioconductor.org/packages/ComplexHeatmap/\n",
      "Github page: https://github.com/jokergoo/ComplexHeatmap\n",
      "Documentation: http://jokergoo.github.io/ComplexHeatmap-reference\n",
      "\n",
      "If you use it in published research, please cite either one:\n",
      "- Gu, Z. Complex Heatmap Visualization. iMeta 2022.\n",
      "- Gu, Z. Complex heatmaps reveal patterns and correlations in multidimensional \n",
      "    genomic data. Bioinformatics 2016.\n",
      "\n",
      "\n",
      "The new InteractiveComplexHeatmap package can directly export static \n",
      "complex heatmaps into an interactive Shiny app with zero effort. Have a try!\n",
      "\n",
      "This message can be suppressed by:\n",
      "  suppressPackageStartupMessages(library(ComplexHeatmap))\n",
      "========================================\n",
      "! pheatmap() has been masked by ComplexHeatmap::pheatmap(). Most of the arguments\n",
      "   in the original pheatmap() are identically supported in the new function. You \n",
      "   can still use the original function by explicitly calling pheatmap::pheatmap().\n",
      "\n",
      "\n",
      "\n",
      "Attaching package: ‘ComplexHeatmap’\n",
      "\n",
      "\n",
      "The following object is masked from ‘package:pheatmap’:\n",
      "\n",
      "    pheatmap\n",
      "\n",
      "\n",
      "========================================\n",
      "circlize version 0.4.16\n",
      "CRAN page: https://cran.r-project.org/package=circlize\n",
      "Github page: https://github.com/jokergoo/circlize\n",
      "Documentation: https://jokergoo.github.io/circlize_book/book/\n",
      "\n",
      "If you use it in published research, please cite:\n",
      "Gu, Z. circlize implements and enhances circular visualization\n",
      "  in R. Bioinformatics 2014.\n",
      "\n",
      "This message can be suppressed by:\n",
      "  suppressPackageStartupMessages(library(circlize))\n",
      "========================================\n",
      "\n",
      "\n",
      "Warning message in brewer.pal(length(unique(protein_stats$Type)), \"Set3\"):\n",
      "“minimal value for n is 3, returning requested palette with 3 different levels\n",
      "”\n"
     ]
    }
   ],
   "source": [
    "library(ComplexHeatmap)\n",
    "library(circlize)\n",
    "# Create a binary detection matrix\n",
    "binary_matrix_tmp <- df %>%\n",
    "  mutate(present = 1) %>%\n",
    "  select(Sample, Protein, present) %>%\n",
    "  pivot_wider(names_from = Sample, values_from = present, values_fill = 0) %>%\n",
    "  column_to_rownames(\"Protein\") %>%\n",
    "  as.matrix()\n",
    "# 按照特定顺序排序\n",
    "binary_matrix_tmp[protein_stats$Protein,] -> binary_matrix\n",
    "# Calculate detection frequency for each protein\n",
    "detection_freq <- rowSums(binary_matrix)\n",
    "detection_number <- colSums(binary_matrix)\n",
    "\n",
    "# Get unique sample annotations\n",
    "sample_annot <- df %>%\n",
    "  select(Sample,Enrichment,Eyzyme) %>%\n",
    "  distinct() %>%\n",
    "  column_to_rownames(\"Sample\")\n",
    "\n",
    "# Define colors for annotations\n",
    "enzyme_colors <- setNames(brewer.pal(length(unique(sample_annot$Eyzyme)), \"Set1\"), \n",
    "                          unique(sample_annot$Eyzyme))\n",
    "enrichment_colors <- setNames(brewer.pal(length(unique(sample_annot$Enrichment)), \"Set2\"), \n",
    "                              unique(sample_annot$Enrichment))\n",
    "# Create column annotations\n",
    "col_ha <- HeatmapAnnotation(\n",
    "  df = sample_annot,\n",
    "  col = list(\n",
    "    Eyzyme = enzyme_colors,\n",
    "    Enrichment = enrichment_colors\n",
    "  ),\n",
    "  annotation_name_side = \"left\"\n",
    ")\n",
    "\n",
    "# Create row annotation for detection frequency\n",
    "row_ha <- rowAnnotation(\n",
    "  \"Detection Frequency\" = anno_barplot(detection_freq, \n",
    "                                       bar_width = 0.8,\n",
    "                                       gp = gpar(fill = \"steelblue\",col=NULL))\n",
    ")\n",
    "col_ha_1 <- columnAnnotation(\n",
    "  \"Detection Number\" = anno_barplot(detection_number, \n",
    "                                       bar_width = 0.8,\n",
    "                                       gp = gpar(fill = \"steelblue\",col=NULL))\n",
    ")\n",
    "\n",
    "# Define colors for annotations\n",
    "type_colors <- setNames(brewer.pal(length(unique(protein_stats$Type)), \"Set3\"), \n",
    "                          unique(protein_stats$Type))\n",
    "method_colors <- setNames(brewer.pal(length(unique(protein_stats$Unique_Methods)), \"Dark2\"), \n",
    "                              unique(protein_stats$Unique_Methods))\n",
    "protein_stats[,c(\"Type\",\"Unique_Methods\")]  %>% as.data.frame() -> row_anno\n",
    "rownames(row_anno) <- protein_stats$Protein\n",
    "# Create column annotations\n",
    "row_ha_1 <- rowAnnotation(\n",
    "  df = row_anno,\n",
    "  col = list(\n",
    "    Type = type_colors[1:2],\n",
    "    Unique_Methods = method_colors\n",
    "  ),\n",
    "  annotation_name_side = \"bottom\"\n",
    ")\n",
    "\n",
    "column_split <- factor(\n",
    "  sample_annot$Enrichment, \n",
    "  levels = unique(sample_annot$Enrichment) \n",
    ")\n",
    "groups <- paste0(protein_stats$Type,\"-\",protein_stats$Unique_Methods)\n",
    "row_split <- factor(\n",
    "    groups, \n",
    "    levels = unique(groups)\n",
    ")\n",
    "\n",
    "options(repr.plot.width = 10, repr.plot.height = 10)\n",
    "ht <- Heatmap(\n",
    "    binary_matrix,\n",
    "    name = \"Detection\",\n",
    "    col = c(\"white\", \"black\"),\n",
    "    cluster_columns = FALSE,\n",
    "    clustering_distance_columns=\"binary\",\n",
    "    cluster_rows = FALSE,\n",
    "    row_title=NULL,\n",
    "    show_row_names = FALSE,\n",
    "    show_column_names = FALSE,\n",
    "    top_annotation = col_ha,\n",
    "    right_annotation = row_ha,\n",
    "    left_annotation = row_ha_1,\n",
    "    bottom_annotation = col_ha_1,\n",
    "    column_split = column_split,\n",
    "    row_split = row_split,\n",
    "    heatmap_legend_param = list(\n",
    "        at = c(0, 1),\n",
    "        labels = c(\"Not detected\", \"Detected\")\n",
    "    ),\n",
    "    use_raster = FALSE,\n",
    "    # 添加虚线分隔\n",
    "    row_gap = unit(2, \"mm\"),\n",
    "    column_gap = unit(2, \"mm\"),\n",
    "    border_gp = gpar(lty = \"dashed\", col = \"grey50\")  # 替代方法\n",
    ")\n",
    "ht\n",
    "\n",
    "# Draw the heatmap\n",
    "# 1. 打开 PDF 设备，设置文件名和尺寸（单位：英寸）\n",
    "pdf(o(\"protein_detection_heatmap.pdf\"), width = 12, height = 12)\n",
    "# 2. 绘制热图（假设 `ht` 是你的 Heatmap 对象）\n",
    "draw(ht)\n",
    "# 3. 关闭设备，保存文件\n",
    "dev.off()\n",
    "\n",
    "# 自动生成2x2列联表\n",
    "library(dplyr)\n",
    "\n",
    "# 创建分组变量\n",
    "protein_stats_grouped <- protein_stats %>%\n",
    "  mutate(\n",
    "    Group = case_when(\n",
    "      Unique_Methods == \"1\" ~ \"Unique_Methods=1\",\n",
    "      Unique_Methods %in% c(\"2\", \"3\", \"4\") ~ \"Unique_Methods>1\"\n",
    "    )\n",
    "  )\n",
    "\n",
    "# 生成列联表\n",
    "contingency_table <- table(protein_stats_grouped$Group, protein_stats_grouped$Type)\n",
    "print(\"2x2列联表:\")\n",
    "print(contingency_table)\n",
    "\n",
    "# 进行卡方检验\n",
    "chi_test <- chisq.test(contingency_table)\n",
    "print(\"\\n卡方检验结果:\")\n",
    "print(chi_test)\n",
    "\n",
    "# 检查期望频数\n",
    "print(\"\\n期望频数:\")\n",
    "print(chi_test$expected)\n",
    "\n",
    "# 如果期望频数<5，使用Fisher精确检验\n",
    "if(any(chi_test$expected < 5)) {\n",
    "  print(\"\\n期望频数<5，使用Fisher精确检验:\")\n",
    "  fisher_test <- fisher.test(contingency_table)\n",
    "  print(fisher_test)\n",
    "}"
   ]
  },
  {
   "cell_type": "code",
   "execution_count": 14,
   "id": "71060b01",
   "metadata": {
    "ExecuteTime": {
     "end_time": "2025-09-20T06:47:39.258001Z",
     "start_time": "2025-09-20T06:47:19.057Z"
    }
   },
   "outputs": [
    {
     "data": {
      "text/html": [
       "<style>\n",
       ".list-inline {list-style: none; margin:0; padding: 0}\n",
       ".list-inline>li {display: inline-block}\n",
       ".list-inline>li:not(:last-child)::after {content: \"\\00b7\"; padding: 0 .5ex}\n",
       "</style>\n",
       "<ol class=list-inline><li>'Protein'</li><li>'Unique_Methods'</li><li>'Total_Observations'</li><li>'Supported_Enrichments'</li><li>'Type'</li><li>'Group'</li></ol>\n"
      ],
      "text/latex": [
       "\\begin{enumerate*}\n",
       "\\item 'Protein'\n",
       "\\item 'Unique\\_Methods'\n",
       "\\item 'Total\\_Observations'\n",
       "\\item 'Supported\\_Enrichments'\n",
       "\\item 'Type'\n",
       "\\item 'Group'\n",
       "\\end{enumerate*}\n"
      ],
      "text/markdown": [
       "1. 'Protein'\n",
       "2. 'Unique_Methods'\n",
       "3. 'Total_Observations'\n",
       "4. 'Supported_Enrichments'\n",
       "5. 'Type'\n",
       "6. 'Group'\n",
       "\n",
       "\n"
      ],
      "text/plain": [
       "[1] \"Protein\"               \"Unique_Methods\"        \"Total_Observations\"   \n",
       "[4] \"Supported_Enrichments\" \"Type\"                  \"Group\"                "
      ]
     },
     "metadata": {},
     "output_type": "display_data"
    },
    {
     "name": "stderr",
     "output_type": "stream",
     "text": [
      "\u001b[1m\u001b[22m`summarise()` has grouped output by 'Type'. You can override using the\n",
      "`.groups` argument.\n"
     ]
    },
    {
     "data": {
      "text/html": [
       "<table class=\"dataframe\">\n",
       "<caption>A grouped_df: 8 × 3</caption>\n",
       "<thead>\n",
       "\t<tr><th scope=col>Type</th><th scope=col>Unique_Methods</th><th scope=col>n</th></tr>\n",
       "\t<tr><th scope=col>&lt;fct&gt;</th><th scope=col>&lt;fct&gt;</th><th scope=col>&lt;int&gt;</th></tr>\n",
       "</thead>\n",
       "<tbody>\n",
       "\t<tr><td>Cano  </td><td>4</td><td>  182</td></tr>\n",
       "\t<tr><td>Cano  </td><td>3</td><td>  129</td></tr>\n",
       "\t<tr><td>Cano  </td><td>2</td><td>  142</td></tr>\n",
       "\t<tr><td>Cano  </td><td>1</td><td>  369</td></tr>\n",
       "\t<tr><td>Uncano</td><td>4</td><td>   27</td></tr>\n",
       "\t<tr><td>Uncano</td><td>3</td><td>  145</td></tr>\n",
       "\t<tr><td>Uncano</td><td>2</td><td> 1004</td></tr>\n",
       "\t<tr><td>Uncano</td><td>1</td><td>15220</td></tr>\n",
       "</tbody>\n",
       "</table>\n"
      ],
      "text/latex": [
       "A grouped\\_df: 8 × 3\n",
       "\\begin{tabular}{lll}\n",
       " Type & Unique\\_Methods & n\\\\\n",
       " <fct> & <fct> & <int>\\\\\n",
       "\\hline\n",
       "\t Cano   & 4 &   182\\\\\n",
       "\t Cano   & 3 &   129\\\\\n",
       "\t Cano   & 2 &   142\\\\\n",
       "\t Cano   & 1 &   369\\\\\n",
       "\t Uncano & 4 &    27\\\\\n",
       "\t Uncano & 3 &   145\\\\\n",
       "\t Uncano & 2 &  1004\\\\\n",
       "\t Uncano & 1 & 15220\\\\\n",
       "\\end{tabular}\n"
      ],
      "text/markdown": [
       "\n",
       "A grouped_df: 8 × 3\n",
       "\n",
       "| Type &lt;fct&gt; | Unique_Methods &lt;fct&gt; | n &lt;int&gt; |\n",
       "|---|---|---|\n",
       "| Cano   | 4 |   182 |\n",
       "| Cano   | 3 |   129 |\n",
       "| Cano   | 2 |   142 |\n",
       "| Cano   | 1 |   369 |\n",
       "| Uncano | 4 |    27 |\n",
       "| Uncano | 3 |   145 |\n",
       "| Uncano | 2 |  1004 |\n",
       "| Uncano | 1 | 15220 |\n",
       "\n"
      ],
      "text/plain": [
       "  Type   Unique_Methods n    \n",
       "1 Cano   4                182\n",
       "2 Cano   3                129\n",
       "3 Cano   2                142\n",
       "4 Cano   1                369\n",
       "5 Uncano 4                 27\n",
       "6 Uncano 3                145\n",
       "7 Uncano 2               1004\n",
       "8 Uncano 1              15220"
      ]
     },
     "metadata": {},
     "output_type": "display_data"
    }
   ],
   "source": [
    "colnames(protein_stats_grouped)\n",
    "protein_stats_grouped %>% group_by(Type,Unique_Methods) %>% summarise(n=n())"
   ]
  }
 ],
 "metadata": {
  "kernelspec": {
   "display_name": "R_default_4.2",
   "language": "R",
   "name": "r_default_4.2"
  },
  "language_info": {
   "codemirror_mode": "r",
   "file_extension": ".r",
   "mimetype": "text/x-r-source",
   "name": "R",
   "pygments_lexer": "r",
   "version": "4.2.1"
  },
  "toc": {
   "base_numbering": 1,
   "nav_menu": {},
   "number_sections": true,
   "sideBar": true,
   "skip_h1_title": false,
   "title_cell": "Table of Contents",
   "title_sidebar": "Contents",
   "toc_cell": false,
   "toc_position": {
    "height": "calc(100% - 180px)",
    "left": "10px",
    "top": "150px",
    "width": "165px"
   },
   "toc_section_display": true,
   "toc_window_display": true
  }
 },
 "nbformat": 4,
 "nbformat_minor": 5
}
