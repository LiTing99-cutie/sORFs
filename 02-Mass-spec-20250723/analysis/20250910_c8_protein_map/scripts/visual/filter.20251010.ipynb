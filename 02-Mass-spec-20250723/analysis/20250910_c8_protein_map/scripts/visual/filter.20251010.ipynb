{
 "cells": [
  {
   "cell_type": "code",
   "execution_count": 15,
   "id": "422dc3b3",
   "metadata": {
    "ExecuteTime": {
     "end_time": "2025-10-18T03:04:40.460993Z",
     "start_time": "2025-10-18T03:04:40.072Z"
    }
   },
   "outputs": [],
   "source": [
    "source(\"/home/user/data2/lit/bin/lit_utils.R\")\n",
    "source(\"/home/user/data3/lit/project/sORFs/sORFs.utils.R\")\n",
    "lib_text()\n",
    "lib_plot()"
   ]
  },
  {
   "cell_type": "markdown",
   "id": "97d13cdc",
   "metadata": {},
   "source": [
    "# 在质谱集合的基础上，增加frame0的比例、与其他CDS区域重叠的比例、de novo信息以及ribo-seq鉴定信息"
   ]
  },
  {
   "cell_type": "code",
   "execution_count": 2,
   "id": "f44e6fd0",
   "metadata": {
    "ExecuteTime": {
     "end_time": "2025-10-17T09:36:26.318142Z",
     "start_time": "2025-10-17T09:36:22.950Z"
    }
   },
   "outputs": [
    {
     "data": {
      "text/html": [
       "<table class=\"dataframe\">\n",
       "<caption>A data.frame: 1 × 32</caption>\n",
       "<thead>\n",
       "\t<tr><th></th><th scope=col>ORF_id</th><th scope=col>ORF_type</th><th scope=col>Start_codon</th><th scope=col>Isoform_id</th><th scope=col>Chr</th><th scope=col>Strand</th><th scope=col>ORF_seq</th><th scope=col>ORF_length</th><th scope=col>Geneid</th><th scope=col>Isoform_structural_category</th><th scope=col>⋯</th><th scope=col>N</th><th scope=col>C</th><th scope=col>A</th><th scope=col>Gene_type</th><th scope=col>Unique_peptide_n</th><th scope=col>Unique_peptide_n_msfragger_closed</th><th scope=col>mean_relative_iBAQ</th><th scope=col>ORF_start</th><th scope=col>ORF_end</th><th scope=col>CDS_seq</th></tr>\n",
       "\t<tr><th></th><th scope=col>&lt;chr&gt;</th><th scope=col>&lt;chr&gt;</th><th scope=col>&lt;chr&gt;</th><th scope=col>&lt;chr&gt;</th><th scope=col>&lt;chr&gt;</th><th scope=col>&lt;chr&gt;</th><th scope=col>&lt;chr&gt;</th><th scope=col>&lt;int&gt;</th><th scope=col>&lt;chr&gt;</th><th scope=col>&lt;chr&gt;</th><th scope=col>⋯</th><th scope=col>&lt;dbl&gt;</th><th scope=col>&lt;dbl&gt;</th><th scope=col>&lt;dbl&gt;</th><th scope=col>&lt;chr&gt;</th><th scope=col>&lt;int&gt;</th><th scope=col>&lt;int&gt;</th><th scope=col>&lt;dbl&gt;</th><th scope=col>&lt;int&gt;</th><th scope=col>&lt;int&gt;</th><th scope=col>&lt;chr&gt;</th></tr>\n",
       "</thead>\n",
       "<tbody>\n",
       "\t<tr><th scope=row>1</th><td>PB.10027.4:chr12:-|10|1315:112:1117|canonical|ATG</td><td>canonical</td><td>ATG</td><td>PB.10027.4</td><td>chr12</td><td>-</td><td>MATLKEKLIAPVAEEEATVPNNKITVVGVGQVGMACAISILGKSLADELALVDVLEDKLKGEMMDLQHGSLFLQTPKIVADKDYSVTANSKIVVVTAGVRQQEGESRLNLVQRNVNVFKFIIPQIVKYSPDCIIIVVSNPVDILTYVTWKLSGLPKHRVIGSGCNLDSARFRYLMAEKLGIHPSSCHGWILGEHGDSSVAVWSGVNVAGVSLQELNPEMGTDNDSENWKEVHKMVVESAYEVIKLKGYTNWAIGLSVADLIESMLKNLSRIHPVSTMVKGMYGIENEVFLSLPCILNARGLTSVINQKLKDDEVAQLKKSADTLWDIQKDLKDL</td><td>334</td><td>LDHB</td><td>full-splice_match</td><td>⋯</td><td>0.3650371</td><td>0.06854658</td><td>0.2167918</td><td>protein_coding</td><td>51</td><td>34</td><td>0.0007624541</td><td>21635541</td><td>21654671</td><td>ATGGCAACTCTTAAGGAAAAACTCATTGCACCAGTTGCGGAAGAAGAGGCAACAGTTCCAAACAATAAGATCACTGTAGTGGGTGTTGGACAAGTTGGTATGGCGTGTGCTATCAGCATTCTGGGAAAGTCTCTGGCTGATGAACTTGCTCTTGTGGATGTTTTGGAAGATAAGCTTAAAGGAGAAATGATGGATCTGCAGCATGGGAGCTTATTTCTTCAGACACCTAAAATTGTGGCAGATAAAGATTATTCTGTGACCGCCAATTCTAAGATTGTAGTGGTAACTGCAGGAGTCCGTCAGCAAGAAGGGGAGAGTCGGCTCAATCTGGTGCAGAGAAATGTTAATGTCTTCAAATTCATTATTCCTCAGATCGTCAAGTACAGTCCTGATTGCATCATAATTGTGGTTTCCAACCCAGTGGACATTCTTACGTATGTTACCTGGAAACTAAGTGGATTACCCAAACACCGCGTGATTGGAAGTGGATGTAATCTGGATTCTGCTAGATTTCGCTACCTTATGGCTGAAAAACTTGGCATTCATCCCAGCAGCTGCCATGGATGGATTTTGGGGGAACATGGCGACTCAAGTGTGGCTGTGTGGAGTGGTGTGAATGTGGCAGGTGTTTCTCTCCAGGAATTGAATCCAGAAATGGGAACTGACAATGATAGTGAAAATTGGAAGGAAGTGCATAAGATGGTGGTTGAAAGTGCCTATGAAGTCATCAAGCTAAAAGGATATACCAACTGGGCTATTGGATTAAGTGTGGCTGATCTTATTGAATCCATGTTGAAAAATCTATCCAGGATTCATCCCGTGTCAACAATGGTAAAGGGGATGTATGGCATTGAGAATGAAGTCTTCCTGAGCCTTCCATGTATCCTCAATGCCCGGGGATTAACCAGCGTTATCAACCAGAAGCTAAAGGATGATGAGGTTGCTCAGCTCAAGAAAAGTGCAGATACCCTGTGGGACATCCAGAAGGACCTAAAAGACCTG</td></tr>\n",
       "</tbody>\n",
       "</table>\n"
      ],
      "text/latex": [
       "A data.frame: 1 × 32\n",
       "\\begin{tabular}{r|lllllllllllllllllllll}\n",
       "  & ORF\\_id & ORF\\_type & Start\\_codon & Isoform\\_id & Chr & Strand & ORF\\_seq & ORF\\_length & Geneid & Isoform\\_structural\\_category & ⋯ & N & C & A & Gene\\_type & Unique\\_peptide\\_n & Unique\\_peptide\\_n\\_msfragger\\_closed & mean\\_relative\\_iBAQ & ORF\\_start & ORF\\_end & CDS\\_seq\\\\\n",
       "  & <chr> & <chr> & <chr> & <chr> & <chr> & <chr> & <chr> & <int> & <chr> & <chr> & ⋯ & <dbl> & <dbl> & <dbl> & <chr> & <int> & <int> & <dbl> & <int> & <int> & <chr>\\\\\n",
       "\\hline\n",
       "\t1 & PB.10027.4:chr12:-\\textbar{}10\\textbar{}1315:112:1117\\textbar{}canonical\\textbar{}ATG & canonical & ATG & PB.10027.4 & chr12 & - & MATLKEKLIAPVAEEEATVPNNKITVVGVGQVGMACAISILGKSLADELALVDVLEDKLKGEMMDLQHGSLFLQTPKIVADKDYSVTANSKIVVVTAGVRQQEGESRLNLVQRNVNVFKFIIPQIVKYSPDCIIIVVSNPVDILTYVTWKLSGLPKHRVIGSGCNLDSARFRYLMAEKLGIHPSSCHGWILGEHGDSSVAVWSGVNVAGVSLQELNPEMGTDNDSENWKEVHKMVVESAYEVIKLKGYTNWAIGLSVADLIESMLKNLSRIHPVSTMVKGMYGIENEVFLSLPCILNARGLTSVINQKLKDDEVAQLKKSADTLWDIQKDLKDL & 334 & LDHB & full-splice\\_match & ⋯ & 0.3650371 & 0.06854658 & 0.2167918 & protein\\_coding & 51 & 34 & 0.0007624541 & 21635541 & 21654671 & ATGGCAACTCTTAAGGAAAAACTCATTGCACCAGTTGCGGAAGAAGAGGCAACAGTTCCAAACAATAAGATCACTGTAGTGGGTGTTGGACAAGTTGGTATGGCGTGTGCTATCAGCATTCTGGGAAAGTCTCTGGCTGATGAACTTGCTCTTGTGGATGTTTTGGAAGATAAGCTTAAAGGAGAAATGATGGATCTGCAGCATGGGAGCTTATTTCTTCAGACACCTAAAATTGTGGCAGATAAAGATTATTCTGTGACCGCCAATTCTAAGATTGTAGTGGTAACTGCAGGAGTCCGTCAGCAAGAAGGGGAGAGTCGGCTCAATCTGGTGCAGAGAAATGTTAATGTCTTCAAATTCATTATTCCTCAGATCGTCAAGTACAGTCCTGATTGCATCATAATTGTGGTTTCCAACCCAGTGGACATTCTTACGTATGTTACCTGGAAACTAAGTGGATTACCCAAACACCGCGTGATTGGAAGTGGATGTAATCTGGATTCTGCTAGATTTCGCTACCTTATGGCTGAAAAACTTGGCATTCATCCCAGCAGCTGCCATGGATGGATTTTGGGGGAACATGGCGACTCAAGTGTGGCTGTGTGGAGTGGTGTGAATGTGGCAGGTGTTTCTCTCCAGGAATTGAATCCAGAAATGGGAACTGACAATGATAGTGAAAATTGGAAGGAAGTGCATAAGATGGTGGTTGAAAGTGCCTATGAAGTCATCAAGCTAAAAGGATATACCAACTGGGCTATTGGATTAAGTGTGGCTGATCTTATTGAATCCATGTTGAAAAATCTATCCAGGATTCATCCCGTGTCAACAATGGTAAAGGGGATGTATGGCATTGAGAATGAAGTCTTCCTGAGCCTTCCATGTATCCTCAATGCCCGGGGATTAACCAGCGTTATCAACCAGAAGCTAAAGGATGATGAGGTTGCTCAGCTCAAGAAAAGTGCAGATACCCTGTGGGACATCCAGAAGGACCTAAAAGACCTG\\\\\n",
       "\\end{tabular}\n"
      ],
      "text/markdown": [
       "\n",
       "A data.frame: 1 × 32\n",
       "\n",
       "| <!--/--> | ORF_id &lt;chr&gt; | ORF_type &lt;chr&gt; | Start_codon &lt;chr&gt; | Isoform_id &lt;chr&gt; | Chr &lt;chr&gt; | Strand &lt;chr&gt; | ORF_seq &lt;chr&gt; | ORF_length &lt;int&gt; | Geneid &lt;chr&gt; | Isoform_structural_category &lt;chr&gt; | ⋯ ⋯ | N &lt;dbl&gt; | C &lt;dbl&gt; | A &lt;dbl&gt; | Gene_type &lt;chr&gt; | Unique_peptide_n &lt;int&gt; | Unique_peptide_n_msfragger_closed &lt;int&gt; | mean_relative_iBAQ &lt;dbl&gt; | ORF_start &lt;int&gt; | ORF_end &lt;int&gt; | CDS_seq &lt;chr&gt; |\n",
       "|---|---|---|---|---|---|---|---|---|---|---|---|---|---|---|---|---|---|---|---|---|---|\n",
       "| 1 | PB.10027.4:chr12:-|10|1315:112:1117|canonical|ATG | canonical | ATG | PB.10027.4 | chr12 | - | MATLKEKLIAPVAEEEATVPNNKITVVGVGQVGMACAISILGKSLADELALVDVLEDKLKGEMMDLQHGSLFLQTPKIVADKDYSVTANSKIVVVTAGVRQQEGESRLNLVQRNVNVFKFIIPQIVKYSPDCIIIVVSNPVDILTYVTWKLSGLPKHRVIGSGCNLDSARFRYLMAEKLGIHPSSCHGWILGEHGDSSVAVWSGVNVAGVSLQELNPEMGTDNDSENWKEVHKMVVESAYEVIKLKGYTNWAIGLSVADLIESMLKNLSRIHPVSTMVKGMYGIENEVFLSLPCILNARGLTSVINQKLKDDEVAQLKKSADTLWDIQKDLKDL | 334 | LDHB | full-splice_match | ⋯ | 0.3650371 | 0.06854658 | 0.2167918 | protein_coding | 51 | 34 | 0.0007624541 | 21635541 | 21654671 | ATGGCAACTCTTAAGGAAAAACTCATTGCACCAGTTGCGGAAGAAGAGGCAACAGTTCCAAACAATAAGATCACTGTAGTGGGTGTTGGACAAGTTGGTATGGCGTGTGCTATCAGCATTCTGGGAAAGTCTCTGGCTGATGAACTTGCTCTTGTGGATGTTTTGGAAGATAAGCTTAAAGGAGAAATGATGGATCTGCAGCATGGGAGCTTATTTCTTCAGACACCTAAAATTGTGGCAGATAAAGATTATTCTGTGACCGCCAATTCTAAGATTGTAGTGGTAACTGCAGGAGTCCGTCAGCAAGAAGGGGAGAGTCGGCTCAATCTGGTGCAGAGAAATGTTAATGTCTTCAAATTCATTATTCCTCAGATCGTCAAGTACAGTCCTGATTGCATCATAATTGTGGTTTCCAACCCAGTGGACATTCTTACGTATGTTACCTGGAAACTAAGTGGATTACCCAAACACCGCGTGATTGGAAGTGGATGTAATCTGGATTCTGCTAGATTTCGCTACCTTATGGCTGAAAAACTTGGCATTCATCCCAGCAGCTGCCATGGATGGATTTTGGGGGAACATGGCGACTCAAGTGTGGCTGTGTGGAGTGGTGTGAATGTGGCAGGTGTTTCTCTCCAGGAATTGAATCCAGAAATGGGAACTGACAATGATAGTGAAAATTGGAAGGAAGTGCATAAGATGGTGGTTGAAAGTGCCTATGAAGTCATCAAGCTAAAAGGATATACCAACTGGGCTATTGGATTAAGTGTGGCTGATCTTATTGAATCCATGTTGAAAAATCTATCCAGGATTCATCCCGTGTCAACAATGGTAAAGGGGATGTATGGCATTGAGAATGAAGTCTTCCTGAGCCTTCCATGTATCCTCAATGCCCGGGGATTAACCAGCGTTATCAACCAGAAGCTAAAGGATGATGAGGTTGCTCAGCTCAAGAAAAGTGCAGATACCCTGTGGGACATCCAGAAGGACCTAAAAGACCTG |\n",
       "\n"
      ],
      "text/plain": [
       "  ORF_id                                            ORF_type  Start_codon\n",
       "1 PB.10027.4:chr12:-|10|1315:112:1117|canonical|ATG canonical ATG        \n",
       "  Isoform_id Chr   Strand\n",
       "1 PB.10027.4 chr12 -     \n",
       "  ORF_seq                                                                                                                                                                                                                                                                                                                                       \n",
       "1 MATLKEKLIAPVAEEEATVPNNKITVVGVGQVGMACAISILGKSLADELALVDVLEDKLKGEMMDLQHGSLFLQTPKIVADKDYSVTANSKIVVVTAGVRQQEGESRLNLVQRNVNVFKFIIPQIVKYSPDCIIIVVSNPVDILTYVTWKLSGLPKHRVIGSGCNLDSARFRYLMAEKLGIHPSSCHGWILGEHGDSSVAVWSGVNVAGVSLQELNPEMGTDNDSENWKEVHKMVVESAYEVIKLKGYTNWAIGLSVADLIESMLKNLSRIHPVSTMVKGMYGIENEVFLSLPCILNARGLTSVINQKLKDDEVAQLKKSADTLWDIQKDLKDL\n",
       "  ORF_length Geneid Isoform_structural_category ⋯ N         C         \n",
       "1 334        LDHB   full-splice_match           ⋯ 0.3650371 0.06854658\n",
       "  A         Gene_type      Unique_peptide_n Unique_peptide_n_msfragger_closed\n",
       "1 0.2167918 protein_coding 51               34                               \n",
       "  mean_relative_iBAQ ORF_start ORF_end \n",
       "1 0.0007624541       21635541  21654671\n",
       "  CDS_seq                                                                                                                                                                                                                                                                                                                                                                                                                                                                                                                                                                                                                                                                                                                                                                                                                                                                                                                                                                                                                                   \n",
       "1 ATGGCAACTCTTAAGGAAAAACTCATTGCACCAGTTGCGGAAGAAGAGGCAACAGTTCCAAACAATAAGATCACTGTAGTGGGTGTTGGACAAGTTGGTATGGCGTGTGCTATCAGCATTCTGGGAAAGTCTCTGGCTGATGAACTTGCTCTTGTGGATGTTTTGGAAGATAAGCTTAAAGGAGAAATGATGGATCTGCAGCATGGGAGCTTATTTCTTCAGACACCTAAAATTGTGGCAGATAAAGATTATTCTGTGACCGCCAATTCTAAGATTGTAGTGGTAACTGCAGGAGTCCGTCAGCAAGAAGGGGAGAGTCGGCTCAATCTGGTGCAGAGAAATGTTAATGTCTTCAAATTCATTATTCCTCAGATCGTCAAGTACAGTCCTGATTGCATCATAATTGTGGTTTCCAACCCAGTGGACATTCTTACGTATGTTACCTGGAAACTAAGTGGATTACCCAAACACCGCGTGATTGGAAGTGGATGTAATCTGGATTCTGCTAGATTTCGCTACCTTATGGCTGAAAAACTTGGCATTCATCCCAGCAGCTGCCATGGATGGATTTTGGGGGAACATGGCGACTCAAGTGTGGCTGTGTGGAGTGGTGTGAATGTGGCAGGTGTTTCTCTCCAGGAATTGAATCCAGAAATGGGAACTGACAATGATAGTGAAAATTGGAAGGAAGTGCATAAGATGGTGGTTGAAAGTGCCTATGAAGTCATCAAGCTAAAAGGATATACCAACTGGGCTATTGGATTAAGTGTGGCTGATCTTATTGAATCCATGTTGAAAAATCTATCCAGGATTCATCCCGTGTCAACAATGGTAAAGGGGATGTATGGCATTGAGAATGAAGTCTTCCTGAGCCTTCCATGTATCCTCAATGCCCGGGGATTAACCAGCGTTATCAACCAGAAGCTAAAGGATGATGAGGTTGCTCAGCTCAAGAAAAGTGCAGATACCCTGTGGGACATCCAGAAGGACCTAAAAGACCTG"
      ]
     },
     "metadata": {},
     "output_type": "display_data"
    },
    {
     "data": {
      "text/html": [
       "<style>\n",
       ".list-inline {list-style: none; margin:0; padding: 0}\n",
       ".list-inline>li {display: inline-block}\n",
       ".list-inline>li:not(:last-child)::after {content: \"\\00b7\"; padding: 0 .5ex}\n",
       "</style>\n",
       "<ol class=list-inline><li>'ORF_id'</li><li>'ORF_type'</li><li>'Start_codon'</li><li>'Isoform_id'</li><li>'Chr'</li><li>'Strand'</li><li>'ORF_seq'</li><li>'ORF_length'</li><li>'Geneid'</li><li>'Isoform_structural_category'</li><li>'Isoform_subcategory'</li><li>'Is_uniprot'</li><li>'Is_canonical'</li><li>'Run_occurrence'</li><li>'RPF_reads'</li><li>'Psites_number'</li><li>'RPF_RPKM'</li><li>'Psites_RPKM'</li><li>'RPF_codon_coverage'</li><li>'Psites_codon_coverage'</li><li>'FL'</li><li>'FL_TPM'</li><li>'N'</li><li>'C'</li><li>'A'</li><li>'Gene_type'</li><li>'Unique_peptide_n'</li><li>'Unique_peptide_n_msfragger_closed'</li><li>'mean_relative_iBAQ'</li><li>'ORF_start'</li><li>'ORF_end'</li><li>'CDS_seq'</li></ol>\n"
      ],
      "text/latex": [
       "\\begin{enumerate*}\n",
       "\\item 'ORF\\_id'\n",
       "\\item 'ORF\\_type'\n",
       "\\item 'Start\\_codon'\n",
       "\\item 'Isoform\\_id'\n",
       "\\item 'Chr'\n",
       "\\item 'Strand'\n",
       "\\item 'ORF\\_seq'\n",
       "\\item 'ORF\\_length'\n",
       "\\item 'Geneid'\n",
       "\\item 'Isoform\\_structural\\_category'\n",
       "\\item 'Isoform\\_subcategory'\n",
       "\\item 'Is\\_uniprot'\n",
       "\\item 'Is\\_canonical'\n",
       "\\item 'Run\\_occurrence'\n",
       "\\item 'RPF\\_reads'\n",
       "\\item 'Psites\\_number'\n",
       "\\item 'RPF\\_RPKM'\n",
       "\\item 'Psites\\_RPKM'\n",
       "\\item 'RPF\\_codon\\_coverage'\n",
       "\\item 'Psites\\_codon\\_coverage'\n",
       "\\item 'FL'\n",
       "\\item 'FL\\_TPM'\n",
       "\\item 'N'\n",
       "\\item 'C'\n",
       "\\item 'A'\n",
       "\\item 'Gene\\_type'\n",
       "\\item 'Unique\\_peptide\\_n'\n",
       "\\item 'Unique\\_peptide\\_n\\_msfragger\\_closed'\n",
       "\\item 'mean\\_relative\\_iBAQ'\n",
       "\\item 'ORF\\_start'\n",
       "\\item 'ORF\\_end'\n",
       "\\item 'CDS\\_seq'\n",
       "\\end{enumerate*}\n"
      ],
      "text/markdown": [
       "1. 'ORF_id'\n",
       "2. 'ORF_type'\n",
       "3. 'Start_codon'\n",
       "4. 'Isoform_id'\n",
       "5. 'Chr'\n",
       "6. 'Strand'\n",
       "7. 'ORF_seq'\n",
       "8. 'ORF_length'\n",
       "9. 'Geneid'\n",
       "10. 'Isoform_structural_category'\n",
       "11. 'Isoform_subcategory'\n",
       "12. 'Is_uniprot'\n",
       "13. 'Is_canonical'\n",
       "14. 'Run_occurrence'\n",
       "15. 'RPF_reads'\n",
       "16. 'Psites_number'\n",
       "17. 'RPF_RPKM'\n",
       "18. 'Psites_RPKM'\n",
       "19. 'RPF_codon_coverage'\n",
       "20. 'Psites_codon_coverage'\n",
       "21. 'FL'\n",
       "22. 'FL_TPM'\n",
       "23. 'N'\n",
       "24. 'C'\n",
       "25. 'A'\n",
       "26. 'Gene_type'\n",
       "27. 'Unique_peptide_n'\n",
       "28. 'Unique_peptide_n_msfragger_closed'\n",
       "29. 'mean_relative_iBAQ'\n",
       "30. 'ORF_start'\n",
       "31. 'ORF_end'\n",
       "32. 'CDS_seq'\n",
       "\n",
       "\n"
      ],
      "text/plain": [
       " [1] \"ORF_id\"                            \"ORF_type\"                         \n",
       " [3] \"Start_codon\"                       \"Isoform_id\"                       \n",
       " [5] \"Chr\"                               \"Strand\"                           \n",
       " [7] \"ORF_seq\"                           \"ORF_length\"                       \n",
       " [9] \"Geneid\"                            \"Isoform_structural_category\"      \n",
       "[11] \"Isoform_subcategory\"               \"Is_uniprot\"                       \n",
       "[13] \"Is_canonical\"                      \"Run_occurrence\"                   \n",
       "[15] \"RPF_reads\"                         \"Psites_number\"                    \n",
       "[17] \"RPF_RPKM\"                          \"Psites_RPKM\"                      \n",
       "[19] \"RPF_codon_coverage\"                \"Psites_codon_coverage\"            \n",
       "[21] \"FL\"                                \"FL_TPM\"                           \n",
       "[23] \"N\"                                 \"C\"                                \n",
       "[25] \"A\"                                 \"Gene_type\"                        \n",
       "[27] \"Unique_peptide_n\"                  \"Unique_peptide_n_msfragger_closed\"\n",
       "[29] \"mean_relative_iBAQ\"                \"ORF_start\"                        \n",
       "[31] \"ORF_end\"                           \"CDS_seq\"                          "
      ]
     },
     "metadata": {},
     "output_type": "display_data"
    },
    {
     "data": {
      "text/html": [
       "<table class=\"dataframe\">\n",
       "<caption>A data.frame: 2 × 2</caption>\n",
       "<thead>\n",
       "\t<tr><th scope=col>Is_canonical</th><th scope=col>n</th></tr>\n",
       "\t<tr><th scope=col>&lt;lgl&gt;</th><th scope=col>&lt;int&gt;</th></tr>\n",
       "</thead>\n",
       "<tbody>\n",
       "\t<tr><td>FALSE</td><td>34212</td></tr>\n",
       "\t<tr><td> TRUE</td><td> 7736</td></tr>\n",
       "</tbody>\n",
       "</table>\n"
      ],
      "text/latex": [
       "A data.frame: 2 × 2\n",
       "\\begin{tabular}{ll}\n",
       " Is\\_canonical & n\\\\\n",
       " <lgl> & <int>\\\\\n",
       "\\hline\n",
       "\t FALSE & 34212\\\\\n",
       "\t  TRUE &  7736\\\\\n",
       "\\end{tabular}\n"
      ],
      "text/markdown": [
       "\n",
       "A data.frame: 2 × 2\n",
       "\n",
       "| Is_canonical &lt;lgl&gt; | n &lt;int&gt; |\n",
       "|---|---|\n",
       "| FALSE | 34212 |\n",
       "|  TRUE |  7736 |\n",
       "\n"
      ],
      "text/plain": [
       "  Is_canonical n    \n",
       "1 FALSE        34212\n",
       "2  TRUE         7736"
      ]
     },
     "metadata": {},
     "output_type": "display_data"
    }
   ],
   "source": [
    "orfs_path <- \"../../results/1/augment_orf_table/augmented.tsv\"\n",
    "fread_c(orfs_path) -> orfs\n",
    "orfs %>% filter(!grepl(\"Cont\",ORF_id)) -> orfs\n",
    "head(orfs,1)\n",
    "colnames(orfs)\n",
    "count(orfs,Is_canonical)"
   ]
  },
  {
   "cell_type": "code",
   "execution_count": 3,
   "id": "c6396f54",
   "metadata": {
    "ExecuteTime": {
     "end_time": "2025-10-17T09:36:26.739948Z",
     "start_time": "2025-10-17T09:36:22.951Z"
    }
   },
   "outputs": [],
   "source": [
    "# 制作一个通用的ORF_id_custom\n",
    "paste0(orfs$Strand,orfs$Chr,\":\",orfs$ORF_start,\"-\",orfs$ORF_end,\":\",orfs$ORF_seq) -> orfs$ORF_id_custom"
   ]
  },
  {
   "cell_type": "code",
   "execution_count": 4,
   "id": "ef399db0",
   "metadata": {
    "ExecuteTime": {
     "end_time": "2025-10-17T09:36:49.331253Z",
     "start_time": "2025-10-17T09:36:22.953Z"
    }
   },
   "outputs": [
    {
     "data": {
      "text/html": [
       "<table class=\"dataframe\">\n",
       "<caption>A data.frame: 1 × 9</caption>\n",
       "<thead>\n",
       "\t<tr><th></th><th scope=col>ORF_id</th><th scope=col>CDS_nt_len</th><th scope=col>n_codons</th><th scope=col>frame0</th><th scope=col>frame1</th><th scope=col>frame2</th><th scope=col>total_psites</th><th scope=col>frame0_fraction</th><th scope=col>frame0_codon_covered</th></tr>\n",
       "\t<tr><th></th><th scope=col>&lt;chr&gt;</th><th scope=col>&lt;int&gt;</th><th scope=col>&lt;int&gt;</th><th scope=col>&lt;int&gt;</th><th scope=col>&lt;int&gt;</th><th scope=col>&lt;int&gt;</th><th scope=col>&lt;int&gt;</th><th scope=col>&lt;dbl&gt;</th><th scope=col>&lt;int&gt;</th></tr>\n",
       "</thead>\n",
       "<tbody>\n",
       "\t<tr><th scope=row>1</th><td>PB.1.16:chr1:-|66|1611:871:1024|noncoding|GTG</td><td>150</td><td>50</td><td>0</td><td>0</td><td>0</td><td>0</td><td>0</td><td>0</td></tr>\n",
       "</tbody>\n",
       "</table>\n"
      ],
      "text/latex": [
       "A data.frame: 1 × 9\n",
       "\\begin{tabular}{r|lllllllll}\n",
       "  & ORF\\_id & CDS\\_nt\\_len & n\\_codons & frame0 & frame1 & frame2 & total\\_psites & frame0\\_fraction & frame0\\_codon\\_covered\\\\\n",
       "  & <chr> & <int> & <int> & <int> & <int> & <int> & <int> & <dbl> & <int>\\\\\n",
       "\\hline\n",
       "\t1 & PB.1.16:chr1:-\\textbar{}66\\textbar{}1611:871:1024\\textbar{}noncoding\\textbar{}GTG & 150 & 50 & 0 & 0 & 0 & 0 & 0 & 0\\\\\n",
       "\\end{tabular}\n"
      ],
      "text/markdown": [
       "\n",
       "A data.frame: 1 × 9\n",
       "\n",
       "| <!--/--> | ORF_id &lt;chr&gt; | CDS_nt_len &lt;int&gt; | n_codons &lt;int&gt; | frame0 &lt;int&gt; | frame1 &lt;int&gt; | frame2 &lt;int&gt; | total_psites &lt;int&gt; | frame0_fraction &lt;dbl&gt; | frame0_codon_covered &lt;int&gt; |\n",
       "|---|---|---|---|---|---|---|---|---|---|\n",
       "| 1 | PB.1.16:chr1:-|66|1611:871:1024|noncoding|GTG | 150 | 50 | 0 | 0 | 0 | 0 | 0 | 0 |\n",
       "\n"
      ],
      "text/plain": [
       "  ORF_id                                        CDS_nt_len n_codons frame0\n",
       "1 PB.1.16:chr1:-|66|1611:871:1024|noncoding|GTG 150        50       0     \n",
       "  frame1 frame2 total_psites frame0_fraction frame0_codon_covered\n",
       "1 0      0      0            0               0                   "
      ]
     },
     "metadata": {},
     "output_type": "display_data"
    },
    {
     "data": {
      "text/html": [
       "<table class=\"dataframe\">\n",
       "<caption>A data.frame: 1 × 9</caption>\n",
       "<thead>\n",
       "\t<tr><th></th><th scope=col>ORF_id</th><th scope=col>overlap_bp</th><th scope=col>overlap_fraction</th><th scope=col>inframe_overlap_bp</th><th scope=col>inframe_fraction</th><th scope=col>n_annot_tx_overlapped</th><th scope=col>n_annot_gene_overlapped</th><th scope=col>top_hit_gene</th><th scope=col>top_hit_tx</th></tr>\n",
       "\t<tr><th></th><th scope=col>&lt;chr&gt;</th><th scope=col>&lt;int&gt;</th><th scope=col>&lt;dbl&gt;</th><th scope=col>&lt;int&gt;</th><th scope=col>&lt;dbl&gt;</th><th scope=col>&lt;int&gt;</th><th scope=col>&lt;int&gt;</th><th scope=col>&lt;chr&gt;</th><th scope=col>&lt;chr&gt;</th></tr>\n",
       "</thead>\n",
       "<tbody>\n",
       "\t<tr><th scope=row>1</th><td>PB.22711.2:chr19:-|16|1554:181:445|noncoding|ACG</td><td>95</td><td>0.3639847</td><td>0</td><td>0</td><td>1</td><td>1</td><td>ENSG00000121410.12</td><td>ENST00000263100.8</td></tr>\n",
       "</tbody>\n",
       "</table>\n"
      ],
      "text/latex": [
       "A data.frame: 1 × 9\n",
       "\\begin{tabular}{r|lllllllll}\n",
       "  & ORF\\_id & overlap\\_bp & overlap\\_fraction & inframe\\_overlap\\_bp & inframe\\_fraction & n\\_annot\\_tx\\_overlapped & n\\_annot\\_gene\\_overlapped & top\\_hit\\_gene & top\\_hit\\_tx\\\\\n",
       "  & <chr> & <int> & <dbl> & <int> & <dbl> & <int> & <int> & <chr> & <chr>\\\\\n",
       "\\hline\n",
       "\t1 & PB.22711.2:chr19:-\\textbar{}16\\textbar{}1554:181:445\\textbar{}noncoding\\textbar{}ACG & 95 & 0.3639847 & 0 & 0 & 1 & 1 & ENSG00000121410.12 & ENST00000263100.8\\\\\n",
       "\\end{tabular}\n"
      ],
      "text/markdown": [
       "\n",
       "A data.frame: 1 × 9\n",
       "\n",
       "| <!--/--> | ORF_id &lt;chr&gt; | overlap_bp &lt;int&gt; | overlap_fraction &lt;dbl&gt; | inframe_overlap_bp &lt;int&gt; | inframe_fraction &lt;dbl&gt; | n_annot_tx_overlapped &lt;int&gt; | n_annot_gene_overlapped &lt;int&gt; | top_hit_gene &lt;chr&gt; | top_hit_tx &lt;chr&gt; |\n",
       "|---|---|---|---|---|---|---|---|---|---|\n",
       "| 1 | PB.22711.2:chr19:-|16|1554:181:445|noncoding|ACG | 95 | 0.3639847 | 0 | 0 | 1 | 1 | ENSG00000121410.12 | ENST00000263100.8 |\n",
       "\n"
      ],
      "text/plain": [
       "  ORF_id                                           overlap_bp overlap_fraction\n",
       "1 PB.22711.2:chr19:-|16|1554:181:445|noncoding|ACG 95         0.3639847       \n",
       "  inframe_overlap_bp inframe_fraction n_annot_tx_overlapped\n",
       "1 0                  0                1                    \n",
       "  n_annot_gene_overlapped top_hit_gene       top_hit_tx       \n",
       "1 1                       ENSG00000121410.12 ENST00000263100.8"
      ]
     },
     "metadata": {},
     "output_type": "display_data"
    },
    {
     "data": {
      "text/html": [
       "<table class=\"dataframe\">\n",
       "<caption>A data.frame: 1 × 11</caption>\n",
       "<thead>\n",
       "\t<tr><th></th><th scope=col>orf_id</th><th scope=col>ev_age</th><th scope=col>syn_age</th><th scope=col>denovo</th><th scope=col>lineage</th><th scope=col>loc_times_blat</th><th scope=col>gene_times_blastn</th><th scope=col>gene_times_blastn_pc</th><th scope=col>Outgroup Homolog</th><th scope=col>lineage_n</th><th scope=col>Outgroup Homolog n</th></tr>\n",
       "\t<tr><th></th><th scope=col>&lt;chr&gt;</th><th scope=col>&lt;chr&gt;</th><th scope=col>&lt;chr&gt;</th><th scope=col>&lt;int&gt;</th><th scope=col>&lt;chr&gt;</th><th scope=col>&lt;int&gt;</th><th scope=col>&lt;int&gt;</th><th scope=col>&lt;int&gt;</th><th scope=col>&lt;chr&gt;</th><th scope=col>&lt;int&gt;</th><th scope=col>&lt;int&gt;</th></tr>\n",
       "</thead>\n",
       "<tbody>\n",
       "\t<tr><th scope=row>1</th><td>PB.1001.36:chr1:-|19|3214:305:440|uORF|ACG</td><td>boreoeutheria</td><td>mammal</td><td>1</td><td>boreoeutheria</td><td>1</td><td>0</td><td>0</td><td>human</td><td>7</td><td>1</td></tr>\n",
       "</tbody>\n",
       "</table>\n"
      ],
      "text/latex": [
       "A data.frame: 1 × 11\n",
       "\\begin{tabular}{r|lllllllllll}\n",
       "  & orf\\_id & ev\\_age & syn\\_age & denovo & lineage & loc\\_times\\_blat & gene\\_times\\_blastn & gene\\_times\\_blastn\\_pc & Outgroup Homolog & lineage\\_n & Outgroup Homolog n\\\\\n",
       "  & <chr> & <chr> & <chr> & <int> & <chr> & <int> & <int> & <int> & <chr> & <int> & <int>\\\\\n",
       "\\hline\n",
       "\t1 & PB.1001.36:chr1:-\\textbar{}19\\textbar{}3214:305:440\\textbar{}uORF\\textbar{}ACG & boreoeutheria & mammal & 1 & boreoeutheria & 1 & 0 & 0 & human & 7 & 1\\\\\n",
       "\\end{tabular}\n"
      ],
      "text/markdown": [
       "\n",
       "A data.frame: 1 × 11\n",
       "\n",
       "| <!--/--> | orf_id &lt;chr&gt; | ev_age &lt;chr&gt; | syn_age &lt;chr&gt; | denovo &lt;int&gt; | lineage &lt;chr&gt; | loc_times_blat &lt;int&gt; | gene_times_blastn &lt;int&gt; | gene_times_blastn_pc &lt;int&gt; | Outgroup Homolog &lt;chr&gt; | lineage_n &lt;int&gt; | Outgroup Homolog n &lt;int&gt; |\n",
       "|---|---|---|---|---|---|---|---|---|---|---|---|\n",
       "| 1 | PB.1001.36:chr1:-|19|3214:305:440|uORF|ACG | boreoeutheria | mammal | 1 | boreoeutheria | 1 | 0 | 0 | human | 7 | 1 |\n",
       "\n"
      ],
      "text/plain": [
       "  orf_id                                     ev_age        syn_age denovo\n",
       "1 PB.1001.36:chr1:-|19|3214:305:440|uORF|ACG boreoeutheria mammal  1     \n",
       "  lineage       loc_times_blat gene_times_blastn gene_times_blastn_pc\n",
       "1 boreoeutheria 1              0                 0                   \n",
       "  Outgroup Homolog lineage_n Outgroup Homolog n\n",
       "1 human            7         1                 "
      ]
     },
     "metadata": {},
     "output_type": "display_data"
    },
    {
     "data": {
      "text/html": [
       "<table class=\"dataframe\">\n",
       "<caption>A data.frame: 1 × 4</caption>\n",
       "<thead>\n",
       "\t<tr><th></th><th scope=col>V1</th><th scope=col>V2</th><th scope=col>V3</th><th scope=col>V4</th></tr>\n",
       "\t<tr><th></th><th scope=col>&lt;chr&gt;</th><th scope=col>&lt;chr&gt;</th><th scope=col>&lt;chr&gt;</th><th scope=col>&lt;chr&gt;</th></tr>\n",
       "</thead>\n",
       "<tbody>\n",
       "\t<tr><th scope=row>1</th><td>PB.3535.3+chr1:192579235-192579322</td><td>MEKDSYPRFLKSDIYLNLLNDLQANSLK</td><td>PRICE</td><td>+chr1:192579235-192579322:MEKDSYPRFLKSDIYLNLLNDLQANSLK</td></tr>\n",
       "</tbody>\n",
       "</table>\n"
      ],
      "text/latex": [
       "A data.frame: 1 × 4\n",
       "\\begin{tabular}{r|llll}\n",
       "  & V1 & V2 & V3 & V4\\\\\n",
       "  & <chr> & <chr> & <chr> & <chr>\\\\\n",
       "\\hline\n",
       "\t1 & PB.3535.3+chr1:192579235-192579322 & MEKDSYPRFLKSDIYLNLLNDLQANSLK & PRICE & +chr1:192579235-192579322:MEKDSYPRFLKSDIYLNLLNDLQANSLK\\\\\n",
       "\\end{tabular}\n"
      ],
      "text/markdown": [
       "\n",
       "A data.frame: 1 × 4\n",
       "\n",
       "| <!--/--> | V1 &lt;chr&gt; | V2 &lt;chr&gt; | V3 &lt;chr&gt; | V4 &lt;chr&gt; |\n",
       "|---|---|---|---|---|\n",
       "| 1 | PB.3535.3+chr1:192579235-192579322 | MEKDSYPRFLKSDIYLNLLNDLQANSLK | PRICE | +chr1:192579235-192579322:MEKDSYPRFLKSDIYLNLLNDLQANSLK |\n",
       "\n"
      ],
      "text/plain": [
       "  V1                                 V2                           V3   \n",
       "1 PB.3535.3+chr1:192579235-192579322 MEKDSYPRFLKSDIYLNLLNDLQANSLK PRICE\n",
       "  V4                                                    \n",
       "1 +chr1:192579235-192579322:MEKDSYPRFLKSDIYLNLLNDLQANSLK"
      ]
     },
     "metadata": {},
     "output_type": "display_data"
    }
   ],
   "source": [
    "# 增加frame0的比例\n",
    "fread_c(\"../../results/1/peri/psite_frame_stats.v1.tsv\") -> orfs_peri\n",
    "head(orfs_peri,1)\n",
    "# 增加与其他CDS区域重叠的比例\n",
    "fread_c(\"../../results/1/orf_overlap_inframe.txt\") -> orfs_overlap\n",
    "head(orfs_overlap,1)\n",
    "# 增加de novo信息\n",
    "fread_c(\"/home/user/data3/lit/project/sORFs/05-denovo-status/analysis/20251013_denovo_check/results/res_filter_paralog_ortholog.txt\") -> res_filter_paralog_ortholog\n",
    "head(res_filter_paralog_ortholog,1)\n",
    "# 增加ribo-seq信息\n",
    "read.table(\"/home/user/data3/lit/project/sORFs/01-ribo-seq/analysis/20250813_demo_data_analysis/processed/orfs/merged/orfs.3_ways.txt\") -> orfs.3_ways\n",
    "head(orfs.3_ways,1)"
   ]
  },
  {
   "cell_type": "code",
   "execution_count": 5,
   "id": "e32aed7f",
   "metadata": {
    "ExecuteTime": {
     "end_time": "2025-10-17T09:36:53.123641Z",
     "start_time": "2025-10-17T09:36:22.953Z"
    }
   },
   "outputs": [
    {
     "data": {
      "text/html": [
       "<table class=\"dataframe\">\n",
       "<caption>A data.frame: 1 × 49</caption>\n",
       "<thead>\n",
       "\t<tr><th></th><th scope=col>ORF_id</th><th scope=col>ORF_type</th><th scope=col>Start_codon</th><th scope=col>Isoform_id</th><th scope=col>Chr</th><th scope=col>Strand</th><th scope=col>ORF_seq</th><th scope=col>ORF_length</th><th scope=col>Geneid</th><th scope=col>Isoform_structural_category</th><th scope=col>⋯</th><th scope=col>frame0_fraction</th><th scope=col>frame0_codon_covered</th><th scope=col>overlap_bp</th><th scope=col>overlap_fraction</th><th scope=col>inframe_overlap_bp</th><th scope=col>inframe_fraction</th><th scope=col>n_annot_tx_overlapped</th><th scope=col>n_annot_gene_overlapped</th><th scope=col>top_hit_gene</th><th scope=col>top_hit_tx</th></tr>\n",
       "\t<tr><th></th><th scope=col>&lt;chr&gt;</th><th scope=col>&lt;chr&gt;</th><th scope=col>&lt;chr&gt;</th><th scope=col>&lt;chr&gt;</th><th scope=col>&lt;chr&gt;</th><th scope=col>&lt;chr&gt;</th><th scope=col>&lt;chr&gt;</th><th scope=col>&lt;int&gt;</th><th scope=col>&lt;chr&gt;</th><th scope=col>&lt;chr&gt;</th><th scope=col>⋯</th><th scope=col>&lt;dbl&gt;</th><th scope=col>&lt;int&gt;</th><th scope=col>&lt;int&gt;</th><th scope=col>&lt;dbl&gt;</th><th scope=col>&lt;int&gt;</th><th scope=col>&lt;dbl&gt;</th><th scope=col>&lt;int&gt;</th><th scope=col>&lt;int&gt;</th><th scope=col>&lt;chr&gt;</th><th scope=col>&lt;chr&gt;</th></tr>\n",
       "</thead>\n",
       "<tbody>\n",
       "\t<tr><th scope=row>1</th><td>PB.1.16:chr1:-|66|1611:871:1024|noncoding|GTG</td><td>noncoding</td><td>GTG</td><td>PB.1.16</td><td>chr1</td><td>-</td><td>MLASAPPLPPSTAAPVGQGARQDDSSSSASPSVQGAPREVVDPSGGWPLC</td><td>50</td><td>WASH7P</td><td>novel_not_in_catalog</td><td>⋯</td><td>0</td><td>0</td><td>0</td><td>0</td><td>0</td><td>0</td><td>0</td><td>0</td><td></td><td></td></tr>\n",
       "</tbody>\n",
       "</table>\n"
      ],
      "text/latex": [
       "A data.frame: 1 × 49\n",
       "\\begin{tabular}{r|lllllllllllllllllllll}\n",
       "  & ORF\\_id & ORF\\_type & Start\\_codon & Isoform\\_id & Chr & Strand & ORF\\_seq & ORF\\_length & Geneid & Isoform\\_structural\\_category & ⋯ & frame0\\_fraction & frame0\\_codon\\_covered & overlap\\_bp & overlap\\_fraction & inframe\\_overlap\\_bp & inframe\\_fraction & n\\_annot\\_tx\\_overlapped & n\\_annot\\_gene\\_overlapped & top\\_hit\\_gene & top\\_hit\\_tx\\\\\n",
       "  & <chr> & <chr> & <chr> & <chr> & <chr> & <chr> & <chr> & <int> & <chr> & <chr> & ⋯ & <dbl> & <int> & <int> & <dbl> & <int> & <dbl> & <int> & <int> & <chr> & <chr>\\\\\n",
       "\\hline\n",
       "\t1 & PB.1.16:chr1:-\\textbar{}66\\textbar{}1611:871:1024\\textbar{}noncoding\\textbar{}GTG & noncoding & GTG & PB.1.16 & chr1 & - & MLASAPPLPPSTAAPVGQGARQDDSSSSASPSVQGAPREVVDPSGGWPLC & 50 & WASH7P & novel\\_not\\_in\\_catalog & ⋯ & 0 & 0 & 0 & 0 & 0 & 0 & 0 & 0 &  & \\\\\n",
       "\\end{tabular}\n"
      ],
      "text/markdown": [
       "\n",
       "A data.frame: 1 × 49\n",
       "\n",
       "| <!--/--> | ORF_id &lt;chr&gt; | ORF_type &lt;chr&gt; | Start_codon &lt;chr&gt; | Isoform_id &lt;chr&gt; | Chr &lt;chr&gt; | Strand &lt;chr&gt; | ORF_seq &lt;chr&gt; | ORF_length &lt;int&gt; | Geneid &lt;chr&gt; | Isoform_structural_category &lt;chr&gt; | ⋯ ⋯ | frame0_fraction &lt;dbl&gt; | frame0_codon_covered &lt;int&gt; | overlap_bp &lt;int&gt; | overlap_fraction &lt;dbl&gt; | inframe_overlap_bp &lt;int&gt; | inframe_fraction &lt;dbl&gt; | n_annot_tx_overlapped &lt;int&gt; | n_annot_gene_overlapped &lt;int&gt; | top_hit_gene &lt;chr&gt; | top_hit_tx &lt;chr&gt; |\n",
       "|---|---|---|---|---|---|---|---|---|---|---|---|---|---|---|---|---|---|---|---|---|---|\n",
       "| 1 | PB.1.16:chr1:-|66|1611:871:1024|noncoding|GTG | noncoding | GTG | PB.1.16 | chr1 | - | MLASAPPLPPSTAAPVGQGARQDDSSSSASPSVQGAPREVVDPSGGWPLC | 50 | WASH7P | novel_not_in_catalog | ⋯ | 0 | 0 | 0 | 0 | 0 | 0 | 0 | 0 | <!----> | <!----> |\n",
       "\n"
      ],
      "text/plain": [
       "  ORF_id                                        ORF_type  Start_codon\n",
       "1 PB.1.16:chr1:-|66|1611:871:1024|noncoding|GTG noncoding GTG        \n",
       "  Isoform_id Chr  Strand ORF_seq                                           \n",
       "1 PB.1.16    chr1 -      MLASAPPLPPSTAAPVGQGARQDDSSSSASPSVQGAPREVVDPSGGWPLC\n",
       "  ORF_length Geneid Isoform_structural_category ⋯ frame0_fraction\n",
       "1 50         WASH7P novel_not_in_catalog        ⋯ 0              \n",
       "  frame0_codon_covered overlap_bp overlap_fraction inframe_overlap_bp\n",
       "1 0                    0          0                0                 \n",
       "  inframe_fraction n_annot_tx_overlapped n_annot_gene_overlapped top_hit_gene\n",
       "1 0                0                     0                                   \n",
       "  top_hit_tx\n",
       "1           "
      ]
     },
     "metadata": {},
     "output_type": "display_data"
    },
    {
     "data": {
      "text/html": [
       "39078"
      ],
      "text/latex": [
       "39078"
      ],
      "text/markdown": [
       "39078"
      ],
      "text/plain": [
       "[1] 39078"
      ]
     },
     "metadata": {},
     "output_type": "display_data"
    },
    {
     "data": {
      "text/html": [
       "<table class=\"dataframe\">\n",
       "<caption>A data.frame: 2 × 2</caption>\n",
       "<thead>\n",
       "\t<tr><th scope=col>Ribo_seq_evidence</th><th scope=col>n</th></tr>\n",
       "\t<tr><th scope=col>&lt;chr&gt;</th><th scope=col>&lt;int&gt;</th></tr>\n",
       "</thead>\n",
       "<tbody>\n",
       "\t<tr><td>False</td><td>32896</td></tr>\n",
       "\t<tr><td>True </td><td> 6182</td></tr>\n",
       "</tbody>\n",
       "</table>\n"
      ],
      "text/latex": [
       "A data.frame: 2 × 2\n",
       "\\begin{tabular}{ll}\n",
       " Ribo\\_seq\\_evidence & n\\\\\n",
       " <chr> & <int>\\\\\n",
       "\\hline\n",
       "\t False & 32896\\\\\n",
       "\t True  &  6182\\\\\n",
       "\\end{tabular}\n"
      ],
      "text/markdown": [
       "\n",
       "A data.frame: 2 × 2\n",
       "\n",
       "| Ribo_seq_evidence &lt;chr&gt; | n &lt;int&gt; |\n",
       "|---|---|\n",
       "| False | 32896 |\n",
       "| True  |  6182 |\n",
       "\n"
      ],
      "text/plain": [
       "  Ribo_seq_evidence n    \n",
       "1 False             32896\n",
       "2 True               6182"
      ]
     },
     "metadata": {},
     "output_type": "display_data"
    }
   ],
   "source": [
    "# 合并\n",
    "merge(orfs,orfs_peri) %>% merge(orfs_overlap) -> orfs_1\n",
    "orfs_1 %>% head(1)\n",
    "orfs_1 %>% nrow()\n",
    "merge(orfs_1,res_filter_paralog_ortholog,by.x=\"ORF_id\",by.y=\"orf_id\",all.x = T) -> orf_2\n",
    "orf_2$Ribo_seq_evidence <- ifelse(orf_2$ORF_id_custom %in% orfs.3_ways$V4,\"True\",\"False\")\n",
    "orf_2 %>% count(Ribo_seq_evidence)"
   ]
  },
  {
   "cell_type": "code",
   "execution_count": 13,
   "id": "805b8cec",
   "metadata": {
    "ExecuteTime": {
     "end_time": "2025-10-18T02:55:01.751009Z",
     "start_time": "2025-10-18T02:55:01.289Z"
    }
   },
   "outputs": [
    {
     "data": {
      "text/html": [
       "39078"
      ],
      "text/latex": [
       "39078"
      ],
      "text/markdown": [
       "39078"
      ],
      "text/plain": [
       "[1] 39078"
      ]
     },
     "metadata": {},
     "output_type": "display_data"
    }
   ],
   "source": [
    "nrow(orf_2)\n",
    "# 导出PB ID\n",
    "create_path(\"../../results/1/add_info/\")\n",
    "fwrite_c(orf_2,\"../../results/1/add_info/orfs_ms_pb.txt\")"
   ]
  },
  {
   "cell_type": "markdown",
   "id": "37e667a9",
   "metadata": {},
   "source": [
    "# 比较经典和非经典frame0_fraction以及inframe_fraction的比例"
   ]
  },
  {
   "cell_type": "code",
   "execution_count": 6,
   "id": "a9e8817f",
   "metadata": {
    "ExecuteTime": {
     "end_time": "2025-10-17T09:36:53.183496Z",
     "start_time": "2025-10-17T09:36:22.954Z"
    }
   },
   "outputs": [
    {
     "data": {
      "text/html": [
       "<table class=\"dataframe\">\n",
       "<caption>A tibble: 2 × 2</caption>\n",
       "<thead>\n",
       "\t<tr><th scope=col>Is_canonical</th><th scope=col>frame0_fraction_mean</th></tr>\n",
       "\t<tr><th scope=col>&lt;lgl&gt;</th><th scope=col>&lt;dbl&gt;</th></tr>\n",
       "</thead>\n",
       "<tbody>\n",
       "\t<tr><td>FALSE</td><td>0.1791894</td></tr>\n",
       "\t<tr><td> TRUE</td><td>0.8328659</td></tr>\n",
       "</tbody>\n",
       "</table>\n"
      ],
      "text/latex": [
       "A tibble: 2 × 2\n",
       "\\begin{tabular}{ll}\n",
       " Is\\_canonical & frame0\\_fraction\\_mean\\\\\n",
       " <lgl> & <dbl>\\\\\n",
       "\\hline\n",
       "\t FALSE & 0.1791894\\\\\n",
       "\t  TRUE & 0.8328659\\\\\n",
       "\\end{tabular}\n"
      ],
      "text/markdown": [
       "\n",
       "A tibble: 2 × 2\n",
       "\n",
       "| Is_canonical &lt;lgl&gt; | frame0_fraction_mean &lt;dbl&gt; |\n",
       "|---|---|\n",
       "| FALSE | 0.1791894 |\n",
       "|  TRUE | 0.8328659 |\n",
       "\n"
      ],
      "text/plain": [
       "  Is_canonical frame0_fraction_mean\n",
       "1 FALSE        0.1791894           \n",
       "2  TRUE        0.8328659           "
      ]
     },
     "metadata": {},
     "output_type": "display_data"
    },
    {
     "data": {
      "text/html": [
       "<table class=\"dataframe\">\n",
       "<caption>A tibble: 2 × 2</caption>\n",
       "<thead>\n",
       "\t<tr><th scope=col>Is_canonical</th><th scope=col>inframe_fraction_mean</th></tr>\n",
       "\t<tr><th scope=col>&lt;lgl&gt;</th><th scope=col>&lt;dbl&gt;</th></tr>\n",
       "</thead>\n",
       "<tbody>\n",
       "\t<tr><td>FALSE</td><td>0.05497943</td></tr>\n",
       "\t<tr><td> TRUE</td><td>1.00000000</td></tr>\n",
       "</tbody>\n",
       "</table>\n"
      ],
      "text/latex": [
       "A tibble: 2 × 2\n",
       "\\begin{tabular}{ll}\n",
       " Is\\_canonical & inframe\\_fraction\\_mean\\\\\n",
       " <lgl> & <dbl>\\\\\n",
       "\\hline\n",
       "\t FALSE & 0.05497943\\\\\n",
       "\t  TRUE & 1.00000000\\\\\n",
       "\\end{tabular}\n"
      ],
      "text/markdown": [
       "\n",
       "A tibble: 2 × 2\n",
       "\n",
       "| Is_canonical &lt;lgl&gt; | inframe_fraction_mean &lt;dbl&gt; |\n",
       "|---|---|\n",
       "| FALSE | 0.05497943 |\n",
       "|  TRUE | 1.00000000 |\n",
       "\n"
      ],
      "text/plain": [
       "  Is_canonical inframe_fraction_mean\n",
       "1 FALSE        0.05497943           \n",
       "2  TRUE        1.00000000           "
      ]
     },
     "metadata": {},
     "output_type": "display_data"
    }
   ],
   "source": [
    "orfs_1 %>% group_by(Is_canonical) %>% summarise(frame0_fraction_mean=mean(frame0_fraction))\n",
    "orfs_1 %>% group_by(Is_canonical) %>% summarise(inframe_fraction_mean=mean(inframe_fraction))"
   ]
  },
  {
   "cell_type": "markdown",
   "id": "0f1222a4",
   "metadata": {},
   "source": [
    "# orfs分级"
   ]
  },
  {
   "cell_type": "markdown",
   "id": "191c71fd",
   "metadata": {},
   "source": [
    "* 需要对orfs进行过滤，过滤掉那些有in-frame overlap的orfs。这部分用来建模。\n",
    "\n",
    "- 结果（共39078个）\n",
    "     - 31638 inframe_fraction为0（用于计算进化参数，没有in-frame的部分干扰）\n",
    "     - 23723 overlap_fraction为0 (适合用于建模，翻译水平以及周期性能算准）\n",
    "     - 27981 有RPF reads覆盖\n",
    "     - 25370 有p sites覆盖\n",
    "     - 13094 overlap_fraction为0且有PRF reads覆盖（证据较强，没有和任何注释CDS覆盖，有肽段证据且有RPF reads支持）\n",
    "     - 10653 overlap_fraction为0且有p sites覆盖（证据强，没有和任何注释CDS覆盖，有肽段证据且有p sites支持）\n",
    "     - 3562 overlap_fraction为0且frame0_fraction大于等于0.5（证据非常强，没有和任何注释CDS覆盖，有肽段证据且三碱基周期性大于等于0.5）"
   ]
  },
  {
   "cell_type": "code",
   "execution_count": 30,
   "id": "b0a50c04",
   "metadata": {
    "ExecuteTime": {
     "end_time": "2025-10-18T04:06:35.613041Z",
     "start_time": "2025-10-18T04:05:11.171Z"
    }
   },
   "outputs": [
    {
     "data": {
      "text/html": [
       "31638"
      ],
      "text/latex": [
       "31638"
      ],
      "text/markdown": [
       "31638"
      ],
      "text/plain": [
       "[1] 31638"
      ]
     },
     "metadata": {},
     "output_type": "display_data"
    },
    {
     "data": {
      "text/html": [
       "23723"
      ],
      "text/latex": [
       "23723"
      ],
      "text/markdown": [
       "23723"
      ],
      "text/plain": [
       "[1] 23723"
      ]
     },
     "metadata": {},
     "output_type": "display_data"
    },
    {
     "data": {
      "text/html": [
       "27981"
      ],
      "text/latex": [
       "27981"
      ],
      "text/markdown": [
       "27981"
      ],
      "text/plain": [
       "[1] 27981"
      ]
     },
     "metadata": {},
     "output_type": "display_data"
    },
    {
     "data": {
      "text/html": [
       "25370"
      ],
      "text/latex": [
       "25370"
      ],
      "text/markdown": [
       "25370"
      ],
      "text/plain": [
       "[1] 25370"
      ]
     },
     "metadata": {},
     "output_type": "display_data"
    },
    {
     "data": {
      "text/html": [
       "13094"
      ],
      "text/latex": [
       "13094"
      ],
      "text/markdown": [
       "13094"
      ],
      "text/plain": [
       "[1] 13094"
      ]
     },
     "metadata": {},
     "output_type": "display_data"
    },
    {
     "data": {
      "text/html": [
       "10653"
      ],
      "text/latex": [
       "10653"
      ],
      "text/markdown": [
       "10653"
      ],
      "text/plain": [
       "[1] 10653"
      ]
     },
     "metadata": {},
     "output_type": "display_data"
    },
    {
     "data": {
      "text/html": [
       "3562"
      ],
      "text/latex": [
       "3562"
      ],
      "text/markdown": [
       "3562"
      ],
      "text/plain": [
       "[1] 3562"
      ]
     },
     "metadata": {},
     "output_type": "display_data"
    },
    {
     "data": {
      "text/html": [
       "<table class=\"dataframe\">\n",
       "<caption>A data.frame: 6 × 2</caption>\n",
       "<thead>\n",
       "\t<tr><th scope=col>ORF_type</th><th scope=col>n</th></tr>\n",
       "\t<tr><th scope=col>&lt;chr&gt;</th><th scope=col>&lt;int&gt;</th></tr>\n",
       "</thead>\n",
       "<tbody>\n",
       "\t<tr><td>dORF     </td><td>3619</td></tr>\n",
       "\t<tr><td>iORF     </td><td>   4</td></tr>\n",
       "\t<tr><td>noncoding</td><td>5331</td></tr>\n",
       "\t<tr><td>odORF    </td><td>   4</td></tr>\n",
       "\t<tr><td>ouORF    </td><td>   7</td></tr>\n",
       "\t<tr><td>uORF     </td><td>1688</td></tr>\n",
       "</tbody>\n",
       "</table>\n"
      ],
      "text/latex": [
       "A data.frame: 6 × 2\n",
       "\\begin{tabular}{ll}\n",
       " ORF\\_type & n\\\\\n",
       " <chr> & <int>\\\\\n",
       "\\hline\n",
       "\t dORF      & 3619\\\\\n",
       "\t iORF      &    4\\\\\n",
       "\t noncoding & 5331\\\\\n",
       "\t odORF     &    4\\\\\n",
       "\t ouORF     &    7\\\\\n",
       "\t uORF      & 1688\\\\\n",
       "\\end{tabular}\n"
      ],
      "text/markdown": [
       "\n",
       "A data.frame: 6 × 2\n",
       "\n",
       "| ORF_type &lt;chr&gt; | n &lt;int&gt; |\n",
       "|---|---|\n",
       "| dORF      | 3619 |\n",
       "| iORF      |    4 |\n",
       "| noncoding | 5331 |\n",
       "| odORF     |    4 |\n",
       "| ouORF     |    7 |\n",
       "| uORF      | 1688 |\n",
       "\n"
      ],
      "text/plain": [
       "  ORF_type  n   \n",
       "1 dORF      3619\n",
       "2 iORF         4\n",
       "3 noncoding 5331\n",
       "4 odORF        4\n",
       "5 ouORF        7\n",
       "6 uORF      1688"
      ]
     },
     "metadata": {},
     "output_type": "display_data"
    },
    {
     "data": {
      "text/html": [
       "<table class=\"dataframe\">\n",
       "<caption>A data.frame: 5 × 2</caption>\n",
       "<thead>\n",
       "\t<tr><th scope=col>ORF_type</th><th scope=col>n</th></tr>\n",
       "\t<tr><th scope=col>&lt;chr&gt;</th><th scope=col>&lt;int&gt;</th></tr>\n",
       "</thead>\n",
       "<tbody>\n",
       "\t<tr><td>dORF     </td><td>1062</td></tr>\n",
       "\t<tr><td>noncoding</td><td>1834</td></tr>\n",
       "\t<tr><td>odORF    </td><td>   3</td></tr>\n",
       "\t<tr><td>ouORF    </td><td>   3</td></tr>\n",
       "\t<tr><td>uORF     </td><td> 660</td></tr>\n",
       "</tbody>\n",
       "</table>\n"
      ],
      "text/latex": [
       "A data.frame: 5 × 2\n",
       "\\begin{tabular}{ll}\n",
       " ORF\\_type & n\\\\\n",
       " <chr> & <int>\\\\\n",
       "\\hline\n",
       "\t dORF      & 1062\\\\\n",
       "\t noncoding & 1834\\\\\n",
       "\t odORF     &    3\\\\\n",
       "\t ouORF     &    3\\\\\n",
       "\t uORF      &  660\\\\\n",
       "\\end{tabular}\n"
      ],
      "text/markdown": [
       "\n",
       "A data.frame: 5 × 2\n",
       "\n",
       "| ORF_type &lt;chr&gt; | n &lt;int&gt; |\n",
       "|---|---|\n",
       "| dORF      | 1062 |\n",
       "| noncoding | 1834 |\n",
       "| odORF     |    3 |\n",
       "| ouORF     |    3 |\n",
       "| uORF      |  660 |\n",
       "\n"
      ],
      "text/plain": [
       "  ORF_type  n   \n",
       "1 dORF      1062\n",
       "2 noncoding 1834\n",
       "3 odORF        3\n",
       "4 ouORF        3\n",
       "5 uORF       660"
      ]
     },
     "metadata": {},
     "output_type": "display_data"
    },
    {
     "data": {
      "text/html": [
       "<table class=\"dataframe\">\n",
       "<caption>A data.frame: 10 × 2</caption>\n",
       "<thead>\n",
       "\t<tr><th scope=col>lineage</th><th scope=col>n</th></tr>\n",
       "\t<tr><th scope=col>&lt;chr&gt;</th><th scope=col>&lt;int&gt;</th></tr>\n",
       "</thead>\n",
       "<tbody>\n",
       "\t<tr><td>boreoeutheria</td><td> 168</td></tr>\n",
       "\t<tr><td>catarrhini   </td><td> 533</td></tr>\n",
       "\t<tr><td>hominoid     </td><td> 430</td></tr>\n",
       "\t<tr><td>human        </td><td> 303</td></tr>\n",
       "\t<tr><td>mammal       </td><td>  38</td></tr>\n",
       "\t<tr><td>placentalia  </td><td> 170</td></tr>\n",
       "\t<tr><td>primates     </td><td>  55</td></tr>\n",
       "\t<tr><td>primatomorpha</td><td>  11</td></tr>\n",
       "\t<tr><td>simiiformes  </td><td> 439</td></tr>\n",
       "\t<tr><td>NA           </td><td>1415</td></tr>\n",
       "</tbody>\n",
       "</table>\n"
      ],
      "text/latex": [
       "A data.frame: 10 × 2\n",
       "\\begin{tabular}{ll}\n",
       " lineage & n\\\\\n",
       " <chr> & <int>\\\\\n",
       "\\hline\n",
       "\t boreoeutheria &  168\\\\\n",
       "\t catarrhini    &  533\\\\\n",
       "\t hominoid      &  430\\\\\n",
       "\t human         &  303\\\\\n",
       "\t mammal        &   38\\\\\n",
       "\t placentalia   &  170\\\\\n",
       "\t primates      &   55\\\\\n",
       "\t primatomorpha &   11\\\\\n",
       "\t simiiformes   &  439\\\\\n",
       "\t NA            & 1415\\\\\n",
       "\\end{tabular}\n"
      ],
      "text/markdown": [
       "\n",
       "A data.frame: 10 × 2\n",
       "\n",
       "| lineage &lt;chr&gt; | n &lt;int&gt; |\n",
       "|---|---|\n",
       "| boreoeutheria |  168 |\n",
       "| catarrhini    |  533 |\n",
       "| hominoid      |  430 |\n",
       "| human         |  303 |\n",
       "| mammal        |   38 |\n",
       "| placentalia   |  170 |\n",
       "| primates      |   55 |\n",
       "| primatomorpha |   11 |\n",
       "| simiiformes   |  439 |\n",
       "| NA            | 1415 |\n",
       "\n"
      ],
      "text/plain": [
       "   lineage       n   \n",
       "1  boreoeutheria  168\n",
       "2  catarrhini     533\n",
       "3  hominoid       430\n",
       "4  human          303\n",
       "5  mammal          38\n",
       "6  placentalia    170\n",
       "7  primates        55\n",
       "8  primatomorpha   11\n",
       "9  simiiformes    439\n",
       "10 NA            1415"
      ]
     },
     "metadata": {},
     "output_type": "display_data"
    },
    {
     "data": {
      "text/html": [
       "<table class=\"dataframe\">\n",
       "<caption>A data.frame: 10 × 2</caption>\n",
       "<thead>\n",
       "\t<tr><th scope=col>lineage</th><th scope=col>n</th></tr>\n",
       "\t<tr><th scope=col>&lt;chr&gt;</th><th scope=col>&lt;int&gt;</th></tr>\n",
       "</thead>\n",
       "<tbody>\n",
       "\t<tr><td>boreoeutheria</td><td> 19</td></tr>\n",
       "\t<tr><td>catarrhini   </td><td> 63</td></tr>\n",
       "\t<tr><td>hominoid     </td><td> 52</td></tr>\n",
       "\t<tr><td>human        </td><td> 49</td></tr>\n",
       "\t<tr><td>mammal       </td><td>  8</td></tr>\n",
       "\t<tr><td>placentalia  </td><td> 34</td></tr>\n",
       "\t<tr><td>primates     </td><td>  8</td></tr>\n",
       "\t<tr><td>primatomorpha</td><td>  2</td></tr>\n",
       "\t<tr><td>simiiformes  </td><td> 56</td></tr>\n",
       "\t<tr><td>NA           </td><td>197</td></tr>\n",
       "</tbody>\n",
       "</table>\n"
      ],
      "text/latex": [
       "A data.frame: 10 × 2\n",
       "\\begin{tabular}{ll}\n",
       " lineage & n\\\\\n",
       " <chr> & <int>\\\\\n",
       "\\hline\n",
       "\t boreoeutheria &  19\\\\\n",
       "\t catarrhini    &  63\\\\\n",
       "\t hominoid      &  52\\\\\n",
       "\t human         &  49\\\\\n",
       "\t mammal        &   8\\\\\n",
       "\t placentalia   &  34\\\\\n",
       "\t primates      &   8\\\\\n",
       "\t primatomorpha &   2\\\\\n",
       "\t simiiformes   &  56\\\\\n",
       "\t NA            & 197\\\\\n",
       "\\end{tabular}\n"
      ],
      "text/markdown": [
       "\n",
       "A data.frame: 10 × 2\n",
       "\n",
       "| lineage &lt;chr&gt; | n &lt;int&gt; |\n",
       "|---|---|\n",
       "| boreoeutheria |  19 |\n",
       "| catarrhini    |  63 |\n",
       "| hominoid      |  52 |\n",
       "| human         |  49 |\n",
       "| mammal        |   8 |\n",
       "| placentalia   |  34 |\n",
       "| primates      |   8 |\n",
       "| primatomorpha |   2 |\n",
       "| simiiformes   |  56 |\n",
       "| NA            | 197 |\n",
       "\n"
      ],
      "text/plain": [
       "   lineage       n  \n",
       "1  boreoeutheria  19\n",
       "2  catarrhini     63\n",
       "3  hominoid       52\n",
       "4  human          49\n",
       "5  mammal          8\n",
       "6  placentalia    34\n",
       "7  primates        8\n",
       "8  primatomorpha   2\n",
       "9  simiiformes    56\n",
       "10 NA            197"
      ]
     },
     "metadata": {},
     "output_type": "display_data"
    }
   ],
   "source": [
    "filter(orfs_1,inframe_fraction==0) %>% nrow()\n",
    "filter(orfs_1,overlap_fraction==0) %>% nrow()\n",
    "# 等价于第2条\n",
    "# filter(orfs_1,overlap_fraction==0 & inframe_fraction==0) %>% nrow()\n",
    "filter(orfs_1,RPF_reads>0) %>% nrow()\n",
    "# filter(orfs_1,RPF_reads>=10) %>% nrow()\n",
    "filter(orfs_1,total_psites>0) %>% nrow()\n",
    "filter(orfs_1,inframe_fraction==0 & overlap_fraction==0 & RPF_reads>0) %>% nrow()\n",
    "filter(orfs_1,inframe_fraction==0 & overlap_fraction==0 & total_psites>0) %>% nrow()\n",
    "filter(orfs_1,inframe_fraction==0 & overlap_fraction==0 & total_psites>0 & frame0_fraction>=0.5) %>% nrow()\n",
    "filter(orfs_1,inframe_fraction==0 & overlap_fraction==0 & total_psites>0) %>% count(ORF_type)\n",
    "filter(orfs_1,inframe_fraction==0 & overlap_fraction==0 & total_psites>0 & frame0_fraction>=0.5) %>% count(ORF_type)\n",
    "filter(orf_2,inframe_fraction==0 & overlap_fraction==0 & total_psites>0 & frame0_fraction>=0.5) %>% count(lineage)\n",
    "filter(orf_2,inframe_fraction==0 & overlap_fraction==0 & total_psites>0 & Ribo_seq_evidence==\"True\") %>% count(lineage)"
   ]
  },
  {
   "cell_type": "code",
   "execution_count": 21,
   "id": "09729a94",
   "metadata": {
    "ExecuteTime": {
     "end_time": "2025-10-18T03:45:30.265056Z",
     "start_time": "2025-10-18T03:45:29.761Z"
    }
   },
   "outputs": [
    {
     "data": {
      "text/html": [
       "39078"
      ],
      "text/latex": [
       "39078"
      ],
      "text/markdown": [
       "39078"
      ],
      "text/plain": [
       "[1] 39078"
      ]
     },
     "metadata": {},
     "output_type": "display_data"
    },
    {
     "data": {
      "text/html": [
       "10185"
      ],
      "text/latex": [
       "10185"
      ],
      "text/markdown": [
       "10185"
      ],
      "text/plain": [
       "[1] 10185"
      ]
     },
     "metadata": {},
     "output_type": "display_data"
    },
    {
     "data": {
      "text/html": [
       "6182"
      ],
      "text/latex": [
       "6182"
      ],
      "text/markdown": [
       "6182"
      ],
      "text/plain": [
       "[1] 6182"
      ]
     },
     "metadata": {},
     "output_type": "display_data"
    }
   ],
   "source": [
    "nrow(orf_2)\n",
    "filter(orf_2,frame0_fraction>=0.5) %>% nrow()\n",
    "filter(orf_2,Ribo_seq_evidence==\"True\") %>% nrow()"
   ]
  },
  {
   "cell_type": "code",
   "execution_count": 28,
   "id": "4ac36af6",
   "metadata": {
    "ExecuteTime": {
     "end_time": "2025-10-18T03:54:22.024667Z",
     "start_time": "2025-10-18T03:54:21.515Z"
    }
   },
   "outputs": [
    {
     "data": {
      "text/html": [
       "<style>\n",
       ".list-inline {list-style: none; margin:0; padding: 0}\n",
       ".list-inline>li {display: inline-block}\n",
       ".list-inline>li:not(:last-child)::after {content: \"\\00b7\"; padding: 0 .5ex}\n",
       "</style>\n",
       "<ol class=list-inline><li>'ORF_id'</li><li>'ORF_type'</li><li>'Start_codon'</li><li>'Isoform_id'</li><li>'Chr'</li><li>'Strand'</li><li>'ORF_seq'</li><li>'ORF_length'</li><li>'Geneid'</li><li>'Isoform_structural_category'</li><li>'Isoform_subcategory'</li><li>'Is_uniprot'</li><li>'Is_canonical'</li><li>'Run_occurrence'</li><li>'RPF_reads'</li><li>'Psites_number'</li><li>'RPF_RPKM'</li><li>'Psites_RPKM'</li><li>'RPF_codon_coverage'</li><li>'Psites_codon_coverage'</li><li>'FL'</li><li>'FL_TPM'</li><li>'N'</li><li>'C'</li><li>'A'</li><li>'Gene_type'</li><li>'Unique_peptide_n'</li><li>'Unique_peptide_n_msfragger_closed'</li><li>'mean_relative_iBAQ'</li><li>'ORF_start'</li><li>'ORF_end'</li><li>'CDS_seq'</li><li>'ORF_id_custom'</li><li>'CDS_nt_len'</li><li>'n_codons'</li><li>'frame0'</li><li>'frame1'</li><li>'frame2'</li><li>'total_psites'</li><li>'frame0_fraction'</li><li>'frame0_codon_covered'</li><li>'overlap_bp'</li><li>'overlap_fraction'</li><li>'inframe_overlap_bp'</li><li>'inframe_fraction'</li><li>'n_annot_tx_overlapped'</li><li>'n_annot_gene_overlapped'</li><li>'top_hit_gene'</li><li>'top_hit_tx'</li><li>'ev_age'</li><li>'syn_age'</li><li>'denovo'</li><li>'lineage'</li><li>'loc_times_blat'</li><li>'gene_times_blastn'</li><li>'gene_times_blastn_pc'</li><li>'Outgroup Homolog'</li><li>'lineage_n'</li><li>'Outgroup Homolog n'</li><li>'Ribo_seq_evidence'</li></ol>\n"
      ],
      "text/latex": [
       "\\begin{enumerate*}\n",
       "\\item 'ORF\\_id'\n",
       "\\item 'ORF\\_type'\n",
       "\\item 'Start\\_codon'\n",
       "\\item 'Isoform\\_id'\n",
       "\\item 'Chr'\n",
       "\\item 'Strand'\n",
       "\\item 'ORF\\_seq'\n",
       "\\item 'ORF\\_length'\n",
       "\\item 'Geneid'\n",
       "\\item 'Isoform\\_structural\\_category'\n",
       "\\item 'Isoform\\_subcategory'\n",
       "\\item 'Is\\_uniprot'\n",
       "\\item 'Is\\_canonical'\n",
       "\\item 'Run\\_occurrence'\n",
       "\\item 'RPF\\_reads'\n",
       "\\item 'Psites\\_number'\n",
       "\\item 'RPF\\_RPKM'\n",
       "\\item 'Psites\\_RPKM'\n",
       "\\item 'RPF\\_codon\\_coverage'\n",
       "\\item 'Psites\\_codon\\_coverage'\n",
       "\\item 'FL'\n",
       "\\item 'FL\\_TPM'\n",
       "\\item 'N'\n",
       "\\item 'C'\n",
       "\\item 'A'\n",
       "\\item 'Gene\\_type'\n",
       "\\item 'Unique\\_peptide\\_n'\n",
       "\\item 'Unique\\_peptide\\_n\\_msfragger\\_closed'\n",
       "\\item 'mean\\_relative\\_iBAQ'\n",
       "\\item 'ORF\\_start'\n",
       "\\item 'ORF\\_end'\n",
       "\\item 'CDS\\_seq'\n",
       "\\item 'ORF\\_id\\_custom'\n",
       "\\item 'CDS\\_nt\\_len'\n",
       "\\item 'n\\_codons'\n",
       "\\item 'frame0'\n",
       "\\item 'frame1'\n",
       "\\item 'frame2'\n",
       "\\item 'total\\_psites'\n",
       "\\item 'frame0\\_fraction'\n",
       "\\item 'frame0\\_codon\\_covered'\n",
       "\\item 'overlap\\_bp'\n",
       "\\item 'overlap\\_fraction'\n",
       "\\item 'inframe\\_overlap\\_bp'\n",
       "\\item 'inframe\\_fraction'\n",
       "\\item 'n\\_annot\\_tx\\_overlapped'\n",
       "\\item 'n\\_annot\\_gene\\_overlapped'\n",
       "\\item 'top\\_hit\\_gene'\n",
       "\\item 'top\\_hit\\_tx'\n",
       "\\item 'ev\\_age'\n",
       "\\item 'syn\\_age'\n",
       "\\item 'denovo'\n",
       "\\item 'lineage'\n",
       "\\item 'loc\\_times\\_blat'\n",
       "\\item 'gene\\_times\\_blastn'\n",
       "\\item 'gene\\_times\\_blastn\\_pc'\n",
       "\\item 'Outgroup Homolog'\n",
       "\\item 'lineage\\_n'\n",
       "\\item 'Outgroup Homolog n'\n",
       "\\item 'Ribo\\_seq\\_evidence'\n",
       "\\end{enumerate*}\n"
      ],
      "text/markdown": [
       "1. 'ORF_id'\n",
       "2. 'ORF_type'\n",
       "3. 'Start_codon'\n",
       "4. 'Isoform_id'\n",
       "5. 'Chr'\n",
       "6. 'Strand'\n",
       "7. 'ORF_seq'\n",
       "8. 'ORF_length'\n",
       "9. 'Geneid'\n",
       "10. 'Isoform_structural_category'\n",
       "11. 'Isoform_subcategory'\n",
       "12. 'Is_uniprot'\n",
       "13. 'Is_canonical'\n",
       "14. 'Run_occurrence'\n",
       "15. 'RPF_reads'\n",
       "16. 'Psites_number'\n",
       "17. 'RPF_RPKM'\n",
       "18. 'Psites_RPKM'\n",
       "19. 'RPF_codon_coverage'\n",
       "20. 'Psites_codon_coverage'\n",
       "21. 'FL'\n",
       "22. 'FL_TPM'\n",
       "23. 'N'\n",
       "24. 'C'\n",
       "25. 'A'\n",
       "26. 'Gene_type'\n",
       "27. 'Unique_peptide_n'\n",
       "28. 'Unique_peptide_n_msfragger_closed'\n",
       "29. 'mean_relative_iBAQ'\n",
       "30. 'ORF_start'\n",
       "31. 'ORF_end'\n",
       "32. 'CDS_seq'\n",
       "33. 'ORF_id_custom'\n",
       "34. 'CDS_nt_len'\n",
       "35. 'n_codons'\n",
       "36. 'frame0'\n",
       "37. 'frame1'\n",
       "38. 'frame2'\n",
       "39. 'total_psites'\n",
       "40. 'frame0_fraction'\n",
       "41. 'frame0_codon_covered'\n",
       "42. 'overlap_bp'\n",
       "43. 'overlap_fraction'\n",
       "44. 'inframe_overlap_bp'\n",
       "45. 'inframe_fraction'\n",
       "46. 'n_annot_tx_overlapped'\n",
       "47. 'n_annot_gene_overlapped'\n",
       "48. 'top_hit_gene'\n",
       "49. 'top_hit_tx'\n",
       "50. 'ev_age'\n",
       "51. 'syn_age'\n",
       "52. 'denovo'\n",
       "53. 'lineage'\n",
       "54. 'loc_times_blat'\n",
       "55. 'gene_times_blastn'\n",
       "56. 'gene_times_blastn_pc'\n",
       "57. 'Outgroup Homolog'\n",
       "58. 'lineage_n'\n",
       "59. 'Outgroup Homolog n'\n",
       "60. 'Ribo_seq_evidence'\n",
       "\n",
       "\n"
      ],
      "text/plain": [
       " [1] \"ORF_id\"                            \"ORF_type\"                         \n",
       " [3] \"Start_codon\"                       \"Isoform_id\"                       \n",
       " [5] \"Chr\"                               \"Strand\"                           \n",
       " [7] \"ORF_seq\"                           \"ORF_length\"                       \n",
       " [9] \"Geneid\"                            \"Isoform_structural_category\"      \n",
       "[11] \"Isoform_subcategory\"               \"Is_uniprot\"                       \n",
       "[13] \"Is_canonical\"                      \"Run_occurrence\"                   \n",
       "[15] \"RPF_reads\"                         \"Psites_number\"                    \n",
       "[17] \"RPF_RPKM\"                          \"Psites_RPKM\"                      \n",
       "[19] \"RPF_codon_coverage\"                \"Psites_codon_coverage\"            \n",
       "[21] \"FL\"                                \"FL_TPM\"                           \n",
       "[23] \"N\"                                 \"C\"                                \n",
       "[25] \"A\"                                 \"Gene_type\"                        \n",
       "[27] \"Unique_peptide_n\"                  \"Unique_peptide_n_msfragger_closed\"\n",
       "[29] \"mean_relative_iBAQ\"                \"ORF_start\"                        \n",
       "[31] \"ORF_end\"                           \"CDS_seq\"                          \n",
       "[33] \"ORF_id_custom\"                     \"CDS_nt_len\"                       \n",
       "[35] \"n_codons\"                          \"frame0\"                           \n",
       "[37] \"frame1\"                            \"frame2\"                           \n",
       "[39] \"total_psites\"                      \"frame0_fraction\"                  \n",
       "[41] \"frame0_codon_covered\"              \"overlap_bp\"                       \n",
       "[43] \"overlap_fraction\"                  \"inframe_overlap_bp\"               \n",
       "[45] \"inframe_fraction\"                  \"n_annot_tx_overlapped\"            \n",
       "[47] \"n_annot_gene_overlapped\"           \"top_hit_gene\"                     \n",
       "[49] \"top_hit_tx\"                        \"ev_age\"                           \n",
       "[51] \"syn_age\"                           \"denovo\"                           \n",
       "[53] \"lineage\"                           \"loc_times_blat\"                   \n",
       "[55] \"gene_times_blastn\"                 \"gene_times_blastn_pc\"             \n",
       "[57] \"Outgroup Homolog\"                  \"lineage_n\"                        \n",
       "[59] \"Outgroup Homolog n\"                \"Ribo_seq_evidence\"                "
      ]
     },
     "metadata": {},
     "output_type": "display_data"
    }
   ],
   "source": [
    "colnames(orf_2)"
   ]
  },
  {
   "cell_type": "code",
   "execution_count": 27,
   "id": "71568cdb",
   "metadata": {
    "ExecuteTime": {
     "end_time": "2025-10-18T03:47:39.121302Z",
     "start_time": "2025-10-18T03:47:38.680Z"
    }
   },
   "outputs": [
    {
     "data": {
      "text/plain": [
       "     Min.   1st Qu.    Median      Mean   3rd Qu.      Max. \n",
       "   0.0000    0.9681    2.5200   10.6435    5.9463 2841.8377 "
      ]
     },
     "metadata": {},
     "output_type": "display_data"
    },
    {
     "data": {
      "text/plain": [
       "    Min.  1st Qu.   Median     Mean  3rd Qu.     Max. \n",
       "   0.000    1.066    2.285    6.518    4.530 1425.193 "
      ]
     },
     "metadata": {},
     "output_type": "display_data"
    },
    {
     "data": {
      "text/plain": [
       "    Min.  1st Qu.   Median     Mean  3rd Qu.     Max. \n",
       "   0.273    0.410    1.913   24.707   13.668 3572.033 "
      ]
     },
     "metadata": {},
     "output_type": "display_data"
    }
   ],
   "source": [
    "filter(orf_2,frame0_fraction>=0.5) %>% .$C %>% summary()\n",
    "filter(orf_2,frame0_fraction>=0.5) %>% .$A %>% summary()\n",
    "filter(orf_2,frame0_fraction>=0.5) %>% .$FL_TPM %>% summary()"
   ]
  },
  {
   "cell_type": "markdown",
   "id": "61a7c643",
   "metadata": {},
   "source": [
    "# Ribo-seq benchmark"
   ]
  },
  {
   "cell_type": "code",
   "execution_count": 8,
   "id": "2b456172",
   "metadata": {
    "ExecuteTime": {
     "end_time": "2025-10-17T09:36:56.222776Z",
     "start_time": "2025-10-17T09:36:22.956Z"
    }
   },
   "outputs": [
    {
     "data": {
      "text/html": [
       "<table class=\"dataframe\">\n",
       "<caption>A tibble: 3 × 4</caption>\n",
       "<thead>\n",
       "\t<tr><th scope=col>Software</th><th scope=col>n_unique_V4</th><th scope=col>n_in_orf2</th><th scope=col>prop_in_orf2</th></tr>\n",
       "\t<tr><th scope=col>&lt;chr&gt;</th><th scope=col>&lt;int&gt;</th><th scope=col>&lt;int&gt;</th><th scope=col>&lt;dbl&gt;</th></tr>\n",
       "</thead>\n",
       "<tbody>\n",
       "\t<tr><td>RibORF  </td><td>176246</td><td>5949</td><td>0.03375396</td></tr>\n",
       "\t<tr><td>RiboCode</td><td>155552</td><td>5293</td><td>0.03402721</td></tr>\n",
       "\t<tr><td>PRICE   </td><td> 17953</td><td> 676</td><td>0.03765387</td></tr>\n",
       "</tbody>\n",
       "</table>\n"
      ],
      "text/latex": [
       "A tibble: 3 × 4\n",
       "\\begin{tabular}{llll}\n",
       " Software & n\\_unique\\_V4 & n\\_in\\_orf2 & prop\\_in\\_orf2\\\\\n",
       " <chr> & <int> & <int> & <dbl>\\\\\n",
       "\\hline\n",
       "\t RibORF   & 176246 & 5949 & 0.03375396\\\\\n",
       "\t RiboCode & 155552 & 5293 & 0.03402721\\\\\n",
       "\t PRICE    &  17953 &  676 & 0.03765387\\\\\n",
       "\\end{tabular}\n"
      ],
      "text/markdown": [
       "\n",
       "A tibble: 3 × 4\n",
       "\n",
       "| Software &lt;chr&gt; | n_unique_V4 &lt;int&gt; | n_in_orf2 &lt;int&gt; | prop_in_orf2 &lt;dbl&gt; |\n",
       "|---|---|---|---|\n",
       "| RibORF   | 176246 | 5949 | 0.03375396 |\n",
       "| RiboCode | 155552 | 5293 | 0.03402721 |\n",
       "| PRICE    |  17953 |  676 | 0.03765387 |\n",
       "\n"
      ],
      "text/plain": [
       "  Software n_unique_V4 n_in_orf2 prop_in_orf2\n",
       "1 RibORF   176246      5949      0.03375396  \n",
       "2 RiboCode 155552      5293      0.03402721  \n",
       "3 PRICE     17953       676      0.03765387  "
      ]
     },
     "metadata": {},
     "output_type": "display_data"
    }
   ],
   "source": [
    "library(dplyr)\n",
    "\n",
    "# df has columns V1, V2, V3 (software), V4 (ID string to compare)\n",
    "# orf_2 has column ORF_id_custom\n",
    "id_set <- unique(na.omit(as.character(orf_2$ORF_id_custom)))\n",
    "\n",
    "res_by_sw <- orfs.3_ways %>%\n",
    "  transmute(Software = as.character(V3),\n",
    "            V4 = trimws(as.character(V4))) %>%\n",
    "  filter(!is.na(Software), !is.na(V4), V4 != \"\") %>%\n",
    "  distinct(Software, V4) %>%                 # deduplicate within (software, V4)\n",
    "  group_by(Software) %>%\n",
    "  summarise(\n",
    "    n_unique_V4   = n(),                      # unique V4 per software\n",
    "    n_in_orf2     = sum(V4 %in% id_set),      # hits in orf_2$ORF_id_custom\n",
    "    prop_in_orf2  = if_else(n_unique_V4 > 0, n_in_orf2 / n_unique_V4, NA_real_),\n",
    "    .groups = \"drop\"\n",
    "  ) %>%\n",
    "  arrange(desc(n_unique_V4))\n",
    "\n",
    "res_by_sw"
   ]
  },
  {
   "cell_type": "markdown",
   "id": "0060935e",
   "metadata": {},
   "source": [
    "# 2025-CG case"
   ]
  },
  {
   "cell_type": "code",
   "execution_count": 9,
   "id": "268c47ec",
   "metadata": {
    "ExecuteTime": {
     "end_time": "2025-10-17T09:36:56.263433Z",
     "start_time": "2025-10-17T09:36:22.956Z"
    }
   },
   "outputs": [
    {
     "name": "stdout",
     "output_type": "stream",
     "text": [
      "                                            ORF_id  ORF_type Start_codon\n",
      "1 PB.11229.2:chr12:+|26|1894:339:507|noncoding|ATG noncoding         ATG\n",
      "  Isoform_id   Chr Strand\n",
      "1 PB.11229.2 chr12      +\n",
      "                                                  ORF_seq ORF_length    Geneid\n",
      "1 MERRKSFALDQITALEGKRLQSHSFLRSAMGWDDTHLKKKKKEVTSLASLAKDMN         55 LINC02397\n",
      "  Isoform_structural_category  Isoform_subcategory Is_uniprot Is_canonical\n",
      "1           full-splice_match alternative_3end5end      FALSE        FALSE\n",
      "  Run_occurrence RPF_reads Psites_number  RPF_RPKM Psites_RPKM\n",
      "1              2        10             7 0.0040102  0.00397879\n",
      "  RPF_codon_coverage Psites_codon_coverage FL   FL_TPM         N         C\n",
      "1           0.181818              0.127273  9 1.230086 0.1859779 0.3611606\n",
      "          A Gene_type Unique_peptide_n Unique_peptide_n_msfragger_closed\n",
      "1 0.2735693    lncRNA                2                                 0\n",
      "  mean_relative_iBAQ ORF_start  ORF_end\n",
      "1        3.01561e-05  92482045 92482213\n",
      "                                                                                                                                                                CDS_seq\n",
      "1 atggagaggaggaaaagttttgcattggaccaaatcactgccttagaaggaaagagattgcaatcccattcatttttaagatCTGCAATGGGTTGGGATGATACCCATTTAAAAAAGAAAAAAAAAGAGGTTACCTCTTTGGCCTCTTTGGCAAAGGATATGAAC\n",
      "                                                                     ORF_id_custom\n",
      "1 +chr12:92482045-92482213:MERRKSFALDQITALEGKRLQSHSFLRSAMGWDDTHLKKKKKEVTSLASLAKDMN\n",
      "  CDS_nt_len n_codons frame0 frame1 frame2 total_psites frame0_fraction\n",
      "1        165       55      6      1      0            7        0.857143\n",
      "  frame0_codon_covered overlap_bp overlap_fraction inframe_overlap_bp\n",
      "1                    1          0                0                  0\n",
      "  inframe_fraction n_annot_tx_overlapped n_annot_gene_overlapped top_hit_gene\n",
      "1                0                     0                       0             \n",
      "  top_hit_tx   ev_age     syn_age denovo  lineage loc_times_blat\n",
      "1            hominoid placentalia      1 hominoid              1\n",
      "  gene_times_blastn gene_times_blastn_pc Outgroup Homolog lineage_n\n",
      "1                 0                    0            human         2\n",
      "  Outgroup Homolog n Ribo_seq_evidence\n",
      "1                  1             False\n"
     ]
    }
   ],
   "source": [
    "filter(orf_2,ORF_id==\"PB.11229.2:chr12:+|26|1894:339:507|noncoding|ATG\") %>% print()"
   ]
  },
  {
   "cell_type": "code",
   "execution_count": 32,
   "id": "fe905c3b",
   "metadata": {
    "ExecuteTime": {
     "end_time": "2025-10-21T02:52:13.552761Z",
     "start_time": "2025-10-21T02:52:13.419Z"
    }
   },
   "outputs": [
    {
     "name": "stdout",
     "output_type": "stream",
     "text": [
      "                                              ORF_id  ORF_type Start_codon\n",
      "1 PB.20625.144:chr18:+|35|2434:579:618|noncoding|GTG noncoding         GTG\n",
      "    Isoform_id   Chr Strand      ORF_seq ORF_length  Geneid\n",
      "1 PB.20625.144 chr18      + MWKGHWGETLFL         12 ZNF271P\n",
      "  Isoform_structural_category Isoform_subcategory Is_uniprot Is_canonical\n",
      "1           full-splice_match    alternative_3end      FALSE        FALSE\n",
      "  Run_occurrence RPF_reads Psites_number RPF_RPKM Psites_RPKM\n",
      "1              1        97            19 0.178287    0.049498\n",
      "  RPF_codon_coverage Psites_codon_coverage  FL   FL_TPM        N        C\n",
      "1            8.08333               1.58333 195 26.65187 1.256071 4.064862\n",
      "         A                      Gene_type Unique_peptide_n\n",
      "1 2.660466 transcribed_unitary_pseudogene                1\n",
      "  Unique_peptide_n_msfragger_closed mean_relative_iBAQ ORF_start  ORF_end\n",
      "1                                 0                 NA  35306254 35306293\n",
      "                               CDS_seq                         ORF_id_custom\n",
      "1 GTGTGGAAAGGCCACTGGGGAGAAACCTTATTCCTG +chr18:35306254-35306293:MWKGHWGETLFL\n",
      "  CDS_nt_len n_codons frame0 frame1 frame2 total_psites frame0_fraction\n",
      "1         36       12      4      3     12           19        0.210526\n",
      "  frame0_codon_covered overlap_bp overlap_fraction inframe_overlap_bp\n",
      "1                    2          0                0                  0\n",
      "  inframe_fraction n_annot_tx_overlapped n_annot_gene_overlapped top_hit_gene\n",
      "1                0                     0                       0             \n",
      "  top_hit_tx ev_age syn_age denovo     lineage loc_times_blat gene_times_blastn\n",
      "1            mammal  mammal      1 placentalia              1                 0\n",
      "  gene_times_blastn_pc Outgroup Homolog lineage_n Outgroup Homolog n\n",
      "1                    0            human         8                  1\n",
      "  Ribo_seq_evidence\n",
      "1             False\n"
     ]
    }
   ],
   "source": [
    "filter(orf_2,Geneid==\"ZNF271P\") %>% print()\n",
    "# colnames(orf_2)"
   ]
  }
 ],
 "metadata": {
  "kernelspec": {
   "display_name": "R_default_4.2",
   "language": "R",
   "name": "r_default_4.2"
  },
  "language_info": {
   "codemirror_mode": "r",
   "file_extension": ".r",
   "mimetype": "text/x-r-source",
   "name": "R",
   "pygments_lexer": "r",
   "version": "4.2.1"
  },
  "toc": {
   "base_numbering": 1,
   "nav_menu": {},
   "number_sections": true,
   "sideBar": true,
   "skip_h1_title": false,
   "title_cell": "Table of Contents",
   "title_sidebar": "Contents",
   "toc_cell": false,
   "toc_position": {
    "height": "calc(100% - 180px)",
    "left": "10px",
    "top": "150px",
    "width": "165px"
   },
   "toc_section_display": true,
   "toc_window_display": true
  }
 },
 "nbformat": 4,
 "nbformat_minor": 5
}
