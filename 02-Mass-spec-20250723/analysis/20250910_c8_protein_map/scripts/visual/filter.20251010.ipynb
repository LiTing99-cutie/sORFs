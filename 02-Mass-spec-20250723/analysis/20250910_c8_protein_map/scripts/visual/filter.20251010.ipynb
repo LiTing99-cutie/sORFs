{
 "cells": [
  {
   "cell_type": "code",
   "execution_count": 1,
   "id": "eed13f57",
   "metadata": {
    "ExecuteTime": {
     "end_time": "2025-10-10T09:29:17.560801Z",
     "start_time": "2025-10-10T09:29:16.091Z"
    }
   },
   "outputs": [],
   "source": [
    "source(\"/home/user/data2/lit/bin/lit_utils.R\")\n",
    "source(\"/home/user/data3/lit/project/sORFs/sORFs.utils.R\")\n",
    "lib_text()\n",
    "lib_plot()"
   ]
  },
  {
   "cell_type": "code",
   "execution_count": 27,
   "id": "822af92b",
   "metadata": {
    "ExecuteTime": {
     "end_time": "2025-10-10T10:02:25.594666Z",
     "start_time": "2025-10-10T10:02:25.069Z"
    }
   },
   "outputs": [
    {
     "data": {
      "text/html": [
       "<table class=\"dataframe\">\n",
       "<caption>A data.frame: 1 × 28</caption>\n",
       "<thead>\n",
       "\t<tr><th></th><th scope=col>ORF_id</th><th scope=col>ORF_type</th><th scope=col>Start_codon</th><th scope=col>Isoform_id</th><th scope=col>Chr</th><th scope=col>Strand</th><th scope=col>ORF_seq</th><th scope=col>ORF_length</th><th scope=col>Geneid</th><th scope=col>Isoform_structural_category</th><th scope=col>⋯</th><th scope=col>RPF_codon_coverage</th><th scope=col>Psites_codon_coverage</th><th scope=col>FL</th><th scope=col>FL_TPM</th><th scope=col>N</th><th scope=col>C</th><th scope=col>A</th><th scope=col>Gene_type</th><th scope=col>Unique_peptide_n</th><th scope=col>mean_relative_iBAQ</th></tr>\n",
       "\t<tr><th></th><th scope=col>&lt;chr&gt;</th><th scope=col>&lt;chr&gt;</th><th scope=col>&lt;chr&gt;</th><th scope=col>&lt;chr&gt;</th><th scope=col>&lt;chr&gt;</th><th scope=col>&lt;chr&gt;</th><th scope=col>&lt;chr&gt;</th><th scope=col>&lt;int&gt;</th><th scope=col>&lt;chr&gt;</th><th scope=col>&lt;chr&gt;</th><th scope=col>⋯</th><th scope=col>&lt;dbl&gt;</th><th scope=col>&lt;dbl&gt;</th><th scope=col>&lt;dbl&gt;</th><th scope=col>&lt;dbl&gt;</th><th scope=col>&lt;dbl&gt;</th><th scope=col>&lt;dbl&gt;</th><th scope=col>&lt;dbl&gt;</th><th scope=col>&lt;chr&gt;</th><th scope=col>&lt;int&gt;</th><th scope=col>&lt;dbl&gt;</th></tr>\n",
       "</thead>\n",
       "<tbody>\n",
       "\t<tr><th scope=row>1</th><td>PB.10027.4:chr12:-|10|1315:112:1117|canonical|ATG</td><td>canonical</td><td>ATG</td><td>PB.10027.4</td><td>chr12</td><td>-</td><td>MATLKEKLIAPVAEEEATVPNNKITVVGVGQVGMACAISILGKSLADELALVDVLEDKLKGEMMDLQHGSLFLQTPKIVADKDYSVTANSKIVVVTAGVRQQEGESRLNLVQRNVNVFKFIIPQIVKYSPDCIIIVVSNPVDILTYVTWKLSGLPKHRVIGSGCNLDSARFRYLMAEKLGIHPSSCHGWILGEHGDSSVAVWSGVNVAGVSLQELNPEMGTDNDSENWKEVHKMVVESAYEVIKLKGYTNWAIGLSVADLIESMLKNLSRIHPVSTMVKGMYGIENEVFLSLPCILNARGLTSVINQKLKDDEVAQLKKSADTLWDIQKDLKDL</td><td>334</td><td>LDHB</td><td>full-splice_match</td><td>⋯</td><td>359.042</td><td>314.479</td><td>4163</td><td>568.9832</td><td>0.3650371</td><td>0.06854658</td><td>0.2167918</td><td>protein_coding</td><td>51</td><td>0.0007624541</td></tr>\n",
       "</tbody>\n",
       "</table>\n"
      ],
      "text/latex": [
       "A data.frame: 1 × 28\n",
       "\\begin{tabular}{r|lllllllllllllllllllll}\n",
       "  & ORF\\_id & ORF\\_type & Start\\_codon & Isoform\\_id & Chr & Strand & ORF\\_seq & ORF\\_length & Geneid & Isoform\\_structural\\_category & ⋯ & RPF\\_codon\\_coverage & Psites\\_codon\\_coverage & FL & FL\\_TPM & N & C & A & Gene\\_type & Unique\\_peptide\\_n & mean\\_relative\\_iBAQ\\\\\n",
       "  & <chr> & <chr> & <chr> & <chr> & <chr> & <chr> & <chr> & <int> & <chr> & <chr> & ⋯ & <dbl> & <dbl> & <dbl> & <dbl> & <dbl> & <dbl> & <dbl> & <chr> & <int> & <dbl>\\\\\n",
       "\\hline\n",
       "\t1 & PB.10027.4:chr12:-\\textbar{}10\\textbar{}1315:112:1117\\textbar{}canonical\\textbar{}ATG & canonical & ATG & PB.10027.4 & chr12 & - & MATLKEKLIAPVAEEEATVPNNKITVVGVGQVGMACAISILGKSLADELALVDVLEDKLKGEMMDLQHGSLFLQTPKIVADKDYSVTANSKIVVVTAGVRQQEGESRLNLVQRNVNVFKFIIPQIVKYSPDCIIIVVSNPVDILTYVTWKLSGLPKHRVIGSGCNLDSARFRYLMAEKLGIHPSSCHGWILGEHGDSSVAVWSGVNVAGVSLQELNPEMGTDNDSENWKEVHKMVVESAYEVIKLKGYTNWAIGLSVADLIESMLKNLSRIHPVSTMVKGMYGIENEVFLSLPCILNARGLTSVINQKLKDDEVAQLKKSADTLWDIQKDLKDL & 334 & LDHB & full-splice\\_match & ⋯ & 359.042 & 314.479 & 4163 & 568.9832 & 0.3650371 & 0.06854658 & 0.2167918 & protein\\_coding & 51 & 0.0007624541\\\\\n",
       "\\end{tabular}\n"
      ],
      "text/markdown": [
       "\n",
       "A data.frame: 1 × 28\n",
       "\n",
       "| <!--/--> | ORF_id &lt;chr&gt; | ORF_type &lt;chr&gt; | Start_codon &lt;chr&gt; | Isoform_id &lt;chr&gt; | Chr &lt;chr&gt; | Strand &lt;chr&gt; | ORF_seq &lt;chr&gt; | ORF_length &lt;int&gt; | Geneid &lt;chr&gt; | Isoform_structural_category &lt;chr&gt; | ⋯ ⋯ | RPF_codon_coverage &lt;dbl&gt; | Psites_codon_coverage &lt;dbl&gt; | FL &lt;dbl&gt; | FL_TPM &lt;dbl&gt; | N &lt;dbl&gt; | C &lt;dbl&gt; | A &lt;dbl&gt; | Gene_type &lt;chr&gt; | Unique_peptide_n &lt;int&gt; | mean_relative_iBAQ &lt;dbl&gt; |\n",
       "|---|---|---|---|---|---|---|---|---|---|---|---|---|---|---|---|---|---|---|---|---|---|\n",
       "| 1 | PB.10027.4:chr12:-|10|1315:112:1117|canonical|ATG | canonical | ATG | PB.10027.4 | chr12 | - | MATLKEKLIAPVAEEEATVPNNKITVVGVGQVGMACAISILGKSLADELALVDVLEDKLKGEMMDLQHGSLFLQTPKIVADKDYSVTANSKIVVVTAGVRQQEGESRLNLVQRNVNVFKFIIPQIVKYSPDCIIIVVSNPVDILTYVTWKLSGLPKHRVIGSGCNLDSARFRYLMAEKLGIHPSSCHGWILGEHGDSSVAVWSGVNVAGVSLQELNPEMGTDNDSENWKEVHKMVVESAYEVIKLKGYTNWAIGLSVADLIESMLKNLSRIHPVSTMVKGMYGIENEVFLSLPCILNARGLTSVINQKLKDDEVAQLKKSADTLWDIQKDLKDL | 334 | LDHB | full-splice_match | ⋯ | 359.042 | 314.479 | 4163 | 568.9832 | 0.3650371 | 0.06854658 | 0.2167918 | protein_coding | 51 | 0.0007624541 |\n",
       "\n"
      ],
      "text/plain": [
       "  ORF_id                                            ORF_type  Start_codon\n",
       "1 PB.10027.4:chr12:-|10|1315:112:1117|canonical|ATG canonical ATG        \n",
       "  Isoform_id Chr   Strand\n",
       "1 PB.10027.4 chr12 -     \n",
       "  ORF_seq                                                                                                                                                                                                                                                                                                                                       \n",
       "1 MATLKEKLIAPVAEEEATVPNNKITVVGVGQVGMACAISILGKSLADELALVDVLEDKLKGEMMDLQHGSLFLQTPKIVADKDYSVTANSKIVVVTAGVRQQEGESRLNLVQRNVNVFKFIIPQIVKYSPDCIIIVVSNPVDILTYVTWKLSGLPKHRVIGSGCNLDSARFRYLMAEKLGIHPSSCHGWILGEHGDSSVAVWSGVNVAGVSLQELNPEMGTDNDSENWKEVHKMVVESAYEVIKLKGYTNWAIGLSVADLIESMLKNLSRIHPVSTMVKGMYGIENEVFLSLPCILNARGLTSVINQKLKDDEVAQLKKSADTLWDIQKDLKDL\n",
       "  ORF_length Geneid Isoform_structural_category ⋯ RPF_codon_coverage\n",
       "1 334        LDHB   full-splice_match           ⋯ 359.042           \n",
       "  Psites_codon_coverage FL   FL_TPM   N         C          A        \n",
       "1 314.479               4163 568.9832 0.3650371 0.06854658 0.2167918\n",
       "  Gene_type      Unique_peptide_n mean_relative_iBAQ\n",
       "1 protein_coding 51               0.0007624541      "
      ]
     },
     "metadata": {},
     "output_type": "display_data"
    },
    {
     "data": {
      "text/html": [
       "<style>\n",
       ".list-inline {list-style: none; margin:0; padding: 0}\n",
       ".list-inline>li {display: inline-block}\n",
       ".list-inline>li:not(:last-child)::after {content: \"\\00b7\"; padding: 0 .5ex}\n",
       "</style>\n",
       "<ol class=list-inline><li>'ORF_id'</li><li>'ORF_type'</li><li>'Start_codon'</li><li>'Isoform_id'</li><li>'Chr'</li><li>'Strand'</li><li>'ORF_seq'</li><li>'ORF_length'</li><li>'Geneid'</li><li>'Isoform_structural_category'</li><li>'Isoform_subcategory'</li><li>'Is_uniprot'</li><li>'Is_canonical'</li><li>'Run_occurrence'</li><li>'RPF_reads'</li><li>'Psites_number'</li><li>'RPF_RPKM'</li><li>'Psites_RPKM'</li><li>'RPF_codon_coverage'</li><li>'Psites_codon_coverage'</li><li>'FL'</li><li>'FL_TPM'</li><li>'N'</li><li>'C'</li><li>'A'</li><li>'Gene_type'</li><li>'Unique_peptide_n'</li><li>'mean_relative_iBAQ'</li></ol>\n"
      ],
      "text/latex": [
       "\\begin{enumerate*}\n",
       "\\item 'ORF\\_id'\n",
       "\\item 'ORF\\_type'\n",
       "\\item 'Start\\_codon'\n",
       "\\item 'Isoform\\_id'\n",
       "\\item 'Chr'\n",
       "\\item 'Strand'\n",
       "\\item 'ORF\\_seq'\n",
       "\\item 'ORF\\_length'\n",
       "\\item 'Geneid'\n",
       "\\item 'Isoform\\_structural\\_category'\n",
       "\\item 'Isoform\\_subcategory'\n",
       "\\item 'Is\\_uniprot'\n",
       "\\item 'Is\\_canonical'\n",
       "\\item 'Run\\_occurrence'\n",
       "\\item 'RPF\\_reads'\n",
       "\\item 'Psites\\_number'\n",
       "\\item 'RPF\\_RPKM'\n",
       "\\item 'Psites\\_RPKM'\n",
       "\\item 'RPF\\_codon\\_coverage'\n",
       "\\item 'Psites\\_codon\\_coverage'\n",
       "\\item 'FL'\n",
       "\\item 'FL\\_TPM'\n",
       "\\item 'N'\n",
       "\\item 'C'\n",
       "\\item 'A'\n",
       "\\item 'Gene\\_type'\n",
       "\\item 'Unique\\_peptide\\_n'\n",
       "\\item 'mean\\_relative\\_iBAQ'\n",
       "\\end{enumerate*}\n"
      ],
      "text/markdown": [
       "1. 'ORF_id'\n",
       "2. 'ORF_type'\n",
       "3. 'Start_codon'\n",
       "4. 'Isoform_id'\n",
       "5. 'Chr'\n",
       "6. 'Strand'\n",
       "7. 'ORF_seq'\n",
       "8. 'ORF_length'\n",
       "9. 'Geneid'\n",
       "10. 'Isoform_structural_category'\n",
       "11. 'Isoform_subcategory'\n",
       "12. 'Is_uniprot'\n",
       "13. 'Is_canonical'\n",
       "14. 'Run_occurrence'\n",
       "15. 'RPF_reads'\n",
       "16. 'Psites_number'\n",
       "17. 'RPF_RPKM'\n",
       "18. 'Psites_RPKM'\n",
       "19. 'RPF_codon_coverage'\n",
       "20. 'Psites_codon_coverage'\n",
       "21. 'FL'\n",
       "22. 'FL_TPM'\n",
       "23. 'N'\n",
       "24. 'C'\n",
       "25. 'A'\n",
       "26. 'Gene_type'\n",
       "27. 'Unique_peptide_n'\n",
       "28. 'mean_relative_iBAQ'\n",
       "\n",
       "\n"
      ],
      "text/plain": [
       " [1] \"ORF_id\"                      \"ORF_type\"                   \n",
       " [3] \"Start_codon\"                 \"Isoform_id\"                 \n",
       " [5] \"Chr\"                         \"Strand\"                     \n",
       " [7] \"ORF_seq\"                     \"ORF_length\"                 \n",
       " [9] \"Geneid\"                      \"Isoform_structural_category\"\n",
       "[11] \"Isoform_subcategory\"         \"Is_uniprot\"                 \n",
       "[13] \"Is_canonical\"                \"Run_occurrence\"             \n",
       "[15] \"RPF_reads\"                   \"Psites_number\"              \n",
       "[17] \"RPF_RPKM\"                    \"Psites_RPKM\"                \n",
       "[19] \"RPF_codon_coverage\"          \"Psites_codon_coverage\"      \n",
       "[21] \"FL\"                          \"FL_TPM\"                     \n",
       "[23] \"N\"                           \"C\"                          \n",
       "[25] \"A\"                           \"Gene_type\"                  \n",
       "[27] \"Unique_peptide_n\"            \"mean_relative_iBAQ\"         "
      ]
     },
     "metadata": {},
     "output_type": "display_data"
    },
    {
     "data": {
      "text/html": [
       "<table class=\"dataframe\">\n",
       "<caption>A data.frame: 2 × 2</caption>\n",
       "<thead>\n",
       "\t<tr><th scope=col>Is_canonical</th><th scope=col>n</th></tr>\n",
       "\t<tr><th scope=col>&lt;lgl&gt;</th><th scope=col>&lt;int&gt;</th></tr>\n",
       "</thead>\n",
       "<tbody>\n",
       "\t<tr><td>FALSE</td><td>34212</td></tr>\n",
       "\t<tr><td> TRUE</td><td> 7853</td></tr>\n",
       "</tbody>\n",
       "</table>\n"
      ],
      "text/latex": [
       "A data.frame: 2 × 2\n",
       "\\begin{tabular}{ll}\n",
       " Is\\_canonical & n\\\\\n",
       " <lgl> & <int>\\\\\n",
       "\\hline\n",
       "\t FALSE & 34212\\\\\n",
       "\t  TRUE &  7853\\\\\n",
       "\\end{tabular}\n"
      ],
      "text/markdown": [
       "\n",
       "A data.frame: 2 × 2\n",
       "\n",
       "| Is_canonical &lt;lgl&gt; | n &lt;int&gt; |\n",
       "|---|---|\n",
       "| FALSE | 34212 |\n",
       "|  TRUE |  7853 |\n",
       "\n"
      ],
      "text/plain": [
       "  Is_canonical n    \n",
       "1 FALSE        34212\n",
       "2  TRUE         7853"
      ]
     },
     "metadata": {},
     "output_type": "display_data"
    }
   ],
   "source": [
    "orfs_path <- \"../../results/1/orfs_merged_final.tsv\"\n",
    "fread_c(orfs_path) -> orfs\n",
    "head(orfs,1)\n",
    "colnames(orfs)\n",
    "count(orfs,Is_canonical)"
   ]
  },
  {
   "cell_type": "code",
   "execution_count": 7,
   "id": "65adc623",
   "metadata": {
    "ExecuteTime": {
     "end_time": "2025-10-10T09:31:07.184895Z",
     "start_time": "2025-10-10T09:31:06.856Z"
    }
   },
   "outputs": [
    {
     "data": {
      "text/html": [
       "<table class=\"dataframe\">\n",
       "<caption>A data.frame: 1 × 9</caption>\n",
       "<thead>\n",
       "\t<tr><th></th><th scope=col>ORF_id</th><th scope=col>CDS_nt_len</th><th scope=col>n_codons</th><th scope=col>frame0</th><th scope=col>frame1</th><th scope=col>frame2</th><th scope=col>total_psites</th><th scope=col>frame0_fraction</th><th scope=col>frame0_codon_covered</th></tr>\n",
       "\t<tr><th></th><th scope=col>&lt;chr&gt;</th><th scope=col>&lt;int&gt;</th><th scope=col>&lt;int&gt;</th><th scope=col>&lt;int&gt;</th><th scope=col>&lt;int&gt;</th><th scope=col>&lt;int&gt;</th><th scope=col>&lt;int&gt;</th><th scope=col>&lt;dbl&gt;</th><th scope=col>&lt;int&gt;</th></tr>\n",
       "</thead>\n",
       "<tbody>\n",
       "\t<tr><th scope=row>1</th><td>PB.1.16:chr1:-|66|1611:871:1024|noncoding|GTG</td><td>150</td><td>50</td><td>0</td><td>0</td><td>0</td><td>0</td><td>0</td><td>0</td></tr>\n",
       "</tbody>\n",
       "</table>\n"
      ],
      "text/latex": [
       "A data.frame: 1 × 9\n",
       "\\begin{tabular}{r|lllllllll}\n",
       "  & ORF\\_id & CDS\\_nt\\_len & n\\_codons & frame0 & frame1 & frame2 & total\\_psites & frame0\\_fraction & frame0\\_codon\\_covered\\\\\n",
       "  & <chr> & <int> & <int> & <int> & <int> & <int> & <int> & <dbl> & <int>\\\\\n",
       "\\hline\n",
       "\t1 & PB.1.16:chr1:-\\textbar{}66\\textbar{}1611:871:1024\\textbar{}noncoding\\textbar{}GTG & 150 & 50 & 0 & 0 & 0 & 0 & 0 & 0\\\\\n",
       "\\end{tabular}\n"
      ],
      "text/markdown": [
       "\n",
       "A data.frame: 1 × 9\n",
       "\n",
       "| <!--/--> | ORF_id &lt;chr&gt; | CDS_nt_len &lt;int&gt; | n_codons &lt;int&gt; | frame0 &lt;int&gt; | frame1 &lt;int&gt; | frame2 &lt;int&gt; | total_psites &lt;int&gt; | frame0_fraction &lt;dbl&gt; | frame0_codon_covered &lt;int&gt; |\n",
       "|---|---|---|---|---|---|---|---|---|---|\n",
       "| 1 | PB.1.16:chr1:-|66|1611:871:1024|noncoding|GTG | 150 | 50 | 0 | 0 | 0 | 0 | 0 | 0 |\n",
       "\n"
      ],
      "text/plain": [
       "  ORF_id                                        CDS_nt_len n_codons frame0\n",
       "1 PB.1.16:chr1:-|66|1611:871:1024|noncoding|GTG 150        50       0     \n",
       "  frame1 frame2 total_psites frame0_fraction frame0_codon_covered\n",
       "1 0      0      0            0               0                   "
      ]
     },
     "metadata": {},
     "output_type": "display_data"
    }
   ],
   "source": [
    "fread_c(\"../../results/1/peri/psite_frame_stats.v1.tsv\") -> orfs_peri\n",
    "head(orfs_peri,1)"
   ]
  },
  {
   "cell_type": "code",
   "execution_count": 8,
   "id": "32f87097",
   "metadata": {
    "ExecuteTime": {
     "end_time": "2025-10-10T09:31:11.022558Z",
     "start_time": "2025-10-10T09:31:10.515Z"
    }
   },
   "outputs": [
    {
     "data": {
      "text/html": [
       "<table class=\"dataframe\">\n",
       "<caption>A data.frame: 1 × 9</caption>\n",
       "<thead>\n",
       "\t<tr><th></th><th scope=col>ORF_id</th><th scope=col>overlap_bp</th><th scope=col>overlap_fraction</th><th scope=col>inframe_overlap_bp</th><th scope=col>inframe_fraction</th><th scope=col>n_annot_tx_overlapped</th><th scope=col>n_annot_gene_overlapped</th><th scope=col>top_hit_gene</th><th scope=col>top_hit_tx</th></tr>\n",
       "\t<tr><th></th><th scope=col>&lt;chr&gt;</th><th scope=col>&lt;int&gt;</th><th scope=col>&lt;dbl&gt;</th><th scope=col>&lt;int&gt;</th><th scope=col>&lt;dbl&gt;</th><th scope=col>&lt;int&gt;</th><th scope=col>&lt;int&gt;</th><th scope=col>&lt;chr&gt;</th><th scope=col>&lt;chr&gt;</th></tr>\n",
       "</thead>\n",
       "<tbody>\n",
       "\t<tr><th scope=row>1</th><td>PB.22711.2:chr19:-|16|1554:181:445|noncoding|ACG</td><td>95</td><td>0.3639847</td><td>0</td><td>0</td><td>1</td><td>1</td><td>ENSG00000121410.12</td><td>ENST00000263100.8</td></tr>\n",
       "</tbody>\n",
       "</table>\n"
      ],
      "text/latex": [
       "A data.frame: 1 × 9\n",
       "\\begin{tabular}{r|lllllllll}\n",
       "  & ORF\\_id & overlap\\_bp & overlap\\_fraction & inframe\\_overlap\\_bp & inframe\\_fraction & n\\_annot\\_tx\\_overlapped & n\\_annot\\_gene\\_overlapped & top\\_hit\\_gene & top\\_hit\\_tx\\\\\n",
       "  & <chr> & <int> & <dbl> & <int> & <dbl> & <int> & <int> & <chr> & <chr>\\\\\n",
       "\\hline\n",
       "\t1 & PB.22711.2:chr19:-\\textbar{}16\\textbar{}1554:181:445\\textbar{}noncoding\\textbar{}ACG & 95 & 0.3639847 & 0 & 0 & 1 & 1 & ENSG00000121410.12 & ENST00000263100.8\\\\\n",
       "\\end{tabular}\n"
      ],
      "text/markdown": [
       "\n",
       "A data.frame: 1 × 9\n",
       "\n",
       "| <!--/--> | ORF_id &lt;chr&gt; | overlap_bp &lt;int&gt; | overlap_fraction &lt;dbl&gt; | inframe_overlap_bp &lt;int&gt; | inframe_fraction &lt;dbl&gt; | n_annot_tx_overlapped &lt;int&gt; | n_annot_gene_overlapped &lt;int&gt; | top_hit_gene &lt;chr&gt; | top_hit_tx &lt;chr&gt; |\n",
       "|---|---|---|---|---|---|---|---|---|---|\n",
       "| 1 | PB.22711.2:chr19:-|16|1554:181:445|noncoding|ACG | 95 | 0.3639847 | 0 | 0 | 1 | 1 | ENSG00000121410.12 | ENST00000263100.8 |\n",
       "\n"
      ],
      "text/plain": [
       "  ORF_id                                           overlap_bp overlap_fraction\n",
       "1 PB.22711.2:chr19:-|16|1554:181:445|noncoding|ACG 95         0.3639847       \n",
       "  inframe_overlap_bp inframe_fraction n_annot_tx_overlapped\n",
       "1 0                  0                1                    \n",
       "  n_annot_gene_overlapped top_hit_gene       top_hit_tx       \n",
       "1 1                       ENSG00000121410.12 ENST00000263100.8"
      ]
     },
     "metadata": {},
     "output_type": "display_data"
    }
   ],
   "source": [
    "fread_c(\"../../results/1/orf_overlap_inframe.txt\") -> orfs_overlap\n",
    "head(orfs_overlap,1)"
   ]
  },
  {
   "cell_type": "code",
   "execution_count": 12,
   "id": "0321a610",
   "metadata": {
    "ExecuteTime": {
     "end_time": "2025-10-10T09:34:04.121233Z",
     "start_time": "2025-10-10T09:34:03.091Z"
    }
   },
   "outputs": [
    {
     "data": {
      "text/html": [
       "<table class=\"dataframe\">\n",
       "<caption>A data.frame: 1 × 44</caption>\n",
       "<thead>\n",
       "\t<tr><th></th><th scope=col>ORF_id</th><th scope=col>ORF_type</th><th scope=col>Start_codon</th><th scope=col>Isoform_id</th><th scope=col>Chr</th><th scope=col>Strand</th><th scope=col>ORF_seq</th><th scope=col>ORF_length</th><th scope=col>Geneid</th><th scope=col>Isoform_structural_category</th><th scope=col>⋯</th><th scope=col>frame0_fraction</th><th scope=col>frame0_codon_covered</th><th scope=col>overlap_bp</th><th scope=col>overlap_fraction</th><th scope=col>inframe_overlap_bp</th><th scope=col>inframe_fraction</th><th scope=col>n_annot_tx_overlapped</th><th scope=col>n_annot_gene_overlapped</th><th scope=col>top_hit_gene</th><th scope=col>top_hit_tx</th></tr>\n",
       "\t<tr><th></th><th scope=col>&lt;chr&gt;</th><th scope=col>&lt;chr&gt;</th><th scope=col>&lt;chr&gt;</th><th scope=col>&lt;chr&gt;</th><th scope=col>&lt;chr&gt;</th><th scope=col>&lt;chr&gt;</th><th scope=col>&lt;chr&gt;</th><th scope=col>&lt;int&gt;</th><th scope=col>&lt;chr&gt;</th><th scope=col>&lt;chr&gt;</th><th scope=col>⋯</th><th scope=col>&lt;dbl&gt;</th><th scope=col>&lt;int&gt;</th><th scope=col>&lt;int&gt;</th><th scope=col>&lt;dbl&gt;</th><th scope=col>&lt;int&gt;</th><th scope=col>&lt;dbl&gt;</th><th scope=col>&lt;int&gt;</th><th scope=col>&lt;int&gt;</th><th scope=col>&lt;chr&gt;</th><th scope=col>&lt;chr&gt;</th></tr>\n",
       "</thead>\n",
       "<tbody>\n",
       "\t<tr><th scope=row>1</th><td>PB.1.16:chr1:-|66|1611:871:1024|noncoding|GTG</td><td>noncoding</td><td>GTG</td><td>PB.1.16</td><td>chr1</td><td>-</td><td>MLASAPPLPPSTAAPVGQGARQDDSSSSASPSVQGAPREVVDPSGGWPLC</td><td>50</td><td>WASH7P</td><td>novel_not_in_catalog</td><td>⋯</td><td>0</td><td>0</td><td>0</td><td>0</td><td>0</td><td>0</td><td>0</td><td>0</td><td></td><td></td></tr>\n",
       "</tbody>\n",
       "</table>\n"
      ],
      "text/latex": [
       "A data.frame: 1 × 44\n",
       "\\begin{tabular}{r|lllllllllllllllllllll}\n",
       "  & ORF\\_id & ORF\\_type & Start\\_codon & Isoform\\_id & Chr & Strand & ORF\\_seq & ORF\\_length & Geneid & Isoform\\_structural\\_category & ⋯ & frame0\\_fraction & frame0\\_codon\\_covered & overlap\\_bp & overlap\\_fraction & inframe\\_overlap\\_bp & inframe\\_fraction & n\\_annot\\_tx\\_overlapped & n\\_annot\\_gene\\_overlapped & top\\_hit\\_gene & top\\_hit\\_tx\\\\\n",
       "  & <chr> & <chr> & <chr> & <chr> & <chr> & <chr> & <chr> & <int> & <chr> & <chr> & ⋯ & <dbl> & <int> & <int> & <dbl> & <int> & <dbl> & <int> & <int> & <chr> & <chr>\\\\\n",
       "\\hline\n",
       "\t1 & PB.1.16:chr1:-\\textbar{}66\\textbar{}1611:871:1024\\textbar{}noncoding\\textbar{}GTG & noncoding & GTG & PB.1.16 & chr1 & - & MLASAPPLPPSTAAPVGQGARQDDSSSSASPSVQGAPREVVDPSGGWPLC & 50 & WASH7P & novel\\_not\\_in\\_catalog & ⋯ & 0 & 0 & 0 & 0 & 0 & 0 & 0 & 0 &  & \\\\\n",
       "\\end{tabular}\n"
      ],
      "text/markdown": [
       "\n",
       "A data.frame: 1 × 44\n",
       "\n",
       "| <!--/--> | ORF_id &lt;chr&gt; | ORF_type &lt;chr&gt; | Start_codon &lt;chr&gt; | Isoform_id &lt;chr&gt; | Chr &lt;chr&gt; | Strand &lt;chr&gt; | ORF_seq &lt;chr&gt; | ORF_length &lt;int&gt; | Geneid &lt;chr&gt; | Isoform_structural_category &lt;chr&gt; | ⋯ ⋯ | frame0_fraction &lt;dbl&gt; | frame0_codon_covered &lt;int&gt; | overlap_bp &lt;int&gt; | overlap_fraction &lt;dbl&gt; | inframe_overlap_bp &lt;int&gt; | inframe_fraction &lt;dbl&gt; | n_annot_tx_overlapped &lt;int&gt; | n_annot_gene_overlapped &lt;int&gt; | top_hit_gene &lt;chr&gt; | top_hit_tx &lt;chr&gt; |\n",
       "|---|---|---|---|---|---|---|---|---|---|---|---|---|---|---|---|---|---|---|---|---|---|\n",
       "| 1 | PB.1.16:chr1:-|66|1611:871:1024|noncoding|GTG | noncoding | GTG | PB.1.16 | chr1 | - | MLASAPPLPPSTAAPVGQGARQDDSSSSASPSVQGAPREVVDPSGGWPLC | 50 | WASH7P | novel_not_in_catalog | ⋯ | 0 | 0 | 0 | 0 | 0 | 0 | 0 | 0 | <!----> | <!----> |\n",
       "\n"
      ],
      "text/plain": [
       "  ORF_id                                        ORF_type  Start_codon\n",
       "1 PB.1.16:chr1:-|66|1611:871:1024|noncoding|GTG noncoding GTG        \n",
       "  Isoform_id Chr  Strand ORF_seq                                           \n",
       "1 PB.1.16    chr1 -      MLASAPPLPPSTAAPVGQGARQDDSSSSASPSVQGAPREVVDPSGGWPLC\n",
       "  ORF_length Geneid Isoform_structural_category ⋯ frame0_fraction\n",
       "1 50         WASH7P novel_not_in_catalog        ⋯ 0              \n",
       "  frame0_codon_covered overlap_bp overlap_fraction inframe_overlap_bp\n",
       "1 0                    0          0                0                 \n",
       "  inframe_fraction n_annot_tx_overlapped n_annot_gene_overlapped top_hit_gene\n",
       "1 0                0                     0                                   \n",
       "  top_hit_tx\n",
       "1           "
      ]
     },
     "metadata": {},
     "output_type": "display_data"
    },
    {
     "data": {
      "text/html": [
       "39078"
      ],
      "text/latex": [
       "39078"
      ],
      "text/markdown": [
       "39078"
      ],
      "text/plain": [
       "[1] 39078"
      ]
     },
     "metadata": {},
     "output_type": "display_data"
    }
   ],
   "source": [
    "merge(orfs,orfs_peri) %>% merge(orfs_overlap) -> orfs_1\n",
    "orfs_1 %>% head(1)\n",
    "orfs_1 %>% nrow()"
   ]
  },
  {
   "cell_type": "code",
   "execution_count": 14,
   "id": "98a8b29e",
   "metadata": {
    "ExecuteTime": {
     "end_time": "2025-10-10T09:34:46.049098Z",
     "start_time": "2025-10-10T09:34:45.643Z"
    }
   },
   "outputs": [
    {
     "data": {
      "text/html": [
       "<table class=\"dataframe\">\n",
       "<caption>A tibble: 2 × 2</caption>\n",
       "<thead>\n",
       "\t<tr><th scope=col>Is_canonical</th><th scope=col>frame0_fraction_mean</th></tr>\n",
       "\t<tr><th scope=col>&lt;lgl&gt;</th><th scope=col>&lt;dbl&gt;</th></tr>\n",
       "</thead>\n",
       "<tbody>\n",
       "\t<tr><td>FALSE</td><td>0.1791894</td></tr>\n",
       "\t<tr><td> TRUE</td><td>0.8328659</td></tr>\n",
       "</tbody>\n",
       "</table>\n"
      ],
      "text/latex": [
       "A tibble: 2 × 2\n",
       "\\begin{tabular}{ll}\n",
       " Is\\_canonical & frame0\\_fraction\\_mean\\\\\n",
       " <lgl> & <dbl>\\\\\n",
       "\\hline\n",
       "\t FALSE & 0.1791894\\\\\n",
       "\t  TRUE & 0.8328659\\\\\n",
       "\\end{tabular}\n"
      ],
      "text/markdown": [
       "\n",
       "A tibble: 2 × 2\n",
       "\n",
       "| Is_canonical &lt;lgl&gt; | frame0_fraction_mean &lt;dbl&gt; |\n",
       "|---|---|\n",
       "| FALSE | 0.1791894 |\n",
       "|  TRUE | 0.8328659 |\n",
       "\n"
      ],
      "text/plain": [
       "  Is_canonical frame0_fraction_mean\n",
       "1 FALSE        0.1791894           \n",
       "2  TRUE        0.8328659           "
      ]
     },
     "metadata": {},
     "output_type": "display_data"
    },
    {
     "data": {
      "text/html": [
       "<table class=\"dataframe\">\n",
       "<caption>A tibble: 2 × 2</caption>\n",
       "<thead>\n",
       "\t<tr><th scope=col>Is_canonical</th><th scope=col>inframe_fraction_mean</th></tr>\n",
       "\t<tr><th scope=col>&lt;lgl&gt;</th><th scope=col>&lt;dbl&gt;</th></tr>\n",
       "</thead>\n",
       "<tbody>\n",
       "\t<tr><td>FALSE</td><td>0.05497943</td></tr>\n",
       "\t<tr><td> TRUE</td><td>1.00000000</td></tr>\n",
       "</tbody>\n",
       "</table>\n"
      ],
      "text/latex": [
       "A tibble: 2 × 2\n",
       "\\begin{tabular}{ll}\n",
       " Is\\_canonical & inframe\\_fraction\\_mean\\\\\n",
       " <lgl> & <dbl>\\\\\n",
       "\\hline\n",
       "\t FALSE & 0.05497943\\\\\n",
       "\t  TRUE & 1.00000000\\\\\n",
       "\\end{tabular}\n"
      ],
      "text/markdown": [
       "\n",
       "A tibble: 2 × 2\n",
       "\n",
       "| Is_canonical &lt;lgl&gt; | inframe_fraction_mean &lt;dbl&gt; |\n",
       "|---|---|\n",
       "| FALSE | 0.05497943 |\n",
       "|  TRUE | 1.00000000 |\n",
       "\n"
      ],
      "text/plain": [
       "  Is_canonical inframe_fraction_mean\n",
       "1 FALSE        0.05497943           \n",
       "2  TRUE        1.00000000           "
      ]
     },
     "metadata": {},
     "output_type": "display_data"
    }
   ],
   "source": [
    "orfs_1 %>% group_by(Is_canonical) %>% summarise(frame0_fraction_mean=mean(frame0_fraction))\n",
    "orfs_1 %>% group_by(Is_canonical) %>% summarise(inframe_fraction_mean=mean(inframe_fraction))"
   ]
  },
  {
   "cell_type": "markdown",
   "id": "339a7fe5",
   "metadata": {},
   "source": [
    "* 需要对orfs进行过滤，过滤掉那些有in-frame overlap的orfs。这部分用来建模。\n",
    "\n",
    "- 结果（共39078个）\n",
    "     - 31638 inframe_fraction为0（用于计算进化参数，没有in-frame的部分干扰）\n",
    "     - 23723 overlap_fraction为0 (适合用于建模，翻译水平以及周期性能算准）\n",
    "     - 25370 有p sites覆盖\n",
    "     - 13094 overlap_fraction为0且有PRF reads覆盖（证据较强，没有和任何注释CDS覆盖，有肽段证据且有RPF reads支持）\n",
    "     - 10653 overlap_fraction为0且有p sites覆盖（证据强，没有和任何注释CDS覆盖，有肽段证据且有p sites支持）\n",
    "     - 3562 overlap_fraction为0且frame0_fraction大于等于0.5（证据非常强，没有和任何注释CDS覆盖，有肽段证据且三碱基周期性大于等于0.5）"
   ]
  },
  {
   "cell_type": "code",
   "execution_count": 26,
   "id": "657c41f1",
   "metadata": {
    "ExecuteTime": {
     "end_time": "2025-10-10T09:51:50.439543Z",
     "start_time": "2025-10-10T09:51:49.978Z"
    }
   },
   "outputs": [
    {
     "data": {
      "text/html": [
       "31638"
      ],
      "text/latex": [
       "31638"
      ],
      "text/markdown": [
       "31638"
      ],
      "text/plain": [
       "[1] 31638"
      ]
     },
     "metadata": {},
     "output_type": "display_data"
    },
    {
     "data": {
      "text/html": [
       "23723"
      ],
      "text/latex": [
       "23723"
      ],
      "text/markdown": [
       "23723"
      ],
      "text/plain": [
       "[1] 23723"
      ]
     },
     "metadata": {},
     "output_type": "display_data"
    },
    {
     "data": {
      "text/html": [
       "25370"
      ],
      "text/latex": [
       "25370"
      ],
      "text/markdown": [
       "25370"
      ],
      "text/plain": [
       "[1] 25370"
      ]
     },
     "metadata": {},
     "output_type": "display_data"
    },
    {
     "data": {
      "text/html": [
       "10653"
      ],
      "text/latex": [
       "10653"
      ],
      "text/markdown": [
       "10653"
      ],
      "text/plain": [
       "[1] 10653"
      ]
     },
     "metadata": {},
     "output_type": "display_data"
    },
    {
     "data": {
      "text/html": [
       "13094"
      ],
      "text/latex": [
       "13094"
      ],
      "text/markdown": [
       "13094"
      ],
      "text/plain": [
       "[1] 13094"
      ]
     },
     "metadata": {},
     "output_type": "display_data"
    },
    {
     "data": {
      "text/html": [
       "3562"
      ],
      "text/latex": [
       "3562"
      ],
      "text/markdown": [
       "3562"
      ],
      "text/plain": [
       "[1] 3562"
      ]
     },
     "metadata": {},
     "output_type": "display_data"
    },
    {
     "data": {
      "text/html": [
       "<table class=\"dataframe\">\n",
       "<caption>A data.frame: 6 × 2</caption>\n",
       "<thead>\n",
       "\t<tr><th scope=col>ORF_type</th><th scope=col>n</th></tr>\n",
       "\t<tr><th scope=col>&lt;chr&gt;</th><th scope=col>&lt;int&gt;</th></tr>\n",
       "</thead>\n",
       "<tbody>\n",
       "\t<tr><td>dORF     </td><td>3619</td></tr>\n",
       "\t<tr><td>iORF     </td><td>   4</td></tr>\n",
       "\t<tr><td>noncoding</td><td>5331</td></tr>\n",
       "\t<tr><td>odORF    </td><td>   4</td></tr>\n",
       "\t<tr><td>ouORF    </td><td>   7</td></tr>\n",
       "\t<tr><td>uORF     </td><td>1688</td></tr>\n",
       "</tbody>\n",
       "</table>\n"
      ],
      "text/latex": [
       "A data.frame: 6 × 2\n",
       "\\begin{tabular}{ll}\n",
       " ORF\\_type & n\\\\\n",
       " <chr> & <int>\\\\\n",
       "\\hline\n",
       "\t dORF      & 3619\\\\\n",
       "\t iORF      &    4\\\\\n",
       "\t noncoding & 5331\\\\\n",
       "\t odORF     &    4\\\\\n",
       "\t ouORF     &    7\\\\\n",
       "\t uORF      & 1688\\\\\n",
       "\\end{tabular}\n"
      ],
      "text/markdown": [
       "\n",
       "A data.frame: 6 × 2\n",
       "\n",
       "| ORF_type &lt;chr&gt; | n &lt;int&gt; |\n",
       "|---|---|\n",
       "| dORF      | 3619 |\n",
       "| iORF      |    4 |\n",
       "| noncoding | 5331 |\n",
       "| odORF     |    4 |\n",
       "| ouORF     |    7 |\n",
       "| uORF      | 1688 |\n",
       "\n"
      ],
      "text/plain": [
       "  ORF_type  n   \n",
       "1 dORF      3619\n",
       "2 iORF         4\n",
       "3 noncoding 5331\n",
       "4 odORF        4\n",
       "5 ouORF        7\n",
       "6 uORF      1688"
      ]
     },
     "metadata": {},
     "output_type": "display_data"
    },
    {
     "data": {
      "text/html": [
       "<table class=\"dataframe\">\n",
       "<caption>A data.frame: 5 × 2</caption>\n",
       "<thead>\n",
       "\t<tr><th scope=col>ORF_type</th><th scope=col>n</th></tr>\n",
       "\t<tr><th scope=col>&lt;chr&gt;</th><th scope=col>&lt;int&gt;</th></tr>\n",
       "</thead>\n",
       "<tbody>\n",
       "\t<tr><td>dORF     </td><td>1062</td></tr>\n",
       "\t<tr><td>noncoding</td><td>1834</td></tr>\n",
       "\t<tr><td>odORF    </td><td>   3</td></tr>\n",
       "\t<tr><td>ouORF    </td><td>   3</td></tr>\n",
       "\t<tr><td>uORF     </td><td> 660</td></tr>\n",
       "</tbody>\n",
       "</table>\n"
      ],
      "text/latex": [
       "A data.frame: 5 × 2\n",
       "\\begin{tabular}{ll}\n",
       " ORF\\_type & n\\\\\n",
       " <chr> & <int>\\\\\n",
       "\\hline\n",
       "\t dORF      & 1062\\\\\n",
       "\t noncoding & 1834\\\\\n",
       "\t odORF     &    3\\\\\n",
       "\t ouORF     &    3\\\\\n",
       "\t uORF      &  660\\\\\n",
       "\\end{tabular}\n"
      ],
      "text/markdown": [
       "\n",
       "A data.frame: 5 × 2\n",
       "\n",
       "| ORF_type &lt;chr&gt; | n &lt;int&gt; |\n",
       "|---|---|\n",
       "| dORF      | 1062 |\n",
       "| noncoding | 1834 |\n",
       "| odORF     |    3 |\n",
       "| ouORF     |    3 |\n",
       "| uORF      |  660 |\n",
       "\n"
      ],
      "text/plain": [
       "  ORF_type  n   \n",
       "1 dORF      1062\n",
       "2 noncoding 1834\n",
       "3 odORF        3\n",
       "4 ouORF        3\n",
       "5 uORF       660"
      ]
     },
     "metadata": {},
     "output_type": "display_data"
    },
    {
     "data": {
      "text/html": [
       "<table class=\"dataframe\">\n",
       "<caption>A data.frame: 7 × 2</caption>\n",
       "<thead>\n",
       "\t<tr><th scope=col>ORF_type</th><th scope=col>n</th></tr>\n",
       "\t<tr><th scope=col>&lt;chr&gt;</th><th scope=col>&lt;int&gt;</th></tr>\n",
       "</thead>\n",
       "<tbody>\n",
       "\t<tr><td>canonical</td><td> 4866</td></tr>\n",
       "\t<tr><td>dORF     </td><td> 7084</td></tr>\n",
       "\t<tr><td>iORF     </td><td> 3287</td></tr>\n",
       "\t<tr><td>noncoding</td><td>19764</td></tr>\n",
       "\t<tr><td>odORF    </td><td>  706</td></tr>\n",
       "\t<tr><td>ouORF    </td><td>  743</td></tr>\n",
       "\t<tr><td>uORF     </td><td> 2628</td></tr>\n",
       "</tbody>\n",
       "</table>\n"
      ],
      "text/latex": [
       "A data.frame: 7 × 2\n",
       "\\begin{tabular}{ll}\n",
       " ORF\\_type & n\\\\\n",
       " <chr> & <int>\\\\\n",
       "\\hline\n",
       "\t canonical &  4866\\\\\n",
       "\t dORF      &  7084\\\\\n",
       "\t iORF      &  3287\\\\\n",
       "\t noncoding & 19764\\\\\n",
       "\t odORF     &   706\\\\\n",
       "\t ouORF     &   743\\\\\n",
       "\t uORF      &  2628\\\\\n",
       "\\end{tabular}\n"
      ],
      "text/markdown": [
       "\n",
       "A data.frame: 7 × 2\n",
       "\n",
       "| ORF_type &lt;chr&gt; | n &lt;int&gt; |\n",
       "|---|---|\n",
       "| canonical |  4866 |\n",
       "| dORF      |  7084 |\n",
       "| iORF      |  3287 |\n",
       "| noncoding | 19764 |\n",
       "| odORF     |   706 |\n",
       "| ouORF     |   743 |\n",
       "| uORF      |  2628 |\n",
       "\n"
      ],
      "text/plain": [
       "  ORF_type  n    \n",
       "1 canonical  4866\n",
       "2 dORF       7084\n",
       "3 iORF       3287\n",
       "4 noncoding 19764\n",
       "5 odORF       706\n",
       "6 ouORF       743\n",
       "7 uORF       2628"
      ]
     },
     "metadata": {},
     "output_type": "display_data"
    }
   ],
   "source": [
    "filter(orfs_1,inframe_fraction==0) %>% nrow()\n",
    "filter(orfs_1,overlap_fraction==0) %>% nrow()\n",
    "# 等价于第2条\n",
    "# filter(orfs_1,overlap_fraction==0 & inframe_fraction==0) %>% nrow()\n",
    "filter(orfs_1,total_psites>0) %>% nrow()\n",
    "filter(orfs_1,inframe_fraction==0 & overlap_fraction==0 & RPF_reads>0) %>% nrow()\n",
    "filter(orfs_1,inframe_fraction==0 & overlap_fraction==0 & total_psites>0) %>% nrow()\n",
    "filter(orfs_1,inframe_fraction==0 & overlap_fraction==0 & total_psites>0 & frame0_fraction>=0.5) %>% nrow()\n",
    "filter(orfs_1,inframe_fraction==0 & overlap_fraction==0 & total_psites>0) %>% count(ORF_type)\n",
    "filter(orfs_1,inframe_fraction==0 & overlap_fraction==0 & total_psites>0 & frame0_fraction>=0.5) %>% count(ORF_type)\n",
    "orfs_1 %>% count(ORF_type)"
   ]
  }
 ],
 "metadata": {
  "kernelspec": {
   "display_name": "R_default_4.2",
   "language": "R",
   "name": "r_default_4.2"
  },
  "language_info": {
   "codemirror_mode": "r",
   "file_extension": ".r",
   "mimetype": "text/x-r-source",
   "name": "R",
   "pygments_lexer": "r",
   "version": "4.2.1"
  },
  "toc": {
   "base_numbering": 1,
   "nav_menu": {},
   "number_sections": true,
   "sideBar": true,
   "skip_h1_title": false,
   "title_cell": "Table of Contents",
   "title_sidebar": "Contents",
   "toc_cell": false,
   "toc_position": {},
   "toc_section_display": true,
   "toc_window_display": false
  }
 },
 "nbformat": 4,
 "nbformat_minor": 5
}
