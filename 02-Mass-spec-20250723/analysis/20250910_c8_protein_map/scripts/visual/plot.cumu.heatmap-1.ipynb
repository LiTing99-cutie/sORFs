{
 "cells": [
  {
   "cell_type": "code",
   "execution_count": 1,
   "id": "c12f3bc6",
   "metadata": {
    "ExecuteTime": {
     "end_time": "2025-09-20T06:47:20.282790Z",
     "start_time": "2025-09-20T06:47:19.049Z"
    }
   },
   "outputs": [],
   "source": [
    "source(\"/home/user/data2/lit/bin/lit_utils.R\")\n",
    "source(\"/home/user/data3/lit/project/sORFs/sORFs.utils.R\")\n",
    "lib_text()\n",
    "lib_plot()"
   ]
  },
  {
   "cell_type": "code",
   "execution_count": 2,
   "id": "5e0611c0",
   "metadata": {
    "ExecuteTime": {
     "end_time": "2025-09-20T06:47:20.315543Z",
     "start_time": "2025-09-20T06:47:19.049Z"
    }
   },
   "outputs": [],
   "source": [
    "# 函数\n",
    "merge_replicate <- function(df){\n",
    "    # 合并重复\n",
    "    df$Sample_merge_replicate <- gsub(\"21pcw(_1|_2|_3)\", \"21pcw\", df$Sample)\n",
    "    df %>% mutate(Sample=NULL) %>% rename(Sample=Sample_merge_replicate) -> df_1\n",
    "    return(df_1)\n",
    "}"
   ]
  },
  {
   "cell_type": "code",
   "execution_count": 3,
   "id": "d7f5ce7a",
   "metadata": {
    "ExecuteTime": {
     "end_time": "2025-09-20T06:47:21.370939Z",
     "start_time": "2025-09-20T06:47:19.050Z"
    }
   },
   "outputs": [
    {
     "data": {
      "text/html": [
       "<table class=\"dataframe\">\n",
       "<caption>A data.frame: 6 × 21</caption>\n",
       "<thead>\n",
       "\t<tr><th></th><th scope=col>ORF_id</th><th scope=col>iBAQ_B</th><th scope=col>iBAQ_A</th><th scope=col>Available</th><th scope=col>TotalIntensity</th><th scope=col>ORF_type</th><th scope=col>Start_codon</th><th scope=col>Isoform_id</th><th scope=col>Chr</th><th scope=col>Strand</th><th scope=col>⋯</th><th scope=col>ORF_length</th><th scope=col>Geneid</th><th scope=col>Isoform_structural_category</th><th scope=col>Isoform_subcategory</th><th scope=col>is_uniprot</th><th scope=col>is_canonical</th><th scope=col>All_peptide_n</th><th scope=col>Unique_peptide_n</th><th scope=col>Theo_peptide_n</th><th scope=col>Sample</th></tr>\n",
       "\t<tr><th></th><th scope=col>&lt;chr&gt;</th><th scope=col>&lt;dbl&gt;</th><th scope=col>&lt;dbl&gt;</th><th scope=col>&lt;lgl&gt;</th><th scope=col>&lt;dbl&gt;</th><th scope=col>&lt;chr&gt;</th><th scope=col>&lt;chr&gt;</th><th scope=col>&lt;chr&gt;</th><th scope=col>&lt;chr&gt;</th><th scope=col>&lt;chr&gt;</th><th scope=col>⋯</th><th scope=col>&lt;int&gt;</th><th scope=col>&lt;chr&gt;</th><th scope=col>&lt;chr&gt;</th><th scope=col>&lt;chr&gt;</th><th scope=col>&lt;lgl&gt;</th><th scope=col>&lt;lgl&gt;</th><th scope=col>&lt;int&gt;</th><th scope=col>&lt;int&gt;</th><th scope=col>&lt;int&gt;</th><th scope=col>&lt;chr&gt;</th></tr>\n",
       "</thead>\n",
       "<tbody>\n",
       "\t<tr><th scope=row>1</th><td>PB.1003.3:chr1:+|10|581:117:393|canonical|ATG       </td><td>6674.7247</td><td>25308.3312</td><td> TRUE</td><td>607399.95</td><td>canonical</td><td>ATG</td><td>PB.1003.3  </td><td>chr1 </td><td>+</td><td>⋯</td><td> 91</td><td>UQCRH  </td><td>full-splice_match      </td><td>reference_match </td><td>FALSE</td><td> TRUE</td><td>2</td><td>2</td><td> 24</td><td>21pcw_1_3_30K_LC_T</td></tr>\n",
       "\t<tr><th scope=row>2</th><td>PB.10043.1:chr12:+|7|1792:131:1436|canonical|ATG    </td><td> 233.1778</td><td>  749.6236</td><td> TRUE</td><td>101199.18</td><td>canonical</td><td>ATG</td><td>PB.10043.1 </td><td>chr12</td><td>+</td><td>⋯</td><td>434</td><td>CMAS   </td><td>full-splice_match      </td><td>reference_match </td><td>FALSE</td><td> TRUE</td><td>4</td><td>2</td><td>135</td><td>21pcw_1_3_30K_LC_T</td></tr>\n",
       "\t<tr><th scope=row>3</th><td>PB.1009.1:chr1:-|10|2772:187:838|canonical|ATG      </td><td>       NA</td><td>        NA</td><td>FALSE</td><td>       NA</td><td>canonical</td><td>ATG</td><td>PB.1009.1  </td><td>chr1 </td><td>-</td><td>⋯</td><td>216</td><td>MOB3C  </td><td>full-splice_match      </td><td>reference_match </td><td>FALSE</td><td> TRUE</td><td>1</td><td>1</td><td> 72</td><td>21pcw_1_3_30K_LC_T</td></tr>\n",
       "\t<tr><th scope=row>4</th><td>PB.10370.53:chr12:-|29|3268:825:882|noncoding|TTG   </td><td>1194.7499</td><td> 5376.3745</td><td> TRUE</td><td> 21505.50</td><td>noncoding</td><td>TTG</td><td>PB.10370.53</td><td>chr12</td><td>-</td><td>⋯</td><td> 18</td><td>SCAF11 </td><td>incomplete-splice_match</td><td>5prime_fragment </td><td>FALSE</td><td>FALSE</td><td>1</td><td>1</td><td>  4</td><td>21pcw_1_3_30K_LC_T</td></tr>\n",
       "\t<tr><th scope=row>5</th><td>PB.10427.2:chr12:+|32|2349:546:1131|canonical|ATG   </td><td> 257.8774</td><td> 1852.8971</td><td> TRUE</td><td> 50028.22</td><td>canonical</td><td>ATG</td><td>PB.10427.2 </td><td>chr12</td><td>+</td><td>⋯</td><td>194</td><td>CCDC184</td><td>full-splice_match      </td><td>mono-exon       </td><td>FALSE</td><td> TRUE</td><td>1</td><td>1</td><td> 27</td><td>21pcw_1_3_30K_LC_T</td></tr>\n",
       "\t<tr><th scope=row>6</th><td>PB.10455.16:chr12:-|200|4971:2466:2697|noncoding|ATG</td><td> 750.5772</td><td> 4387.9898</td><td> TRUE</td><td> 57043.87</td><td>noncoding</td><td>ATG</td><td>PB.10455.16</td><td>chr12</td><td>-</td><td>⋯</td><td> 76</td><td>LMBR1L </td><td>novel_not_in_catalog   </td><td>intron_retention</td><td>FALSE</td><td>FALSE</td><td>1</td><td>1</td><td> 13</td><td>21pcw_1_3_30K_LC_T</td></tr>\n",
       "</tbody>\n",
       "</table>\n"
      ],
      "text/latex": [
       "A data.frame: 6 × 21\n",
       "\\begin{tabular}{r|lllllllllllllllllllll}\n",
       "  & ORF\\_id & iBAQ\\_B & iBAQ\\_A & Available & TotalIntensity & ORF\\_type & Start\\_codon & Isoform\\_id & Chr & Strand & ⋯ & ORF\\_length & Geneid & Isoform\\_structural\\_category & Isoform\\_subcategory & is\\_uniprot & is\\_canonical & All\\_peptide\\_n & Unique\\_peptide\\_n & Theo\\_peptide\\_n & Sample\\\\\n",
       "  & <chr> & <dbl> & <dbl> & <lgl> & <dbl> & <chr> & <chr> & <chr> & <chr> & <chr> & ⋯ & <int> & <chr> & <chr> & <chr> & <lgl> & <lgl> & <int> & <int> & <int> & <chr>\\\\\n",
       "\\hline\n",
       "\t1 & PB.1003.3:chr1:+\\textbar{}10\\textbar{}581:117:393\\textbar{}canonical\\textbar{}ATG        & 6674.7247 & 25308.3312 &  TRUE & 607399.95 & canonical & ATG & PB.1003.3   & chr1  & + & ⋯ &  91 & UQCRH   & full-splice\\_match       & reference\\_match  & FALSE &  TRUE & 2 & 2 &  24 & 21pcw\\_1\\_3\\_30K\\_LC\\_T\\\\\n",
       "\t2 & PB.10043.1:chr12:+\\textbar{}7\\textbar{}1792:131:1436\\textbar{}canonical\\textbar{}ATG     &  233.1778 &   749.6236 &  TRUE & 101199.18 & canonical & ATG & PB.10043.1  & chr12 & + & ⋯ & 434 & CMAS    & full-splice\\_match       & reference\\_match  & FALSE &  TRUE & 4 & 2 & 135 & 21pcw\\_1\\_3\\_30K\\_LC\\_T\\\\\n",
       "\t3 & PB.1009.1:chr1:-\\textbar{}10\\textbar{}2772:187:838\\textbar{}canonical\\textbar{}ATG       &        NA &         NA & FALSE &        NA & canonical & ATG & PB.1009.1   & chr1  & - & ⋯ & 216 & MOB3C   & full-splice\\_match       & reference\\_match  & FALSE &  TRUE & 1 & 1 &  72 & 21pcw\\_1\\_3\\_30K\\_LC\\_T\\\\\n",
       "\t4 & PB.10370.53:chr12:-\\textbar{}29\\textbar{}3268:825:882\\textbar{}noncoding\\textbar{}TTG    & 1194.7499 &  5376.3745 &  TRUE &  21505.50 & noncoding & TTG & PB.10370.53 & chr12 & - & ⋯ &  18 & SCAF11  & incomplete-splice\\_match & 5prime\\_fragment  & FALSE & FALSE & 1 & 1 &   4 & 21pcw\\_1\\_3\\_30K\\_LC\\_T\\\\\n",
       "\t5 & PB.10427.2:chr12:+\\textbar{}32\\textbar{}2349:546:1131\\textbar{}canonical\\textbar{}ATG    &  257.8774 &  1852.8971 &  TRUE &  50028.22 & canonical & ATG & PB.10427.2  & chr12 & + & ⋯ & 194 & CCDC184 & full-splice\\_match       & mono-exon        & FALSE &  TRUE & 1 & 1 &  27 & 21pcw\\_1\\_3\\_30K\\_LC\\_T\\\\\n",
       "\t6 & PB.10455.16:chr12:-\\textbar{}200\\textbar{}4971:2466:2697\\textbar{}noncoding\\textbar{}ATG &  750.5772 &  4387.9898 &  TRUE &  57043.87 & noncoding & ATG & PB.10455.16 & chr12 & - & ⋯ &  76 & LMBR1L  & novel\\_not\\_in\\_catalog    & intron\\_retention & FALSE & FALSE & 1 & 1 &  13 & 21pcw\\_1\\_3\\_30K\\_LC\\_T\\\\\n",
       "\\end{tabular}\n"
      ],
      "text/markdown": [
       "\n",
       "A data.frame: 6 × 21\n",
       "\n",
       "| <!--/--> | ORF_id &lt;chr&gt; | iBAQ_B &lt;dbl&gt; | iBAQ_A &lt;dbl&gt; | Available &lt;lgl&gt; | TotalIntensity &lt;dbl&gt; | ORF_type &lt;chr&gt; | Start_codon &lt;chr&gt; | Isoform_id &lt;chr&gt; | Chr &lt;chr&gt; | Strand &lt;chr&gt; | ⋯ ⋯ | ORF_length &lt;int&gt; | Geneid &lt;chr&gt; | Isoform_structural_category &lt;chr&gt; | Isoform_subcategory &lt;chr&gt; | is_uniprot &lt;lgl&gt; | is_canonical &lt;lgl&gt; | All_peptide_n &lt;int&gt; | Unique_peptide_n &lt;int&gt; | Theo_peptide_n &lt;int&gt; | Sample &lt;chr&gt; |\n",
       "|---|---|---|---|---|---|---|---|---|---|---|---|---|---|---|---|---|---|---|---|---|---|\n",
       "| 1 | PB.1003.3:chr1:+|10|581:117:393|canonical|ATG        | 6674.7247 | 25308.3312 |  TRUE | 607399.95 | canonical | ATG | PB.1003.3   | chr1  | + | ⋯ |  91 | UQCRH   | full-splice_match       | reference_match  | FALSE |  TRUE | 2 | 2 |  24 | 21pcw_1_3_30K_LC_T |\n",
       "| 2 | PB.10043.1:chr12:+|7|1792:131:1436|canonical|ATG     |  233.1778 |   749.6236 |  TRUE | 101199.18 | canonical | ATG | PB.10043.1  | chr12 | + | ⋯ | 434 | CMAS    | full-splice_match       | reference_match  | FALSE |  TRUE | 4 | 2 | 135 | 21pcw_1_3_30K_LC_T |\n",
       "| 3 | PB.1009.1:chr1:-|10|2772:187:838|canonical|ATG       |        NA |         NA | FALSE |        NA | canonical | ATG | PB.1009.1   | chr1  | - | ⋯ | 216 | MOB3C   | full-splice_match       | reference_match  | FALSE |  TRUE | 1 | 1 |  72 | 21pcw_1_3_30K_LC_T |\n",
       "| 4 | PB.10370.53:chr12:-|29|3268:825:882|noncoding|TTG    | 1194.7499 |  5376.3745 |  TRUE |  21505.50 | noncoding | TTG | PB.10370.53 | chr12 | - | ⋯ |  18 | SCAF11  | incomplete-splice_match | 5prime_fragment  | FALSE | FALSE | 1 | 1 |   4 | 21pcw_1_3_30K_LC_T |\n",
       "| 5 | PB.10427.2:chr12:+|32|2349:546:1131|canonical|ATG    |  257.8774 |  1852.8971 |  TRUE |  50028.22 | canonical | ATG | PB.10427.2  | chr12 | + | ⋯ | 194 | CCDC184 | full-splice_match       | mono-exon        | FALSE |  TRUE | 1 | 1 |  27 | 21pcw_1_3_30K_LC_T |\n",
       "| 6 | PB.10455.16:chr12:-|200|4971:2466:2697|noncoding|ATG |  750.5772 |  4387.9898 |  TRUE |  57043.87 | noncoding | ATG | PB.10455.16 | chr12 | - | ⋯ |  76 | LMBR1L  | novel_not_in_catalog    | intron_retention | FALSE | FALSE | 1 | 1 |  13 | 21pcw_1_3_30K_LC_T |\n",
       "\n"
      ],
      "text/plain": [
       "  ORF_id                                               iBAQ_B    iBAQ_A    \n",
       "1 PB.1003.3:chr1:+|10|581:117:393|canonical|ATG        6674.7247 25308.3312\n",
       "2 PB.10043.1:chr12:+|7|1792:131:1436|canonical|ATG      233.1778   749.6236\n",
       "3 PB.1009.1:chr1:-|10|2772:187:838|canonical|ATG              NA         NA\n",
       "4 PB.10370.53:chr12:-|29|3268:825:882|noncoding|TTG    1194.7499  5376.3745\n",
       "5 PB.10427.2:chr12:+|32|2349:546:1131|canonical|ATG     257.8774  1852.8971\n",
       "6 PB.10455.16:chr12:-|200|4971:2466:2697|noncoding|ATG  750.5772  4387.9898\n",
       "  Available TotalIntensity ORF_type  Start_codon Isoform_id  Chr   Strand ⋯\n",
       "1  TRUE     607399.95      canonical ATG         PB.1003.3   chr1  +      ⋯\n",
       "2  TRUE     101199.18      canonical ATG         PB.10043.1  chr12 +      ⋯\n",
       "3 FALSE            NA      canonical ATG         PB.1009.1   chr1  -      ⋯\n",
       "4  TRUE      21505.50      noncoding TTG         PB.10370.53 chr12 -      ⋯\n",
       "5  TRUE      50028.22      canonical ATG         PB.10427.2  chr12 +      ⋯\n",
       "6  TRUE      57043.87      noncoding ATG         PB.10455.16 chr12 -      ⋯\n",
       "  ORF_length Geneid  Isoform_structural_category Isoform_subcategory is_uniprot\n",
       "1  91        UQCRH   full-splice_match           reference_match     FALSE     \n",
       "2 434        CMAS    full-splice_match           reference_match     FALSE     \n",
       "3 216        MOB3C   full-splice_match           reference_match     FALSE     \n",
       "4  18        SCAF11  incomplete-splice_match     5prime_fragment     FALSE     \n",
       "5 194        CCDC184 full-splice_match           mono-exon           FALSE     \n",
       "6  76        LMBR1L  novel_not_in_catalog        intron_retention    FALSE     \n",
       "  is_canonical All_peptide_n Unique_peptide_n Theo_peptide_n Sample            \n",
       "1  TRUE        2             2                 24            21pcw_1_3_30K_LC_T\n",
       "2  TRUE        4             2                135            21pcw_1_3_30K_LC_T\n",
       "3  TRUE        1             1                 72            21pcw_1_3_30K_LC_T\n",
       "4 FALSE        1             1                  4            21pcw_1_3_30K_LC_T\n",
       "5  TRUE        1             1                 27            21pcw_1_3_30K_LC_T\n",
       "6 FALSE        1             1                 13            21pcw_1_3_30K_LC_T"
      ]
     },
     "metadata": {},
     "output_type": "display_data"
    },
    {
     "data": {
      "text/html": [
       "<table class=\"dataframe\">\n",
       "<caption>A data.frame: 6 × 6</caption>\n",
       "<thead>\n",
       "\t<tr><th></th><th scope=col>Sample</th><th scope=col>Eyzyme</th><th scope=col>Period</th><th scope=col>Enrichment</th><th scope=col>Replicate</th><th scope=col>ms2_count</th></tr>\n",
       "\t<tr><th></th><th scope=col>&lt;chr&gt;</th><th scope=col>&lt;chr&gt;</th><th scope=col>&lt;chr&gt;</th><th scope=col>&lt;chr&gt;</th><th scope=col>&lt;int&gt;</th><th scope=col>&lt;int&gt;</th></tr>\n",
       "</thead>\n",
       "<tbody>\n",
       "\t<tr><th scope=row>1</th><td>21pcw_1_C8_LC_T</td><td>Trypsin_LysC        </td><td>21pcw</td><td>C8</td><td>1</td><td>120313</td></tr>\n",
       "\t<tr><th scope=row>2</th><td>21pcw_1_C8_LN_T</td><td>Trypsin_LysN        </td><td>21pcw</td><td>C8</td><td>1</td><td>114757</td></tr>\n",
       "\t<tr><th scope=row>3</th><td>21pcw_1_C8_T_AC</td><td>Trypsin_ArgC        </td><td>21pcw</td><td>C8</td><td>1</td><td>120102</td></tr>\n",
       "\t<tr><th scope=row>4</th><td>21pcw_1_C8_T_AN</td><td>Trypsin_AspN        </td><td>21pcw</td><td>C8</td><td>1</td><td>116276</td></tr>\n",
       "\t<tr><th scope=row>5</th><td>21pcw_1_C8_T_C </td><td>Trypsin_Chymotrypsin</td><td>21pcw</td><td>C8</td><td>1</td><td>102299</td></tr>\n",
       "\t<tr><th scope=row>6</th><td>21pcw_1_C8_T_GC</td><td>Trypsin_GluC        </td><td>21pcw</td><td>C8</td><td>1</td><td>111810</td></tr>\n",
       "</tbody>\n",
       "</table>\n"
      ],
      "text/latex": [
       "A data.frame: 6 × 6\n",
       "\\begin{tabular}{r|llllll}\n",
       "  & Sample & Eyzyme & Period & Enrichment & Replicate & ms2\\_count\\\\\n",
       "  & <chr> & <chr> & <chr> & <chr> & <int> & <int>\\\\\n",
       "\\hline\n",
       "\t1 & 21pcw\\_1\\_C8\\_LC\\_T & Trypsin\\_LysC         & 21pcw & C8 & 1 & 120313\\\\\n",
       "\t2 & 21pcw\\_1\\_C8\\_LN\\_T & Trypsin\\_LysN         & 21pcw & C8 & 1 & 114757\\\\\n",
       "\t3 & 21pcw\\_1\\_C8\\_T\\_AC & Trypsin\\_ArgC         & 21pcw & C8 & 1 & 120102\\\\\n",
       "\t4 & 21pcw\\_1\\_C8\\_T\\_AN & Trypsin\\_AspN         & 21pcw & C8 & 1 & 116276\\\\\n",
       "\t5 & 21pcw\\_1\\_C8\\_T\\_C  & Trypsin\\_Chymotrypsin & 21pcw & C8 & 1 & 102299\\\\\n",
       "\t6 & 21pcw\\_1\\_C8\\_T\\_GC & Trypsin\\_GluC         & 21pcw & C8 & 1 & 111810\\\\\n",
       "\\end{tabular}\n"
      ],
      "text/markdown": [
       "\n",
       "A data.frame: 6 × 6\n",
       "\n",
       "| <!--/--> | Sample &lt;chr&gt; | Eyzyme &lt;chr&gt; | Period &lt;chr&gt; | Enrichment &lt;chr&gt; | Replicate &lt;int&gt; | ms2_count &lt;int&gt; |\n",
       "|---|---|---|---|---|---|---|\n",
       "| 1 | 21pcw_1_C8_LC_T | Trypsin_LysC         | 21pcw | C8 | 1 | 120313 |\n",
       "| 2 | 21pcw_1_C8_LN_T | Trypsin_LysN         | 21pcw | C8 | 1 | 114757 |\n",
       "| 3 | 21pcw_1_C8_T_AC | Trypsin_ArgC         | 21pcw | C8 | 1 | 120102 |\n",
       "| 4 | 21pcw_1_C8_T_AN | Trypsin_AspN         | 21pcw | C8 | 1 | 116276 |\n",
       "| 5 | 21pcw_1_C8_T_C  | Trypsin_Chymotrypsin | 21pcw | C8 | 1 | 102299 |\n",
       "| 6 | 21pcw_1_C8_T_GC | Trypsin_GluC         | 21pcw | C8 | 1 | 111810 |\n",
       "\n"
      ],
      "text/plain": [
       "  Sample          Eyzyme               Period Enrichment Replicate ms2_count\n",
       "1 21pcw_1_C8_LC_T Trypsin_LysC         21pcw  C8         1         120313   \n",
       "2 21pcw_1_C8_LN_T Trypsin_LysN         21pcw  C8         1         114757   \n",
       "3 21pcw_1_C8_T_AC Trypsin_ArgC         21pcw  C8         1         120102   \n",
       "4 21pcw_1_C8_T_AN Trypsin_AspN         21pcw  C8         1         116276   \n",
       "5 21pcw_1_C8_T_C  Trypsin_Chymotrypsin 21pcw  C8         1         102299   \n",
       "6 21pcw_1_C8_T_GC Trypsin_GluC         21pcw  C8         1         111810   "
      ]
     },
     "metadata": {},
     "output_type": "display_data"
    }
   ],
   "source": [
    "orfs_path <- \"../../results/all_samples.ibaq_b_with_total.tsv\"\n",
    "fread_c(orfs_path) -> orfs\n",
    "head(orfs)\n",
    "orfs %>% rename(Protein=ORF_id) -> orfs\n",
    "sample_metadata_path=\"../../MS_res_from_Galaxy/sample_metadata_ordered.txt\"\n",
    "fread_c(sample_metadata_path) -> sample_metadata\n",
    "head(sample_metadata)\n",
    "# 对ORFs进行过滤，只保留小于等于150aa\n",
    "orfs %>% filter(ORF_length<=150) -> orfs\n",
    "# 对样本进行过滤\n",
    "sample_metadata %>% filter(Replicate!=4)  %>% filter(Eyzyme!='Null') -> sample_metadata"
   ]
  },
  {
   "cell_type": "code",
   "execution_count": 4,
   "id": "d8bc3d51",
   "metadata": {
    "ExecuteTime": {
     "end_time": "2025-09-20T06:47:21.550759Z",
     "start_time": "2025-09-20T06:47:19.051Z"
    }
   },
   "outputs": [
    {
     "data": {
      "text/html": [
       "17218"
      ],
      "text/latex": [
       "17218"
      ],
      "text/markdown": [
       "17218"
      ],
      "text/plain": [
       "[1] 17218"
      ]
     },
     "metadata": {},
     "output_type": "display_data"
    }
   ],
   "source": [
    "n_distinct(orfs$Protein)"
   ]
  },
  {
   "cell_type": "code",
   "execution_count": 5,
   "id": "c77153d2",
   "metadata": {
    "ExecuteTime": {
     "end_time": "2025-09-20T06:47:21.580900Z",
     "start_time": "2025-09-20T06:47:19.051Z"
    }
   },
   "outputs": [
    {
     "data": {
      "text/html": [
       "<table class=\"dataframe\">\n",
       "<caption>A data.frame: 6 × 21</caption>\n",
       "<thead>\n",
       "\t<tr><th></th><th scope=col>Protein</th><th scope=col>iBAQ_B</th><th scope=col>iBAQ_A</th><th scope=col>Available</th><th scope=col>TotalIntensity</th><th scope=col>ORF_type</th><th scope=col>Start_codon</th><th scope=col>Isoform_id</th><th scope=col>Chr</th><th scope=col>Strand</th><th scope=col>⋯</th><th scope=col>ORF_length</th><th scope=col>Geneid</th><th scope=col>Isoform_structural_category</th><th scope=col>Isoform_subcategory</th><th scope=col>is_uniprot</th><th scope=col>is_canonical</th><th scope=col>All_peptide_n</th><th scope=col>Unique_peptide_n</th><th scope=col>Theo_peptide_n</th><th scope=col>Sample</th></tr>\n",
       "\t<tr><th></th><th scope=col>&lt;chr&gt;</th><th scope=col>&lt;dbl&gt;</th><th scope=col>&lt;dbl&gt;</th><th scope=col>&lt;lgl&gt;</th><th scope=col>&lt;dbl&gt;</th><th scope=col>&lt;chr&gt;</th><th scope=col>&lt;chr&gt;</th><th scope=col>&lt;chr&gt;</th><th scope=col>&lt;chr&gt;</th><th scope=col>&lt;chr&gt;</th><th scope=col>⋯</th><th scope=col>&lt;int&gt;</th><th scope=col>&lt;chr&gt;</th><th scope=col>&lt;chr&gt;</th><th scope=col>&lt;chr&gt;</th><th scope=col>&lt;lgl&gt;</th><th scope=col>&lt;lgl&gt;</th><th scope=col>&lt;int&gt;</th><th scope=col>&lt;int&gt;</th><th scope=col>&lt;int&gt;</th><th scope=col>&lt;chr&gt;</th></tr>\n",
       "</thead>\n",
       "<tbody>\n",
       "\t<tr><th scope=row>1</th><td>PB.1003.3:chr1:+|10|581:117:393|canonical|ATG       </td><td> 6674.7247</td><td>25308.3312</td><td> TRUE</td><td> 607399.95</td><td>canonical</td><td>ATG</td><td>PB.1003.3  </td><td>chr1 </td><td>+</td><td>⋯</td><td> 91</td><td>UQCRH </td><td>full-splice_match      </td><td>reference_match </td><td>FALSE</td><td> TRUE</td><td>2</td><td>2</td><td>24</td><td>21pcw_1_3_30K_LC_T</td></tr>\n",
       "\t<tr><th scope=row>2</th><td>PB.10370.53:chr12:-|29|3268:825:882|noncoding|TTG   </td><td> 1194.7499</td><td> 5376.3745</td><td> TRUE</td><td>  21505.50</td><td>noncoding</td><td>TTG</td><td>PB.10370.53</td><td>chr12</td><td>-</td><td>⋯</td><td> 18</td><td>SCAF11</td><td>incomplete-splice_match</td><td>5prime_fragment </td><td>FALSE</td><td>FALSE</td><td>1</td><td>1</td><td> 4</td><td>21pcw_1_3_30K_LC_T</td></tr>\n",
       "\t<tr><th scope=row>3</th><td>PB.10455.16:chr12:-|200|4971:2466:2697|noncoding|ATG</td><td>  750.5772</td><td> 4387.9898</td><td> TRUE</td><td>  57043.87</td><td>noncoding</td><td>ATG</td><td>PB.10455.16</td><td>chr12</td><td>-</td><td>⋯</td><td> 76</td><td>LMBR1L</td><td>novel_not_in_catalog   </td><td>intron_retention</td><td>FALSE</td><td>FALSE</td><td>1</td><td>1</td><td>13</td><td>21pcw_1_3_30K_LC_T</td></tr>\n",
       "\t<tr><th scope=row>4</th><td>PB.10614.3:chr12:+|11|664:250:598|canonical|ATG     </td><td>  266.0773</td><td>  764.9722</td><td> TRUE</td><td>  30598.89</td><td>canonical</td><td>ATG</td><td>PB.10614.3 </td><td>chr12</td><td>+</td><td>⋯</td><td>115</td><td>RPS26 </td><td>full-splice_match      </td><td>alternative_3end</td><td>FALSE</td><td> TRUE</td><td>2</td><td>1</td><td>40</td><td>21pcw_1_3_30K_LC_T</td></tr>\n",
       "\t<tr><th scope=row>5</th><td>PB.10623.29:chr12:+|110|2061:1610:1898|noncoding|ATG</td><td>11448.2696</td><td>51789.7910</td><td> TRUE</td><td>1087585.61</td><td>noncoding</td><td>ATG</td><td>PB.10623.29</td><td>chr12</td><td>+</td><td>⋯</td><td> 95</td><td>MYL6B </td><td>novel_in_catalog       </td><td>intron_retention</td><td>FALSE</td><td>FALSE</td><td>5</td><td>5</td><td>21</td><td>21pcw_1_3_30K_LC_T</td></tr>\n",
       "\t<tr><th scope=row>6</th><td>PB.10675.4:chr12:+|23|4176:323:458|iORF|CTG         </td><td>        NA</td><td>        NA</td><td>FALSE</td><td>        NA</td><td>iORF     </td><td>CTG</td><td>PB.10675.4 </td><td>chr12</td><td>+</td><td>⋯</td><td> 44</td><td>MBD6  </td><td>full-splice_match      </td><td>reference_match </td><td>FALSE</td><td>FALSE</td><td>1</td><td>1</td><td>13</td><td>21pcw_1_3_30K_LC_T</td></tr>\n",
       "</tbody>\n",
       "</table>\n"
      ],
      "text/latex": [
       "A data.frame: 6 × 21\n",
       "\\begin{tabular}{r|lllllllllllllllllllll}\n",
       "  & Protein & iBAQ\\_B & iBAQ\\_A & Available & TotalIntensity & ORF\\_type & Start\\_codon & Isoform\\_id & Chr & Strand & ⋯ & ORF\\_length & Geneid & Isoform\\_structural\\_category & Isoform\\_subcategory & is\\_uniprot & is\\_canonical & All\\_peptide\\_n & Unique\\_peptide\\_n & Theo\\_peptide\\_n & Sample\\\\\n",
       "  & <chr> & <dbl> & <dbl> & <lgl> & <dbl> & <chr> & <chr> & <chr> & <chr> & <chr> & ⋯ & <int> & <chr> & <chr> & <chr> & <lgl> & <lgl> & <int> & <int> & <int> & <chr>\\\\\n",
       "\\hline\n",
       "\t1 & PB.1003.3:chr1:+\\textbar{}10\\textbar{}581:117:393\\textbar{}canonical\\textbar{}ATG        &  6674.7247 & 25308.3312 &  TRUE &  607399.95 & canonical & ATG & PB.1003.3   & chr1  & + & ⋯ &  91 & UQCRH  & full-splice\\_match       & reference\\_match  & FALSE &  TRUE & 2 & 2 & 24 & 21pcw\\_1\\_3\\_30K\\_LC\\_T\\\\\n",
       "\t2 & PB.10370.53:chr12:-\\textbar{}29\\textbar{}3268:825:882\\textbar{}noncoding\\textbar{}TTG    &  1194.7499 &  5376.3745 &  TRUE &   21505.50 & noncoding & TTG & PB.10370.53 & chr12 & - & ⋯ &  18 & SCAF11 & incomplete-splice\\_match & 5prime\\_fragment  & FALSE & FALSE & 1 & 1 &  4 & 21pcw\\_1\\_3\\_30K\\_LC\\_T\\\\\n",
       "\t3 & PB.10455.16:chr12:-\\textbar{}200\\textbar{}4971:2466:2697\\textbar{}noncoding\\textbar{}ATG &   750.5772 &  4387.9898 &  TRUE &   57043.87 & noncoding & ATG & PB.10455.16 & chr12 & - & ⋯ &  76 & LMBR1L & novel\\_not\\_in\\_catalog    & intron\\_retention & FALSE & FALSE & 1 & 1 & 13 & 21pcw\\_1\\_3\\_30K\\_LC\\_T\\\\\n",
       "\t4 & PB.10614.3:chr12:+\\textbar{}11\\textbar{}664:250:598\\textbar{}canonical\\textbar{}ATG      &   266.0773 &   764.9722 &  TRUE &   30598.89 & canonical & ATG & PB.10614.3  & chr12 & + & ⋯ & 115 & RPS26  & full-splice\\_match       & alternative\\_3end & FALSE &  TRUE & 2 & 1 & 40 & 21pcw\\_1\\_3\\_30K\\_LC\\_T\\\\\n",
       "\t5 & PB.10623.29:chr12:+\\textbar{}110\\textbar{}2061:1610:1898\\textbar{}noncoding\\textbar{}ATG & 11448.2696 & 51789.7910 &  TRUE & 1087585.61 & noncoding & ATG & PB.10623.29 & chr12 & + & ⋯ &  95 & MYL6B  & novel\\_in\\_catalog        & intron\\_retention & FALSE & FALSE & 5 & 5 & 21 & 21pcw\\_1\\_3\\_30K\\_LC\\_T\\\\\n",
       "\t6 & PB.10675.4:chr12:+\\textbar{}23\\textbar{}4176:323:458\\textbar{}iORF\\textbar{}CTG          &         NA &         NA & FALSE &         NA & iORF      & CTG & PB.10675.4  & chr12 & + & ⋯ &  44 & MBD6   & full-splice\\_match       & reference\\_match  & FALSE & FALSE & 1 & 1 & 13 & 21pcw\\_1\\_3\\_30K\\_LC\\_T\\\\\n",
       "\\end{tabular}\n"
      ],
      "text/markdown": [
       "\n",
       "A data.frame: 6 × 21\n",
       "\n",
       "| <!--/--> | Protein &lt;chr&gt; | iBAQ_B &lt;dbl&gt; | iBAQ_A &lt;dbl&gt; | Available &lt;lgl&gt; | TotalIntensity &lt;dbl&gt; | ORF_type &lt;chr&gt; | Start_codon &lt;chr&gt; | Isoform_id &lt;chr&gt; | Chr &lt;chr&gt; | Strand &lt;chr&gt; | ⋯ ⋯ | ORF_length &lt;int&gt; | Geneid &lt;chr&gt; | Isoform_structural_category &lt;chr&gt; | Isoform_subcategory &lt;chr&gt; | is_uniprot &lt;lgl&gt; | is_canonical &lt;lgl&gt; | All_peptide_n &lt;int&gt; | Unique_peptide_n &lt;int&gt; | Theo_peptide_n &lt;int&gt; | Sample &lt;chr&gt; |\n",
       "|---|---|---|---|---|---|---|---|---|---|---|---|---|---|---|---|---|---|---|---|---|---|\n",
       "| 1 | PB.1003.3:chr1:+|10|581:117:393|canonical|ATG        |  6674.7247 | 25308.3312 |  TRUE |  607399.95 | canonical | ATG | PB.1003.3   | chr1  | + | ⋯ |  91 | UQCRH  | full-splice_match       | reference_match  | FALSE |  TRUE | 2 | 2 | 24 | 21pcw_1_3_30K_LC_T |\n",
       "| 2 | PB.10370.53:chr12:-|29|3268:825:882|noncoding|TTG    |  1194.7499 |  5376.3745 |  TRUE |   21505.50 | noncoding | TTG | PB.10370.53 | chr12 | - | ⋯ |  18 | SCAF11 | incomplete-splice_match | 5prime_fragment  | FALSE | FALSE | 1 | 1 |  4 | 21pcw_1_3_30K_LC_T |\n",
       "| 3 | PB.10455.16:chr12:-|200|4971:2466:2697|noncoding|ATG |   750.5772 |  4387.9898 |  TRUE |   57043.87 | noncoding | ATG | PB.10455.16 | chr12 | - | ⋯ |  76 | LMBR1L | novel_not_in_catalog    | intron_retention | FALSE | FALSE | 1 | 1 | 13 | 21pcw_1_3_30K_LC_T |\n",
       "| 4 | PB.10614.3:chr12:+|11|664:250:598|canonical|ATG      |   266.0773 |   764.9722 |  TRUE |   30598.89 | canonical | ATG | PB.10614.3  | chr12 | + | ⋯ | 115 | RPS26  | full-splice_match       | alternative_3end | FALSE |  TRUE | 2 | 1 | 40 | 21pcw_1_3_30K_LC_T |\n",
       "| 5 | PB.10623.29:chr12:+|110|2061:1610:1898|noncoding|ATG | 11448.2696 | 51789.7910 |  TRUE | 1087585.61 | noncoding | ATG | PB.10623.29 | chr12 | + | ⋯ |  95 | MYL6B  | novel_in_catalog        | intron_retention | FALSE | FALSE | 5 | 5 | 21 | 21pcw_1_3_30K_LC_T |\n",
       "| 6 | PB.10675.4:chr12:+|23|4176:323:458|iORF|CTG          |         NA |         NA | FALSE |         NA | iORF      | CTG | PB.10675.4  | chr12 | + | ⋯ |  44 | MBD6   | full-splice_match       | reference_match  | FALSE | FALSE | 1 | 1 | 13 | 21pcw_1_3_30K_LC_T |\n",
       "\n"
      ],
      "text/plain": [
       "  Protein                                              iBAQ_B     iBAQ_A    \n",
       "1 PB.1003.3:chr1:+|10|581:117:393|canonical|ATG         6674.7247 25308.3312\n",
       "2 PB.10370.53:chr12:-|29|3268:825:882|noncoding|TTG     1194.7499  5376.3745\n",
       "3 PB.10455.16:chr12:-|200|4971:2466:2697|noncoding|ATG   750.5772  4387.9898\n",
       "4 PB.10614.3:chr12:+|11|664:250:598|canonical|ATG        266.0773   764.9722\n",
       "5 PB.10623.29:chr12:+|110|2061:1610:1898|noncoding|ATG 11448.2696 51789.7910\n",
       "6 PB.10675.4:chr12:+|23|4176:323:458|iORF|CTG                  NA         NA\n",
       "  Available TotalIntensity ORF_type  Start_codon Isoform_id  Chr   Strand ⋯\n",
       "1  TRUE      607399.95     canonical ATG         PB.1003.3   chr1  +      ⋯\n",
       "2  TRUE       21505.50     noncoding TTG         PB.10370.53 chr12 -      ⋯\n",
       "3  TRUE       57043.87     noncoding ATG         PB.10455.16 chr12 -      ⋯\n",
       "4  TRUE       30598.89     canonical ATG         PB.10614.3  chr12 +      ⋯\n",
       "5  TRUE     1087585.61     noncoding ATG         PB.10623.29 chr12 +      ⋯\n",
       "6 FALSE             NA     iORF      CTG         PB.10675.4  chr12 +      ⋯\n",
       "  ORF_length Geneid Isoform_structural_category Isoform_subcategory is_uniprot\n",
       "1  91        UQCRH  full-splice_match           reference_match     FALSE     \n",
       "2  18        SCAF11 incomplete-splice_match     5prime_fragment     FALSE     \n",
       "3  76        LMBR1L novel_not_in_catalog        intron_retention    FALSE     \n",
       "4 115        RPS26  full-splice_match           alternative_3end    FALSE     \n",
       "5  95        MYL6B  novel_in_catalog            intron_retention    FALSE     \n",
       "6  44        MBD6   full-splice_match           reference_match     FALSE     \n",
       "  is_canonical All_peptide_n Unique_peptide_n Theo_peptide_n Sample            \n",
       "1  TRUE        2             2                24             21pcw_1_3_30K_LC_T\n",
       "2 FALSE        1             1                 4             21pcw_1_3_30K_LC_T\n",
       "3 FALSE        1             1                13             21pcw_1_3_30K_LC_T\n",
       "4  TRUE        2             1                40             21pcw_1_3_30K_LC_T\n",
       "5 FALSE        5             5                21             21pcw_1_3_30K_LC_T\n",
       "6 FALSE        1             1                13             21pcw_1_3_30K_LC_T"
      ]
     },
     "metadata": {},
     "output_type": "display_data"
    }
   ],
   "source": [
    "head(orfs)"
   ]
  },
  {
   "cell_type": "code",
   "execution_count": 6,
   "id": "a3a76bd8",
   "metadata": {
    "ExecuteTime": {
     "end_time": "2025-09-20T06:47:21.590552Z",
     "start_time": "2025-09-20T06:47:19.052Z"
    }
   },
   "outputs": [],
   "source": [
    "# fread_c(\"../../results/unique_peptide_counts_with_source.tsv\") -> unique_peptide_counts_with_source\n",
    "# filter(unique_peptide_counts_with_source,Unique_peptide_n_msfragger_closed>0) -> msfragger_closed_res"
   ]
  },
  {
   "cell_type": "code",
   "execution_count": 7,
   "id": "ad1b268e",
   "metadata": {
    "ExecuteTime": {
     "end_time": "2025-09-20T06:47:21.600332Z",
     "start_time": "2025-09-20T06:47:19.052Z"
    }
   },
   "outputs": [],
   "source": [
    "# nrow(orfs)\n",
    "# filter(orfs,Protein %in% msfragger_closed_res$ORF_id) -> orfs"
   ]
  },
  {
   "cell_type": "code",
   "execution_count": 8,
   "id": "eed797ba",
   "metadata": {
    "ExecuteTime": {
     "end_time": "2025-09-20T06:47:21.792985Z",
     "start_time": "2025-09-20T06:47:19.053Z"
    }
   },
   "outputs": [
    {
     "data": {
      "text/html": [
       "41088"
      ],
      "text/latex": [
       "41088"
      ],
      "text/markdown": [
       "41088"
      ],
      "text/plain": [
       "[1] 41088"
      ]
     },
     "metadata": {},
     "output_type": "display_data"
    },
    {
     "data": {
      "text/html": [
       "17218"
      ],
      "text/latex": [
       "17218"
      ],
      "text/markdown": [
       "17218"
      ],
      "text/plain": [
       "[1] 17218"
      ]
     },
     "metadata": {},
     "output_type": "display_data"
    },
    {
     "data": {
      "text/html": [
       "<table class=\"dataframe\">\n",
       "<caption>A data.frame: 6 × 7</caption>\n",
       "<thead>\n",
       "\t<tr><th></th><th scope=col>Sample</th><th scope=col>Protein</th><th scope=col>Eyzyme</th><th scope=col>Period</th><th scope=col>Enrichment</th><th scope=col>Replicate</th><th scope=col>ms2_count</th></tr>\n",
       "\t<tr><th></th><th scope=col>&lt;chr&gt;</th><th scope=col>&lt;chr&gt;</th><th scope=col>&lt;chr&gt;</th><th scope=col>&lt;chr&gt;</th><th scope=col>&lt;chr&gt;</th><th scope=col>&lt;int&gt;</th><th scope=col>&lt;int&gt;</th></tr>\n",
       "</thead>\n",
       "<tbody>\n",
       "\t<tr><th scope=row>1</th><td>21pcw_1_C8_T_T</td><td>PB.1003.3:chr1:+|10|581:117:393|canonical|ATG       </td><td>Trypsin</td><td>21pcw</td><td>C8</td><td>1</td><td>117437</td></tr>\n",
       "\t<tr><th scope=row>2</th><td>21pcw_1_C8_T_T</td><td>PB.1009.1:chr1:-|50|2772:677:809|iORF|ATG           </td><td>Trypsin</td><td>21pcw</td><td>C8</td><td>1</td><td>117437</td></tr>\n",
       "\t<tr><th scope=row>3</th><td>21pcw_1_C8_T_T</td><td>PB.10205.152:chr12:-|57|2196:1050:1149|noncoding|ATG</td><td>Trypsin</td><td>21pcw</td><td>C8</td><td>1</td><td>117437</td></tr>\n",
       "\t<tr><th scope=row>4</th><td>21pcw_1_C8_T_T</td><td>PB.10448.7:chr12:-|67|3157:978:1098|noncoding|ATG   </td><td>Trypsin</td><td>21pcw</td><td>C8</td><td>1</td><td>117437</td></tr>\n",
       "\t<tr><th scope=row>5</th><td>21pcw_1_C8_T_T</td><td>PB.10462.165:chr12:-|29|1814:362:482|iORF|GTG       </td><td>Trypsin</td><td>21pcw</td><td>C8</td><td>1</td><td>117437</td></tr>\n",
       "\t<tr><th scope=row>6</th><td>21pcw_1_C8_T_T</td><td>PB.10462.171:chr12:-|1|1615:102:258|noncoding|ATG   </td><td>Trypsin</td><td>21pcw</td><td>C8</td><td>1</td><td>117437</td></tr>\n",
       "</tbody>\n",
       "</table>\n"
      ],
      "text/latex": [
       "A data.frame: 6 × 7\n",
       "\\begin{tabular}{r|lllllll}\n",
       "  & Sample & Protein & Eyzyme & Period & Enrichment & Replicate & ms2\\_count\\\\\n",
       "  & <chr> & <chr> & <chr> & <chr> & <chr> & <int> & <int>\\\\\n",
       "\\hline\n",
       "\t1 & 21pcw\\_1\\_C8\\_T\\_T & PB.1003.3:chr1:+\\textbar{}10\\textbar{}581:117:393\\textbar{}canonical\\textbar{}ATG        & Trypsin & 21pcw & C8 & 1 & 117437\\\\\n",
       "\t2 & 21pcw\\_1\\_C8\\_T\\_T & PB.1009.1:chr1:-\\textbar{}50\\textbar{}2772:677:809\\textbar{}iORF\\textbar{}ATG            & Trypsin & 21pcw & C8 & 1 & 117437\\\\\n",
       "\t3 & 21pcw\\_1\\_C8\\_T\\_T & PB.10205.152:chr12:-\\textbar{}57\\textbar{}2196:1050:1149\\textbar{}noncoding\\textbar{}ATG & Trypsin & 21pcw & C8 & 1 & 117437\\\\\n",
       "\t4 & 21pcw\\_1\\_C8\\_T\\_T & PB.10448.7:chr12:-\\textbar{}67\\textbar{}3157:978:1098\\textbar{}noncoding\\textbar{}ATG    & Trypsin & 21pcw & C8 & 1 & 117437\\\\\n",
       "\t5 & 21pcw\\_1\\_C8\\_T\\_T & PB.10462.165:chr12:-\\textbar{}29\\textbar{}1814:362:482\\textbar{}iORF\\textbar{}GTG        & Trypsin & 21pcw & C8 & 1 & 117437\\\\\n",
       "\t6 & 21pcw\\_1\\_C8\\_T\\_T & PB.10462.171:chr12:-\\textbar{}1\\textbar{}1615:102:258\\textbar{}noncoding\\textbar{}ATG    & Trypsin & 21pcw & C8 & 1 & 117437\\\\\n",
       "\\end{tabular}\n"
      ],
      "text/markdown": [
       "\n",
       "A data.frame: 6 × 7\n",
       "\n",
       "| <!--/--> | Sample &lt;chr&gt; | Protein &lt;chr&gt; | Eyzyme &lt;chr&gt; | Period &lt;chr&gt; | Enrichment &lt;chr&gt; | Replicate &lt;int&gt; | ms2_count &lt;int&gt; |\n",
       "|---|---|---|---|---|---|---|---|\n",
       "| 1 | 21pcw_1_C8_T_T | PB.1003.3:chr1:+|10|581:117:393|canonical|ATG        | Trypsin | 21pcw | C8 | 1 | 117437 |\n",
       "| 2 | 21pcw_1_C8_T_T | PB.1009.1:chr1:-|50|2772:677:809|iORF|ATG            | Trypsin | 21pcw | C8 | 1 | 117437 |\n",
       "| 3 | 21pcw_1_C8_T_T | PB.10205.152:chr12:-|57|2196:1050:1149|noncoding|ATG | Trypsin | 21pcw | C8 | 1 | 117437 |\n",
       "| 4 | 21pcw_1_C8_T_T | PB.10448.7:chr12:-|67|3157:978:1098|noncoding|ATG    | Trypsin | 21pcw | C8 | 1 | 117437 |\n",
       "| 5 | 21pcw_1_C8_T_T | PB.10462.165:chr12:-|29|1814:362:482|iORF|GTG        | Trypsin | 21pcw | C8 | 1 | 117437 |\n",
       "| 6 | 21pcw_1_C8_T_T | PB.10462.171:chr12:-|1|1615:102:258|noncoding|ATG    | Trypsin | 21pcw | C8 | 1 | 117437 |\n",
       "\n"
      ],
      "text/plain": [
       "  Sample         Protein                                              Eyzyme \n",
       "1 21pcw_1_C8_T_T PB.1003.3:chr1:+|10|581:117:393|canonical|ATG        Trypsin\n",
       "2 21pcw_1_C8_T_T PB.1009.1:chr1:-|50|2772:677:809|iORF|ATG            Trypsin\n",
       "3 21pcw_1_C8_T_T PB.10205.152:chr12:-|57|2196:1050:1149|noncoding|ATG Trypsin\n",
       "4 21pcw_1_C8_T_T PB.10448.7:chr12:-|67|3157:978:1098|noncoding|ATG    Trypsin\n",
       "5 21pcw_1_C8_T_T PB.10462.165:chr12:-|29|1814:362:482|iORF|GTG        Trypsin\n",
       "6 21pcw_1_C8_T_T PB.10462.171:chr12:-|1|1615:102:258|noncoding|ATG    Trypsin\n",
       "  Period Enrichment Replicate ms2_count\n",
       "1 21pcw  C8         1         117437   \n",
       "2 21pcw  C8         1         117437   \n",
       "3 21pcw  C8         1         117437   \n",
       "4 21pcw  C8         1         117437   \n",
       "5 21pcw  C8         1         117437   \n",
       "6 21pcw  C8         1         117437   "
      ]
     },
     "metadata": {},
     "output_type": "display_data"
    }
   ],
   "source": [
    "orfs %>% distinct(Protein,Sample) -> all_sample_sep\n",
    "nrow(all_sample_sep)\n",
    "n_distinct(all_sample_sep$Protein)\n",
    "all_sample_sep %>% merge(sample_metadata,by = \"Sample\") -> all_sample_sep_m_meta\n",
    "all_sample_sep_m_meta %>% arrange(Enrichment,Eyzyme,Replicate) -> all_sample_sep_m_meta\n",
    "head(all_sample_sep_m_meta)"
   ]
  },
  {
   "cell_type": "code",
   "execution_count": 9,
   "id": "b7e107c0",
   "metadata": {
    "ExecuteTime": {
     "end_time": "2025-09-20T06:47:21.886266Z",
     "start_time": "2025-09-20T06:47:19.053Z"
    }
   },
   "outputs": [
    {
     "data": {
      "text/html": [
       "<table class=\"dataframe\">\n",
       "<caption>A data.frame: 6 × 21</caption>\n",
       "<thead>\n",
       "\t<tr><th></th><th scope=col>Protein</th><th scope=col>iBAQ_B</th><th scope=col>iBAQ_A</th><th scope=col>Available</th><th scope=col>TotalIntensity</th><th scope=col>ORF_type</th><th scope=col>Start_codon</th><th scope=col>Isoform_id</th><th scope=col>Chr</th><th scope=col>Strand</th><th scope=col>⋯</th><th scope=col>ORF_length</th><th scope=col>Geneid</th><th scope=col>Isoform_structural_category</th><th scope=col>Isoform_subcategory</th><th scope=col>is_uniprot</th><th scope=col>is_canonical</th><th scope=col>All_peptide_n</th><th scope=col>Unique_peptide_n</th><th scope=col>Theo_peptide_n</th><th scope=col>Sample</th></tr>\n",
       "\t<tr><th></th><th scope=col>&lt;chr&gt;</th><th scope=col>&lt;dbl&gt;</th><th scope=col>&lt;dbl&gt;</th><th scope=col>&lt;lgl&gt;</th><th scope=col>&lt;dbl&gt;</th><th scope=col>&lt;chr&gt;</th><th scope=col>&lt;chr&gt;</th><th scope=col>&lt;chr&gt;</th><th scope=col>&lt;chr&gt;</th><th scope=col>&lt;chr&gt;</th><th scope=col>⋯</th><th scope=col>&lt;int&gt;</th><th scope=col>&lt;chr&gt;</th><th scope=col>&lt;chr&gt;</th><th scope=col>&lt;chr&gt;</th><th scope=col>&lt;lgl&gt;</th><th scope=col>&lt;lgl&gt;</th><th scope=col>&lt;int&gt;</th><th scope=col>&lt;int&gt;</th><th scope=col>&lt;int&gt;</th><th scope=col>&lt;chr&gt;</th></tr>\n",
       "</thead>\n",
       "<tbody>\n",
       "\t<tr><th scope=row>1</th><td>PB.1003.3:chr1:+|10|581:117:393|canonical|ATG       </td><td> 6674.7247</td><td>25308.3312</td><td> TRUE</td><td> 607399.95</td><td>canonical</td><td>ATG</td><td>PB.1003.3  </td><td>chr1 </td><td>+</td><td>⋯</td><td> 91</td><td>UQCRH </td><td>full-splice_match      </td><td>reference_match </td><td>FALSE</td><td> TRUE</td><td>2</td><td>2</td><td>24</td><td>21pcw_3_30K_LC_T</td></tr>\n",
       "\t<tr><th scope=row>2</th><td>PB.10370.53:chr12:-|29|3268:825:882|noncoding|TTG   </td><td> 1194.7499</td><td> 5376.3745</td><td> TRUE</td><td>  21505.50</td><td>noncoding</td><td>TTG</td><td>PB.10370.53</td><td>chr12</td><td>-</td><td>⋯</td><td> 18</td><td>SCAF11</td><td>incomplete-splice_match</td><td>5prime_fragment </td><td>FALSE</td><td>FALSE</td><td>1</td><td>1</td><td> 4</td><td>21pcw_3_30K_LC_T</td></tr>\n",
       "\t<tr><th scope=row>3</th><td>PB.10455.16:chr12:-|200|4971:2466:2697|noncoding|ATG</td><td>  750.5772</td><td> 4387.9898</td><td> TRUE</td><td>  57043.87</td><td>noncoding</td><td>ATG</td><td>PB.10455.16</td><td>chr12</td><td>-</td><td>⋯</td><td> 76</td><td>LMBR1L</td><td>novel_not_in_catalog   </td><td>intron_retention</td><td>FALSE</td><td>FALSE</td><td>1</td><td>1</td><td>13</td><td>21pcw_3_30K_LC_T</td></tr>\n",
       "\t<tr><th scope=row>4</th><td>PB.10614.3:chr12:+|11|664:250:598|canonical|ATG     </td><td>  266.0773</td><td>  764.9722</td><td> TRUE</td><td>  30598.89</td><td>canonical</td><td>ATG</td><td>PB.10614.3 </td><td>chr12</td><td>+</td><td>⋯</td><td>115</td><td>RPS26 </td><td>full-splice_match      </td><td>alternative_3end</td><td>FALSE</td><td> TRUE</td><td>2</td><td>1</td><td>40</td><td>21pcw_3_30K_LC_T</td></tr>\n",
       "\t<tr><th scope=row>5</th><td>PB.10623.29:chr12:+|110|2061:1610:1898|noncoding|ATG</td><td>11448.2696</td><td>51789.7910</td><td> TRUE</td><td>1087585.61</td><td>noncoding</td><td>ATG</td><td>PB.10623.29</td><td>chr12</td><td>+</td><td>⋯</td><td> 95</td><td>MYL6B </td><td>novel_in_catalog       </td><td>intron_retention</td><td>FALSE</td><td>FALSE</td><td>5</td><td>5</td><td>21</td><td>21pcw_3_30K_LC_T</td></tr>\n",
       "\t<tr><th scope=row>6</th><td>PB.10675.4:chr12:+|23|4176:323:458|iORF|CTG         </td><td>        NA</td><td>        NA</td><td>FALSE</td><td>        NA</td><td>iORF     </td><td>CTG</td><td>PB.10675.4 </td><td>chr12</td><td>+</td><td>⋯</td><td> 44</td><td>MBD6  </td><td>full-splice_match      </td><td>reference_match </td><td>FALSE</td><td>FALSE</td><td>1</td><td>1</td><td>13</td><td>21pcw_3_30K_LC_T</td></tr>\n",
       "</tbody>\n",
       "</table>\n"
      ],
      "text/latex": [
       "A data.frame: 6 × 21\n",
       "\\begin{tabular}{r|lllllllllllllllllllll}\n",
       "  & Protein & iBAQ\\_B & iBAQ\\_A & Available & TotalIntensity & ORF\\_type & Start\\_codon & Isoform\\_id & Chr & Strand & ⋯ & ORF\\_length & Geneid & Isoform\\_structural\\_category & Isoform\\_subcategory & is\\_uniprot & is\\_canonical & All\\_peptide\\_n & Unique\\_peptide\\_n & Theo\\_peptide\\_n & Sample\\\\\n",
       "  & <chr> & <dbl> & <dbl> & <lgl> & <dbl> & <chr> & <chr> & <chr> & <chr> & <chr> & ⋯ & <int> & <chr> & <chr> & <chr> & <lgl> & <lgl> & <int> & <int> & <int> & <chr>\\\\\n",
       "\\hline\n",
       "\t1 & PB.1003.3:chr1:+\\textbar{}10\\textbar{}581:117:393\\textbar{}canonical\\textbar{}ATG        &  6674.7247 & 25308.3312 &  TRUE &  607399.95 & canonical & ATG & PB.1003.3   & chr1  & + & ⋯ &  91 & UQCRH  & full-splice\\_match       & reference\\_match  & FALSE &  TRUE & 2 & 2 & 24 & 21pcw\\_3\\_30K\\_LC\\_T\\\\\n",
       "\t2 & PB.10370.53:chr12:-\\textbar{}29\\textbar{}3268:825:882\\textbar{}noncoding\\textbar{}TTG    &  1194.7499 &  5376.3745 &  TRUE &   21505.50 & noncoding & TTG & PB.10370.53 & chr12 & - & ⋯ &  18 & SCAF11 & incomplete-splice\\_match & 5prime\\_fragment  & FALSE & FALSE & 1 & 1 &  4 & 21pcw\\_3\\_30K\\_LC\\_T\\\\\n",
       "\t3 & PB.10455.16:chr12:-\\textbar{}200\\textbar{}4971:2466:2697\\textbar{}noncoding\\textbar{}ATG &   750.5772 &  4387.9898 &  TRUE &   57043.87 & noncoding & ATG & PB.10455.16 & chr12 & - & ⋯ &  76 & LMBR1L & novel\\_not\\_in\\_catalog    & intron\\_retention & FALSE & FALSE & 1 & 1 & 13 & 21pcw\\_3\\_30K\\_LC\\_T\\\\\n",
       "\t4 & PB.10614.3:chr12:+\\textbar{}11\\textbar{}664:250:598\\textbar{}canonical\\textbar{}ATG      &   266.0773 &   764.9722 &  TRUE &   30598.89 & canonical & ATG & PB.10614.3  & chr12 & + & ⋯ & 115 & RPS26  & full-splice\\_match       & alternative\\_3end & FALSE &  TRUE & 2 & 1 & 40 & 21pcw\\_3\\_30K\\_LC\\_T\\\\\n",
       "\t5 & PB.10623.29:chr12:+\\textbar{}110\\textbar{}2061:1610:1898\\textbar{}noncoding\\textbar{}ATG & 11448.2696 & 51789.7910 &  TRUE & 1087585.61 & noncoding & ATG & PB.10623.29 & chr12 & + & ⋯ &  95 & MYL6B  & novel\\_in\\_catalog        & intron\\_retention & FALSE & FALSE & 5 & 5 & 21 & 21pcw\\_3\\_30K\\_LC\\_T\\\\\n",
       "\t6 & PB.10675.4:chr12:+\\textbar{}23\\textbar{}4176:323:458\\textbar{}iORF\\textbar{}CTG          &         NA &         NA & FALSE &         NA & iORF      & CTG & PB.10675.4  & chr12 & + & ⋯ &  44 & MBD6   & full-splice\\_match       & reference\\_match  & FALSE & FALSE & 1 & 1 & 13 & 21pcw\\_3\\_30K\\_LC\\_T\\\\\n",
       "\\end{tabular}\n"
      ],
      "text/markdown": [
       "\n",
       "A data.frame: 6 × 21\n",
       "\n",
       "| <!--/--> | Protein &lt;chr&gt; | iBAQ_B &lt;dbl&gt; | iBAQ_A &lt;dbl&gt; | Available &lt;lgl&gt; | TotalIntensity &lt;dbl&gt; | ORF_type &lt;chr&gt; | Start_codon &lt;chr&gt; | Isoform_id &lt;chr&gt; | Chr &lt;chr&gt; | Strand &lt;chr&gt; | ⋯ ⋯ | ORF_length &lt;int&gt; | Geneid &lt;chr&gt; | Isoform_structural_category &lt;chr&gt; | Isoform_subcategory &lt;chr&gt; | is_uniprot &lt;lgl&gt; | is_canonical &lt;lgl&gt; | All_peptide_n &lt;int&gt; | Unique_peptide_n &lt;int&gt; | Theo_peptide_n &lt;int&gt; | Sample &lt;chr&gt; |\n",
       "|---|---|---|---|---|---|---|---|---|---|---|---|---|---|---|---|---|---|---|---|---|---|\n",
       "| 1 | PB.1003.3:chr1:+|10|581:117:393|canonical|ATG        |  6674.7247 | 25308.3312 |  TRUE |  607399.95 | canonical | ATG | PB.1003.3   | chr1  | + | ⋯ |  91 | UQCRH  | full-splice_match       | reference_match  | FALSE |  TRUE | 2 | 2 | 24 | 21pcw_3_30K_LC_T |\n",
       "| 2 | PB.10370.53:chr12:-|29|3268:825:882|noncoding|TTG    |  1194.7499 |  5376.3745 |  TRUE |   21505.50 | noncoding | TTG | PB.10370.53 | chr12 | - | ⋯ |  18 | SCAF11 | incomplete-splice_match | 5prime_fragment  | FALSE | FALSE | 1 | 1 |  4 | 21pcw_3_30K_LC_T |\n",
       "| 3 | PB.10455.16:chr12:-|200|4971:2466:2697|noncoding|ATG |   750.5772 |  4387.9898 |  TRUE |   57043.87 | noncoding | ATG | PB.10455.16 | chr12 | - | ⋯ |  76 | LMBR1L | novel_not_in_catalog    | intron_retention | FALSE | FALSE | 1 | 1 | 13 | 21pcw_3_30K_LC_T |\n",
       "| 4 | PB.10614.3:chr12:+|11|664:250:598|canonical|ATG      |   266.0773 |   764.9722 |  TRUE |   30598.89 | canonical | ATG | PB.10614.3  | chr12 | + | ⋯ | 115 | RPS26  | full-splice_match       | alternative_3end | FALSE |  TRUE | 2 | 1 | 40 | 21pcw_3_30K_LC_T |\n",
       "| 5 | PB.10623.29:chr12:+|110|2061:1610:1898|noncoding|ATG | 11448.2696 | 51789.7910 |  TRUE | 1087585.61 | noncoding | ATG | PB.10623.29 | chr12 | + | ⋯ |  95 | MYL6B  | novel_in_catalog        | intron_retention | FALSE | FALSE | 5 | 5 | 21 | 21pcw_3_30K_LC_T |\n",
       "| 6 | PB.10675.4:chr12:+|23|4176:323:458|iORF|CTG          |         NA |         NA | FALSE |         NA | iORF      | CTG | PB.10675.4  | chr12 | + | ⋯ |  44 | MBD6   | full-splice_match       | reference_match  | FALSE | FALSE | 1 | 1 | 13 | 21pcw_3_30K_LC_T |\n",
       "\n"
      ],
      "text/plain": [
       "  Protein                                              iBAQ_B     iBAQ_A    \n",
       "1 PB.1003.3:chr1:+|10|581:117:393|canonical|ATG         6674.7247 25308.3312\n",
       "2 PB.10370.53:chr12:-|29|3268:825:882|noncoding|TTG     1194.7499  5376.3745\n",
       "3 PB.10455.16:chr12:-|200|4971:2466:2697|noncoding|ATG   750.5772  4387.9898\n",
       "4 PB.10614.3:chr12:+|11|664:250:598|canonical|ATG        266.0773   764.9722\n",
       "5 PB.10623.29:chr12:+|110|2061:1610:1898|noncoding|ATG 11448.2696 51789.7910\n",
       "6 PB.10675.4:chr12:+|23|4176:323:458|iORF|CTG                  NA         NA\n",
       "  Available TotalIntensity ORF_type  Start_codon Isoform_id  Chr   Strand ⋯\n",
       "1  TRUE      607399.95     canonical ATG         PB.1003.3   chr1  +      ⋯\n",
       "2  TRUE       21505.50     noncoding TTG         PB.10370.53 chr12 -      ⋯\n",
       "3  TRUE       57043.87     noncoding ATG         PB.10455.16 chr12 -      ⋯\n",
       "4  TRUE       30598.89     canonical ATG         PB.10614.3  chr12 +      ⋯\n",
       "5  TRUE     1087585.61     noncoding ATG         PB.10623.29 chr12 +      ⋯\n",
       "6 FALSE             NA     iORF      CTG         PB.10675.4  chr12 +      ⋯\n",
       "  ORF_length Geneid Isoform_structural_category Isoform_subcategory is_uniprot\n",
       "1  91        UQCRH  full-splice_match           reference_match     FALSE     \n",
       "2  18        SCAF11 incomplete-splice_match     5prime_fragment     FALSE     \n",
       "3  76        LMBR1L novel_not_in_catalog        intron_retention    FALSE     \n",
       "4 115        RPS26  full-splice_match           alternative_3end    FALSE     \n",
       "5  95        MYL6B  novel_in_catalog            intron_retention    FALSE     \n",
       "6  44        MBD6   full-splice_match           reference_match     FALSE     \n",
       "  is_canonical All_peptide_n Unique_peptide_n Theo_peptide_n Sample          \n",
       "1  TRUE        2             2                24             21pcw_3_30K_LC_T\n",
       "2 FALSE        1             1                 4             21pcw_3_30K_LC_T\n",
       "3 FALSE        1             1                13             21pcw_3_30K_LC_T\n",
       "4  TRUE        2             1                40             21pcw_3_30K_LC_T\n",
       "5 FALSE        5             5                21             21pcw_3_30K_LC_T\n",
       "6 FALSE        1             1                13             21pcw_3_30K_LC_T"
      ]
     },
     "metadata": {},
     "output_type": "display_data"
    }
   ],
   "source": [
    "merge_replicate(orfs) -> df\n",
    "head(df)"
   ]
  },
  {
   "cell_type": "code",
   "execution_count": 10,
   "id": "f283c74f",
   "metadata": {
    "ExecuteTime": {
     "end_time": "2025-09-20T06:47:22.506754Z",
     "start_time": "2025-09-20T06:47:19.054Z"
    }
   },
   "outputs": [
    {
     "name": "stderr",
     "output_type": "stream",
     "text": [
      "Warning message:\n",
      "“\u001b[1m\u001b[22mUsing `size` aesthetic for lines was deprecated in ggplot2 3.4.0.\n",
      "\u001b[36mℹ\u001b[39m Please use `linewidth` instead.”\n"
     ]
    }
   ],
   "source": [
    "output_path <- \"../../figures\"\n",
    "##### Saturation Plot #####\n",
    "set.seed(123)\n",
    "# sample_order <- sample(sample_metadata$Sample)\n",
    "sample_order <- sample_metadata %>% arrange(Enrichment,Eyzyme,Replicate) %>% .$Sample\n",
    "sample_order <- merge_replicate(all_sample_sep_m_meta) %>% .$Sample %>% unique()\n",
    "# 1. 蛋白累积分析（带柱状图）\n",
    "res_protein <- cumu_combo_plot(\n",
    "  df = df,\n",
    "  sample_order = sample_order,\n",
    "  target_col = \"Protein\",\n",
    "  show_bar = TRUE\n",
    ")\n",
    "ggsave(res_protein$version_sampleNum,filename=o(\"cumu_pro_sample_n.pdf\"),height = 5,width = 18)\n",
    "ggsave(res_protein$version_sampleName,filename=o(\"cumu_pro_sample_name.pdf\"),height = 5,width = 18)"
   ]
  },
  {
   "cell_type": "code",
   "execution_count": 11,
   "id": "bc7c0d59",
   "metadata": {
    "ExecuteTime": {
     "end_time": "2025-09-20T06:47:23.758532Z",
     "start_time": "2025-09-20T06:47:19.054Z"
    }
   },
   "outputs": [
    {
     "data": {
      "text/html": [
       "822"
      ],
      "text/latex": [
       "822"
      ],
      "text/markdown": [
       "822"
      ],
      "text/plain": [
       "[1] 822"
      ]
     },
     "metadata": {},
     "output_type": "display_data"
    },
    {
     "data": {
      "text/html": [
       "16396"
      ],
      "text/latex": [
       "16396"
      ],
      "text/markdown": [
       "16396"
      ],
      "text/plain": [
       "[1] 16396"
      ]
     },
     "metadata": {},
     "output_type": "display_data"
    },
    {
     "name": "stderr",
     "output_type": "stream",
     "text": [
      "\u001b[1m\u001b[22mStoring counts in `nn`, as `n` already present in input\n",
      "\u001b[36mℹ\u001b[39m Use `name = \"new_name\"` to pick a new name.\n",
      "\u001b[1m\u001b[22mStoring counts in `nn`, as `n` already present in input\n",
      "\u001b[36mℹ\u001b[39m Use `name = \"new_name\"` to pick a new name.\n"
     ]
    }
   ],
   "source": [
    "cus_plot <- function(df){\n",
    "    # 查看蛋白在一种富集方法一种酶切方法中重复被检测到的次数\n",
    "    count(df,Protein,Eyzyme,Enrichment) %>% \n",
    "    group_by(Eyzyme,Enrichment) %>% \n",
    "    count(n) -> df_1\n",
    "    library(ggplot2)\n",
    "    ggplot(df_1, aes(x=factor(n), y=nn, fill=Eyzyme)) +\n",
    "    geom_bar(stat='identity', position='dodge') +\n",
    "      scale_fill_brewer(palette = \"Set3\") +\n",
    "    facet_wrap(~Enrichment) +\n",
    "    labs(x='Number of technical replicates (same enrichment & digestion condition)\\nsupporting protein existence', y='Frequency')+\n",
    "    theme_3() -> p\n",
    "    return(p)\n",
    "}\n",
    "all_sample_sep_m_meta %>% filter(grepl(\"^sp\",Protein) |grepl(\"canonical\",Protein)) -> all_sample_sep_m_meta_cano\n",
    "n_distinct(all_sample_sep_m_meta_cano$Protein)\n",
    "all_sample_sep_m_meta %>% filter(grepl(\"^PB\",Protein) & !grepl(\"canonical\",Protein))  -> all_sample_sep_m_meta_uncano\n",
    "n_distinct(all_sample_sep_m_meta_uncano$Protein)\n",
    "cus_plot(all_sample_sep_m_meta_cano) -> p\n",
    "ggsave(p,filename=o(\"enrichmen_enzyme_tech_replicate_n_cano_protein.pdf\"),height = 5,width = 8)\n",
    "cus_plot(all_sample_sep_m_meta_uncano) -> p\n",
    "ggsave(p,filename=o(\"enrichmen_enzyme_tech_replicate_n_uncano_protein.pdf\"),height = 5,width = 8)"
   ]
  },
  {
   "cell_type": "code",
   "execution_count": 12,
   "id": "5d59a46d",
   "metadata": {
    "ExecuteTime": {
     "end_time": "2025-09-20T06:47:24.959450Z",
     "start_time": "2025-09-20T06:47:19.055Z"
    }
   },
   "outputs": [],
   "source": [
    "merge_replicate <- function(df){\n",
    "    # 合并重复\n",
    "    df$Sample_merge_replicate <- gsub(\"21pcw(_1|_2|_3)\", \"21pcw\", df$Sample)\n",
    "    distinct(df,Protein,Sample_merge_replicate,Eyzyme,Enrichment) -> df_1\n",
    "    df_1 %>% rename(Sample=Sample_merge_replicate) -> df_2\n",
    "    return(df_2)\n",
    "}\n",
    "define_type <- function(x){\n",
    "    return(if_else(grepl(\"^sp\",x) |grepl(\"canonical\",x),\"Cano\",\"Uncano\"))\n",
    "}\n",
    "\n",
    "df <- merge_replicate(all_sample_sep_m_meta)\n",
    "protein_stats <- df %>%\n",
    "  group_by(Protein) %>%\n",
    "  summarise(\n",
    "    Unique_Methods = n_distinct(Enrichment),  # 被多少种不同富集方法鉴定到\n",
    "    Total_Observations = n(),                 # 被鉴定到的总次数\n",
    "    Supported_Enrichments = paste(sort(unique(Enrichment)), collapse = \", \")  # 支持的富集方法（去重后逗号分隔）\n",
    "  )\n",
    "protein_stats$Unique_Methods <- as.character(protein_stats$Unique_Methods)\n",
    "protein_stats$Unique_Methods <- factor(protein_stats$Unique_Methods,levels=c('4','3','2','1'))\n",
    "protein_stats$Type <- factor(define_type(protein_stats$Protein),levels = c(\"Cano\",\"Uncano\"))\n",
    "protein_stats %>% arrange(Type,Unique_Methods, Supported_Enrichments,desc(Total_Observations)) -> protein_stats"
   ]
  },
  {
   "cell_type": "code",
   "execution_count": 13,
   "id": "2ef77b67",
   "metadata": {
    "ExecuteTime": {
     "end_time": "2025-09-20T06:47:39.217179Z",
     "start_time": "2025-09-20T06:47:19.056Z"
    },
    "scrolled": false
   },
   "outputs": [
    {
     "name": "stderr",
     "output_type": "stream",
     "text": [
      "Loading required package: grid\n",
      "\n",
      "========================================\n",
      "ComplexHeatmap version 2.14.0\n",
      "Bioconductor page: http://bioconductor.org/packages/ComplexHeatmap/\n",
      "Github page: https://github.com/jokergoo/ComplexHeatmap\n",
      "Documentation: http://jokergoo.github.io/ComplexHeatmap-reference\n",
      "\n",
      "If you use it in published research, please cite either one:\n",
      "- Gu, Z. Complex Heatmap Visualization. iMeta 2022.\n",
      "- Gu, Z. Complex heatmaps reveal patterns and correlations in multidimensional \n",
      "    genomic data. Bioinformatics 2016.\n",
      "\n",
      "\n",
      "The new InteractiveComplexHeatmap package can directly export static \n",
      "complex heatmaps into an interactive Shiny app with zero effort. Have a try!\n",
      "\n",
      "This message can be suppressed by:\n",
      "  suppressPackageStartupMessages(library(ComplexHeatmap))\n",
      "========================================\n",
      "! pheatmap() has been masked by ComplexHeatmap::pheatmap(). Most of the arguments\n",
      "   in the original pheatmap() are identically supported in the new function. You \n",
      "   can still use the original function by explicitly calling pheatmap::pheatmap().\n",
      "\n",
      "\n",
      "\n",
      "Attaching package: ‘ComplexHeatmap’\n",
      "\n",
      "\n",
      "The following object is masked from ‘package:pheatmap’:\n",
      "\n",
      "    pheatmap\n",
      "\n",
      "\n",
      "========================================\n",
      "circlize version 0.4.16\n",
      "CRAN page: https://cran.r-project.org/package=circlize\n",
      "Github page: https://github.com/jokergoo/circlize\n",
      "Documentation: https://jokergoo.github.io/circlize_book/book/\n",
      "\n",
      "If you use it in published research, please cite:\n",
      "Gu, Z. circlize implements and enhances circular visualization\n",
      "  in R. Bioinformatics 2014.\n",
      "\n",
      "This message can be suppressed by:\n",
      "  suppressPackageStartupMessages(library(circlize))\n",
      "========================================\n",
      "\n",
      "\n",
      "Warning message in brewer.pal(length(unique(protein_stats$Type)), \"Set3\"):\n",
      "“minimal value for n is 3, returning requested palette with 3 different levels\n",
      "”\n"
     ]
    },
    {
     "data": {
      "text/html": [
       "<strong>png:</strong> 2"
      ],
      "text/latex": [
       "\\textbf{png:} 2"
      ],
      "text/markdown": [
       "**png:** 2"
      ],
      "text/plain": [
       "png \n",
       "  2 "
      ]
     },
     "metadata": {},
     "output_type": "display_data"
    },
    {
     "name": "stdout",
     "output_type": "stream",
     "text": [
      "[1] \"2x2列联表:\"\n",
      "                  \n",
      "                    Cano Uncano\n",
      "  Unique_Methods=1   369  15220\n",
      "  Unique_Methods>1   453   1176\n",
      "[1] \"\\n卡方检验结果:\"\n",
      "\n",
      "\tPearson's Chi-squared test with Yates' continuity correction\n",
      "\n",
      "data:  contingency_table\n",
      "X-squared = 2094.3, df = 1, p-value < 2.2e-16\n",
      "\n",
      "[1] \"\\n期望频数:\"\n",
      "                  \n",
      "                        Cano   Uncano\n",
      "  Unique_Methods=1 744.23034 14844.77\n",
      "  Unique_Methods>1  77.76966  1551.23\n"
     ]
    },
    {
     "data": {
      "image/png": "[encoded data removed]",
      "text/plain": [
       "plot without title"
      ]
     },
     "metadata": {
      "image/png": {
       "height": 600,
       "width": 600
      }
     },
     "output_type": "display_data"
    }
   ],
   "source": [
    "library(ComplexHeatmap)\n",
    "library(circlize)\n",
    "# Create a binary detection matrix\n",
    "binary_matrix_tmp <- df %>%\n",
    "  mutate(present = 1) %>%\n",
    "  select(Sample, Protein, present) %>%\n",
    "  pivot_wider(names_from = Sample, values_from = present, values_fill = 0) %>%\n",
    "  column_to_rownames(\"Protein\") %>%\n",
    "  as.matrix()\n",
    "# 按照特定顺序排序\n",
    "binary_matrix_tmp[protein_stats$Protein,] -> binary_matrix\n",
    "# Calculate detection frequency for each protein\n",
    "detection_freq <- rowSums(binary_matrix)\n",
    "detection_number <- colSums(binary_matrix)\n",
    "\n",
    "# Get unique sample annotations\n",
    "sample_annot <- df %>%\n",
    "  select(Sample,Enrichment,Eyzyme) %>%\n",
    "  distinct() %>%\n",
    "  column_to_rownames(\"Sample\")\n",
    "\n",
    "# Define colors for annotations\n",
    "enzyme_colors <- setNames(brewer.pal(length(unique(sample_annot$Eyzyme)), \"Set1\"), \n",
    "                          unique(sample_annot$Eyzyme))\n",
    "enrichment_colors <- setNames(brewer.pal(length(unique(sample_annot$Enrichment)), \"Set2\"), \n",
    "                              unique(sample_annot$Enrichment))\n",
    "# Create column annotations\n",
    "col_ha <- HeatmapAnnotation(\n",
    "  df = sample_annot,\n",
    "  col = list(\n",
    "    Eyzyme = enzyme_colors,\n",
    "    Enrichment = enrichment_colors\n",
    "  ),\n",
    "  annotation_name_side = \"left\"\n",
    ")\n",
    "\n",
    "# Create row annotation for detection frequency\n",
    "row_ha <- rowAnnotation(\n",
    "  \"Detection Frequency\" = anno_barplot(detection_freq, \n",
    "                                       bar_width = 0.8,\n",
    "                                       gp = gpar(fill = \"steelblue\",col=NULL))\n",
    ")\n",
    "col_ha_1 <- columnAnnotation(\n",
    "  \"Detection Number\" = anno_barplot(detection_number, \n",
    "                                       bar_width = 0.8,\n",
    "                                       gp = gpar(fill = \"steelblue\",col=NULL))\n",
    ")\n",
    "\n",
    "# Define colors for annotations\n",
    "type_colors <- setNames(brewer.pal(length(unique(protein_stats$Type)), \"Set3\"), \n",
    "                          unique(protein_stats$Type))\n",
    "method_colors <- setNames(brewer.pal(length(unique(protein_stats$Unique_Methods)), \"Dark2\"), \n",
    "                              unique(protein_stats$Unique_Methods))\n",
    "protein_stats[,c(\"Type\",\"Unique_Methods\")]  %>% as.data.frame() -> row_anno\n",
    "rownames(row_anno) <- protein_stats$Protein\n",
    "# Create column annotations\n",
    "row_ha_1 <- rowAnnotation(\n",
    "  df = row_anno,\n",
    "  col = list(\n",
    "    Type = type_colors[1:2],\n",
    "    Unique_Methods = method_colors\n",
    "  ),\n",
    "  annotation_name_side = \"bottom\"\n",
    ")\n",
    "\n",
    "column_split <- factor(\n",
    "  sample_annot$Enrichment, \n",
    "  levels = unique(sample_annot$Enrichment) \n",
    ")\n",
    "groups <- paste0(protein_stats$Type,\"-\",protein_stats$Unique_Methods)\n",
    "row_split <- factor(\n",
    "    groups, \n",
    "    levels = unique(groups)\n",
    ")\n",
    "\n",
    "options(repr.plot.width = 10, repr.plot.height = 10)\n",
    "ht <- Heatmap(\n",
    "    binary_matrix,\n",
    "    name = \"Detection\",\n",
    "    col = c(\"white\", \"black\"),\n",
    "    cluster_columns = FALSE,\n",
    "    clustering_distance_columns=\"binary\",\n",
    "    cluster_rows = FALSE,\n",
    "    row_title=NULL,\n",
    "    show_row_names = FALSE,\n",
    "    show_column_names = FALSE,\n",
    "    top_annotation = col_ha,\n",
    "    right_annotation = row_ha,\n",
    "    left_annotation = row_ha_1,\n",
    "    bottom_annotation = col_ha_1,\n",
    "    column_split = column_split,\n",
    "    row_split = row_split,\n",
    "    heatmap_legend_param = list(\n",
    "        at = c(0, 1),\n",
    "        labels = c(\"Not detected\", \"Detected\")\n",
    "    ),\n",
    "    use_raster = FALSE,\n",
    "    # 添加虚线分隔\n",
    "    row_gap = unit(2, \"mm\"),\n",
    "    column_gap = unit(2, \"mm\"),\n",
    "    border_gp = gpar(lty = \"dashed\", col = \"grey50\")  # 替代方法\n",
    ")\n",
    "ht\n",
    "\n",
    "# Draw the heatmap\n",
    "# 1. 打开 PDF 设备，设置文件名和尺寸（单位：英寸）\n",
    "pdf(o(\"protein_detection_heatmap.pdf\"), width = 12, height = 12)\n",
    "# 2. 绘制热图（假设 `ht` 是你的 Heatmap 对象）\n",
    "draw(ht)\n",
    "# 3. 关闭设备，保存文件\n",
    "dev.off()\n",
    "\n",
    "# 自动生成2x2列联表\n",
    "library(dplyr)\n",
    "\n",
    "# 创建分组变量\n",
    "protein_stats_grouped <- protein_stats %>%\n",
    "  mutate(\n",
    "    Group = case_when(\n",
    "      Unique_Methods == \"1\" ~ \"Unique_Methods=1\",\n",
    "      Unique_Methods %in% c(\"2\", \"3\", \"4\") ~ \"Unique_Methods>1\"\n",
    "    )\n",
    "  )\n",
    "\n",
    "# 生成列联表\n",
    "contingency_table <- table(protein_stats_grouped$Group, protein_stats_grouped$Type)\n",
    "print(\"2x2列联表:\")\n",
    "print(contingency_table)\n",
    "\n",
    "# 进行卡方检验\n",
    "chi_test <- chisq.test(contingency_table)\n",
    "print(\"\\n卡方检验结果:\")\n",
    "print(chi_test)\n",
    "\n",
    "# 检查期望频数\n",
    "print(\"\\n期望频数:\")\n",
    "print(chi_test$expected)\n",
    "\n",
    "# 如果期望频数<5，使用Fisher精确检验\n",
    "if(any(chi_test$expected < 5)) {\n",
    "  print(\"\\n期望频数<5，使用Fisher精确检验:\")\n",
    "  fisher_test <- fisher.test(contingency_table)\n",
    "  print(fisher_test)\n",
    "}"
   ]
  },
  {
   "cell_type": "code",
   "execution_count": 14,
   "id": "71060b01",
   "metadata": {
    "ExecuteTime": {
     "end_time": "2025-09-20T06:47:39.258001Z",
     "start_time": "2025-09-20T06:47:19.057Z"
    }
   },
   "outputs": [
    {
     "data": {
      "text/html": [
       "<style>\n",
       ".list-inline {list-style: none; margin:0; padding: 0}\n",
       ".list-inline>li {display: inline-block}\n",
       ".list-inline>li:not(:last-child)::after {content: \"\\00b7\"; padding: 0 .5ex}\n",
       "</style>\n",
       "<ol class=list-inline><li>'Protein'</li><li>'Unique_Methods'</li><li>'Total_Observations'</li><li>'Supported_Enrichments'</li><li>'Type'</li><li>'Group'</li></ol>\n"
      ],
      "text/latex": [
       "\\begin{enumerate*}\n",
       "\\item 'Protein'\n",
       "\\item 'Unique\\_Methods'\n",
       "\\item 'Total\\_Observations'\n",
       "\\item 'Supported\\_Enrichments'\n",
       "\\item 'Type'\n",
       "\\item 'Group'\n",
       "\\end{enumerate*}\n"
      ],
      "text/markdown": [
       "1. 'Protein'\n",
       "2. 'Unique_Methods'\n",
       "3. 'Total_Observations'\n",
       "4. 'Supported_Enrichments'\n",
       "5. 'Type'\n",
       "6. 'Group'\n",
       "\n",
       "\n"
      ],
      "text/plain": [
       "[1] \"Protein\"               \"Unique_Methods\"        \"Total_Observations\"   \n",
       "[4] \"Supported_Enrichments\" \"Type\"                  \"Group\"                "
      ]
     },
     "metadata": {},
     "output_type": "display_data"
    },
    {
     "name": "stderr",
     "output_type": "stream",
     "text": [
      "\u001b[1m\u001b[22m`summarise()` has grouped output by 'Type'. You can override using the\n",
      "`.groups` argument.\n"
     ]
    },
    {
     "data": {
      "text/html": [
       "<table class=\"dataframe\">\n",
       "<caption>A grouped_df: 8 × 3</caption>\n",
       "<thead>\n",
       "\t<tr><th scope=col>Type</th><th scope=col>Unique_Methods</th><th scope=col>n</th></tr>\n",
       "\t<tr><th scope=col>&lt;fct&gt;</th><th scope=col>&lt;fct&gt;</th><th scope=col>&lt;int&gt;</th></tr>\n",
       "</thead>\n",
       "<tbody>\n",
       "\t<tr><td>Cano  </td><td>4</td><td>  182</td></tr>\n",
       "\t<tr><td>Cano  </td><td>3</td><td>  129</td></tr>\n",
       "\t<tr><td>Cano  </td><td>2</td><td>  142</td></tr>\n",
       "\t<tr><td>Cano  </td><td>1</td><td>  369</td></tr>\n",
       "\t<tr><td>Uncano</td><td>4</td><td>   27</td></tr>\n",
       "\t<tr><td>Uncano</td><td>3</td><td>  145</td></tr>\n",
       "\t<tr><td>Uncano</td><td>2</td><td> 1004</td></tr>\n",
       "\t<tr><td>Uncano</td><td>1</td><td>15220</td></tr>\n",
       "</tbody>\n",
       "</table>\n"
      ],
      "text/latex": [
       "A grouped\\_df: 8 × 3\n",
       "\\begin{tabular}{lll}\n",
       " Type & Unique\\_Methods & n\\\\\n",
       " <fct> & <fct> & <int>\\\\\n",
       "\\hline\n",
       "\t Cano   & 4 &   182\\\\\n",
       "\t Cano   & 3 &   129\\\\\n",
       "\t Cano   & 2 &   142\\\\\n",
       "\t Cano   & 1 &   369\\\\\n",
       "\t Uncano & 4 &    27\\\\\n",
       "\t Uncano & 3 &   145\\\\\n",
       "\t Uncano & 2 &  1004\\\\\n",
       "\t Uncano & 1 & 15220\\\\\n",
       "\\end{tabular}\n"
      ],
      "text/markdown": [
       "\n",
       "A grouped_df: 8 × 3\n",
       "\n",
       "| Type &lt;fct&gt; | Unique_Methods &lt;fct&gt; | n &lt;int&gt; |\n",
       "|---|---|---|\n",
       "| Cano   | 4 |   182 |\n",
       "| Cano   | 3 |   129 |\n",
       "| Cano   | 2 |   142 |\n",
       "| Cano   | 1 |   369 |\n",
       "| Uncano | 4 |    27 |\n",
       "| Uncano | 3 |   145 |\n",
       "| Uncano | 2 |  1004 |\n",
       "| Uncano | 1 | 15220 |\n",
       "\n"
      ],
      "text/plain": [
       "  Type   Unique_Methods n    \n",
       "1 Cano   4                182\n",
       "2 Cano   3                129\n",
       "3 Cano   2                142\n",
       "4 Cano   1                369\n",
       "5 Uncano 4                 27\n",
       "6 Uncano 3                145\n",
       "7 Uncano 2               1004\n",
       "8 Uncano 1              15220"
      ]
     },
     "metadata": {},
     "output_type": "display_data"
    }
   ],
   "source": [
    "colnames(protein_stats_grouped)\n",
    "protein_stats_grouped %>% group_by(Type,Unique_Methods) %>% summarise(n=n())"
   ]
  }
 ],
 "metadata": {
  "kernelspec": {
   "display_name": "R_default_4.2",
   "language": "R",
   "name": "r_default_4.2"
  },
  "language_info": {
   "codemirror_mode": "r",
   "file_extension": ".r",
   "mimetype": "text/x-r-source",
   "name": "R",
   "pygments_lexer": "r",
   "version": "4.2.1"
  },
  "toc": {
   "base_numbering": 1,
   "nav_menu": {},
   "number_sections": true,
   "sideBar": true,
   "skip_h1_title": false,
   "title_cell": "Table of Contents",
   "title_sidebar": "Contents",
   "toc_cell": false,
   "toc_position": {
    "height": "calc(100% - 180px)",
    "left": "10px",
    "top": "150px",
    "width": "303.998px"
   },
   "toc_section_display": true,
   "toc_window_display": false
  }
 },
 "nbformat": 4,
 "nbformat_minor": 5
}
