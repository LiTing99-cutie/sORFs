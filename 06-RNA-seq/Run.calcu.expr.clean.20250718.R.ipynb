{
 "cells": [
  {
   "cell_type": "code",
   "execution_count": 1,
   "id": "e7428740-1468-4efa-93af-56581b995d4a",
   "metadata": {},
   "outputs": [
    {
     "data": {
      "text/html": [
       "<table class=\"dataframe\">\n",
       "<caption>A data.frame: 5 × 2</caption>\n",
       "<thead>\n",
       "\t<tr><th scope=col>Sample</th><th scope=col>libsize</th></tr>\n",
       "\t<tr><th scope=col>&lt;chr&gt;</th><th scope=col>&lt;int&gt;</th></tr>\n",
       "</thead>\n",
       "<tbody>\n",
       "\t<tr><td>p21_C_1</td><td> 38803745</td></tr>\n",
       "\t<tr><td>p21_C_2</td><td> 41777492</td></tr>\n",
       "\t<tr><td>p21_C_3</td><td>531854766</td></tr>\n",
       "\t<tr><td>p21_N_1</td><td> 46910288</td></tr>\n",
       "\t<tr><td>p21_N_2</td><td>651425046</td></tr>\n",
       "</tbody>\n",
       "</table>\n"
      ],
      "text/latex": [
       "A data.frame: 5 × 2\n",
       "\\begin{tabular}{ll}\n",
       " Sample & libsize\\\\\n",
       " <chr> & <int>\\\\\n",
       "\\hline\n",
       "\t p21\\_C\\_1 &  38803745\\\\\n",
       "\t p21\\_C\\_2 &  41777492\\\\\n",
       "\t p21\\_C\\_3 & 531854766\\\\\n",
       "\t p21\\_N\\_1 &  46910288\\\\\n",
       "\t p21\\_N\\_2 & 651425046\\\\\n",
       "\\end{tabular}\n"
      ],
      "text/markdown": [
       "\n",
       "A data.frame: 5 × 2\n",
       "\n",
       "| Sample &lt;chr&gt; | libsize &lt;int&gt; |\n",
       "|---|---|\n",
       "| p21_C_1 |  38803745 |\n",
       "| p21_C_2 |  41777492 |\n",
       "| p21_C_3 | 531854766 |\n",
       "| p21_N_1 |  46910288 |\n",
       "| p21_N_2 | 651425046 |\n",
       "\n"
      ],
      "text/plain": [
       "  Sample  libsize  \n",
       "1 p21_C_1  38803745\n",
       "2 p21_C_2  41777492\n",
       "3 p21_C_3 531854766\n",
       "4 p21_N_1  46910288\n",
       "5 p21_N_2 651425046"
      ]
     },
     "metadata": {},
     "output_type": "display_data"
    },
    {
     "data": {
      "text/html": [
       "<style>\n",
       ".list-inline {list-style: none; margin:0; padding: 0}\n",
       ".list-inline>li {display: inline-block}\n",
       ".list-inline>li:not(:last-child)::after {content: \"\\00b7\"; padding: 0 .5ex}\n",
       "</style>\n",
       "<ol class=list-inline><li>'p21_C_1'</li><li>'p21_C_2'</li><li>'p21_C_3'</li><li>'p21_N_1'</li><li>'p21_N_2'</li></ol>\n"
      ],
      "text/latex": [
       "\\begin{enumerate*}\n",
       "\\item 'p21\\_C\\_1'\n",
       "\\item 'p21\\_C\\_2'\n",
       "\\item 'p21\\_C\\_3'\n",
       "\\item 'p21\\_N\\_1'\n",
       "\\item 'p21\\_N\\_2'\n",
       "\\end{enumerate*}\n"
      ],
      "text/markdown": [
       "1. 'p21_C_1'\n",
       "2. 'p21_C_2'\n",
       "3. 'p21_C_3'\n",
       "4. 'p21_N_1'\n",
       "5. 'p21_N_2'\n",
       "\n",
       "\n"
      ],
      "text/plain": [
       "[1] \"p21_C_1\" \"p21_C_2\" \"p21_C_3\" \"p21_N_1\" \"p21_N_2\""
      ]
     },
     "metadata": {},
     "output_type": "display_data"
    }
   ],
   "source": [
    "#!/usr/bin/env Rscript\n",
    "# 功能：从 featureCounts 输出计算 RPKM，并比较核内（N）和核外（C）基因表达差异\n",
    "source(\"/home/user/data2/lit/bin/lit_utils.R\")\n",
    "source(\"/home/user/data3/lit/project/sORFs/sORFs.utils.R\")\n",
    "lib_text()\n",
    "lib_plot()\n",
    "setwd(\"/home/user/data3/lit/project/sORFs/06-RNA-seq\")\n",
    "###### libsize为UNIQUELY MAPPED READS而不是featureCounts assigned reads ######\n",
    "fc_output_file <- \"/home/user/data3/lit/project/sORFs/06-RNA-seq/02-output-20250621/featureCounts/rna-seq-counts.txt\"\n",
    "fread_c(fc_output_file)  -> rna_counts\n",
    "libsize <- fread_c(\"./02-output-20250621/expr/sample_name.lib.txt\")\n",
    "colnames(libsize) <- c(\"Sample\",\"libsize\")\n",
    "libsize\n",
    "\n",
    "# 重命名列\n",
    "colnames(rna_counts[,7:ncol(rna_counts)]) %>% sub(\"/home/user/data3/lit/project/sORFs/06-RNA-seq/02-output-20250621/mapping/\",\"\",.) %>% \n",
    "  sub(\".R1_Aligned.sortedByCoord.out.bam\",\"\",.) -> colnames_organized\n",
    "head(colnames_organized)"
   ]
  },
  {
   "cell_type": "code",
   "execution_count": 2,
   "id": "e2d9de83-c2bd-4592-803e-d58af8505679",
   "metadata": {},
   "outputs": [
    {
     "data": {
      "text/html": [
       "TRUE"
      ],
      "text/latex": [
       "TRUE"
      ],
      "text/markdown": [
       "TRUE"
      ],
      "text/plain": [
       "[1] TRUE"
      ]
     },
     "metadata": {},
     "output_type": "display_data"
    },
    {
     "data": {
      "text/html": [
       "<table class=\"dataframe\">\n",
       "<caption>A data.frame: 6 × 5</caption>\n",
       "<thead>\n",
       "\t<tr><th></th><th scope=col>C_1</th><th scope=col>C_2</th><th scope=col>C_3</th><th scope=col>N_1</th><th scope=col>N_2</th></tr>\n",
       "\t<tr><th></th><th scope=col>&lt;dbl&gt;</th><th scope=col>&lt;dbl&gt;</th><th scope=col>&lt;dbl&gt;</th><th scope=col>&lt;dbl&gt;</th><th scope=col>&lt;dbl&gt;</th></tr>\n",
       "</thead>\n",
       "<tbody>\n",
       "\t<tr><th scope=row>1</th><td>0.0000000</td><td>0.00000000</td><td>0.00000000</td><td>0.000000</td><td>0.0008847816</td></tr>\n",
       "\t<tr><th scope=row>2</th><td>0.6676349</td><td>0.90359218</td><td>0.89348368</td><td>1.846131</td><td>1.5850917525</td></tr>\n",
       "\t<tr><th scope=row>3</th><td>0.3789810</td><td>0.00000000</td><td>0.00000000</td><td>3.134895</td><td>3.6571405349</td></tr>\n",
       "\t<tr><th scope=row>4</th><td>0.0000000</td><td>0.04688802</td><td>0.01473232</td><td>0.000000</td><td>0.0000000000</td></tr>\n",
       "\t<tr><th scope=row>5</th><td>0.0000000</td><td>0.00000000</td><td>0.00000000</td><td>0.000000</td><td>0.0000000000</td></tr>\n",
       "\t<tr><th scope=row>6</th><td>0.0000000</td><td>0.00000000</td><td>0.00000000</td><td>0.000000</td><td>0.0000000000</td></tr>\n",
       "</tbody>\n",
       "</table>\n"
      ],
      "text/latex": [
       "A data.frame: 6 × 5\n",
       "\\begin{tabular}{r|lllll}\n",
       "  & C\\_1 & C\\_2 & C\\_3 & N\\_1 & N\\_2\\\\\n",
       "  & <dbl> & <dbl> & <dbl> & <dbl> & <dbl>\\\\\n",
       "\\hline\n",
       "\t1 & 0.0000000 & 0.00000000 & 0.00000000 & 0.000000 & 0.0008847816\\\\\n",
       "\t2 & 0.6676349 & 0.90359218 & 0.89348368 & 1.846131 & 1.5850917525\\\\\n",
       "\t3 & 0.3789810 & 0.00000000 & 0.00000000 & 3.134895 & 3.6571405349\\\\\n",
       "\t4 & 0.0000000 & 0.04688802 & 0.01473232 & 0.000000 & 0.0000000000\\\\\n",
       "\t5 & 0.0000000 & 0.00000000 & 0.00000000 & 0.000000 & 0.0000000000\\\\\n",
       "\t6 & 0.0000000 & 0.00000000 & 0.00000000 & 0.000000 & 0.0000000000\\\\\n",
       "\\end{tabular}\n"
      ],
      "text/markdown": [
       "\n",
       "A data.frame: 6 × 5\n",
       "\n",
       "| <!--/--> | C_1 &lt;dbl&gt; | C_2 &lt;dbl&gt; | C_3 &lt;dbl&gt; | N_1 &lt;dbl&gt; | N_2 &lt;dbl&gt; |\n",
       "|---|---|---|---|---|---|\n",
       "| 1 | 0.0000000 | 0.00000000 | 0.00000000 | 0.000000 | 0.0008847816 |\n",
       "| 2 | 0.6676349 | 0.90359218 | 0.89348368 | 1.846131 | 1.5850917525 |\n",
       "| 3 | 0.3789810 | 0.00000000 | 0.00000000 | 3.134895 | 3.6571405349 |\n",
       "| 4 | 0.0000000 | 0.04688802 | 0.01473232 | 0.000000 | 0.0000000000 |\n",
       "| 5 | 0.0000000 | 0.00000000 | 0.00000000 | 0.000000 | 0.0000000000 |\n",
       "| 6 | 0.0000000 | 0.00000000 | 0.00000000 | 0.000000 | 0.0000000000 |\n",
       "\n"
      ],
      "text/plain": [
       "  C_1       C_2        C_3        N_1      N_2         \n",
       "1 0.0000000 0.00000000 0.00000000 0.000000 0.0008847816\n",
       "2 0.6676349 0.90359218 0.89348368 1.846131 1.5850917525\n",
       "3 0.3789810 0.00000000 0.00000000 3.134895 3.6571405349\n",
       "4 0.0000000 0.04688802 0.01473232 0.000000 0.0000000000\n",
       "5 0.0000000 0.00000000 0.00000000 0.000000 0.0000000000\n",
       "6 0.0000000 0.00000000 0.00000000 0.000000 0.0000000000"
      ]
     },
     "metadata": {},
     "output_type": "display_data"
    }
   ],
   "source": [
    "colnames_organized_1 <- c(\"C_1\",\"C_2\",\"C_3\",\"N_1\",\"N_2\")\n",
    "# 计算RPKM\n",
    "get_rpkm <- function(counts,libsize){\n",
    "  rkm <- counts[,7:ncol(counts)]/counts$Length*1000\n",
    "  rpkm <- data.frame(t(t(rkm) / libsize) * 10^6 )\n",
    "  return(rpkm)\n",
    "}\n",
    "fread_c(fc_output_file)  -> rna_counts\n",
    "# 确保libsize样本的顺序和counts中样本的顺序是一致的【已确认】\n",
    "all(libsize$Sample==colnames_organized)\n",
    "get_rpkm(rna_counts,libsize$libsize) -> rpkm\n",
    "colnames(rpkm) <- colnames_organized_1\n",
    "head(rpkm)"
   ]
  },
  {
   "cell_type": "code",
   "execution_count": 3,
   "id": "7de2290e-87a9-44fa-bfe4-8670d0f1212d",
   "metadata": {},
   "outputs": [
    {
     "data": {
      "text/html": [
       "<table class=\"dataframe\">\n",
       "<caption>A matrix: 5 × 5 of type dbl</caption>\n",
       "<thead>\n",
       "\t<tr><th></th><th scope=col>C_1</th><th scope=col>C_2</th><th scope=col>C_3</th><th scope=col>N_1</th><th scope=col>N_2</th></tr>\n",
       "</thead>\n",
       "<tbody>\n",
       "\t<tr><th scope=row>C_1</th><td>1.0000000</td><td>0.9999970</td><td>0.9999978</td><td>0.6417088</td><td>0.6353970</td></tr>\n",
       "\t<tr><th scope=row>C_2</th><td>0.9999970</td><td>1.0000000</td><td>0.9999998</td><td>0.6416423</td><td>0.6353301</td></tr>\n",
       "\t<tr><th scope=row>C_3</th><td>0.9999978</td><td>0.9999998</td><td>1.0000000</td><td>0.6416335</td><td>0.6353217</td></tr>\n",
       "\t<tr><th scope=row>N_1</th><td>0.6417088</td><td>0.6416423</td><td>0.6416335</td><td>1.0000000</td><td>0.9990553</td></tr>\n",
       "\t<tr><th scope=row>N_2</th><td>0.6353970</td><td>0.6353301</td><td>0.6353217</td><td>0.9990553</td><td>1.0000000</td></tr>\n",
       "</tbody>\n",
       "</table>\n"
      ],
      "text/latex": [
       "A matrix: 5 × 5 of type dbl\n",
       "\\begin{tabular}{r|lllll}\n",
       "  & C\\_1 & C\\_2 & C\\_3 & N\\_1 & N\\_2\\\\\n",
       "\\hline\n",
       "\tC\\_1 & 1.0000000 & 0.9999970 & 0.9999978 & 0.6417088 & 0.6353970\\\\\n",
       "\tC\\_2 & 0.9999970 & 1.0000000 & 0.9999998 & 0.6416423 & 0.6353301\\\\\n",
       "\tC\\_3 & 0.9999978 & 0.9999998 & 1.0000000 & 0.6416335 & 0.6353217\\\\\n",
       "\tN\\_1 & 0.6417088 & 0.6416423 & 0.6416335 & 1.0000000 & 0.9990553\\\\\n",
       "\tN\\_2 & 0.6353970 & 0.6353301 & 0.6353217 & 0.9990553 & 1.0000000\\\\\n",
       "\\end{tabular}\n"
      ],
      "text/markdown": [
       "\n",
       "A matrix: 5 × 5 of type dbl\n",
       "\n",
       "| <!--/--> | C_1 | C_2 | C_3 | N_1 | N_2 |\n",
       "|---|---|---|---|---|---|\n",
       "| C_1 | 1.0000000 | 0.9999970 | 0.9999978 | 0.6417088 | 0.6353970 |\n",
       "| C_2 | 0.9999970 | 1.0000000 | 0.9999998 | 0.6416423 | 0.6353301 |\n",
       "| C_3 | 0.9999978 | 0.9999998 | 1.0000000 | 0.6416335 | 0.6353217 |\n",
       "| N_1 | 0.6417088 | 0.6416423 | 0.6416335 | 1.0000000 | 0.9990553 |\n",
       "| N_2 | 0.6353970 | 0.6353301 | 0.6353217 | 0.9990553 | 1.0000000 |\n",
       "\n"
      ],
      "text/plain": [
       "    C_1       C_2       C_3       N_1       N_2      \n",
       "C_1 1.0000000 0.9999970 0.9999978 0.6417088 0.6353970\n",
       "C_2 0.9999970 1.0000000 0.9999998 0.6416423 0.6353301\n",
       "C_3 0.9999978 0.9999998 1.0000000 0.6416335 0.6353217\n",
       "N_1 0.6417088 0.6416423 0.6416335 1.0000000 0.9990553\n",
       "N_2 0.6353970 0.6353301 0.6353217 0.9990553 1.0000000"
      ]
     },
     "metadata": {},
     "output_type": "display_data"
    }
   ],
   "source": [
    "# 核内三个重复以及核外两个重复之间的相关性都很好\n",
    "cor(rpkm, method = \"pearson\")"
   ]
  },
  {
   "cell_type": "code",
   "execution_count": 4,
   "id": "a431625e-0694-44d9-9818-97204942569f",
   "metadata": {},
   "outputs": [
    {
     "data": {
      "text/html": [
       "<table class=\"dataframe\">\n",
       "<caption>A data.frame: 6 × 2</caption>\n",
       "<thead>\n",
       "\t<tr><th></th><th scope=col>C</th><th scope=col>N</th></tr>\n",
       "\t<tr><th></th><th scope=col>&lt;dbl&gt;</th><th scope=col>&lt;dbl&gt;</th></tr>\n",
       "</thead>\n",
       "<tbody>\n",
       "\t<tr><th scope=row>1</th><td>0.00000000</td><td>0.0004423908</td></tr>\n",
       "\t<tr><th scope=row>2</th><td>0.82157026</td><td>1.7156111605</td></tr>\n",
       "\t<tr><th scope=row>3</th><td>0.12632700</td><td>3.3960177273</td></tr>\n",
       "\t<tr><th scope=row>4</th><td>0.02054011</td><td>0.0000000000</td></tr>\n",
       "\t<tr><th scope=row>5</th><td>0.00000000</td><td>0.0000000000</td></tr>\n",
       "\t<tr><th scope=row>6</th><td>0.00000000</td><td>0.0000000000</td></tr>\n",
       "</tbody>\n",
       "</table>\n"
      ],
      "text/latex": [
       "A data.frame: 6 × 2\n",
       "\\begin{tabular}{r|ll}\n",
       "  & C & N\\\\\n",
       "  & <dbl> & <dbl>\\\\\n",
       "\\hline\n",
       "\t1 & 0.00000000 & 0.0004423908\\\\\n",
       "\t2 & 0.82157026 & 1.7156111605\\\\\n",
       "\t3 & 0.12632700 & 3.3960177273\\\\\n",
       "\t4 & 0.02054011 & 0.0000000000\\\\\n",
       "\t5 & 0.00000000 & 0.0000000000\\\\\n",
       "\t6 & 0.00000000 & 0.0000000000\\\\\n",
       "\\end{tabular}\n"
      ],
      "text/markdown": [
       "\n",
       "A data.frame: 6 × 2\n",
       "\n",
       "| <!--/--> | C &lt;dbl&gt; | N &lt;dbl&gt; |\n",
       "|---|---|---|\n",
       "| 1 | 0.00000000 | 0.0004423908 |\n",
       "| 2 | 0.82157026 | 1.7156111605 |\n",
       "| 3 | 0.12632700 | 3.3960177273 |\n",
       "| 4 | 0.02054011 | 0.0000000000 |\n",
       "| 5 | 0.00000000 | 0.0000000000 |\n",
       "| 6 | 0.00000000 | 0.0000000000 |\n",
       "\n"
      ],
      "text/plain": [
       "  C          N           \n",
       "1 0.00000000 0.0004423908\n",
       "2 0.82157026 1.7156111605\n",
       "3 0.12632700 3.3960177273\n",
       "4 0.02054011 0.0000000000\n",
       "5 0.00000000 0.0000000000\n",
       "6 0.00000000 0.0000000000"
      ]
     },
     "metadata": {},
     "output_type": "display_data"
    }
   ],
   "source": [
    "## 合并\n",
    "mutate(rpkm,C=(C_1+C_2+C_3)/3,N=(N_1+N_2)/2) %>% dplyr::select(C,N) -> rpkm_N_C\n",
    "head(rpkm_N_C)"
   ]
  },
  {
   "cell_type": "code",
   "execution_count": 5,
   "id": "22e00061-c0d7-4e76-b313-a0ce704e986f",
   "metadata": {},
   "outputs": [
    {
     "name": "stderr",
     "output_type": "stream",
     "text": [
      "Warning message:\n",
      "“\u001b[1m\u001b[22m`aes_string()` was deprecated in ggplot2 3.0.0.\n",
      "\u001b[36mℹ\u001b[39m Please use tidy evaluation idioms with `aes()`.\n",
      "\u001b[36mℹ\u001b[39m See also `vignette(\"ggplot2-in-packages\")` for more information.”\n",
      "Warning message in brewer.pal(n = n_distinct(data[, x]), name = \"Set3\"):\n",
      "“minimal value for n is 3, returning requested palette with 3 different levels\n",
      "”\n"
     ]
    },
    {
     "data": {
      "image/png": "[encoded data removed]",
      "text/plain": [
       "plot without title"
      ]
     },
     "metadata": {
      "image/png": {
       "height": 420,
       "width": 420
      }
     },
     "output_type": "display_data"
    }
   ],
   "source": [
    "# 比较lncRNA和protein-coding基因的NC ratio\n",
    "rpkm_N_C$Geneid <- rna_counts$Geneid\n",
    "## 过滤低表达基因\n",
    "filter(rpkm_N_C,N+C>=0.2) -> rpkm_N_C_expressed\n",
    "## 导入转录本基因信息\n",
    "fread(\"/home/user/data2/lit/project/ZNF271/data/annotation/Ensembl_106_Gencode_v41_Human_Transcript_stable_ID_version_Gene_stable_ID_version_Gene_name_Transcript_type_gene_type.txt\",header = F,data.table = F) -> info\n",
    "# head(info)\n",
    "distinct(info,V1,V4) %>% merge(rpkm_N_C_expressed,by.x=\"V1\",by.y=\"Geneid\") -> rpkm_N_C_expressed_add_gt\n",
    "# table(rpkm_N_C_expressed_add_gt$V4) %>% sort()\n",
    "## 比较lncRNA和protein-coding基因\n",
    "filter(rpkm_N_C_expressed_add_gt,V4 %in% c(\"lncRNA\",\"protein_coding\")) -> rpkm_N_C_expressed_lnc_pc\n",
    "## 计算log2((N+0.1)/(C+0.1))\n",
    "rpkm_N_C_expressed_lnc_pc %>% mutate(NC_ratio=log2((N+0.1)/(C+0.1))) -> rpkm_N_C_expressed_lnc_pc\n",
    "# table(rpkm_N_C_expressed_lnc_pc$V4)\n",
    "## 调整violin plot的参数bw\n",
    "box_violin_plot_v1 <- function(data,x,y,fill_col,log10=T,bw=0.1){\n",
    "  # log10 是否启用对数坐标轴，注意如果数据中有零值，那么会作图的时候会自动去掉这些值\n",
    "  ggplot(data,aes_string(x=x,y=y,fill=fill_col))+\n",
    "    geom_violin(trim = F,bw=bw)+\n",
    "    geom_boxplot(outlier.shape = NA,fill=\"white\",width=0.2)+\n",
    "    scale_fill_manual(values = brewer.pal(n=n_distinct(data[,x]),name=\"Set3\"))+\n",
    "    theme_3() -> p\n",
    "  if(log10){\n",
    "    p+scale_y_log10(labels = label_number())->p\n",
    "  }\n",
    "  return(p)\n",
    "}\n",
    "box_violin_plot_v1(rpkm_N_C_expressed_lnc_pc,x = \"V4\",y = \"NC_ratio\",fill_col =\"V4\",log10 = F,bw=0.5) ->p\n",
    "p+labs(y=\"Normalized N/C ratio\",fill=\"Type\",x=NULL) -> p\n",
    "compare(p,list(c(\"lncRNA\",\"protein_coding\"))) -> p_1\n",
    "p_1\n",
    "create_path(\"./02-output-20250621//expr/plot/\")\n",
    "ggsave(p_1,filename = \"./02-output-20250621//expr/plot/lnc_pc_ncRatio.pdf\",width = 5,height = 5)\n",
    "\n",
    "# 导出基因的表达信息\n",
    "rpkm_N_C %>% mutate(A=(N+C)/2) -> rpkm_N_C_A\n",
    "fwrite_c(rpkm_N_C_A, \"./02-output-20250621//expr/rpkm_N_C_A.txt\")"
   ]
  },
  {
   "cell_type": "code",
   "execution_count": 6,
   "id": "376a1009-ca02-46ff-9c06-86b1e8081df4",
   "metadata": {},
   "outputs": [
    {
     "data": {
      "text/html": [
       "<table class=\"dataframe\">\n",
       "<caption>A data.frame: 6 × 5</caption>\n",
       "<thead>\n",
       "\t<tr><th></th><th scope=col>V1</th><th scope=col>V4</th><th scope=col>C</th><th scope=col>N</th><th scope=col>NC_ratio</th></tr>\n",
       "\t<tr><th></th><th scope=col>&lt;chr&gt;</th><th scope=col>&lt;chr&gt;</th><th scope=col>&lt;dbl&gt;</th><th scope=col>&lt;dbl&gt;</th><th scope=col>&lt;dbl&gt;</th></tr>\n",
       "</thead>\n",
       "<tbody>\n",
       "\t<tr><th scope=row>1</th><td>ENSG00000000003.15</td><td>protein_coding</td><td>1.7932026</td><td>0.4443332</td><td>-1.79826701</td></tr>\n",
       "\t<tr><th scope=row>2</th><td>ENSG00000000419.14</td><td>protein_coding</td><td>1.6419722</td><td>1.0447719</td><td>-0.60566142</td></tr>\n",
       "\t<tr><th scope=row>3</th><td>ENSG00000000457.14</td><td>protein_coding</td><td>1.1920480</td><td>1.1073857</td><td>-0.09777297</td></tr>\n",
       "\t<tr><th scope=row>4</th><td>ENSG00000000460.17</td><td>protein_coding</td><td>0.6318950</td><td>1.1913668</td><td> 0.81919028</td></tr>\n",
       "\t<tr><th scope=row>5</th><td>ENSG00000001036.14</td><td>protein_coding</td><td>1.7265121</td><td>0.6158215</td><td>-1.35141949</td></tr>\n",
       "\t<tr><th scope=row>6</th><td>ENSG00000001084.13</td><td>protein_coding</td><td>0.9369809</td><td>0.6432600</td><td>-0.48045045</td></tr>\n",
       "</tbody>\n",
       "</table>\n"
      ],
      "text/latex": [
       "A data.frame: 6 × 5\n",
       "\\begin{tabular}{r|lllll}\n",
       "  & V1 & V4 & C & N & NC\\_ratio\\\\\n",
       "  & <chr> & <chr> & <dbl> & <dbl> & <dbl>\\\\\n",
       "\\hline\n",
       "\t1 & ENSG00000000003.15 & protein\\_coding & 1.7932026 & 0.4443332 & -1.79826701\\\\\n",
       "\t2 & ENSG00000000419.14 & protein\\_coding & 1.6419722 & 1.0447719 & -0.60566142\\\\\n",
       "\t3 & ENSG00000000457.14 & protein\\_coding & 1.1920480 & 1.1073857 & -0.09777297\\\\\n",
       "\t4 & ENSG00000000460.17 & protein\\_coding & 0.6318950 & 1.1913668 &  0.81919028\\\\\n",
       "\t5 & ENSG00000001036.14 & protein\\_coding & 1.7265121 & 0.6158215 & -1.35141949\\\\\n",
       "\t6 & ENSG00000001084.13 & protein\\_coding & 0.9369809 & 0.6432600 & -0.48045045\\\\\n",
       "\\end{tabular}\n"
      ],
      "text/markdown": [
       "\n",
       "A data.frame: 6 × 5\n",
       "\n",
       "| <!--/--> | V1 &lt;chr&gt; | V4 &lt;chr&gt; | C &lt;dbl&gt; | N &lt;dbl&gt; | NC_ratio &lt;dbl&gt; |\n",
       "|---|---|---|---|---|---|\n",
       "| 1 | ENSG00000000003.15 | protein_coding | 1.7932026 | 0.4443332 | -1.79826701 |\n",
       "| 2 | ENSG00000000419.14 | protein_coding | 1.6419722 | 1.0447719 | -0.60566142 |\n",
       "| 3 | ENSG00000000457.14 | protein_coding | 1.1920480 | 1.1073857 | -0.09777297 |\n",
       "| 4 | ENSG00000000460.17 | protein_coding | 0.6318950 | 1.1913668 |  0.81919028 |\n",
       "| 5 | ENSG00000001036.14 | protein_coding | 1.7265121 | 0.6158215 | -1.35141949 |\n",
       "| 6 | ENSG00000001084.13 | protein_coding | 0.9369809 | 0.6432600 | -0.48045045 |\n",
       "\n"
      ],
      "text/plain": [
       "  V1                 V4             C         N         NC_ratio   \n",
       "1 ENSG00000000003.15 protein_coding 1.7932026 0.4443332 -1.79826701\n",
       "2 ENSG00000000419.14 protein_coding 1.6419722 1.0447719 -0.60566142\n",
       "3 ENSG00000000457.14 protein_coding 1.1920480 1.1073857 -0.09777297\n",
       "4 ENSG00000000460.17 protein_coding 0.6318950 1.1913668  0.81919028\n",
       "5 ENSG00000001036.14 protein_coding 1.7265121 0.6158215 -1.35141949\n",
       "6 ENSG00000001084.13 protein_coding 0.9369809 0.6432600 -0.48045045"
      ]
     },
     "metadata": {},
     "output_type": "display_data"
    },
    {
     "data": {
      "text/plain": [
       "\n",
       "        lncRNA protein_coding \n",
       "          4972          13947 "
      ]
     },
     "metadata": {},
     "output_type": "display_data"
    }
   ],
   "source": [
    "head(rpkm_N_C_expressed_lnc_pc)\n",
    "table(rpkm_N_C_expressed_lnc_pc$V4)"
   ]
  },
  {
   "cell_type": "code",
   "execution_count": 7,
   "id": "f71c7b5d-e596-4cf4-9b72-1fd11a8fb7bb",
   "metadata": {},
   "outputs": [
    {
     "data": {
      "text/html": [
       "<table class=\"dataframe\">\n",
       "<caption>A data.frame: 6 × 4</caption>\n",
       "<thead>\n",
       "\t<tr><th></th><th scope=col>C</th><th scope=col>N</th><th scope=col>Geneid</th><th scope=col>A</th></tr>\n",
       "\t<tr><th></th><th scope=col>&lt;dbl&gt;</th><th scope=col>&lt;dbl&gt;</th><th scope=col>&lt;chr&gt;</th><th scope=col>&lt;dbl&gt;</th></tr>\n",
       "</thead>\n",
       "<tbody>\n",
       "\t<tr><th scope=row>1</th><td>0.00000000</td><td>0.0004423908</td><td>ENSG00000223972.5</td><td>0.0002211954</td></tr>\n",
       "\t<tr><th scope=row>2</th><td>0.82157026</td><td>1.7156111605</td><td>ENSG00000227232.5</td><td>1.2685907120</td></tr>\n",
       "\t<tr><th scope=row>3</th><td>0.12632700</td><td>3.3960177273</td><td>ENSG00000278267.1</td><td>1.7611723648</td></tr>\n",
       "\t<tr><th scope=row>4</th><td>0.02054011</td><td>0.0000000000</td><td>ENSG00000243485.5</td><td>0.0102700568</td></tr>\n",
       "\t<tr><th scope=row>5</th><td>0.00000000</td><td>0.0000000000</td><td>ENSG00000284332.1</td><td>0.0000000000</td></tr>\n",
       "\t<tr><th scope=row>6</th><td>0.00000000</td><td>0.0000000000</td><td>ENSG00000237613.2</td><td>0.0000000000</td></tr>\n",
       "</tbody>\n",
       "</table>\n"
      ],
      "text/latex": [
       "A data.frame: 6 × 4\n",
       "\\begin{tabular}{r|llll}\n",
       "  & C & N & Geneid & A\\\\\n",
       "  & <dbl> & <dbl> & <chr> & <dbl>\\\\\n",
       "\\hline\n",
       "\t1 & 0.00000000 & 0.0004423908 & ENSG00000223972.5 & 0.0002211954\\\\\n",
       "\t2 & 0.82157026 & 1.7156111605 & ENSG00000227232.5 & 1.2685907120\\\\\n",
       "\t3 & 0.12632700 & 3.3960177273 & ENSG00000278267.1 & 1.7611723648\\\\\n",
       "\t4 & 0.02054011 & 0.0000000000 & ENSG00000243485.5 & 0.0102700568\\\\\n",
       "\t5 & 0.00000000 & 0.0000000000 & ENSG00000284332.1 & 0.0000000000\\\\\n",
       "\t6 & 0.00000000 & 0.0000000000 & ENSG00000237613.2 & 0.0000000000\\\\\n",
       "\\end{tabular}\n"
      ],
      "text/markdown": [
       "\n",
       "A data.frame: 6 × 4\n",
       "\n",
       "| <!--/--> | C &lt;dbl&gt; | N &lt;dbl&gt; | Geneid &lt;chr&gt; | A &lt;dbl&gt; |\n",
       "|---|---|---|---|---|\n",
       "| 1 | 0.00000000 | 0.0004423908 | ENSG00000223972.5 | 0.0002211954 |\n",
       "| 2 | 0.82157026 | 1.7156111605 | ENSG00000227232.5 | 1.2685907120 |\n",
       "| 3 | 0.12632700 | 3.3960177273 | ENSG00000278267.1 | 1.7611723648 |\n",
       "| 4 | 0.02054011 | 0.0000000000 | ENSG00000243485.5 | 0.0102700568 |\n",
       "| 5 | 0.00000000 | 0.0000000000 | ENSG00000284332.1 | 0.0000000000 |\n",
       "| 6 | 0.00000000 | 0.0000000000 | ENSG00000237613.2 | 0.0000000000 |\n",
       "\n"
      ],
      "text/plain": [
       "  C          N            Geneid            A           \n",
       "1 0.00000000 0.0004423908 ENSG00000223972.5 0.0002211954\n",
       "2 0.82157026 1.7156111605 ENSG00000227232.5 1.2685907120\n",
       "3 0.12632700 3.3960177273 ENSG00000278267.1 1.7611723648\n",
       "4 0.02054011 0.0000000000 ENSG00000243485.5 0.0102700568\n",
       "5 0.00000000 0.0000000000 ENSG00000284332.1 0.0000000000\n",
       "6 0.00000000 0.0000000000 ENSG00000237613.2 0.0000000000"
      ]
     },
     "metadata": {},
     "output_type": "display_data"
    },
    {
     "data": {
      "text/html": [
       "61852"
      ],
      "text/latex": [
       "61852"
      ],
      "text/markdown": [
       "61852"
      ],
      "text/plain": [
       "[1] 61852"
      ]
     },
     "metadata": {},
     "output_type": "display_data"
    },
    {
     "data": {
      "text/html": [
       "39668"
      ],
      "text/latex": [
       "39668"
      ],
      "text/markdown": [
       "39668"
      ],
      "text/plain": [
       "[1] 39668"
      ]
     },
     "metadata": {},
     "output_type": "display_data"
    },
    {
     "data": {
      "text/html": [
       "0.641337386018237"
      ],
      "text/latex": [
       "0.641337386018237"
      ],
      "text/markdown": [
       "0.641337386018237"
      ],
      "text/plain": [
       "[1] 0.6413374"
      ]
     },
     "metadata": {},
     "output_type": "display_data"
    }
   ],
   "source": [
    "head(rpkm_N_C_A)\n",
    "nrow(rpkm_N_C_A)\n",
    "filter(rpkm_N_C_A,A>0) -> human_21pcw_brain_expressed_gene_expr\n",
    "nrow(human_21pcw_brain_expressed_gene_expr)\n",
    "nrow(human_21pcw_brain_expressed_gene_expr)/nrow(rpkm_N_C_A)\n",
    "fwrite_c(human_21pcw_brain_expressed_gene_expr, \"./02-output-20250621//expr/rpkm_N_C_A_expressed.txt\")"
   ]
  },
  {
   "cell_type": "code",
   "execution_count": 8,
   "id": "170c9580-d52e-446b-ac4b-402c6ad0b036",
   "metadata": {},
   "outputs": [
    {
     "data": {
      "text/html": [
       "612436003"
      ],
      "text/latex": [
       "612436003"
      ],
      "text/markdown": [
       "612436003"
      ],
      "text/plain": [
       "[1] 612436003"
      ]
     },
     "metadata": {},
     "output_type": "display_data"
    },
    {
     "data": {
      "text/html": [
       "698335334"
      ],
      "text/latex": [
       "698335334"
      ],
      "text/markdown": [
       "698335334"
      ],
      "text/plain": [
       "[1] 698335334"
      ]
     },
     "metadata": {},
     "output_type": "display_data"
    }
   ],
   "source": [
    "sum(libsize$libsize[1:3])\n",
    "sum(libsize$libsize[4:5])"
   ]
  }
 ],
 "metadata": {
  "kernelspec": {
   "display_name": "R_default_4.2",
   "language": "R",
   "name": "r_default_4.2"
  },
  "language_info": {
   "codemirror_mode": "r",
   "file_extension": ".r",
   "mimetype": "text/x-r-source",
   "name": "R",
   "pygments_lexer": "r",
   "version": "4.2.1"
  },
  "toc": {
   "base_numbering": 1,
   "nav_menu": {},
   "number_sections": true,
   "sideBar": true,
   "skip_h1_title": false,
   "title_cell": "Table of Contents",
   "title_sidebar": "Contents",
   "toc_cell": false,
   "toc_position": {},
   "toc_section_display": true,
   "toc_window_display": false
  }
 },
 "nbformat": 4,
 "nbformat_minor": 5
}
