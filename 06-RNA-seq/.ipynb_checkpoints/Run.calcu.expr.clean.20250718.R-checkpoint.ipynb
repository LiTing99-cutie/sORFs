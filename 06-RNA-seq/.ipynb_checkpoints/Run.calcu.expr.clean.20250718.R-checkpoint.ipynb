{
 "cells": [
  {
   "cell_type": "code",
   "execution_count": 1,
   "id": "e7428740-1468-4efa-93af-56581b995d4a",
   "metadata": {},
   "outputs": [
    {
     "data": {
      "text/html": [
       "<table class=\"dataframe\">\n",
       "<caption>A data.frame: 5 × 2</caption>\n",
       "<thead>\n",
       "\t<tr><th scope=col>Sample</th><th scope=col>libsize</th></tr>\n",
       "\t<tr><th scope=col>&lt;chr&gt;</th><th scope=col>&lt;dbl&gt;</th></tr>\n",
       "</thead>\n",
       "<tbody>\n",
       "\t<tr><td>p21_C_1</td><td> 19401900</td></tr>\n",
       "\t<tr><td>p21_C_2</td><td> 20888746</td></tr>\n",
       "\t<tr><td>p21_C_3</td><td>265927383</td></tr>\n",
       "\t<tr><td>p21_N_1</td><td> 23455144</td></tr>\n",
       "\t<tr><td>p21_N_2</td><td>325712523</td></tr>\n",
       "</tbody>\n",
       "</table>\n"
      ],
      "text/latex": [
       "A data.frame: 5 × 2\n",
       "\\begin{tabular}{ll}\n",
       " Sample & libsize\\\\\n",
       " <chr> & <dbl>\\\\\n",
       "\\hline\n",
       "\t p21\\_C\\_1 &  19401900\\\\\n",
       "\t p21\\_C\\_2 &  20888746\\\\\n",
       "\t p21\\_C\\_3 & 265927383\\\\\n",
       "\t p21\\_N\\_1 &  23455144\\\\\n",
       "\t p21\\_N\\_2 & 325712523\\\\\n",
       "\\end{tabular}\n"
      ],
      "text/markdown": [
       "\n",
       "A data.frame: 5 × 2\n",
       "\n",
       "| Sample &lt;chr&gt; | libsize &lt;dbl&gt; |\n",
       "|---|---|\n",
       "| p21_C_1 |  19401900 |\n",
       "| p21_C_2 |  20888746 |\n",
       "| p21_C_3 | 265927383 |\n",
       "| p21_N_1 |  23455144 |\n",
       "| p21_N_2 | 325712523 |\n",
       "\n"
      ],
      "text/plain": [
       "  Sample  libsize  \n",
       "1 p21_C_1  19401900\n",
       "2 p21_C_2  20888746\n",
       "3 p21_C_3 265927383\n",
       "4 p21_N_1  23455144\n",
       "5 p21_N_2 325712523"
      ]
     },
     "metadata": {},
     "output_type": "display_data"
    },
    {
     "data": {
      "text/html": [
       "<style>\n",
       ".list-inline {list-style: none; margin:0; padding: 0}\n",
       ".list-inline>li {display: inline-block}\n",
       ".list-inline>li:not(:last-child)::after {content: \"\\00b7\"; padding: 0 .5ex}\n",
       "</style>\n",
       "<ol class=list-inline><li>'p21_C_1'</li><li>'p21_C_2'</li><li>'p21_C_3'</li><li>'p21_N_1'</li><li>'p21_N_2'</li></ol>\n"
      ],
      "text/latex": [
       "\\begin{enumerate*}\n",
       "\\item 'p21\\_C\\_1'\n",
       "\\item 'p21\\_C\\_2'\n",
       "\\item 'p21\\_C\\_3'\n",
       "\\item 'p21\\_N\\_1'\n",
       "\\item 'p21\\_N\\_2'\n",
       "\\end{enumerate*}\n"
      ],
      "text/markdown": [
       "1. 'p21_C_1'\n",
       "2. 'p21_C_2'\n",
       "3. 'p21_C_3'\n",
       "4. 'p21_N_1'\n",
       "5. 'p21_N_2'\n",
       "\n",
       "\n"
      ],
      "text/plain": [
       "[1] \"p21_C_1\" \"p21_C_2\" \"p21_C_3\" \"p21_N_1\" \"p21_N_2\""
      ]
     },
     "metadata": {},
     "output_type": "display_data"
    }
   ],
   "source": [
    "#!/usr/bin/env Rscript\n",
    "# 功能：从 featureCounts 输出计算 RPKM，并比较核内（N）和核外（C）基因表达差异\n",
    "source(\"/home/user/data2/lit/bin/lit_utils.R\")\n",
    "source(\"/home/user/data3/lit/project/sORFs/sORFs.utils.R\")\n",
    "lib_text()\n",
    "lib_plot()\n",
    "setwd(\"/home/user/data3/lit/project/sORFs/06-RNA-seq\")\n",
    "###### libsize为UNIQUELY MAPPED READS而不是featureCounts assigned reads ######\n",
    "fc_output_file <- \"/home/user/data3/lit/project/sORFs/06-RNA-seq/02-output-20250621/featureCounts/rna-seq-counts.txt\"\n",
    "fread_c(fc_output_file)  -> rna_counts\n",
    "libsize <- fread_c(\"./02-output-20250621/expr/sample_name.lib.txt\")\n",
    "colnames(libsize) <- c(\"Sample\",\"libsize\")\n",
    "libsize\n",
    "\n",
    "# 重命名列\n",
    "colnames(rna_counts[,7:ncol(rna_counts)]) %>% sub(\"/home/user/data3/lit/project/sORFs/06-RNA-seq/02-output-20250621/mapping/\",\"\",.) %>% \n",
    "  sub(\".R1_Aligned.sortedByCoord.out.bam\",\"\",.) -> colnames_organized\n",
    "head(colnames_organized)"
   ]
  },
  {
   "cell_type": "code",
   "execution_count": 2,
   "id": "e2d9de83-c2bd-4592-803e-d58af8505679",
   "metadata": {},
   "outputs": [
    {
     "data": {
      "text/html": [
       "TRUE"
      ],
      "text/latex": [
       "TRUE"
      ],
      "text/markdown": [
       "TRUE"
      ],
      "text/plain": [
       "[1] TRUE"
      ]
     },
     "metadata": {},
     "output_type": "display_data"
    },
    {
     "data": {
      "text/html": [
       "<table class=\"dataframe\">\n",
       "<caption>A data.frame: 6 × 5</caption>\n",
       "<thead>\n",
       "\t<tr><th></th><th scope=col>C_1</th><th scope=col>C_2</th><th scope=col>C_3</th><th scope=col>N_1</th><th scope=col>N_2</th></tr>\n",
       "\t<tr><th></th><th scope=col>&lt;dbl&gt;</th><th scope=col>&lt;dbl&gt;</th><th scope=col>&lt;dbl&gt;</th><th scope=col>&lt;dbl&gt;</th><th scope=col>&lt;dbl&gt;</th></tr>\n",
       "</thead>\n",
       "<tbody>\n",
       "\t<tr><th scope=row>1</th><td>0.0000000</td><td>0.00000000</td><td>0.00000000</td><td>0.000000</td><td>0.001769563</td></tr>\n",
       "\t<tr><th scope=row>2</th><td>1.3352680</td><td>1.80718435</td><td>1.78696736</td><td>3.692261</td><td>3.170183505</td></tr>\n",
       "\t<tr><th scope=row>3</th><td>0.7579609</td><td>0.00000000</td><td>0.00000000</td><td>6.269790</td><td>7.314281070</td></tr>\n",
       "\t<tr><th scope=row>4</th><td>0.0000000</td><td>0.09377604</td><td>0.02946464</td><td>0.000000</td><td>0.000000000</td></tr>\n",
       "\t<tr><th scope=row>5</th><td>0.0000000</td><td>0.00000000</td><td>0.00000000</td><td>0.000000</td><td>0.000000000</td></tr>\n",
       "\t<tr><th scope=row>6</th><td>0.0000000</td><td>0.00000000</td><td>0.00000000</td><td>0.000000</td><td>0.000000000</td></tr>\n",
       "</tbody>\n",
       "</table>\n"
      ],
      "text/latex": [
       "A data.frame: 6 × 5\n",
       "\\begin{tabular}{r|lllll}\n",
       "  & C\\_1 & C\\_2 & C\\_3 & N\\_1 & N\\_2\\\\\n",
       "  & <dbl> & <dbl> & <dbl> & <dbl> & <dbl>\\\\\n",
       "\\hline\n",
       "\t1 & 0.0000000 & 0.00000000 & 0.00000000 & 0.000000 & 0.001769563\\\\\n",
       "\t2 & 1.3352680 & 1.80718435 & 1.78696736 & 3.692261 & 3.170183505\\\\\n",
       "\t3 & 0.7579609 & 0.00000000 & 0.00000000 & 6.269790 & 7.314281070\\\\\n",
       "\t4 & 0.0000000 & 0.09377604 & 0.02946464 & 0.000000 & 0.000000000\\\\\n",
       "\t5 & 0.0000000 & 0.00000000 & 0.00000000 & 0.000000 & 0.000000000\\\\\n",
       "\t6 & 0.0000000 & 0.00000000 & 0.00000000 & 0.000000 & 0.000000000\\\\\n",
       "\\end{tabular}\n"
      ],
      "text/markdown": [
       "\n",
       "A data.frame: 6 × 5\n",
       "\n",
       "| <!--/--> | C_1 &lt;dbl&gt; | C_2 &lt;dbl&gt; | C_3 &lt;dbl&gt; | N_1 &lt;dbl&gt; | N_2 &lt;dbl&gt; |\n",
       "|---|---|---|---|---|---|\n",
       "| 1 | 0.0000000 | 0.00000000 | 0.00000000 | 0.000000 | 0.001769563 |\n",
       "| 2 | 1.3352680 | 1.80718435 | 1.78696736 | 3.692261 | 3.170183505 |\n",
       "| 3 | 0.7579609 | 0.00000000 | 0.00000000 | 6.269790 | 7.314281070 |\n",
       "| 4 | 0.0000000 | 0.09377604 | 0.02946464 | 0.000000 | 0.000000000 |\n",
       "| 5 | 0.0000000 | 0.00000000 | 0.00000000 | 0.000000 | 0.000000000 |\n",
       "| 6 | 0.0000000 | 0.00000000 | 0.00000000 | 0.000000 | 0.000000000 |\n",
       "\n"
      ],
      "text/plain": [
       "  C_1       C_2        C_3        N_1      N_2        \n",
       "1 0.0000000 0.00000000 0.00000000 0.000000 0.001769563\n",
       "2 1.3352680 1.80718435 1.78696736 3.692261 3.170183505\n",
       "3 0.7579609 0.00000000 0.00000000 6.269790 7.314281070\n",
       "4 0.0000000 0.09377604 0.02946464 0.000000 0.000000000\n",
       "5 0.0000000 0.00000000 0.00000000 0.000000 0.000000000\n",
       "6 0.0000000 0.00000000 0.00000000 0.000000 0.000000000"
      ]
     },
     "metadata": {},
     "output_type": "display_data"
    }
   ],
   "source": [
    "colnames_organized_1 <- c(\"C_1\",\"C_2\",\"C_3\",\"N_1\",\"N_2\")\n",
    "# 计算RPKM\n",
    "get_rpkm <- function(counts,libsize){\n",
    "  rkm <- counts[,7:ncol(counts)]/counts$Length*1000\n",
    "  rpkm <- data.frame(t(t(rkm) / libsize) * 10^6 )\n",
    "  return(rpkm)\n",
    "}\n",
    "fread_c(fc_output_file)  -> rna_counts\n",
    "# 确保libsize样本的顺序和counts中样本的顺序是一致的【已确认】\n",
    "all(libsize$Sample==colnames_organized)\n",
    "get_rpkm(rna_counts,libsize$libsize) -> rpkm\n",
    "colnames(rpkm) <- colnames_organized_1\n",
    "head(rpkm)"
   ]
  },
  {
   "cell_type": "code",
   "execution_count": 3,
   "id": "7de2290e-87a9-44fa-bfe4-8670d0f1212d",
   "metadata": {},
   "outputs": [
    {
     "data": {
      "text/html": [
       "<table class=\"dataframe\">\n",
       "<caption>A matrix: 5 × 5 of type dbl</caption>\n",
       "<thead>\n",
       "\t<tr><th></th><th scope=col>C_1</th><th scope=col>C_2</th><th scope=col>C_3</th><th scope=col>N_1</th><th scope=col>N_2</th></tr>\n",
       "</thead>\n",
       "<tbody>\n",
       "\t<tr><th scope=row>C_1</th><td>1.0000000</td><td>0.9999970</td><td>0.9999978</td><td>0.6417088</td><td>0.6353970</td></tr>\n",
       "\t<tr><th scope=row>C_2</th><td>0.9999970</td><td>1.0000000</td><td>0.9999998</td><td>0.6416423</td><td>0.6353301</td></tr>\n",
       "\t<tr><th scope=row>C_3</th><td>0.9999978</td><td>0.9999998</td><td>1.0000000</td><td>0.6416335</td><td>0.6353217</td></tr>\n",
       "\t<tr><th scope=row>N_1</th><td>0.6417088</td><td>0.6416423</td><td>0.6416335</td><td>1.0000000</td><td>0.9990553</td></tr>\n",
       "\t<tr><th scope=row>N_2</th><td>0.6353970</td><td>0.6353301</td><td>0.6353217</td><td>0.9990553</td><td>1.0000000</td></tr>\n",
       "</tbody>\n",
       "</table>\n"
      ],
      "text/latex": [
       "A matrix: 5 × 5 of type dbl\n",
       "\\begin{tabular}{r|lllll}\n",
       "  & C\\_1 & C\\_2 & C\\_3 & N\\_1 & N\\_2\\\\\n",
       "\\hline\n",
       "\tC\\_1 & 1.0000000 & 0.9999970 & 0.9999978 & 0.6417088 & 0.6353970\\\\\n",
       "\tC\\_2 & 0.9999970 & 1.0000000 & 0.9999998 & 0.6416423 & 0.6353301\\\\\n",
       "\tC\\_3 & 0.9999978 & 0.9999998 & 1.0000000 & 0.6416335 & 0.6353217\\\\\n",
       "\tN\\_1 & 0.6417088 & 0.6416423 & 0.6416335 & 1.0000000 & 0.9990553\\\\\n",
       "\tN\\_2 & 0.6353970 & 0.6353301 & 0.6353217 & 0.9990553 & 1.0000000\\\\\n",
       "\\end{tabular}\n"
      ],
      "text/markdown": [
       "\n",
       "A matrix: 5 × 5 of type dbl\n",
       "\n",
       "| <!--/--> | C_1 | C_2 | C_3 | N_1 | N_2 |\n",
       "|---|---|---|---|---|---|\n",
       "| C_1 | 1.0000000 | 0.9999970 | 0.9999978 | 0.6417088 | 0.6353970 |\n",
       "| C_2 | 0.9999970 | 1.0000000 | 0.9999998 | 0.6416423 | 0.6353301 |\n",
       "| C_3 | 0.9999978 | 0.9999998 | 1.0000000 | 0.6416335 | 0.6353217 |\n",
       "| N_1 | 0.6417088 | 0.6416423 | 0.6416335 | 1.0000000 | 0.9990553 |\n",
       "| N_2 | 0.6353970 | 0.6353301 | 0.6353217 | 0.9990553 | 1.0000000 |\n",
       "\n"
      ],
      "text/plain": [
       "    C_1       C_2       C_3       N_1       N_2      \n",
       "C_1 1.0000000 0.9999970 0.9999978 0.6417088 0.6353970\n",
       "C_2 0.9999970 1.0000000 0.9999998 0.6416423 0.6353301\n",
       "C_3 0.9999978 0.9999998 1.0000000 0.6416335 0.6353217\n",
       "N_1 0.6417088 0.6416423 0.6416335 1.0000000 0.9990553\n",
       "N_2 0.6353970 0.6353301 0.6353217 0.9990553 1.0000000"
      ]
     },
     "metadata": {},
     "output_type": "display_data"
    }
   ],
   "source": [
    "# 核内三个重复以及核外两个重复之间的相关性都很好\n",
    "cor(rpkm, method = \"pearson\")"
   ]
  },
  {
   "cell_type": "code",
   "execution_count": 4,
   "id": "a431625e-0694-44d9-9818-97204942569f",
   "metadata": {},
   "outputs": [
    {
     "data": {
      "text/html": [
       "<table class=\"dataframe\">\n",
       "<caption>A data.frame: 6 × 2</caption>\n",
       "<thead>\n",
       "\t<tr><th></th><th scope=col>C</th><th scope=col>N</th></tr>\n",
       "\t<tr><th></th><th scope=col>&lt;dbl&gt;</th><th scope=col>&lt;dbl&gt;</th></tr>\n",
       "</thead>\n",
       "<tbody>\n",
       "\t<tr><th scope=row>1</th><td>0.00000000</td><td>0.0008847816</td></tr>\n",
       "\t<tr><th scope=row>2</th><td>1.64313990</td><td>3.4312223210</td></tr>\n",
       "\t<tr><th scope=row>3</th><td>0.25265365</td><td>6.7920354545</td></tr>\n",
       "\t<tr><th scope=row>4</th><td>0.04108023</td><td>0.0000000000</td></tr>\n",
       "\t<tr><th scope=row>5</th><td>0.00000000</td><td>0.0000000000</td></tr>\n",
       "\t<tr><th scope=row>6</th><td>0.00000000</td><td>0.0000000000</td></tr>\n",
       "</tbody>\n",
       "</table>\n"
      ],
      "text/latex": [
       "A data.frame: 6 × 2\n",
       "\\begin{tabular}{r|ll}\n",
       "  & C & N\\\\\n",
       "  & <dbl> & <dbl>\\\\\n",
       "\\hline\n",
       "\t1 & 0.00000000 & 0.0008847816\\\\\n",
       "\t2 & 1.64313990 & 3.4312223210\\\\\n",
       "\t3 & 0.25265365 & 6.7920354545\\\\\n",
       "\t4 & 0.04108023 & 0.0000000000\\\\\n",
       "\t5 & 0.00000000 & 0.0000000000\\\\\n",
       "\t6 & 0.00000000 & 0.0000000000\\\\\n",
       "\\end{tabular}\n"
      ],
      "text/markdown": [
       "\n",
       "A data.frame: 6 × 2\n",
       "\n",
       "| <!--/--> | C &lt;dbl&gt; | N &lt;dbl&gt; |\n",
       "|---|---|---|\n",
       "| 1 | 0.00000000 | 0.0008847816 |\n",
       "| 2 | 1.64313990 | 3.4312223210 |\n",
       "| 3 | 0.25265365 | 6.7920354545 |\n",
       "| 4 | 0.04108023 | 0.0000000000 |\n",
       "| 5 | 0.00000000 | 0.0000000000 |\n",
       "| 6 | 0.00000000 | 0.0000000000 |\n",
       "\n"
      ],
      "text/plain": [
       "  C          N           \n",
       "1 0.00000000 0.0008847816\n",
       "2 1.64313990 3.4312223210\n",
       "3 0.25265365 6.7920354545\n",
       "4 0.04108023 0.0000000000\n",
       "5 0.00000000 0.0000000000\n",
       "6 0.00000000 0.0000000000"
      ]
     },
     "metadata": {},
     "output_type": "display_data"
    }
   ],
   "source": [
    "## 合并\n",
    "mutate(rpkm,C=(C_1+C_2+C_3)/3,N=(N_1+N_2)/2) %>% dplyr::select(C,N) -> rpkm_N_C\n",
    "head(rpkm_N_C)"
   ]
  },
  {
   "cell_type": "code",
   "execution_count": 7,
   "id": "22e00061-c0d7-4e76-b313-a0ce704e986f",
   "metadata": {},
   "outputs": [
    {
     "name": "stderr",
     "output_type": "stream",
     "text": [
      "Warning message in brewer.pal(n = n_distinct(data[, x]), name = \"Set3\"):\n",
      "“minimal value for n is 3, returning requested palette with 3 different levels\n",
      "”\n"
     ]
    },
    {
     "data": {
      "image/png": "[encoded data removed]",
      "text/plain": [
       "plot without title"
      ]
     },
     "metadata": {
      "image/png": {
       "height": 420,
       "width": 420
      }
     },
     "output_type": "display_data"
    }
   ],
   "source": [
    "# 比较lncRNA和protein-coding基因的NC ratio\n",
    "rpkm_N_C$Geneid <- rna_counts$Geneid\n",
    "## 过滤低表达基因\n",
    "filter(rpkm_N_C,N+C>=0.2) -> rpkm_N_C_expressed\n",
    "## 导入转录本基因信息\n",
    "fread(\"/home/user/data2/lit/project/ZNF271/data/annotation/Ensembl_106_Gencode_v41_Human_Transcript_stable_ID_version_Gene_stable_ID_version_Gene_name_Transcript_type_gene_type.txt\",header = F,data.table = F) -> info\n",
    "# head(info)\n",
    "distinct(info,V1,V4) %>% merge(rpkm_N_C_expressed,by.x=\"V1\",by.y=\"Geneid\") -> rpkm_N_C_expressed_add_gt\n",
    "# table(rpkm_N_C_expressed_add_gt$V4) %>% sort()\n",
    "## 比较lncRNA和protein-coding基因\n",
    "filter(rpkm_N_C_expressed_add_gt,V4 %in% c(\"lncRNA\",\"protein_coding\")) -> rpkm_N_C_expressed_lnc_pc\n",
    "## 计算log2((N+0.1)/(C+0.1))\n",
    "rpkm_N_C_expressed_lnc_pc %>% mutate(NC_ratio=log2((N+0.1)/(C+0.1))) -> rpkm_N_C_expressed_lnc_pc\n",
    "# table(rpkm_N_C_expressed_lnc_pc$V4)\n",
    "## 调整violin plot的参数bw\n",
    "box_violin_plot_v1 <- function(data,x,y,fill_col,log10=T,bw=0.1){\n",
    "  # log10 是否启用对数坐标轴，注意如果数据中有零值，那么会作图的时候会自动去掉这些值\n",
    "  ggplot(data,aes_string(x=x,y=y,fill=fill_col))+\n",
    "    geom_violin(trim = F,bw=bw)+\n",
    "    geom_boxplot(outlier.shape = NA,fill=\"white\",width=0.2)+\n",
    "    scale_fill_manual(values = brewer.pal(n=n_distinct(data[,x]),name=\"Set3\"))+\n",
    "    theme_3() -> p\n",
    "  if(log10){\n",
    "    p+scale_y_log10(labels = label_number())->p\n",
    "  }\n",
    "  return(p)\n",
    "}\n",
    "box_violin_plot_v1(rpkm_N_C_expressed_lnc_pc,x = \"V4\",y = \"NC_ratio\",fill_col =\"V4\",log10 = F,bw=0.5) ->p\n",
    "p+labs(y=\"Normalized N/C ratio\",fill=\"Type\",x=NULL) -> p\n",
    "compare(p,list(c(\"lncRNA\",\"protein_coding\"))) -> p_1\n",
    "p_1\n",
    "create_path(\"./02-output-20250621//expr/plot/\")\n",
    "ggsave(p_1,filename = \"./02-output-20250621//expr/plot/lnc_pc_ncRatio.pdf\",width = 5,height = 5)\n",
    "\n",
    "# 导出基因的表达信息\n",
    "rpkm_N_C %>% mutate(A=(N+C)/2) -> rpkm_N_C_A\n",
    "fwrite_c(rpkm_N_C_A, \"./02-output-20250621//expr/rpkm_N_C_A.txt\")"
   ]
  },
  {
   "cell_type": "code",
   "execution_count": 9,
   "id": "376a1009-ca02-46ff-9c06-86b1e8081df4",
   "metadata": {},
   "outputs": [
    {
     "data": {
      "text/html": [
       "<table class=\"dataframe\">\n",
       "<caption>A data.frame: 6 × 5</caption>\n",
       "<thead>\n",
       "\t<tr><th></th><th scope=col>V1</th><th scope=col>V4</th><th scope=col>C</th><th scope=col>N</th><th scope=col>NC_ratio</th></tr>\n",
       "\t<tr><th></th><th scope=col>&lt;chr&gt;</th><th scope=col>&lt;chr&gt;</th><th scope=col>&lt;dbl&gt;</th><th scope=col>&lt;dbl&gt;</th><th scope=col>&lt;dbl&gt;</th></tr>\n",
       "</thead>\n",
       "<tbody>\n",
       "\t<tr><th scope=row>1</th><td>ENSG00000000003.15</td><td>protein_coding</td><td>3.586404</td><td>0.8886663</td><td>-1.8986584</td></tr>\n",
       "\t<tr><th scope=row>2</th><td>ENSG00000000419.14</td><td>protein_coding</td><td>3.283943</td><td>2.0895438</td><td>-0.6280749</td></tr>\n",
       "\t<tr><th scope=row>3</th><td>ENSG00000000457.14</td><td>protein_coding</td><td>2.384095</td><td>2.2147715</td><td>-0.1018505</td></tr>\n",
       "\t<tr><th scope=row>4</th><td>ENSG00000000460.17</td><td>protein_coding</td><td>1.263789</td><td>2.3827337</td><td> 0.8643087</td></tr>\n",
       "\t<tr><th scope=row>5</th><td>ENSG00000001036.14</td><td>protein_coding</td><td>3.453022</td><td>1.2316430</td><td>-1.4158394</td></tr>\n",
       "\t<tr><th scope=row>6</th><td>ENSG00000001084.13</td><td>protein_coding</td><td>1.873961</td><td>1.2865200</td><td>-0.5096250</td></tr>\n",
       "</tbody>\n",
       "</table>\n"
      ],
      "text/latex": [
       "A data.frame: 6 × 5\n",
       "\\begin{tabular}{r|lllll}\n",
       "  & V1 & V4 & C & N & NC\\_ratio\\\\\n",
       "  & <chr> & <chr> & <dbl> & <dbl> & <dbl>\\\\\n",
       "\\hline\n",
       "\t1 & ENSG00000000003.15 & protein\\_coding & 3.586404 & 0.8886663 & -1.8986584\\\\\n",
       "\t2 & ENSG00000000419.14 & protein\\_coding & 3.283943 & 2.0895438 & -0.6280749\\\\\n",
       "\t3 & ENSG00000000457.14 & protein\\_coding & 2.384095 & 2.2147715 & -0.1018505\\\\\n",
       "\t4 & ENSG00000000460.17 & protein\\_coding & 1.263789 & 2.3827337 &  0.8643087\\\\\n",
       "\t5 & ENSG00000001036.14 & protein\\_coding & 3.453022 & 1.2316430 & -1.4158394\\\\\n",
       "\t6 & ENSG00000001084.13 & protein\\_coding & 1.873961 & 1.2865200 & -0.5096250\\\\\n",
       "\\end{tabular}\n"
      ],
      "text/markdown": [
       "\n",
       "A data.frame: 6 × 5\n",
       "\n",
       "| <!--/--> | V1 &lt;chr&gt; | V4 &lt;chr&gt; | C &lt;dbl&gt; | N &lt;dbl&gt; | NC_ratio &lt;dbl&gt; |\n",
       "|---|---|---|---|---|---|\n",
       "| 1 | ENSG00000000003.15 | protein_coding | 3.586404 | 0.8886663 | -1.8986584 |\n",
       "| 2 | ENSG00000000419.14 | protein_coding | 3.283943 | 2.0895438 | -0.6280749 |\n",
       "| 3 | ENSG00000000457.14 | protein_coding | 2.384095 | 2.2147715 | -0.1018505 |\n",
       "| 4 | ENSG00000000460.17 | protein_coding | 1.263789 | 2.3827337 |  0.8643087 |\n",
       "| 5 | ENSG00000001036.14 | protein_coding | 3.453022 | 1.2316430 | -1.4158394 |\n",
       "| 6 | ENSG00000001084.13 | protein_coding | 1.873961 | 1.2865200 | -0.5096250 |\n",
       "\n"
      ],
      "text/plain": [
       "  V1                 V4             C        N         NC_ratio  \n",
       "1 ENSG00000000003.15 protein_coding 3.586404 0.8886663 -1.8986584\n",
       "2 ENSG00000000419.14 protein_coding 3.283943 2.0895438 -0.6280749\n",
       "3 ENSG00000000457.14 protein_coding 2.384095 2.2147715 -0.1018505\n",
       "4 ENSG00000000460.17 protein_coding 1.263789 2.3827337  0.8643087\n",
       "5 ENSG00000001036.14 protein_coding 3.453022 1.2316430 -1.4158394\n",
       "6 ENSG00000001084.13 protein_coding 1.873961 1.2865200 -0.5096250"
      ]
     },
     "metadata": {},
     "output_type": "display_data"
    },
    {
     "data": {
      "text/plain": [
       "\n",
       "        lncRNA protein_coding \n",
       "          6412          14814 "
      ]
     },
     "metadata": {},
     "output_type": "display_data"
    }
   ],
   "source": [
    "head(rpkm_N_C_expressed_lnc_pc)\n",
    "table(rpkm_N_C_expressed_lnc_pc$V4)"
   ]
  },
  {
   "cell_type": "code",
   "execution_count": 14,
   "id": "f71c7b5d-e596-4cf4-9b72-1fd11a8fb7bb",
   "metadata": {},
   "outputs": [
    {
     "data": {
      "text/html": [
       "<table class=\"dataframe\">\n",
       "<caption>A data.frame: 6 × 4</caption>\n",
       "<thead>\n",
       "\t<tr><th></th><th scope=col>C</th><th scope=col>N</th><th scope=col>Geneid</th><th scope=col>A</th></tr>\n",
       "\t<tr><th></th><th scope=col>&lt;dbl&gt;</th><th scope=col>&lt;dbl&gt;</th><th scope=col>&lt;chr&gt;</th><th scope=col>&lt;dbl&gt;</th></tr>\n",
       "</thead>\n",
       "<tbody>\n",
       "\t<tr><th scope=row>1</th><td>0.00000000</td><td>0.0008847816</td><td>ENSG00000223972.5</td><td>0.0004423908</td></tr>\n",
       "\t<tr><th scope=row>2</th><td>1.64313990</td><td>3.4312223210</td><td>ENSG00000227232.5</td><td>2.5371811086</td></tr>\n",
       "\t<tr><th scope=row>3</th><td>0.25265365</td><td>6.7920354545</td><td>ENSG00000278267.1</td><td>3.5223445505</td></tr>\n",
       "\t<tr><th scope=row>4</th><td>0.04108023</td><td>0.0000000000</td><td>ENSG00000243485.5</td><td>0.0205401137</td></tr>\n",
       "\t<tr><th scope=row>5</th><td>0.00000000</td><td>0.0000000000</td><td>ENSG00000284332.1</td><td>0.0000000000</td></tr>\n",
       "\t<tr><th scope=row>6</th><td>0.00000000</td><td>0.0000000000</td><td>ENSG00000237613.2</td><td>0.0000000000</td></tr>\n",
       "</tbody>\n",
       "</table>\n"
      ],
      "text/latex": [
       "A data.frame: 6 × 4\n",
       "\\begin{tabular}{r|llll}\n",
       "  & C & N & Geneid & A\\\\\n",
       "  & <dbl> & <dbl> & <chr> & <dbl>\\\\\n",
       "\\hline\n",
       "\t1 & 0.00000000 & 0.0008847816 & ENSG00000223972.5 & 0.0004423908\\\\\n",
       "\t2 & 1.64313990 & 3.4312223210 & ENSG00000227232.5 & 2.5371811086\\\\\n",
       "\t3 & 0.25265365 & 6.7920354545 & ENSG00000278267.1 & 3.5223445505\\\\\n",
       "\t4 & 0.04108023 & 0.0000000000 & ENSG00000243485.5 & 0.0205401137\\\\\n",
       "\t5 & 0.00000000 & 0.0000000000 & ENSG00000284332.1 & 0.0000000000\\\\\n",
       "\t6 & 0.00000000 & 0.0000000000 & ENSG00000237613.2 & 0.0000000000\\\\\n",
       "\\end{tabular}\n"
      ],
      "text/markdown": [
       "\n",
       "A data.frame: 6 × 4\n",
       "\n",
       "| <!--/--> | C &lt;dbl&gt; | N &lt;dbl&gt; | Geneid &lt;chr&gt; | A &lt;dbl&gt; |\n",
       "|---|---|---|---|---|\n",
       "| 1 | 0.00000000 | 0.0008847816 | ENSG00000223972.5 | 0.0004423908 |\n",
       "| 2 | 1.64313990 | 3.4312223210 | ENSG00000227232.5 | 2.5371811086 |\n",
       "| 3 | 0.25265365 | 6.7920354545 | ENSG00000278267.1 | 3.5223445505 |\n",
       "| 4 | 0.04108023 | 0.0000000000 | ENSG00000243485.5 | 0.0205401137 |\n",
       "| 5 | 0.00000000 | 0.0000000000 | ENSG00000284332.1 | 0.0000000000 |\n",
       "| 6 | 0.00000000 | 0.0000000000 | ENSG00000237613.2 | 0.0000000000 |\n",
       "\n"
      ],
      "text/plain": [
       "  C          N            Geneid            A           \n",
       "1 0.00000000 0.0008847816 ENSG00000223972.5 0.0004423908\n",
       "2 1.64313990 3.4312223210 ENSG00000227232.5 2.5371811086\n",
       "3 0.25265365 6.7920354545 ENSG00000278267.1 3.5223445505\n",
       "4 0.04108023 0.0000000000 ENSG00000243485.5 0.0205401137\n",
       "5 0.00000000 0.0000000000 ENSG00000284332.1 0.0000000000\n",
       "6 0.00000000 0.0000000000 ENSG00000237613.2 0.0000000000"
      ]
     },
     "metadata": {},
     "output_type": "display_data"
    },
    {
     "data": {
      "text/html": [
       "61852"
      ],
      "text/latex": [
       "61852"
      ],
      "text/markdown": [
       "61852"
      ],
      "text/plain": [
       "[1] 61852"
      ]
     },
     "metadata": {},
     "output_type": "display_data"
    },
    {
     "data": {
      "text/html": [
       "39668"
      ],
      "text/latex": [
       "39668"
      ],
      "text/markdown": [
       "39668"
      ],
      "text/plain": [
       "[1] 39668"
      ]
     },
     "metadata": {},
     "output_type": "display_data"
    },
    {
     "data": {
      "text/html": [
       "0.641337386018237"
      ],
      "text/latex": [
       "0.641337386018237"
      ],
      "text/markdown": [
       "0.641337386018237"
      ],
      "text/plain": [
       "[1] 0.6413374"
      ]
     },
     "metadata": {},
     "output_type": "display_data"
    }
   ],
   "source": [
    "head(rpkm_N_C_A)\n",
    "nrow(rpkm_N_C_A)\n",
    "filter(rpkm_N_C_A,A>0) -> human_21pcw_brain_expressed_gene_expr\n",
    "nrow(human_21pcw_brain_expressed_gene_expr)\n",
    "nrow(human_21pcw_brain_expressed_gene_expr)/nrow(rpkm_N_C_A)"
   ]
  }
 ],
 "metadata": {
  "kernelspec": {
   "display_name": "R_default_4.2",
   "language": "R",
   "name": "r_default_4.2"
  },
  "language_info": {
   "codemirror_mode": "r",
   "file_extension": ".r",
   "mimetype": "text/x-r-source",
   "name": "R",
   "pygments_lexer": "r",
   "version": "4.2.1"
  }
 },
 "nbformat": 4,
 "nbformat_minor": 5
}
