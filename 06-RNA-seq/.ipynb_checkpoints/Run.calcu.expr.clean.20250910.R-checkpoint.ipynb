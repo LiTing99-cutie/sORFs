{
 "cells": [
  {
   "cell_type": "code",
   "execution_count": 1,
   "id": "d8f30017",
   "metadata": {
    "ExecuteTime": {
     "end_time": "2025-09-10T15:14:20.233343Z",
     "start_time": "2025-09-10T15:14:19.094Z"
    }
   },
   "outputs": [],
   "source": [
    "setwd(\"/home/user/data3/lit/project/sORFs/06-RNA-seq\")\n",
    "fc_output_file <- \"/home/user/data3/lit/project/sORFs/06-RNA-seq/02-output-isoseq-gtf-20250909/featureCounts/rna-seq-counts.txt\"\n",
    "libsize_file <- \"./02-output-20250621/expr/sample_name.lib.txt\"\n",
    "out_file=\"./02-output-isoseq-gtf-20250909/expr/rpkm_N_C_A.txt\""
   ]
  },
  {
   "cell_type": "code",
   "execution_count": 2,
   "id": "c8ddea01",
   "metadata": {
    "ExecuteTime": {
     "end_time": "2025-09-10T15:14:24.252966Z",
     "start_time": "2025-09-10T15:14:20.232Z"
    }
   },
   "outputs": [
    {
     "data": {
      "text/html": [
       "<table class=\"dataframe\">\n",
       "<caption>A data.frame: 5 × 2</caption>\n",
       "<thead>\n",
       "\t<tr><th scope=col>Sample</th><th scope=col>libsize</th></tr>\n",
       "\t<tr><th scope=col>&lt;chr&gt;</th><th scope=col>&lt;int&gt;</th></tr>\n",
       "</thead>\n",
       "<tbody>\n",
       "\t<tr><td>p21_C_1</td><td> 38803745</td></tr>\n",
       "\t<tr><td>p21_C_2</td><td> 41777492</td></tr>\n",
       "\t<tr><td>p21_C_3</td><td>531854766</td></tr>\n",
       "\t<tr><td>p21_N_1</td><td> 46910288</td></tr>\n",
       "\t<tr><td>p21_N_2</td><td>651425046</td></tr>\n",
       "</tbody>\n",
       "</table>\n"
      ],
      "text/latex": [
       "A data.frame: 5 × 2\n",
       "\\begin{tabular}{ll}\n",
       " Sample & libsize\\\\\n",
       " <chr> & <int>\\\\\n",
       "\\hline\n",
       "\t p21\\_C\\_1 &  38803745\\\\\n",
       "\t p21\\_C\\_2 &  41777492\\\\\n",
       "\t p21\\_C\\_3 & 531854766\\\\\n",
       "\t p21\\_N\\_1 &  46910288\\\\\n",
       "\t p21\\_N\\_2 & 651425046\\\\\n",
       "\\end{tabular}\n"
      ],
      "text/markdown": [
       "\n",
       "A data.frame: 5 × 2\n",
       "\n",
       "| Sample &lt;chr&gt; | libsize &lt;int&gt; |\n",
       "|---|---|\n",
       "| p21_C_1 |  38803745 |\n",
       "| p21_C_2 |  41777492 |\n",
       "| p21_C_3 | 531854766 |\n",
       "| p21_N_1 |  46910288 |\n",
       "| p21_N_2 | 651425046 |\n",
       "\n"
      ],
      "text/plain": [
       "  Sample  libsize  \n",
       "1 p21_C_1  38803745\n",
       "2 p21_C_2  41777492\n",
       "3 p21_C_3 531854766\n",
       "4 p21_N_1  46910288\n",
       "5 p21_N_2 651425046"
      ]
     },
     "metadata": {},
     "output_type": "display_data"
    },
    {
     "data": {
      "text/html": [
       "<style>\n",
       ".list-inline {list-style: none; margin:0; padding: 0}\n",
       ".list-inline>li {display: inline-block}\n",
       ".list-inline>li:not(:last-child)::after {content: \"\\00b7\"; padding: 0 .5ex}\n",
       "</style>\n",
       "<ol class=list-inline><li>'p21_C_1'</li><li>'p21_C_2'</li><li>'p21_C_3'</li><li>'p21_N_1'</li><li>'p21_N_2'</li></ol>\n"
      ],
      "text/latex": [
       "\\begin{enumerate*}\n",
       "\\item 'p21\\_C\\_1'\n",
       "\\item 'p21\\_C\\_2'\n",
       "\\item 'p21\\_C\\_3'\n",
       "\\item 'p21\\_N\\_1'\n",
       "\\item 'p21\\_N\\_2'\n",
       "\\end{enumerate*}\n"
      ],
      "text/markdown": [
       "1. 'p21_C_1'\n",
       "2. 'p21_C_2'\n",
       "3. 'p21_C_3'\n",
       "4. 'p21_N_1'\n",
       "5. 'p21_N_2'\n",
       "\n",
       "\n"
      ],
      "text/plain": [
       "[1] \"p21_C_1\" \"p21_C_2\" \"p21_C_3\" \"p21_N_1\" \"p21_N_2\""
      ]
     },
     "metadata": {},
     "output_type": "display_data"
    },
    {
     "data": {
      "text/html": [
       "TRUE"
      ],
      "text/latex": [
       "TRUE"
      ],
      "text/markdown": [
       "TRUE"
      ],
      "text/plain": [
       "[1] TRUE"
      ]
     },
     "metadata": {},
     "output_type": "display_data"
    },
    {
     "data": {
      "text/html": [
       "<table class=\"dataframe\">\n",
       "<caption>A data.frame: 6 × 5</caption>\n",
       "<thead>\n",
       "\t<tr><th></th><th scope=col>C_1</th><th scope=col>C_2</th><th scope=col>C_3</th><th scope=col>N_1</th><th scope=col>N_2</th></tr>\n",
       "\t<tr><th></th><th scope=col>&lt;dbl&gt;</th><th scope=col>&lt;dbl&gt;</th><th scope=col>&lt;dbl&gt;</th><th scope=col>&lt;dbl&gt;</th><th scope=col>&lt;dbl&gt;</th></tr>\n",
       "</thead>\n",
       "<tbody>\n",
       "\t<tr><th scope=row>1</th><td>2.260849e+05</td><td>2.204489e+05</td><td>2.224296e+05</td><td>1.054366e+04</td><td>1.057394e+04</td></tr>\n",
       "\t<tr><th scope=row>2</th><td>9.120907e-01</td><td>1.047407e+00</td><td>9.413162e-01</td><td>3.703775e-01</td><td>4.306962e-01</td></tr>\n",
       "\t<tr><th scope=row>3</th><td>8.066760e+00</td><td>7.920432e+00</td><td>8.018115e+00</td><td>9.093297e-01</td><td>8.936797e-01</td></tr>\n",
       "\t<tr><th scope=row>4</th><td>1.254049e-02</td><td>0.000000e+00</td><td>3.293803e-02</td><td>1.037337e-02</td><td>8.217059e-03</td></tr>\n",
       "\t<tr><th scope=row>5</th><td>1.913029e+00</td><td>1.543361e+00</td><td>1.629696e+00</td><td>1.673734e+00</td><td>1.545688e+00</td></tr>\n",
       "\t<tr><th scope=row>6</th><td>2.302608e+00</td><td>2.315341e+00</td><td>2.249955e+00</td><td>1.985475e+00</td><td>2.166708e+00</td></tr>\n",
       "</tbody>\n",
       "</table>\n"
      ],
      "text/latex": [
       "A data.frame: 6 × 5\n",
       "\\begin{tabular}{r|lllll}\n",
       "  & C\\_1 & C\\_2 & C\\_3 & N\\_1 & N\\_2\\\\\n",
       "  & <dbl> & <dbl> & <dbl> & <dbl> & <dbl>\\\\\n",
       "\\hline\n",
       "\t1 & 2.260849e+05 & 2.204489e+05 & 2.224296e+05 & 1.054366e+04 & 1.057394e+04\\\\\n",
       "\t2 & 9.120907e-01 & 1.047407e+00 & 9.413162e-01 & 3.703775e-01 & 4.306962e-01\\\\\n",
       "\t3 & 8.066760e+00 & 7.920432e+00 & 8.018115e+00 & 9.093297e-01 & 8.936797e-01\\\\\n",
       "\t4 & 1.254049e-02 & 0.000000e+00 & 3.293803e-02 & 1.037337e-02 & 8.217059e-03\\\\\n",
       "\t5 & 1.913029e+00 & 1.543361e+00 & 1.629696e+00 & 1.673734e+00 & 1.545688e+00\\\\\n",
       "\t6 & 2.302608e+00 & 2.315341e+00 & 2.249955e+00 & 1.985475e+00 & 2.166708e+00\\\\\n",
       "\\end{tabular}\n"
      ],
      "text/markdown": [
       "\n",
       "A data.frame: 6 × 5\n",
       "\n",
       "| <!--/--> | C_1 &lt;dbl&gt; | C_2 &lt;dbl&gt; | C_3 &lt;dbl&gt; | N_1 &lt;dbl&gt; | N_2 &lt;dbl&gt; |\n",
       "|---|---|---|---|---|---|\n",
       "| 1 | 2.260849e+05 | 2.204489e+05 | 2.224296e+05 | 1.054366e+04 | 1.057394e+04 |\n",
       "| 2 | 9.120907e-01 | 1.047407e+00 | 9.413162e-01 | 3.703775e-01 | 4.306962e-01 |\n",
       "| 3 | 8.066760e+00 | 7.920432e+00 | 8.018115e+00 | 9.093297e-01 | 8.936797e-01 |\n",
       "| 4 | 1.254049e-02 | 0.000000e+00 | 3.293803e-02 | 1.037337e-02 | 8.217059e-03 |\n",
       "| 5 | 1.913029e+00 | 1.543361e+00 | 1.629696e+00 | 1.673734e+00 | 1.545688e+00 |\n",
       "| 6 | 2.302608e+00 | 2.315341e+00 | 2.249955e+00 | 1.985475e+00 | 2.166708e+00 |\n",
       "\n"
      ],
      "text/plain": [
       "  C_1          C_2          C_3          N_1          N_2         \n",
       "1 2.260849e+05 2.204489e+05 2.224296e+05 1.054366e+04 1.057394e+04\n",
       "2 9.120907e-01 1.047407e+00 9.413162e-01 3.703775e-01 4.306962e-01\n",
       "3 8.066760e+00 7.920432e+00 8.018115e+00 9.093297e-01 8.936797e-01\n",
       "4 1.254049e-02 0.000000e+00 3.293803e-02 1.037337e-02 8.217059e-03\n",
       "5 1.913029e+00 1.543361e+00 1.629696e+00 1.673734e+00 1.545688e+00\n",
       "6 2.302608e+00 2.315341e+00 2.249955e+00 1.985475e+00 2.166708e+00"
      ]
     },
     "metadata": {},
     "output_type": "display_data"
    },
    {
     "data": {
      "text/html": [
       "<table class=\"dataframe\">\n",
       "<caption>A matrix: 5 × 5 of type dbl</caption>\n",
       "<thead>\n",
       "\t<tr><th></th><th scope=col>C_1</th><th scope=col>C_2</th><th scope=col>C_3</th><th scope=col>N_1</th><th scope=col>N_2</th></tr>\n",
       "</thead>\n",
       "<tbody>\n",
       "\t<tr><th scope=row>C_1</th><td>1.0000000</td><td>0.9995667</td><td>0.9995254</td><td>0.2983720</td><td>0.2964422</td></tr>\n",
       "\t<tr><th scope=row>C_2</th><td>0.9995667</td><td>1.0000000</td><td>0.9999976</td><td>0.2909594</td><td>0.2890248</td></tr>\n",
       "\t<tr><th scope=row>C_3</th><td>0.9995254</td><td>0.9999976</td><td>1.0000000</td><td>0.2922369</td><td>0.2903030</td></tr>\n",
       "\t<tr><th scope=row>N_1</th><td>0.2983720</td><td>0.2909594</td><td>0.2922369</td><td>1.0000000</td><td>0.9999971</td></tr>\n",
       "\t<tr><th scope=row>N_2</th><td>0.2964422</td><td>0.2890248</td><td>0.2903030</td><td>0.9999971</td><td>1.0000000</td></tr>\n",
       "</tbody>\n",
       "</table>\n"
      ],
      "text/latex": [
       "A matrix: 5 × 5 of type dbl\n",
       "\\begin{tabular}{r|lllll}\n",
       "  & C\\_1 & C\\_2 & C\\_3 & N\\_1 & N\\_2\\\\\n",
       "\\hline\n",
       "\tC\\_1 & 1.0000000 & 0.9995667 & 0.9995254 & 0.2983720 & 0.2964422\\\\\n",
       "\tC\\_2 & 0.9995667 & 1.0000000 & 0.9999976 & 0.2909594 & 0.2890248\\\\\n",
       "\tC\\_3 & 0.9995254 & 0.9999976 & 1.0000000 & 0.2922369 & 0.2903030\\\\\n",
       "\tN\\_1 & 0.2983720 & 0.2909594 & 0.2922369 & 1.0000000 & 0.9999971\\\\\n",
       "\tN\\_2 & 0.2964422 & 0.2890248 & 0.2903030 & 0.9999971 & 1.0000000\\\\\n",
       "\\end{tabular}\n"
      ],
      "text/markdown": [
       "\n",
       "A matrix: 5 × 5 of type dbl\n",
       "\n",
       "| <!--/--> | C_1 | C_2 | C_3 | N_1 | N_2 |\n",
       "|---|---|---|---|---|---|\n",
       "| C_1 | 1.0000000 | 0.9995667 | 0.9995254 | 0.2983720 | 0.2964422 |\n",
       "| C_2 | 0.9995667 | 1.0000000 | 0.9999976 | 0.2909594 | 0.2890248 |\n",
       "| C_3 | 0.9995254 | 0.9999976 | 1.0000000 | 0.2922369 | 0.2903030 |\n",
       "| N_1 | 0.2983720 | 0.2909594 | 0.2922369 | 1.0000000 | 0.9999971 |\n",
       "| N_2 | 0.2964422 | 0.2890248 | 0.2903030 | 0.9999971 | 1.0000000 |\n",
       "\n"
      ],
      "text/plain": [
       "    C_1       C_2       C_3       N_1       N_2      \n",
       "C_1 1.0000000 0.9995667 0.9995254 0.2983720 0.2964422\n",
       "C_2 0.9995667 1.0000000 0.9999976 0.2909594 0.2890248\n",
       "C_3 0.9995254 0.9999976 1.0000000 0.2922369 0.2903030\n",
       "N_1 0.2983720 0.2909594 0.2922369 1.0000000 0.9999971\n",
       "N_2 0.2964422 0.2890248 0.2903030 0.9999971 1.0000000"
      ]
     },
     "metadata": {},
     "output_type": "display_data"
    },
    {
     "data": {
      "text/html": [
       "<table class=\"dataframe\">\n",
       "<caption>A data.frame: 6 × 2</caption>\n",
       "<thead>\n",
       "\t<tr><th></th><th scope=col>C</th><th scope=col>N</th></tr>\n",
       "\t<tr><th></th><th scope=col>&lt;dbl&gt;</th><th scope=col>&lt;dbl&gt;</th></tr>\n",
       "</thead>\n",
       "<tbody>\n",
       "\t<tr><th scope=row>1</th><td>2.229878e+05</td><td>1.055880e+04</td></tr>\n",
       "\t<tr><th scope=row>2</th><td>9.669380e-01</td><td>4.005369e-01</td></tr>\n",
       "\t<tr><th scope=row>3</th><td>8.001769e+00</td><td>9.015047e-01</td></tr>\n",
       "\t<tr><th scope=row>4</th><td>1.515951e-02</td><td>9.295217e-03</td></tr>\n",
       "\t<tr><th scope=row>5</th><td>1.695362e+00</td><td>1.609711e+00</td></tr>\n",
       "\t<tr><th scope=row>6</th><td>2.289302e+00</td><td>2.076092e+00</td></tr>\n",
       "</tbody>\n",
       "</table>\n"
      ],
      "text/latex": [
       "A data.frame: 6 × 2\n",
       "\\begin{tabular}{r|ll}\n",
       "  & C & N\\\\\n",
       "  & <dbl> & <dbl>\\\\\n",
       "\\hline\n",
       "\t1 & 2.229878e+05 & 1.055880e+04\\\\\n",
       "\t2 & 9.669380e-01 & 4.005369e-01\\\\\n",
       "\t3 & 8.001769e+00 & 9.015047e-01\\\\\n",
       "\t4 & 1.515951e-02 & 9.295217e-03\\\\\n",
       "\t5 & 1.695362e+00 & 1.609711e+00\\\\\n",
       "\t6 & 2.289302e+00 & 2.076092e+00\\\\\n",
       "\\end{tabular}\n"
      ],
      "text/markdown": [
       "\n",
       "A data.frame: 6 × 2\n",
       "\n",
       "| <!--/--> | C &lt;dbl&gt; | N &lt;dbl&gt; |\n",
       "|---|---|---|\n",
       "| 1 | 2.229878e+05 | 1.055880e+04 |\n",
       "| 2 | 9.669380e-01 | 4.005369e-01 |\n",
       "| 3 | 8.001769e+00 | 9.015047e-01 |\n",
       "| 4 | 1.515951e-02 | 9.295217e-03 |\n",
       "| 5 | 1.695362e+00 | 1.609711e+00 |\n",
       "| 6 | 2.289302e+00 | 2.076092e+00 |\n",
       "\n"
      ],
      "text/plain": [
       "  C            N           \n",
       "1 2.229878e+05 1.055880e+04\n",
       "2 9.669380e-01 4.005369e-01\n",
       "3 8.001769e+00 9.015047e-01\n",
       "4 1.515951e-02 9.295217e-03\n",
       "5 1.695362e+00 1.609711e+00\n",
       "6 2.289302e+00 2.076092e+00"
      ]
     },
     "metadata": {},
     "output_type": "display_data"
    },
    {
     "data": {
      "text/html": [
       "<table class=\"dataframe\">\n",
       "<caption>A data.frame: 6 × 3</caption>\n",
       "<thead>\n",
       "\t<tr><th></th><th scope=col>C</th><th scope=col>N</th><th scope=col>A</th></tr>\n",
       "\t<tr><th></th><th scope=col>&lt;dbl&gt;</th><th scope=col>&lt;dbl&gt;</th><th scope=col>&lt;dbl&gt;</th></tr>\n",
       "</thead>\n",
       "<tbody>\n",
       "\t<tr><th scope=row>1</th><td>2.229878e+05</td><td>1.055880e+04</td><td>1.167733e+05</td></tr>\n",
       "\t<tr><th scope=row>2</th><td>9.669380e-01</td><td>4.005369e-01</td><td>6.837374e-01</td></tr>\n",
       "\t<tr><th scope=row>3</th><td>8.001769e+00</td><td>9.015047e-01</td><td>4.451637e+00</td></tr>\n",
       "\t<tr><th scope=row>4</th><td>1.515951e-02</td><td>9.295217e-03</td><td>1.222736e-02</td></tr>\n",
       "\t<tr><th scope=row>5</th><td>1.695362e+00</td><td>1.609711e+00</td><td>1.652537e+00</td></tr>\n",
       "\t<tr><th scope=row>6</th><td>2.289302e+00</td><td>2.076092e+00</td><td>2.182697e+00</td></tr>\n",
       "</tbody>\n",
       "</table>\n"
      ],
      "text/latex": [
       "A data.frame: 6 × 3\n",
       "\\begin{tabular}{r|lll}\n",
       "  & C & N & A\\\\\n",
       "  & <dbl> & <dbl> & <dbl>\\\\\n",
       "\\hline\n",
       "\t1 & 2.229878e+05 & 1.055880e+04 & 1.167733e+05\\\\\n",
       "\t2 & 9.669380e-01 & 4.005369e-01 & 6.837374e-01\\\\\n",
       "\t3 & 8.001769e+00 & 9.015047e-01 & 4.451637e+00\\\\\n",
       "\t4 & 1.515951e-02 & 9.295217e-03 & 1.222736e-02\\\\\n",
       "\t5 & 1.695362e+00 & 1.609711e+00 & 1.652537e+00\\\\\n",
       "\t6 & 2.289302e+00 & 2.076092e+00 & 2.182697e+00\\\\\n",
       "\\end{tabular}\n"
      ],
      "text/markdown": [
       "\n",
       "A data.frame: 6 × 3\n",
       "\n",
       "| <!--/--> | C &lt;dbl&gt; | N &lt;dbl&gt; | A &lt;dbl&gt; |\n",
       "|---|---|---|---|\n",
       "| 1 | 2.229878e+05 | 1.055880e+04 | 1.167733e+05 |\n",
       "| 2 | 9.669380e-01 | 4.005369e-01 | 6.837374e-01 |\n",
       "| 3 | 8.001769e+00 | 9.015047e-01 | 4.451637e+00 |\n",
       "| 4 | 1.515951e-02 | 9.295217e-03 | 1.222736e-02 |\n",
       "| 5 | 1.695362e+00 | 1.609711e+00 | 1.652537e+00 |\n",
       "| 6 | 2.289302e+00 | 2.076092e+00 | 2.182697e+00 |\n",
       "\n"
      ],
      "text/plain": [
       "  C            N            A           \n",
       "1 2.229878e+05 1.055880e+04 1.167733e+05\n",
       "2 9.669380e-01 4.005369e-01 6.837374e-01\n",
       "3 8.001769e+00 9.015047e-01 4.451637e+00\n",
       "4 1.515951e-02 9.295217e-03 1.222736e-02\n",
       "5 1.695362e+00 1.609711e+00 1.652537e+00\n",
       "6 2.289302e+00 2.076092e+00 2.182697e+00"
      ]
     },
     "metadata": {},
     "output_type": "display_data"
    },
    {
     "data": {
      "text/html": [
       "19133"
      ],
      "text/latex": [
       "19133"
      ],
      "text/markdown": [
       "19133"
      ],
      "text/plain": [
       "[1] 19133"
      ]
     },
     "metadata": {},
     "output_type": "display_data"
    },
    {
     "data": {
      "text/html": [
       "18462"
      ],
      "text/latex": [
       "18462"
      ],
      "text/markdown": [
       "18462"
      ],
      "text/plain": [
       "[1] 18462"
      ]
     },
     "metadata": {},
     "output_type": "display_data"
    },
    {
     "data": {
      "text/html": [
       "0.964929702608059"
      ],
      "text/latex": [
       "0.964929702608059"
      ],
      "text/markdown": [
       "0.964929702608059"
      ],
      "text/plain": [
       "[1] 0.9649297"
      ]
     },
     "metadata": {},
     "output_type": "display_data"
    }
   ],
   "source": [
    "#!/usr/bin/env Rscript\n",
    "# 功能：从 featureCounts 输出计算 RPKM，并比较核内（N）和核外（C）基因表达差异\n",
    "source(\"/home/user/data2/lit/bin/lit_utils.R\")\n",
    "source(\"/home/user/data3/lit/project/sORFs/sORFs.utils.R\")\n",
    "lib_text()\n",
    "lib_plot()\n",
    "###### libsize为UNIQUELY MAPPED READS而不是featureCounts assigned reads ######\n",
    "fread_c(fc_output_file)  -> rna_counts\n",
    "libsize <- fread_c(libsize_file)\n",
    "colnames(libsize) <- c(\"Sample\",\"libsize\")\n",
    "libsize\n",
    "\n",
    "# 重命名列\n",
    "colnames(rna_counts[,7:ncol(rna_counts)]) %>% sub(\"/home/user/data3/lit/project/sORFs/06-RNA-seq/02-output-20250621/mapping/\",\"\",.) %>% \n",
    "  sub(\".R1_Aligned.sortedByCoord.out.bam\",\"\",.) -> colnames_organized\n",
    "head(colnames_organized)\n",
    "\n",
    "colnames_organized_1 <- c(\"C_1\",\"C_2\",\"C_3\",\"N_1\",\"N_2\")\n",
    "# 计算RPKM\n",
    "get_rpkm <- function(counts,libsize){\n",
    "  rkm <- counts[,7:ncol(counts)]/counts$Length*1000\n",
    "  rpkm <- data.frame(t(t(rkm) / libsize) * 10^6 )\n",
    "  return(rpkm)\n",
    "}\n",
    "fread_c(fc_output_file)  -> rna_counts\n",
    "# 确保libsize样本的顺序和counts中样本的顺序是一致的【已确认】\n",
    "all(libsize$Sample==colnames_organized)\n",
    "get_rpkm(rna_counts,libsize$libsize) -> rpkm\n",
    "colnames(rpkm) <- colnames_organized_1\n",
    "head(rpkm)\n",
    "\n",
    "# 核内三个重复以及核外两个重复之间的相关性都很好\n",
    "cor(rpkm, method = \"pearson\")\n",
    "\n",
    "## 合并\n",
    "mutate(rpkm,C=(C_1+C_2+C_3)/3,N=(N_1+N_2)/2) %>% dplyr::select(C,N) -> rpkm_N_C\n",
    "head(rpkm_N_C)\n",
    "\n",
    "# 导出基因的表达信息\n",
    "rpkm_N_C %>% mutate(A=(N+C)/2) -> rpkm_N_C_A\n",
    "fwrite_c(rpkm_N_C_A, out_file)\n",
    "\n",
    "head(rpkm_N_C_A)\n",
    "nrow(rpkm_N_C_A)\n",
    "filter(rpkm_N_C_A,A>0) -> human_21pcw_brain_expressed_gene_expr\n",
    "nrow(human_21pcw_brain_expressed_gene_expr)\n",
    "nrow(human_21pcw_brain_expressed_gene_expr)/nrow(rpkm_N_C_A)\n",
    "# fwrite_c(human_21pcw_brain_expressed_gene_expr, out_file)"
   ]
  },
  {
   "cell_type": "code",
   "execution_count": 9,
   "id": "abe32270",
   "metadata": {
    "ExecuteTime": {
     "end_time": "2025-09-10T15:15:49.187555Z",
     "start_time": "2025-09-10T15:15:48.143Z"
    }
   },
   "outputs": [
    {
     "data": {
      "text/html": [
       "0.501855433021481"
      ],
      "text/latex": [
       "0.501855433021481"
      ],
      "text/markdown": [
       "0.501855433021481"
      ],
      "text/plain": [
       "[1] 0.5018554"
      ]
     },
     "metadata": {},
     "output_type": "display_data"
    }
   ],
   "source": [
    "nrow(filter(rpkm_N_C_A,C>=1))/nrow(rpkm_N_C_A)"
   ]
  }
 ],
 "metadata": {
  "kernelspec": {
   "display_name": "R_default_4.2",
   "language": "R",
   "name": "r_default_4.2"
  },
  "language_info": {
   "codemirror_mode": "r",
   "file_extension": ".r",
   "mimetype": "text/x-r-source",
   "name": "R",
   "pygments_lexer": "r",
   "version": "4.2.1"
  },
  "toc": {
   "base_numbering": 1,
   "nav_menu": {},
   "number_sections": true,
   "sideBar": true,
   "skip_h1_title": false,
   "title_cell": "Table of Contents",
   "title_sidebar": "Contents",
   "toc_cell": false,
   "toc_position": {},
   "toc_section_display": true,
   "toc_window_display": false
  }
 },
 "nbformat": 4,
 "nbformat_minor": 5
}
