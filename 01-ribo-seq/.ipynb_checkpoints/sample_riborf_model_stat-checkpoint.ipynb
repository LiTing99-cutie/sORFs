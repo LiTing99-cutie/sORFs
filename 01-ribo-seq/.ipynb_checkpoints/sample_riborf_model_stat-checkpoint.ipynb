{
 "cells": [
  {
   "cell_type": "markdown",
   "id": "5fb8591e",
   "metadata": {},
   "source": [
    "# 测试"
   ]
  },
  {
   "cell_type": "code",
   "execution_count": 41,
   "id": "37cf8960",
   "metadata": {},
   "outputs": [],
   "source": [
    "library(\"MESS\")\n",
    "library(dplyr)\n",
    "library(magrittr)"
   ]
  },
  {
   "cell_type": "code",
   "execution_count": 6,
   "id": "84a2c5ac",
   "metadata": {},
   "outputs": [],
   "source": [
    "read.table(\"/home/user/data3/lit/project/sORFs/01-ribo-seq/mouse_brain_output_20241011/2020_NAR_WangH_E15.5_P42/SRR5262885/output/Ribo-ORFs/RibORF/stat.cutoff.txt\",\n",
    "          header=T,sep='\\t') -> A"
   ]
  },
  {
   "cell_type": "code",
   "execution_count": 7,
   "id": "35db2406",
   "metadata": {
    "collapsed": true
   },
   "outputs": [
    {
     "data": {
      "text/html": [
       "<table class=\"dataframe\">\n",
       "<caption>A data.frame: 401 × 7</caption>\n",
       "<thead>\n",
       "\t<tr><th scope=col>cutoff</th><th scope=col>True.pos</th><th scope=col>False.pos</th><th scope=col>True.neg</th><th scope=col>False.neg</th><th scope=col>False.pos.rate</th><th scope=col>True.pos.rate</th></tr>\n",
       "\t<tr><th scope=col>&lt;dbl&gt;</th><th scope=col>&lt;int&gt;</th><th scope=col>&lt;int&gt;</th><th scope=col>&lt;int&gt;</th><th scope=col>&lt;int&gt;</th><th scope=col>&lt;dbl&gt;</th><th scope=col>&lt;dbl&gt;</th></tr>\n",
       "</thead>\n",
       "<tbody>\n",
       "\t<tr><td>-0.500</td><td>1000</td><td>3499</td><td>1</td><td>0</td><td>0.9997143</td><td>1</td></tr>\n",
       "\t<tr><td>-0.495</td><td>1000</td><td>3499</td><td>1</td><td>0</td><td>0.9997143</td><td>1</td></tr>\n",
       "\t<tr><td>-0.490</td><td>1000</td><td>3499</td><td>1</td><td>0</td><td>0.9997143</td><td>1</td></tr>\n",
       "\t<tr><td>-0.485</td><td>1000</td><td>3499</td><td>1</td><td>0</td><td>0.9997143</td><td>1</td></tr>\n",
       "\t<tr><td>-0.480</td><td>1000</td><td>3499</td><td>1</td><td>0</td><td>0.9997143</td><td>1</td></tr>\n",
       "\t<tr><td>-0.475</td><td>1000</td><td>3499</td><td>1</td><td>0</td><td>0.9997143</td><td>1</td></tr>\n",
       "\t<tr><td>-0.470</td><td>1000</td><td>3499</td><td>1</td><td>0</td><td>0.9997143</td><td>1</td></tr>\n",
       "\t<tr><td>-0.465</td><td>1000</td><td>3499</td><td>1</td><td>0</td><td>0.9997143</td><td>1</td></tr>\n",
       "\t<tr><td>-0.460</td><td>1000</td><td>3499</td><td>1</td><td>0</td><td>0.9997143</td><td>1</td></tr>\n",
       "\t<tr><td>-0.455</td><td>1000</td><td>3499</td><td>1</td><td>0</td><td>0.9997143</td><td>1</td></tr>\n",
       "\t<tr><td>-0.450</td><td>1000</td><td>3499</td><td>1</td><td>0</td><td>0.9997143</td><td>1</td></tr>\n",
       "\t<tr><td>-0.445</td><td>1000</td><td>3499</td><td>1</td><td>0</td><td>0.9997143</td><td>1</td></tr>\n",
       "\t<tr><td>-0.440</td><td>1000</td><td>3499</td><td>1</td><td>0</td><td>0.9997143</td><td>1</td></tr>\n",
       "\t<tr><td>-0.435</td><td>1000</td><td>3499</td><td>1</td><td>0</td><td>0.9997143</td><td>1</td></tr>\n",
       "\t<tr><td>-0.430</td><td>1000</td><td>3499</td><td>1</td><td>0</td><td>0.9997143</td><td>1</td></tr>\n",
       "\t<tr><td>-0.425</td><td>1000</td><td>3498</td><td>2</td><td>0</td><td>0.9994286</td><td>1</td></tr>\n",
       "\t<tr><td>-0.420</td><td>1000</td><td>3498</td><td>2</td><td>0</td><td>0.9994286</td><td>1</td></tr>\n",
       "\t<tr><td>-0.415</td><td>1000</td><td>3498</td><td>2</td><td>0</td><td>0.9994286</td><td>1</td></tr>\n",
       "\t<tr><td>-0.410</td><td>1000</td><td>3498</td><td>2</td><td>0</td><td>0.9994286</td><td>1</td></tr>\n",
       "\t<tr><td>-0.405</td><td>1000</td><td>3498</td><td>2</td><td>0</td><td>0.9994286</td><td>1</td></tr>\n",
       "\t<tr><td>-0.400</td><td>1000</td><td>3498</td><td>2</td><td>0</td><td>0.9994286</td><td>1</td></tr>\n",
       "\t<tr><td>-0.395</td><td>1000</td><td>3498</td><td>2</td><td>0</td><td>0.9994286</td><td>1</td></tr>\n",
       "\t<tr><td>-0.390</td><td>1000</td><td>3498</td><td>2</td><td>0</td><td>0.9994286</td><td>1</td></tr>\n",
       "\t<tr><td>-0.385</td><td>1000</td><td>3498</td><td>2</td><td>0</td><td>0.9994286</td><td>1</td></tr>\n",
       "\t<tr><td>-0.380</td><td>1000</td><td>3498</td><td>2</td><td>0</td><td>0.9994286</td><td>1</td></tr>\n",
       "\t<tr><td>-0.375</td><td>1000</td><td>3498</td><td>2</td><td>0</td><td>0.9994286</td><td>1</td></tr>\n",
       "\t<tr><td>-0.370</td><td>1000</td><td>3498</td><td>2</td><td>0</td><td>0.9994286</td><td>1</td></tr>\n",
       "\t<tr><td>-0.365</td><td>1000</td><td>3498</td><td>2</td><td>0</td><td>0.9994286</td><td>1</td></tr>\n",
       "\t<tr><td>-0.360</td><td>1000</td><td>3497</td><td>3</td><td>0</td><td>0.9991429</td><td>1</td></tr>\n",
       "\t<tr><td>-0.355</td><td>1000</td><td>3496</td><td>4</td><td>0</td><td>0.9988571</td><td>1</td></tr>\n",
       "\t<tr><td>⋮</td><td>⋮</td><td>⋮</td><td>⋮</td><td>⋮</td><td>⋮</td><td>⋮</td></tr>\n",
       "\t<tr><td>1.355</td><td>0</td><td>0</td><td>3500</td><td>1000</td><td>0</td><td>0</td></tr>\n",
       "\t<tr><td>1.360</td><td>0</td><td>0</td><td>3500</td><td>1000</td><td>0</td><td>0</td></tr>\n",
       "\t<tr><td>1.365</td><td>0</td><td>0</td><td>3500</td><td>1000</td><td>0</td><td>0</td></tr>\n",
       "\t<tr><td>1.370</td><td>0</td><td>0</td><td>3500</td><td>1000</td><td>0</td><td>0</td></tr>\n",
       "\t<tr><td>1.375</td><td>0</td><td>0</td><td>3500</td><td>1000</td><td>0</td><td>0</td></tr>\n",
       "\t<tr><td>1.380</td><td>0</td><td>0</td><td>3500</td><td>1000</td><td>0</td><td>0</td></tr>\n",
       "\t<tr><td>1.385</td><td>0</td><td>0</td><td>3500</td><td>1000</td><td>0</td><td>0</td></tr>\n",
       "\t<tr><td>1.390</td><td>0</td><td>0</td><td>3500</td><td>1000</td><td>0</td><td>0</td></tr>\n",
       "\t<tr><td>1.395</td><td>0</td><td>0</td><td>3500</td><td>1000</td><td>0</td><td>0</td></tr>\n",
       "\t<tr><td>1.400</td><td>0</td><td>0</td><td>3500</td><td>1000</td><td>0</td><td>0</td></tr>\n",
       "\t<tr><td>1.405</td><td>0</td><td>0</td><td>3500</td><td>1000</td><td>0</td><td>0</td></tr>\n",
       "\t<tr><td>1.410</td><td>0</td><td>0</td><td>3500</td><td>1000</td><td>0</td><td>0</td></tr>\n",
       "\t<tr><td>1.415</td><td>0</td><td>0</td><td>3500</td><td>1000</td><td>0</td><td>0</td></tr>\n",
       "\t<tr><td>1.420</td><td>0</td><td>0</td><td>3500</td><td>1000</td><td>0</td><td>0</td></tr>\n",
       "\t<tr><td>1.425</td><td>0</td><td>0</td><td>3500</td><td>1000</td><td>0</td><td>0</td></tr>\n",
       "\t<tr><td>1.430</td><td>0</td><td>0</td><td>3500</td><td>1000</td><td>0</td><td>0</td></tr>\n",
       "\t<tr><td>1.435</td><td>0</td><td>0</td><td>3500</td><td>1000</td><td>0</td><td>0</td></tr>\n",
       "\t<tr><td>1.440</td><td>0</td><td>0</td><td>3500</td><td>1000</td><td>0</td><td>0</td></tr>\n",
       "\t<tr><td>1.445</td><td>0</td><td>0</td><td>3500</td><td>1000</td><td>0</td><td>0</td></tr>\n",
       "\t<tr><td>1.450</td><td>0</td><td>0</td><td>3500</td><td>1000</td><td>0</td><td>0</td></tr>\n",
       "\t<tr><td>1.455</td><td>0</td><td>0</td><td>3500</td><td>1000</td><td>0</td><td>0</td></tr>\n",
       "\t<tr><td>1.460</td><td>0</td><td>0</td><td>3500</td><td>1000</td><td>0</td><td>0</td></tr>\n",
       "\t<tr><td>1.465</td><td>0</td><td>0</td><td>3500</td><td>1000</td><td>0</td><td>0</td></tr>\n",
       "\t<tr><td>1.470</td><td>0</td><td>0</td><td>3500</td><td>1000</td><td>0</td><td>0</td></tr>\n",
       "\t<tr><td>1.475</td><td>0</td><td>0</td><td>3500</td><td>1000</td><td>0</td><td>0</td></tr>\n",
       "\t<tr><td>1.480</td><td>0</td><td>0</td><td>3500</td><td>1000</td><td>0</td><td>0</td></tr>\n",
       "\t<tr><td>1.485</td><td>0</td><td>0</td><td>3500</td><td>1000</td><td>0</td><td>0</td></tr>\n",
       "\t<tr><td>1.490</td><td>0</td><td>0</td><td>3500</td><td>1000</td><td>0</td><td>0</td></tr>\n",
       "\t<tr><td>1.495</td><td>0</td><td>0</td><td>3500</td><td>1000</td><td>0</td><td>0</td></tr>\n",
       "\t<tr><td>1.500</td><td>0</td><td>0</td><td>3500</td><td>1000</td><td>0</td><td>0</td></tr>\n",
       "</tbody>\n",
       "</table>\n"
      ],
      "text/latex": [
       "A data.frame: 401 × 7\n",
       "\\begin{tabular}{lllllll}\n",
       " cutoff & True.pos & False.pos & True.neg & False.neg & False.pos.rate & True.pos.rate\\\\\n",
       " <dbl> & <int> & <int> & <int> & <int> & <dbl> & <dbl>\\\\\n",
       "\\hline\n",
       "\t -0.500 & 1000 & 3499 & 1 & 0 & 0.9997143 & 1\\\\\n",
       "\t -0.495 & 1000 & 3499 & 1 & 0 & 0.9997143 & 1\\\\\n",
       "\t -0.490 & 1000 & 3499 & 1 & 0 & 0.9997143 & 1\\\\\n",
       "\t -0.485 & 1000 & 3499 & 1 & 0 & 0.9997143 & 1\\\\\n",
       "\t -0.480 & 1000 & 3499 & 1 & 0 & 0.9997143 & 1\\\\\n",
       "\t -0.475 & 1000 & 3499 & 1 & 0 & 0.9997143 & 1\\\\\n",
       "\t -0.470 & 1000 & 3499 & 1 & 0 & 0.9997143 & 1\\\\\n",
       "\t -0.465 & 1000 & 3499 & 1 & 0 & 0.9997143 & 1\\\\\n",
       "\t -0.460 & 1000 & 3499 & 1 & 0 & 0.9997143 & 1\\\\\n",
       "\t -0.455 & 1000 & 3499 & 1 & 0 & 0.9997143 & 1\\\\\n",
       "\t -0.450 & 1000 & 3499 & 1 & 0 & 0.9997143 & 1\\\\\n",
       "\t -0.445 & 1000 & 3499 & 1 & 0 & 0.9997143 & 1\\\\\n",
       "\t -0.440 & 1000 & 3499 & 1 & 0 & 0.9997143 & 1\\\\\n",
       "\t -0.435 & 1000 & 3499 & 1 & 0 & 0.9997143 & 1\\\\\n",
       "\t -0.430 & 1000 & 3499 & 1 & 0 & 0.9997143 & 1\\\\\n",
       "\t -0.425 & 1000 & 3498 & 2 & 0 & 0.9994286 & 1\\\\\n",
       "\t -0.420 & 1000 & 3498 & 2 & 0 & 0.9994286 & 1\\\\\n",
       "\t -0.415 & 1000 & 3498 & 2 & 0 & 0.9994286 & 1\\\\\n",
       "\t -0.410 & 1000 & 3498 & 2 & 0 & 0.9994286 & 1\\\\\n",
       "\t -0.405 & 1000 & 3498 & 2 & 0 & 0.9994286 & 1\\\\\n",
       "\t -0.400 & 1000 & 3498 & 2 & 0 & 0.9994286 & 1\\\\\n",
       "\t -0.395 & 1000 & 3498 & 2 & 0 & 0.9994286 & 1\\\\\n",
       "\t -0.390 & 1000 & 3498 & 2 & 0 & 0.9994286 & 1\\\\\n",
       "\t -0.385 & 1000 & 3498 & 2 & 0 & 0.9994286 & 1\\\\\n",
       "\t -0.380 & 1000 & 3498 & 2 & 0 & 0.9994286 & 1\\\\\n",
       "\t -0.375 & 1000 & 3498 & 2 & 0 & 0.9994286 & 1\\\\\n",
       "\t -0.370 & 1000 & 3498 & 2 & 0 & 0.9994286 & 1\\\\\n",
       "\t -0.365 & 1000 & 3498 & 2 & 0 & 0.9994286 & 1\\\\\n",
       "\t -0.360 & 1000 & 3497 & 3 & 0 & 0.9991429 & 1\\\\\n",
       "\t -0.355 & 1000 & 3496 & 4 & 0 & 0.9988571 & 1\\\\\n",
       "\t ⋮ & ⋮ & ⋮ & ⋮ & ⋮ & ⋮ & ⋮\\\\\n",
       "\t 1.355 & 0 & 0 & 3500 & 1000 & 0 & 0\\\\\n",
       "\t 1.360 & 0 & 0 & 3500 & 1000 & 0 & 0\\\\\n",
       "\t 1.365 & 0 & 0 & 3500 & 1000 & 0 & 0\\\\\n",
       "\t 1.370 & 0 & 0 & 3500 & 1000 & 0 & 0\\\\\n",
       "\t 1.375 & 0 & 0 & 3500 & 1000 & 0 & 0\\\\\n",
       "\t 1.380 & 0 & 0 & 3500 & 1000 & 0 & 0\\\\\n",
       "\t 1.385 & 0 & 0 & 3500 & 1000 & 0 & 0\\\\\n",
       "\t 1.390 & 0 & 0 & 3500 & 1000 & 0 & 0\\\\\n",
       "\t 1.395 & 0 & 0 & 3500 & 1000 & 0 & 0\\\\\n",
       "\t 1.400 & 0 & 0 & 3500 & 1000 & 0 & 0\\\\\n",
       "\t 1.405 & 0 & 0 & 3500 & 1000 & 0 & 0\\\\\n",
       "\t 1.410 & 0 & 0 & 3500 & 1000 & 0 & 0\\\\\n",
       "\t 1.415 & 0 & 0 & 3500 & 1000 & 0 & 0\\\\\n",
       "\t 1.420 & 0 & 0 & 3500 & 1000 & 0 & 0\\\\\n",
       "\t 1.425 & 0 & 0 & 3500 & 1000 & 0 & 0\\\\\n",
       "\t 1.430 & 0 & 0 & 3500 & 1000 & 0 & 0\\\\\n",
       "\t 1.435 & 0 & 0 & 3500 & 1000 & 0 & 0\\\\\n",
       "\t 1.440 & 0 & 0 & 3500 & 1000 & 0 & 0\\\\\n",
       "\t 1.445 & 0 & 0 & 3500 & 1000 & 0 & 0\\\\\n",
       "\t 1.450 & 0 & 0 & 3500 & 1000 & 0 & 0\\\\\n",
       "\t 1.455 & 0 & 0 & 3500 & 1000 & 0 & 0\\\\\n",
       "\t 1.460 & 0 & 0 & 3500 & 1000 & 0 & 0\\\\\n",
       "\t 1.465 & 0 & 0 & 3500 & 1000 & 0 & 0\\\\\n",
       "\t 1.470 & 0 & 0 & 3500 & 1000 & 0 & 0\\\\\n",
       "\t 1.475 & 0 & 0 & 3500 & 1000 & 0 & 0\\\\\n",
       "\t 1.480 & 0 & 0 & 3500 & 1000 & 0 & 0\\\\\n",
       "\t 1.485 & 0 & 0 & 3500 & 1000 & 0 & 0\\\\\n",
       "\t 1.490 & 0 & 0 & 3500 & 1000 & 0 & 0\\\\\n",
       "\t 1.495 & 0 & 0 & 3500 & 1000 & 0 & 0\\\\\n",
       "\t 1.500 & 0 & 0 & 3500 & 1000 & 0 & 0\\\\\n",
       "\\end{tabular}\n"
      ],
      "text/markdown": [
       "\n",
       "A data.frame: 401 × 7\n",
       "\n",
       "| cutoff &lt;dbl&gt; | True.pos &lt;int&gt; | False.pos &lt;int&gt; | True.neg &lt;int&gt; | False.neg &lt;int&gt; | False.pos.rate &lt;dbl&gt; | True.pos.rate &lt;dbl&gt; |\n",
       "|---|---|---|---|---|---|---|\n",
       "| -0.500 | 1000 | 3499 | 1 | 0 | 0.9997143 | 1 |\n",
       "| -0.495 | 1000 | 3499 | 1 | 0 | 0.9997143 | 1 |\n",
       "| -0.490 | 1000 | 3499 | 1 | 0 | 0.9997143 | 1 |\n",
       "| -0.485 | 1000 | 3499 | 1 | 0 | 0.9997143 | 1 |\n",
       "| -0.480 | 1000 | 3499 | 1 | 0 | 0.9997143 | 1 |\n",
       "| -0.475 | 1000 | 3499 | 1 | 0 | 0.9997143 | 1 |\n",
       "| -0.470 | 1000 | 3499 | 1 | 0 | 0.9997143 | 1 |\n",
       "| -0.465 | 1000 | 3499 | 1 | 0 | 0.9997143 | 1 |\n",
       "| -0.460 | 1000 | 3499 | 1 | 0 | 0.9997143 | 1 |\n",
       "| -0.455 | 1000 | 3499 | 1 | 0 | 0.9997143 | 1 |\n",
       "| -0.450 | 1000 | 3499 | 1 | 0 | 0.9997143 | 1 |\n",
       "| -0.445 | 1000 | 3499 | 1 | 0 | 0.9997143 | 1 |\n",
       "| -0.440 | 1000 | 3499 | 1 | 0 | 0.9997143 | 1 |\n",
       "| -0.435 | 1000 | 3499 | 1 | 0 | 0.9997143 | 1 |\n",
       "| -0.430 | 1000 | 3499 | 1 | 0 | 0.9997143 | 1 |\n",
       "| -0.425 | 1000 | 3498 | 2 | 0 | 0.9994286 | 1 |\n",
       "| -0.420 | 1000 | 3498 | 2 | 0 | 0.9994286 | 1 |\n",
       "| -0.415 | 1000 | 3498 | 2 | 0 | 0.9994286 | 1 |\n",
       "| -0.410 | 1000 | 3498 | 2 | 0 | 0.9994286 | 1 |\n",
       "| -0.405 | 1000 | 3498 | 2 | 0 | 0.9994286 | 1 |\n",
       "| -0.400 | 1000 | 3498 | 2 | 0 | 0.9994286 | 1 |\n",
       "| -0.395 | 1000 | 3498 | 2 | 0 | 0.9994286 | 1 |\n",
       "| -0.390 | 1000 | 3498 | 2 | 0 | 0.9994286 | 1 |\n",
       "| -0.385 | 1000 | 3498 | 2 | 0 | 0.9994286 | 1 |\n",
       "| -0.380 | 1000 | 3498 | 2 | 0 | 0.9994286 | 1 |\n",
       "| -0.375 | 1000 | 3498 | 2 | 0 | 0.9994286 | 1 |\n",
       "| -0.370 | 1000 | 3498 | 2 | 0 | 0.9994286 | 1 |\n",
       "| -0.365 | 1000 | 3498 | 2 | 0 | 0.9994286 | 1 |\n",
       "| -0.360 | 1000 | 3497 | 3 | 0 | 0.9991429 | 1 |\n",
       "| -0.355 | 1000 | 3496 | 4 | 0 | 0.9988571 | 1 |\n",
       "| ⋮ | ⋮ | ⋮ | ⋮ | ⋮ | ⋮ | ⋮ |\n",
       "| 1.355 | 0 | 0 | 3500 | 1000 | 0 | 0 |\n",
       "| 1.360 | 0 | 0 | 3500 | 1000 | 0 | 0 |\n",
       "| 1.365 | 0 | 0 | 3500 | 1000 | 0 | 0 |\n",
       "| 1.370 | 0 | 0 | 3500 | 1000 | 0 | 0 |\n",
       "| 1.375 | 0 | 0 | 3500 | 1000 | 0 | 0 |\n",
       "| 1.380 | 0 | 0 | 3500 | 1000 | 0 | 0 |\n",
       "| 1.385 | 0 | 0 | 3500 | 1000 | 0 | 0 |\n",
       "| 1.390 | 0 | 0 | 3500 | 1000 | 0 | 0 |\n",
       "| 1.395 | 0 | 0 | 3500 | 1000 | 0 | 0 |\n",
       "| 1.400 | 0 | 0 | 3500 | 1000 | 0 | 0 |\n",
       "| 1.405 | 0 | 0 | 3500 | 1000 | 0 | 0 |\n",
       "| 1.410 | 0 | 0 | 3500 | 1000 | 0 | 0 |\n",
       "| 1.415 | 0 | 0 | 3500 | 1000 | 0 | 0 |\n",
       "| 1.420 | 0 | 0 | 3500 | 1000 | 0 | 0 |\n",
       "| 1.425 | 0 | 0 | 3500 | 1000 | 0 | 0 |\n",
       "| 1.430 | 0 | 0 | 3500 | 1000 | 0 | 0 |\n",
       "| 1.435 | 0 | 0 | 3500 | 1000 | 0 | 0 |\n",
       "| 1.440 | 0 | 0 | 3500 | 1000 | 0 | 0 |\n",
       "| 1.445 | 0 | 0 | 3500 | 1000 | 0 | 0 |\n",
       "| 1.450 | 0 | 0 | 3500 | 1000 | 0 | 0 |\n",
       "| 1.455 | 0 | 0 | 3500 | 1000 | 0 | 0 |\n",
       "| 1.460 | 0 | 0 | 3500 | 1000 | 0 | 0 |\n",
       "| 1.465 | 0 | 0 | 3500 | 1000 | 0 | 0 |\n",
       "| 1.470 | 0 | 0 | 3500 | 1000 | 0 | 0 |\n",
       "| 1.475 | 0 | 0 | 3500 | 1000 | 0 | 0 |\n",
       "| 1.480 | 0 | 0 | 3500 | 1000 | 0 | 0 |\n",
       "| 1.485 | 0 | 0 | 3500 | 1000 | 0 | 0 |\n",
       "| 1.490 | 0 | 0 | 3500 | 1000 | 0 | 0 |\n",
       "| 1.495 | 0 | 0 | 3500 | 1000 | 0 | 0 |\n",
       "| 1.500 | 0 | 0 | 3500 | 1000 | 0 | 0 |\n",
       "\n"
      ],
      "text/plain": [
       "    cutoff True.pos False.pos True.neg False.neg False.pos.rate True.pos.rate\n",
       "1   -0.500 1000     3499      1        0         0.9997143      1            \n",
       "2   -0.495 1000     3499      1        0         0.9997143      1            \n",
       "3   -0.490 1000     3499      1        0         0.9997143      1            \n",
       "4   -0.485 1000     3499      1        0         0.9997143      1            \n",
       "5   -0.480 1000     3499      1        0         0.9997143      1            \n",
       "6   -0.475 1000     3499      1        0         0.9997143      1            \n",
       "7   -0.470 1000     3499      1        0         0.9997143      1            \n",
       "8   -0.465 1000     3499      1        0         0.9997143      1            \n",
       "9   -0.460 1000     3499      1        0         0.9997143      1            \n",
       "10  -0.455 1000     3499      1        0         0.9997143      1            \n",
       "11  -0.450 1000     3499      1        0         0.9997143      1            \n",
       "12  -0.445 1000     3499      1        0         0.9997143      1            \n",
       "13  -0.440 1000     3499      1        0         0.9997143      1            \n",
       "14  -0.435 1000     3499      1        0         0.9997143      1            \n",
       "15  -0.430 1000     3499      1        0         0.9997143      1            \n",
       "16  -0.425 1000     3498      2        0         0.9994286      1            \n",
       "17  -0.420 1000     3498      2        0         0.9994286      1            \n",
       "18  -0.415 1000     3498      2        0         0.9994286      1            \n",
       "19  -0.410 1000     3498      2        0         0.9994286      1            \n",
       "20  -0.405 1000     3498      2        0         0.9994286      1            \n",
       "21  -0.400 1000     3498      2        0         0.9994286      1            \n",
       "22  -0.395 1000     3498      2        0         0.9994286      1            \n",
       "23  -0.390 1000     3498      2        0         0.9994286      1            \n",
       "24  -0.385 1000     3498      2        0         0.9994286      1            \n",
       "25  -0.380 1000     3498      2        0         0.9994286      1            \n",
       "26  -0.375 1000     3498      2        0         0.9994286      1            \n",
       "27  -0.370 1000     3498      2        0         0.9994286      1            \n",
       "28  -0.365 1000     3498      2        0         0.9994286      1            \n",
       "29  -0.360 1000     3497      3        0         0.9991429      1            \n",
       "30  -0.355 1000     3496      4        0         0.9988571      1            \n",
       "⋮   ⋮      ⋮        ⋮         ⋮        ⋮         ⋮              ⋮            \n",
       "372 1.355  0        0         3500     1000      0              0            \n",
       "373 1.360  0        0         3500     1000      0              0            \n",
       "374 1.365  0        0         3500     1000      0              0            \n",
       "375 1.370  0        0         3500     1000      0              0            \n",
       "376 1.375  0        0         3500     1000      0              0            \n",
       "377 1.380  0        0         3500     1000      0              0            \n",
       "378 1.385  0        0         3500     1000      0              0            \n",
       "379 1.390  0        0         3500     1000      0              0            \n",
       "380 1.395  0        0         3500     1000      0              0            \n",
       "381 1.400  0        0         3500     1000      0              0            \n",
       "382 1.405  0        0         3500     1000      0              0            \n",
       "383 1.410  0        0         3500     1000      0              0            \n",
       "384 1.415  0        0         3500     1000      0              0            \n",
       "385 1.420  0        0         3500     1000      0              0            \n",
       "386 1.425  0        0         3500     1000      0              0            \n",
       "387 1.430  0        0         3500     1000      0              0            \n",
       "388 1.435  0        0         3500     1000      0              0            \n",
       "389 1.440  0        0         3500     1000      0              0            \n",
       "390 1.445  0        0         3500     1000      0              0            \n",
       "391 1.450  0        0         3500     1000      0              0            \n",
       "392 1.455  0        0         3500     1000      0              0            \n",
       "393 1.460  0        0         3500     1000      0              0            \n",
       "394 1.465  0        0         3500     1000      0              0            \n",
       "395 1.470  0        0         3500     1000      0              0            \n",
       "396 1.475  0        0         3500     1000      0              0            \n",
       "397 1.480  0        0         3500     1000      0              0            \n",
       "398 1.485  0        0         3500     1000      0              0            \n",
       "399 1.490  0        0         3500     1000      0              0            \n",
       "400 1.495  0        0         3500     1000      0              0            \n",
       "401 1.500  0        0         3500     1000      0              0            "
      ]
     },
     "metadata": {},
     "output_type": "display_data"
    }
   ],
   "source": [
    "A"
   ]
  },
  {
   "cell_type": "code",
   "execution_count": 9,
   "id": "ade53f50",
   "metadata": {},
   "outputs": [],
   "source": [
    "fpr <- A[,6]\n",
    "tpr <- A[,7]"
   ]
  },
  {
   "cell_type": "code",
   "execution_count": 13,
   "id": "7cca9bf4",
   "metadata": {
    "collapsed": true
   },
   "outputs": [
    {
     "name": "stderr",
     "output_type": "stream",
     "text": [
      "Warning message in regularize.values(x, y, ties, missing(ties)):\n",
      "“collapsing to unique 'x' values”\n"
     ]
    },
    {
     "data": {
      "text/html": [
       "0.993915323503488"
      ],
      "text/latex": [
       "0.993915323503488"
      ],
      "text/markdown": [
       "0.993915323503488"
      ],
      "text/plain": [
       "[1] 0.9939153"
      ]
     },
     "metadata": {},
     "output_type": "display_data"
    },
    {
     "data": {
      "image/png": "[encoded data removed]",
      "text/plain": [
       "plot without title"
      ]
     },
     "metadata": {
      "image/png": {
       "height": 420,
       "width": 420
      }
     },
     "output_type": "display_data"
    }
   ],
   "source": [
    "plot(fpr,tpr,col=0)\n",
    "lines(fpr,tpr,col=1,lwd=3)\n",
    "auc(fpr,tpr,type = 'spline')"
   ]
  },
  {
   "cell_type": "markdown",
   "id": "be570169",
   "metadata": {},
   "source": [
    "# 对所有的样本计算AUC，以及约登指数最大的情况下对应的TPR和FPR"
   ]
  },
  {
   "cell_type": "code",
   "execution_count": 23,
   "id": "7f5ee0d1",
   "metadata": {},
   "outputs": [],
   "source": [
    "stat_files <- list.files(\"/home/user/data3/lit/project/sORFs/01-ribo-seq/mouse_brain_output_20241011/\",pattern = \"stat.cutoff.txt\",full.names = T,recursive = T)"
   ]
  },
  {
   "cell_type": "code",
   "execution_count": 24,
   "id": "38172070",
   "metadata": {
    "collapsed": true
   },
   "outputs": [
    {
     "data": {
      "text/html": [
       "<style>\n",
       ".list-inline {list-style: none; margin:0; padding: 0}\n",
       ".list-inline>li {display: inline-block}\n",
       ".list-inline>li:not(:last-child)::after {content: \"\\00b7\"; padding: 0 .5ex}\n",
       "</style>\n",
       "<ol class=list-inline><li>'/home/user/data3/lit/project/sORFs/01-ribo-seq/mouse_brain_output_20241011//2015_Science_ChoJ_hippocampus/SRR2163083/output/Ribo-ORFs-old/RibORF/stat.cutoff.txt'</li><li>'/home/user/data3/lit/project/sORFs/01-ribo-seq/mouse_brain_output_20241011//2015_Science_ChoJ_hippocampus/SRR2163083/output/Ribo-ORFs-old/RibORF/test/stat.cutoff.txt'</li><li>'/home/user/data3/lit/project/sORFs/01-ribo-seq/mouse_brain_output_20241011//2015_Science_ChoJ_hippocampus/SRR2163083/output/Ribo-ORFs/RibORF/stat.cutoff.txt'</li><li>'/home/user/data3/lit/project/sORFs/01-ribo-seq/mouse_brain_output_20241011//2015_Science_ChoJ_hippocampus/SRR2163093/output/Ribo-ORFs/RibORF/stat.cutoff.txt'</li><li>'/home/user/data3/lit/project/sORFs/01-ribo-seq/mouse_brain_output_20241011//2015_Science_ChoJ_hippocampus/SRR2163103/output/Ribo-ORFs/RibORF/stat.cutoff.txt'</li><li>'/home/user/data3/lit/project/sORFs/01-ribo-seq/mouse_brain_output_20241011//2019_multispecies_mouse_brain/ERR2812382/output/Ribo-ORFs/RibORF/stat.cutoff.txt'</li><li>'/home/user/data3/lit/project/sORFs/01-ribo-seq/mouse_brain_output_20241011//2019_multispecies_mouse_brain/ERR2812383/output/Ribo-ORFs/RibORF/stat.cutoff.txt'</li><li>'/home/user/data3/lit/project/sORFs/01-ribo-seq/mouse_brain_output_20241011//2019_multispecies_mouse_brain/ERR2812384/output/Ribo-ORFs/RibORF/stat.cutoff.txt'</li><li>'/home/user/data3/lit/project/sORFs/01-ribo-seq/mouse_brain_output_20241011//2020_NAR_WangH_E15.5_P42/SRR11218268/output/Ribo-ORFs/RibORF/stat.cutoff.txt'</li><li>'/home/user/data3/lit/project/sORFs/01-ribo-seq/mouse_brain_output_20241011//2020_NAR_WangH_E15.5_P42/SRR11218269/output/Ribo-ORFs/RibORF/stat.cutoff.txt'</li><li>'/home/user/data3/lit/project/sORFs/01-ribo-seq/mouse_brain_output_20241011//2020_NAR_WangH_E15.5_P42/SRR5262884/output/Ribo-ORFs/RibORF/stat.cutoff.txt'</li><li>'/home/user/data3/lit/project/sORFs/01-ribo-seq/mouse_brain_output_20241011//2020_NAR_WangH_E15.5_P42/SRR5262885/output/Ribo-ORFs/RibORF/stat.cutoff.txt'</li></ol>\n"
      ],
      "text/latex": [
       "\\begin{enumerate*}\n",
       "\\item '/home/user/data3/lit/project/sORFs/01-ribo-seq/mouse\\_brain\\_output\\_20241011//2015\\_Science\\_ChoJ\\_hippocampus/SRR2163083/output/Ribo-ORFs-old/RibORF/stat.cutoff.txt'\n",
       "\\item '/home/user/data3/lit/project/sORFs/01-ribo-seq/mouse\\_brain\\_output\\_20241011//2015\\_Science\\_ChoJ\\_hippocampus/SRR2163083/output/Ribo-ORFs-old/RibORF/test/stat.cutoff.txt'\n",
       "\\item '/home/user/data3/lit/project/sORFs/01-ribo-seq/mouse\\_brain\\_output\\_20241011//2015\\_Science\\_ChoJ\\_hippocampus/SRR2163083/output/Ribo-ORFs/RibORF/stat.cutoff.txt'\n",
       "\\item '/home/user/data3/lit/project/sORFs/01-ribo-seq/mouse\\_brain\\_output\\_20241011//2015\\_Science\\_ChoJ\\_hippocampus/SRR2163093/output/Ribo-ORFs/RibORF/stat.cutoff.txt'\n",
       "\\item '/home/user/data3/lit/project/sORFs/01-ribo-seq/mouse\\_brain\\_output\\_20241011//2015\\_Science\\_ChoJ\\_hippocampus/SRR2163103/output/Ribo-ORFs/RibORF/stat.cutoff.txt'\n",
       "\\item '/home/user/data3/lit/project/sORFs/01-ribo-seq/mouse\\_brain\\_output\\_20241011//2019\\_multispecies\\_mouse\\_brain/ERR2812382/output/Ribo-ORFs/RibORF/stat.cutoff.txt'\n",
       "\\item '/home/user/data3/lit/project/sORFs/01-ribo-seq/mouse\\_brain\\_output\\_20241011//2019\\_multispecies\\_mouse\\_brain/ERR2812383/output/Ribo-ORFs/RibORF/stat.cutoff.txt'\n",
       "\\item '/home/user/data3/lit/project/sORFs/01-ribo-seq/mouse\\_brain\\_output\\_20241011//2019\\_multispecies\\_mouse\\_brain/ERR2812384/output/Ribo-ORFs/RibORF/stat.cutoff.txt'\n",
       "\\item '/home/user/data3/lit/project/sORFs/01-ribo-seq/mouse\\_brain\\_output\\_20241011//2020\\_NAR\\_WangH\\_E15.5\\_P42/SRR11218268/output/Ribo-ORFs/RibORF/stat.cutoff.txt'\n",
       "\\item '/home/user/data3/lit/project/sORFs/01-ribo-seq/mouse\\_brain\\_output\\_20241011//2020\\_NAR\\_WangH\\_E15.5\\_P42/SRR11218269/output/Ribo-ORFs/RibORF/stat.cutoff.txt'\n",
       "\\item '/home/user/data3/lit/project/sORFs/01-ribo-seq/mouse\\_brain\\_output\\_20241011//2020\\_NAR\\_WangH\\_E15.5\\_P42/SRR5262884/output/Ribo-ORFs/RibORF/stat.cutoff.txt'\n",
       "\\item '/home/user/data3/lit/project/sORFs/01-ribo-seq/mouse\\_brain\\_output\\_20241011//2020\\_NAR\\_WangH\\_E15.5\\_P42/SRR5262885/output/Ribo-ORFs/RibORF/stat.cutoff.txt'\n",
       "\\end{enumerate*}\n"
      ],
      "text/markdown": [
       "1. '/home/user/data3/lit/project/sORFs/01-ribo-seq/mouse_brain_output_20241011//2015_Science_ChoJ_hippocampus/SRR2163083/output/Ribo-ORFs-old/RibORF/stat.cutoff.txt'\n",
       "2. '/home/user/data3/lit/project/sORFs/01-ribo-seq/mouse_brain_output_20241011//2015_Science_ChoJ_hippocampus/SRR2163083/output/Ribo-ORFs-old/RibORF/test/stat.cutoff.txt'\n",
       "3. '/home/user/data3/lit/project/sORFs/01-ribo-seq/mouse_brain_output_20241011//2015_Science_ChoJ_hippocampus/SRR2163083/output/Ribo-ORFs/RibORF/stat.cutoff.txt'\n",
       "4. '/home/user/data3/lit/project/sORFs/01-ribo-seq/mouse_brain_output_20241011//2015_Science_ChoJ_hippocampus/SRR2163093/output/Ribo-ORFs/RibORF/stat.cutoff.txt'\n",
       "5. '/home/user/data3/lit/project/sORFs/01-ribo-seq/mouse_brain_output_20241011//2015_Science_ChoJ_hippocampus/SRR2163103/output/Ribo-ORFs/RibORF/stat.cutoff.txt'\n",
       "6. '/home/user/data3/lit/project/sORFs/01-ribo-seq/mouse_brain_output_20241011//2019_multispecies_mouse_brain/ERR2812382/output/Ribo-ORFs/RibORF/stat.cutoff.txt'\n",
       "7. '/home/user/data3/lit/project/sORFs/01-ribo-seq/mouse_brain_output_20241011//2019_multispecies_mouse_brain/ERR2812383/output/Ribo-ORFs/RibORF/stat.cutoff.txt'\n",
       "8. '/home/user/data3/lit/project/sORFs/01-ribo-seq/mouse_brain_output_20241011//2019_multispecies_mouse_brain/ERR2812384/output/Ribo-ORFs/RibORF/stat.cutoff.txt'\n",
       "9. '/home/user/data3/lit/project/sORFs/01-ribo-seq/mouse_brain_output_20241011//2020_NAR_WangH_E15.5_P42/SRR11218268/output/Ribo-ORFs/RibORF/stat.cutoff.txt'\n",
       "10. '/home/user/data3/lit/project/sORFs/01-ribo-seq/mouse_brain_output_20241011//2020_NAR_WangH_E15.5_P42/SRR11218269/output/Ribo-ORFs/RibORF/stat.cutoff.txt'\n",
       "11. '/home/user/data3/lit/project/sORFs/01-ribo-seq/mouse_brain_output_20241011//2020_NAR_WangH_E15.5_P42/SRR5262884/output/Ribo-ORFs/RibORF/stat.cutoff.txt'\n",
       "12. '/home/user/data3/lit/project/sORFs/01-ribo-seq/mouse_brain_output_20241011//2020_NAR_WangH_E15.5_P42/SRR5262885/output/Ribo-ORFs/RibORF/stat.cutoff.txt'\n",
       "\n",
       "\n"
      ],
      "text/plain": [
       " [1] \"/home/user/data3/lit/project/sORFs/01-ribo-seq/mouse_brain_output_20241011//2015_Science_ChoJ_hippocampus/SRR2163083/output/Ribo-ORFs-old/RibORF/stat.cutoff.txt\"     \n",
       " [2] \"/home/user/data3/lit/project/sORFs/01-ribo-seq/mouse_brain_output_20241011//2015_Science_ChoJ_hippocampus/SRR2163083/output/Ribo-ORFs-old/RibORF/test/stat.cutoff.txt\"\n",
       " [3] \"/home/user/data3/lit/project/sORFs/01-ribo-seq/mouse_brain_output_20241011//2015_Science_ChoJ_hippocampus/SRR2163083/output/Ribo-ORFs/RibORF/stat.cutoff.txt\"         \n",
       " [4] \"/home/user/data3/lit/project/sORFs/01-ribo-seq/mouse_brain_output_20241011//2015_Science_ChoJ_hippocampus/SRR2163093/output/Ribo-ORFs/RibORF/stat.cutoff.txt\"         \n",
       " [5] \"/home/user/data3/lit/project/sORFs/01-ribo-seq/mouse_brain_output_20241011//2015_Science_ChoJ_hippocampus/SRR2163103/output/Ribo-ORFs/RibORF/stat.cutoff.txt\"         \n",
       " [6] \"/home/user/data3/lit/project/sORFs/01-ribo-seq/mouse_brain_output_20241011//2019_multispecies_mouse_brain/ERR2812382/output/Ribo-ORFs/RibORF/stat.cutoff.txt\"         \n",
       " [7] \"/home/user/data3/lit/project/sORFs/01-ribo-seq/mouse_brain_output_20241011//2019_multispecies_mouse_brain/ERR2812383/output/Ribo-ORFs/RibORF/stat.cutoff.txt\"         \n",
       " [8] \"/home/user/data3/lit/project/sORFs/01-ribo-seq/mouse_brain_output_20241011//2019_multispecies_mouse_brain/ERR2812384/output/Ribo-ORFs/RibORF/stat.cutoff.txt\"         \n",
       " [9] \"/home/user/data3/lit/project/sORFs/01-ribo-seq/mouse_brain_output_20241011//2020_NAR_WangH_E15.5_P42/SRR11218268/output/Ribo-ORFs/RibORF/stat.cutoff.txt\"             \n",
       "[10] \"/home/user/data3/lit/project/sORFs/01-ribo-seq/mouse_brain_output_20241011//2020_NAR_WangH_E15.5_P42/SRR11218269/output/Ribo-ORFs/RibORF/stat.cutoff.txt\"             \n",
       "[11] \"/home/user/data3/lit/project/sORFs/01-ribo-seq/mouse_brain_output_20241011//2020_NAR_WangH_E15.5_P42/SRR5262884/output/Ribo-ORFs/RibORF/stat.cutoff.txt\"              \n",
       "[12] \"/home/user/data3/lit/project/sORFs/01-ribo-seq/mouse_brain_output_20241011//2020_NAR_WangH_E15.5_P42/SRR5262885/output/Ribo-ORFs/RibORF/stat.cutoff.txt\"              "
      ]
     },
     "metadata": {},
     "output_type": "display_data"
    }
   ],
   "source": [
    "stat_files"
   ]
  },
  {
   "cell_type": "code",
   "execution_count": 27,
   "id": "a11cc916",
   "metadata": {},
   "outputs": [],
   "source": [
    "stat_files[!grepl(\"Ribo-ORFs-old\",stat_files)] -> stat_files_1"
   ]
  },
  {
   "cell_type": "code",
   "execution_count": 42,
   "id": "d374c336",
   "metadata": {},
   "outputs": [],
   "source": [
    "get_sample_riborf_model_stat <- function(stat_files){\n",
    "    read.table(stat_files,\n",
    "          header=T,sep='\\t') -> A\n",
    "    fpr <- A[,6]\n",
    "    tpr <- A[,7]\n",
    "    AUC <- auc(fpr,tpr,type = 'spline')\n",
    "    which.max(tpr-fpr) -> idx\n",
    "    filter(A,False.pos.rate<=0.1 & True.pos.rate>=0.9) %>% filter(True.pos.rate==max(True.pos.rate)) %>% filter(False.pos.rate==min(False.pos.rate)) -> B\n",
    "    data.frame(Youden_cutoff=A$cutoff[idx],Youden_tpr=tpr[idx],Youden_fpr=fpr[idx],\n",
    "               Custom_cutoff=B$cutoff,Custom_tpr=B$True.pos.rate,Custom_fpr=B$False.pos.rate,\n",
    "               AUC)\n",
    "}"
   ]
  },
  {
   "cell_type": "code",
   "execution_count": 51,
   "id": "1d6ee41a",
   "metadata": {},
   "outputs": [
    {
     "name": "stderr",
     "output_type": "stream",
     "text": [
      "Warning message in regularize.values(x, y, ties, missing(ties)):\n",
      "“collapsing to unique 'x' values”\n"
     ]
    },
    {
     "data": {
      "text/html": [
       "<table class=\"dataframe\">\n",
       "<caption>A data.frame: 2 × 7</caption>\n",
       "<thead>\n",
       "\t<tr><th scope=col>Youden_cutoff</th><th scope=col>Youden_tpr</th><th scope=col>Youden_fpr</th><th scope=col>Custom_cutoff</th><th scope=col>Custom_tpr</th><th scope=col>Custom_fpr</th><th scope=col>AUC</th></tr>\n",
       "\t<tr><th scope=col>&lt;dbl&gt;</th><th scope=col>&lt;dbl&gt;</th><th scope=col>&lt;dbl&gt;</th><th scope=col>&lt;dbl&gt;</th><th scope=col>&lt;dbl&gt;</th><th scope=col>&lt;dbl&gt;</th><th scope=col>&lt;dbl&gt;</th></tr>\n",
       "</thead>\n",
       "<tbody>\n",
       "\t<tr><td>0.52</td><td>0.959</td><td>0.01428571</td><td>0.205</td><td>0.993</td><td>0.10000000</td><td>0.9937895</td></tr>\n",
       "\t<tr><td>0.52</td><td>0.959</td><td>0.01428571</td><td>0.210</td><td>0.993</td><td>0.09714286</td><td>0.9937895</td></tr>\n",
       "</tbody>\n",
       "</table>\n"
      ],
      "text/latex": [
       "A data.frame: 2 × 7\n",
       "\\begin{tabular}{lllllll}\n",
       " Youden\\_cutoff & Youden\\_tpr & Youden\\_fpr & Custom\\_cutoff & Custom\\_tpr & Custom\\_fpr & AUC\\\\\n",
       " <dbl> & <dbl> & <dbl> & <dbl> & <dbl> & <dbl> & <dbl>\\\\\n",
       "\\hline\n",
       "\t 0.52 & 0.959 & 0.01428571 & 0.205 & 0.993 & 0.10000000 & 0.9937895\\\\\n",
       "\t 0.52 & 0.959 & 0.01428571 & 0.210 & 0.993 & 0.09714286 & 0.9937895\\\\\n",
       "\\end{tabular}\n"
      ],
      "text/markdown": [
       "\n",
       "A data.frame: 2 × 7\n",
       "\n",
       "| Youden_cutoff &lt;dbl&gt; | Youden_tpr &lt;dbl&gt; | Youden_fpr &lt;dbl&gt; | Custom_cutoff &lt;dbl&gt; | Custom_tpr &lt;dbl&gt; | Custom_fpr &lt;dbl&gt; | AUC &lt;dbl&gt; |\n",
       "|---|---|---|---|---|---|---|\n",
       "| 0.52 | 0.959 | 0.01428571 | 0.205 | 0.993 | 0.10000000 | 0.9937895 |\n",
       "| 0.52 | 0.959 | 0.01428571 | 0.210 | 0.993 | 0.09714286 | 0.9937895 |\n",
       "\n"
      ],
      "text/plain": [
       "  Youden_cutoff Youden_tpr Youden_fpr Custom_cutoff Custom_tpr Custom_fpr\n",
       "1 0.52          0.959      0.01428571 0.205         0.993      0.10000000\n",
       "2 0.52          0.959      0.01428571 0.210         0.993      0.09714286\n",
       "  AUC      \n",
       "1 0.9937895\n",
       "2 0.9937895"
      ]
     },
     "metadata": {},
     "output_type": "display_data"
    }
   ],
   "source": [
    "get_sample_riborf_model_stat('/home/user/data3/lit/project/sORFs/01-ribo-seq/mouse_brain_output_20241011//2015_Science_ChoJ_hippocampus/SRR2163083/output/Ribo-ORFs-old/RibORF/stat.cutoff.txt')"
   ]
  },
  {
   "cell_type": "code",
   "execution_count": 49,
   "id": "d27d3320",
   "metadata": {},
   "outputs": [
    {
     "data": {
      "text/html": [
       "<style>\n",
       ".list-inline {list-style: none; margin:0; padding: 0}\n",
       ".list-inline>li {display: inline-block}\n",
       ".list-inline>li:not(:last-child)::after {content: \"\\00b7\"; padding: 0 .5ex}\n",
       "</style>\n",
       "<ol class=list-inline><li>'/home/user/data3/lit/project/sORFs/01-ribo-seq/mouse_brain_output_20241011//2015_Science_ChoJ_hippocampus/SRR2163083/output/Ribo-ORFs/RibORF/stat.cutoff.txt'</li><li>'/home/user/data3/lit/project/sORFs/01-ribo-seq/mouse_brain_output_20241011//2015_Science_ChoJ_hippocampus/SRR2163093/output/Ribo-ORFs/RibORF/stat.cutoff.txt'</li><li>'/home/user/data3/lit/project/sORFs/01-ribo-seq/mouse_brain_output_20241011//2015_Science_ChoJ_hippocampus/SRR2163103/output/Ribo-ORFs/RibORF/stat.cutoff.txt'</li><li>'/home/user/data3/lit/project/sORFs/01-ribo-seq/mouse_brain_output_20241011//2019_multispecies_mouse_brain/ERR2812382/output/Ribo-ORFs/RibORF/stat.cutoff.txt'</li><li>'/home/user/data3/lit/project/sORFs/01-ribo-seq/mouse_brain_output_20241011//2019_multispecies_mouse_brain/ERR2812383/output/Ribo-ORFs/RibORF/stat.cutoff.txt'</li><li>'/home/user/data3/lit/project/sORFs/01-ribo-seq/mouse_brain_output_20241011//2019_multispecies_mouse_brain/ERR2812384/output/Ribo-ORFs/RibORF/stat.cutoff.txt'</li><li>'/home/user/data3/lit/project/sORFs/01-ribo-seq/mouse_brain_output_20241011//2020_NAR_WangH_E15.5_P42/SRR11218268/output/Ribo-ORFs/RibORF/stat.cutoff.txt'</li><li>'/home/user/data3/lit/project/sORFs/01-ribo-seq/mouse_brain_output_20241011//2020_NAR_WangH_E15.5_P42/SRR11218269/output/Ribo-ORFs/RibORF/stat.cutoff.txt'</li><li>'/home/user/data3/lit/project/sORFs/01-ribo-seq/mouse_brain_output_20241011//2020_NAR_WangH_E15.5_P42/SRR5262884/output/Ribo-ORFs/RibORF/stat.cutoff.txt'</li><li>'/home/user/data3/lit/project/sORFs/01-ribo-seq/mouse_brain_output_20241011//2020_NAR_WangH_E15.5_P42/SRR5262885/output/Ribo-ORFs/RibORF/stat.cutoff.txt'</li></ol>\n"
      ],
      "text/latex": [
       "\\begin{enumerate*}\n",
       "\\item '/home/user/data3/lit/project/sORFs/01-ribo-seq/mouse\\_brain\\_output\\_20241011//2015\\_Science\\_ChoJ\\_hippocampus/SRR2163083/output/Ribo-ORFs/RibORF/stat.cutoff.txt'\n",
       "\\item '/home/user/data3/lit/project/sORFs/01-ribo-seq/mouse\\_brain\\_output\\_20241011//2015\\_Science\\_ChoJ\\_hippocampus/SRR2163093/output/Ribo-ORFs/RibORF/stat.cutoff.txt'\n",
       "\\item '/home/user/data3/lit/project/sORFs/01-ribo-seq/mouse\\_brain\\_output\\_20241011//2015\\_Science\\_ChoJ\\_hippocampus/SRR2163103/output/Ribo-ORFs/RibORF/stat.cutoff.txt'\n",
       "\\item '/home/user/data3/lit/project/sORFs/01-ribo-seq/mouse\\_brain\\_output\\_20241011//2019\\_multispecies\\_mouse\\_brain/ERR2812382/output/Ribo-ORFs/RibORF/stat.cutoff.txt'\n",
       "\\item '/home/user/data3/lit/project/sORFs/01-ribo-seq/mouse\\_brain\\_output\\_20241011//2019\\_multispecies\\_mouse\\_brain/ERR2812383/output/Ribo-ORFs/RibORF/stat.cutoff.txt'\n",
       "\\item '/home/user/data3/lit/project/sORFs/01-ribo-seq/mouse\\_brain\\_output\\_20241011//2019\\_multispecies\\_mouse\\_brain/ERR2812384/output/Ribo-ORFs/RibORF/stat.cutoff.txt'\n",
       "\\item '/home/user/data3/lit/project/sORFs/01-ribo-seq/mouse\\_brain\\_output\\_20241011//2020\\_NAR\\_WangH\\_E15.5\\_P42/SRR11218268/output/Ribo-ORFs/RibORF/stat.cutoff.txt'\n",
       "\\item '/home/user/data3/lit/project/sORFs/01-ribo-seq/mouse\\_brain\\_output\\_20241011//2020\\_NAR\\_WangH\\_E15.5\\_P42/SRR11218269/output/Ribo-ORFs/RibORF/stat.cutoff.txt'\n",
       "\\item '/home/user/data3/lit/project/sORFs/01-ribo-seq/mouse\\_brain\\_output\\_20241011//2020\\_NAR\\_WangH\\_E15.5\\_P42/SRR5262884/output/Ribo-ORFs/RibORF/stat.cutoff.txt'\n",
       "\\item '/home/user/data3/lit/project/sORFs/01-ribo-seq/mouse\\_brain\\_output\\_20241011//2020\\_NAR\\_WangH\\_E15.5\\_P42/SRR5262885/output/Ribo-ORFs/RibORF/stat.cutoff.txt'\n",
       "\\end{enumerate*}\n"
      ],
      "text/markdown": [
       "1. '/home/user/data3/lit/project/sORFs/01-ribo-seq/mouse_brain_output_20241011//2015_Science_ChoJ_hippocampus/SRR2163083/output/Ribo-ORFs/RibORF/stat.cutoff.txt'\n",
       "2. '/home/user/data3/lit/project/sORFs/01-ribo-seq/mouse_brain_output_20241011//2015_Science_ChoJ_hippocampus/SRR2163093/output/Ribo-ORFs/RibORF/stat.cutoff.txt'\n",
       "3. '/home/user/data3/lit/project/sORFs/01-ribo-seq/mouse_brain_output_20241011//2015_Science_ChoJ_hippocampus/SRR2163103/output/Ribo-ORFs/RibORF/stat.cutoff.txt'\n",
       "4. '/home/user/data3/lit/project/sORFs/01-ribo-seq/mouse_brain_output_20241011//2019_multispecies_mouse_brain/ERR2812382/output/Ribo-ORFs/RibORF/stat.cutoff.txt'\n",
       "5. '/home/user/data3/lit/project/sORFs/01-ribo-seq/mouse_brain_output_20241011//2019_multispecies_mouse_brain/ERR2812383/output/Ribo-ORFs/RibORF/stat.cutoff.txt'\n",
       "6. '/home/user/data3/lit/project/sORFs/01-ribo-seq/mouse_brain_output_20241011//2019_multispecies_mouse_brain/ERR2812384/output/Ribo-ORFs/RibORF/stat.cutoff.txt'\n",
       "7. '/home/user/data3/lit/project/sORFs/01-ribo-seq/mouse_brain_output_20241011//2020_NAR_WangH_E15.5_P42/SRR11218268/output/Ribo-ORFs/RibORF/stat.cutoff.txt'\n",
       "8. '/home/user/data3/lit/project/sORFs/01-ribo-seq/mouse_brain_output_20241011//2020_NAR_WangH_E15.5_P42/SRR11218269/output/Ribo-ORFs/RibORF/stat.cutoff.txt'\n",
       "9. '/home/user/data3/lit/project/sORFs/01-ribo-seq/mouse_brain_output_20241011//2020_NAR_WangH_E15.5_P42/SRR5262884/output/Ribo-ORFs/RibORF/stat.cutoff.txt'\n",
       "10. '/home/user/data3/lit/project/sORFs/01-ribo-seq/mouse_brain_output_20241011//2020_NAR_WangH_E15.5_P42/SRR5262885/output/Ribo-ORFs/RibORF/stat.cutoff.txt'\n",
       "\n",
       "\n"
      ],
      "text/plain": [
       " [1] \"/home/user/data3/lit/project/sORFs/01-ribo-seq/mouse_brain_output_20241011//2015_Science_ChoJ_hippocampus/SRR2163083/output/Ribo-ORFs/RibORF/stat.cutoff.txt\"\n",
       " [2] \"/home/user/data3/lit/project/sORFs/01-ribo-seq/mouse_brain_output_20241011//2015_Science_ChoJ_hippocampus/SRR2163093/output/Ribo-ORFs/RibORF/stat.cutoff.txt\"\n",
       " [3] \"/home/user/data3/lit/project/sORFs/01-ribo-seq/mouse_brain_output_20241011//2015_Science_ChoJ_hippocampus/SRR2163103/output/Ribo-ORFs/RibORF/stat.cutoff.txt\"\n",
       " [4] \"/home/user/data3/lit/project/sORFs/01-ribo-seq/mouse_brain_output_20241011//2019_multispecies_mouse_brain/ERR2812382/output/Ribo-ORFs/RibORF/stat.cutoff.txt\"\n",
       " [5] \"/home/user/data3/lit/project/sORFs/01-ribo-seq/mouse_brain_output_20241011//2019_multispecies_mouse_brain/ERR2812383/output/Ribo-ORFs/RibORF/stat.cutoff.txt\"\n",
       " [6] \"/home/user/data3/lit/project/sORFs/01-ribo-seq/mouse_brain_output_20241011//2019_multispecies_mouse_brain/ERR2812384/output/Ribo-ORFs/RibORF/stat.cutoff.txt\"\n",
       " [7] \"/home/user/data3/lit/project/sORFs/01-ribo-seq/mouse_brain_output_20241011//2020_NAR_WangH_E15.5_P42/SRR11218268/output/Ribo-ORFs/RibORF/stat.cutoff.txt\"    \n",
       " [8] \"/home/user/data3/lit/project/sORFs/01-ribo-seq/mouse_brain_output_20241011//2020_NAR_WangH_E15.5_P42/SRR11218269/output/Ribo-ORFs/RibORF/stat.cutoff.txt\"    \n",
       " [9] \"/home/user/data3/lit/project/sORFs/01-ribo-seq/mouse_brain_output_20241011//2020_NAR_WangH_E15.5_P42/SRR5262884/output/Ribo-ORFs/RibORF/stat.cutoff.txt\"     \n",
       "[10] \"/home/user/data3/lit/project/sORFs/01-ribo-seq/mouse_brain_output_20241011//2020_NAR_WangH_E15.5_P42/SRR5262885/output/Ribo-ORFs/RibORF/stat.cutoff.txt\"     "
      ]
     },
     "metadata": {},
     "output_type": "display_data"
    }
   ],
   "source": [
    "stat_files_1"
   ]
  },
  {
   "cell_type": "code",
   "execution_count": 45,
   "id": "5ee5cfdd",
   "metadata": {
    "collapsed": true
   },
   "outputs": [
    {
     "name": "stderr",
     "output_type": "stream",
     "text": [
      "Warning message in regularize.values(x, y, ties, missing(ties)):\n",
      "“collapsing to unique 'x' values”\n",
      "Warning message in regularize.values(x, y, ties, missing(ties)):\n",
      "“collapsing to unique 'x' values”\n",
      "Warning message in regularize.values(x, y, ties, missing(ties)):\n",
      "“collapsing to unique 'x' values”\n",
      "Warning message in regularize.values(x, y, ties, missing(ties)):\n",
      "“collapsing to unique 'x' values”\n",
      "Warning message in regularize.values(x, y, ties, missing(ties)):\n",
      "“collapsing to unique 'x' values”\n",
      "Warning message in regularize.values(x, y, ties, missing(ties)):\n",
      "“collapsing to unique 'x' values”\n",
      "Warning message in regularize.values(x, y, ties, missing(ties)):\n",
      "“collapsing to unique 'x' values”\n",
      "Warning message in regularize.values(x, y, ties, missing(ties)):\n",
      "“collapsing to unique 'x' values”\n",
      "Warning message in regularize.values(x, y, ties, missing(ties)):\n",
      "“collapsing to unique 'x' values”\n",
      "Warning message in regularize.values(x, y, ties, missing(ties)):\n",
      "“collapsing to unique 'x' values”\n"
     ]
    }
   ],
   "source": [
    "lapply(stat_files_1,get_sample_riborf_model_stat) -> l\n",
    "do.call(rbind,l) -> sample_riborf_model_stat"
   ]
  },
  {
   "cell_type": "code",
   "execution_count": 50,
   "id": "fcc870a5",
   "metadata": {},
   "outputs": [
    {
     "data": {
      "text/html": [
       "<table class=\"dataframe\">\n",
       "<caption>A data.frame: 27 × 7</caption>\n",
       "<thead>\n",
       "\t<tr><th scope=col>Youden_cutoff</th><th scope=col>Youden_tpr</th><th scope=col>Youden_fpr</th><th scope=col>Custom_cutoff</th><th scope=col>Custom_tpr</th><th scope=col>Custom_fpr</th><th scope=col>AUC</th></tr>\n",
       "\t<tr><th scope=col>&lt;dbl&gt;</th><th scope=col>&lt;dbl&gt;</th><th scope=col>&lt;dbl&gt;</th><th scope=col>&lt;dbl&gt;</th><th scope=col>&lt;dbl&gt;</th><th scope=col>&lt;dbl&gt;</th><th scope=col>&lt;dbl&gt;</th></tr>\n",
       "</thead>\n",
       "<tbody>\n",
       "\t<tr><td>0.415</td><td>0.979</td><td>0.02485714</td><td>0.250</td><td>0.994</td><td>0.09857143</td><td>0.9953495</td></tr>\n",
       "\t<tr><td>0.415</td><td>0.979</td><td>0.02485714</td><td>0.255</td><td>0.994</td><td>0.09657143</td><td>0.9953495</td></tr>\n",
       "\t<tr><td>0.415</td><td>0.979</td><td>0.02485714</td><td>0.260</td><td>0.994</td><td>0.09542857</td><td>0.9953495</td></tr>\n",
       "\t<tr><td>0.415</td><td>0.979</td><td>0.02485714</td><td>0.265</td><td>0.994</td><td>0.09228571</td><td>0.9953495</td></tr>\n",
       "\t<tr><td>0.415</td><td>0.979</td><td>0.02485714</td><td>0.270</td><td>0.994</td><td>0.08942857</td><td>0.9953495</td></tr>\n",
       "\t<tr><td>0.415</td><td>0.979</td><td>0.02485714</td><td>0.275</td><td>0.994</td><td>0.08628571</td><td>0.9953495</td></tr>\n",
       "\t<tr><td>0.415</td><td>0.979</td><td>0.02485714</td><td>0.280</td><td>0.994</td><td>0.08257143</td><td>0.9953495</td></tr>\n",
       "\t<tr><td>0.415</td><td>0.979</td><td>0.02485714</td><td>0.285</td><td>0.994</td><td>0.08028571</td><td>0.9953495</td></tr>\n",
       "\t<tr><td>0.415</td><td>0.979</td><td>0.02485714</td><td>0.290</td><td>0.994</td><td>0.07628571</td><td>0.9953495</td></tr>\n",
       "\t<tr><td>0.375</td><td>0.988</td><td>0.03257143</td><td>0.265</td><td>0.998</td><td>0.09657143</td><td>0.9967378</td></tr>\n",
       "\t<tr><td>0.375</td><td>0.988</td><td>0.03257143</td><td>0.270</td><td>0.998</td><td>0.09314286</td><td>0.9967378</td></tr>\n",
       "\t<tr><td>0.365</td><td>0.978</td><td>0.03885714</td><td>0.235</td><td>0.992</td><td>0.09628571</td><td>0.9927397</td></tr>\n",
       "\t<tr><td>0.445</td><td>0.974</td><td>0.01971429</td><td>0.255</td><td>0.987</td><td>0.09942857</td><td>0.9938698</td></tr>\n",
       "\t<tr><td>0.445</td><td>0.974</td><td>0.01971429</td><td>0.260</td><td>0.987</td><td>0.09600000</td><td>0.9938698</td></tr>\n",
       "\t<tr><td>0.445</td><td>0.974</td><td>0.01971429</td><td>0.265</td><td>0.987</td><td>0.09257143</td><td>0.9938698</td></tr>\n",
       "\t<tr><td>0.445</td><td>0.974</td><td>0.01971429</td><td>0.270</td><td>0.987</td><td>0.09000000</td><td>0.9938698</td></tr>\n",
       "\t<tr><td>0.445</td><td>0.974</td><td>0.01971429</td><td>0.275</td><td>0.987</td><td>0.08771429</td><td>0.9938698</td></tr>\n",
       "\t<tr><td>0.490</td><td>0.972</td><td>0.01542857</td><td>0.255</td><td>0.993</td><td>0.10000000</td><td>0.9953019</td></tr>\n",
       "\t<tr><td>0.490</td><td>0.972</td><td>0.01542857</td><td>0.260</td><td>0.993</td><td>0.09857143</td><td>0.9953019</td></tr>\n",
       "\t<tr><td>0.490</td><td>0.972</td><td>0.01542857</td><td>0.265</td><td>0.993</td><td>0.09514286</td><td>0.9953019</td></tr>\n",
       "\t<tr><td>0.490</td><td>0.972</td><td>0.01542857</td><td>0.270</td><td>0.993</td><td>0.09285714</td><td>0.9953019</td></tr>\n",
       "\t<tr><td>0.455</td><td>0.965</td><td>0.02771429</td><td>0.280</td><td>0.992</td><td>0.09914286</td><td>0.9926479</td></tr>\n",
       "\t<tr><td>0.505</td><td>0.956</td><td>0.01485714</td><td>0.280</td><td>0.989</td><td>0.09914286</td><td>0.9927695</td></tr>\n",
       "\t<tr><td>0.505</td><td>0.956</td><td>0.01485714</td><td>0.285</td><td>0.989</td><td>0.09542857</td><td>0.9927695</td></tr>\n",
       "\t<tr><td>0.435</td><td>0.968</td><td>0.01600000</td><td>0.235</td><td>0.986</td><td>0.09742857</td><td>0.9928262</td></tr>\n",
       "\t<tr><td>0.480</td><td>0.961</td><td>0.01885714</td><td>0.285</td><td>0.985</td><td>0.09828571</td><td>0.9906766</td></tr>\n",
       "\t<tr><td>0.470</td><td>0.973</td><td>0.01457143</td><td>0.245</td><td>0.990</td><td>0.09857143</td><td>0.9939153</td></tr>\n",
       "</tbody>\n",
       "</table>\n"
      ],
      "text/latex": [
       "A data.frame: 27 × 7\n",
       "\\begin{tabular}{lllllll}\n",
       " Youden\\_cutoff & Youden\\_tpr & Youden\\_fpr & Custom\\_cutoff & Custom\\_tpr & Custom\\_fpr & AUC\\\\\n",
       " <dbl> & <dbl> & <dbl> & <dbl> & <dbl> & <dbl> & <dbl>\\\\\n",
       "\\hline\n",
       "\t 0.415 & 0.979 & 0.02485714 & 0.250 & 0.994 & 0.09857143 & 0.9953495\\\\\n",
       "\t 0.415 & 0.979 & 0.02485714 & 0.255 & 0.994 & 0.09657143 & 0.9953495\\\\\n",
       "\t 0.415 & 0.979 & 0.02485714 & 0.260 & 0.994 & 0.09542857 & 0.9953495\\\\\n",
       "\t 0.415 & 0.979 & 0.02485714 & 0.265 & 0.994 & 0.09228571 & 0.9953495\\\\\n",
       "\t 0.415 & 0.979 & 0.02485714 & 0.270 & 0.994 & 0.08942857 & 0.9953495\\\\\n",
       "\t 0.415 & 0.979 & 0.02485714 & 0.275 & 0.994 & 0.08628571 & 0.9953495\\\\\n",
       "\t 0.415 & 0.979 & 0.02485714 & 0.280 & 0.994 & 0.08257143 & 0.9953495\\\\\n",
       "\t 0.415 & 0.979 & 0.02485714 & 0.285 & 0.994 & 0.08028571 & 0.9953495\\\\\n",
       "\t 0.415 & 0.979 & 0.02485714 & 0.290 & 0.994 & 0.07628571 & 0.9953495\\\\\n",
       "\t 0.375 & 0.988 & 0.03257143 & 0.265 & 0.998 & 0.09657143 & 0.9967378\\\\\n",
       "\t 0.375 & 0.988 & 0.03257143 & 0.270 & 0.998 & 0.09314286 & 0.9967378\\\\\n",
       "\t 0.365 & 0.978 & 0.03885714 & 0.235 & 0.992 & 0.09628571 & 0.9927397\\\\\n",
       "\t 0.445 & 0.974 & 0.01971429 & 0.255 & 0.987 & 0.09942857 & 0.9938698\\\\\n",
       "\t 0.445 & 0.974 & 0.01971429 & 0.260 & 0.987 & 0.09600000 & 0.9938698\\\\\n",
       "\t 0.445 & 0.974 & 0.01971429 & 0.265 & 0.987 & 0.09257143 & 0.9938698\\\\\n",
       "\t 0.445 & 0.974 & 0.01971429 & 0.270 & 0.987 & 0.09000000 & 0.9938698\\\\\n",
       "\t 0.445 & 0.974 & 0.01971429 & 0.275 & 0.987 & 0.08771429 & 0.9938698\\\\\n",
       "\t 0.490 & 0.972 & 0.01542857 & 0.255 & 0.993 & 0.10000000 & 0.9953019\\\\\n",
       "\t 0.490 & 0.972 & 0.01542857 & 0.260 & 0.993 & 0.09857143 & 0.9953019\\\\\n",
       "\t 0.490 & 0.972 & 0.01542857 & 0.265 & 0.993 & 0.09514286 & 0.9953019\\\\\n",
       "\t 0.490 & 0.972 & 0.01542857 & 0.270 & 0.993 & 0.09285714 & 0.9953019\\\\\n",
       "\t 0.455 & 0.965 & 0.02771429 & 0.280 & 0.992 & 0.09914286 & 0.9926479\\\\\n",
       "\t 0.505 & 0.956 & 0.01485714 & 0.280 & 0.989 & 0.09914286 & 0.9927695\\\\\n",
       "\t 0.505 & 0.956 & 0.01485714 & 0.285 & 0.989 & 0.09542857 & 0.9927695\\\\\n",
       "\t 0.435 & 0.968 & 0.01600000 & 0.235 & 0.986 & 0.09742857 & 0.9928262\\\\\n",
       "\t 0.480 & 0.961 & 0.01885714 & 0.285 & 0.985 & 0.09828571 & 0.9906766\\\\\n",
       "\t 0.470 & 0.973 & 0.01457143 & 0.245 & 0.990 & 0.09857143 & 0.9939153\\\\\n",
       "\\end{tabular}\n"
      ],
      "text/markdown": [
       "\n",
       "A data.frame: 27 × 7\n",
       "\n",
       "| Youden_cutoff &lt;dbl&gt; | Youden_tpr &lt;dbl&gt; | Youden_fpr &lt;dbl&gt; | Custom_cutoff &lt;dbl&gt; | Custom_tpr &lt;dbl&gt; | Custom_fpr &lt;dbl&gt; | AUC &lt;dbl&gt; |\n",
       "|---|---|---|---|---|---|---|\n",
       "| 0.415 | 0.979 | 0.02485714 | 0.250 | 0.994 | 0.09857143 | 0.9953495 |\n",
       "| 0.415 | 0.979 | 0.02485714 | 0.255 | 0.994 | 0.09657143 | 0.9953495 |\n",
       "| 0.415 | 0.979 | 0.02485714 | 0.260 | 0.994 | 0.09542857 | 0.9953495 |\n",
       "| 0.415 | 0.979 | 0.02485714 | 0.265 | 0.994 | 0.09228571 | 0.9953495 |\n",
       "| 0.415 | 0.979 | 0.02485714 | 0.270 | 0.994 | 0.08942857 | 0.9953495 |\n",
       "| 0.415 | 0.979 | 0.02485714 | 0.275 | 0.994 | 0.08628571 | 0.9953495 |\n",
       "| 0.415 | 0.979 | 0.02485714 | 0.280 | 0.994 | 0.08257143 | 0.9953495 |\n",
       "| 0.415 | 0.979 | 0.02485714 | 0.285 | 0.994 | 0.08028571 | 0.9953495 |\n",
       "| 0.415 | 0.979 | 0.02485714 | 0.290 | 0.994 | 0.07628571 | 0.9953495 |\n",
       "| 0.375 | 0.988 | 0.03257143 | 0.265 | 0.998 | 0.09657143 | 0.9967378 |\n",
       "| 0.375 | 0.988 | 0.03257143 | 0.270 | 0.998 | 0.09314286 | 0.9967378 |\n",
       "| 0.365 | 0.978 | 0.03885714 | 0.235 | 0.992 | 0.09628571 | 0.9927397 |\n",
       "| 0.445 | 0.974 | 0.01971429 | 0.255 | 0.987 | 0.09942857 | 0.9938698 |\n",
       "| 0.445 | 0.974 | 0.01971429 | 0.260 | 0.987 | 0.09600000 | 0.9938698 |\n",
       "| 0.445 | 0.974 | 0.01971429 | 0.265 | 0.987 | 0.09257143 | 0.9938698 |\n",
       "| 0.445 | 0.974 | 0.01971429 | 0.270 | 0.987 | 0.09000000 | 0.9938698 |\n",
       "| 0.445 | 0.974 | 0.01971429 | 0.275 | 0.987 | 0.08771429 | 0.9938698 |\n",
       "| 0.490 | 0.972 | 0.01542857 | 0.255 | 0.993 | 0.10000000 | 0.9953019 |\n",
       "| 0.490 | 0.972 | 0.01542857 | 0.260 | 0.993 | 0.09857143 | 0.9953019 |\n",
       "| 0.490 | 0.972 | 0.01542857 | 0.265 | 0.993 | 0.09514286 | 0.9953019 |\n",
       "| 0.490 | 0.972 | 0.01542857 | 0.270 | 0.993 | 0.09285714 | 0.9953019 |\n",
       "| 0.455 | 0.965 | 0.02771429 | 0.280 | 0.992 | 0.09914286 | 0.9926479 |\n",
       "| 0.505 | 0.956 | 0.01485714 | 0.280 | 0.989 | 0.09914286 | 0.9927695 |\n",
       "| 0.505 | 0.956 | 0.01485714 | 0.285 | 0.989 | 0.09542857 | 0.9927695 |\n",
       "| 0.435 | 0.968 | 0.01600000 | 0.235 | 0.986 | 0.09742857 | 0.9928262 |\n",
       "| 0.480 | 0.961 | 0.01885714 | 0.285 | 0.985 | 0.09828571 | 0.9906766 |\n",
       "| 0.470 | 0.973 | 0.01457143 | 0.245 | 0.990 | 0.09857143 | 0.9939153 |\n",
       "\n"
      ],
      "text/plain": [
       "   Youden_cutoff Youden_tpr Youden_fpr Custom_cutoff Custom_tpr Custom_fpr\n",
       "1  0.415         0.979      0.02485714 0.250         0.994      0.09857143\n",
       "2  0.415         0.979      0.02485714 0.255         0.994      0.09657143\n",
       "3  0.415         0.979      0.02485714 0.260         0.994      0.09542857\n",
       "4  0.415         0.979      0.02485714 0.265         0.994      0.09228571\n",
       "5  0.415         0.979      0.02485714 0.270         0.994      0.08942857\n",
       "6  0.415         0.979      0.02485714 0.275         0.994      0.08628571\n",
       "7  0.415         0.979      0.02485714 0.280         0.994      0.08257143\n",
       "8  0.415         0.979      0.02485714 0.285         0.994      0.08028571\n",
       "9  0.415         0.979      0.02485714 0.290         0.994      0.07628571\n",
       "10 0.375         0.988      0.03257143 0.265         0.998      0.09657143\n",
       "11 0.375         0.988      0.03257143 0.270         0.998      0.09314286\n",
       "12 0.365         0.978      0.03885714 0.235         0.992      0.09628571\n",
       "13 0.445         0.974      0.01971429 0.255         0.987      0.09942857\n",
       "14 0.445         0.974      0.01971429 0.260         0.987      0.09600000\n",
       "15 0.445         0.974      0.01971429 0.265         0.987      0.09257143\n",
       "16 0.445         0.974      0.01971429 0.270         0.987      0.09000000\n",
       "17 0.445         0.974      0.01971429 0.275         0.987      0.08771429\n",
       "18 0.490         0.972      0.01542857 0.255         0.993      0.10000000\n",
       "19 0.490         0.972      0.01542857 0.260         0.993      0.09857143\n",
       "20 0.490         0.972      0.01542857 0.265         0.993      0.09514286\n",
       "21 0.490         0.972      0.01542857 0.270         0.993      0.09285714\n",
       "22 0.455         0.965      0.02771429 0.280         0.992      0.09914286\n",
       "23 0.505         0.956      0.01485714 0.280         0.989      0.09914286\n",
       "24 0.505         0.956      0.01485714 0.285         0.989      0.09542857\n",
       "25 0.435         0.968      0.01600000 0.235         0.986      0.09742857\n",
       "26 0.480         0.961      0.01885714 0.285         0.985      0.09828571\n",
       "27 0.470         0.973      0.01457143 0.245         0.990      0.09857143\n",
       "   AUC      \n",
       "1  0.9953495\n",
       "2  0.9953495\n",
       "3  0.9953495\n",
       "4  0.9953495\n",
       "5  0.9953495\n",
       "6  0.9953495\n",
       "7  0.9953495\n",
       "8  0.9953495\n",
       "9  0.9953495\n",
       "10 0.9967378\n",
       "11 0.9967378\n",
       "12 0.9927397\n",
       "13 0.9938698\n",
       "14 0.9938698\n",
       "15 0.9938698\n",
       "16 0.9938698\n",
       "17 0.9938698\n",
       "18 0.9953019\n",
       "19 0.9953019\n",
       "20 0.9953019\n",
       "21 0.9953019\n",
       "22 0.9926479\n",
       "23 0.9927695\n",
       "24 0.9927695\n",
       "25 0.9928262\n",
       "26 0.9906766\n",
       "27 0.9939153"
      ]
     },
     "metadata": {},
     "output_type": "display_data"
    }
   ],
   "source": [
    "sample_riborf_model_stat\n",
    "write.table(sample_riborf_model_stat,\"./mouse_brain_output_20241011/sample_riborf_model_stat.txt\",sep = '\\t',row.names = F,quote = F)"
   ]
  }
 ],
 "metadata": {
  "kernelspec": {
   "display_name": "R 4.3",
   "language": "R",
   "name": "ir43"
  },
  "language_info": {
   "codemirror_mode": "r",
   "file_extension": ".r",
   "mimetype": "text/x-r-source",
   "name": "R",
   "pygments_lexer": "r",
   "version": "4.3.1"
  },
  "toc": {
   "base_numbering": 1,
   "nav_menu": {},
   "number_sections": true,
   "sideBar": true,
   "skip_h1_title": false,
   "title_cell": "Table of Contents",
   "title_sidebar": "Contents",
   "toc_cell": false,
   "toc_position": {},
   "toc_section_display": true,
   "toc_window_display": false
  }
 },
 "nbformat": 4,
 "nbformat_minor": 5
}
