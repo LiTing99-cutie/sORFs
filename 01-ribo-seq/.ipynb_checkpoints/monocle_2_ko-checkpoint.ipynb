{
 "cells": [
  {
   "cell_type": "code",
   "execution_count": 1,
   "id": "84d8aae3",
   "metadata": {
    "collapsed": true
   },
   "outputs": [
    {
     "name": "stderr",
     "output_type": "stream",
     "text": [
      "Loading required package: Matrix\n",
      "\n",
      "Loading required package: Biobase\n",
      "\n",
      "Loading required package: BiocGenerics\n",
      "\n",
      "\n",
      "Attaching package: ‘BiocGenerics’\n",
      "\n",
      "\n",
      "The following objects are masked from ‘package:stats’:\n",
      "\n",
      "    IQR, mad, sd, var, xtabs\n",
      "\n",
      "\n",
      "The following objects are masked from ‘package:base’:\n",
      "\n",
      "    anyDuplicated, aperm, append, as.data.frame, basename, cbind,\n",
      "    colnames, dirname, do.call, duplicated, eval, evalq, Filter, Find,\n",
      "    get, grep, grepl, intersect, is.unsorted, lapply, Map, mapply,\n",
      "    match, mget, order, paste, pmax, pmax.int, pmin, pmin.int,\n",
      "    Position, rank, rbind, Reduce, rownames, sapply, setdiff, sort,\n",
      "    table, tapply, union, unique, unsplit, which.max, which.min\n",
      "\n",
      "\n",
      "Welcome to Bioconductor\n",
      "\n",
      "    Vignettes contain introductory material; view with\n",
      "    'browseVignettes()'. To cite Bioconductor, see\n",
      "    'citation(\"Biobase\")', and for packages 'citation(\"pkgname\")'.\n",
      "\n",
      "\n",
      "Loading required package: ggplot2\n",
      "\n",
      "Loading required package: VGAM\n",
      "\n",
      "Loading required package: stats4\n",
      "\n",
      "Loading required package: splines\n",
      "\n",
      "Loading required package: DDRTree\n",
      "\n",
      "Loading required package: irlba\n",
      "\n",
      "The legacy packages maptools, rgdal, and rgeos, underpinning the sp package,\n",
      "which was just loaded, will retire in October 2023.\n",
      "Please refer to R-spatial evolution reports for details, especially\n",
      "https://r-spatial.org/r/2023/05/15/evolution4.html.\n",
      "It may be desirable to make the sf package available;\n",
      "package maintainers should consider adding sf to Suggests:.\n",
      "The sp package is now running under evolution status 2\n",
      "     (status 2 uses the sf package in place of rgdal)\n",
      "\n",
      "Attaching SeuratObject\n",
      "\n"
     ]
    },
    {
     "data": {
      "text/plain": [
       "[1] ‘2.28.0’"
      ]
     },
     "metadata": {},
     "output_type": "display_data"
    },
    {
     "data": {
      "text/plain": [
       "[1] ‘4.0.5’"
      ]
     },
     "metadata": {},
     "output_type": "display_data"
    }
   ],
   "source": [
    "# 加载R包\n",
    "library(monocle)\n",
    "library(Seurat)\n",
    "packageVersion(\"monocle\")\n",
    "packageVersion(\"Seurat\")"
   ]
  },
  {
   "cell_type": "markdown",
   "id": "9dfe0caa",
   "metadata": {},
   "source": [
    "# 过滤低表达基因"
   ]
  },
  {
   "cell_type": "code",
   "execution_count": 3,
   "id": "926a9bed",
   "metadata": {},
   "outputs": [],
   "source": [
    "D60_KO_monocle <- readRDS(\"/home/user/data2/lit/project/ZNF271/04-scRNA_seq/change_annotation_ref/20241224_monocle/D60_KO_monocle.rds\")\n",
    "D60_KO_monocle <- detectGenes(D60_KO_monocle, min_expr = 0.1)\n",
    "expressed_genes <- row.names(subset(fData(D60_KO_monocle),\n",
    "    num_cells_expressed >= 10))"
   ]
  },
  {
   "cell_type": "markdown",
   "id": "895e9558",
   "metadata": {},
   "source": [
    "# 选择基因"
   ]
  },
  {
   "cell_type": "markdown",
   "id": "769512ff",
   "metadata": {},
   "source": [
    "## 方法一"
   ]
  },
  {
   "cell_type": "code",
   "execution_count": 4,
   "id": "32424547",
   "metadata": {},
   "outputs": [
    {
     "data": {
      "text/plain": [
       "[1] \"2024-12-25 16:12:21 CST\""
      ]
     },
     "metadata": {},
     "output_type": "display_data"
    },
    {
     "name": "stdout",
     "output_type": "stream",
     "text": [
      "Trajectory step 1: choose genes that define a cell's progress"
     ]
    },
    {
     "data": {
      "text/plain": [
       "[1] \"2024-12-25 16:19:46 CST\""
      ]
     },
     "metadata": {},
     "output_type": "display_data"
    }
   ],
   "source": [
    "Sys.time()\n",
    "cat(\"Trajectory step 1: choose genes that define a cell's progress\")\n",
    "diff_test_res <- differentialGeneTest(D60_KO_monocle[expressed_genes,],fullModelFormulaStr = \"~  cellType\",cores = 10)\n",
    "ordering_genes <- row.names (subset(diff_test_res, qval < 0.01))\n",
    "Sys.time()"
   ]
  },
  {
   "cell_type": "code",
   "execution_count": null,
   "id": "aae87ff8",
   "metadata": {},
   "outputs": [
    {
     "data": {
      "text/plain": [
       "[1] \"2024-12-25 16:19:46 CST\""
      ]
     },
     "metadata": {},
     "output_type": "display_data"
    },
    {
     "name": "stderr",
     "output_type": "stream",
     "text": [
      "Warning message:\n",
      "“\u001b[1m\u001b[22mTransformation introduced infinite values in continuous y-axis”\n",
      "Warning message:\n",
      "“\u001b[1m\u001b[22mTransformation introduced infinite values in continuous y-axis”\n"
     ]
    },
    {
     "data": {
      "text/plain": [
       "[1] \"2024-12-25 16:19:48 CST\""
      ]
     },
     "metadata": {},
     "output_type": "display_data"
    },
    {
     "name": "stdout",
     "output_type": "stream",
     "text": [
      "Trajectory step 2: reduce data dimensionality"
     ]
    }
   ],
   "source": [
    "Sys.time()\n",
    "D60_KO_monocle <- setOrderingFilter(D60_KO_monocle, ordering_genes)\n",
    "plot_ordering_genes(D60_KO_monocle)\n",
    "Sys.time()\n",
    "cat(\"Trajectory step 2: reduce data dimensionality\")\n",
    "D60_KO_monocle <- reduceDimension(D60_KO_monocle,method = 'DDRTree')\n",
    "Sys.time()\n",
    "cat(\"Trajectory step 3: order cells along the trajectory\")\n",
    "D60_KO_monocle <- orderCells(D60_KO_monocle)\n",
    "plot_cell_trajectory(D60_KO_monocle, color_by = \"cellType\")\n",
    "Sys.time()"
   ]
  },
  {
   "cell_type": "markdown",
   "id": "231208c7",
   "metadata": {},
   "source": [
    "## 方法二"
   ]
  },
  {
   "cell_type": "code",
   "execution_count": null,
   "id": "32d4c99f",
   "metadata": {},
   "outputs": [],
   "source": [
    "Sys.time()\n",
    "cat(\"start\")\n",
    "disp_table <- dispersionTable(D60_KO_monocle)\n",
    "ordering_genes_1 <- subset(disp_table,\n",
    "                  mean_expression >= 0.5 &\n",
    "                  dispersion_empirical >= 1 * dispersion_fit)$gene_id\n",
    "Sys.time()\n",
    "cat(\"done\")"
   ]
  },
  {
   "cell_type": "code",
   "execution_count": null,
   "id": "28f25af4",
   "metadata": {},
   "outputs": [],
   "source": [
    "Sys.time()\n",
    "D60_KO_monocle <- setOrderingFilter(D60_KO_monocle, ordering_genes_1)\n",
    "plot_ordering_genes(D60_KO_monocle)\n",
    "Sys.time()\n",
    "cat(\"Trajectory step 2: reduce data dimensionality\")\n",
    "D60_KO_monocle <- reduceDimension(D60_KO_monocle,method = 'DDRTree')\n",
    "Sys.time()\n",
    "cat(\"Trajectory step 3: order cells along the trajectory\")\n",
    "D60_KO_monocle <- orderCells(D60_KO_monocle)\n",
    "plot_cell_trajectory(D60_KO_monocle, color_by = \"cellType\")\n",
    "Sys.time()"
   ]
  }
 ],
 "metadata": {
  "kernelspec": {
   "display_name": "R_default_4.2",
   "language": "R",
   "name": "r_default_4.2"
  },
  "language_info": {
   "codemirror_mode": "r",
   "file_extension": ".r",
   "mimetype": "text/x-r-source",
   "name": "R",
   "pygments_lexer": "r",
   "version": "4.2.1"
  },
  "toc": {
   "base_numbering": 1,
   "nav_menu": {},
   "number_sections": true,
   "sideBar": true,
   "skip_h1_title": false,
   "title_cell": "Table of Contents",
   "title_sidebar": "Contents",
   "toc_cell": false,
   "toc_position": {},
   "toc_section_display": true,
   "toc_window_display": false
  }
 },
 "nbformat": 4,
 "nbformat_minor": 5
}
