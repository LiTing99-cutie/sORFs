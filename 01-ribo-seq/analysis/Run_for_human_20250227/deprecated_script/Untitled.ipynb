{
 "cells": [
  {
   "cell_type": "code",
   "execution_count": 1,
   "id": "611e271b",
   "metadata": {},
   "outputs": [],
   "source": [
    "setwd(\"/home/user/data3/lit/project/sORFs/01-ribo-seq/analysis/Run_for_human_20250227\")"
   ]
  },
  {
   "cell_type": "code",
   "execution_count": null,
   "id": "c3904e5f",
   "metadata": {},
   "outputs": [
    {
     "name": "stderr",
     "output_type": "stream",
     "text": [
      "also installing the dependencies ‘systemfonts’, ‘credentials’, ‘zip’, ‘gitcreds’, ‘ini’, ‘curl’, ‘textshaping’, ‘tinytex’, ‘htmltools’, ‘diffobj’, ‘gert’, ‘gh’, ‘rprojroot’, ‘rstudioapi’, ‘whisker’, ‘callr’, ‘processx’, ‘downlit’, ‘httr2’, ‘ragg’, ‘rmarkdown’, ‘xml2’, ‘htmlwidgets’, ‘xopen’, ‘brew’, ‘brio’, ‘evaluate’, ‘praise’, ‘ps’, ‘waldo’, ‘withr’, ‘usethis’, ‘desc’, ‘miniUI’, ‘pkgbuild’, ‘pkgdown’, ‘pkgload’, ‘profvis’, ‘rcmdcheck’, ‘remotes’, ‘roxygen2’, ‘rversions’, ‘sessioninfo’, ‘testthat’, ‘urlchecker’\n",
      "\n",
      "\n",
      "Warning message in install.packages(\"devtools\"):\n",
      "“installation of package ‘gert’ had non-zero exit status”\n",
      "Warning message in install.packages(\"devtools\"):\n",
      "“installation of package ‘ragg’ had non-zero exit status”\n",
      "Warning message in install.packages(\"devtools\"):\n",
      "“installation of package ‘xopen’ had non-zero exit status”\n",
      "Warning message in install.packages(\"devtools\"):\n",
      "“installation of package ‘usethis’ had non-zero exit status”\n"
     ]
    }
   ],
   "source": [
    "install.packages(\"devtools\")\n",
    "library(\"devtools\")\n",
    "install_github(repo = \"lcalviell/Ribo-seQC\")"
   ]
  },
  {
   "cell_type": "code",
   "execution_count": 2,
   "id": "ca1ba29e",
   "metadata": {},
   "outputs": [
    {
     "ename": "ERROR",
     "evalue": "Error in library(\"RiboseQC\"): there is no package called ‘RiboseQC’\n",
     "output_type": "error",
     "traceback": [
      "Error in library(\"RiboseQC\"): there is no package called ‘RiboseQC’\nTraceback:\n",
      "1. library(\"RiboseQC\")"
     ]
    }
   ],
   "source": [
    "library(\"RiboseQC\")\n",
    "prepare_annotation_files(annotation_directory = \"RiboseQC_output\",\n",
    "                         twobit_file = \"/home/user/data/lit/database/public/genome/hg38/hg38.2bit\",\n",
    "                         gtf_file = \"/home/user/data2/lit/project/ZNF271/data/annotation/gencode.v41.annotation.gtf\",scientific_name = \"Homo.sapiens\",\n",
    "                         annotation_name = \"gencv41\",export_bed_tables_TxDb = F,forge_BSgenome = F,create_TxDb = T)"
   ]
  }
 ],
 "metadata": {
  "kernelspec": {
   "display_name": "R 4.3",
   "language": "R",
   "name": "ir43"
  },
  "language_info": {
   "codemirror_mode": "r",
   "file_extension": ".r",
   "mimetype": "text/x-r-source",
   "name": "R",
   "pygments_lexer": "r",
   "version": "4.3.1"
  },
  "toc": {
   "base_numbering": 1,
   "nav_menu": {},
   "number_sections": true,
   "sideBar": true,
   "skip_h1_title": false,
   "title_cell": "Table of Contents",
   "title_sidebar": "Contents",
   "toc_cell": false,
   "toc_position": {},
   "toc_section_display": true,
   "toc_window_display": false
  }
 },
 "nbformat": 4,
 "nbformat_minor": 5
}
