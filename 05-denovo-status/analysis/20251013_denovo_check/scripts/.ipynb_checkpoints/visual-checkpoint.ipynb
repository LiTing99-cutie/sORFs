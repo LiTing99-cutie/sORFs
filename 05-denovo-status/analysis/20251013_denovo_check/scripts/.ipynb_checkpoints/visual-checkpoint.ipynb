{
 "cells": [
  {
   "cell_type": "code",
   "execution_count": 44,
   "id": "f8e7e29b",
   "metadata": {
    "ExecuteTime": {
     "end_time": "2025-10-15T08:55:59.463111Z",
     "start_time": "2025-10-15T08:55:59.009Z"
    }
   },
   "outputs": [],
   "source": [
    "source(\"/home/user/data2/lit/bin/lit_utils.R\")\n",
    "source(\"/home/user/data3/lit/project/sORFs/sORFs.utils.R\")\n",
    "lib_text()\n",
    "lib_plot()\n",
    "library(colorspace)"
   ]
  },
  {
   "cell_type": "code",
   "execution_count": 45,
   "id": "85c87466",
   "metadata": {
    "ExecuteTime": {
     "end_time": "2025-10-15T08:56:01.934001Z",
     "start_time": "2025-10-15T08:56:01.484Z"
    }
   },
   "outputs": [],
   "source": [
    "ancestors_path <- \"/home/user/data3/lit/project/sORFs/05-denovo-status/analysis/20251013_denovo_check/processed/check_denovo/merged/merged_ancestors\"\n",
    "spec_out_path <- \"/home/user/data3/lit/project/sORFs/05-denovo-status/analysis/20251013_denovo_check/processed/check_denovo/merged/merged_spec.out\"\n",
    "times_in_genome_trans_path <- \"/home/user/data3/lit/project/sORFs/05-denovo-status/analysis/20251013_denovo_check/processed/blastp_check/times_in_genome_trans.txt\"\n",
    "outgroup_homolog.peptide_similarity_path <- \"/home/user/data3/lit/project/sORFs/05-denovo-status/analysis/20251013_denovo_check/processed/blastp_check/outgroup_homolog.peptide_similarity.txt\""
   ]
  },
  {
   "cell_type": "code",
   "execution_count": 46,
   "id": "ee828a3f",
   "metadata": {
    "ExecuteTime": {
     "end_time": "2025-10-15T08:56:03.625354Z",
     "start_time": "2025-10-15T08:56:03.183Z"
    }
   },
   "outputs": [],
   "source": [
    "map_path <- \"/home/user/data3/lit/project/sORFs/05-denovo-status/analysis/20251013_denovo_check/processed/work_mafsInRegion/safe_map_merged.tsv\""
   ]
  },
  {
   "cell_type": "code",
   "execution_count": 47,
   "id": "b8363a06",
   "metadata": {
    "ExecuteTime": {
     "end_time": "2025-10-15T08:56:05.214493Z",
     "start_time": "2025-10-15T08:56:04.509Z"
    }
   },
   "outputs": [],
   "source": [
    "# 读入进化分析的结果；注意这里只挑选了之前1070 list中类型为\"ncORF\",\"uORF\",\"uoORF\",\"dORF\",\"doORF\"的SEP拿去做进化分析\n",
    "fread_c(ancestors_path) -> ancestor\n",
    "fread_c(spec_out_path) -> spec.out\n",
    "read.table(times_in_genome_trans_path) -> times_in_genome_trans\n",
    "colnames(times_in_genome_trans) <- c(\"orf_id\",\"loc_times_blat\",\"gene_times_blastn\",\"gene_times_blastn_pc\")\n",
    "fread_c(outgroup_homolog.peptide_similarity_path) -> outgroup_homolog.peptide_similarity\n",
    "read.table(map_path) -> map"
   ]
  },
  {
   "cell_type": "code",
   "execution_count": 48,
   "id": "18710adf",
   "metadata": {
    "ExecuteTime": {
     "end_time": "2025-10-15T08:56:06.411930Z",
     "start_time": "2025-10-15T08:56:05.917Z"
    }
   },
   "outputs": [
    {
     "data": {
      "text/html": [
       "<table class=\"dataframe\">\n",
       "<caption>A data.frame: 1 × 9</caption>\n",
       "<thead>\n",
       "\t<tr><th></th><th scope=col>orf_id</th><th scope=col>sp</th><th scope=col>ev_age</th><th scope=col>syn_age</th><th scope=col>gained</th><th scope=col>gained_convergent</th><th scope=col>lost</th><th scope=col>denovo</th><th scope=col>seq</th></tr>\n",
       "\t<tr><th></th><th scope=col>&lt;chr&gt;</th><th scope=col>&lt;chr&gt;</th><th scope=col>&lt;chr&gt;</th><th scope=col>&lt;chr&gt;</th><th scope=col>&lt;int&gt;</th><th scope=col>&lt;int&gt;</th><th scope=col>&lt;int&gt;</th><th scope=col>&lt;int&gt;</th><th scope=col>&lt;chr&gt;</th></tr>\n",
       "</thead>\n",
       "<tbody>\n",
       "\t<tr><th scope=row>1</th><td>PB.4512.328__chr10__8__3611__138__198__noncoding__CTG</td><td>hg38</td><td>euarchontoglires</td><td>placentalia</td><td>2</td><td>1</td><td>1</td><td>1</td><td>LEQNQVVLILPPTPSHSPF</td></tr>\n",
       "</tbody>\n",
       "</table>\n"
      ],
      "text/latex": [
       "A data.frame: 1 × 9\n",
       "\\begin{tabular}{r|lllllllll}\n",
       "  & orf\\_id & sp & ev\\_age & syn\\_age & gained & gained\\_convergent & lost & denovo & seq\\\\\n",
       "  & <chr> & <chr> & <chr> & <chr> & <int> & <int> & <int> & <int> & <chr>\\\\\n",
       "\\hline\n",
       "\t1 & PB.4512.328\\_\\_chr10\\_\\_8\\_\\_3611\\_\\_138\\_\\_198\\_\\_noncoding\\_\\_CTG & hg38 & euarchontoglires & placentalia & 2 & 1 & 1 & 1 & LEQNQVVLILPPTPSHSPF\\\\\n",
       "\\end{tabular}\n"
      ],
      "text/markdown": [
       "\n",
       "A data.frame: 1 × 9\n",
       "\n",
       "| <!--/--> | orf_id &lt;chr&gt; | sp &lt;chr&gt; | ev_age &lt;chr&gt; | syn_age &lt;chr&gt; | gained &lt;int&gt; | gained_convergent &lt;int&gt; | lost &lt;int&gt; | denovo &lt;int&gt; | seq &lt;chr&gt; |\n",
       "|---|---|---|---|---|---|---|---|---|---|\n",
       "| 1 | PB.4512.328__chr10__8__3611__138__198__noncoding__CTG | hg38 | euarchontoglires | placentalia | 2 | 1 | 1 | 1 | LEQNQVVLILPPTPSHSPF |\n",
       "\n"
      ],
      "text/plain": [
       "  orf_id                                                sp   ev_age          \n",
       "1 PB.4512.328__chr10__8__3611__138__198__noncoding__CTG hg38 euarchontoglires\n",
       "  syn_age     gained gained_convergent lost denovo seq                \n",
       "1 placentalia 2      1                 1    1      LEQNQVVLILPPTPSHSPF"
      ]
     },
     "metadata": {},
     "output_type": "display_data"
    },
    {
     "data": {
      "text/html": [
       "<table class=\"dataframe\">\n",
       "<caption>A data.frame: 1 × 6</caption>\n",
       "<thead>\n",
       "\t<tr><th></th><th scope=col>orf_id</th><th scope=col>lineage</th><th scope=col>farthest species</th><th scope=col>pident</th><th scope=col>evalue</th><th scope=col>qcovs</th></tr>\n",
       "\t<tr><th></th><th scope=col>&lt;chr&gt;</th><th scope=col>&lt;chr&gt;</th><th scope=col>&lt;chr&gt;</th><th scope=col>&lt;dbl&gt;</th><th scope=col>&lt;dbl&gt;</th><th scope=col>&lt;dbl&gt;</th></tr>\n",
       "</thead>\n",
       "<tbody>\n",
       "\t<tr><th scope=row>1</th><td>PB.4512.328:chr10:+|8|3611:138:198|noncoding|CTG</td><td>catarrhini</td><td>PB.4512.328:chr10:+|8|3611:138:198|noncoding|CTG_PB.4512.328:chr10:+|8|3611:138:198|noncoding|CTG_nasLar1_1.000000_0</td><td>100</td><td>1.25e-11</td><td>100</td></tr>\n",
       "</tbody>\n",
       "</table>\n"
      ],
      "text/latex": [
       "A data.frame: 1 × 6\n",
       "\\begin{tabular}{r|llllll}\n",
       "  & orf\\_id & lineage & farthest species & pident & evalue & qcovs\\\\\n",
       "  & <chr> & <chr> & <chr> & <dbl> & <dbl> & <dbl>\\\\\n",
       "\\hline\n",
       "\t1 & PB.4512.328:chr10:+\\textbar{}8\\textbar{}3611:138:198\\textbar{}noncoding\\textbar{}CTG & catarrhini & PB.4512.328:chr10:+\\textbar{}8\\textbar{}3611:138:198\\textbar{}noncoding\\textbar{}CTG\\_PB.4512.328:chr10:+\\textbar{}8\\textbar{}3611:138:198\\textbar{}noncoding\\textbar{}CTG\\_nasLar1\\_1.000000\\_0 & 100 & 1.25e-11 & 100\\\\\n",
       "\\end{tabular}\n"
      ],
      "text/markdown": [
       "\n",
       "A data.frame: 1 × 6\n",
       "\n",
       "| <!--/--> | orf_id &lt;chr&gt; | lineage &lt;chr&gt; | farthest species &lt;chr&gt; | pident &lt;dbl&gt; | evalue &lt;dbl&gt; | qcovs &lt;dbl&gt; |\n",
       "|---|---|---|---|---|---|---|\n",
       "| 1 | PB.4512.328:chr10:+|8|3611:138:198|noncoding|CTG | catarrhini | PB.4512.328:chr10:+|8|3611:138:198|noncoding|CTG_PB.4512.328:chr10:+|8|3611:138:198|noncoding|CTG_nasLar1_1.000000_0 | 100 | 1.25e-11 | 100 |\n",
       "\n"
      ],
      "text/plain": [
       "  orf_id                                           lineage   \n",
       "1 PB.4512.328:chr10:+|8|3611:138:198|noncoding|CTG catarrhini\n",
       "  farthest species                                                                                                    \n",
       "1 PB.4512.328:chr10:+|8|3611:138:198|noncoding|CTG_PB.4512.328:chr10:+|8|3611:138:198|noncoding|CTG_nasLar1_1.000000_0\n",
       "  pident evalue   qcovs\n",
       "1 100    1.25e-11 100  "
      ]
     },
     "metadata": {},
     "output_type": "display_data"
    },
    {
     "data": {
      "text/html": [
       "<table class=\"dataframe\">\n",
       "<caption>A data.frame: 1 × 4</caption>\n",
       "<thead>\n",
       "\t<tr><th></th><th scope=col>orf_id</th><th scope=col>loc_times_blat</th><th scope=col>gene_times_blastn</th><th scope=col>gene_times_blastn_pc</th></tr>\n",
       "\t<tr><th></th><th scope=col>&lt;chr&gt;</th><th scope=col>&lt;int&gt;</th><th scope=col>&lt;int&gt;</th><th scope=col>&lt;int&gt;</th></tr>\n",
       "</thead>\n",
       "<tbody>\n",
       "\t<tr><th scope=row>1</th><td>PB.11812.10:chr12:+|60|3292:748:880|iORF|ATG</td><td>1</td><td>1</td><td>1</td></tr>\n",
       "</tbody>\n",
       "</table>\n"
      ],
      "text/latex": [
       "A data.frame: 1 × 4\n",
       "\\begin{tabular}{r|llll}\n",
       "  & orf\\_id & loc\\_times\\_blat & gene\\_times\\_blastn & gene\\_times\\_blastn\\_pc\\\\\n",
       "  & <chr> & <int> & <int> & <int>\\\\\n",
       "\\hline\n",
       "\t1 & PB.11812.10:chr12:+\\textbar{}60\\textbar{}3292:748:880\\textbar{}iORF\\textbar{}ATG & 1 & 1 & 1\\\\\n",
       "\\end{tabular}\n"
      ],
      "text/markdown": [
       "\n",
       "A data.frame: 1 × 4\n",
       "\n",
       "| <!--/--> | orf_id &lt;chr&gt; | loc_times_blat &lt;int&gt; | gene_times_blastn &lt;int&gt; | gene_times_blastn_pc &lt;int&gt; |\n",
       "|---|---|---|---|---|\n",
       "| 1 | PB.11812.10:chr12:+|60|3292:748:880|iORF|ATG | 1 | 1 | 1 |\n",
       "\n"
      ],
      "text/plain": [
       "  orf_id                                       loc_times_blat gene_times_blastn\n",
       "1 PB.11812.10:chr12:+|60|3292:748:880|iORF|ATG 1              1                \n",
       "  gene_times_blastn_pc\n",
       "1 1                   "
      ]
     },
     "metadata": {},
     "output_type": "display_data"
    },
    {
     "data": {
      "text/html": [
       "<table class=\"dataframe\">\n",
       "<caption>A data.frame: 1 × 2</caption>\n",
       "<thead>\n",
       "\t<tr><th></th><th scope=col>Gene ID</th><th scope=col>Outgroup Homolog</th></tr>\n",
       "\t<tr><th></th><th scope=col>&lt;chr&gt;</th><th scope=col>&lt;chr&gt;</th></tr>\n",
       "</thead>\n",
       "<tbody>\n",
       "\t<tr><th scope=row>1</th><td>PB.11812.10:chr12:+|60|3292:748:880|iORF|ATG</td><td>human</td></tr>\n",
       "</tbody>\n",
       "</table>\n"
      ],
      "text/latex": [
       "A data.frame: 1 × 2\n",
       "\\begin{tabular}{r|ll}\n",
       "  & Gene ID & Outgroup Homolog\\\\\n",
       "  & <chr> & <chr>\\\\\n",
       "\\hline\n",
       "\t1 & PB.11812.10:chr12:+\\textbar{}60\\textbar{}3292:748:880\\textbar{}iORF\\textbar{}ATG & human\\\\\n",
       "\\end{tabular}\n"
      ],
      "text/markdown": [
       "\n",
       "A data.frame: 1 × 2\n",
       "\n",
       "| <!--/--> | Gene ID &lt;chr&gt; | Outgroup Homolog &lt;chr&gt; |\n",
       "|---|---|---|\n",
       "| 1 | PB.11812.10:chr12:+|60|3292:748:880|iORF|ATG | human |\n",
       "\n"
      ],
      "text/plain": [
       "  Gene ID                                      Outgroup Homolog\n",
       "1 PB.11812.10:chr12:+|60|3292:748:880|iORF|ATG human           "
      ]
     },
     "metadata": {},
     "output_type": "display_data"
    },
    {
     "data": {
      "text/html": [
       "<table class=\"dataframe\">\n",
       "<caption>A data.frame: 6 × 2</caption>\n",
       "<thead>\n",
       "\t<tr><th></th><th scope=col>V1</th><th scope=col>V2</th></tr>\n",
       "\t<tr><th></th><th scope=col>&lt;chr&gt;</th><th scope=col>&lt;chr&gt;</th></tr>\n",
       "</thead>\n",
       "<tbody>\n",
       "\t<tr><th scope=row>1</th><td>PB.28982.11__chr22__-__58__3646__605__737__noncoding__TTG</td><td>PB.28982.11:chr22:-|58|3646:605:737|noncoding|TTG   </td></tr>\n",
       "\t<tr><th scope=row>2</th><td>PB.28982.12__chr22__-__1__3307__3__291__noncoding__CTG   </td><td>PB.28982.12:chr22:-|1|3307:3:291|noncoding|CTG      </td></tr>\n",
       "\t<tr><th scope=row>3</th><td>PB.28982.4__chr22__-__2__2720__13__160__noncoding__TTG   </td><td>PB.28982.4:chr22:-|2|2720:13:160|noncoding|TTG      </td></tr>\n",
       "\t<tr><th scope=row>4</th><td>PB.28982.4__chr22__-__37__2720__444__648__noncoding__ATG </td><td>PB.28982.4:chr22:-|37|2720:444:648|noncoding|ATG    </td></tr>\n",
       "\t<tr><th scope=row>5</th><td>PB.28982.4__chr22__-__56__2720__617__653__noncoding__TTG </td><td>PB.28982.4:chr22:-|56|2720:617:653|noncoding|TTG    </td></tr>\n",
       "\t<tr><th scope=row>6</th><td>PB.28983.11__chr22__220__3269__3145__3262__noncoding__ATG</td><td>PB.28983.11:chr22:+|220|3269:3145:3262|noncoding|ATG</td></tr>\n",
       "</tbody>\n",
       "</table>\n"
      ],
      "text/latex": [
       "A data.frame: 6 × 2\n",
       "\\begin{tabular}{r|ll}\n",
       "  & V1 & V2\\\\\n",
       "  & <chr> & <chr>\\\\\n",
       "\\hline\n",
       "\t1 & PB.28982.11\\_\\_chr22\\_\\_-\\_\\_58\\_\\_3646\\_\\_605\\_\\_737\\_\\_noncoding\\_\\_TTG & PB.28982.11:chr22:-\\textbar{}58\\textbar{}3646:605:737\\textbar{}noncoding\\textbar{}TTG   \\\\\n",
       "\t2 & PB.28982.12\\_\\_chr22\\_\\_-\\_\\_1\\_\\_3307\\_\\_3\\_\\_291\\_\\_noncoding\\_\\_CTG    & PB.28982.12:chr22:-\\textbar{}1\\textbar{}3307:3:291\\textbar{}noncoding\\textbar{}CTG      \\\\\n",
       "\t3 & PB.28982.4\\_\\_chr22\\_\\_-\\_\\_2\\_\\_2720\\_\\_13\\_\\_160\\_\\_noncoding\\_\\_TTG    & PB.28982.4:chr22:-\\textbar{}2\\textbar{}2720:13:160\\textbar{}noncoding\\textbar{}TTG      \\\\\n",
       "\t4 & PB.28982.4\\_\\_chr22\\_\\_-\\_\\_37\\_\\_2720\\_\\_444\\_\\_648\\_\\_noncoding\\_\\_ATG  & PB.28982.4:chr22:-\\textbar{}37\\textbar{}2720:444:648\\textbar{}noncoding\\textbar{}ATG    \\\\\n",
       "\t5 & PB.28982.4\\_\\_chr22\\_\\_-\\_\\_56\\_\\_2720\\_\\_617\\_\\_653\\_\\_noncoding\\_\\_TTG  & PB.28982.4:chr22:-\\textbar{}56\\textbar{}2720:617:653\\textbar{}noncoding\\textbar{}TTG    \\\\\n",
       "\t6 & PB.28983.11\\_\\_chr22\\_\\_220\\_\\_3269\\_\\_3145\\_\\_3262\\_\\_noncoding\\_\\_ATG & PB.28983.11:chr22:+\\textbar{}220\\textbar{}3269:3145:3262\\textbar{}noncoding\\textbar{}ATG\\\\\n",
       "\\end{tabular}\n"
      ],
      "text/markdown": [
       "\n",
       "A data.frame: 6 × 2\n",
       "\n",
       "| <!--/--> | V1 &lt;chr&gt; | V2 &lt;chr&gt; |\n",
       "|---|---|---|\n",
       "| 1 | PB.28982.11__chr22__-__58__3646__605__737__noncoding__TTG | PB.28982.11:chr22:-|58|3646:605:737|noncoding|TTG    |\n",
       "| 2 | PB.28982.12__chr22__-__1__3307__3__291__noncoding__CTG    | PB.28982.12:chr22:-|1|3307:3:291|noncoding|CTG       |\n",
       "| 3 | PB.28982.4__chr22__-__2__2720__13__160__noncoding__TTG    | PB.28982.4:chr22:-|2|2720:13:160|noncoding|TTG       |\n",
       "| 4 | PB.28982.4__chr22__-__37__2720__444__648__noncoding__ATG  | PB.28982.4:chr22:-|37|2720:444:648|noncoding|ATG     |\n",
       "| 5 | PB.28982.4__chr22__-__56__2720__617__653__noncoding__TTG  | PB.28982.4:chr22:-|56|2720:617:653|noncoding|TTG     |\n",
       "| 6 | PB.28983.11__chr22__220__3269__3145__3262__noncoding__ATG | PB.28983.11:chr22:+|220|3269:3145:3262|noncoding|ATG |\n",
       "\n"
      ],
      "text/plain": [
       "  V1                                                       \n",
       "1 PB.28982.11__chr22__-__58__3646__605__737__noncoding__TTG\n",
       "2 PB.28982.12__chr22__-__1__3307__3__291__noncoding__CTG   \n",
       "3 PB.28982.4__chr22__-__2__2720__13__160__noncoding__TTG   \n",
       "4 PB.28982.4__chr22__-__37__2720__444__648__noncoding__ATG \n",
       "5 PB.28982.4__chr22__-__56__2720__617__653__noncoding__TTG \n",
       "6 PB.28983.11__chr22__220__3269__3145__3262__noncoding__ATG\n",
       "  V2                                                  \n",
       "1 PB.28982.11:chr22:-|58|3646:605:737|noncoding|TTG   \n",
       "2 PB.28982.12:chr22:-|1|3307:3:291|noncoding|CTG      \n",
       "3 PB.28982.4:chr22:-|2|2720:13:160|noncoding|TTG      \n",
       "4 PB.28982.4:chr22:-|37|2720:444:648|noncoding|ATG    \n",
       "5 PB.28982.4:chr22:-|56|2720:617:653|noncoding|TTG    \n",
       "6 PB.28983.11:chr22:+|220|3269:3145:3262|noncoding|ATG"
      ]
     },
     "metadata": {},
     "output_type": "display_data"
    }
   ],
   "source": [
    "head(ancestor,1)\n",
    "head(spec.out,1)\n",
    "head(times_in_genome_trans,1)\n",
    "head(outgroup_homolog.peptide_similarity,1)\n",
    "head(map)"
   ]
  },
  {
   "cell_type": "code",
   "execution_count": 49,
   "id": "d9e4f810",
   "metadata": {
    "ExecuteTime": {
     "end_time": "2025-10-15T08:56:07.931552Z",
     "start_time": "2025-10-15T08:56:07.270Z"
    }
   },
   "outputs": [],
   "source": [
    "merge(ancestor,map,by.x=\"orf_id\",by.y=\"V1\") %>% mutate(orf_id=NULL) %>% mutate(orf_id=V2) -> ancestor_1"
   ]
  },
  {
   "cell_type": "code",
   "execution_count": 50,
   "id": "7c07233c",
   "metadata": {
    "ExecuteTime": {
     "end_time": "2025-10-15T08:56:09.782937Z",
     "start_time": "2025-10-15T08:56:09.322Z"
    }
   },
   "outputs": [
    {
     "data": {
      "text/plain": [
       "\n",
       "   boreoeutheria       catarrhini euarchontoglires         hominoid \n",
       "            3541             1513             3954             1895 \n",
       "           human           mammal      placentalia         primates \n",
       "            1623             6946             7336             2964 \n",
       "   primatomorpha      simiiformes \n",
       "            1115             1365 "
      ]
     },
     "metadata": {},
     "output_type": "display_data"
    },
    {
     "data": {
      "text/plain": [
       "\n",
       "   boreoeutheria       catarrhini euarchontoglires         hominoid \n",
       "            1189              279              565              173 \n",
       "          mammal      placentalia         primates    primatomorpha \n",
       "           15296            13605              475              108 \n",
       "     simiiformes \n",
       "             562 "
      ]
     },
     "metadata": {},
     "output_type": "display_data"
    },
    {
     "data": {
      "text/plain": [
       "\n",
       "   boreoeutheria       catarrhini euarchontoglires         hominoid \n",
       "            2980             6393              716             4838 \n",
       "           human           mammal      placentalia         primates \n",
       "            4104             1246             4867              953 \n",
       "   primatomorpha      simiiformes \n",
       "             285             6138 "
      ]
     },
     "metadata": {},
     "output_type": "display_data"
    }
   ],
   "source": [
    "table(ancestor_1$ev_age)\n",
    "table(ancestor_1$syn_age)\n",
    "table(spec.out$lineage)"
   ]
  },
  {
   "cell_type": "code",
   "execution_count": 51,
   "id": "de8bf673",
   "metadata": {
    "ExecuteTime": {
     "end_time": "2025-10-15T08:56:11.845247Z",
     "start_time": "2025-10-15T08:56:10.983Z"
    }
   },
   "outputs": [],
   "source": [
    "# 读入newly detected SEP list\n",
    "# fread(\"./output/sep_add_basic_ms_ribo_info_group_retained.txt\") -> all_sep\n",
    "# ancestor$orf_id <- sub(ancestor$orf_id,pattern = \"__\",replacement = \":\")\n",
    "# spec.out$orf_id <- sub(spec.out$orf_id,pattern = \"__\",replacement = \":\")\n",
    "merge(ancestor_1[,c(\"orf_id\",\"ev_age\",\"syn_age\",\"denovo\")],spec.out[,c(\"orf_id\",\"lineage\")],all.y=T) -> m_evo\n",
    "m_evo$denovo[is.na(m_evo$denovo)] <- 1\n",
    "m_evo$ev_age[is.na(m_evo$ev_age)] <- \"human\"\n",
    "m_evo$syn_age[is.na(m_evo$syn_age)] <- \"human\"\n",
    "# merge(m_evo,all_sep,by.x=\"orf_id\",by.y=\"ORF_id_trans\") -> all_sep_m_evo\n",
    "# fwrite_c(all_sep_m_evo,\"./output/S8/all_sep_m_evo.txt\")\n",
    "\n",
    "merge(m_evo,times_in_genome_trans,by=\"orf_id\") %>% \n",
    "  merge(outgroup_homolog.peptide_similarity,by.x = \"orf_id\",by.y=\"Gene ID\") -> all_sep_m_evo_add_homolog\n",
    "\n",
    "filter(all_sep_m_evo_add_homolog,denovo==1) -> all_sep_m_evo_add_homolog_denovo\n",
    "\n",
    "all_sep_m_evo_add_homolog_denovo %>% filter(loc_times_blat<=1 & gene_times_blastn<=1 & gene_times_blastn_pc<=1) -> res_filter_paralog\n",
    "\n",
    "LEVELS <- c(\"human\",\"hominoid\",\"catarrhini\",\"simiiformes\",\"primates\",\"primatomorpha\",\"boreoeutheria\",\n",
    "            \"placentalia\",\"mammal\")\n",
    "res_filter_paralog$lineage <- factor(res_filter_paralog$lineage,levels=LEVELS)\n",
    "res_filter_paralog$`Outgroup Homolog` <- factor(res_filter_paralog$`Outgroup Homolog`,levels=LEVELS)\n",
    "res_filter_paralog$lineage_n <- as.numeric(res_filter_paralog$lineage)\n",
    "res_filter_paralog$`Outgroup Homolog n` <- as.numeric(res_filter_paralog$`Outgroup Homolog`)\n",
    "res_filter_paralog %>% filter(lineage_n>=`Outgroup Homolog n`) -> res_filter_paralog_ortholog"
   ]
  },
  {
   "cell_type": "code",
   "execution_count": 55,
   "id": "2ffda9c0",
   "metadata": {
    "ExecuteTime": {
     "end_time": "2025-10-15T08:57:14.026587Z",
     "start_time": "2025-10-15T08:57:13.537Z"
    }
   },
   "outputs": [
    {
     "data": {
      "text/html": [
       "<table class=\"dataframe\">\n",
       "<caption>A data.frame: 6 × 5</caption>\n",
       "<thead>\n",
       "\t<tr><th></th><th scope=col>orf_id</th><th scope=col>ev_age</th><th scope=col>syn_age</th><th scope=col>denovo</th><th scope=col>lineage</th></tr>\n",
       "\t<tr><th></th><th scope=col>&lt;chr&gt;</th><th scope=col>&lt;chr&gt;</th><th scope=col>&lt;chr&gt;</th><th scope=col>&lt;dbl&gt;</th><th scope=col>&lt;chr&gt;</th></tr>\n",
       "</thead>\n",
       "<tbody>\n",
       "\t<tr><th scope=row>1</th><td>PB.1.17:chr1:-|9|4332:86:152|noncoding|CTG        </td><td>euarchontoglires</td><td>placentalia</td><td>1</td><td>simiiformes  </td></tr>\n",
       "\t<tr><th scope=row>2</th><td>PB.1001.36:chr1:-|19|3214:305:440|uORF|ACG        </td><td>boreoeutheria   </td><td>mammal     </td><td>1</td><td>boreoeutheria</td></tr>\n",
       "\t<tr><th scope=row>3</th><td>PB.1001.41:chr1:-|232|3689:3159:3267|noncoding|ATG</td><td>hominoid        </td><td>placentalia</td><td>1</td><td>hominoid     </td></tr>\n",
       "\t<tr><th scope=row>4</th><td>PB.10020.9:chr12:+|69|1792:943:1027|noncoding|ATG </td><td>mammal          </td><td>mammal     </td><td>0</td><td>hominoid     </td></tr>\n",
       "\t<tr><th scope=row>5</th><td>PB.10021.2:chr12:-|165|2733:2446:2494|dORF|TTG    </td><td>euarchontoglires</td><td>placentalia</td><td>1</td><td>simiiformes  </td></tr>\n",
       "\t<tr><th scope=row>6</th><td>PB.10022.1:chr12:+|164|4074:3091:3292|dORF|TTG    </td><td>placentalia     </td><td>mammal     </td><td>1</td><td>human        </td></tr>\n",
       "</tbody>\n",
       "</table>\n"
      ],
      "text/latex": [
       "A data.frame: 6 × 5\n",
       "\\begin{tabular}{r|lllll}\n",
       "  & orf\\_id & ev\\_age & syn\\_age & denovo & lineage\\\\\n",
       "  & <chr> & <chr> & <chr> & <dbl> & <chr>\\\\\n",
       "\\hline\n",
       "\t1 & PB.1.17:chr1:-\\textbar{}9\\textbar{}4332:86:152\\textbar{}noncoding\\textbar{}CTG         & euarchontoglires & placentalia & 1 & simiiformes  \\\\\n",
       "\t2 & PB.1001.36:chr1:-\\textbar{}19\\textbar{}3214:305:440\\textbar{}uORF\\textbar{}ACG         & boreoeutheria    & mammal      & 1 & boreoeutheria\\\\\n",
       "\t3 & PB.1001.41:chr1:-\\textbar{}232\\textbar{}3689:3159:3267\\textbar{}noncoding\\textbar{}ATG & hominoid         & placentalia & 1 & hominoid     \\\\\n",
       "\t4 & PB.10020.9:chr12:+\\textbar{}69\\textbar{}1792:943:1027\\textbar{}noncoding\\textbar{}ATG  & mammal           & mammal      & 0 & hominoid     \\\\\n",
       "\t5 & PB.10021.2:chr12:-\\textbar{}165\\textbar{}2733:2446:2494\\textbar{}dORF\\textbar{}TTG     & euarchontoglires & placentalia & 1 & simiiformes  \\\\\n",
       "\t6 & PB.10022.1:chr12:+\\textbar{}164\\textbar{}4074:3091:3292\\textbar{}dORF\\textbar{}TTG     & placentalia      & mammal      & 1 & human        \\\\\n",
       "\\end{tabular}\n"
      ],
      "text/markdown": [
       "\n",
       "A data.frame: 6 × 5\n",
       "\n",
       "| <!--/--> | orf_id &lt;chr&gt; | ev_age &lt;chr&gt; | syn_age &lt;chr&gt; | denovo &lt;dbl&gt; | lineage &lt;chr&gt; |\n",
       "|---|---|---|---|---|---|\n",
       "| 1 | PB.1.17:chr1:-|9|4332:86:152|noncoding|CTG         | euarchontoglires | placentalia | 1 | simiiformes   |\n",
       "| 2 | PB.1001.36:chr1:-|19|3214:305:440|uORF|ACG         | boreoeutheria    | mammal      | 1 | boreoeutheria |\n",
       "| 3 | PB.1001.41:chr1:-|232|3689:3159:3267|noncoding|ATG | hominoid         | placentalia | 1 | hominoid      |\n",
       "| 4 | PB.10020.9:chr12:+|69|1792:943:1027|noncoding|ATG  | mammal           | mammal      | 0 | hominoid      |\n",
       "| 5 | PB.10021.2:chr12:-|165|2733:2446:2494|dORF|TTG     | euarchontoglires | placentalia | 1 | simiiformes   |\n",
       "| 6 | PB.10022.1:chr12:+|164|4074:3091:3292|dORF|TTG     | placentalia      | mammal      | 1 | human         |\n",
       "\n"
      ],
      "text/plain": [
       "  orf_id                                             ev_age          \n",
       "1 PB.1.17:chr1:-|9|4332:86:152|noncoding|CTG         euarchontoglires\n",
       "2 PB.1001.36:chr1:-|19|3214:305:440|uORF|ACG         boreoeutheria   \n",
       "3 PB.1001.41:chr1:-|232|3689:3159:3267|noncoding|ATG hominoid        \n",
       "4 PB.10020.9:chr12:+|69|1792:943:1027|noncoding|ATG  mammal          \n",
       "5 PB.10021.2:chr12:-|165|2733:2446:2494|dORF|TTG     euarchontoglires\n",
       "6 PB.10022.1:chr12:+|164|4074:3091:3292|dORF|TTG     placentalia     \n",
       "  syn_age     denovo lineage      \n",
       "1 placentalia 1      simiiformes  \n",
       "2 mammal      1      boreoeutheria\n",
       "3 placentalia 1      hominoid     \n",
       "4 mammal      0      hominoid     \n",
       "5 placentalia 1      simiiformes  \n",
       "6 mammal      1      human        "
      ]
     },
     "metadata": {},
     "output_type": "display_data"
    },
    {
     "data": {
      "text/html": [
       "<table class=\"dataframe\">\n",
       "<caption>A data.frame: 6 × 11</caption>\n",
       "<thead>\n",
       "\t<tr><th></th><th scope=col>orf_id</th><th scope=col>ev_age</th><th scope=col>syn_age</th><th scope=col>denovo</th><th scope=col>lineage</th><th scope=col>loc_times_blat</th><th scope=col>gene_times_blastn</th><th scope=col>gene_times_blastn_pc</th><th scope=col>Outgroup Homolog</th><th scope=col>lineage_n</th><th scope=col>Outgroup Homolog n</th></tr>\n",
       "\t<tr><th></th><th scope=col>&lt;chr&gt;</th><th scope=col>&lt;chr&gt;</th><th scope=col>&lt;chr&gt;</th><th scope=col>&lt;dbl&gt;</th><th scope=col>&lt;fct&gt;</th><th scope=col>&lt;int&gt;</th><th scope=col>&lt;int&gt;</th><th scope=col>&lt;int&gt;</th><th scope=col>&lt;fct&gt;</th><th scope=col>&lt;dbl&gt;</th><th scope=col>&lt;dbl&gt;</th></tr>\n",
       "</thead>\n",
       "<tbody>\n",
       "\t<tr><th scope=row>1</th><td>PB.10023.67:chr12:+|37|3613:976:1165|noncoding|TTG</td><td>boreoeutheria</td><td>mammal     </td><td>1</td><td>boreoeutheria</td><td>1</td><td>1</td><td>1</td><td>simiiformes</td><td>7</td><td>4</td></tr>\n",
       "\t<tr><th scope=row>2</th><td>PB.10024.77:chr12:-|1|1947:4:217|noncoding|ACG    </td><td>catarrhini   </td><td>placentalia</td><td>1</td><td>human        </td><td>1</td><td>1</td><td>1</td><td>human      </td><td>1</td><td>1</td></tr>\n",
       "\t<tr><th scope=row>3</th><td>PB.10031.41:chr12:-|33|1060:812:848|noncoding|ATG </td><td>mammal       </td><td>mammal     </td><td>1</td><td>mammal       </td><td>0</td><td>1</td><td>1</td><td>human      </td><td>9</td><td>1</td></tr>\n",
       "\t<tr><th scope=row>4</th><td>PB.10031.46:chr12:-|27|3239:430:454|iORF|ATG      </td><td>mammal       </td><td>mammal     </td><td>1</td><td>boreoeutheria</td><td>0</td><td>0</td><td>0</td><td>human      </td><td>7</td><td>1</td></tr>\n",
       "\t<tr><th scope=row>5</th><td>PB.10031.7:chr12:-|33|4296:430:472|noncoding|ATG  </td><td>boreoeutheria</td><td>mammal     </td><td>1</td><td>placentalia  </td><td>1</td><td>1</td><td>1</td><td>human      </td><td>8</td><td>1</td></tr>\n",
       "\t<tr><th scope=row>6</th><td>PB.1004.25:chr1:+|7|2053:69:318|iORF|GTG          </td><td>boreoeutheria</td><td>mammal     </td><td>1</td><td>placentalia  </td><td>1</td><td>1</td><td>1</td><td>human      </td><td>8</td><td>1</td></tr>\n",
       "</tbody>\n",
       "</table>\n"
      ],
      "text/latex": [
       "A data.frame: 6 × 11\n",
       "\\begin{tabular}{r|lllllllllll}\n",
       "  & orf\\_id & ev\\_age & syn\\_age & denovo & lineage & loc\\_times\\_blat & gene\\_times\\_blastn & gene\\_times\\_blastn\\_pc & Outgroup Homolog & lineage\\_n & Outgroup Homolog n\\\\\n",
       "  & <chr> & <chr> & <chr> & <dbl> & <fct> & <int> & <int> & <int> & <fct> & <dbl> & <dbl>\\\\\n",
       "\\hline\n",
       "\t1 & PB.10023.67:chr12:+\\textbar{}37\\textbar{}3613:976:1165\\textbar{}noncoding\\textbar{}TTG & boreoeutheria & mammal      & 1 & boreoeutheria & 1 & 1 & 1 & simiiformes & 7 & 4\\\\\n",
       "\t2 & PB.10024.77:chr12:-\\textbar{}1\\textbar{}1947:4:217\\textbar{}noncoding\\textbar{}ACG     & catarrhini    & placentalia & 1 & human         & 1 & 1 & 1 & human       & 1 & 1\\\\\n",
       "\t3 & PB.10031.41:chr12:-\\textbar{}33\\textbar{}1060:812:848\\textbar{}noncoding\\textbar{}ATG  & mammal        & mammal      & 1 & mammal        & 0 & 1 & 1 & human       & 9 & 1\\\\\n",
       "\t4 & PB.10031.46:chr12:-\\textbar{}27\\textbar{}3239:430:454\\textbar{}iORF\\textbar{}ATG       & mammal        & mammal      & 1 & boreoeutheria & 0 & 0 & 0 & human       & 7 & 1\\\\\n",
       "\t5 & PB.10031.7:chr12:-\\textbar{}33\\textbar{}4296:430:472\\textbar{}noncoding\\textbar{}ATG   & boreoeutheria & mammal      & 1 & placentalia   & 1 & 1 & 1 & human       & 8 & 1\\\\\n",
       "\t6 & PB.1004.25:chr1:+\\textbar{}7\\textbar{}2053:69:318\\textbar{}iORF\\textbar{}GTG           & boreoeutheria & mammal      & 1 & placentalia   & 1 & 1 & 1 & human       & 8 & 1\\\\\n",
       "\\end{tabular}\n"
      ],
      "text/markdown": [
       "\n",
       "A data.frame: 6 × 11\n",
       "\n",
       "| <!--/--> | orf_id &lt;chr&gt; | ev_age &lt;chr&gt; | syn_age &lt;chr&gt; | denovo &lt;dbl&gt; | lineage &lt;fct&gt; | loc_times_blat &lt;int&gt; | gene_times_blastn &lt;int&gt; | gene_times_blastn_pc &lt;int&gt; | Outgroup Homolog &lt;fct&gt; | lineage_n &lt;dbl&gt; | Outgroup Homolog n &lt;dbl&gt; |\n",
       "|---|---|---|---|---|---|---|---|---|---|---|---|\n",
       "| 1 | PB.10023.67:chr12:+|37|3613:976:1165|noncoding|TTG | boreoeutheria | mammal      | 1 | boreoeutheria | 1 | 1 | 1 | simiiformes | 7 | 4 |\n",
       "| 2 | PB.10024.77:chr12:-|1|1947:4:217|noncoding|ACG     | catarrhini    | placentalia | 1 | human         | 1 | 1 | 1 | human       | 1 | 1 |\n",
       "| 3 | PB.10031.41:chr12:-|33|1060:812:848|noncoding|ATG  | mammal        | mammal      | 1 | mammal        | 0 | 1 | 1 | human       | 9 | 1 |\n",
       "| 4 | PB.10031.46:chr12:-|27|3239:430:454|iORF|ATG       | mammal        | mammal      | 1 | boreoeutheria | 0 | 0 | 0 | human       | 7 | 1 |\n",
       "| 5 | PB.10031.7:chr12:-|33|4296:430:472|noncoding|ATG   | boreoeutheria | mammal      | 1 | placentalia   | 1 | 1 | 1 | human       | 8 | 1 |\n",
       "| 6 | PB.1004.25:chr1:+|7|2053:69:318|iORF|GTG           | boreoeutheria | mammal      | 1 | placentalia   | 1 | 1 | 1 | human       | 8 | 1 |\n",
       "\n"
      ],
      "text/plain": [
       "  orf_id                                             ev_age        syn_age    \n",
       "1 PB.10023.67:chr12:+|37|3613:976:1165|noncoding|TTG boreoeutheria mammal     \n",
       "2 PB.10024.77:chr12:-|1|1947:4:217|noncoding|ACG     catarrhini    placentalia\n",
       "3 PB.10031.41:chr12:-|33|1060:812:848|noncoding|ATG  mammal        mammal     \n",
       "4 PB.10031.46:chr12:-|27|3239:430:454|iORF|ATG       mammal        mammal     \n",
       "5 PB.10031.7:chr12:-|33|4296:430:472|noncoding|ATG   boreoeutheria mammal     \n",
       "6 PB.1004.25:chr1:+|7|2053:69:318|iORF|GTG           boreoeutheria mammal     \n",
       "  denovo lineage       loc_times_blat gene_times_blastn gene_times_blastn_pc\n",
       "1 1      boreoeutheria 1              1                 1                   \n",
       "2 1      human         1              1                 1                   \n",
       "3 1      mammal        0              1                 1                   \n",
       "4 1      boreoeutheria 0              0                 0                   \n",
       "5 1      placentalia   1              1                 1                   \n",
       "6 1      placentalia   1              1                 1                   \n",
       "  Outgroup Homolog lineage_n Outgroup Homolog n\n",
       "1 simiiformes      7         4                 \n",
       "2 human            1         1                 \n",
       "3 human            9         1                 \n",
       "4 human            7         1                 \n",
       "5 human            8         1                 \n",
       "6 human            8         1                 "
      ]
     },
     "metadata": {},
     "output_type": "display_data"
    }
   ],
   "source": [
    "head(m_evo)\n",
    "head(res_filter_paralog_ortholog)"
   ]
  },
  {
   "cell_type": "code",
   "execution_count": 71,
   "id": "39004cba",
   "metadata": {
    "ExecuteTime": {
     "end_time": "2025-10-15T09:03:36.284775Z",
     "start_time": "2025-10-15T09:03:35.840Z"
    }
   },
   "outputs": [],
   "source": [
    "get_p <- function(df){\n",
    "  \"lineage\" -> col\n",
    "  data <- data.frame(table(df[,col]))\n",
    "  colnames(data) <- c(col,\"Freq\")\n",
    "  data$lineage <- factor(data$lineage,levels=LEVELS)\n",
    "  p <- ggplot(data,aes_string(x = col, y = \"Freq\",fill=col)) + \n",
    "    geom_bar(stat = \"identity\",width = 0.8) +\n",
    "#     scale_y_continuous(expand = c(0, 0),limits=c(0,100)) +\n",
    "    theme_3(rotate=T)+\n",
    "    guides(fill = \"none\")\n",
    "  p <- p+\n",
    "    geom_text(aes(label = Freq), \n",
    "              position = position_dodge(0.8), # 确保标签对齐柱子\n",
    "              vjust = -0.3,                  # 根据需要调整位置\n",
    "              size = 5, color = \"black\")+\n",
    "    coord_cartesian(clip = \"off\")\n",
    "  p+scale_fill_discrete_divergingx() -> p\n",
    "  return(p)\n",
    "}"
   ]
  },
  {
   "cell_type": "code",
   "execution_count": 62,
   "id": "25870dc1",
   "metadata": {
    "ExecuteTime": {
     "end_time": "2025-10-15T09:00:51.807811Z",
     "start_time": "2025-10-15T09:00:51.251Z"
    }
   },
   "outputs": [
    {
     "data": {
      "text/html": [
       "32520"
      ],
      "text/latex": [
       "32520"
      ],
      "text/markdown": [
       "32520"
      ],
      "text/plain": [
       "[1] 32520"
      ]
     },
     "metadata": {},
     "output_type": "display_data"
    },
    {
     "data": {
      "text/html": [
       "15746"
      ],
      "text/latex": [
       "15746"
      ],
      "text/markdown": [
       "15746"
      ],
      "text/plain": [
       "[1] 15746"
      ]
     },
     "metadata": {},
     "output_type": "display_data"
    }
   ],
   "source": [
    "nrow(m_evo)\n",
    "merge(m_evo,times_in_genome_trans,by=\"orf_id\") %>% nrow()"
   ]
  },
  {
   "cell_type": "code",
   "execution_count": 72,
   "id": "e6f51fc2",
   "metadata": {
    "ExecuteTime": {
     "end_time": "2025-10-15T09:03:38.902173Z",
     "start_time": "2025-10-15T09:03:38.146Z"
    }
   },
   "outputs": [
    {
     "data": {
      "text/html": [
       "15746"
      ],
      "text/latex": [
       "15746"
      ],
      "text/markdown": [
       "15746"
      ],
      "text/plain": [
       "[1] 15746"
      ]
     },
     "metadata": {},
     "output_type": "display_data"
    },
    {
     "data": {
      "text/html": [
       "12477"
      ],
      "text/latex": [
       "12477"
      ],
      "text/markdown": [
       "12477"
      ],
      "text/plain": [
       "[1] 12477"
      ]
     },
     "metadata": {},
     "output_type": "display_data"
    },
    {
     "data": {
      "text/html": [
       "10201"
      ],
      "text/latex": [
       "10201"
      ],
      "text/markdown": [
       "10201"
      ],
      "text/plain": [
       "[1] 10201"
      ]
     },
     "metadata": {},
     "output_type": "display_data"
    },
    {
     "data": {
      "text/html": [
       "9701"
      ],
      "text/latex": [
       "9701"
      ],
      "text/markdown": [
       "9701"
      ],
      "text/plain": [
       "[1] 9701"
      ]
     },
     "metadata": {},
     "output_type": "display_data"
    },
    {
     "data": {
      "text/html": [
       "5396"
      ],
      "text/latex": [
       "5396"
      ],
      "text/markdown": [
       "5396"
      ],
      "text/plain": [
       "[1] 5396"
      ]
     },
     "metadata": {},
     "output_type": "display_data"
    },
    {
     "data": {
      "text/html": [
       "1968"
      ],
      "text/latex": [
       "1968"
      ],
      "text/markdown": [
       "1968"
      ],
      "text/plain": [
       "[1] 1968"
      ]
     },
     "metadata": {},
     "output_type": "display_data"
    },
    {
     "data": {
      "text/html": [],
      "text/latex": [],
      "text/markdown": [],
      "text/plain": [
       "integer(0)"
      ]
     },
     "metadata": {},
     "output_type": "display_data"
    },
    {
     "data": {
      "text/html": [],
      "text/latex": [],
      "text/markdown": [],
      "text/plain": [
       "integer(0)"
      ]
     },
     "metadata": {},
     "output_type": "display_data"
    },
    {
     "data": {
      "image/png": "[encoded data removed]",
      "text/plain": [
       "plot without title"
      ]
     },
     "metadata": {
      "image/png": {
       "height": 420,
       "width": 420
      }
     },
     "output_type": "display_data"
    }
   ],
   "source": [
    "##### plot #####\n",
    "##### basic number #####\n",
    "nrow(all_sep_m_evo_add_homolog)\n",
    "nrow(all_sep_m_evo_add_homolog_denovo)\n",
    "nrow(res_filter_paralog)\n",
    "nrow(res_filter_paralog_ortholog)\n",
    "res_filter_paralog_ortholog %>% filter(lineage %in% c(\"human\",\"hominoid\",\"catarrhini\",\"simiiformes\",\"primates\",\"primatomorpha\")) %>% nrow()\n",
    "res_filter_paralog_ortholog %>% filter(lineage %in% c(\"human\",\"hominoid\")) %>% nrow()\n",
    "##### hominoid-specific genes #####\n",
    "res_filter_paralog_ortholog %>% filter(lineage %in% c(\"human\",\"hominoid\")) -> denovo_genes\n",
    "table(denovo_genes$ORF_type_3) %>% sort()\n",
    "table(denovo_genes$Scodon) %>% sort()\n",
    "res_filter_paralog_ortholog -> df \n",
    "get_p(df) -> p\n",
    "p"
   ]
  }
 ],
 "metadata": {
  "kernelspec": {
   "display_name": "R_default_4.2",
   "language": "R",
   "name": "r_default_4.2"
  },
  "language_info": {
   "codemirror_mode": "r",
   "file_extension": ".r",
   "mimetype": "text/x-r-source",
   "name": "R",
   "pygments_lexer": "r",
   "version": "4.2.1"
  },
  "toc": {
   "base_numbering": 1,
   "nav_menu": {},
   "number_sections": true,
   "sideBar": true,
   "skip_h1_title": false,
   "title_cell": "Table of Contents",
   "title_sidebar": "Contents",
   "toc_cell": false,
   "toc_position": {
    "height": "calc(100% - 180px)",
    "left": "10px",
    "top": "150px",
    "width": "165px"
   },
   "toc_section_display": true,
   "toc_window_display": false
  }
 },
 "nbformat": 4,
 "nbformat_minor": 5
}
