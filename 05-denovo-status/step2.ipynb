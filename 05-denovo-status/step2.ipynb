{
 "cells": [
  {
   "cell_type": "code",
   "execution_count": 1,
   "id": "72f77d49",
   "metadata": {},
   "outputs": [],
   "source": [
    "import sys\n",
    "import subprocess\n",
    "import os\n",
    "import glob\n",
    "from Bio import SeqIO\n",
    "from Bio.Seq import Seq\n",
    "import os.path\n",
    "\n",
    "# assign each species to the lineage\n",
    "order = {}\n",
    "for sp in (\"panTro5\",\"panPan2\",\"gorGor5\",\"ponAbe2\",\"nomLeu3\"):\n",
    "\torder[sp] = \"hominoid\"\n",
    "for sp in (\"rheMac8\",\"macFas5\",\"macNem1\",\"papAnu3\",\"manLeu1\",\"cerAty1\",\"chlSab2\",\"nasLar1\",\"rhiRox1\",\"rhiBie1\",\"colAng1\",\"HLpilTep1\"):\n",
    "\torder[sp] = \"catarrhini\"\n",
    "for sp in (\"calJac3\",\"aotNan1\",\"saiBol1\",\"cebCap1\"):\n",
    "\torder[sp] = \"simiiformes\"\n",
    "for sp in (\"tarSyr2\",\"otoGar3\",\"micMur3\",\"proCoq1\"):\n",
    "\torder[sp] = \"primates\"\n",
    "for sp in (\"galVar1\",):\n",
    "\torder[sp] = \"primatomorpha\"\t\n",
    "for sp in (\"tupChi1\",\"jacJac1\",\"micOch1\",\"criGri1\",\"mesAur1\",\"perManBai1\",\"mm10\",\"HLmusCar1\",\"HLmusPah1\",\"rn6\",\"HLmerUng1\",\"nanGal1\",\"HLcasCan1\",\"HLdipOrd2\",\"hetGla2\",\"HLfukDam1\",\"cavPor3\",\"chiLan1\",\"octDeg1\",\"speTri2\",\"HLmarMar1\",\"oryCun2\",\"ochPri3\"): #rodents+primates\n",
    "\torder[sp] = \"euarchontoglires\"\n",
    "\n",
    "cetartiodactyla =(\"vicPac2\",\"HLcamFer2\",\"HLcamBac1\",\"HLcamDro1\",\"HLturTru3\",\"HLorcOrc1\",\"HLdelLeu1\",\"lipVex1\",\"phyCat1\",\"balAcu1\",\"HLbalMys1\",\"bosTau8\",\"HLbosInd1\",\"bisBis1\",\"bosMut1\",\"bubBub1\",\"HLoviAri4\",\"HLoviCan1\",\"HLcapHir2\",\"panHod1\",\"HLodoVir1\",\"HLcerEla1\",\"susScr11\")\n",
    "perissodactyla = (\"HLequCab3\",\"equPrz1\",\"HLequAsi1\",\"cerSim1\")\n",
    "ferae = (\"felCat8\",\"HLaciJub1\",\"panTig1\",\"HLpanPar1\",\"canFam3\",\"HLlycPic1\",\"musFur1\",\"HLenhLut1\",\"HLailFul1\",\"ailMel1\",\"ursMar1\",\"odoRosDiv1\",\"lepWed1\",\"neoSch1\",\"manPen1\",\"HLmanJav1\")\n",
    "chiroptera = (\"pteAle1\",\"HLpteVam2\",\"rouAeg1\",\"HLrhiSin1\",\"HLhipArm1\",\"eptFus1\",\"myoDav1\",\"myoBra1\",\"myoLuc2\",\"HLminNat1\",\"HLdesRot1\")\n",
    "eulipotyphla = (\"eriEur2\",\"sorAra2\",\"conCri1\")\n",
    "boreoeutheria = cetartiodactyla + perissodactyla + ferae + chiroptera + eulipotyphla\n",
    "\n",
    "for sp in boreoeutheria: #previous+euarchontoglires\n",
    "\torder[sp] = \"boreoeutheria\"\n",
    "for sp in (\"loxAfr3\",\"triMan1\",\"HLproCap2\",\"chrAsi1\",\"echTel2\",\"eleEdw1\",\"oryAfe1\",\"dasNov3\",\"HLchoHof2\"): #atlantogenata +boro\n",
    "\torder[sp] = \"placentalia\"\n",
    "for sp in (\"monDom5\",\"sarHar1\",\"HLphaCin1\",\"ornAna2\"): #nonplacental+rest\n",
    "\torder[sp] = \"mammal\""
   ]
  },
  {
   "cell_type": "code",
   "execution_count": 3,
   "id": "fd2eaeaf",
   "metadata": {},
   "outputs": [
    {
     "name": "stdout",
     "output_type": "stream",
     "text": [
      "['hg38', 'panTro5', 'panPan2', 'gorGor5', 'ponAbe2', 'nomLeu3', 'rheMac8', 'macFas5', 'macNem1', 'papAnu3', 'manLeu1', 'cerAty1', 'chlSab2', 'nasLar1', 'rhiRox1', 'rhiBie1', 'colAng1', 'HLpilTep1', 'calJac3', 'aotNan1', 'saiBol1', 'cebCap1', 'tarSyr2', 'otoGar3', 'micMur3', 'proCoq1', 'galVar1', 'tupChi1', 'jacJac1', 'micOch1', 'criGri1', 'mesAur1', 'perManBai1', 'mm10', 'HLmusCar1', 'HLmusPah1', 'rn6', 'HLmerUng1', 'nanGal1', 'HLcasCan1', 'HLdipOrd2', 'hetGla2', 'HLfukDam1', 'cavPor3', 'chiLan1', 'octDeg1', 'speTri2', 'HLmarMar1', 'oryCun2', 'ochPri3', 'vicPac2', 'HLcamFer2', 'HLcamBac1', 'HLcamDro1', 'HLturTru3', 'HLorcOrc1', 'HLdelLeu1', 'lipVex1', 'phyCat1', 'balAcu1', 'HLbalMys1', 'bosTau8', 'HLbosInd1', 'bisBis1', 'bosMut1', 'bubBub1', 'HLoviAri4', 'HLoviCan1', 'HLcapHir2', 'panHod1', 'HLodoVir1', 'HLcerEla1', 'susScr11', 'HLequCab3', 'equPrz1', 'HLequAsi1', 'cerSim1', 'felCat8', 'HLaciJub1', 'panTig1', 'HLpanPar1', 'canFam3', 'HLlycPic1', 'musFur1', 'HLenhLut1', 'HLailFul1', 'ailMel1', 'ursMar1', 'odoRosDiv1', 'lepWed1', 'neoSch1', 'manPen1', 'HLmanJav1', 'pteAle1', 'HLpteVam2', 'rouAeg1', 'HLrhiSin1', 'HLhipArm1', 'eptFus1', 'myoDav1', 'myoBra1', 'myoLuc2', 'HLminNat1', 'HLdesRot1', 'eriEur2', 'sorAra2', 'conCri1', 'loxAfr3', 'triMan1', 'HLproCap2', 'chrAsi1', 'echTel2', 'eleEdw1', 'oryAfe1', 'dasNov3', 'HLchoHof2', 'monDom5', 'sarHar1', 'HLphaCin1', 'ornAna2']\n"
     ]
    }
   ],
   "source": [
    "from Bio import Phylo\n",
    "\n",
    "# 读取Newick文件\n",
    "tree = Phylo.read('/home/user/data3/rbase/denovo_tumor/denovo_genes/denovo_status/tree/120mammal.nwk', 'newick')\n",
    "\n",
    "# 提取物种名（叶节点的名称）\n",
    "species_names = [leaf.name for leaf in tree.get_terminals()]\n",
    "\n",
    "# 打印物种名\n",
    "print(species_names)"
   ]
  },
  {
   "cell_type": "code",
   "execution_count": 4,
   "id": "21968acf",
   "metadata": {},
   "outputs": [],
   "source": [
    "tree = \"/home/user/data3/lit/project/sORFs/05-denovo-status/analysis/in_house_human_brain_denovo_check_20250410/results_120/prank/ENST00000514422.1+chr4__3589823-3589865.maf.best.anc.dnd\" #prot tree best.anc.dnd\n",
    "fastan = \"/home/user/data3/lit/project/sORFs/05-denovo-status/analysis/in_house_human_brain_denovo_check_20250410/results_120/prank/ENST00000514422.1+chr4__3589823-3589865.maf.best.anc.fas\"\n",
    "tag = \"/home/user/data3/lit/project/sORFs/05-denovo-status/analysis/in_house_human_brain_denovo_check_20250410/tmp\""
   ]
  },
  {
   "cell_type": "code",
   "execution_count": null,
   "id": "e07cf342",
   "metadata": {},
   "outputs": [],
   "source": [
    "name = tree.split(\"/\")[-1].replace(\".maf.best.anc.dnd\",\"\")"
   ]
  },
  {
   "cell_type": "code",
   "execution_count": 6,
   "id": "10147e6f",
   "metadata": {},
   "outputs": [
    {
     "name": "stderr",
     "output_type": "stream",
     "text": [
      "/home/user/BGM/lit/.local/lib/python3.9/site-packages/Bio/Seq.py:2979: BiopythonWarning: Partial codon, len(sequence) not a multiple of three. Explicitly trim the sequence or add trailing N before translation. This may become an error in future.\n",
      "  warnings.warn(\n"
     ]
    }
   ],
   "source": [
    "# generate ancestral protein\n",
    "# 有些并不是3的倍数\n",
    "fastap = open(sys.argv[1].replace(\".dnd\",\".prot.fas\"),\"w+\")\n",
    "fa = {}\n",
    "fan = SeqIO.index(fastan, \"fasta\")\n",
    "for n in fan:\n",
    "\tfa[n] = str(Seq(str(fan[n].seq).replace(\"-\",\"\")).translate(cds = False))\n",
    "\tfastap.write(\">\" + n + \"\\n\" + fa[n] + \"\\n\")\n",
    "fastap.close()"
   ]
  },
  {
   "cell_type": "code",
   "execution_count": 7,
   "id": "4fe5060f",
   "metadata": {},
   "outputs": [
    {
     "name": "stdout",
     "output_type": "stream",
     "text": [
      "{'panTro5': ['#1#', []], 'gorGor5': ['#10#', []], 'ponAbe2': ['#17#', []], 'nomLeu3': ['#20#', []], 'rheMac8': ['#24#', ['#2#', '#11#', '#3#', '#12#', '#18#', '#21#', '#4#', '#5#', '#13#', '#23#']], 'calJac3': ['#25#', ['#6#', '#7#', '#14#']], 'tarSyr2': ['#26#', []], 'otoGar3': ['#27#', ['#8#', '#15#']], 'galVar1': ['#28#', []], 'jacJac1': ['#29#', ['#9#', '#16#', '#19#', '#22#']], 'HLturTru3': ['#30#', []]}\n"
     ]
    }
   ],
   "source": [
    "fline=open(tree).readline().rstrip().split(\")\")\n",
    "last_sp = \"hg38\"\n",
    "sub = 0\n",
    "ancestor ={}\n",
    "for n,line in enumerate(fline):\n",
    "\tif sub != 0:\n",
    "\t\tsub = sub - 1\n",
    "\t\tif not last_sp in ancestor:\n",
    "\t\t\tancestor[last_sp] = [\"none\",[]]\n",
    "\t\tancestor[last_sp][1].append(line.split(\":\")[0])\n",
    "\telse:\n",
    "\t\tif last_sp != \"hg38\":\n",
    "\t\t\tif not last_sp in ancestor:\n",
    "\t\t\t\tancestor[last_sp] = [\"none\",[]]\n",
    "\t\t\tancestor[last_sp][0] = line.split(\":\")[0]\n",
    "\t\ttry:\n",
    "\t\t\tlast_sp = line.split(\",\")[1].split(\":\")[0].replace(\"(\",\"\")\n",
    "\t\texcept:\n",
    "\t\t\tpass\n",
    "\tif n != 0:\n",
    "\t\tsub = sub + line.count(\"(\")\n",
    "# print species and ancestor tree\n",
    "print(ancestor)"
   ]
  },
  {
   "cell_type": "code",
   "execution_count": 8,
   "id": "c8fa98e2",
   "metadata": {},
   "outputs": [
    {
     "data": {
      "text/plain": [
       "66"
      ]
     },
     "execution_count": 8,
     "metadata": {},
     "output_type": "execute_result"
    }
   ],
   "source": [
    "# outp = open(tag + \".prot.ancestors\",\"a+\")\n",
    "# # outp.write(\"orf_id\\tsp\\tev_age\\tsyn_age\\tbranch\\tTIS\\tmaxORF\\tconv\\tseq\\n\")\n",
    "\n",
    "# outh = open(tag + \".ancestors\",\"a+\")\n",
    "\n",
    "# outn = open(tag + \".nucl.ancestors\",\"a+\")\n",
    "# max_st_cons = \"human\"\n",
    "# max_sy_cons = \"human\"\n",
    "\n",
    "prot_ancestors_file = tag + \".prot.ancestors\"\n",
    "ancestors_file = tag + \".ancestors\"\n",
    "nucl_ancestors_file = tag + \".nucl.ancestors\"\n",
    "\n",
    "# 检查并删除已存在的文件\n",
    "if os.path.exists(prot_ancestors_file):\n",
    "    os.remove(prot_ancestors_file)\n",
    "\n",
    "if os.path.exists(ancestors_file):\n",
    "    os.remove(ancestors_file)\n",
    "\n",
    "if os.path.exists(nucl_ancestors_file):\n",
    "    os.remove(nucl_ancestors_file)\n",
    "\n",
    "# 打开文件进行写入\n",
    "outp = open(prot_ancestors_file, \"a+\")\n",
    "outh = open(ancestors_file, \"a+\")\n",
    "outn = open(nucl_ancestors_file, \"a+\")\n",
    "\n",
    "# 初始化变量\n",
    "max_st_cons = \"human\"\n",
    "max_sy_cons = \"human\"\n",
    "\n",
    "outp.write('orf_id\\tsp\\tev_age\\tsyn_age\\tbranch\\tTIS\\tmaxORF\\tconv\\tseq\\n')\n",
    "outh.write('orf_id\\tsp\\tev_age\\tsyn_age\\tgained\\tgained_convergent\\tlost\\tdenovo\\tseq\\n')"
   ]
  },
  {
   "cell_type": "code",
   "execution_count": 9,
   "id": "1c38bf00",
   "metadata": {},
   "outputs": [
    {
     "data": {
      "text/plain": [
       "'/home/user/data3/lit/project/sORFs/05-denovo-status/analysis/in_house_human_brain_denovo_check_20250410/tmp.ancestors'"
      ]
     },
     "execution_count": 9,
     "metadata": {},
     "output_type": "execute_result"
    }
   ],
   "source": [
    "ancestors_file"
   ]
  },
  {
   "cell_type": "code",
   "execution_count": 10,
   "id": "43c6a7cf",
   "metadata": {},
   "outputs": [],
   "source": [
    "# ORF structure\n",
    "ev = {}\n",
    "max_op ={}\n",
    "tis={}\n",
    "# protein conservation\n",
    "blastp={}\n",
    "cons={}"
   ]
  },
  {
   "cell_type": "code",
   "execution_count": 11,
   "id": "2a699e24",
   "metadata": {},
   "outputs": [],
   "source": [
    "al_scodon = [\"ATG\", \"CTG\", \"ACG\", \"GTG\", \"TTG\", \"ATA\", \"ATC\", \"ATT\", \"AAG\", \"AGG\"]"
   ]
  },
  {
   "cell_type": "code",
   "execution_count": 12,
   "id": "dfce4857",
   "metadata": {},
   "outputs": [],
   "source": [
    "# estimate the presence of intact ORF\n",
    "for last_sp in ancestor:\n",
    "    tis[last_sp] = \"0\"\n",
    "    old_anc = ancestor[last_sp][0]\n",
    "    if len(str(fa[old_anc]).replace(\"-\",\"\").replace(\"X\",\"*\")) >= 4:\n",
    "        # 看是否在第一个位置或者下游的两个位置有非经典的起始密码子\n",
    "        first_scodon=str(fan[old_anc].seq).replace(\"-\",\"\")[0:3].upper()\n",
    "        second_codon=str(fan[old_anc].seq).replace(\"-\",\"\")[3:6].upper()\n",
    "        third_codon=str(fan[old_anc].seq).replace(\"-\",\"\")[6:9].upper()\n",
    "        if first_scodon in al_scodon or second_codon in al_scodon or third_codon in al_scodon:\n",
    "            tis[last_sp] = \"1\"\n",
    "        else:\n",
    "            tis[last_sp] = \"0\"\n",
    "    #Longest ORF in the stretch\n",
    "    op = -1\n",
    "    max_op[last_sp] = 0\n",
    "    if len(str(fa[old_anc]).replace(\"-\",\"\").replace(\"X\",\"*\")) >= 4:\n",
    "        first_scodon=str(fan[old_anc].seq).replace(\"-\",\"\")[0:3].upper()\n",
    "        for n2 in str(fa[old_anc]).replace(\"-\",\"\").replace(\"X\",\"*\"):\n",
    "            if (first_scodon in al_scodon) and (op == -1):\n",
    "                op = 1\n",
    "            elif n2 == \"*\":\n",
    "                if op > max_op[last_sp]:\n",
    "                    max_op[last_sp] = op\n",
    "                op = -1\n",
    "            elif op != -1:\n",
    "                op += 1\n",
    "        if op > max_op[last_sp]:\n",
    "            max_op[last_sp] = op\n",
    "        try:\n",
    "            max_op[last_sp] = float(max_op[last_sp])/len(str(fa[\"hg38\"]).replace(\"-\",\"\").replace(\"X\",\"\").replace(\"*\",\"\"))*100\n",
    "        except:\n",
    "            pass\n",
    "    # >= 70% of the sequence did not contain stop condons truncating the ORF and a conserved ATG start condon\n",
    "    if (max_op[last_sp] >= 70) and (int(tis[last_sp]) >= 1):\n",
    "        max_st_cons = order[last_sp]\n",
    "        ev[last_sp] = \"FIXED\"\n",
    "    # stop condons truncating the ORF resulting in < 70% of the ORF\n",
    "    else:\n",
    "        ev[last_sp] = \"ABSENT\"\n",
    "        \n",
    "    max_sy_cons = order[last_sp]"
   ]
  },
  {
   "cell_type": "code",
   "execution_count": 13,
   "id": "406c65b3",
   "metadata": {},
   "outputs": [
    {
     "name": "stdout",
     "output_type": "stream",
     "text": [
      "{'panTro5': '1', 'gorGor5': '1', 'ponAbe2': '1', 'nomLeu3': '1', 'rheMac8': '1', 'calJac3': '1', 'tarSyr2': '1', 'otoGar3': '1', 'galVar1': '1', 'jacJac1': '1', 'HLturTru3': '1'}\n",
      "{'panTro5': 100.0, 'gorGor5': 100.0, 'ponAbe2': 100.0, 'nomLeu3': 100.0, 'rheMac8': 100.0, 'calJac3': 76.92307692307693, 'tarSyr2': 76.92307692307693, 'otoGar3': 100.0, 'galVar1': 92.3076923076923, 'jacJac1': 30.76923076923077, 'HLturTru3': 69.23076923076923}\n",
      "{'panTro5': 'FIXED', 'gorGor5': 'FIXED', 'ponAbe2': 'FIXED', 'nomLeu3': 'FIXED', 'rheMac8': 'FIXED', 'calJac3': 'FIXED', 'tarSyr2': 'FIXED', 'otoGar3': 'FIXED', 'galVar1': 'FIXED', 'jacJac1': 'ABSENT', 'HLturTru3': 'ABSENT'}\n"
     ]
    },
    {
     "data": {
      "text/plain": [
       "'boreoeutheria'"
      ]
     },
     "execution_count": 13,
     "metadata": {},
     "output_type": "execute_result"
    }
   ],
   "source": [
    "print(tis)\n",
    "print(max_op)\n",
    "print(ev)\n",
    "max_sy_cons"
   ]
  },
  {
   "cell_type": "code",
   "execution_count": 14,
   "id": "2d737360",
   "metadata": {},
   "outputs": [
    {
     "data": {
      "text/plain": [
       "{'panTro5': ['#1#', []],\n",
       " 'gorGor5': ['#10#', []],\n",
       " 'ponAbe2': ['#17#', []],\n",
       " 'nomLeu3': ['#20#', []],\n",
       " 'rheMac8': ['#24#',\n",
       "  ['#2#',\n",
       "   '#11#',\n",
       "   '#3#',\n",
       "   '#12#',\n",
       "   '#18#',\n",
       "   '#21#',\n",
       "   '#4#',\n",
       "   '#5#',\n",
       "   '#13#',\n",
       "   '#23#']],\n",
       " 'calJac3': ['#25#', ['#6#', '#7#', '#14#']],\n",
       " 'tarSyr2': ['#26#', []],\n",
       " 'otoGar3': ['#27#', ['#8#', '#15#']],\n",
       " 'galVar1': ['#28#', []],\n",
       " 'jacJac1': ['#29#', ['#9#', '#16#', '#19#', '#22#']],\n",
       " 'HLturTru3': ['#30#', []]}"
      ]
     },
     "execution_count": 14,
     "metadata": {},
     "output_type": "execute_result"
    }
   ],
   "source": [
    "ancestor"
   ]
  },
  {
   "cell_type": "code",
   "execution_count": 15,
   "id": "9e817231",
   "metadata": {},
   "outputs": [
    {
     "name": "stdout",
     "output_type": "stream",
     "text": [
      "primatomorpha\n",
      "boreoeutheria\n"
     ]
    }
   ],
   "source": [
    "print(max_st_cons)\n",
    "print(max_sy_cons)"
   ]
  },
  {
   "cell_type": "code",
   "execution_count": 16,
   "id": "2cb0ab26",
   "metadata": {},
   "outputs": [
    {
     "name": "stdout",
     "output_type": "stream",
     "text": [
      "0\n",
      "0\n",
      "0\n",
      "0\n",
      "0\n",
      "0\n",
      "0\n",
      "0\n",
      "0\n",
      "GAINED 1\n",
      "1\n",
      "1\n"
     ]
    }
   ],
   "source": [
    "# ortholog beyond intact ORF\n",
    "beyond = 0\n",
    "# whether is a de novo ORF\n",
    "denovo = 0\n",
    "# 分别代表gained gained_convergent lost\n",
    "count  = [0,0,0]\n",
    "for last_sp in ancestor:\n",
    "    old_anc = ancestor[last_sp][0]\n",
    "    # if ancestral ortholog beyond intact ORF\n",
    "    if beyond == 1:\n",
    "        denovo = 1\n",
    "    if (order[last_sp] == max_st_cons) or (max_st_cons == \"human\"):\n",
    "        beyond = 1\n",
    "\n",
    "    # Check if ORF is present in some intermediate branch\n",
    "    # for each species in intermediate branch (sp2)\n",
    "    for sp2 in ancestor[last_sp][1]:\n",
    "        tis2 = \"0\"\n",
    "        if len(str(fa[sp2]).replace(\"-\",\"\").replace(\"X\",\"*\")) >= 4:\n",
    "            # 看是否在第一个位置或者下游的两个位置有非经典的起始密码子\n",
    "            first_scodon=str(fan[sp2].seq).replace(\"-\",\"\")[0:3].upper()\n",
    "            second_codon=str(fan[sp2].seq).replace(\"-\",\"\")[3:6].upper()\n",
    "            third_codon=str(fan[sp2].seq).replace(\"-\",\"\")[6:9].upper()\n",
    "            if first_scodon in al_scodon or second_codon in al_scodon or third_codon in al_scodon:\n",
    "                tis2 = \"1\"\n",
    "            else:\n",
    "                tis2 = \"0\"\n",
    "\n",
    "        #Longest ORF in the stretch\n",
    "        op = -1\n",
    "        max_op2 = 0\n",
    "        for n2 in str(fa[sp2]).replace(\"-\",\"\").replace(\"X\",\"*\"):\n",
    "            first_scodon=str(fan[old_anc].seq).replace(\"-\",\"\")[0:3].upper()\n",
    "            if (first_scodon in al_scodon) and (op == -1):\n",
    "                op = 1\n",
    "            if n2 == \"*\":\n",
    "                op = -1\n",
    "            elif op != -1:\n",
    "                op += 1\n",
    "        if op > max_op2:\n",
    "            max_op2 = op\n",
    "        try:\n",
    "            max_op2 = float(max_op2)/len(str(fa[\"hg38\"]).replace(\"-\",\"\").replace(\"X\",\"\").replace(\"*\",\"\"))*100\n",
    "        except:\n",
    "            pass\n",
    "\n",
    "        if (max_op2 >= 70) and (int(tis2) >= 1):\n",
    "            if ev[last_sp] == \"ABSENT\":\n",
    "                ev[last_sp] = \"GAINED\"\n",
    "                count[0] += 1\n",
    "                print(ev[last_sp],count[0])\n",
    "                if beyond == 1:\n",
    "                    count[1] += 1\n",
    "        else:\n",
    "            if ev[last_sp] == \"FIXED\":\n",
    "                ev[last_sp] = \"LOST\"\n",
    "                count[2] += 1\n",
    "\n",
    "        # estimate the conservation of the ortholog peptide sequences\n",
    "\n",
    "    #Write output\n",
    "    print(count[0])\n",
    "    l = name + \"\\t\" + last_sp + \"\\t\" + order[last_sp] + \"\\t\" + order[last_sp] + \"\\t\" + old_anc + \"\\t\" + str(tis[last_sp]) + \"\\t\" + str(max_op[last_sp]) + \"\\t\" + ev[last_sp] + \"\\t\" + str(fa[old_anc]).replace(\"-\",\"\").replace(\"X\",\"*\") + \"\\n\"\n",
    "    outp.write(l.replace(\"W\\n\",\"\\n\"))\n",
    "    outn.write(\">\" + name + \"--\" + last_sp + \"\\n\" + str(fan[old_anc].seq) + \"\\n\")\n",
    "\n",
    "\n",
    "outh.write(name + \"\\thg38\\t\" + str(max_st_cons) + \"\\t\" + str(max_sy_cons) + \"\\t\" + str(count[0]) + \"\\t\" + str(count[1]) + \"\\t\" + str(count[2]) + \"\\t\" + str(denovo) + \"\\t\" + str(fa[\"hg38\"]).replace(\"-\",\"\").replace(\"X\",\"\") + \"\\n\")\n",
    "\n",
    "outn.write(\">\" + name + \"--hg38\\n\" + str(fan[\"hg38\"].seq) + \"\\n\")\n",
    "\n",
    "outp.close()\n",
    "outn.close()\n",
    "outh.close()\n",
    "\n",
    "# os.system(\"rm \" + fastan.split(\".best\")[0] + \"*\")"
   ]
  },
  {
   "cell_type": "code",
   "execution_count": 17,
   "id": "58d0788a",
   "metadata": {},
   "outputs": [
    {
     "data": {
      "text/plain": [
       "{'panTro5': 'FIXED',\n",
       " 'gorGor5': 'FIXED',\n",
       " 'ponAbe2': 'FIXED',\n",
       " 'nomLeu3': 'FIXED',\n",
       " 'rheMac8': 'FIXED',\n",
       " 'calJac3': 'FIXED',\n",
       " 'tarSyr2': 'FIXED',\n",
       " 'otoGar3': 'FIXED',\n",
       " 'galVar1': 'FIXED',\n",
       " 'jacJac1': 'GAINED',\n",
       " 'HLturTru3': 'ABSENT'}"
      ]
     },
     "execution_count": 17,
     "metadata": {},
     "output_type": "execute_result"
    }
   ],
   "source": [
    "ev"
   ]
  },
  {
   "cell_type": "code",
   "execution_count": 18,
   "id": "9380f883",
   "metadata": {},
   "outputs": [
    {
     "name": "stdout",
     "output_type": "stream",
     "text": [
      "1\n"
     ]
    }
   ],
   "source": [
    "print(count[0])"
   ]
  },
  {
   "cell_type": "code",
   "execution_count": 19,
   "id": "0c32a17e",
   "metadata": {},
   "outputs": [
    {
     "data": {
      "text/plain": [
       "[1, 1, 0]"
      ]
     },
     "execution_count": 19,
     "metadata": {},
     "output_type": "execute_result"
    }
   ],
   "source": [
    "count"
   ]
  }
 ],
 "metadata": {
  "kernelspec": {
   "display_name": "denovo",
   "language": "python",
   "name": "denovo"
  },
  "language_info": {
   "codemirror_mode": {
    "name": "ipython",
    "version": 3
   },
   "file_extension": ".py",
   "mimetype": "text/x-python",
   "name": "python",
   "nbconvert_exporter": "python",
   "pygments_lexer": "ipython3",
   "version": "3.9.7"
  },
  "toc": {
   "base_numbering": 1,
   "nav_menu": {},
   "number_sections": true,
   "sideBar": true,
   "skip_h1_title": false,
   "title_cell": "Table of Contents",
   "title_sidebar": "Contents",
   "toc_cell": false,
   "toc_position": {},
   "toc_section_display": true,
   "toc_window_display": false
  }
 },
 "nbformat": 4,
 "nbformat_minor": 5
}
