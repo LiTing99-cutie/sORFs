{
 "cells": [
  {
   "cell_type": "code",
   "execution_count": 2,
   "id": "b4c94bb4",
   "metadata": {},
   "outputs": [],
   "source": [
    "import sys\n",
    "import string\n",
    "import subprocess\n",
    "import os\n",
    "import glob\n",
    "import statistics\n",
    "import math\n",
    "from Bio import SeqIO\n",
    "from Bio.Seq import Seq\n",
    "from Bio import pairwise2\n",
    "from Bio.pairwise2 import format_alignment\n",
    "from optparse import OptionParser"
   ]
  },
  {
   "cell_type": "code",
   "execution_count": 3,
   "id": "ffd3657e",
   "metadata": {
    "collapsed": true
   },
   "outputs": [
    {
     "ename": "NameError",
     "evalue": "name '__version__' is not defined",
     "output_type": "error",
     "traceback": [
      "\u001b[0;31m---------------------------------------------------------------------------\u001b[0m",
      "\u001b[0;31mNameError\u001b[0m                                 Traceback (most recent call last)",
      "Cell \u001b[0;32mIn[3], line 11\u001b[0m\n\u001b[1;32m      9\u001b[0m \u001b[38;5;66;03m#Arguments\u001b[39;00m\n\u001b[1;32m     10\u001b[0m usage \u001b[38;5;241m=\u001b[39m \u001b[38;5;124m\"\u001b[39m\u001b[38;5;130;01m\\n\u001b[39;00m\u001b[38;5;124m%\u001b[39m\u001b[38;5;124mprog [options]\u001b[39m\u001b[38;5;124m\"\u001b[39m\n\u001b[0;32m---> 11\u001b[0m parser \u001b[38;5;241m=\u001b[39m OptionParser(usage,version\u001b[38;5;241m=\u001b[39m\u001b[38;5;124m\"\u001b[39m\u001b[38;5;124m%\u001b[39m\u001b[38;5;124mprog \u001b[39m\u001b[38;5;124m\"\u001b[39m \u001b[38;5;241m+\u001b[39m \u001b[43m__version__\u001b[49m)\n\u001b[1;32m     12\u001b[0m parser\u001b[38;5;241m.\u001b[39madd_option(\u001b[38;5;124m\"\u001b[39m\u001b[38;5;124m-i\u001b[39m\u001b[38;5;124m\"\u001b[39m,\u001b[38;5;124m\"\u001b[39m\u001b[38;5;124m--input\u001b[39m\u001b[38;5;124m\"\u001b[39m,action\u001b[38;5;241m=\u001b[39m\u001b[38;5;124m\"\u001b[39m\u001b[38;5;124mstore\u001b[39m\u001b[38;5;124m\"\u001b[39m,dest\u001b[38;5;241m=\u001b[39m\u001b[38;5;124m\"\u001b[39m\u001b[38;5;124mmaf_folder\u001b[39m\u001b[38;5;124m\"\u001b[39m,help\u001b[38;5;241m=\u001b[39m\u001b[38;5;124m\"\u001b[39m\u001b[38;5;124m(Required) Folder with all MAF alignments (output of 1_extract_multiple_alignments.py)\u001b[39m\u001b[38;5;124m\"\u001b[39m)\n\u001b[1;32m     13\u001b[0m parser\u001b[38;5;241m.\u001b[39madd_option(\u001b[38;5;124m\"\u001b[39m\u001b[38;5;124m-p\u001b[39m\u001b[38;5;124m\"\u001b[39m,\u001b[38;5;124m\"\u001b[39m\u001b[38;5;124m--prot\u001b[39m\u001b[38;5;124m\"\u001b[39m,action\u001b[38;5;241m=\u001b[39m\u001b[38;5;124m\"\u001b[39m\u001b[38;5;124mstore\u001b[39m\u001b[38;5;124m\"\u001b[39m,dest\u001b[38;5;241m=\u001b[39m\u001b[38;5;124m\"\u001b[39m\u001b[38;5;124mprot\u001b[39m\u001b[38;5;124m\"\u001b[39m,help\u001b[38;5;241m=\u001b[39m\u001b[38;5;124m\"\u001b[39m\u001b[38;5;124m(Required) Fasta including all translated sequences encoded by the ORFs\u001b[39m\u001b[38;5;124m\"\u001b[39m)\n",
      "\u001b[0;31mNameError\u001b[0m: name '__version__' is not defined"
     ]
    }
   ],
   "source": [
    "#Script to aligned ORF against orthologous regions. Requirements: BLAST\n",
    "\n",
    "def check_arg (arg_str,s):\n",
    "\t'''Check if arg was written'''\n",
    "\tif not arg_str:   # if filename is not given\n",
    "\t\tprint(\"Error: \" + str(s) + \" argument not given\\n\")\n",
    "\t\texit()\n",
    "\n",
    "#Arguments\n",
    "usage = \"\\n%prog [options]\"\n",
    "parser = OptionParser(usage,version=\"%prog \" + __version__)\n",
    "parser.add_option(\"-i\",\"--input\",action=\"store\",dest=\"maf_folder\",help=\"(Required) Folder with all MAF alignments (output of 1_extract_multiple_alignments.py)\")\n",
    "parser.add_option(\"-p\",\"--prot\",action=\"store\",dest=\"prot\",help=\"(Required) Fasta including all translated sequences encoded by the ORFs\")\n",
    "\n",
    "(opt,args)=parser.parse_args()\n",
    "\n",
    "check_arg(opt.maf_folder,\"--maf_folder\")\n",
    "check_arg(opt.maf_folder,\"--prot\")"
   ]
  },
  {
   "cell_type": "code",
   "execution_count": 10,
   "id": "91436174",
   "metadata": {},
   "outputs": [],
   "source": [
    "maf_folder=\"/home/user/data3/lit/project/sORFs/05-denovo-status/analysis/in_house_human_brain_denovo_check_20250410/case/maf_folder\"\n",
    "prot=\"/home/user/data3/lit/project/sORFs/05-denovo-status/analysis/in_house_human_brain_denovo_check_20250410/peptide_fa/ENST00000230361.4-chr6:42183416-42183491.ORF_pep.fa\""
   ]
  },
  {
   "cell_type": "code",
   "execution_count": 5,
   "id": "f9b23280",
   "metadata": {},
   "outputs": [],
   "source": [
    "#Main\n",
    "primatomorpha = (\"hg38\",\"panTro5\",\"panPan2\",\"gorGor5\",\"ponAbe2\",\"nomLeu3\",\"rheMac8\",\"macFas5\",\"macNem1\",\"papAnu3\",\"manLeu1\",\"cerAty1\",\"chlSab2\",\"nasLar1\",\"rhiRox1\",\"rhiBie1\",\"colAng1\",\"HLpilTep1\",\"calJac3\",\"aotNan1\",\"saiBol1\",\"cebCap1\",\"tarSyr2\",\"otoGar3\",\"micMur3\",\"proCoq1\", \"galVar1\",\"tupChi1\",\"eulMac1\",\"eulFla1\")\n",
    "\n",
    "total_sp = []\n",
    "folder = maf_folder + \"/orfs/*.maf\"\n",
    "for file in glob.glob(folder):\n",
    "        # 建立索引，高效获取序列\n",
    "\t\tseqs = SeqIO.index(file, \"fasta\")\n",
    "\t\tfor species in seqs:\n",
    "\t\t\tif species == \"hg38\":\n",
    "\t\t\t\ttotal_sp.append(species)\n",
    "\t\t\tif not species in total_sp:\n",
    "\t\t\t\ttotal_sp.append(species)"
   ]
  },
  {
   "cell_type": "code",
   "execution_count": 7,
   "id": "714906d5",
   "metadata": {
    "collapsed": true
   },
   "outputs": [
    {
     "data": {
      "text/plain": [
       "['hg38',\n",
       " 'panTro5',\n",
       " 'panPan2',\n",
       " 'gorGor5',\n",
       " 'ponAbe2',\n",
       " 'nomLeu3',\n",
       " 'rheMac8',\n",
       " 'macNem1',\n",
       " 'papAnu3',\n",
       " 'manLeu1',\n",
       " 'cerAty1',\n",
       " 'chlSab2',\n",
       " 'rhiRox1',\n",
       " 'rhiBie1',\n",
       " 'colAng1',\n",
       " 'HLpilTep1',\n",
       " 'calJac3',\n",
       " 'aotNan1',\n",
       " 'saiBol1',\n",
       " 'cebCap1',\n",
       " 'tarSyr2',\n",
       " 'otoGar3',\n",
       " 'micMur3',\n",
       " 'proCoq1',\n",
       " 'galVar1',\n",
       " 'tupChi1',\n",
       " 'jacJac1',\n",
       " 'micOch1',\n",
       " 'criGri1',\n",
       " 'perManBai1',\n",
       " 'HLcasCan1',\n",
       " 'hetGla2',\n",
       " 'HLfukDam1',\n",
       " 'cavPor3',\n",
       " 'chiLan1',\n",
       " 'octDeg1',\n",
       " 'speTri2',\n",
       " 'HLmarMar1',\n",
       " 'oryCun2',\n",
       " 'ochPri3',\n",
       " 'loxAfr3',\n",
       " 'HLchoHof2']"
      ]
     },
     "execution_count": 7,
     "metadata": {},
     "output_type": "execute_result"
    }
   ],
   "source": [
    "seqs\n",
    "total_sp"
   ]
  },
  {
   "cell_type": "code",
   "execution_count": 8,
   "id": "7a6ceab3",
   "metadata": {},
   "outputs": [],
   "source": [
    "os.makedirs(maf_folder + \"/fastas\", exist_ok=True)\n",
    "\n",
    "outs = {}\n",
    "for sp in total_sp:\n",
    "    outs[sp] = open(maf_folder + \"/fastas/\" + sp + \"_aligned_proteins.fa\",\"w+\")\n",
    "\n",
    "folder = maf_folder + \"/orfs/*.fa\"\n",
    "for file in glob.glob(folder):\n",
    "    for line in open(file):\n",
    "            if \">\" in line:\n",
    "                s = line.split()[0].replace(\">\",\"\")\n",
    "                species = s.split(\"_\")[2]\n",
    "#                 print(s,species)\n",
    "                if species != \"hg38\":\n",
    "                    outs[species].write(\">\" + s + \"\\n\")\n",
    "            else:\n",
    "                if species == \"hg38\":\n",
    "                    exc = []\n",
    "                    for n,c in enumerate(line.rstrip(\"\\n\")[:-1]):\n",
    "#                         print(n,c)\n",
    "                        exc.append(n)\n",
    "                    continue\n",
    "\n",
    "                outs[species].write(line.rstrip(\"\\n\") + \"\\n\")\n",
    "                trunc = 0\n",
    "                l = 0\n",
    "                for n,c in enumerate(line.rstrip(\"\\n\")[:-1]):\n",
    "                    if not n in exc:\n",
    "                        if c == \"*\":\n",
    "                            trunc += 1\n",
    "                        l += 1"
   ]
  },
  {
   "cell_type": "code",
   "execution_count": 13,
   "id": "0e517d6f",
   "metadata": {},
   "outputs": [
    {
     "name": "stdout",
     "output_type": "stream",
     "text": [
      "BLAST to jacJac1\n"
     ]
    },
    {
     "name": "stderr",
     "output_type": "stream",
     "text": [
      "Warning: [blastp] Examining 5 or more matches is recommended\n"
     ]
    },
    {
     "name": "stdout",
     "output_type": "stream",
     "text": [
      "BLAST to micOch1\n"
     ]
    },
    {
     "name": "stderr",
     "output_type": "stream",
     "text": [
      "Warning: [blastp] Examining 5 or more matches is recommended\n"
     ]
    },
    {
     "name": "stdout",
     "output_type": "stream",
     "text": [
      "BLAST to criGri1\n"
     ]
    },
    {
     "name": "stderr",
     "output_type": "stream",
     "text": [
      "Warning: [blastp] Examining 5 or more matches is recommended\n"
     ]
    },
    {
     "name": "stdout",
     "output_type": "stream",
     "text": [
      "BLAST to perManBai1\n"
     ]
    },
    {
     "name": "stderr",
     "output_type": "stream",
     "text": [
      "Warning: [blastp] Examining 5 or more matches is recommended\n"
     ]
    },
    {
     "name": "stdout",
     "output_type": "stream",
     "text": [
      "BLAST to HLcasCan1\n"
     ]
    },
    {
     "name": "stderr",
     "output_type": "stream",
     "text": [
      "Warning: [blastp] Examining 5 or more matches is recommended\n"
     ]
    },
    {
     "name": "stdout",
     "output_type": "stream",
     "text": [
      "BLAST to hetGla2\n"
     ]
    },
    {
     "name": "stderr",
     "output_type": "stream",
     "text": [
      "Warning: [blastp] Examining 5 or more matches is recommended\n"
     ]
    },
    {
     "name": "stdout",
     "output_type": "stream",
     "text": [
      "BLAST to HLfukDam1\n"
     ]
    },
    {
     "name": "stderr",
     "output_type": "stream",
     "text": [
      "Warning: [blastp] Examining 5 or more matches is recommended\n"
     ]
    },
    {
     "name": "stdout",
     "output_type": "stream",
     "text": [
      "BLAST to cavPor3\n"
     ]
    },
    {
     "name": "stderr",
     "output_type": "stream",
     "text": [
      "Warning: [blastp] Examining 5 or more matches is recommended\n"
     ]
    },
    {
     "name": "stdout",
     "output_type": "stream",
     "text": [
      "BLAST to chiLan1\n"
     ]
    },
    {
     "name": "stderr",
     "output_type": "stream",
     "text": [
      "Warning: [blastp] Examining 5 or more matches is recommended\n"
     ]
    },
    {
     "name": "stdout",
     "output_type": "stream",
     "text": [
      "BLAST to octDeg1\n"
     ]
    },
    {
     "name": "stderr",
     "output_type": "stream",
     "text": [
      "Warning: [blastp] Examining 5 or more matches is recommended\n"
     ]
    },
    {
     "name": "stdout",
     "output_type": "stream",
     "text": [
      "BLAST to speTri2\n"
     ]
    },
    {
     "name": "stderr",
     "output_type": "stream",
     "text": [
      "Warning: [blastp] Examining 5 or more matches is recommended\n"
     ]
    },
    {
     "name": "stdout",
     "output_type": "stream",
     "text": [
      "BLAST to HLmarMar1\n"
     ]
    },
    {
     "name": "stderr",
     "output_type": "stream",
     "text": [
      "Warning: [blastp] Examining 5 or more matches is recommended\n"
     ]
    },
    {
     "name": "stdout",
     "output_type": "stream",
     "text": [
      "BLAST to oryCun2\n"
     ]
    },
    {
     "name": "stderr",
     "output_type": "stream",
     "text": [
      "Warning: [blastp] Examining 5 or more matches is recommended\n"
     ]
    },
    {
     "name": "stdout",
     "output_type": "stream",
     "text": [
      "BLAST to ochPri3\n"
     ]
    },
    {
     "name": "stderr",
     "output_type": "stream",
     "text": [
      "Warning: [blastp] Examining 5 or more matches is recommended\n"
     ]
    },
    {
     "name": "stdout",
     "output_type": "stream",
     "text": [
      "BLAST to loxAfr3\n"
     ]
    },
    {
     "name": "stderr",
     "output_type": "stream",
     "text": [
      "Warning: [blastp] Examining 5 or more matches is recommended\n"
     ]
    },
    {
     "name": "stdout",
     "output_type": "stream",
     "text": [
      "BLAST to HLchoHof2\n"
     ]
    },
    {
     "name": "stderr",
     "output_type": "stream",
     "text": [
      "Warning: [blastp] Examining 5 or more matches is recommended\n"
     ]
    }
   ],
   "source": [
    "cs = {}\n",
    "for sp in total_sp:\n",
    "    if sp in primatomorpha: #Primatomorpha is not evaluated\n",
    "        continue\n",
    "    outs[sp].close()\n",
    "    print(\"BLAST to \" + sp)\n",
    "    os.system(\"blastp -query \" + prot + \" -subject \" + maf_folder + \"/fastas/\" + sp + \"_aligned_proteins.fa -evalue 1e-2 -max_target_seqs 1 -outfmt \\\"6 qseqid sseqid nident length mismatch gapopen qstart qend sstart send evalue bitscore qseq sseq\\\" >  \" + maf_folder + \"/fastas/blast_all_orfs_to_\" + sp + \".out\")\n",
    "    for line in open(maf_folder + \"/fastas/blast_all_orfs_to_\" + sp + \".out\"):\n",
    "        name = line.split(\"\\t\")[0]\n",
    "        if not name in cs:\n",
    "            cs[name] = [[],[]]\n",
    "        evalue = float(line.split(\"\\t\")[10])\n",
    "        cs[name][0].append(sp)\n",
    "        cs[name][1].append(evalue)\n",
    "out = open(maf_folder + \"/fastas/conservation_scores.tsv\",\"w+\")\n",
    "out.write(\"orf_id\\tCS\\tall_evalues\\tall_species\\n\")\n",
    "for name in cs: #Only cases with at least one match are reported\n",
    "    out.write(name + \"\\t\" + str(-math.log(statistics.median(cs[name][1]),10)) + \"\\t\" + \",\".join(map(str,cs[name][1])) + \"\\t\" + \",\".join(map(str,cs[name][0])) + \"\\n\")\n",
    "out.close()\n",
    "\n",
    "# exit()"
   ]
  },
  {
   "cell_type": "code",
   "execution_count": null,
   "id": "7d3e40ff",
   "metadata": {},
   "outputs": [],
   "source": [
    "os.system(\"blastp -query \" + prot + \" -subject \" + maf_folder + \"/fastas/\" + sp + \"_aligned_proteins.fa -max_target_seqs 1 -outfmt \\\"6 qseqid sseqid nident length mismatch gapopen qstart qend sstart send evalue bitscore qseq sseq\\\" >  \" + maf_folder + \"/fastas/blast_all_orfs_to_\" + sp + \".out\")"
   ]
  },
  {
   "cell_type": "code",
   "execution_count": null,
   "id": "5bd23ea7",
   "metadata": {},
   "outputs": [],
   "source": []
  },
  {
   "cell_type": "code",
   "execution_count": 9,
   "id": "73f36eb3",
   "metadata": {},
   "outputs": [
    {
     "data": {
      "text/plain": [
       "'/home/user/data3/lit/project/sORFs/05-denovo-status/analysis/in_house_human_brain_denovo_check_20250410/results_120/orfs/ENST00000230361.4-chr6__42183416-42183491.fa'"
      ]
     },
     "execution_count": 9,
     "metadata": {},
     "output_type": "execute_result"
    }
   ],
   "source": [
    "prot"
   ]
  }
 ],
 "metadata": {
  "kernelspec": {
   "display_name": "denovo",
   "language": "python",
   "name": "denovo"
  },
  "language_info": {
   "codemirror_mode": {
    "name": "ipython",
    "version": 3
   },
   "file_extension": ".py",
   "mimetype": "text/x-python",
   "name": "python",
   "nbconvert_exporter": "python",
   "pygments_lexer": "ipython3",
   "version": "3.9.7"
  },
  "toc": {
   "base_numbering": 1,
   "nav_menu": {},
   "number_sections": true,
   "sideBar": true,
   "skip_h1_title": false,
   "title_cell": "Table of Contents",
   "title_sidebar": "Contents",
   "toc_cell": false,
   "toc_position": {},
   "toc_section_display": true,
   "toc_window_display": false
  }
 },
 "nbformat": 4,
 "nbformat_minor": 5
}
