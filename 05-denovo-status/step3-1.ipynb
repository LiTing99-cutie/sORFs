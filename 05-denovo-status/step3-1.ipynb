{
 "cells": [
  {
   "cell_type": "code",
   "execution_count": 1,
   "id": "567b7406",
   "metadata": {},
   "outputs": [],
   "source": [
    "import sys\n",
    "import argparse\n",
    "import os\n",
    "import glob\n",
    "from Bio import SeqIO\n",
    "from Bio.Seq import Seq\n",
    "\n",
    "# Script to aligned ORF against orthologous regions. Requirements: BLAST\n",
    "# Arguments\n",
    "## 多物种蛋白质比对文件 \n",
    "prot_path = \"/home/user/data3/lit/project/sORFs/05-denovo-status/analysis/in_house_human_brain_denovo_check_20250410/case/orfs/ENST00000514422.1+chr4__3589823-3589865.fa\"\n",
    "## hg38的蛋白序列\n",
    "prot_tar = \"/home/user/data3/lit/project/sORFs/05-denovo-status/analysis/in_house_human_brain_denovo_check_20250410/case/peptide_fa/ENST00000514422.1+chr4:3589823-3589865.ORF_pep.fa\"\n",
    "## 多物种核苷酸比对文件\n",
    "maf_path = \"/home/user/data3/lit/project/sORFs/05-denovo-status/analysis/in_house_human_brain_denovo_check_20250410/case/orfs/ENST00000514422.1+chr4__3589823-3589865.maf\""
   ]
  },
  {
   "cell_type": "code",
   "execution_count": 2,
   "id": "a6f701fa",
   "metadata": {},
   "outputs": [],
   "source": [
    "# Main\n",
    "# assign each species to the lineage\n",
    "lineages = [\"human\",\"hominoid\",\"catarrhini\",\"simiiformes\",\"primates\",\"primatomorpha\",\"euarchontoglires\",\"boreoeutheria\",\"placentalia\",\"mammal\"]\n",
    "order = {\"hg38\":\"human\"}\n",
    "for sp in (\"panTro5\",\"panPan2\",\"gorGor5\",\"ponAbe2\",\"nomLeu3\"):\n",
    "\torder[sp] = \"hominoid\"\n",
    "for sp in (\"rheMac8\",\"macFas5\",\"macNem1\",\"papAnu3\",\"manLeu1\",\"cerAty1\",\"chlSab2\",\"nasLar1\",\"rhiRox1\",\"rhiBie1\",\"colAng1\",\"HLpilTep1\"):\n",
    "\torder[sp] = \"catarrhini\"\n",
    "for sp in (\"calJac3\",\"aotNan1\",\"saiBol1\",\"cebCap1\"):\n",
    "\torder[sp] = \"simiiformes\"\n",
    "for sp in (\"tarSyr2\",\"otoGar3\",\"micMur3\",\"proCoq1\"):\n",
    "\torder[sp] = \"primates\"\n",
    "for sp in (\"galVar1\",):\n",
    "\torder[sp] = \"primatomorpha\"\t\n",
    "for sp in (\"tupChi1\",\"jacJac1\",\"micOch1\",\"criGri1\",\"mesAur1\",\"perManBai1\",\"mm10\",\"HLmusCar1\",\"HLmusPah1\",\"rn6\",\"HLmerUng1\",\"nanGal1\",\"HLcasCan1\",\"HLdipOrd2\",\"hetGla2\",\"HLfukDam1\",\"cavPor3\",\"chiLan1\",\"octDeg1\",\"speTri2\",\"HLmarMar1\",\"oryCun2\",\"ochPri3\"): #rodents+primates\n",
    "\torder[sp] = \"euarchontoglires\"\n",
    "\n",
    "cetartiodactyla =(\"vicPac2\",\"HLcamFer2\",\"HLcamBac1\",\"HLcamDro1\",\"HLturTru3\",\"HLorcOrc1\",\"HLdelLeu1\",\"lipVex1\",\"phyCat1\",\"balAcu1\",\"HLbalMys1\",\"bosTau8\",\"HLbosInd1\",\"bisBis1\",\"bosMut1\",\"bubBub1\",\"HLoviAri4\",\"HLoviCan1\",\"HLcapHir2\",\"panHod1\",\"HLodoVir1\",\"HLcerEla1\",\"susScr11\")\n",
    "perissodactyla = (\"HLequCab3\",\"equPrz1\",\"HLequAsi1\",\"cerSim1\")\n",
    "ferae = (\"felCat8\",\"HLaciJub1\",\"panTig1\",\"HLpanPar1\",\"canFam3\",\"HLlycPic1\",\"musFur1\",\"HLenhLut1\",\"HLailFul1\",\"ailMel1\",\"ursMar1\",\"odoRosDiv1\",\"lepWed1\",\"neoSch1\",\"manPen1\",\"HLmanJav1\")\n",
    "chiroptera = (\"pteAle1\",\"HLpteVam2\",\"rouAeg1\",\"HLrhiSin1\",\"HLhipArm1\",\"eptFus1\",\"myoDav1\",\"myoBra1\",\"myoLuc2\",\"HLminNat1\",\"HLdesRot1\")\n",
    "eulipotyphla = (\"eriEur2\",\"sorAra2\",\"conCri1\")\n",
    "boreoeutheria = cetartiodactyla + perissodactyla + ferae + chiroptera + eulipotyphla\n",
    "\n",
    "for sp in boreoeutheria: #previous+euarchontoglires\n",
    "\torder[sp] = \"boreoeutheria\"\n",
    "for sp in (\"loxAfr3\",\"triMan1\",\"HLproCap2\",\"chrAsi1\",\"echTel2\",\"eleEdw1\",\"oryAfe1\",\"dasNov3\",\"HLchoHof2\"): #atlantogenata +boro\n",
    "\torder[sp] = \"placentalia\"\n",
    "for sp in (\"monDom5\",\"sarHar1\",\"HLphaCin1\",\"ornAna2\"): #nonplacental+rest\n",
    "\torder[sp] = \"mammal\"\n",
    "\n",
    "fan = {}\n",
    "maf = SeqIO.index(maf_path, \"fasta\")\n",
    "for n in maf:\n",
    "\tfan[n] = str(Seq(str(maf[n].seq).replace(\"-\",\"\"))).upper()"
   ]
  },
  {
   "cell_type": "code",
   "execution_count": 3,
   "id": "b1f58786",
   "metadata": {},
   "outputs": [
    {
     "data": {
      "text/plain": [
       "{'hg38': 'ATGCCGTCTATTCTTGACAGAAGTGCTTTATGTGGCACA',\n",
       " 'panTro5': 'ATGCCGTCTGTTCTTGACGGAAGTGCTGTTACGTGGCACA',\n",
       " 'gorGor5': 'ATGCCGTCTGTTCTTGACGGAAGTGCTGTTATGTGGCACA',\n",
       " 'ponAbe2': 'ATGCGGTCCATTCTTGACAGACGTGCTGTTATGTGGCACA',\n",
       " 'nomLeu3': 'ATGCCGTCTGTTCTTGACAGAAGTGCTGTTATATGGCACA',\n",
       " 'rheMac8': 'GTGCTCTCTTTTCCTGACAGAAGTGCTGTTATGTGGCACA',\n",
       " 'macFas5': 'GTGCTCTCTTTTCCTGACAGAAGTGCTGTTATGTGGCACA',\n",
       " 'macNem1': 'GTGCTCTCTTTTCCTGACAGAAGTGCTGTTATGTGGCACA',\n",
       " 'papAnu3': 'GTGCTCTCTTTTCCTGACAGAAGTGTTGTTATGTGGCACA',\n",
       " 'manLeu1': 'ATGCTCTCTGTTCCTGAGAGAAGTGTTGTTATGTGGCACA',\n",
       " 'cerAty1': 'ATGCTCTCTGTTCCTGAGAGAAGTGCTGTTATGTGGCACA',\n",
       " 'chlSab2': 'ATGCTCTCTGTTCCTGAGAGAAGTGCTGTTATGTGGCACA',\n",
       " 'rhiRox1': 'ATGCTCTCTGTTCCTGCCAGAAGTGCTGTTATGTGGCACA',\n",
       " 'rhiBie1': 'ATGCTCTCTGTTCCTGCCAGAAGTGCTGTTATGTGGCACA',\n",
       " 'colAng1': 'ATGCTCTCTGTTCCTGCCAGAATTGCTGTTATGTGGCACA',\n",
       " 'HLpilTep1': 'ATGCTCTCTGTTCCTGCCAGAAGTGCTGTTATGTGGCACA',\n",
       " 'calJac3': 'ATGCAGTCCGTTCTCGACAGAAGTGGCACA',\n",
       " 'aotNan1': 'GTGCGGTCCATTCTTGACAGAAGTGGCACG',\n",
       " 'saiBol1': 'ATGCGGTCCATTCTTGACAGAAGTGGCACA',\n",
       " 'cebCap1': 'ATGCGGTCCATTCTTGACAGAAGTGGCACA',\n",
       " 'tarSyr2': 'AAATACAGGCCGGGTGTGGTGGCTCACATCTGTGATCCCGCACTTTGGGAGGTCAAGGTGGGAGGATCACTTGAGCCCAGGAGTTTGAGAACAGCCTTGGCAACATAATGAGACCTCATCTGTACAAACAAAAAAAAGTTAGCCAGGCGTGATGGCATG',\n",
       " 'otoGar3': 'ATGCTCTGCATCATTCACCAAAATGTCATTGTGTGGCACA',\n",
       " 'micMur3': 'AGGCAGTGTGTCATTCACCAAAATGTCATTGTGTGGCACA',\n",
       " 'proCoq1': 'AGGCGGTGCGTCATGCACCAAAATGTCCTTGTGTGGCACA',\n",
       " 'galVar1': 'ATACACCCATGCACATACATATAAATACACGGCACA',\n",
       " 'jacJac1': 'ATGTATACTTCATACACATGTTCCATGTATACA',\n",
       " 'micOch1': 'ATGTACATTACGTAGCACA',\n",
       " 'criGri1': 'ATGTACATTGACATA',\n",
       " 'HLmerUng1': 'AGCTACGTGTA',\n",
       " 'nanGal1': 'ACTGGTGTACACACACCAGACATGCCCTTATATAAACCA',\n",
       " 'HLturTru3': 'TTGCCATTTTGCCATA'}"
      ]
     },
     "execution_count": 3,
     "metadata": {},
     "output_type": "execute_result"
    }
   ],
   "source": [
    "fan"
   ]
  },
  {
   "cell_type": "code",
   "execution_count": 4,
   "id": "238b4451",
   "metadata": {},
   "outputs": [],
   "source": [
    "# Generate all truncated protein if start is a ATG\n",
    "al_scodon = [\"ATG\", \"CTG\", \"ACG\", \"GTG\", \"TTG\", \"ATA\", \"ATC\", \"ATT\", \"AAG\", \"AGG\"]\n",
    "s = \"\"\n",
    "species = \"hg38\"\n",
    "trunc_file = prot_path.replace(\".fa\", \".trunc.fa\")\n",
    "if os.path.exists(trunc_file):\n",
    "\tos.remove(trunc_file)\n",
    "outs = open(prot_path.replace(\".fa\",\".trunc.fa\"),\"w+\")\n",
    "for line in open(prot_path):\n",
    "\ttru_seq = \"\"\n",
    "\tnew = -1\n",
    "\tif \">\" in line:\n",
    "\t\ts = line.split()[0].replace(\">\",\"\")\n",
    "\t\tspecies = s.split(\"_\")[2]\n",
    "\t\tfirst_scodon=fan[species][0:3]\n",
    "\t\tsecond_codon=fan[species][3:6]\n",
    "\t\tthird_codon=fan[species][6:9]\n",
    "\telse:\n",
    "\t\tfor n,c in enumerate(str(line).rstrip(\"\\n\")):\n",
    "\t\t\t# 如果第1-3个密码子的位置为可能的起始密码子中的一个，初始值new=-1\n",
    "\t\t\tif (first_scodon in al_scodon or second_codon in al_scodon or third_codon in al_scodon) and (new == -1): # in-frame window 6 nt downstream\n",
    "\t\t\t\touts.write(\">\" + s + \"_\" + str(n) + \"\\n\")\n",
    "\t\t\t\tnew = 1\n",
    "\t\t\t\ttru_seq += c\n",
    "\t\t\t# if stop\n",
    "\t\t\t# 继续读的过程中遇到了终止密码子\n",
    "\t\t\telif c == \"*\" and (new == 1):\n",
    "\t\t\t\ttru_seq += c\n",
    "\t\t\t\tnew = -1\n",
    "\t\t\t\touts.write(tru_seq + \"\\n\")\n",
    "\t\t\t\ttru_seq = \"\"\n",
    "\t\t\t\tbreak\n",
    "\t\t\t# if end of ortholog region\n",
    "\t\t\t# 如果读到了末尾还没有终止密码子\n",
    "\t\t\telif n == len(str(line).rstrip(\"\\n\"))-1 and (new == 1):\n",
    "\t\t\t\ttru_seq += c\n",
    "\t\t\t\tnew = -1\n",
    "\t\t\t\touts.write(tru_seq + \"\\n\")\n",
    "\t\t\telif new == 1:\n",
    "\t\t\t\ttru_seq += c\n",
    "outs.close()"
   ]
  },
  {
   "cell_type": "code",
   "execution_count": 5,
   "id": "f4e4f7d1",
   "metadata": {},
   "outputs": [
    {
     "data": {
      "text/plain": [
       "'/home/user/data3/lit/project/sORFs/05-denovo-status/analysis/in_house_human_brain_denovo_check_20250410/case/orfs/ENST00000514422.1+chr4__3589823-3589865.trunc.fa'"
      ]
     },
     "execution_count": 5,
     "metadata": {},
     "output_type": "execute_result"
    }
   ],
   "source": [
    "prot_tar\n",
    "trunc_file"
   ]
  },
  {
   "cell_type": "code",
   "execution_count": 6,
   "id": "3dae6bee",
   "metadata": {},
   "outputs": [],
   "source": [
    "fap = {}\n",
    "pep = SeqIO.index(trunc_file, \"fasta\")\n",
    "for n in pep:\n",
    "    species = n.split(\"_\")[2]\n",
    "    fap[species] = str(Seq(str(pep[n].seq).replace(\"-\",\"\"))).upper()"
   ]
  },
  {
   "cell_type": "code",
   "execution_count": 7,
   "id": "8dd4e3d3",
   "metadata": {},
   "outputs": [
    {
     "data": {
      "text/plain": [
       "{'hg38': 'MPSILDRSALCGT',\n",
       " 'panTro5': 'MPSVLDGSAVTWH',\n",
       " 'gorGor5': 'MPSVLDGSAVMWH',\n",
       " 'ponAbe2': 'MRSILDRRAVMWH',\n",
       " 'nomLeu3': 'MPSVLDRSAVIWH',\n",
       " 'rheMac8': 'VLSFPDRSAVMWH',\n",
       " 'macFas5': 'VLSFPDRSAVMWH',\n",
       " 'macNem1': 'VLSFPDRSAVMWH',\n",
       " 'papAnu3': 'VLSFPDRSVVMWH',\n",
       " 'manLeu1': 'MLSVPERSVVMWH',\n",
       " 'cerAty1': 'MLSVPERSAVMWH',\n",
       " 'chlSab2': 'MLSVPERSAVMWH',\n",
       " 'rhiRox1': 'MLSVPARSAVMWH',\n",
       " 'rhiBie1': 'MLSVPARSAVMWH',\n",
       " 'colAng1': 'MLSVPARIAVMWH',\n",
       " 'HLpilTep1': 'MLSVPARSAVMWH',\n",
       " 'calJac3': 'MQSVLDRSGT',\n",
       " 'aotNan1': 'VRSILDRSGT',\n",
       " 'saiBol1': 'MRSILDRSGT',\n",
       " 'cebCap1': 'MRSILDRSGT',\n",
       " 'tarSyr2': 'KYRPGVVAHICDPALWEVKVGGSLEPRSLRTALAT*',\n",
       " 'otoGar3': 'MLCIIHQNVIVWH',\n",
       " 'micMur3': 'RQCVIHQNVIVWH',\n",
       " 'proCoq1': 'RRCVMHQNVLVWH',\n",
       " 'galVar1': 'IHPCTYI*',\n",
       " 'jacJac1': 'MYTSYTCSMYT',\n",
       " 'micOch1': 'MYIT*',\n",
       " 'criGri1': 'MYIDI',\n",
       " 'HLmerUng1': 'SYV',\n",
       " 'HLturTru3': 'LPFCH'}"
      ]
     },
     "execution_count": 7,
     "metadata": {},
     "output_type": "execute_result"
    }
   ],
   "source": [
    "fap"
   ]
  },
  {
   "cell_type": "code",
   "execution_count": 8,
   "id": "2257ccf0",
   "metadata": {},
   "outputs": [
    {
     "name": "stdout",
     "output_type": "stream",
     "text": [
      "ENST00000514422.1+chr4:3589823-3589865_ENST00000514422.1+chr4:3589823-3589865_hg38_1.0_0: [100.0, 4.56e-08, 100.0]\n",
      "ENST00000514422.1+chr4:3589823-3589865_ENST00000514422.1+chr4:3589823-3589865_nomLeu3_1.0_0: [80.0, 7.41e-05, 77.0]\n",
      "This protein is hominoid-specific.\n"
     ]
    }
   ],
   "source": [
    "out = open(trunc_file.replace(\".trunc.fa\",\".all.prot_spec.out\"),\"w+\")\n",
    "out.write(\"orf_id\\tlineage\\tfarthest species\\tpident\\tevalue\\tqcovs\\n\")\n",
    "blastp = {}\n",
    "os.system(\"/home/user/data3/rbase/opt/ncbi-blast-2.14.0+/bin/blastp -query \" + prot_tar + \" -subject \" + trunc_file +\n",
    "\" -subject_besthit -outfmt \\\"6 qseqid sseqid pident length mismatch gapopen qstart qend qlen sstart send slen qcovs evalue bitscore\\\" >  \" + \n",
    "trunc_file.replace(\".fa\",\".blastp.out\"))\n",
    "# read blastp results\n",
    "for line in open(trunc_file.replace(\".fa\",\".blastp.out\")):\n",
    "\t# other species\n",
    "\tsseqid = line.split(\"\\t\")[1]\n",
    "\tif not sseqid in blastp:\n",
    "\t\tblastp[sseqid] = []\n",
    "\tpident = float(line.split(\"\\t\")[2])\n",
    "\tevalue = float(line.split(\"\\t\")[13])\n",
    "\tqcovs = float(line.split(\"\\t\")[12])\n",
    "\tblastp[sseqid].append(pident)\n",
    "\tblastp[sseqid].append(evalue)\n",
    "\tblastp[sseqid].append(qcovs)\n",
    "\n",
    "# Find farthest species and lineage\n",
    "far_sp = \"\"\n",
    "far_idx = 0\n",
    "ortho_pep_file = trunc_file.replace(\".trunc.fa\", \".ortholog.pep.fa\")\n",
    "ortho_nucl_file = trunc_file.replace(\".trunc.fa\", \".ortholog.nucl.fa\")\n",
    "if os.path.exists(ortho_pep_file):\n",
    "    os.remove(ortho_pep_file)\n",
    "if os.path.exists(ortho_nucl_file):\n",
    "    os.remove(ortho_nucl_file)\n",
    "outs_1 = open(ortho_pep_file,\"w+\")\n",
    "outs_2 = open(ortho_nucl_file,\"w+\")\n",
    "for k,v in blastp.items():\n",
    "    # 需要identity大于等于80且相似度大于70\n",
    "    if (v[0] >= 80) and (v[2] >= 70):\n",
    "        print(\"{0}: {1}\".format(k,v))\n",
    "        species = k.split(\"_\")[2]\n",
    "        i = lineages.index(order[species])\n",
    "        if i >= far_idx:\n",
    "            far_sp = k\n",
    "            far_idx = i\n",
    "        # 写入文件\n",
    "        outs_1.write(\">\" +species+\"\\n\"+fap[species]+\"\\n\")\n",
    "        outs_2.write(\">\" +species+\"\\n\"+fan[species]+\"\\n\")\n",
    "outs_1.close()\n",
    "outs_2.close()\n",
    "print(\"This protein is \" + lineages[far_idx] + \"-specific.\")\n",
    "orf_id = far_sp.split(\"_\")[0]\n",
    "pident = blastp[far_sp][0]\n",
    "evalue = blastp[far_sp][1]\n",
    "qcovs = blastp[far_sp][2]\n",
    "out.write(orf_id + \"\\t\" + lineages[far_idx] + \"\\t\" + str(far_sp) + \"\\t\" + str(pident) + \"\\t\" + str(evalue) + \"\\t\" + str(qcovs) + \"\\n\")\n",
    "\n",
    "out.close()"
   ]
  },
  {
   "cell_type": "code",
   "execution_count": 9,
   "id": "98fba754",
   "metadata": {},
   "outputs": [
    {
     "data": {
      "text/plain": [
       "0"
      ]
     },
     "execution_count": 9,
     "metadata": {},
     "output_type": "execute_result"
    }
   ],
   "source": [
    "lineages.index(\"human\")"
   ]
  },
  {
   "cell_type": "code",
   "execution_count": 10,
   "id": "028b522d",
   "metadata": {},
   "outputs": [
    {
     "data": {
      "text/plain": [
       "'ATGCCGTCTATTCTTGACAGAAGTGCTTTATGTGGCACA'"
      ]
     },
     "execution_count": 10,
     "metadata": {},
     "output_type": "execute_result"
    }
   ],
   "source": [
    "fan['hg38']\n"
   ]
  }
 ],
 "metadata": {
  "kernelspec": {
   "display_name": "denovo",
   "language": "python",
   "name": "denovo"
  },
  "language_info": {
   "codemirror_mode": {
    "name": "ipython",
    "version": 3
   },
   "file_extension": ".py",
   "mimetype": "text/x-python",
   "name": "python",
   "nbconvert_exporter": "python",
   "pygments_lexer": "ipython3",
   "version": "3.9.7"
  },
  "toc": {
   "base_numbering": 1,
   "nav_menu": {},
   "number_sections": true,
   "sideBar": true,
   "skip_h1_title": false,
   "title_cell": "Table of Contents",
   "title_sidebar": "Contents",
   "toc_cell": false,
   "toc_position": {},
   "toc_section_display": true,
   "toc_window_display": false
  }
 },
 "nbformat": 4,
 "nbformat_minor": 5
}
