{
 "cells": [
  {
   "cell_type": "code",
   "execution_count": 2,
   "id": "8a10a987",
   "metadata": {},
   "outputs": [],
   "source": [
    "from pyteomics import fasta, parser\n",
    "\n",
    "with open(\"./pep_digest/final_digest.fasta\", \"w\") as f_out:\n",
    "    for header, seq in fasta.read(\"./tmp.fa\"):\n",
    "        # 生成漏切0/1/2次的肽段\n",
    "        peptides = parser.cleave(\n",
    "            seq,\n",
    "            'trypsin',\n",
    "            missed_cleavages=2,  # 最大漏切2次\n",
    "            min_length=6,\n",
    "            max_length=50\n",
    "        )\n",
    "        for i, pep in enumerate(peptides):\n",
    "            f_out.write(f\">{header}_peptide{i+1}\\n{pep}\\n\")"
   ]
  },
  {
   "cell_type": "code",
   "execution_count": 7,
   "id": "fc760e84",
   "metadata": {},
   "outputs": [
    {
     "name": "stdout",
     "output_type": "stream",
     "text": [
      "实际运行时间: 0.06秒\n"
     ]
    }
   ],
   "source": [
    "import time\n",
    "from pyteomics import fasta, parser\n",
    "\n",
    "start_time = time.perf_counter()  # 高精度计时器[4,5](@ref)\n",
    "\n",
    "with open(\"./tmp.fa.1\", \"w\") as f_out:\n",
    "    for header, seq in fasta.read(\"./tmp.fa\"):\n",
    "        peptides = parser.cleave(seq, 'trypsin', missed_cleavages=2, min_length=6, max_length=50)\n",
    "        for i, pep in enumerate(peptides):\n",
    "            f_out.write(f\">{header}_peptide{i+1}\\n{pep}\\n\")\n",
    "\n",
    "elapsed = time.perf_counter() - start_time\n",
    "print(f\"实际运行时间: {elapsed:.2f}秒\")"
   ]
  },
  {
   "cell_type": "code",
   "execution_count": 8,
   "id": "92690a35",
   "metadata": {},
   "outputs": [],
   "source": [
    "peptides = parser.cleave(seq, 'trypsin', missed_cleavages=2, min_length=6, max_length=50)"
   ]
  },
  {
   "cell_type": "code",
   "execution_count": 9,
   "id": "fb1524af",
   "metadata": {
    "collapsed": true
   },
   "outputs": [
    {
     "data": {
      "text/plain": [
       "{'ACLGEPLAR',\n",
       " 'ACLGEPLARMELFLFFTSLLQHFSFSVAAGQPRPSHSR',\n",
       " 'AFLTQLDELLTEHR',\n",
       " 'AFLTQLDELLTEHRMTWDPAQPPR',\n",
       " 'AFLTQLDELLTEHRMTWDPAQPPRDLTEAFLAK',\n",
       " 'AKGSPESSFNDENLR',\n",
       " 'AKGSPESSFNDENLRIVVGNLFLAGMVTTSTTLAWGLLLMILHLDVQR',\n",
       " 'AVSNVIASLTCGR',\n",
       " 'AVSNVIASLTCGRR',\n",
       " 'AVSNVIASLTCGRRFEYDDPR',\n",
       " 'DEAVWK',\n",
       " 'DEAVWKKPFR',\n",
       " 'DEAVWKKPFRFHPEHFLDAQGHFVKPEAFLPFSAGR',\n",
       " 'DIEVQGFR',\n",
       " 'DIEVQGFRIPK',\n",
       " 'DIEVQGFRIPKGTTLITNLSSVLK',\n",
       " 'DLTEAFLAK',\n",
       " 'DLTEAFLAKK',\n",
       " 'DLTEAFLAKKEK',\n",
       " 'EAMVTR',\n",
       " 'EAMVTRGEDTADRPPAPIYQVLGFGPR',\n",
       " 'EAMVTRGEDTADRPPAPIYQVLGFGPRSQGVILSR',\n",
       " 'EESGFLR',\n",
       " 'EESGFLREVLNAVPVLPHIPALAGK',\n",
       " 'EESGFLREVLNAVPVLPHIPALAGKVLR',\n",
       " 'EKAKGSPESSFNDENLR',\n",
       " 'EQRRFSVSTLR',\n",
       " 'EVLNAVPVLPHIPALAGK',\n",
       " 'EVLNAVPVLPHIPALAGKVLR',\n",
       " 'EVLNAVPVLPHIPALAGKVLRFQK',\n",
       " 'FEYDDPR',\n",
       " 'FEYDDPRFLR',\n",
       " 'FEYDDPRFLRLLDLAQEGLK',\n",
       " 'FGDVFSLQLAWTPVVVLNGLAAVR',\n",
       " 'FGDVFSLQLAWTPVVVLNGLAAVREAMVTR',\n",
       " 'FHPEHFLDAQGHFVKPEAFLPFSAGR',\n",
       " 'FHPEHFLDAQGHFVKPEAFLPFSAGRR',\n",
       " 'FHPEHFLDAQGHFVKPEAFLPFSAGRRACLGEPLAR',\n",
       " 'FLRLLDLAQEGLK',\n",
       " 'FLRLLDLAQEGLKEESGFLR',\n",
       " 'FQKAFLTQLDELLTEHR',\n",
       " 'FQKAFLTQLDELLTEHRMTWDPAQPPR',\n",
       " 'FSVSTLR',\n",
       " 'FSVSTLRNLGLGK',\n",
       " 'FSVSTLRNLGLGKK',\n",
       " 'GEDTADRPPAPIYQVLGFGPR',\n",
       " 'GEDTADRPPAPIYQVLGFGPRSQGVILSR',\n",
       " 'GEDTADRPPAPIYQVLGFGPRSQGVILSRYGPAWR',\n",
       " 'GRRVSPGCPIVGTHVCPVR',\n",
       " 'GSPESSFNDENLR',\n",
       " 'GSPESSFNDENLRIVVGNLFLAGMVTTSTTLAWGLLLMILHLDVQR',\n",
       " 'GSPESSFNDENLRIVVGNLFLAGMVTTSTTLAWGLLLMILHLDVQRGR',\n",
       " 'GTTLITNLSSVLK',\n",
       " 'GTTLITNLSSVLKDEAVWK',\n",
       " 'GTTLITNLSSVLKDEAVWKKPFR',\n",
       " 'HQRWAAR',\n",
       " 'HQRWAARYPPGPLPLPGLGNLLHVDFQNTPYCFDQLR',\n",
       " 'IPKGTTLITNLSSVLK',\n",
       " 'IPKGTTLITNLSSVLKDEAVWK',\n",
       " 'IVVGNLFLAGMVTTSTTLAWGLLLMILHLDVQR',\n",
       " 'IVVGNLFLAGMVTTSTTLAWGLLLMILHLDVQRGR',\n",
       " 'IVVGNLFLAGMVTTSTTLAWGLLLMILHLDVQRGRR',\n",
       " 'KPFRFHPEHFLDAQGHFVKPEAFLPFSAGR',\n",
       " 'KPFRFHPEHFLDAQGHFVKPEAFLPFSAGRR',\n",
       " 'KSLEQWVTEEAACLCAAFADQAGRPFRPNGLLDK',\n",
       " 'KSLEQWVTEEAACLCAAFADQAGRPFRPNGLLDKAVSNVIASLTCGR',\n",
       " 'LLDLAQEGLK',\n",
       " 'LLDLAQEGLKEESGFLR',\n",
       " 'LLDLAQEGLKEESGFLREVLNAVPVLPHIPALAGK',\n",
       " 'MELFLFFTSLLQHFSFSVAAGQPRPSHSR',\n",
       " 'MELFLFFTSLLQHFSFSVAAGQPRPSHSRVVSFLVTPSPYELCAVPR',\n",
       " 'MGLEALVPLAMIVAIFLLLVDLMHR',\n",
       " 'MGLEALVPLAMIVAIFLLLVDLMHRHQR',\n",
       " 'MGLEALVPLAMIVAIFLLLVDLMHRHQRWAAR',\n",
       " 'MTWDPAQPPR',\n",
       " 'MTWDPAQPPRDLTEAFLAK',\n",
       " 'MTWDPAQPPRDLTEAFLAKK',\n",
       " 'NLGLGK',\n",
       " 'NLGLGKK',\n",
       " 'NLGLGKKSLEQWVTEEAACLCAAFADQAGRPFRPNGLLDK',\n",
       " 'RACLGEPLAR',\n",
       " 'RACLGEPLARMELFLFFTSLLQHFSFSVAAGQPRPSHSR',\n",
       " 'RFEYDDPR',\n",
       " 'RFEYDDPRFLR',\n",
       " 'RFGDVFSLQLAWTPVVVLNGLAAVR',\n",
       " 'RFGDVFSLQLAWTPVVVLNGLAAVREAMVTR',\n",
       " 'RFSVSTLR',\n",
       " 'RFSVSTLRNLGLGK',\n",
       " 'RPEMGDQAHMPCTTAVIHEVQHFGDIVPLGVTHMTSR',\n",
       " 'RPEMGDQAHMPCTTAVIHEVQHFGDIVPLGVTHMTSRDIEVQGFR',\n",
       " 'RPEMGDQAHMPCTTAVIHEVQHFGDIVPLGVTHMTSRDIEVQGFRIPK',\n",
       " 'RRFGDVFSLQLAWTPVVVLNGLAAVR',\n",
       " 'RVSPGCPIVGTHVCPVR',\n",
       " 'RVSPGCPIVGTHVCPVRVQQEIDDVIGQVR',\n",
       " 'SLEQWVTEEAACLCAAFADQAGRPFRPNGLLDK',\n",
       " 'SLEQWVTEEAACLCAAFADQAGRPFRPNGLLDKAVSNVIASLTCGR',\n",
       " 'SLEQWVTEEAACLCAAFADQAGRPFRPNGLLDKAVSNVIASLTCGRR',\n",
       " 'SQGVILSR',\n",
       " 'SQGVILSRYGPAWR',\n",
       " 'SQGVILSRYGPAWREQR',\n",
       " 'VLRFQK',\n",
       " 'VLRFQKAFLTQLDELLTEHR',\n",
       " 'VQQEIDDVIGQVR',\n",
       " 'VQQEIDDVIGQVRRPEMGDQAHMPCTTAVIHEVQHFGDIVPLGVTHMTSR',\n",
       " 'VSPGCPIVGTHVCPVR',\n",
       " 'VSPGCPIVGTHVCPVRVQQEIDDVIGQVR',\n",
       " 'VVSFLVTPSPYELCAVPR',\n",
       " 'WAARYPPGPLPLPGLGNLLHVDFQNTPYCFDQLR',\n",
       " 'WAARYPPGPLPLPGLGNLLHVDFQNTPYCFDQLRR',\n",
       " 'YGPAWR',\n",
       " 'YGPAWREQR',\n",
       " 'YGPAWREQRR',\n",
       " 'YPPGPLPLPGLGNLLHVDFQNTPYCFDQLR',\n",
       " 'YPPGPLPLPGLGNLLHVDFQNTPYCFDQLRR',\n",
       " 'YPPGPLPLPGLGNLLHVDFQNTPYCFDQLRRR'}"
      ]
     },
     "execution_count": 9,
     "metadata": {},
     "output_type": "execute_result"
    }
   ],
   "source": [
    "peptides"
   ]
  },
  {
   "cell_type": "code",
   "execution_count": 6,
   "id": "93c53274",
   "metadata": {},
   "outputs": [
    {
     "name": "stdout",
     "output_type": "stream",
     "text": [
      "实际运行时间: 0.08秒\n"
     ]
    }
   ],
   "source": [
    "import time\n",
    "from pyteomics import fasta, parser\n",
    "\n",
    "start_time = time.perf_counter()  # 高精度计时器[4,5](@ref)\n",
    "\n",
    "with open(\"./output/S1/in_house_sep.digested.peptide.fa\", \"w\") as f_out:\n",
    "    for header, seq in fasta.read(\"./output/S1/in_house_sep.fa\"):\n",
    "        peptides = parser.cleave(seq, 'trypsin', missed_cleavages=2, min_length=6, max_length=50)\n",
    "        for i, pep in enumerate(peptides):\n",
    "            f_out.write(f\">{header}_peptide{i+1}\\n{pep}\\n\")\n",
    "\n",
    "elapsed = time.perf_counter() - start_time\n",
    "print(f\"实际运行时间: {elapsed:.2f}秒\")"
   ]
  }
 ],
 "metadata": {
  "kernelspec": {
   "display_name": "Python 3 (ipykernel)",
   "language": "python",
   "name": "python3"
  },
  "language_info": {
   "codemirror_mode": {
    "name": "ipython",
    "version": 3
   },
   "file_extension": ".py",
   "mimetype": "text/x-python",
   "name": "python",
   "nbconvert_exporter": "python",
   "pygments_lexer": "ipython3",
   "version": "3.9.12"
  },
  "toc": {
   "base_numbering": 1,
   "nav_menu": {},
   "number_sections": true,
   "sideBar": true,
   "skip_h1_title": false,
   "title_cell": "Table of Contents",
   "title_sidebar": "Contents",
   "toc_cell": false,
   "toc_position": {},
   "toc_section_display": true,
   "toc_window_display": false
  }
 },
 "nbformat": 4,
 "nbformat_minor": 5
}
