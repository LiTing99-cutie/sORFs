{
 "cells": [
  {
   "cell_type": "code",
   "execution_count": 3,
   "id": "ac8348c4",
   "metadata": {},
   "outputs": [],
   "source": [
    "# 1.加载R包\n",
    "source(\"/home/user/data2/lit/bin/lit_utils.R\")\n",
    "source(\"/home/user/data3/lit/project/sORFs/sORFs.utils.R\")\n",
    "lib_text()"
   ]
  },
  {
   "cell_type": "code",
   "execution_count": 4,
   "id": "857cdb14",
   "metadata": {},
   "outputs": [],
   "source": [
    "fread(\"output/S1/out_list.txt\",fill = TRUE,skip=2) -> peptide_match"
   ]
  },
  {
   "cell_type": "code",
   "execution_count": 5,
   "id": "494db50b",
   "metadata": {
    "collapsed": true
   },
   "outputs": [
    {
     "data": {
      "text/html": [
       "<table class=\"dataframe\">\n",
       "<caption>A data.table: 891 × 2</caption>\n",
       "<thead>\n",
       "\t<tr><th scope=col>V1</th><th scope=col>V2</th></tr>\n",
       "\t<tr><th scope=col>&lt;chr&gt;</th><th scope=col>&lt;chr&gt;</th></tr>\n",
       "</thead>\n",
       "<tbody>\n",
       "\t<tr><td>WRGMKNEEHCPGSFFLCKIRECVLNYR        </td><td>match to annotated protein</td></tr>\n",
       "\t<tr><td>ISSMSSLTGIMR                       </td><td>match to annotated protein</td></tr>\n",
       "\t<tr><td>WILRDR                             </td><td>match to annotated protein</td></tr>\n",
       "\t<tr><td>QEEEDILDVR                         </td><td>match to annotated protein</td></tr>\n",
       "\t<tr><td>FRFWSNPYFQNKVIVK                   </td><td>match to annotated protein</td></tr>\n",
       "\t<tr><td>QPILKTVKASDEDCQLRISDR              </td><td>match to annotated protein</td></tr>\n",
       "\t<tr><td>HSRTGCKFKFR                        </td><td>match to annotated protein</td></tr>\n",
       "\t<tr><td>DEDMLCYLMNLEVR                     </td><td>match to annotated protein</td></tr>\n",
       "\t<tr><td>EAGGRGSLHPAAGPGTAFPSPGR            </td><td>match to annotated protein</td></tr>\n",
       "\t<tr><td>NQIVTDPDNLMEDAAWAK                 </td><td>match to annotated protein</td></tr>\n",
       "\t<tr><td>HTQKKCNQCLDCGKYFTR                 </td><td>match to annotated protein</td></tr>\n",
       "\t<tr><td>GPLPGYFKVSEMTISQEPK                </td><td>match to annotated protein</td></tr>\n",
       "\t<tr><td>PNGGRLPMKVALMMSDFAGGA              </td><td>match to annotated protein</td></tr>\n",
       "\t<tr><td>NAAEITDKLGLHSLR                    </td><td>match to annotated protein</td></tr>\n",
       "\t<tr><td>KESRGEKVRRGR                       </td><td>match to annotated protein</td></tr>\n",
       "\t<tr><td>EPREEPGSPLSPAPR                    </td><td>match to annotated protein</td></tr>\n",
       "\t<tr><td>RECSRR                             </td><td>match to annotated protein</td></tr>\n",
       "\t<tr><td>EEEKLDRLIAIGEEASAQQDTANELRRDAVIAVRR</td><td>match to annotated protein</td></tr>\n",
       "\t<tr><td>GYVDDTQFVR                         </td><td>match to annotated protein</td></tr>\n",
       "\t<tr><td>MHRLYLAR                           </td><td>match to annotated protein</td></tr>\n",
       "\t<tr><td>IQSHPR                             </td><td>match to annotated protein</td></tr>\n",
       "\t<tr><td>RMQQEGFRRTERQCRSKF                 </td><td>match to annotated protein</td></tr>\n",
       "\t<tr><td>LNPLVR                             </td><td>match to annotated protein</td></tr>\n",
       "\t<tr><td>VAQIIK                             </td><td>match to annotated protein</td></tr>\n",
       "\t<tr><td>VDDTQFVR                           </td><td>match to annotated protein</td></tr>\n",
       "\t<tr><td>RTIAAELAENR                        </td><td>match to annotated protein</td></tr>\n",
       "\t<tr><td>DEDMLCYLMNLEVRELRHSRTGCK           </td><td>match to annotated protein</td></tr>\n",
       "\t<tr><td>KRQQHPK                            </td><td>match to annotated protein</td></tr>\n",
       "\t<tr><td>RMQQEGFRRTER                       </td><td>match to annotated protein</td></tr>\n",
       "\t<tr><td>EEASAQQDTANELR                     </td><td>match to annotated protein</td></tr>\n",
       "\t<tr><td>⋮</td><td>⋮</td></tr>\n",
       "\t<tr><td>GGGSPATPEDPRSPAK              </td><td>match to annotated protein</td></tr>\n",
       "\t<tr><td>DAPLKDGTPEPK                  </td><td>match to annotated protein</td></tr>\n",
       "\t<tr><td>LSPEEQFLSRIHFLR               </td><td>match to annotated protein</td></tr>\n",
       "\t<tr><td>GIGLPGPNPSPMSR                </td><td>match to annotated protein</td></tr>\n",
       "\t<tr><td>SNLESHR                       </td><td>match to annotated protein</td></tr>\n",
       "\t<tr><td>DAPLKDGTPEPKS                 </td><td>match to annotated protein</td></tr>\n",
       "\t<tr><td>EGREPGLETGTQAADCKDAPLKDGTPEPKS</td><td>match to annotated protein</td></tr>\n",
       "\t<tr><td>EPGLETGTQAADCK                </td><td>match to annotated protein</td></tr>\n",
       "\t<tr><td>DGTPEPKS                      </td><td>match to annotated protein</td></tr>\n",
       "\t<tr><td>INNQVEKSINDASSVSTAQR          </td><td>match to annotated protein</td></tr>\n",
       "\t<tr><td>GGGSPATPEDPR                  </td><td>match to annotated protein</td></tr>\n",
       "\t<tr><td>HQIIHLGEK                     </td><td>match to annotated protein</td></tr>\n",
       "\t<tr><td>HAGNKPIK                      </td><td>match to annotated protein</td></tr>\n",
       "\t<tr><td>FGNTIVHGVLINGLISALLGTK        </td><td>match to annotated protein</td></tr>\n",
       "\t<tr><td>ALSPLSK                       </td><td>match to annotated protein</td></tr>\n",
       "\t<tr><td>PSLRRRP                       </td><td>match to annotated protein</td></tr>\n",
       "\t<tr><td>ATGLQGPSPTTFPR                </td><td>match to annotated protein</td></tr>\n",
       "\t<tr><td>DYLQLLRK                      </td><td>match to annotated protein</td></tr>\n",
       "\t<tr><td>FRDAFTQELR                    </td><td>match to annotated protein</td></tr>\n",
       "\t<tr><td>ALSGLAVRL                     </td><td>match to annotated protein</td></tr>\n",
       "\t<tr><td>AAPASDSGGSQQSPSSSPGSREGAGVAAK </td><td>match to annotated protein</td></tr>\n",
       "\t<tr><td>CIFIHHHT                      </td><td>match to annotated protein</td></tr>\n",
       "\t<tr><td>DDLQTNVEIIPGESAPR             </td><td>match to annotated protein</td></tr>\n",
       "\t<tr><td>IVELHQRIAGCECC                </td><td>match to annotated protein</td></tr>\n",
       "\t<tr><td>LEEEDIK                       </td><td>match to annotated protein</td></tr>\n",
       "\t<tr><td>MLKMSGWQRQSQNQSWNLR           </td><td>match to annotated protein</td></tr>\n",
       "\t<tr><td>PFTPGLADPR                    </td><td>match to annotated protein</td></tr>\n",
       "\t<tr><td>PGPVHFIDK                     </td><td>match to annotated protein</td></tr>\n",
       "\t<tr><td>TPRHHCEAYSSAGEEEEEEEEEK       </td><td>match to annotated protein</td></tr>\n",
       "\t<tr><td>VGLPGLK                       </td><td>match to annotated protein</td></tr>\n",
       "</tbody>\n",
       "</table>\n"
      ],
      "text/latex": [
       "A data.table: 891 × 2\n",
       "\\begin{tabular}{ll}\n",
       " V1 & V2\\\\\n",
       " <chr> & <chr>\\\\\n",
       "\\hline\n",
       "\t WRGMKNEEHCPGSFFLCKIRECVLNYR         & match to annotated protein\\\\\n",
       "\t ISSMSSLTGIMR                        & match to annotated protein\\\\\n",
       "\t WILRDR                              & match to annotated protein\\\\\n",
       "\t QEEEDILDVR                          & match to annotated protein\\\\\n",
       "\t FRFWSNPYFQNKVIVK                    & match to annotated protein\\\\\n",
       "\t QPILKTVKASDEDCQLRISDR               & match to annotated protein\\\\\n",
       "\t HSRTGCKFKFR                         & match to annotated protein\\\\\n",
       "\t DEDMLCYLMNLEVR                      & match to annotated protein\\\\\n",
       "\t EAGGRGSLHPAAGPGTAFPSPGR             & match to annotated protein\\\\\n",
       "\t NQIVTDPDNLMEDAAWAK                  & match to annotated protein\\\\\n",
       "\t HTQKKCNQCLDCGKYFTR                  & match to annotated protein\\\\\n",
       "\t GPLPGYFKVSEMTISQEPK                 & match to annotated protein\\\\\n",
       "\t PNGGRLPMKVALMMSDFAGGA               & match to annotated protein\\\\\n",
       "\t NAAEITDKLGLHSLR                     & match to annotated protein\\\\\n",
       "\t KESRGEKVRRGR                        & match to annotated protein\\\\\n",
       "\t EPREEPGSPLSPAPR                     & match to annotated protein\\\\\n",
       "\t RECSRR                              & match to annotated protein\\\\\n",
       "\t EEEKLDRLIAIGEEASAQQDTANELRRDAVIAVRR & match to annotated protein\\\\\n",
       "\t GYVDDTQFVR                          & match to annotated protein\\\\\n",
       "\t MHRLYLAR                            & match to annotated protein\\\\\n",
       "\t IQSHPR                              & match to annotated protein\\\\\n",
       "\t RMQQEGFRRTERQCRSKF                  & match to annotated protein\\\\\n",
       "\t LNPLVR                              & match to annotated protein\\\\\n",
       "\t VAQIIK                              & match to annotated protein\\\\\n",
       "\t VDDTQFVR                            & match to annotated protein\\\\\n",
       "\t RTIAAELAENR                         & match to annotated protein\\\\\n",
       "\t DEDMLCYLMNLEVRELRHSRTGCK            & match to annotated protein\\\\\n",
       "\t KRQQHPK                             & match to annotated protein\\\\\n",
       "\t RMQQEGFRRTER                        & match to annotated protein\\\\\n",
       "\t EEASAQQDTANELR                      & match to annotated protein\\\\\n",
       "\t ⋮ & ⋮\\\\\n",
       "\t GGGSPATPEDPRSPAK               & match to annotated protein\\\\\n",
       "\t DAPLKDGTPEPK                   & match to annotated protein\\\\\n",
       "\t LSPEEQFLSRIHFLR                & match to annotated protein\\\\\n",
       "\t GIGLPGPNPSPMSR                 & match to annotated protein\\\\\n",
       "\t SNLESHR                        & match to annotated protein\\\\\n",
       "\t DAPLKDGTPEPKS                  & match to annotated protein\\\\\n",
       "\t EGREPGLETGTQAADCKDAPLKDGTPEPKS & match to annotated protein\\\\\n",
       "\t EPGLETGTQAADCK                 & match to annotated protein\\\\\n",
       "\t DGTPEPKS                       & match to annotated protein\\\\\n",
       "\t INNQVEKSINDASSVSTAQR           & match to annotated protein\\\\\n",
       "\t GGGSPATPEDPR                   & match to annotated protein\\\\\n",
       "\t HQIIHLGEK                      & match to annotated protein\\\\\n",
       "\t HAGNKPIK                       & match to annotated protein\\\\\n",
       "\t FGNTIVHGVLINGLISALLGTK         & match to annotated protein\\\\\n",
       "\t ALSPLSK                        & match to annotated protein\\\\\n",
       "\t PSLRRRP                        & match to annotated protein\\\\\n",
       "\t ATGLQGPSPTTFPR                 & match to annotated protein\\\\\n",
       "\t DYLQLLRK                       & match to annotated protein\\\\\n",
       "\t FRDAFTQELR                     & match to annotated protein\\\\\n",
       "\t ALSGLAVRL                      & match to annotated protein\\\\\n",
       "\t AAPASDSGGSQQSPSSSPGSREGAGVAAK  & match to annotated protein\\\\\n",
       "\t CIFIHHHT                       & match to annotated protein\\\\\n",
       "\t DDLQTNVEIIPGESAPR              & match to annotated protein\\\\\n",
       "\t IVELHQRIAGCECC                 & match to annotated protein\\\\\n",
       "\t LEEEDIK                        & match to annotated protein\\\\\n",
       "\t MLKMSGWQRQSQNQSWNLR            & match to annotated protein\\\\\n",
       "\t PFTPGLADPR                     & match to annotated protein\\\\\n",
       "\t PGPVHFIDK                      & match to annotated protein\\\\\n",
       "\t TPRHHCEAYSSAGEEEEEEEEEK        & match to annotated protein\\\\\n",
       "\t VGLPGLK                        & match to annotated protein\\\\\n",
       "\\end{tabular}\n"
      ],
      "text/markdown": [
       "\n",
       "A data.table: 891 × 2\n",
       "\n",
       "| V1 &lt;chr&gt; | V2 &lt;chr&gt; |\n",
       "|---|---|\n",
       "| WRGMKNEEHCPGSFFLCKIRECVLNYR         | match to annotated protein |\n",
       "| ISSMSSLTGIMR                        | match to annotated protein |\n",
       "| WILRDR                              | match to annotated protein |\n",
       "| QEEEDILDVR                          | match to annotated protein |\n",
       "| FRFWSNPYFQNKVIVK                    | match to annotated protein |\n",
       "| QPILKTVKASDEDCQLRISDR               | match to annotated protein |\n",
       "| HSRTGCKFKFR                         | match to annotated protein |\n",
       "| DEDMLCYLMNLEVR                      | match to annotated protein |\n",
       "| EAGGRGSLHPAAGPGTAFPSPGR             | match to annotated protein |\n",
       "| NQIVTDPDNLMEDAAWAK                  | match to annotated protein |\n",
       "| HTQKKCNQCLDCGKYFTR                  | match to annotated protein |\n",
       "| GPLPGYFKVSEMTISQEPK                 | match to annotated protein |\n",
       "| PNGGRLPMKVALMMSDFAGGA               | match to annotated protein |\n",
       "| NAAEITDKLGLHSLR                     | match to annotated protein |\n",
       "| KESRGEKVRRGR                        | match to annotated protein |\n",
       "| EPREEPGSPLSPAPR                     | match to annotated protein |\n",
       "| RECSRR                              | match to annotated protein |\n",
       "| EEEKLDRLIAIGEEASAQQDTANELRRDAVIAVRR | match to annotated protein |\n",
       "| GYVDDTQFVR                          | match to annotated protein |\n",
       "| MHRLYLAR                            | match to annotated protein |\n",
       "| IQSHPR                              | match to annotated protein |\n",
       "| RMQQEGFRRTERQCRSKF                  | match to annotated protein |\n",
       "| LNPLVR                              | match to annotated protein |\n",
       "| VAQIIK                              | match to annotated protein |\n",
       "| VDDTQFVR                            | match to annotated protein |\n",
       "| RTIAAELAENR                         | match to annotated protein |\n",
       "| DEDMLCYLMNLEVRELRHSRTGCK            | match to annotated protein |\n",
       "| KRQQHPK                             | match to annotated protein |\n",
       "| RMQQEGFRRTER                        | match to annotated protein |\n",
       "| EEASAQQDTANELR                      | match to annotated protein |\n",
       "| ⋮ | ⋮ |\n",
       "| GGGSPATPEDPRSPAK               | match to annotated protein |\n",
       "| DAPLKDGTPEPK                   | match to annotated protein |\n",
       "| LSPEEQFLSRIHFLR                | match to annotated protein |\n",
       "| GIGLPGPNPSPMSR                 | match to annotated protein |\n",
       "| SNLESHR                        | match to annotated protein |\n",
       "| DAPLKDGTPEPKS                  | match to annotated protein |\n",
       "| EGREPGLETGTQAADCKDAPLKDGTPEPKS | match to annotated protein |\n",
       "| EPGLETGTQAADCK                 | match to annotated protein |\n",
       "| DGTPEPKS                       | match to annotated protein |\n",
       "| INNQVEKSINDASSVSTAQR           | match to annotated protein |\n",
       "| GGGSPATPEDPR                   | match to annotated protein |\n",
       "| HQIIHLGEK                      | match to annotated protein |\n",
       "| HAGNKPIK                       | match to annotated protein |\n",
       "| FGNTIVHGVLINGLISALLGTK         | match to annotated protein |\n",
       "| ALSPLSK                        | match to annotated protein |\n",
       "| PSLRRRP                        | match to annotated protein |\n",
       "| ATGLQGPSPTTFPR                 | match to annotated protein |\n",
       "| DYLQLLRK                       | match to annotated protein |\n",
       "| FRDAFTQELR                     | match to annotated protein |\n",
       "| ALSGLAVRL                      | match to annotated protein |\n",
       "| AAPASDSGGSQQSPSSSPGSREGAGVAAK  | match to annotated protein |\n",
       "| CIFIHHHT                       | match to annotated protein |\n",
       "| DDLQTNVEIIPGESAPR              | match to annotated protein |\n",
       "| IVELHQRIAGCECC                 | match to annotated protein |\n",
       "| LEEEDIK                        | match to annotated protein |\n",
       "| MLKMSGWQRQSQNQSWNLR            | match to annotated protein |\n",
       "| PFTPGLADPR                     | match to annotated protein |\n",
       "| PGPVHFIDK                      | match to annotated protein |\n",
       "| TPRHHCEAYSSAGEEEEEEEEEK        | match to annotated protein |\n",
       "| VGLPGLK                        | match to annotated protein |\n",
       "\n"
      ],
      "text/plain": [
       "    V1                                  V2                        \n",
       "1   WRGMKNEEHCPGSFFLCKIRECVLNYR         match to annotated protein\n",
       "2   ISSMSSLTGIMR                        match to annotated protein\n",
       "3   WILRDR                              match to annotated protein\n",
       "4   QEEEDILDVR                          match to annotated protein\n",
       "5   FRFWSNPYFQNKVIVK                    match to annotated protein\n",
       "6   QPILKTVKASDEDCQLRISDR               match to annotated protein\n",
       "7   HSRTGCKFKFR                         match to annotated protein\n",
       "8   DEDMLCYLMNLEVR                      match to annotated protein\n",
       "9   EAGGRGSLHPAAGPGTAFPSPGR             match to annotated protein\n",
       "10  NQIVTDPDNLMEDAAWAK                  match to annotated protein\n",
       "11  HTQKKCNQCLDCGKYFTR                  match to annotated protein\n",
       "12  GPLPGYFKVSEMTISQEPK                 match to annotated protein\n",
       "13  PNGGRLPMKVALMMSDFAGGA               match to annotated protein\n",
       "14  NAAEITDKLGLHSLR                     match to annotated protein\n",
       "15  KESRGEKVRRGR                        match to annotated protein\n",
       "16  EPREEPGSPLSPAPR                     match to annotated protein\n",
       "17  RECSRR                              match to annotated protein\n",
       "18  EEEKLDRLIAIGEEASAQQDTANELRRDAVIAVRR match to annotated protein\n",
       "19  GYVDDTQFVR                          match to annotated protein\n",
       "20  MHRLYLAR                            match to annotated protein\n",
       "21  IQSHPR                              match to annotated protein\n",
       "22  RMQQEGFRRTERQCRSKF                  match to annotated protein\n",
       "23  LNPLVR                              match to annotated protein\n",
       "24  VAQIIK                              match to annotated protein\n",
       "25  VDDTQFVR                            match to annotated protein\n",
       "26  RTIAAELAENR                         match to annotated protein\n",
       "27  DEDMLCYLMNLEVRELRHSRTGCK            match to annotated protein\n",
       "28  KRQQHPK                             match to annotated protein\n",
       "29  RMQQEGFRRTER                        match to annotated protein\n",
       "30  EEASAQQDTANELR                      match to annotated protein\n",
       "⋮   ⋮                                   ⋮                         \n",
       "862 GGGSPATPEDPRSPAK                    match to annotated protein\n",
       "863 DAPLKDGTPEPK                        match to annotated protein\n",
       "864 LSPEEQFLSRIHFLR                     match to annotated protein\n",
       "865 GIGLPGPNPSPMSR                      match to annotated protein\n",
       "866 SNLESHR                             match to annotated protein\n",
       "867 DAPLKDGTPEPKS                       match to annotated protein\n",
       "868 EGREPGLETGTQAADCKDAPLKDGTPEPKS      match to annotated protein\n",
       "869 EPGLETGTQAADCK                      match to annotated protein\n",
       "870 DGTPEPKS                            match to annotated protein\n",
       "871 INNQVEKSINDASSVSTAQR                match to annotated protein\n",
       "872 GGGSPATPEDPR                        match to annotated protein\n",
       "873 HQIIHLGEK                           match to annotated protein\n",
       "874 HAGNKPIK                            match to annotated protein\n",
       "875 FGNTIVHGVLINGLISALLGTK              match to annotated protein\n",
       "876 ALSPLSK                             match to annotated protein\n",
       "877 PSLRRRP                             match to annotated protein\n",
       "878 ATGLQGPSPTTFPR                      match to annotated protein\n",
       "879 DYLQLLRK                            match to annotated protein\n",
       "880 FRDAFTQELR                          match to annotated protein\n",
       "881 ALSGLAVRL                           match to annotated protein\n",
       "882 AAPASDSGGSQQSPSSSPGSREGAGVAAK       match to annotated protein\n",
       "883 CIFIHHHT                            match to annotated protein\n",
       "884 DDLQTNVEIIPGESAPR                   match to annotated protein\n",
       "885 IVELHQRIAGCECC                      match to annotated protein\n",
       "886 LEEEDIK                             match to annotated protein\n",
       "887 MLKMSGWQRQSQNQSWNLR                 match to annotated protein\n",
       "888 PFTPGLADPR                          match to annotated protein\n",
       "889 PGPVHFIDK                           match to annotated protein\n",
       "890 TPRHHCEAYSSAGEEEEEEEEEK             match to annotated protein\n",
       "891 VGLPGLK                             match to annotated protein"
      ]
     },
     "metadata": {},
     "output_type": "display_data"
    }
   ],
   "source": [
    "filter(peptide_match,grepl(\"^sp\",V2)) -> match_to_annotated\n",
    "match_to_annotated %>% distinct(V1) %>% mutate(V2=\"match to annotated protein\") -> match_to_annotated_1\n",
    "match_to_annotated_1"
   ]
  },
  {
   "cell_type": "code",
   "execution_count": 6,
   "id": "e5316ee0",
   "metadata": {},
   "outputs": [
    {
     "name": "stderr",
     "output_type": "stream",
     "text": [
      "Warning message in fread(\"./output/S1/match_n.txt\", header = FALSE):\n",
      "“Stopped early on line 2690. Expected 2 fields but found 0. Consider fill=TRUE and comment.char=. First discarded non-empty line: <<Query is finished.>>”\n"
     ]
    }
   ],
   "source": [
    "fread(\"./output/S1/match_n.txt\",header = FALSE) -> match_info\n",
    "match_info %>% filter(V2==\"has no match\") -> no_match\n",
    "match_info %>% filter(V2==\"has 1 match\") -> unique_match\n",
    "unique_match %>% filter(!V1 %in% match_to_annotated_1$V1) -> unique_match_to_sorfs"
   ]
  },
  {
   "cell_type": "code",
   "execution_count": 7,
   "id": "8419837e",
   "metadata": {},
   "outputs": [
    {
     "data": {
      "text/plain": [
       "\n",
       "               has 1 match               has no match \n",
       "                       124                        192 \n",
       "match to annotated protein \n",
       "                       891 "
      ]
     },
     "metadata": {},
     "output_type": "display_data"
    },
    {
     "data": {
      "text/html": [
       "2686"
      ],
      "text/latex": [
       "2686"
      ],
      "text/markdown": [
       "2686"
      ],
      "text/plain": [
       "[1] 2686"
      ]
     },
     "metadata": {},
     "output_type": "display_data"
    },
    {
     "data": {
      "text/html": [
       "2686"
      ],
      "text/latex": [
       "2686"
      ],
      "text/markdown": [
       "2686"
      ],
      "text/plain": [
       "[1] 2686"
      ]
     },
     "metadata": {},
     "output_type": "display_data"
    }
   ],
   "source": [
    "rbind(no_match,unique_match_to_sorfs) %>% rbind(match_to_annotated_1) -> res\n",
    "table(res$V2)\n",
    "nrow(match_info)\n",
    "length(unique(peptide_match$V1))"
   ]
  },
  {
   "cell_type": "code",
   "execution_count": 8,
   "id": "5d7860fc",
   "metadata": {},
   "outputs": [
    {
     "data": {
      "text/html": [
       "1479"
      ],
      "text/latex": [
       "1479"
      ],
      "text/markdown": [
       "1479"
      ],
      "text/plain": [
       "[1] 1479"
      ]
     },
     "metadata": {},
     "output_type": "display_data"
    }
   ],
   "source": [
    "match_info$V1[!match_info$V1 %in% res$V1] %>% length()"
   ]
  },
  {
   "cell_type": "code",
   "execution_count": 9,
   "id": "190ba9f3",
   "metadata": {},
   "outputs": [],
   "source": [
    "fread_c(\"../03-Cross-anna/analysis/annotate_ms_orfs_20250401/output/sep_add_overlap_pro_filter.txt\") -> in_house_res"
   ]
  },
  {
   "cell_type": "code",
   "execution_count": null,
   "id": "f3528cd8",
   "metadata": {},
   "outputs": [],
   "source": [
    "merge(unique_match_to_sorfs,peptide_match,by=\"V1\")\n",
    "intersect(in_house_res$ORF_id_trans,unique_match_to_sorfs$V2)"
   ]
  },
  {
   "cell_type": "code",
   "execution_count": null,
   "id": "b39a71d4",
   "metadata": {},
   "outputs": [],
   "source": [
    "head(unique_match_to_sorfs$V1)"
   ]
  }
 ],
 "metadata": {
  "kernelspec": {
   "display_name": "R_default_4.2",
   "language": "R",
   "name": "r_default_4.2"
  },
  "language_info": {
   "codemirror_mode": "r",
   "file_extension": ".r",
   "mimetype": "text/x-r-source",
   "name": "R",
   "pygments_lexer": "r",
   "version": "4.2.1"
  },
  "toc": {
   "base_numbering": 1,
   "nav_menu": {},
   "number_sections": true,
   "sideBar": true,
   "skip_h1_title": false,
   "title_cell": "Table of Contents",
   "title_sidebar": "Contents",
   "toc_cell": false,
   "toc_position": {},
   "toc_section_display": true,
   "toc_window_display": false
  }
 },
 "nbformat": 4,
 "nbformat_minor": 5
}
