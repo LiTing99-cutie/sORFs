{
 "cells": [
  {
   "cell_type": "code",
   "execution_count": 4,
   "metadata": {},
   "outputs": [
    {
     "name": "stdout",
     "output_type": "stream",
     "text": [
      "已成功保存前1000条谱图到 ./mgf_test_c8/CAD20250514licq_BSEP_DDA_60min_21pcw_1_C8_T_T_Slot2-3_1_7020_uncalibrated.top.1k.mgf\n"
     ]
    }
   ],
   "source": [
    "from pyteomics import mgf\n",
    "\n",
    "input_file = './mgf_test_c8/CAD20250514licq_BSEP_DDA_60min_21pcw_1_C8_T_T_Slot2-3_1_7020_uncalibrated.mgf'\n",
    "output_file = './mgf_test_c8/CAD20250514licq_BSEP_DDA_60min_21pcw_1_C8_T_T_Slot2-3_1_7020_uncalibrated.top.1k.mgf'\n",
    "\n",
    "# 正确读取并截取前1000条谱图\n",
    "with mgf.read(input_file) as reader:\n",
    "    top_1000 = [spectrum for i, spectrum in enumerate(reader) if i < 1000]\n",
    "\n",
    "# 正确写入新文件（关键修复）\n",
    "mgf.write(top_1000, output=output_file)  # 参数顺序：先数据，后输出路径\n",
    "print(f\"已成功保存前1000条谱图到 {output_file}\")"
   ]
  }
 ],
 "metadata": {
  "kernelspec": {
   "display_name": "Python 3 (ipykernel)",
   "language": "python",
   "name": "python3"
  },
  "language_info": {
   "codemirror_mode": {
    "name": "ipython",
    "version": 3
   },
   "file_extension": ".py",
   "mimetype": "text/x-python",
   "name": "python",
   "nbconvert_exporter": "python",
   "pygments_lexer": "ipython3",
   "version": "3.9.12"
  },
  "toc": {
   "base_numbering": 1,
   "nav_menu": {},
   "number_sections": true,
   "sideBar": true,
   "skip_h1_title": false,
   "title_cell": "Table of Contents",
   "title_sidebar": "Contents",
   "toc_cell": false,
   "toc_position": {},
   "toc_section_display": true,
   "toc_window_display": false
  }
 },
 "nbformat": 4,
 "nbformat_minor": 2
}
