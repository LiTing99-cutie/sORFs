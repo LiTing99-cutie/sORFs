{
 "cells": [
  {
   "cell_type": "code",
   "execution_count": 26,
   "id": "5c2a5d40",
   "metadata": {},
   "outputs": [],
   "source": [
    "# 输入转录本id,ORF在基因组上的起始位点和终止位点，以及注释的genePred（包括组装的转录本），得到小肽的genePred，后续可以用于生成protein fasta序列的gtf文件\n",
    "#Usage: python Generate_genepred_PRICE.py *.orfs.tsv gencode.*.annotation.genePred.txt nonCano.formatted.gpe \n",
    "\n",
    "import sys\n",
    "import pandas as pd\n",
    "import numpy as np\n",
    "\n",
    "# 输入文件\n",
    "# inputfile_1 = pd.read_csv(sys.argv[1], sep='\\t', header='infer')\n",
    "inputfile_1 = pd.read_csv(\"./gen_genepred/essen_info_to_gen_genepred.sorfs.txt\", sep='\\t', header='infer')\n",
    "# inputfile_2 = pd.read_csv(sys.argv[2], sep='\\t', header=None)\n",
    "inputfile_2 = pd.read_csv(\"/home/user/data3/lit/project/sORFs/01-ribo-seq/output/assembled_trans/stringtie_output/gencode.vM29.add_assemble.genePred.txt\", sep='\\t', header=None)\n",
    "\n",
    "# 合并，构建genepred\n",
    "merged_dataset=pd.merge(inputfile_1,inputfile_2,how='left',left_on=\"ENS_id\",right_on=0)\n",
    "final_genepred=merged_dataset.loc[:,[\"Protein\",1,2,3,4,\"Start\",\"End\",7,8,9]]\n",
    "for col in [3,4,7]:\n",
    "    final_genepred.iloc[:, col] = final_genepred.iloc[:, col].astype(int) \n",
    "# 导出结果\n",
    "# outputfile=sys.argv[3]\n",
    "outputfile=\"./gen_genepred/essen_info_to_gen_genepred.sorfs.gpe\"\n",
    "final_genepred.to_csv(outputfile,header=False,index=False,sep='\\t')"
   ]
  }
 ],
 "metadata": {
  "kernelspec": {
   "display_name": "Python 3 (ipykernel)",
   "language": "python",
   "name": "python3"
  },
  "language_info": {
   "codemirror_mode": {
    "name": "ipython",
    "version": 3
   },
   "file_extension": ".py",
   "mimetype": "text/x-python",
   "name": "python",
   "nbconvert_exporter": "python",
   "pygments_lexer": "ipython3",
   "version": "3.9.12"
  },
  "toc": {
   "base_numbering": 1,
   "nav_menu": {},
   "number_sections": true,
   "sideBar": true,
   "skip_h1_title": false,
   "title_cell": "Table of Contents",
   "title_sidebar": "Contents",
   "toc_cell": false,
   "toc_position": {},
   "toc_section_display": true,
   "toc_window_display": false
  }
 },
 "nbformat": 4,
 "nbformat_minor": 5
}
