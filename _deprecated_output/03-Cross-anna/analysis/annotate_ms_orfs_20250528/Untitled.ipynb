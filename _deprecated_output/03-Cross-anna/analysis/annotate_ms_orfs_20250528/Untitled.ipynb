{
 "cells": [
  {
   "cell_type": "code",
   "execution_count": null,
   "id": "d9b90fc6",
   "metadata": {},
   "outputs": [],
   "source": [
    "source(\"/home/user/data2/lit/bin/lit_utils.R\")\n",
    "source(\"/home/user/data3/lit/project/sORFs/sORFs.utils.R\")\n",
    "lib_text()"
   ]
  },
  {
   "cell_type": "code",
   "execution_count": null,
   "id": "458dcb27",
   "metadata": {},
   "outputs": [],
   "source": [
    "fread(\"/home/user/data3/lit/project/sORFs/02-Mass-spec/transferred_from_galaxy/20250528/psm_sep_all.txt\") -> psm"
   ]
  },
  {
   "cell_type": "code",
   "execution_count": null,
   "id": "a33bd2fe",
   "metadata": {},
   "outputs": [],
   "source": [
    "# head(psm)\n",
    "colnames(psm)\n",
    "match(\"Protein\",colnames(psm))\n",
    "match(\"Protein\",psm$Protein)"
   ]
  },
  {
   "cell_type": "code",
   "execution_count": null,
   "id": "d3a2dd0e",
   "metadata": {},
   "outputs": [],
   "source": [
    "psm[593375:nrow(psm),] -> psm_1"
   ]
  },
  {
   "cell_type": "code",
   "execution_count": null,
   "id": "6c1a1c38",
   "metadata": {},
   "outputs": [],
   "source": [
    "psm_1[!grepl(\"^ENS\",psm_1$Protein),]"
   ]
  },
  {
   "cell_type": "code",
   "execution_count": null,
   "id": "7aaecd49",
   "metadata": {},
   "outputs": [],
   "source": [
    "head(psm_1)\n",
    "n_distinct(psm_1$Protein)"
   ]
  },
  {
   "cell_type": "code",
   "execution_count": null,
   "id": "4775e33c",
   "metadata": {},
   "outputs": [],
   "source": [
    "psm %>% filter(grepl(\"^ENS\",Protein)) -> psm_2\n",
    "n_distinct(psm_2$Protein)"
   ]
  }
 ],
 "metadata": {
  "kernelspec": {
   "display_name": "R_default_4.2",
   "language": "R",
   "name": "r_default_4.2"
  },
  "language_info": {
   "codemirror_mode": "r",
   "file_extension": ".r",
   "mimetype": "text/x-r-source",
   "name": "R",
   "pygments_lexer": "r",
   "version": "4.2.1"
  },
  "toc": {
   "base_numbering": 1,
   "nav_menu": {},
   "number_sections": true,
   "sideBar": true,
   "skip_h1_title": false,
   "title_cell": "Table of Contents",
   "title_sidebar": "Contents",
   "toc_cell": false,
   "toc_position": {},
   "toc_section_display": true,
   "toc_window_display": false
  }
 },
 "nbformat": 4,
 "nbformat_minor": 5
}
